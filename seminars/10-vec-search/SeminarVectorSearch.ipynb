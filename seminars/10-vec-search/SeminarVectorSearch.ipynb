{
 "cells": [
  {
   "cell_type": "code",
   "execution_count": 2,
   "id": "83c55b8e",
   "metadata": {},
   "outputs": [],
   "source": [
    "import warnings\n",
    "warnings.filterwarnings('ignore')\n",
    "import pandas as pd\n",
    "import numpy as np\n",
    "from tqdm import tqdm\n",
    "import os\n",
    "os.environ['TF_CPP_MIN_LOG_LEVEL'] = '1' \n",
    "import datasets\n",
    "from datasets import load_dataset\n",
    "import tensorflow as tf\n",
    "import tensorflow_hub as hub\n",
    "from collections import defaultdict"
   ]
  },
  {
   "cell_type": "code",
   "execution_count": 3,
   "id": "1397c651",
   "metadata": {},
   "outputs": [
    {
     "name": "stderr",
     "output_type": "stream",
     "text": [
      "Downloading data: 100%|██████████| 288M/288M [01:16<00:00, 3.76MB/s] \n",
      "Downloading data: 100%|██████████| 288M/288M [01:01<00:00, 4.68MB/s] \n",
      "Downloading data: 100%|██████████| 288M/288M [01:00<00:00, 4.79MB/s] \n",
      "Downloading data: 100%|██████████| 288M/288M [01:00<00:00, 4.74MB/s] \n",
      "Downloading data: 100%|██████████| 288M/288M [01:02<00:00, 4.62MB/s] \n",
      "Downloading data: 100%|██████████| 156M/156M [00:34<00:00, 4.51MB/s] \n",
      "Downloading data: 100%|██████████| 242k/242k [00:03<00:00, 65.8kB/s]\n",
      "Downloading data: 100%|██████████| 5.99k/5.99k [00:03<00:00, 1.84kB/s]\n",
      "Downloading data: 100%|██████████| 6.52k/6.52k [00:05<00:00, 1.27kB/s]\n"
     ]
    },
    {
     "data": {
      "application/vnd.jupyter.widget-view+json": {
       "model_id": "dcb38746e37b440ba2862b8e7eb6467e",
       "version_major": 2,
       "version_minor": 0
      },
      "text/plain": [
       "Generating train split:   0%|          | 0/400782 [00:00<?, ? examples/s]"
      ]
     },
     "metadata": {},
     "output_type": "display_data"
    },
    {
     "data": {
      "application/vnd.jupyter.widget-view+json": {
       "model_id": "978342adacc6418f9f3a30efeaa322be",
       "version_major": 2,
       "version_minor": 0
      },
      "text/plain": [
       "Generating dev split:   0%|          | 0/6980 [00:00<?, ? examples/s]"
      ]
     },
     "metadata": {},
     "output_type": "display_data"
    },
    {
     "data": {
      "application/vnd.jupyter.widget-view+json": {
       "model_id": "94de23a1fd8f4ca5b50928b7d1274bbc",
       "version_major": 2,
       "version_minor": 0
      },
      "text/plain": [
       "Generating dl19 split:   0%|          | 0/43 [00:00<?, ? examples/s]"
      ]
     },
     "metadata": {},
     "output_type": "display_data"
    },
    {
     "data": {
      "application/vnd.jupyter.widget-view+json": {
       "model_id": "8e3ab548e6d941659dd7db3a3db74c19",
       "version_major": 2,
       "version_minor": 0
      },
      "text/plain": [
       "Generating dl20 split:   0%|          | 0/54 [00:00<?, ? examples/s]"
      ]
     },
     "metadata": {},
     "output_type": "display_data"
    }
   ],
   "source": [
    "msmarco_dataset = load_dataset(\"Tevatron/msmarco-passage\")"
   ]
  },
  {
   "cell_type": "markdown",
   "id": "61784510",
   "metadata": {},
   "source": [
    "Готовим датасет, выбираем из него небольшой сэмпл"
   ]
  },
  {
   "cell_type": "code",
   "execution_count": 4,
   "id": "2eba5923",
   "metadata": {},
   "outputs": [],
   "source": [
    "rows = []\n",
    "i = -1\n",
    "j = -1\n",
    "for row in msmarco_dataset['train']:\n",
    "    i += 1\n",
    "    qid = i\n",
    "    query = row['query']\n",
    "    for pos_ex in row['positive_passages']:\n",
    "        j += 1\n",
    "        docid = j\n",
    "        title = pos_ex['title']\n",
    "        text = pos_ex['text']\n",
    "        mark = 1\n",
    "        rows.append([qid, query, docid, title, text, mark])\n",
    "    for neg_ex in row['negative_passages']:\n",
    "        j += 1\n",
    "        docid = j\n",
    "        title = neg_ex['title']\n",
    "        text = neg_ex['text']\n",
    "        mark = 0\n",
    "        rows.append([qid, query, docid, title, text, mark])\n",
    "df = pd.DataFrame(rows, columns=['qid', 'query', 'docid', 'title', 'text', 'mark'])\n",
    "df.to_csv('train_passages.csv', index=False)"
   ]
  },
  {
   "cell_type": "code",
   "execution_count": 3,
   "id": "61a3af27",
   "metadata": {},
   "outputs": [],
   "source": [
    "df = pd.read_csv(\"train_passages.csv\")\n",
    "df = df[:62000]\n",
    "df.to_csv('sample_passages.csv', index=False)"
   ]
  },
  {
   "cell_type": "code",
   "execution_count": 3,
   "id": "b65e0d8e",
   "metadata": {},
   "outputs": [],
   "source": [
    "df = pd.read_csv(\"sample_passages.csv\")"
   ]
  },
  {
   "cell_type": "code",
   "execution_count": 4,
   "id": "cc8011d5",
   "metadata": {},
   "outputs": [
    {
     "data": {
      "text/html": [
       "<div>\n",
       "<style scoped>\n",
       "    .dataframe tbody tr th:only-of-type {\n",
       "        vertical-align: middle;\n",
       "    }\n",
       "\n",
       "    .dataframe tbody tr th {\n",
       "        vertical-align: top;\n",
       "    }\n",
       "\n",
       "    .dataframe thead th {\n",
       "        text-align: right;\n",
       "    }\n",
       "</style>\n",
       "<table border=\"1\" class=\"dataframe\">\n",
       "  <thead>\n",
       "    <tr style=\"text-align: right;\">\n",
       "      <th></th>\n",
       "      <th>qid</th>\n",
       "      <th>query</th>\n",
       "      <th>docid</th>\n",
       "      <th>title</th>\n",
       "      <th>text</th>\n",
       "      <th>mark</th>\n",
       "    </tr>\n",
       "  </thead>\n",
       "  <tbody>\n",
       "    <tr>\n",
       "      <th>0</th>\n",
       "      <td>0</td>\n",
       "      <td>where is whitemarsh island</td>\n",
       "      <td>0</td>\n",
       "      <td>Whitemarsh Island, Georgia</td>\n",
       "      <td>Whitemarsh Island, Georgia. Whitemarsh Island ...</td>\n",
       "      <td>1</td>\n",
       "    </tr>\n",
       "    <tr>\n",
       "      <th>1</th>\n",
       "      <td>0</td>\n",
       "      <td>where is whitemarsh island</td>\n",
       "      <td>1</td>\n",
       "      <td>What military strategy was used in the pacific?</td>\n",
       "      <td>the strategy of island hopping was used by the...</td>\n",
       "      <td>0</td>\n",
       "    </tr>\n",
       "    <tr>\n",
       "      <th>2</th>\n",
       "      <td>0</td>\n",
       "      <td>where is whitemarsh island</td>\n",
       "      <td>2</td>\n",
       "      <td>Whakaari / White Island</td>\n",
       "      <td>For the island near Dunedin, see White Island,...</td>\n",
       "      <td>0</td>\n",
       "    </tr>\n",
       "    <tr>\n",
       "      <th>3</th>\n",
       "      <td>0</td>\n",
       "      <td>where is whitemarsh island</td>\n",
       "      <td>3</td>\n",
       "      <td>Jekyll Island</td>\n",
       "      <td>Jekyll Island, at 5,700 acres, is the smallest...</td>\n",
       "      <td>0</td>\n",
       "    </tr>\n",
       "    <tr>\n",
       "      <th>4</th>\n",
       "      <td>0</td>\n",
       "      <td>where is whitemarsh island</td>\n",
       "      <td>4</td>\n",
       "      <td>Sibu Island</td>\n",
       "      <td>Sibu Island. A scuba diver at Sibu Island. Sib...</td>\n",
       "      <td>0</td>\n",
       "    </tr>\n",
       "    <tr>\n",
       "      <th>...</th>\n",
       "      <td>...</td>\n",
       "      <td>...</td>\n",
       "      <td>...</td>\n",
       "      <td>...</td>\n",
       "      <td>...</td>\n",
       "      <td>...</td>\n",
       "    </tr>\n",
       "    <tr>\n",
       "      <th>61995</th>\n",
       "      <td>2015</td>\n",
       "      <td>where does the word sociology derived</td>\n",
       "      <td>61995</td>\n",
       "      <td>Iron: historical information</td>\n",
       "      <td>Origin of name: from the Anglo-Saxon word  iro...</td>\n",
       "      <td>0</td>\n",
       "    </tr>\n",
       "    <tr>\n",
       "      <th>61996</th>\n",
       "      <td>2015</td>\n",
       "      <td>where does the word sociology derived</td>\n",
       "      <td>61996</td>\n",
       "      <td>Occult</td>\n",
       "      <td>The occult world is more detailed than what ma...</td>\n",
       "      <td>0</td>\n",
       "    </tr>\n",
       "    <tr>\n",
       "      <th>61997</th>\n",
       "      <td>2015</td>\n",
       "      <td>where does the word sociology derived</td>\n",
       "      <td>61997</td>\n",
       "      <td>-</td>\n",
       "      <td>social. adj. 1. (Sociology) living or preferri...</td>\n",
       "      <td>0</td>\n",
       "    </tr>\n",
       "    <tr>\n",
       "      <th>61998</th>\n",
       "      <td>2016</td>\n",
       "      <td>where in italy is marble mined</td>\n",
       "      <td>61998</td>\n",
       "      <td>Carrara marble</td>\n",
       "      <td>Carrara marble (sometimes mistakenly Carrera m...</td>\n",
       "      <td>1</td>\n",
       "    </tr>\n",
       "    <tr>\n",
       "      <th>61999</th>\n",
       "      <td>2016</td>\n",
       "      <td>where in italy is marble mined</td>\n",
       "      <td>61999</td>\n",
       "      <td>Marble</td>\n",
       "      <td>Marble is a metamorphic rock that comes from m...</td>\n",
       "      <td>0</td>\n",
       "    </tr>\n",
       "  </tbody>\n",
       "</table>\n",
       "<p>62000 rows × 6 columns</p>\n",
       "</div>"
      ],
      "text/plain": [
       "        qid                                  query  docid  \\\n",
       "0         0             where is whitemarsh island      0   \n",
       "1         0             where is whitemarsh island      1   \n",
       "2         0             where is whitemarsh island      2   \n",
       "3         0             where is whitemarsh island      3   \n",
       "4         0             where is whitemarsh island      4   \n",
       "...     ...                                    ...    ...   \n",
       "61995  2015  where does the word sociology derived  61995   \n",
       "61996  2015  where does the word sociology derived  61996   \n",
       "61997  2015  where does the word sociology derived  61997   \n",
       "61998  2016         where in italy is marble mined  61998   \n",
       "61999  2016         where in italy is marble mined  61999   \n",
       "\n",
       "                                                 title  \\\n",
       "0                           Whitemarsh Island, Georgia   \n",
       "1      What military strategy was used in the pacific?   \n",
       "2                              Whakaari / White Island   \n",
       "3                                        Jekyll Island   \n",
       "4                                          Sibu Island   \n",
       "...                                                ...   \n",
       "61995                     Iron: historical information   \n",
       "61996                                           Occult   \n",
       "61997                                                -   \n",
       "61998                                   Carrara marble   \n",
       "61999                                           Marble   \n",
       "\n",
       "                                                    text  mark  \n",
       "0      Whitemarsh Island, Georgia. Whitemarsh Island ...     1  \n",
       "1      the strategy of island hopping was used by the...     0  \n",
       "2      For the island near Dunedin, see White Island,...     0  \n",
       "3      Jekyll Island, at 5,700 acres, is the smallest...     0  \n",
       "4      Sibu Island. A scuba diver at Sibu Island. Sib...     0  \n",
       "...                                                  ...   ...  \n",
       "61995  Origin of name: from the Anglo-Saxon word  iro...     0  \n",
       "61996  The occult world is more detailed than what ma...     0  \n",
       "61997  social. adj. 1. (Sociology) living or preferri...     0  \n",
       "61998  Carrara marble (sometimes mistakenly Carrera m...     1  \n",
       "61999  Marble is a metamorphic rock that comes from m...     0  \n",
       "\n",
       "[62000 rows x 6 columns]"
      ]
     },
     "execution_count": 4,
     "metadata": {},
     "output_type": "execute_result"
    }
   ],
   "source": [
    "df"
   ]
  },
  {
   "cell_type": "code",
   "execution_count": 5,
   "id": "19034986",
   "metadata": {},
   "outputs": [],
   "source": [
    "tmp = [(x, y, z) for x, y, z in zip(df['qid'], df['docid'], df['mark'])]\n",
    "marks_dct = defaultdict(lambda: 0)\n",
    "for elem in tmp:\n",
    "    marks_dct[(elem[0], elem[1])] = elem[2]\n",
    "tmp = [(x, y) for x, y in zip(df['qid'], df['query'])]\n",
    "qid_dct = dict()\n",
    "for elem in tmp:\n",
    "    qid_dct[elem[0]] = elem[1]\n",
    "tmp = [(x, y) for x, y in zip(df['docid'], df['text'])]\n",
    "docid_dct = dict()\n",
    "for elem in tmp:\n",
    "    docid_dct[elem[0]] = elem[1]"
   ]
  },
  {
   "cell_type": "markdown",
   "id": "a335b1a9",
   "metadata": {},
   "source": [
    "Генерим эмбеддинги запросов и документов с помощью universal-sentence-encoder"
   ]
  },
  {
   "cell_type": "code",
   "execution_count": 6,
   "id": "cb41eb29",
   "metadata": {},
   "outputs": [],
   "source": [
    "embed = hub.load(\"https://tfhub.dev/google/universal-sentence-encoder/4\")"
   ]
  },
  {
   "cell_type": "code",
   "execution_count": 8,
   "id": "a8071118",
   "metadata": {},
   "outputs": [
    {
     "name": "stderr",
     "output_type": "stream",
     "text": [
      "100%|██████████| 62000/62000 [02:54<00:00, 356.14it/s]\n"
     ]
    }
   ],
   "source": [
    "text_mat = []\n",
    "for txt in tqdm(df['text'].values):\n",
    "    emb = embed([txt])\n",
    "    text_mat.append(emb[0].numpy().tolist())\n",
    "text_mat = np.array(text_mat)\n",
    "with open('text_embs.npy', 'wb') as f:\n",
    "    np.save(f, text_mat)"
   ]
  },
  {
   "cell_type": "code",
   "execution_count": 9,
   "id": "46fb5d70",
   "metadata": {},
   "outputs": [
    {
     "name": "stderr",
     "output_type": "stream",
     "text": [
      "100%|██████████| 2017/2017 [00:05<00:00, 368.64it/s]\n"
     ]
    }
   ],
   "source": [
    "query_mat = []\n",
    "for txt in tqdm(df['query'].unique()):\n",
    "    emb = embed([txt])\n",
    "    query_mat.append(emb[0].numpy().tolist())\n",
    "query_mat = np.array(query_mat)\n",
    "with open('query_embs.npy', 'wb') as f:\n",
    "    np.save(f, query_mat)"
   ]
  },
  {
   "cell_type": "markdown",
   "id": "97edcf64",
   "metadata": {},
   "source": [
    "# Annoy Index"
   ]
  },
  {
   "cell_type": "code",
   "execution_count": 10,
   "id": "00db6ea0",
   "metadata": {},
   "outputs": [],
   "source": [
    "from annoy import AnnoyIndex"
   ]
  },
  {
   "cell_type": "markdown",
   "id": "172a59fd",
   "metadata": {},
   "source": [
    "Подгружаем матрицы эмбеддингов и запросов"
   ]
  },
  {
   "cell_type": "code",
   "execution_count": 7,
   "id": "6f91d9aa",
   "metadata": {},
   "outputs": [],
   "source": [
    "with open('text_embs.npy', 'rb') as f:\n",
    "    text_mat = np.load(f)\n",
    "with open('query_embs.npy', 'rb') as f:\n",
    "    query_mat = np.load(f)"
   ]
  },
  {
   "cell_type": "markdown",
   "id": "e171da57",
   "metadata": {},
   "source": [
    "Строим annoy-index"
   ]
  },
  {
   "cell_type": "code",
   "execution_count": 12,
   "id": "125211d9",
   "metadata": {},
   "outputs": [
    {
     "data": {
      "text/plain": [
       "True"
      ]
     },
     "execution_count": 12,
     "metadata": {},
     "output_type": "execute_result"
    }
   ],
   "source": [
    "index = AnnoyIndex(f=512, metric='euclidean')\n",
    "for i, vec in enumerate(text_mat):\n",
    "    index.add_item(i, vec)\n",
    "\n",
    "index.build(n_trees=500)\n",
    "index.save('sample500.ann')"
   ]
  },
  {
   "cell_type": "markdown",
   "id": "8f3c5798",
   "metadata": {},
   "source": [
    "Можем подгрузить сохраненный индекс"
   ]
  },
  {
   "cell_type": "code",
   "execution_count": 13,
   "id": "d42534a5",
   "metadata": {},
   "outputs": [
    {
     "data": {
      "text/plain": [
       "True"
      ]
     },
     "execution_count": 13,
     "metadata": {},
     "output_type": "execute_result"
    }
   ],
   "source": [
    "index = AnnoyIndex(f=512, metric='euclidean')\n",
    "index.load('sample500.ann')"
   ]
  },
  {
   "cell_type": "markdown",
   "id": "6bbef81c",
   "metadata": {},
   "source": [
    "Можем посмотреть число векторов в индексе"
   ]
  },
  {
   "cell_type": "code",
   "execution_count": 14,
   "id": "ef6057cd",
   "metadata": {},
   "outputs": [
    {
     "data": {
      "text/plain": [
       "62000"
      ]
     },
     "execution_count": 14,
     "metadata": {},
     "output_type": "execute_result"
    }
   ],
   "source": [
    "index.get_n_items()"
   ]
  },
  {
   "cell_type": "markdown",
   "id": "81775d0d",
   "metadata": {},
   "source": [
    "И число деревьев тоже"
   ]
  },
  {
   "cell_type": "code",
   "execution_count": 15,
   "id": "39a7466c",
   "metadata": {},
   "outputs": [
    {
     "data": {
      "text/plain": [
       "500"
      ]
     },
     "execution_count": 15,
     "metadata": {},
     "output_type": "execute_result"
    }
   ],
   "source": [
    "index.get_n_trees()"
   ]
  },
  {
   "cell_type": "markdown",
   "id": "d39c5874",
   "metadata": {},
   "source": [
    "Можем извлечь вектор из индекса по его id-шнику"
   ]
  },
  {
   "cell_type": "code",
   "execution_count": 16,
   "id": "5b30081a",
   "metadata": {
    "scrolled": true
   },
   "outputs": [
    {
     "name": "stdout",
     "output_type": "stream",
     "text": [
      "[-0.00297327  0.0545827  -0.05818895 -0.01492311  0.01144736  0.0019332\n",
      " -0.00420693  0.00692477  0.05769333 -0.04039248  0.03380095  0.0400895\n",
      "  0.04650482  0.01297525 -0.06679863  0.03822379  0.02235539 -0.05634981\n",
      " -0.06879866 -0.02300976  0.02059659  0.02564199  0.04864797 -0.03183704\n",
      " -0.04407287  0.06361139  0.00856677 -0.01863407 -0.02258668 -0.01980644\n",
      "  0.0365736  -0.03256752  0.04562656 -0.04256786 -0.02479954  0.06052412\n",
      "  0.02535084  0.0643217   0.03513807  0.01715632 -0.06640255  0.06147098\n",
      "  0.06270671  0.03005228 -0.06418815 -0.00060343 -0.01845443 -0.05733818\n",
      " -0.05583275 -0.06011843 -0.03889617 -0.05329921 -0.06104665 -0.05905021\n",
      "  0.00549478 -0.00646507 -0.06712613 -0.06074841  0.06571183 -0.01807469\n",
      " -0.05440898 -0.03270794  0.06587218  0.01605206  0.00452937 -0.05750464\n",
      "  0.04454014  0.02807301  0.01064477 -0.06699127 -0.04881263  0.03539284\n",
      "  0.07076441  0.05984703 -0.06951405  0.06280245 -0.0161358  -0.01943418\n",
      "  0.00852432 -0.03037275  0.00745942  0.03254579  0.05102611 -0.02133468\n",
      "  0.02983051 -0.03901872  0.05227132 -0.07289256 -0.01288199  0.00575628\n",
      "  0.01974122 -0.01154797  0.05651737  0.06746485 -0.06313744  0.04901397\n",
      "  0.00713393 -0.05955683  0.05447806 -0.01232766  0.05387529  0.0583448\n",
      "  0.04145662 -0.04447549 -0.03907989 -0.01933609  0.03613364 -0.04680648\n",
      " -0.03274727 -0.01040529 -0.05033597 -0.04768901  0.028633    0.03766215\n",
      "  0.03217822  0.02297549 -0.07194156 -0.02250114  0.05864429 -0.02255381\n",
      "  0.02716272 -0.03934613 -0.02207773  0.02132248  0.03858833  0.07141618\n",
      "  0.04695218  0.0221956   0.04358843  0.04522225  0.02989282  0.00530591\n",
      "  0.0157043   0.05745957  0.05332797  0.01325784  0.02631668 -0.02696767\n",
      " -0.00763937 -0.03949177 -0.03886413  0.07269946 -0.01539847 -0.00783132\n",
      "  0.00244288  0.02981867  0.04018897 -0.04319856  0.05642077  0.04552829\n",
      " -0.06870615 -0.02616484 -0.02984351  0.05007393  0.06372388  0.01280594\n",
      "  0.01988165  0.05571486  0.00106013  0.06259608 -0.0626376  -0.06804998\n",
      "  0.02511804  0.00321751  0.06619803 -0.03858863  0.07292355 -0.03893844\n",
      " -0.07160814 -0.03165418  0.05716371  0.04706176  0.03827596  0.05321834\n",
      " -0.00452873 -0.00398044  0.05819851 -0.01604999 -0.05515547 -0.01401693\n",
      " -0.05330942 -0.00924035  0.00308627 -0.07197825  0.02453484 -0.03791521\n",
      "  0.01526181  0.02090294  0.00382772 -0.01279622  0.05582153 -0.01255979\n",
      " -0.02202157 -0.02356637  0.06583262 -0.04255075 -0.02031024  0.02614857\n",
      "  0.0688051  -0.03282307  0.00117625  0.05495336 -0.03541511 -0.06023907\n",
      " -0.06036115  0.0598234  -0.02273126  0.02893354  0.05777308 -0.05468386\n",
      " -0.02152088 -0.00725068  0.04111291 -0.03117433 -0.02455257  0.02312899\n",
      "  0.05310279  0.06023188  0.01237008 -0.06689046 -0.03043679 -0.04008847\n",
      "  0.01436589 -0.07070074  0.00651568 -0.03130531  0.01937881  0.04064898\n",
      " -0.053481    0.0141786   0.04463923 -0.04667712 -0.00052315 -0.07274326\n",
      "  0.03743863  0.06961572  0.03895332  0.06382873 -0.04684607  0.06259157\n",
      " -0.03754745 -0.06741984  0.01142289 -0.05527983 -0.02940735 -0.05467026\n",
      "  0.01685576 -0.04931686  0.01729104  0.03239409  0.05243707 -0.06307691\n",
      " -0.0518616  -0.01968451  0.02392592 -0.05537266  0.0682058   0.07215352\n",
      " -0.01564486  0.04169308  0.00285399 -0.00856274  0.04467859  0.00030966\n",
      " -0.0614863   0.01593004 -0.02798856  0.00828687 -0.06456709 -0.03080714\n",
      "  0.00632579  0.05814765  0.02551208  0.00710324  0.04938203 -0.04336304\n",
      " -0.05953253  0.06523807  0.03870153  0.04526173 -0.06778359  0.06218274\n",
      " -0.01255007  0.07090467 -0.01973037 -0.07225251  0.0182238  -0.04231653\n",
      " -0.06989918 -0.04074939  0.05952343 -0.03710974  0.03970766 -0.01543242\n",
      " -0.0507082   0.02385763 -0.05598507 -0.01961664 -0.06848966  0.06698142\n",
      " -0.04707921 -0.05019243  0.01900103  0.02100348 -0.05131895 -0.02402225\n",
      "  0.05493316 -0.03785548 -0.02949548  0.00683839  0.02285961 -0.02321237\n",
      "  0.00132595 -0.00449838  0.04164857 -0.06636841  0.03159602 -0.00368777\n",
      "  0.04708288 -0.02129811 -0.05910723 -0.0002801  -0.05461131 -0.01518258\n",
      " -0.06362589 -0.03187382  0.03048513  0.01106928 -0.05673381  0.03465779\n",
      "  0.05302421  0.04438508 -0.05742472  0.04805377 -0.00720429  0.00957449\n",
      " -0.05274762  0.03453296  0.00776861  0.02740947 -0.0177527   0.02516921\n",
      "  0.03025314  0.07292446  0.05947825  0.03319781  0.04323941  0.03663365\n",
      " -0.03832327 -0.03611669 -0.05340255  0.06180172  0.06384701  0.0652812\n",
      "  0.02657972  0.03515903 -0.0725119   0.02786264 -0.04694373  0.01500798\n",
      " -0.05707582 -0.06800484 -0.00962291  0.05667005 -0.02059695 -0.05761606\n",
      "  0.07110801 -0.06162025  0.05873832 -0.00916627 -0.05301748  0.05849271\n",
      "  0.05975098  0.05099418  0.00833316  0.06131943  0.07031662  0.06212517\n",
      " -0.04831346 -0.07273483  0.02236666  0.05616926  0.01396677  0.07070868\n",
      "  0.03480436 -0.0613018  -0.01155476 -0.0326062  -0.02973808  0.0562893\n",
      "  0.06100988 -0.01327677  0.03188746  0.04176965 -0.00391068 -0.03861535\n",
      "  0.02995934 -0.01776838 -0.05829566 -0.05198321 -0.05609941 -0.03349872\n",
      " -0.00237446 -0.06237562  0.00764263  0.07050814 -0.06983967  0.02020505\n",
      "  0.06059675 -0.06490482 -0.0265956  -0.05137366 -0.06529451 -0.06453388\n",
      "  0.0500096   0.05356317  0.07005236  0.060229   -0.01751592 -0.05071361\n",
      " -0.07134981 -0.03416768  0.06088725 -0.06110323 -0.0254658  -0.05846466\n",
      "  0.04212073 -0.04959235  0.05519909 -0.04423823  0.06584563 -0.0487563\n",
      " -0.04407443 -0.02408299  0.05802559 -0.02594752  0.03279586 -0.05165002\n",
      " -0.06368074  0.02981138 -0.03077307 -0.04885672 -0.00078624 -0.04780172\n",
      "  0.02770974 -0.00328618 -0.06370387 -0.06813679  0.04271118  0.02844922\n",
      " -0.04113739  0.0165307   0.06621914 -0.02148828  0.05427054  0.00778728\n",
      " -0.00711608  0.07221593 -0.04657023 -0.00752032  0.03490615 -0.07098304\n",
      " -0.01135819 -0.0535969  -0.01306414 -0.04558431  0.05114596  0.01830948\n",
      "  0.05581041  0.00849403 -0.04381087  0.0424096  -0.02456528  0.06272977\n",
      "  0.01155869  0.02877395 -0.05613678  0.03446073  0.05420033  0.07170943\n",
      " -0.06608355 -0.03205297 -0.02899215 -0.01450326 -0.00625502  0.04724127\n",
      " -0.01653917  0.06733128  0.06405473  0.0721734   0.00901832  0.00364202\n",
      "  0.03896392 -0.03657717 -0.03191536  0.0150948  -0.05995674  0.01306513\n",
      "  0.01111039 -0.06128738 -0.05474254 -0.02638792  0.06437591 -0.06677545\n",
      "  0.04932498  0.00602593  0.00599299 -0.06610088 -0.02352004 -0.06340995\n",
      " -0.00506385 -0.0352654 ]\n"
     ]
    }
   ],
   "source": [
    "print(np.array(index.get_item_vector(0)))"
   ]
  },
  {
   "cell_type": "markdown",
   "id": "055d32b6",
   "metadata": {},
   "source": [
    "Также можем найти расстояние между векторами"
   ]
  },
  {
   "cell_type": "code",
   "execution_count": 17,
   "id": "68770f15",
   "metadata": {},
   "outputs": [
    {
     "data": {
      "text/plain": [
       "1.2352428436279297"
      ]
     },
     "execution_count": 17,
     "metadata": {},
     "output_type": "execute_result"
    }
   ],
   "source": [
    "index.get_distance(0, 1)"
   ]
  },
  {
   "cell_type": "markdown",
   "id": "bbf26676",
   "metadata": {},
   "source": [
    "Можем найти n-ближайших векторов к данному в индексе"
   ]
  },
  {
   "cell_type": "code",
   "execution_count": 18,
   "id": "e1f8900f",
   "metadata": {},
   "outputs": [
    {
     "data": {
      "text/plain": [
       "([0, 36927, 37515, 36675, 37698, 57300, 6733, 26953, 37555, 36956],\n",
       " [0.0,\n",
       "  0.7579076290130615,\n",
       "  0.7839915156364441,\n",
       "  0.7962557077407837,\n",
       "  0.7968125939369202,\n",
       "  0.8029389977455139,\n",
       "  0.8083174824714661,\n",
       "  0.8083174824714661,\n",
       "  0.8090928196907043,\n",
       "  0.8146184086799622])"
      ]
     },
     "execution_count": 18,
     "metadata": {},
     "output_type": "execute_result"
    }
   ],
   "source": [
    "index.get_nns_by_item(i=0, n=10, search_k=-1, include_distances=True)"
   ]
  },
  {
   "cell_type": "code",
   "execution_count": 19,
   "id": "f40049f7",
   "metadata": {
    "scrolled": true
   },
   "outputs": [
    {
     "name": "stdout",
     "output_type": "stream",
     "text": [
      "0\tWhitemarsh Island, Georgia. Whitemarsh Island (pronounced WIT-marsh) is a census-designated place (CDP) in Chatham County, Georgia, United States. The population was 6,792 at the 2010 census. It is part of the Savannah Metropolitan Statistical Area. The communities of Whitemarsh Island are a relatively affluent suburb of Savannah.\n",
      "\n",
      "36927\tDougherty County, Georgia. Dougherty County is a county located in the southwestern portion of the U.S. state of Georgia. As of the 2010 census, the population was 94,565. The county seat and sole incorporated city is Albany. Dougherty County is included in the Albany, GA Metropolitan Statistical Area.\n",
      "\n",
      "37515\tNot to be confused with Lumberton, Texas. Lumberton is a city in Robeson County, North Carolina, United States. The population has grown to 21,542 in the 2010 census from 20,795 in the 2000 census. It is the county seat of Robeson County. Lumberton, located in southern North Carolina's Inner Banks region, is located on the Lumber River.\n",
      "\n",
      "36675\tClayton County is a county located in the north central portion of the U.S. state of Georgia. As of the 2010 census, the population was 259,424. The county seat is Jonesboro. Clayton County is included in the Atlanta-Sandy Springs-Roswell, GA Metropolitan Statistical Area.\n",
      "\n",
      "37698\t(Redirected from Forsyth County, NC) Forsyth County is a county located in the U.S. state of North Carolina. As of the 2010 census, the population was 350,670, making it the fourth-most populous county in North Carolina. Its county seat is Winston-Salem. Forsyth County is included in the Winston-Salem, NC Metropolitan Statistical Area, which is also included in the Greensboro-Winston-Salem-High Point, NC Combined Statistical Area. Parts of Forsyth County are in the Yadkin Valley wine region.\n",
      "\n",
      "57300\tCarolina Beach is a town in New Hanover County, North Carolina, United States. The population was 5,052 at the 2000 census and 5,706 at the 2010 census. It is part of the Wilmington metropolitan area. The community of Wilmington Beach was annexed by the town in 2000.\n",
      "\n",
      "6733\tBarnstable County, Massachusetts. Barnstable County is a county located in the U.S. state of Massachusetts. As of the 2010 census, the population was 215,888. Its county seat is Barnstable. The county consists of Cape Cod and associated islands (some adjacent islands are in Dukes County and Nantucket County).\n",
      "\n",
      "26953\tBarnstable County, Massachusetts. Barnstable County is a county located in the U.S. state of Massachusetts. As of the 2010 census, the population was 215,888. Its county seat is Barnstable. The county consists of Cape Cod and associated islands (some adjacent islands are in Dukes County and Nantucket County).\n",
      "\n",
      "37555\tMap of Georgia highlighting the Athens-Clarke County metropolitan area. The Athens-Clarke County Metropolitan Statistical Area, as defined by the United States Census Bureau, is an area consisting of four counties-Clarke, Madison, Oconee, and Oglethorpe-in northeastern Georgia, anchored by the city of Athens.\n",
      "\n",
      "36956\tRockdale County is a county located in the U.S. state of Georgia. As of the 2010 census, the population was 85,215. The county seat is Conyers. Rockdale County is included in the Atlanta-Sandy Springs-Roswell, GA Metropolitan Statistical Area.\n",
      "\n"
     ]
    }
   ],
   "source": [
    "items = index.get_nns_by_item(i=0, n=10, search_k=-1, include_distances=True)\n",
    "for item in items[0]:\n",
    "    print(str(item)+\"\\t\"+docid_dct[item]+\"\\n\")"
   ]
  },
  {
   "cell_type": "markdown",
   "id": "ccf1bf92",
   "metadata": {},
   "source": [
    "А можем - к вектору запроса:"
   ]
  },
  {
   "cell_type": "code",
   "execution_count": 20,
   "id": "bcfb9cea",
   "metadata": {},
   "outputs": [
    {
     "data": {
      "text/plain": [
       "([53524, 26, 53503, 53510, 5, 680, 13, 30769, 30781, 49504],\n",
       " [0.9458349347114563,\n",
       "  1.0070568323135376,\n",
       "  1.0070568323135376,\n",
       "  1.054497480392456,\n",
       "  1.0608590841293335,\n",
       "  1.0613923072814941,\n",
       "  1.0641976594924927,\n",
       "  1.0731779336929321,\n",
       "  1.0760210752487183,\n",
       "  1.0892466306686401])"
      ]
     },
     "execution_count": 20,
     "metadata": {},
     "output_type": "execute_result"
    }
   ],
   "source": [
    "index.get_nns_by_vector(vector=query_mat[0], n=10, search_k=-1, include_distances=True)"
   ]
  },
  {
   "cell_type": "code",
   "execution_count": 21,
   "id": "272a3306",
   "metadata": {
    "scrolled": true
   },
   "outputs": [
    {
     "name": "stdout",
     "output_type": "stream",
     "text": [
      "where is whitemarsh island\n",
      "\n",
      "53524\tGuemes Island, located north of Anacortes, is a small island accessible by the Guemes Island Ferry. Find where to stay and what to do by reading this page. Guemes Island. Guemes Island - Facebook.\n",
      "\n",
      "26\tHowever, it has only 13% of HawaiÊ»iâs people. The island of HawaiÊ»i is the third largest island in Polynesia, behind the two main islands of New Zealand. The island is often referred to as the Island of HawaiÊ»i, the Big Island, or HawaiÊ»i Island to distinguish it from the state. Administratively, the whole island is encompassed by HawaiÊ»i County. As of the 2010 Census the population was 185,079. The county seat and largest city is Hilo.\n",
      "\n",
      "53503\tHowever, it has only 13% of HawaiÊ»iâs people. The island of HawaiÊ»i is the third largest island in Polynesia, behind the two main islands of New Zealand. The island is often referred to as the Island of HawaiÊ»i, the Big Island, or HawaiÊ»i Island to distinguish it from the state. Administratively, the whole island is encompassed by HawaiÊ»i County. As of the 2010 Census the population was 185,079. The county seat and largest city is Hilo.\n",
      "\n",
      "53510\tThe climate of Paradise Island Paradise Island is a small island off the coast of New Providence. Or rather: a former island since it is now connected to New Providence by several bridges. The island used to be known as Hogg Island. Everything on Paradise Island aims for tourism.\n",
      "\n",
      "5\tCamano Island. Not to be confused with Kamano Island. Camano Island /kÉËmeÉªnoÊ/ is a large island in the Possession Sound portion of Puget Sound, located in Island County, Washington, between Whidbey Island and the mainland. The body of water separating Whidbey Island and Camano Island is called Saratoga Passage.\n",
      "\n",
      "680\tWhere is Italy Located; Airports in Italy; Major Cities in Italy; Where is Rome; Where is Florence; Where is Milan; Where is Afragola; Where is Alessandria; Where is Altamura; Where is Ancona; Where is Andria; Where is Arezzo; Where is Asti; Where is Bari; Where is Barletta; Where is Benevento; Where is Bergamo; Where is Bologna; Where is Bolzano; Where is Brescia; Where is Brindisi\n",
      "\n",
      "13\tThere are three kinds of answers: ones that are mostly right, ones that are mostly wrong, and those that once were right but now are wrong. Plum Island Newbury MA. Plum Island is a barrier island off the Atlantic coast of Massachusetts, at Newburyport, MA.It includes the Parker River National Wildlife Refuge, home to nearly 800 species of birds.Plum Island NY. The more famous Plum Island (formerly Plumb Island) is off Long Island, NY, and is the location of the Department of Homeland Security's animal disease research facility.t includes the Parker River National Wildlife Refuge, home to nearly 800 species of birds. Plum Island NY. The more famous Plum Island (formerly Plumb Island) is off Long Island, NY, and is the location of the Department of Homeland Security's animal disease research facility.\n",
      "\n",
      "30769\tBouvet Island. Bouvet Island - Hailed as the most remote island in the world, Bouvet Island is situated in the South Atlantic Sea and the nearest landmass is part of Antarctica, which is over 1,750km away.\n",
      "\n",
      "30781\tEllesmere Island is at the Northernmost part of Canada. Government of Canada: âNatural resources Canada.â. Devon Island, just south of Ellesmere Island, at 21,331square miles, is the 27 largest island in the world, and the largest uninhabited island in the world.\n",
      "\n",
      "49504\tPalawan is composed of the long and narrow Palawan Island, plus a number of other smaller islands surrounding the main island. The Calamianes Group of Islands to the Northeast consists of Busuanga Island, Coron Island and Culion Island.Durangan Island. almost touches the westernmost part of Palawan Island, while Balabac Island is located off the southern tip, separated from Borneo by the Balabac Strait.alawan is composed of the long and narrow Palawan Island, plus a number of other smaller islands surrounding the main island. The Calamianes Group of Islands to the Northeast consists of Busuanga Island, Coron Island and Culion Island. Durangan Island.\n",
      "\n"
     ]
    }
   ],
   "source": [
    "print(qid_dct[0]+\"\\n\")\n",
    "items = index.get_nns_by_vector(vector=query_mat[0], n=10, search_k=-1, include_distances=True)\n",
    "for item in items[0]:\n",
    "    print(str(item)+\"\\t\"+docid_dct[item]+\"\\n\")"
   ]
  },
  {
   "cell_type": "markdown",
   "id": "948448b3",
   "metadata": {},
   "source": [
    "Оценим качество и перф нашего индекса (замерим, сколько правильных ответов попадут в топ-1)"
   ]
  },
  {
   "cell_type": "code",
   "execution_count": 22,
   "id": "19acce8c",
   "metadata": {},
   "outputs": [
    {
     "name": "stdout",
     "output_type": "stream",
     "text": [
      "22.905 %\n",
      "CPU times: user 892 ms, sys: 16.6 ms, total: 909 ms\n",
      "Wall time: 908 ms\n"
     ]
    }
   ],
   "source": [
    "%%time\n",
    "def eval_qual(param=-1):\n",
    "    good = 0\n",
    "    for i, qvec in enumerate(query_mat):\n",
    "        docid = index.get_nns_by_vector(vector=qvec, n=1, search_k=param, include_distances=False)\n",
    "        if marks_dct[(i, docid[0])] == 1:\n",
    "            good += 1\n",
    "    print(f\"{good/query_mat.shape[0]*100:.3f} %\")\n",
    "eval_qual(param=-1)"
   ]
  },
  {
   "cell_type": "markdown",
   "id": "677eda92",
   "metadata": {},
   "source": [
    "А если раскрутить search_k (число просматриваемых вершин, по дефолту равно n*n_trees)?"
   ]
  },
  {
   "cell_type": "code",
   "execution_count": 23,
   "id": "f46ecc41",
   "metadata": {},
   "outputs": [
    {
     "name": "stdout",
     "output_type": "stream",
     "text": [
      "22.905 %\n",
      "CPU times: user 920 ms, sys: 678 µs, total: 921 ms\n",
      "Wall time: 918 ms\n"
     ]
    }
   ],
   "source": [
    "%%time\n",
    "eval_qual(500)"
   ]
  },
  {
   "cell_type": "code",
   "execution_count": 24,
   "id": "96db926b",
   "metadata": {},
   "outputs": [
    {
     "name": "stdout",
     "output_type": "stream",
     "text": [
      "24.046 %\n",
      "CPU times: user 1.15 s, sys: 1.16 ms, total: 1.16 s\n",
      "Wall time: 1.15 s\n"
     ]
    }
   ],
   "source": [
    "%%time\n",
    "eval_qual(1000)"
   ]
  },
  {
   "cell_type": "code",
   "execution_count": 25,
   "id": "b3d17520",
   "metadata": {},
   "outputs": [
    {
     "name": "stdout",
     "output_type": "stream",
     "text": [
      "24.988 %\n",
      "CPU times: user 1.51 s, sys: 1.36 ms, total: 1.51 s\n",
      "Wall time: 1.51 s\n"
     ]
    }
   ],
   "source": [
    "%%time\n",
    "eval_qual(1500)"
   ]
  },
  {
   "cell_type": "code",
   "execution_count": 26,
   "id": "72f1611f",
   "metadata": {},
   "outputs": [
    {
     "name": "stdout",
     "output_type": "stream",
     "text": [
      "25.285 %\n",
      "CPU times: user 1.65 s, sys: 1.38 ms, total: 1.65 s\n",
      "Wall time: 1.65 s\n"
     ]
    }
   ],
   "source": [
    "%%time\n",
    "eval_qual(2000)"
   ]
  },
  {
   "cell_type": "markdown",
   "id": "2282907d",
   "metadata": {},
   "source": [
    "А если сварить индекс с большим числом деревьев?"
   ]
  },
  {
   "cell_type": "code",
   "execution_count": 27,
   "id": "6f67f523",
   "metadata": {},
   "outputs": [
    {
     "data": {
      "text/plain": [
       "True"
      ]
     },
     "execution_count": 27,
     "metadata": {},
     "output_type": "execute_result"
    }
   ],
   "source": [
    "index = AnnoyIndex(f=512, metric='euclidean')\n",
    "for i, vec in enumerate(text_mat):\n",
    "    index.add_item(i, vec)\n",
    "\n",
    "index.build(n_trees=2000)\n",
    "index.save('sample2000.ann')"
   ]
  },
  {
   "cell_type": "code",
   "execution_count": 28,
   "id": "e454e1f4",
   "metadata": {},
   "outputs": [
    {
     "name": "stdout",
     "output_type": "stream",
     "text": [
      "23.550 %\n",
      "CPU times: user 2.63 s, sys: 95.9 ms, total: 2.72 s\n",
      "Wall time: 2.79 s\n"
     ]
    }
   ],
   "source": [
    "%%time\n",
    "eval_qual(500)"
   ]
  },
  {
   "cell_type": "code",
   "execution_count": 29,
   "id": "9b15d9c2",
   "metadata": {},
   "outputs": [
    {
     "name": "stdout",
     "output_type": "stream",
     "text": [
      "24.938 %\n",
      "CPU times: user 3.12 s, sys: 426 µs, total: 3.12 s\n",
      "Wall time: 3.11 s\n"
     ]
    }
   ],
   "source": [
    "%%time\n",
    "eval_qual(1000)"
   ]
  },
  {
   "cell_type": "code",
   "execution_count": 30,
   "id": "2bf5299c",
   "metadata": {},
   "outputs": [
    {
     "name": "stdout",
     "output_type": "stream",
     "text": [
      "25.285 %\n",
      "CPU times: user 3.39 s, sys: 4.79 ms, total: 3.39 s\n",
      "Wall time: 3.39 s\n"
     ]
    }
   ],
   "source": [
    "%%time\n",
    "eval_qual(1500)"
   ]
  },
  {
   "cell_type": "code",
   "execution_count": 31,
   "id": "f0ec79d0",
   "metadata": {},
   "outputs": [
    {
     "name": "stdout",
     "output_type": "stream",
     "text": [
      "25.830 %\n",
      "CPU times: user 3.53 s, sys: 4.58 ms, total: 3.54 s\n",
      "Wall time: 3.54 s\n"
     ]
    }
   ],
   "source": [
    "%%time\n",
    "eval_qual(2000)"
   ]
  },
  {
   "cell_type": "markdown",
   "id": "03019d0b",
   "metadata": {},
   "source": [
    "Таким образом, через питонячий апи можем крутить два основных параметра, аффектящих производительность - число деревьев и search_k"
   ]
  },
  {
   "cell_type": "markdown",
   "id": "0428b915",
   "metadata": {},
   "source": [
    "# Faiss Index"
   ]
  },
  {
   "cell_type": "code",
   "execution_count": 8,
   "id": "d9b8f55d",
   "metadata": {},
   "outputs": [],
   "source": [
    "import faiss"
   ]
  },
  {
   "cell_type": "markdown",
   "id": "0f71f19a",
   "metadata": {},
   "source": [
    "Создаем плоский индекс (считаются расстояния от вектора запроса до всех векторов, обучать ненужно)"
   ]
  },
  {
   "cell_type": "code",
   "execution_count": 9,
   "id": "e3192165",
   "metadata": {},
   "outputs": [],
   "source": [
    "emb_size = 512\n",
    "index = faiss.IndexFlatL2(emb_size)"
   ]
  },
  {
   "cell_type": "code",
   "execution_count": 10,
   "id": "8622efda",
   "metadata": {},
   "outputs": [
    {
     "name": "stdout",
     "output_type": "stream",
     "text": [
      " Пока индекс пустой 0\n",
      " После добавления векторов: 62000\n"
     ]
    }
   ],
   "source": [
    "print(f\" Пока индекс пустой {index.ntotal}\")\n",
    "index.add(text_mat)\n",
    "print(f\" После добавления векторов: {index.ntotal}\")"
   ]
  },
  {
   "cell_type": "markdown",
   "id": "42623f45",
   "metadata": {},
   "source": [
    "Найдем 10 ближайших документов для 0-го запроса:"
   ]
  },
  {
   "cell_type": "code",
   "execution_count": 11,
   "id": "58faebab",
   "metadata": {},
   "outputs": [],
   "source": [
    "#Важно конвертировать в np.float32\n",
    "query_mat = query_mat.astype(np.float32)\n",
    "D, I = index.search(query_mat[:1], 10)"
   ]
  },
  {
   "cell_type": "code",
   "execution_count": 12,
   "id": "6765a8c7",
   "metadata": {},
   "outputs": [
    {
     "data": {
      "text/plain": [
       "array([[0.89460367, 1.0141635 , 1.0141635 , 1.103269  , 1.103269  ,\n",
       "        1.111965  , 1.125422  , 1.1265535 , 1.1325166 , 1.1517109 ]],\n",
       "      dtype=float32)"
      ]
     },
     "execution_count": 12,
     "metadata": {},
     "output_type": "execute_result"
    }
   ],
   "source": [
    "#Расстояния до найденных документов\n",
    "D"
   ]
  },
  {
   "cell_type": "code",
   "execution_count": 13,
   "id": "d3d70b35",
   "metadata": {},
   "outputs": [
    {
     "data": {
      "text/plain": [
       "array([[53524,    26, 53503, 37493, 49500, 53510,     5,   680,    13,\n",
       "        30769]])"
      ]
     },
     "execution_count": 13,
     "metadata": {},
     "output_type": "execute_result"
    }
   ],
   "source": [
    "#Индексы документов\n",
    "I"
   ]
  },
  {
   "cell_type": "code",
   "execution_count": 14,
   "id": "fd76230e",
   "metadata": {
    "scrolled": true
   },
   "outputs": [
    {
     "name": "stdout",
     "output_type": "stream",
     "text": [
      "where is whitemarsh island\n",
      "\n",
      "53524\tGuemes Island, located north of Anacortes, is a small island accessible by the Guemes Island Ferry. Find where to stay and what to do by reading this page. Guemes Island. Guemes Island - Facebook.\n",
      "\n",
      "26\tHowever, it has only 13% of HawaiÊ»iâs people. The island of HawaiÊ»i is the third largest island in Polynesia, behind the two main islands of New Zealand. The island is often referred to as the Island of HawaiÊ»i, the Big Island, or HawaiÊ»i Island to distinguish it from the state. Administratively, the whole island is encompassed by HawaiÊ»i County. As of the 2010 Census the population was 185,079. The county seat and largest city is Hilo.\n",
      "\n",
      "53503\tHowever, it has only 13% of HawaiÊ»iâs people. The island of HawaiÊ»i is the third largest island in Polynesia, behind the two main islands of New Zealand. The island is often referred to as the Island of HawaiÊ»i, the Big Island, or HawaiÊ»i Island to distinguish it from the state. Administratively, the whole island is encompassed by HawaiÊ»i County. As of the 2010 Census the population was 185,079. The county seat and largest city is Hilo.\n",
      "\n",
      "37493\tBainbridge Island County. What county is Bainbridge Island in? Bainbridge Island is a city in Kitsap County, Washington, United States, and the name of the island in Puget Sound on which the city is situated. More about: Bainbridge Island Geography. Bainbridge Island Demographics.\n",
      "\n",
      "49500\tBainbridge Island County. What county is Bainbridge Island in? Bainbridge Island is a city in Kitsap County, Washington, United States, and the name of the island in Puget Sound on which the city is situated. More about: Bainbridge Island Geography. Bainbridge Island Demographics.\n",
      "\n",
      "53510\tThe climate of Paradise Island Paradise Island is a small island off the coast of New Providence. Or rather: a former island since it is now connected to New Providence by several bridges. The island used to be known as Hogg Island. Everything on Paradise Island aims for tourism.\n",
      "\n",
      "5\tCamano Island. Not to be confused with Kamano Island. Camano Island /kÉËmeÉªnoÊ/ is a large island in the Possession Sound portion of Puget Sound, located in Island County, Washington, between Whidbey Island and the mainland. The body of water separating Whidbey Island and Camano Island is called Saratoga Passage.\n",
      "\n",
      "680\tWhere is Italy Located; Airports in Italy; Major Cities in Italy; Where is Rome; Where is Florence; Where is Milan; Where is Afragola; Where is Alessandria; Where is Altamura; Where is Ancona; Where is Andria; Where is Arezzo; Where is Asti; Where is Bari; Where is Barletta; Where is Benevento; Where is Bergamo; Where is Bologna; Where is Bolzano; Where is Brescia; Where is Brindisi\n",
      "\n",
      "13\tThere are three kinds of answers: ones that are mostly right, ones that are mostly wrong, and those that once were right but now are wrong. Plum Island Newbury MA. Plum Island is a barrier island off the Atlantic coast of Massachusetts, at Newburyport, MA.It includes the Parker River National Wildlife Refuge, home to nearly 800 species of birds.Plum Island NY. The more famous Plum Island (formerly Plumb Island) is off Long Island, NY, and is the location of the Department of Homeland Security's animal disease research facility.t includes the Parker River National Wildlife Refuge, home to nearly 800 species of birds. Plum Island NY. The more famous Plum Island (formerly Plumb Island) is off Long Island, NY, and is the location of the Department of Homeland Security's animal disease research facility.\n",
      "\n",
      "30769\tBouvet Island. Bouvet Island - Hailed as the most remote island in the world, Bouvet Island is situated in the South Atlantic Sea and the nearest landmass is part of Antarctica, which is over 1,750km away.\n",
      "\n"
     ]
    }
   ],
   "source": [
    "print(qid_dct[0]+\"\\n\")\n",
    "for idx in I[0]:\n",
    "    print(str(idx)+\"\\t\"+docid_dct[idx]+\"\\n\")"
   ]
  },
  {
   "cell_type": "markdown",
   "id": "db5f4dc2",
   "metadata": {},
   "source": [
    "А теперь оценим качество и перф:"
   ]
  },
  {
   "cell_type": "code",
   "execution_count": 15,
   "id": "93880b02",
   "metadata": {},
   "outputs": [],
   "source": [
    "def eval_qual_faiss(loc_index):\n",
    "    good = 0\n",
    "    D, I = loc_index.search(query_mat, 1)\n",
    "    for i, docid in enumerate(I):\n",
    "        if marks_dct[(i, docid[0])] == 1:\n",
    "            good += 1\n",
    "    print(f\"{good/query_mat.shape[0]*100:.3f} %\")"
   ]
  },
  {
   "cell_type": "code",
   "execution_count": 17,
   "id": "fb0c8156",
   "metadata": {},
   "outputs": [],
   "source": [
    "def eval_qual_faiss_bs1(loc_index):\n",
    "    good = 0\n",
    "    for i, q in enumerate(query_mat):\n",
    "        D, I = loc_index.search(np.array([q]).astype(np.float32), 1)\n",
    "        if marks_dct[(i, I[0][0])] == 1:\n",
    "            good += 1\n",
    "    print(f\"{good/query_mat.shape[0]*100:.3f} %\")"
   ]
  },
  {
   "cell_type": "code",
   "execution_count": 16,
   "id": "28b8a675",
   "metadata": {},
   "outputs": [
    {
     "name": "stdout",
     "output_type": "stream",
     "text": [
      "26.971 %\n",
      "CPU times: user 10.7 s, sys: 0 ns, total: 10.7 s\n",
      "Wall time: 2.52 s\n"
     ]
    }
   ],
   "source": [
    "%%time\n",
    "eval_qual_faiss(index)"
   ]
  },
  {
   "cell_type": "code",
   "execution_count": 18,
   "id": "919b2d60",
   "metadata": {},
   "outputs": [
    {
     "name": "stdout",
     "output_type": "stream",
     "text": [
      "26.971 %\n",
      "CPU times: user 27.9 s, sys: 0 ns, total: 27.9 s\n",
      "Wall time: 27.9 s\n"
     ]
    }
   ],
   "source": [
    "%%time\n",
    "eval_qual_faiss_bs1(index)"
   ]
  },
  {
   "cell_type": "markdown",
   "id": "606f47bd",
   "metadata": {},
   "source": [
    "Для целой матрицы все очень быстро и хорошо... Но на проде так не бывает"
   ]
  },
  {
   "cell_type": "markdown",
   "id": "71a2d0ad",
   "metadata": {},
   "source": [
    "Индекс можно сохранять:"
   ]
  },
  {
   "cell_type": "code",
   "execution_count": 19,
   "id": "fc3fe572",
   "metadata": {},
   "outputs": [],
   "source": [
    "faiss.write_index(index, \"flat.index\")\n",
    "index = faiss.read_index(\"flat.index\")"
   ]
  },
  {
   "cell_type": "markdown",
   "id": "4f7cb745",
   "metadata": {},
   "source": [
    "# А какие еще типы индексов поддерживает faiss?"
   ]
  },
  {
   "attachments": {
    "wafaglupre-y6bt9hmozs9aeyoi.jpeg": {
     "image/jpeg": "[encoded data removed]"
    }
   },
   "cell_type": "markdown",
   "id": "d6ed0b64",
   "metadata": {},
   "source": [
    "![wafaglupre-y6bt9hmozs9aeyoi.jpeg](attachment:wafaglupre-y6bt9hmozs9aeyoi.jpeg)"
   ]
  },
  {
   "cell_type": "markdown",
   "id": "47246dbe",
   "metadata": {},
   "source": [
    "IVF-индекс:"
   ]
  },
  {
   "cell_type": "code",
   "execution_count": 20,
   "id": "f5be9879",
   "metadata": {},
   "outputs": [
    {
     "name": "stdout",
     "output_type": "stream",
     "text": [
      "Индекс обучен: False\n",
      "Обучаем индекс...\n",
      "Индекс обучен: True\n",
      "Размер индекса: 0\n",
      "Добавляем вектора...\n",
      "Размер индекса: 62000\n"
     ]
    }
   ],
   "source": [
    "num_centroids = 1000\n",
    "quantiser = faiss.IndexFlatL2(emb_size) \n",
    "index = faiss.IndexIVFFlat(quantiser, emb_size, num_centroids)\n",
    "print(f\"Индекс обучен: {index.is_trained}\")\n",
    "print(\"Обучаем индекс...\")\n",
    "index.train(text_mat)\n",
    "print(f\"Индекс обучен: {index.is_trained}\")\n",
    "print(f\"Размер индекса: {index.ntotal}\")\n",
    "print(\"Добавляем вектора...\")\n",
    "index.add(text_mat)\n",
    "print(f\"Размер индекса: {index.ntotal}\")\n",
    "faiss.write_index(index, \"IVFflat.index\")\n",
    "index = faiss.read_index(\"IVFflat.index\")"
   ]
  },
  {
   "cell_type": "markdown",
   "id": "96481c38",
   "metadata": {},
   "source": [
    "Задаем число центроид, которое обходим при поиске:"
   ]
  },
  {
   "cell_type": "code",
   "execution_count": 21,
   "id": "38af8042",
   "metadata": {},
   "outputs": [
    {
     "name": "stdout",
     "output_type": "stream",
     "text": [
      "26.971 %\n",
      "CPU times: user 29.2 s, sys: 0 ns, total: 29.2 s\n",
      "Wall time: 29.2 s\n"
     ]
    }
   ],
   "source": [
    "%%time\n",
    "index.nprobe = 1000\n",
    "eval_qual_faiss_bs1(index)"
   ]
  },
  {
   "cell_type": "code",
   "execution_count": 22,
   "id": "39fce79b",
   "metadata": {},
   "outputs": [
    {
     "name": "stdout",
     "output_type": "stream",
     "text": [
      "26.971 %\n",
      "CPU times: user 23.4 s, sys: 0 ns, total: 23.4 s\n",
      "Wall time: 23.4 s\n"
     ]
    }
   ],
   "source": [
    "%%time\n",
    "index.nprobe = 750\n",
    "eval_qual_faiss_bs1(index)"
   ]
  },
  {
   "cell_type": "code",
   "execution_count": 47,
   "id": "33b1448a",
   "metadata": {},
   "outputs": [
    {
     "name": "stdout",
     "output_type": "stream",
     "text": [
      "26.971 %\n",
      "CPU times: user 8.53 s, sys: 5.76 ms, total: 8.54 s\n",
      "Wall time: 8.53 s\n"
     ]
    }
   ],
   "source": [
    "%%time\n",
    "index.nprobe = 500\n",
    "eval_qual_faiss_bs1(index)"
   ]
  },
  {
   "cell_type": "code",
   "execution_count": 48,
   "id": "c1c1104f",
   "metadata": {},
   "outputs": [
    {
     "name": "stdout",
     "output_type": "stream",
     "text": [
      "26.971 %\n",
      "CPU times: user 4.51 s, sys: 5 ms, total: 4.51 s\n",
      "Wall time: 4.52 s\n"
     ]
    }
   ],
   "source": [
    "%%time\n",
    "index.nprobe = 250\n",
    "eval_qual_faiss_bs1(index)"
   ]
  },
  {
   "cell_type": "code",
   "execution_count": 49,
   "id": "baebb2e5",
   "metadata": {},
   "outputs": [
    {
     "name": "stdout",
     "output_type": "stream",
     "text": [
      "26.872 %\n",
      "CPU times: user 2.04 s, sys: 329 µs, total: 2.04 s\n",
      "Wall time: 2.04 s\n"
     ]
    }
   ],
   "source": [
    "%%time\n",
    "index.nprobe = 100\n",
    "eval_qual_faiss_bs1(index)"
   ]
  },
  {
   "cell_type": "code",
   "execution_count": 50,
   "id": "c0d5e68b",
   "metadata": {},
   "outputs": [
    {
     "name": "stdout",
     "output_type": "stream",
     "text": [
      "26.673 %\n",
      "CPU times: user 1.22 s, sys: 4.24 ms, total: 1.22 s\n",
      "Wall time: 1.22 s\n"
     ]
    }
   ],
   "source": [
    "%%time\n",
    "index.nprobe = 50\n",
    "eval_qual_faiss_bs1(index)"
   ]
  },
  {
   "cell_type": "code",
   "execution_count": 51,
   "id": "5d4c52bc",
   "metadata": {},
   "outputs": [
    {
     "name": "stdout",
     "output_type": "stream",
     "text": [
      "17.799 %\n",
      "CPU times: user 198 ms, sys: 83 µs, total: 198 ms\n",
      "Wall time: 197 ms\n"
     ]
    }
   ],
   "source": [
    "%%time\n",
    "index.nprobe = 1\n",
    "eval_qual_faiss_bs1(index)"
   ]
  },
  {
   "cell_type": "markdown",
   "id": "8ca3396c",
   "metadata": {},
   "source": [
    "Видно, что можем сильно разогнаться, и даже без потери качества (до какого-то уровня)"
   ]
  },
  {
   "cell_type": "markdown",
   "id": "8b8e738b",
   "metadata": {},
   "source": [
    "Попробуем поквантовать индексы (чтобы сэкономить память)"
   ]
  },
  {
   "cell_type": "code",
   "execution_count": 52,
   "id": "f7c081ce",
   "metadata": {},
   "outputs": [],
   "source": [
    "bits = 8\n",
    "num_subq = 64\n",
    "quantizer = faiss.IndexFlatL2(emb_size)\n",
    "index = faiss.IndexIVFPQ(quantizer, emb_size, num_centroids, num_subq, bits) \n",
    "index.train(text_mat)\n",
    "index.add(text_mat)\n",
    "faiss.write_index(index, \"IVF1000PQ64.index\")"
   ]
  },
  {
   "cell_type": "code",
   "execution_count": 53,
   "id": "d123771c",
   "metadata": {},
   "outputs": [
    {
     "name": "stdout",
     "output_type": "stream",
     "text": [
      "25.434 %\n",
      "CPU times: user 19.4 s, sys: 3.71 ms, total: 19.4 s\n",
      "Wall time: 19.5 s\n"
     ]
    }
   ],
   "source": [
    "%%time\n",
    "index.nprobe = 1000\n",
    "eval_qual_faiss_bs1(index)"
   ]
  },
  {
   "cell_type": "markdown",
   "id": "cebdf008",
   "metadata": {},
   "source": [
    "Из-за сжатия качество упало даже на максимальном числе центроид (но не сильно)"
   ]
  },
  {
   "cell_type": "code",
   "execution_count": 54,
   "id": "d1ae6586",
   "metadata": {},
   "outputs": [
    {
     "name": "stdout",
     "output_type": "stream",
     "text": [
      "25.335 %\n",
      "CPU times: user 2.32 s, sys: 471 µs, total: 2.32 s\n",
      "Wall time: 2.32 s\n"
     ]
    }
   ],
   "source": [
    "%%time\n",
    "index.nprobe = 100\n",
    "eval_qual_faiss_bs1(index)"
   ]
  },
  {
   "cell_type": "code",
   "execution_count": 55,
   "id": "bc38d276",
   "metadata": {},
   "outputs": [
    {
     "name": "stdout",
     "output_type": "stream",
     "text": [
      "17.501 %\n",
      "CPU times: user 265 ms, sys: 15 µs, total: 265 ms\n",
      "Wall time: 263 ms\n"
     ]
    }
   ],
   "source": [
    "%%time\n",
    "index.nprobe = 1\n",
    "eval_qual_faiss_bs1(index)"
   ]
  },
  {
   "cell_type": "markdown",
   "id": "805e4185",
   "metadata": {},
   "source": [
    "А еще можем создавать faiss-индексы через фабрики, а не через классы:"
   ]
  },
  {
   "cell_type": "code",
   "execution_count": 56,
   "id": "93454fce",
   "metadata": {},
   "outputs": [],
   "source": [
    "index = faiss.index_factory(512, \"Flat\", faiss.METRIC_L2)\n",
    "index = faiss.index_factory(512, \"IVF1000,Flat\", faiss.METRIC_L2)\n",
    "index = faiss.index_factory(512, \"IVF1000,PQ64\", faiss.METRIC_L2)"
   ]
  },
  {
   "cell_type": "markdown",
   "id": "2fce17fe",
   "metadata": {},
   "source": [
    "Подробный гайд по фабрикам: https://github.com/facebookresearch/faiss/wiki/The-index-factory"
   ]
  },
  {
   "cell_type": "markdown",
   "id": "ba4a49cd",
   "metadata": {},
   "source": [
    "# hnswlib"
   ]
  },
  {
   "cell_type": "markdown",
   "id": "dc435f9d",
   "metadata": {},
   "source": [
    "Рассмотрим библиотеку, основанную на Hierarchical Navigable Small World"
   ]
  },
  {
   "attachments": {
    "SmallWorld_Greedy.png": {
     "image/png": "[encoded data removed]"
    }
   },
   "cell_type": "markdown",
   "id": "17e6b0f4",
   "metadata": {},
   "source": [
    "![SmallWorld_Greedy.png](attachment:SmallWorld_Greedy.png)"
   ]
  },
  {
   "cell_type": "code",
   "execution_count": 59,
   "id": "7f99d1a2",
   "metadata": {},
   "outputs": [],
   "source": [
    "import hnswlib"
   ]
  },
  {
   "cell_type": "markdown",
   "id": "49f34557",
   "metadata": {},
   "source": [
    "Создаем индекс - задаем метрику и размер эмбеддинга"
   ]
  },
  {
   "cell_type": "code",
   "execution_count": 60,
   "id": "f6aa83cf",
   "metadata": {},
   "outputs": [],
   "source": [
    "index = hnswlib.Index(space = 'l2', dim = 512)"
   ]
  },
  {
   "cell_type": "markdown",
   "id": "f2f6d432",
   "metadata": {},
   "source": [
    "Инициализируем индекс - нужно сразу задать число элементов"
   ]
  },
  {
   "cell_type": "code",
   "execution_count": 61,
   "id": "6c3d5370",
   "metadata": {},
   "outputs": [],
   "source": [
    "#M - число двойных связей для каждого нового элемента\n",
    "#Размер динамического списка ближайших соседей - при конструировании\n",
    "index.init_index(max_elements = 62000, ef_construction = 20, M = 24)"
   ]
  },
  {
   "cell_type": "markdown",
   "id": "78c44866",
   "metadata": {},
   "source": [
    "Добавляем эмбеддинги в индекс"
   ]
  },
  {
   "cell_type": "code",
   "execution_count": 62,
   "id": "cbfb4503",
   "metadata": {},
   "outputs": [],
   "source": [
    "index.add_items(text_mat)"
   ]
  },
  {
   "cell_type": "markdown",
   "id": "7435c9a5",
   "metadata": {},
   "source": [
    "ef - размер динамического списка ближайших соседей при поиске"
   ]
  },
  {
   "cell_type": "code",
   "execution_count": 63,
   "id": "a1768978",
   "metadata": {},
   "outputs": [],
   "source": [
    "index.set_ef(ef=50)"
   ]
  },
  {
   "cell_type": "markdown",
   "id": "c301367c",
   "metadata": {},
   "source": [
    "Индекс можно сохранить..."
   ]
  },
  {
   "cell_type": "code",
   "execution_count": 64,
   "id": "ca7eb479",
   "metadata": {},
   "outputs": [],
   "source": [
    "index.save_index(\"hnsw_efcons20_M24.bin\")"
   ]
  },
  {
   "cell_type": "markdown",
   "id": "8bd526e0",
   "metadata": {},
   "source": [
    "И подгрузить, увеличив емкость:"
   ]
  },
  {
   "cell_type": "code",
   "execution_count": 65,
   "id": "f21f6e78",
   "metadata": {},
   "outputs": [
    {
     "name": "stderr",
     "output_type": "stream",
     "text": [
      "Warning: Calling load_index for an already inited index. Old index is being deallocated.\n"
     ]
    }
   ],
   "source": [
    "index.load_index(\"hnsw_efcons20_M24.bin\", max_elements = 70000)"
   ]
  },
  {
   "cell_type": "markdown",
   "id": "3c46d801",
   "metadata": {},
   "source": [
    "Поищем документы в индексе:"
   ]
  },
  {
   "cell_type": "code",
   "execution_count": 66,
   "id": "73323377",
   "metadata": {
    "scrolled": true
   },
   "outputs": [
    {
     "name": "stdout",
     "output_type": "stream",
     "text": [
      "where is whitemarsh island\n",
      "\n",
      "53524\tGuemes Island, located north of Anacortes, is a small island accessible by the Guemes Island Ferry. Find where to stay and what to do by reading this page. Guemes Island. Guemes Island - Facebook.\n",
      "\n",
      "26\tHowever, it has only 13% of HawaiÊ»iâs people. The island of HawaiÊ»i is the third largest island in Polynesia, behind the two main islands of New Zealand. The island is often referred to as the Island of HawaiÊ»i, the Big Island, or HawaiÊ»i Island to distinguish it from the state. Administratively, the whole island is encompassed by HawaiÊ»i County. As of the 2010 Census the population was 185,079. The county seat and largest city is Hilo.\n",
      "\n",
      "53503\tHowever, it has only 13% of HawaiÊ»iâs people. The island of HawaiÊ»i is the third largest island in Polynesia, behind the two main islands of New Zealand. The island is often referred to as the Island of HawaiÊ»i, the Big Island, or HawaiÊ»i Island to distinguish it from the state. Administratively, the whole island is encompassed by HawaiÊ»i County. As of the 2010 Census the population was 185,079. The county seat and largest city is Hilo.\n",
      "\n",
      "37493\tBainbridge Island County. What county is Bainbridge Island in? Bainbridge Island is a city in Kitsap County, Washington, United States, and the name of the island in Puget Sound on which the city is situated. More about: Bainbridge Island Geography. Bainbridge Island Demographics.\n",
      "\n",
      "49500\tBainbridge Island County. What county is Bainbridge Island in? Bainbridge Island is a city in Kitsap County, Washington, United States, and the name of the island in Puget Sound on which the city is situated. More about: Bainbridge Island Geography. Bainbridge Island Demographics.\n",
      "\n",
      "53510\tThe climate of Paradise Island Paradise Island is a small island off the coast of New Providence. Or rather: a former island since it is now connected to New Providence by several bridges. The island used to be known as Hogg Island. Everything on Paradise Island aims for tourism.\n",
      "\n",
      "5\tCamano Island. Not to be confused with Kamano Island. Camano Island /kÉËmeÉªnoÊ/ is a large island in the Possession Sound portion of Puget Sound, located in Island County, Washington, between Whidbey Island and the mainland. The body of water separating Whidbey Island and Camano Island is called Saratoga Passage.\n",
      "\n",
      "13\tThere are three kinds of answers: ones that are mostly right, ones that are mostly wrong, and those that once were right but now are wrong. Plum Island Newbury MA. Plum Island is a barrier island off the Atlantic coast of Massachusetts, at Newburyport, MA.It includes the Parker River National Wildlife Refuge, home to nearly 800 species of birds.Plum Island NY. The more famous Plum Island (formerly Plumb Island) is off Long Island, NY, and is the location of the Department of Homeland Security's animal disease research facility.t includes the Parker River National Wildlife Refuge, home to nearly 800 species of birds. Plum Island NY. The more famous Plum Island (formerly Plumb Island) is off Long Island, NY, and is the location of the Department of Homeland Security's animal disease research facility.\n",
      "\n",
      "30769\tBouvet Island. Bouvet Island - Hailed as the most remote island in the world, Bouvet Island is situated in the South Atlantic Sea and the nearest landmass is part of Antarctica, which is over 1,750km away.\n",
      "\n",
      "30781\tEllesmere Island is at the Northernmost part of Canada. Government of Canada: âNatural resources Canada.â. Devon Island, just south of Ellesmere Island, at 21,331square miles, is the 27 largest island in the world, and the largest uninhabited island in the world.\n",
      "\n"
     ]
    }
   ],
   "source": [
    "#k - число документов, которое ищем \n",
    "I, D = index.knn_query(query_mat[:1], k = 10)\n",
    "print(qid_dct[0]+\"\\n\")\n",
    "for idx in I[0]:\n",
    "    print(str(idx)+\"\\t\"+docid_dct[idx]+\"\\n\")"
   ]
  },
  {
   "cell_type": "markdown",
   "id": "496a89be",
   "metadata": {},
   "source": [
    "Оценим качество индекса в целом:"
   ]
  },
  {
   "cell_type": "code",
   "execution_count": 67,
   "id": "cab783ab",
   "metadata": {},
   "outputs": [],
   "source": [
    "def eval_qual_hnsw_bs1(loc_index):\n",
    "    good = 0\n",
    "    for i, q in enumerate(query_mat):\n",
    "        I, D = loc_index.knn_query(np.array([q]).astype(np.float32), k = 1)\n",
    "        if marks_dct[(i, I[0][0])] == 1:\n",
    "            good += 1\n",
    "    print(f\"{good/query_mat.shape[0]*100:.3f} %\")"
   ]
  },
  {
   "cell_type": "code",
   "execution_count": 68,
   "id": "8809d75a",
   "metadata": {},
   "outputs": [
    {
     "name": "stdout",
     "output_type": "stream",
     "text": [
      "18.394 %\n",
      "CPU times: user 122 ms, sys: 7.6 ms, total: 130 ms\n",
      "Wall time: 129 ms\n"
     ]
    }
   ],
   "source": [
    "%%time\n",
    "eval_qual_hnsw_bs1(index)"
   ]
  },
  {
   "cell_type": "markdown",
   "id": "d3b1b117",
   "metadata": {},
   "source": [
    "Качество невысокое, давайте потюним параметры (сначала ef):"
   ]
  },
  {
   "cell_type": "code",
   "execution_count": 69,
   "id": "bde6b4d2",
   "metadata": {},
   "outputs": [
    {
     "name": "stdout",
     "output_type": "stream",
     "text": [
      "24.095 %\n",
      "CPU times: user 398 ms, sys: 132 µs, total: 398 ms\n",
      "Wall time: 397 ms\n"
     ]
    }
   ],
   "source": [
    "%%time\n",
    "index.set_ef(ef=75)\n",
    "eval_qual_hnsw_bs1(index)"
   ]
  },
  {
   "cell_type": "code",
   "execution_count": 70,
   "id": "ff2fa485",
   "metadata": {},
   "outputs": [
    {
     "name": "stdout",
     "output_type": "stream",
     "text": [
      "24.789 %\n",
      "CPU times: user 483 ms, sys: 4.03 ms, total: 487 ms\n",
      "Wall time: 484 ms\n"
     ]
    }
   ],
   "source": [
    "%%time\n",
    "index.set_ef(ef=100)\n",
    "eval_qual_hnsw_bs1(index)"
   ]
  },
  {
   "cell_type": "code",
   "execution_count": 71,
   "id": "542d455c",
   "metadata": {},
   "outputs": [
    {
     "name": "stdout",
     "output_type": "stream",
     "text": [
      "25.136 %\n",
      "CPU times: user 650 ms, sys: 51 µs, total: 650 ms\n",
      "Wall time: 648 ms\n"
     ]
    }
   ],
   "source": [
    "%%time\n",
    "index.set_ef(ef=150)\n",
    "eval_qual_hnsw_bs1(index)"
   ]
  },
  {
   "cell_type": "markdown",
   "id": "e681bccf",
   "metadata": {},
   "source": [
    "Поднимем M:"
   ]
  },
  {
   "cell_type": "code",
   "execution_count": 72,
   "id": "d845a940",
   "metadata": {},
   "outputs": [],
   "source": [
    "index = hnswlib.Index(space = 'l2', dim = 512)\n",
    "index.init_index(max_elements = 62000, ef_construction = 20, M = 40)\n",
    "index.add_items(text_mat)\n",
    "index.set_ef(ef=150)"
   ]
  },
  {
   "cell_type": "code",
   "execution_count": 73,
   "id": "db47b8af",
   "metadata": {},
   "outputs": [
    {
     "name": "stdout",
     "output_type": "stream",
     "text": [
      "26.376 %\n",
      "CPU times: user 889 ms, sys: 198 µs, total: 889 ms\n",
      "Wall time: 885 ms\n"
     ]
    }
   ],
   "source": [
    "%%time\n",
    "eval_qual_hnsw_bs1(index)"
   ]
  },
  {
   "cell_type": "markdown",
   "id": "e9f8a939",
   "metadata": {},
   "source": [
    "И ef_construction тоже:"
   ]
  },
  {
   "cell_type": "code",
   "execution_count": 74,
   "id": "4067596b",
   "metadata": {},
   "outputs": [],
   "source": [
    "index = hnswlib.Index(space = 'l2', dim = 512)\n",
    "index.init_index(max_elements = 62000, ef_construction = 400, M = 40)\n",
    "index.add_items(text_mat)\n",
    "index.set_ef(ef=150)"
   ]
  },
  {
   "cell_type": "code",
   "execution_count": 75,
   "id": "cd5f6f6a",
   "metadata": {},
   "outputs": [
    {
     "name": "stdout",
     "output_type": "stream",
     "text": [
      "26.872 %\n",
      "CPU times: user 2.02 s, sys: 291 µs, total: 2.02 s\n",
      "Wall time: 2.02 s\n"
     ]
    }
   ],
   "source": [
    "%%time\n",
    "eval_qual_hnsw_bs1(index)"
   ]
  },
  {
   "cell_type": "markdown",
   "id": "a22b7191",
   "metadata": {},
   "source": [
    "# Источники"
   ]
  },
  {
   "cell_type": "markdown",
   "id": "5e6fc7b4",
   "metadata": {},
   "source": [
    "1. https://habr.com/ru/companies/okkamgroup/articles/509204/ (FAISS: Быстрый поиск лиц и клонов на многомиллионных данных)\n",
    "2. https://habr.com/ru/companies/vk/articles/338360/ (Методы приближенного поиска ближайших соседей)\n",
    "3. https://github.com/facebookresearch/faiss/wiki/ (faiss-wiki)\n",
    "4. https://github.com/spotify/annoy/tree/main (annoy гитхаб и вики)\n",
    "5. https://github.com/nmslib/hnswlib (hnswlib вики)\n",
    "6. https://neerc.ifmo.ru/wiki/index.php?title=Поиск_ближайших_соседей_с_помощью_иерархического_маленького_мира (об алгоритме hnswlib)"
   ]
  }
 ],
 "metadata": {
  "kernelspec": {
   "display_name": "Python 3 (ipykernel)",
   "language": "python",
   "name": "python3"
  },
  "language_info": {
   "codemirror_mode": {
    "name": "ipython",
    "version": 3
   },
   "file_extension": ".py",
   "mimetype": "text/x-python",
   "name": "python",
   "nbconvert_exporter": "python",
   "pygments_lexer": "ipython3",
   "version": "3.9.7"
  }
 },
 "nbformat": 4,
 "nbformat_minor": 5
}
