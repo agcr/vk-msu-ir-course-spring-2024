{
  "metadata": {
    "kernelspec": {
      "name": "python3",
      "display_name": "Python 3",
      "language": "python"
    },
    "language_info": {
      "name": "python",
      "version": "3.10.13",
      "mimetype": "text/x-python",
      "codemirror_mode": {
        "name": "ipython",
        "version": 3
      },
      "pygments_lexer": "ipython3",
      "nbconvert_exporter": "python",
      "file_extension": ".py"
    },
    "colab": {
      "provenance": []
    },
    "kaggle": {
      "accelerator": "nvidiaTeslaT4",
      "dataSources": [
        {
          "sourceId": 8328877,
          "sourceType": "datasetVersion",
          "datasetId": 4945864
        }
      ],
      "dockerImageVersionId": 30698,
      "isInternetEnabled": true,
      "language": "python",
      "sourceType": "notebook",
      "isGpuEnabled": true
    }
  },
  "nbformat_minor": 5,
  "nbformat": 4,
  "cells": [
    {
      "cell_type": "markdown",
      "source": [
        "# Нейросетевые модели поиска. Часть II. Переранжирование.\n",
        "## Домашнее задание\n",
        "\n",
        "В этом задании вам предстоит обучить модели переранжирования с архитектурой cross-encoder и bi-encoder на датасете [VK MARCO](https://cloud.mail.ru/public/MQ3H/GVGeAWZoj). За его решение можно получить до 10 баллов, а также еще 10 бонусных за выполнение дополнительных заданий.\n",
        "\n",
        "**Вам надо:**\n",
        "\n",
        "- Форкнуть эту репу;\n",
        "- Создать бранч, в котором вы дальше будете работать;\n",
        "- Выполнить все или часть заданий ноутбука;\n",
        "- Запушить ваш бранч и поставить Pull Request.\n",
        "\n",
        "Проверяющий счекаутит вашу бранчу и проверит работу.\n",
        "\n",
        "**Замечания:**\n",
        "\n",
        "- При выполнении задания можете использовать код из соответствующего семинара;\n",
        "- Вам предстоит сделать как минимум 2 обучения (а при выполнении дополнительных заданий и того больше), постарайтесь переиспользовать код и минимизировать копипасты;\n",
        "- Старайтесь писать чистый и понятный код, не оставляйте в ноутбуке лишний мусор (выводы ячеек с pip install, ненужный закомментированный код и т.д.);\n",
        "- При сдаче дз сохраните выходы ячеек с логами обучения и графиками. Если для построения графиков вы использовали tensorboard, то вставьте графики в ноутбук в виде скриншотов;\n",
        "- Итоговый ноутбук должен быть работоспособен, то есть проверяющий должен иметь возможность запустить все его ячейки в том порядке, в котором они распологаются в ноутбуке, и получить результаты, аналогичные вашим.\n",
        "\n",
        "\n",
        "### Данные [1 балл]\n",
        "\n",
        "Скачайте и распакуйте датасет [VK MARCO](https://cloud.mail.ru/public/MQ3H/GVGeAWZoj). Архив содержит следующие файлы (формат аналогичен MS MARCO):\n",
        "* vkmarco-docs.tsv - tsv с текстами документов;\n",
        "* vkmarco-doctrain-queries.tsv - tsv с текстами запросов;\n",
        "* vkmarco-doctrain-qrels.tsv - tsv с оценками релевантности запроса и документа;\n",
        "* Аналогичный набор файлов для валидации.\n",
        "\n",
        "Загрузите данные трейна и валидации в pandas.DataFrame так, чтобы он содержал следующие колонки:\n",
        "* qid - id запроса;\n",
        "* query - текст запроса;\n",
        "* text - текст документа;\n",
        "* label - оценка релевантности запроса и документа."
      ],
      "metadata": {
        "id": "0f92a19e-9f96-4275-8665-7b10669af3b4"
      },
      "id": "0f92a19e-9f96-4275-8665-7b10669af3b4"
    },
    {
      "cell_type": "code",
      "source": [
        "import pandas as pd\n",
        "import numpy as np"
      ],
      "metadata": {
        "execution": {
          "iopub.status.busy": "2024-05-06T12:03:40.297197Z",
          "iopub.execute_input": "2024-05-06T12:03:40.297901Z",
          "iopub.status.idle": "2024-05-06T12:03:41.153001Z",
          "shell.execute_reply.started": "2024-05-06T12:03:40.297869Z",
          "shell.execute_reply": "2024-05-06T12:03:41.152184Z"
        },
        "trusted": true,
        "id": "zrm65V3udGGe"
      },
      "execution_count": null,
      "outputs": [],
      "id": "zrm65V3udGGe"
    },
    {
      "cell_type": "markdown",
      "source": [
        "**Download file from cloud.mail.ru from linux console with bash script:**\n",
        "\n",
        "https://gist.github.com/cronfy/00e23e126d4fbf3fab37392e414f0e4c"
      ],
      "metadata": {
        "id": "iHcrbgcThWZ9"
      },
      "id": "iHcrbgcThWZ9"
    },
    {
      "cell_type": "code",
      "source": [
        "!wget !wget https://raw.githubusercontent.com/MaxTimoshkin/vk-msu-ir-course-spring-2024/TimoshkinMaksim/homeworks/nn-reranking/dl-cloud-mail-ru.sh\n",
        "\n",
        "!chmod +x dl-cloud-mail-ru.sh"
      ],
      "metadata": {
        "id": "l0F_9KSrg_TN",
        "trusted": true
      },
      "execution_count": null,
      "outputs": [],
      "id": "l0F_9KSrg_TN"
    },
    {
      "cell_type": "code",
      "source": [
        "#Downloading file from cloud.mail.ru from linux console with bash script:\n",
        "!./dl-cloud-mail-ru.sh https://cloud.mail.ru/public/MQ3H/GVGeAWZoj vkmarcoranking-v1-document-noeval.tar"
      ],
      "metadata": {
        "trusted": true,
        "id": "HPyD4GYhdGGf"
      },
      "execution_count": null,
      "outputs": [],
      "id": "HPyD4GYhdGGf"
    },
    {
      "cell_type": "code",
      "source": [
        "!tar -xvf vkmarcoranking-v1-document-noeval.tar\n",
        "!rm vkmarcoranking-v1-document-noeval.tar"
      ],
      "metadata": {
        "id": "Fi8fO0lwmiz3",
        "trusted": true
      },
      "execution_count": null,
      "outputs": [],
      "id": "Fi8fO0lwmiz3"
    },
    {
      "cell_type": "code",
      "source": [
        "!gunzip vkmarcoranking-v1-document/vkmarco-docs.tsv.gz\n",
        "!gunzip vkmarcoranking-v1-document/vkmarco-doctrain-queries.tsv.gz\n",
        "!gunzip vkmarcoranking-v1-document/vkmarco-doctrain-qrels.tsv.gz\n",
        "\n",
        "!gunzip vkmarcoranking-v1-document/vkmarco-docs-lookup.tsv.gz\n",
        "!gunzip vkmarcoranking-v1-document/vkmarco-docdev-queries.tsv.gz\n",
        "!gunzip vkmarcoranking-v1-document/vkmarco-docdev-qrels.tsv.gz"
      ],
      "metadata": {
        "id": "zGoJoeAUoMsM",
        "execution": {
          "iopub.status.busy": "2024-05-05T18:35:21.081508Z",
          "iopub.execute_input": "2024-05-05T18:35:21.081926Z",
          "iopub.status.idle": "2024-05-05T18:37:52.948676Z",
          "shell.execute_reply.started": "2024-05-05T18:35:21.081892Z",
          "shell.execute_reply": "2024-05-05T18:37:52.946876Z"
        },
        "trusted": true
      },
      "execution_count": null,
      "outputs": [],
      "id": "zGoJoeAUoMsM"
    },
    {
      "cell_type": "code",
      "source": [
        "!ls vkmarcoranking-v1-document"
      ],
      "metadata": {
        "colab": {
          "base_uri": "https://localhost:8080/"
        },
        "id": "TT3RPJi1qLl5",
        "outputId": "0a20b06f-55f9-4362-8d57-81424e55af36",
        "execution": {
          "iopub.status.busy": "2024-05-05T18:37:52.951129Z",
          "iopub.execute_input": "2024-05-05T18:37:52.951828Z",
          "iopub.status.idle": "2024-05-05T18:37:54.055809Z",
          "shell.execute_reply.started": "2024-05-05T18:37:52.951785Z",
          "shell.execute_reply": "2024-05-05T18:37:54.054186Z"
        },
        "trusted": true
      },
      "execution_count": null,
      "outputs": [
        {
          "name": "stdout",
          "text": "vkmarco-docdev-qrels.tsv    vkmarco-docs.tsv\nvkmarco-docdev-queries.tsv  vkmarco-doctrain-qrels.tsv\nvkmarco-docs-lookup.tsv     vkmarco-doctrain-queries.tsv\n",
          "output_type": "stream"
        }
      ],
      "id": "TT3RPJi1qLl5"
    },
    {
      "cell_type": "code",
      "source": [
        "PATH = 'vkmarcoranking-v1-document'\n",
        "\n",
        "train_docs_file = f'{PATH}/vkmarco-docs.tsv'\n",
        "train_queries_file = f'{PATH}/vkmarco-doctrain-queries.tsv'\n",
        "train_qrels_file = f'{PATH}/vkmarco-doctrain-qrels.tsv'\n",
        "\n",
        "val_docs_file = f'{PATH}/vkmarco-docs-lookup.tsv'\n",
        "val_queries_file = f'{PATH}/vkmarco-docdev-queries.tsv'\n",
        "val_qrels_file = f'{PATH}/vkmarco-docdev-qrels.tsv'"
      ],
      "metadata": {
        "id": "ws5LK1ThsKhg",
        "execution": {
          "iopub.status.busy": "2024-05-05T18:37:55.231241Z",
          "iopub.execute_input": "2024-05-05T18:37:55.232003Z",
          "iopub.status.idle": "2024-05-05T18:37:55.236825Z",
          "shell.execute_reply.started": "2024-05-05T18:37:55.231967Z",
          "shell.execute_reply": "2024-05-05T18:37:55.235911Z"
        },
        "trusted": true
      },
      "execution_count": null,
      "outputs": [],
      "id": "ws5LK1ThsKhg"
    },
    {
      "cell_type": "code",
      "source": [
        "df_docs = pd.read_csv(train_docs_file, sep='\\t', header=None)\n",
        "train_df_queries = pd.read_csv(train_queries_file, sep='\\t', header=None)\n",
        "train_df_qrels = pd.read_csv(train_qrels_file, sep=' ', header=None)"
      ],
      "metadata": {
        "id": "3kkijIrUtaow",
        "execution": {
          "iopub.status.busy": "2024-05-05T18:37:55.238326Z",
          "iopub.execute_input": "2024-05-05T18:37:55.239004Z",
          "iopub.status.idle": "2024-05-05T18:44:34.460147Z",
          "shell.execute_reply.started": "2024-05-05T18:37:55.238972Z",
          "shell.execute_reply": "2024-05-05T18:44:34.458859Z"
        },
        "trusted": true
      },
      "execution_count": null,
      "outputs": [],
      "id": "3kkijIrUtaow"
    },
    {
      "cell_type": "code",
      "source": [
        "val_df_docs = pd.read_csv(val_docs_file, sep='\\t', header=None)\n",
        "val_df_queries = pd.read_csv(val_queries_file, sep='\\t', header=None)\n",
        "val_df_qrels = pd.read_csv(val_qrels_file, sep=' ', header=None)"
      ],
      "metadata": {
        "id": "ys5qlsdQttzl",
        "execution": {
          "iopub.status.busy": "2024-05-05T18:44:34.462201Z",
          "iopub.execute_input": "2024-05-05T18:44:34.462660Z",
          "iopub.status.idle": "2024-05-05T18:44:35.669996Z",
          "shell.execute_reply.started": "2024-05-05T18:44:34.462617Z",
          "shell.execute_reply": "2024-05-05T18:44:35.668783Z"
        },
        "trusted": true
      },
      "execution_count": null,
      "outputs": [],
      "id": "ys5qlsdQttzl"
    },
    {
      "cell_type": "code",
      "source": [
        "def join_df(df_docs, df_queries, df_qrels):\n",
        "    df_docs.rename(columns={0 : 'doc_id', 1 : 'url', 2 : 'title', 3 : 'text'}, inplace=True)\n",
        "    if 'url' in df_docs.columns:\n",
        "        df_docs.drop('url', axis=1, inplace=True)\n",
        "\n",
        "    df_queries.rename(columns={0: \"qid\", 1: \"query\"}, inplace=True)\n",
        "\n",
        "    df_qrels.rename(columns={0:'qid', 1:'_', 2:'doc_id', 3:'label'}, inplace=True)\n",
        "    df_qrels.drop(['_'], axis=1, inplace=True)\n",
        "\n",
        "    df = df_qrels.join(df_queries.set_index(['qid']), on='qid')\n",
        "    df = df.join(df_docs.set_index('doc_id'), on='doc_id')\n",
        "    return df[['qid', 'query', 'text', 'label']]"
      ],
      "metadata": {
        "execution": {
          "iopub.status.busy": "2024-05-05T18:45:12.133189Z",
          "iopub.execute_input": "2024-05-05T18:45:12.133733Z",
          "iopub.status.idle": "2024-05-05T18:45:12.146771Z",
          "shell.execute_reply.started": "2024-05-05T18:45:12.133700Z",
          "shell.execute_reply": "2024-05-05T18:45:12.144918Z"
        },
        "trusted": true,
        "id": "_Te924e2dGGh"
      },
      "execution_count": null,
      "outputs": [],
      "id": "_Te924e2dGGh"
    },
    {
      "cell_type": "code",
      "source": [
        "train_df = join_df(df_docs, train_df_queries, train_df_qrels)\n",
        "valid_df = join_df(df_docs, val_df_queries, val_df_qrels)"
      ],
      "metadata": {
        "execution": {
          "iopub.status.busy": "2024-05-05T18:45:12.551419Z",
          "iopub.execute_input": "2024-05-05T18:45:12.551832Z",
          "iopub.status.idle": "2024-05-05T18:45:17.317445Z",
          "shell.execute_reply.started": "2024-05-05T18:45:12.551801Z",
          "shell.execute_reply": "2024-05-05T18:45:17.316176Z"
        },
        "trusted": true,
        "id": "fbSRrpWodGGh"
      },
      "execution_count": null,
      "outputs": [],
      "id": "fbSRrpWodGGh"
    },
    {
      "cell_type": "code",
      "source": [
        "train_df"
      ],
      "metadata": {
        "execution": {
          "iopub.status.busy": "2024-05-05T18:45:22.474645Z",
          "iopub.execute_input": "2024-05-05T18:45:22.475080Z",
          "iopub.status.idle": "2024-05-05T18:45:22.500364Z",
          "shell.execute_reply.started": "2024-05-05T18:45:22.475049Z",
          "shell.execute_reply": "2024-05-05T18:45:22.498860Z"
        },
        "trusted": true,
        "id": "HNYSCT4mdGGh",
        "outputId": "6354611a-540f-4354-a1e6-c5c1e31c1bd4"
      },
      "execution_count": null,
      "outputs": [
        {
          "execution_count": 14,
          "output_type": "execute_result",
          "data": {
            "text/plain": "           qid                                             query  \\\n0            1  0 00 дом muzono net raim feat artur adil скачать   \n1            1  0 00 дом muzono net raim feat artur adil скачать   \n2            1  0 00 дом muzono net raim feat artur adil скачать   \n3            1  0 00 дом muzono net raim feat artur adil скачать   \n4            1  0 00 дом muzono net raim feat artur adil скачать   \n...        ...                                               ...   \n1002625  42770                                    հեպ 9 դասագիրք   \n1002626  42770                                    հեպ 9 դասագիրք   \n1002627  42771                                              美女的胸   \n1002628  42771                                              美女的胸   \n1002629  42771                                              美女的胸   \n\n                                                      text  label  \n0        Скачивай и слушай 🎧 raim дом o2 2018 на Zvuk.t...      1  \n1        Скачать песню RaiM feat. Artur & Adil - Дом бе...      3  \n2        Скачать песню RaiM ft. Artur & Adil - Дом в Фо...      2  \n3        Скачать RaiM feat. Artur & Adil - Дом в mp3 фо...      2  \n4        Здесь можете бесплатно скачать Дом - RaiM feat...      2  \n...                                                    ...    ...  \n1002625  null Մայիսի 9 << Մայիս >> Կի Եկ Եք Չո Հի Ու Շա...      1  \n1002626  null Հայերեն English 02 Сентября 2022 | Пятниц...      0  \n1002627  系统漫画《大英雄的女友超级凶》，简介：根据阿里巴巴文学二次元签约作者大仙的同名小说改编。他是...      0  \n1002628  Смотрите онлайн 善良的女祕書 [中文字幕].. 20 мин 14 с. В...      0  \n1002629  大家好，我是小影。請關注微信訂閱號：HSSJ2019 回復：XZ32 每天更新，想获得更多影...      0  \n\n[1002630 rows x 4 columns]",
            "text/html": "<div>\n<style scoped>\n    .dataframe tbody tr th:only-of-type {\n        vertical-align: middle;\n    }\n\n    .dataframe tbody tr th {\n        vertical-align: top;\n    }\n\n    .dataframe thead th {\n        text-align: right;\n    }\n</style>\n<table border=\"1\" class=\"dataframe\">\n  <thead>\n    <tr style=\"text-align: right;\">\n      <th></th>\n      <th>qid</th>\n      <th>query</th>\n      <th>text</th>\n      <th>label</th>\n    </tr>\n  </thead>\n  <tbody>\n    <tr>\n      <th>0</th>\n      <td>1</td>\n      <td>0 00 дом muzono net raim feat artur adil скачать</td>\n      <td>Скачивай и слушай 🎧 raim дом o2 2018 на Zvuk.t...</td>\n      <td>1</td>\n    </tr>\n    <tr>\n      <th>1</th>\n      <td>1</td>\n      <td>0 00 дом muzono net raim feat artur adil скачать</td>\n      <td>Скачать песню RaiM feat. Artur &amp; Adil - Дом бе...</td>\n      <td>3</td>\n    </tr>\n    <tr>\n      <th>2</th>\n      <td>1</td>\n      <td>0 00 дом muzono net raim feat artur adil скачать</td>\n      <td>Скачать песню RaiM ft. Artur &amp; Adil - Дом в Фо...</td>\n      <td>2</td>\n    </tr>\n    <tr>\n      <th>3</th>\n      <td>1</td>\n      <td>0 00 дом muzono net raim feat artur adil скачать</td>\n      <td>Скачать RaiM feat. Artur &amp; Adil - Дом в mp3 фо...</td>\n      <td>2</td>\n    </tr>\n    <tr>\n      <th>4</th>\n      <td>1</td>\n      <td>0 00 дом muzono net raim feat artur adil скачать</td>\n      <td>Здесь можете бесплатно скачать Дом - RaiM feat...</td>\n      <td>2</td>\n    </tr>\n    <tr>\n      <th>...</th>\n      <td>...</td>\n      <td>...</td>\n      <td>...</td>\n      <td>...</td>\n    </tr>\n    <tr>\n      <th>1002625</th>\n      <td>42770</td>\n      <td>հեպ 9 դասագիրք</td>\n      <td>null Մայիսի 9 &lt;&lt; Մայիս &gt;&gt; Կի Եկ Եք Չո Հի Ու Շա...</td>\n      <td>1</td>\n    </tr>\n    <tr>\n      <th>1002626</th>\n      <td>42770</td>\n      <td>հեպ 9 դասագիրք</td>\n      <td>null Հայերեն English 02 Сентября 2022 | Пятниц...</td>\n      <td>0</td>\n    </tr>\n    <tr>\n      <th>1002627</th>\n      <td>42771</td>\n      <td>美女的胸</td>\n      <td>系统漫画《大英雄的女友超级凶》，简介：根据阿里巴巴文学二次元签约作者大仙的同名小说改编。他是...</td>\n      <td>0</td>\n    </tr>\n    <tr>\n      <th>1002628</th>\n      <td>42771</td>\n      <td>美女的胸</td>\n      <td>Смотрите онлайн 善良的女祕書 [中文字幕].. 20 мин 14 с. В...</td>\n      <td>0</td>\n    </tr>\n    <tr>\n      <th>1002629</th>\n      <td>42771</td>\n      <td>美女的胸</td>\n      <td>大家好，我是小影。請關注微信訂閱號：HSSJ2019 回復：XZ32 每天更新，想获得更多影...</td>\n      <td>0</td>\n    </tr>\n  </tbody>\n</table>\n<p>1002630 rows × 4 columns</p>\n</div>"
          },
          "metadata": {}
        }
      ],
      "id": "HNYSCT4mdGGh"
    },
    {
      "cell_type": "code",
      "source": [
        "valid_df"
      ],
      "metadata": {
        "execution": {
          "iopub.status.busy": "2024-05-05T20:08:29.454036Z",
          "iopub.execute_input": "2024-05-05T20:08:29.454593Z",
          "iopub.status.idle": "2024-05-05T20:08:29.491176Z",
          "shell.execute_reply.started": "2024-05-05T20:08:29.454555Z",
          "shell.execute_reply": "2024-05-05T20:08:29.489777Z"
        },
        "trusted": true,
        "id": "MENaUJgbdGGi",
        "outputId": "f1320114-5676-4c6f-c9c6-a276f672bb4a"
      },
      "execution_count": null,
      "outputs": [
        {
          "execution_count": 59,
          "output_type": "execute_result",
          "data": {
            "text/plain": "          qid                             query  \\\n0           5               05 05 2019 выходной   \n1           5               05 05 2019 выходной   \n2           5               05 05 2019 выходной   \n3           5               05 05 2019 выходной   \n4           5               05 05 2019 выходной   \n...       ...                               ...   \n153367  42757  югра безопасность урай реквизиты   \n153368  42757  югра безопасность урай реквизиты   \n153369  42757  югра безопасность урай реквизиты   \n153370  42757  югра безопасность урай реквизиты   \n153371  42757  югра безопасность урай реквизиты   \n\n                                                     text  label  \n0       Выходные, праздники, не рабочие дни в 2019 год...      2  \n1       Официальные праздники и выходные в мае 2019 го...      2  \n2       null Как отдыхают в мае 2019 года в России и с...      2  \n3       О рабочем времени в 2022 году 📅: выходные, пра...      1  \n4       В мае 2019 года у украинцев будут дополнительн...      1  \n...                                                   ...    ...  \n153367  Информация о компании ООО \"ЮГРА-БЕЗОПАСНОСТЬ\" ...      3  \n153368  ООО \"ЮГРА-БЕЗОПАСНОСТЬ\" - г. Урай - ОГРН 10486...      3  \n153369  ООО \"ЮГРА-БЕЗОПАСНОСТЬ\", г. Урай: реквизиты, р...      2  \n153370  ИНН, ОГРН, юридический адрес, ФИО директора ко...      2  \n153371  ООО \"ЮГРА - БЕЗОПАСНОСТЬ\" - г. Когалым - ОГРН ...      3  \n\n[153372 rows x 4 columns]",
            "text/html": "<div>\n<style scoped>\n    .dataframe tbody tr th:only-of-type {\n        vertical-align: middle;\n    }\n\n    .dataframe tbody tr th {\n        vertical-align: top;\n    }\n\n    .dataframe thead th {\n        text-align: right;\n    }\n</style>\n<table border=\"1\" class=\"dataframe\">\n  <thead>\n    <tr style=\"text-align: right;\">\n      <th></th>\n      <th>qid</th>\n      <th>query</th>\n      <th>text</th>\n      <th>label</th>\n    </tr>\n  </thead>\n  <tbody>\n    <tr>\n      <th>0</th>\n      <td>5</td>\n      <td>05 05 2019 выходной</td>\n      <td>Выходные, праздники, не рабочие дни в 2019 год...</td>\n      <td>2</td>\n    </tr>\n    <tr>\n      <th>1</th>\n      <td>5</td>\n      <td>05 05 2019 выходной</td>\n      <td>Официальные праздники и выходные в мае 2019 го...</td>\n      <td>2</td>\n    </tr>\n    <tr>\n      <th>2</th>\n      <td>5</td>\n      <td>05 05 2019 выходной</td>\n      <td>null Как отдыхают в мае 2019 года в России и с...</td>\n      <td>2</td>\n    </tr>\n    <tr>\n      <th>3</th>\n      <td>5</td>\n      <td>05 05 2019 выходной</td>\n      <td>О рабочем времени в 2022 году 📅: выходные, пра...</td>\n      <td>1</td>\n    </tr>\n    <tr>\n      <th>4</th>\n      <td>5</td>\n      <td>05 05 2019 выходной</td>\n      <td>В мае 2019 года у украинцев будут дополнительн...</td>\n      <td>1</td>\n    </tr>\n    <tr>\n      <th>...</th>\n      <td>...</td>\n      <td>...</td>\n      <td>...</td>\n      <td>...</td>\n    </tr>\n    <tr>\n      <th>153367</th>\n      <td>42757</td>\n      <td>югра безопасность урай реквизиты</td>\n      <td>Информация о компании ООО \"ЮГРА-БЕЗОПАСНОСТЬ\" ...</td>\n      <td>3</td>\n    </tr>\n    <tr>\n      <th>153368</th>\n      <td>42757</td>\n      <td>югра безопасность урай реквизиты</td>\n      <td>ООО \"ЮГРА-БЕЗОПАСНОСТЬ\" - г. Урай - ОГРН 10486...</td>\n      <td>3</td>\n    </tr>\n    <tr>\n      <th>153369</th>\n      <td>42757</td>\n      <td>югра безопасность урай реквизиты</td>\n      <td>ООО \"ЮГРА-БЕЗОПАСНОСТЬ\", г. Урай: реквизиты, р...</td>\n      <td>2</td>\n    </tr>\n    <tr>\n      <th>153370</th>\n      <td>42757</td>\n      <td>югра безопасность урай реквизиты</td>\n      <td>ИНН, ОГРН, юридический адрес, ФИО директора ко...</td>\n      <td>2</td>\n    </tr>\n    <tr>\n      <th>153371</th>\n      <td>42757</td>\n      <td>югра безопасность урай реквизиты</td>\n      <td>ООО \"ЮГРА - БЕЗОПАСНОСТЬ\" - г. Когалым - ОГРН ...</td>\n      <td>3</td>\n    </tr>\n  </tbody>\n</table>\n<p>153372 rows × 4 columns</p>\n</div>"
          },
          "metadata": {}
        }
      ],
      "id": "MENaUJgbdGGi"
    },
    {
      "cell_type": "code",
      "source": [
        "!rm -r vkmarcoranking-v1-document"
      ],
      "metadata": {
        "execution": {
          "iopub.status.busy": "2024-05-05T18:47:26.644116Z",
          "iopub.execute_input": "2024-05-05T18:47:26.644640Z",
          "iopub.status.idle": "2024-05-05T18:47:29.156050Z",
          "shell.execute_reply.started": "2024-05-05T18:47:26.644601Z",
          "shell.execute_reply": "2024-05-05T18:47:29.154399Z"
        },
        "trusted": true,
        "id": "MHgXMdb0dGGi"
      },
      "execution_count": null,
      "outputs": [],
      "id": "MHgXMdb0dGGi"
    },
    {
      "cell_type": "code",
      "source": [
        "# Сохранение файлов для последующего создания датасетов (т.к. иначе не хватает оперативной памяти)\n",
        "train_df.to_csv('train_df.csv', sep='\\t', index=False)\n",
        "valid_df.to_csv('valid_df.csv', sep='\\t', index=False)"
      ],
      "metadata": {
        "execution": {
          "iopub.status.busy": "2024-05-05T19:09:19.454477Z",
          "iopub.execute_input": "2024-05-05T19:09:19.455015Z",
          "iopub.status.idle": "2024-05-05T19:17:31.067159Z",
          "shell.execute_reply.started": "2024-05-05T19:09:19.454978Z",
          "shell.execute_reply": "2024-05-05T19:17:31.065540Z"
        },
        "trusted": true,
        "id": "A_epLGfOdGGi"
      },
      "execution_count": null,
      "outputs": [],
      "id": "A_epLGfOdGGi"
    },
    {
      "cell_type": "code",
      "source": [
        "!mkdir /kaggle/working/train_df\n",
        "\n",
        "!wget https://raw.githubusercontent.com/MaxTimoshkin/vk-msu-ir-course-spring-2024/TimoshkinMaksim/homeworks/nn-reranking/dataset-metadata.json\n",
        "\n",
        "!mv dataset-metadata.json train_df/dataset-metadata.json"
      ],
      "metadata": {
        "trusted": true,
        "id": "X8vWJYpmdGGi"
      },
      "execution_count": null,
      "outputs": [],
      "id": "X8vWJYpmdGGi"
    },
    {
      "cell_type": "code",
      "source": [
        "!mv /kaggle/working/train_df.csv  /kaggle/working/train_df/train_df.csv\n",
        "!mv /kaggle/working/valid_df.csv  /kaggle/working/train_df/valid_df.csv"
      ],
      "metadata": {
        "execution": {
          "iopub.status.busy": "2024-05-05T20:16:34.190356Z",
          "iopub.execute_input": "2024-05-05T20:16:34.191967Z",
          "iopub.status.idle": "2024-05-05T20:16:37.726712Z",
          "shell.execute_reply.started": "2024-05-05T20:16:34.191918Z",
          "shell.execute_reply": "2024-05-05T20:16:37.724858Z"
        },
        "trusted": true,
        "id": "A6smKzIpdGGi"
      },
      "execution_count": null,
      "outputs": [],
      "id": "A6smKzIpdGGi"
    },
    {
      "cell_type": "code",
      "source": [
        "!kaggle datasets create -p /kaggle/working/train_df"
      ],
      "metadata": {
        "execution": {
          "iopub.status.busy": "2024-05-05T20:36:41.324913Z",
          "iopub.execute_input": "2024-05-05T20:36:41.325471Z",
          "iopub.status.idle": "2024-05-05T20:42:05.422763Z",
          "shell.execute_reply.started": "2024-05-05T20:36:41.325428Z",
          "shell.execute_reply": "2024-05-05T20:42:05.421150Z"
        },
        "trusted": true,
        "id": "OdTFVgWRdGGi",
        "outputId": "f060d098-282c-4944-f6f9-ceba8847dd2c"
      },
      "execution_count": null,
      "outputs": [
        {
          "name": "stdout",
          "text": "Starting upload for file valid_df.csv\n100%|██████████████████████████████████████| 1.91G/1.91G [00:43<00:00, 47.3MB/s]\nUpload successful: valid_df.csv (2GB)\nStarting upload for file train_df.csv\n100%|██████████████████████████████████████| 12.4G/12.4G [04:35<00:00, 48.4MB/s]\nUpload successful: train_df.csv (12GB)\nYour private Dataset is being created. Please check progress at https://www.kaggle.com/datasets/maxtimoshkin/df-train\n",
          "output_type": "stream"
        }
      ],
      "id": "OdTFVgWRdGGi"
    },
    {
      "cell_type": "code",
      "source": [
        "# Звгрузка данных из датасета\n",
        "train_df = pd.read_csv('/kaggle/input/df-train/train_df.csv', sep='\\t')\n",
        "valid_df = pd.read_csv('/kaggle/input/df-train/valid_df.csv', sep='\\t')"
      ],
      "metadata": {
        "execution": {
          "iopub.status.busy": "2024-05-06T12:03:45.210987Z",
          "iopub.execute_input": "2024-05-06T12:03:45.211864Z",
          "iopub.status.idle": "2024-05-06T12:04:35.554154Z",
          "shell.execute_reply.started": "2024-05-06T12:03:45.211828Z",
          "shell.execute_reply": "2024-05-06T12:04:35.552974Z"
        },
        "trusted": true,
        "id": "aQQv2UxXdGGj"
      },
      "execution_count": null,
      "outputs": [],
      "id": "aQQv2UxXdGGj"
    },
    {
      "cell_type": "markdown",
      "source": [
        "### Baselines \\[2 балла\\]\n",
        "\n",
        "Реализуйте подсчет метрик MRR@k и NDCG@k. Посчитайте их значения на валидационном сете для нескольких бейзлайнов:\n",
        "1. Модель, делающая случайное предсказание;\n",
        "1. BM25."
      ],
      "metadata": {
        "id": "c9a376f7-8bc6-4938-80e1-8301e861d0f7"
      },
      "id": "c9a376f7-8bc6-4938-80e1-8301e861d0f7"
    },
    {
      "cell_type": "code",
      "source": [
        "import torch\n",
        "from torchmetrics.retrieval import RetrievalNormalizedDCG\n",
        "from torchmetrics.retrieval import RetrievalMRR"
      ],
      "metadata": {
        "execution": {
          "iopub.status.busy": "2024-05-06T12:04:35.556438Z",
          "iopub.execute_input": "2024-05-06T12:04:35.557277Z",
          "iopub.status.idle": "2024-05-06T12:04:42.809573Z",
          "shell.execute_reply.started": "2024-05-06T12:04:35.557236Z",
          "shell.execute_reply": "2024-05-06T12:04:42.808465Z"
        },
        "trusted": true,
        "id": "lGVuLRhGdGGj"
      },
      "execution_count": null,
      "outputs": [],
      "id": "lGVuLRhGdGGj"
    },
    {
      "cell_type": "code",
      "source": [
        "def MRR(preds, targets, qids):\n",
        "    return RetrievalMRR(top_k=10, empty_target_action='neg')(\n",
        "        torch.Tensor(preds),\n",
        "        torch.LongTensor(targets >= 2),\n",
        "        indexes=torch.LongTensor(qids - min(qids))\n",
        "    )\n",
        "\n",
        "def NDCG(preds, targets, qids):\n",
        "    return RetrievalNormalizedDCG(top_k=10, empty_target_action='skip')(\n",
        "        torch.Tensor(preds),\n",
        "        torch.LongTensor(targets.replace(1, 0)),\n",
        "        indexes=torch.LongTensor(qids - min(qids))\n",
        "    )"
      ],
      "metadata": {
        "execution": {
          "iopub.status.busy": "2024-05-06T12:04:42.810823Z",
          "iopub.execute_input": "2024-05-06T12:04:42.811232Z",
          "iopub.status.idle": "2024-05-06T12:04:42.818042Z",
          "shell.execute_reply.started": "2024-05-06T12:04:42.811206Z",
          "shell.execute_reply": "2024-05-06T12:04:42.816876Z"
        },
        "trusted": true,
        "id": "wIIanIzKdGGj"
      },
      "execution_count": null,
      "outputs": [],
      "id": "wIIanIzKdGGj"
    },
    {
      "cell_type": "code",
      "source": [
        "# Случайное предсказание\n",
        "np.random.seed(42)\n",
        "\n",
        "random_preds = np.random.random(valid_df.shape[0])\n",
        "\n",
        "mrr  = MRR(random_preds, valid_df['label'], valid_df['qid'])\n",
        "ndcg = NDCG(random_preds, valid_df['label'], valid_df['qid'])\n",
        "\n",
        "print(f'MRR = {mrr}')\n",
        "print(f'NDCG = {ndcg}')"
      ],
      "metadata": {
        "execution": {
          "iopub.status.busy": "2024-05-06T12:04:42.820152Z",
          "iopub.execute_input": "2024-05-06T12:04:42.820578Z",
          "iopub.status.idle": "2024-05-06T12:04:45.850683Z",
          "shell.execute_reply.started": "2024-05-06T12:04:42.820551Z",
          "shell.execute_reply": "2024-05-06T12:04:45.849722Z"
        },
        "trusted": true,
        "id": "_UljHM_kdGGj",
        "outputId": "c9760ae8-fa76-47a0-cc34-dd815af19d1b"
      },
      "execution_count": null,
      "outputs": [
        {
          "name": "stdout",
          "text": "MRR = 0.5713226199150085\nNDCG = 0.4331240952014923\n",
          "output_type": "stream"
        }
      ],
      "id": "_UljHM_kdGGj"
    },
    {
      "cell_type": "code",
      "source": [
        "!pip install rank-bm25"
      ],
      "metadata": {
        "trusted": true,
        "id": "ZFg-3L7TdGGj"
      },
      "execution_count": null,
      "outputs": [],
      "id": "ZFg-3L7TdGGj"
    },
    {
      "cell_type": "code",
      "source": [
        "from rank_bm25 import BM25Okapi\n",
        "\n",
        "corpus = valid_df['text'].values\n",
        "tokenized_corpus = [doc.split(\" \") for doc in corpus]\n",
        "bm25 = BM25Okapi(tokenized_corpus)"
      ],
      "metadata": {
        "execution": {
          "iopub.status.busy": "2024-05-06T12:04:58.956407Z",
          "iopub.execute_input": "2024-05-06T12:04:58.956711Z",
          "iopub.status.idle": "2024-05-06T12:07:06.437129Z",
          "shell.execute_reply.started": "2024-05-06T12:04:58.956678Z",
          "shell.execute_reply": "2024-05-06T12:07:06.436171Z"
        },
        "trusted": true,
        "id": "MGpTBeRsdGGj"
      },
      "execution_count": null,
      "outputs": [],
      "id": "MGpTBeRsdGGj"
    },
    {
      "cell_type": "code",
      "source": [
        "def get_bm25_scores(test_data):\n",
        "    queries = test_data['query'].unique()\n",
        "    bm25_preds = np.zeros(len(test_data))\n",
        "    for q in tqdm.tqdm(queries):\n",
        "        tokenized_query = q.split(\" \")\n",
        "        doc_scores = bm25.get_scores(tokenized_query)\n",
        "        mask = test_data['query'] == q\n",
        "        bm25_preds[mask] = doc_scores[mask]\n",
        "    return bm25_preds"
      ],
      "metadata": {
        "execution": {
          "iopub.status.busy": "2024-05-06T12:09:39.542621Z",
          "iopub.execute_input": "2024-05-06T12:09:39.543591Z",
          "iopub.status.idle": "2024-05-06T12:09:39.549394Z",
          "shell.execute_reply.started": "2024-05-06T12:09:39.543553Z",
          "shell.execute_reply": "2024-05-06T12:09:39.548188Z"
        },
        "trusted": true,
        "id": "AuFFG5FKdGGk"
      },
      "execution_count": null,
      "outputs": [],
      "id": "AuFFG5FKdGGk"
    },
    {
      "cell_type": "code",
      "source": [
        "import tqdm\n",
        "\n",
        "bm25_preds = get_bm25_scores(valid_df)"
      ],
      "metadata": {
        "execution": {
          "iopub.status.busy": "2024-05-06T12:09:42.621937Z",
          "iopub.execute_input": "2024-05-06T12:09:42.622691Z",
          "iopub.status.idle": "2024-05-06T12:51:30.738093Z",
          "shell.execute_reply.started": "2024-05-06T12:09:42.622658Z",
          "shell.execute_reply": "2024-05-06T12:51:30.737091Z"
        },
        "trusted": true,
        "id": "c4q9i7kydGGk",
        "outputId": "d3ea579e-0c69-4f76-fee9-6f37c1d7b2cf"
      },
      "execution_count": null,
      "outputs": [
        {
          "name": "stderr",
          "text": "100%|██████████| 5000/5000 [41:48<00:00,  1.99it/s]  \n",
          "output_type": "stream"
        }
      ],
      "id": "c4q9i7kydGGk"
    },
    {
      "cell_type": "code",
      "source": [
        "# BM25 предсказание\n",
        "mrr  = MRR(bm25_preds, valid_df['label'], valid_df['qid'])\n",
        "ndcg = NDCG(bm25_preds, valid_df['label'], valid_df['qid'])\n",
        "\n",
        "print(f'MRR = {mrr}')\n",
        "print(f'NDCG = {ndcg}')"
      ],
      "metadata": {
        "execution": {
          "iopub.status.busy": "2024-05-06T12:51:30.740083Z",
          "iopub.execute_input": "2024-05-06T12:51:30.740567Z",
          "iopub.status.idle": "2024-05-06T12:51:36.688350Z",
          "shell.execute_reply.started": "2024-05-06T12:51:30.740531Z",
          "shell.execute_reply": "2024-05-06T12:51:36.687267Z"
        },
        "trusted": true,
        "id": "-qma9OoMdGGk",
        "outputId": "6e5241b8-95ee-4c70-c271-4821d1c6f80e"
      },
      "execution_count": null,
      "outputs": [
        {
          "name": "stdout",
          "text": "MRR = 0.5798457264900208\nNDCG = 0.45509999990463257\n",
          "output_type": "stream"
        }
      ],
      "id": "-qma9OoMdGGk"
    },
    {
      "cell_type": "markdown",
      "source": [
        "### Обучение cross-encoder \\[2 балла\\]\n",
        "\n",
        "Выполните следующие задания:\n",
        "* Обучите модель xlm-roberta-base в фомате cross-encoder.\n",
        "* Постройте графики зависимости метрик от количества пройденных шагов.\n",
        "* Посчитайте метрики для финальной модели.\n",
        "* Сколько времени заняло обучение?"
      ],
      "metadata": {
        "id": "fc522a46-e3d1-4174-8ffa-de23c93067ec"
      },
      "id": "fc522a46-e3d1-4174-8ffa-de23c93067ec"
    },
    {
      "cell_type": "markdown",
      "source": [
        "### Обучение bi-encoder \\[4 балла\\]\n",
        "\n",
        "Вспомним, что разница между cross-encoder и bi-encoder моделями заключается способе получения скора релевантности:\n",
        "\n",
        "| Cross-encoder | Bi-encoder |\n",
        "\n",
        "Выполните следующие задания:\n",
        "* Внесите необходимые изменения в код и обучите xlm-roberta-base в фомате bi-encoder.\n",
        "* Постройте графики зависимости метрик от количества пройденных шагов.\n",
        "* Посчитайте метрики для финальной модели.\n",
        "* Сколько времени заняло обучение?"
      ],
      "metadata": {
        "id": "908140fc-f2a4-4154-8cb9-e850b4298b54"
      },
      "id": "908140fc-f2a4-4154-8cb9-e850b4298b54"
    },
    {
      "cell_type": "code",
      "source": [
        "# YOUR CODE HERE"
      ],
      "metadata": {
        "id": "8846f7a9-ddea-426f-84fb-6c63229a49ea"
      },
      "execution_count": null,
      "outputs": [],
      "id": "8846f7a9-ddea-426f-84fb-6c63229a49ea"
    },
    {
      "cell_type": "markdown",
      "source": [
        "### Сравнение cross-encoder и bi-encoder архитектур \\[2 балла\\]\n",
        "\n",
        "Выполните следующие задания:\n",
        "* Сравните графики обучения моделей, скорость обучения и скорость инфернса.\n",
        "* Напишите вывод."
      ],
      "metadata": {
        "id": "2e2a1c2f-6206-4623-a8b2-857e2a108c2c"
      },
      "id": "2e2a1c2f-6206-4623-a8b2-857e2a108c2c"
    },
    {
      "cell_type": "markdown",
      "source": [
        "### Дополнительно \\[10 баллов\\]\n",
        "\n",
        "Вы можете получить дополнительные баллы, выполнив одно или несколько заданий:\n",
        "* Обучите cross-encoder в fp16 с использованием AMP, посчитайте метрики, есть ли изменения? **[1 балла]**\n",
        "* Реализуйте семплирование примеров с учетом их длинны, насколько ускорилось обучение cross-encoder? **[1 балла]**\n",
        "* Попробуйте увеличить метрики bi-encoder за счет использования другого претрейна. Кроме xlm-roberta-base на [Huggingface](https://huggingface.co/models) есть большое количество предобученных моделей BERT. Датасет содержит тексты на русском языке, поэтому стоит обратить внимание на русскоязычные или мультиязычные претрейны. Если вам удасться улучшить метрику, то предположите, какие отличия претрейна на это повлияли. **[2 балла]**\n",
        "* Попробуйте разморозить больше параметров модели (например, последний трансформерный слой). Как изменилось качество и скорость обучения? **[2 балла]**\n",
        "* Попробуйте использовать listwise лосс для обучения модели, как изменились метрики? **[4 балла]**"
      ],
      "metadata": {
        "id": "4464cc80-4541-48ca-8751-87d59a4b39b3"
      },
      "id": "4464cc80-4541-48ca-8751-87d59a4b39b3"
    },
    {
      "cell_type": "code",
      "source": [
        "# YOUR CODE HERE"
      ],
      "metadata": {
        "id": "d44f6f2c-aa9e-49d0-91ef-41bb5a241020"
      },
      "execution_count": null,
      "outputs": [],
      "id": "d44f6f2c-aa9e-49d0-91ef-41bb5a241020"
    }
  ]
}