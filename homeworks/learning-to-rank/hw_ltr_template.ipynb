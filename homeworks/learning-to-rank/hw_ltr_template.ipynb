{
  "cells": [
    {
      "cell_type": "markdown",
      "id": "06efe571-c571-4301-8c84-6a19dea2b9b5",
      "metadata": {
        "id": "06efe571-c571-4301-8c84-6a19dea2b9b5"
      },
      "source": [
        "# Домашняя работа по теме \"Машинное обучение ранжированию\""
      ]
    },
    {
      "cell_type": "markdown",
      "id": "837d0fd7-e327-4713-847c-3dfe4b2dba1d",
      "metadata": {
        "id": "837d0fd7-e327-4713-847c-3dfe4b2dba1d"
      },
      "source": [
        "В этом ДЗ мы:\n",
        "- научимся работать со стандартным датасетом для машинного обучения ранжированию [MSLR](https://www.microsoft.com/en-us/research/project/mslr/)\n",
        "- попробуем применить на практике все то, чему мы научились на семинаре"
      ]
    },
    {
      "cell_type": "markdown",
      "id": "01c146f0-de33-4b44-bb81-fcf1711ce1f7",
      "metadata": {
        "id": "01c146f0-de33-4b44-bb81-fcf1711ce1f7"
      },
      "source": [
        "## Как будет происходить сдача ДЗ"
      ]
    },
    {
      "cell_type": "markdown",
      "id": "24a5eaff-2123-4a5b-ba12-74829b50a5b5",
      "metadata": {
        "id": "24a5eaff-2123-4a5b-ba12-74829b50a5b5"
      },
      "source": [
        "Вам надо:\n",
        "- форкнуть эту репу\n",
        "- создать бранч в котором вы дальше будете работать\n",
        "- реализовать класс Model в этом ноутбуке\n",
        "- убедиться, что ваша реализация выбивает NDCG@10 выше бейзлайна (см. ниже)\n",
        "- запушить ваш бранч и поставить Pull Request\n",
        "- в комментарии написать какой скор вы выбили\n",
        "\n",
        "В таком случае мы (организаторы):\n",
        "\n",
        "- счекаутим вашу бранчу\n",
        "- проверим что ваша реализация действительно выбивает заявленный скор\n",
        "\n",
        "Предполагается, что и вы, и мы работаем в виртаульном окружении как в семинаре про машинное обучение ранжированию: seminars/7-learning-to-rank/requirements.txt(подробнее про работу с виртуальными окружениями README в корне этой репы).\n",
        "\n",
        "Оценка:\n",
        "- За выбитый скор больше **0.507** назначаем **5** баллов, за скор больше (или равно) **0.510** назначаем максимальный балл -- 10 баллов\n",
        "- Тот из участников кто выбъет самый высокий скор получит еще +10 баллов\n",
        "\n",
        "При сдаче кода важно помнить о том, что:\n",
        "- В коде не должно быть захардкоженных с потолка взятых гиперпараметров (таких как число деревьев, learning rate и т.п.) -- обязательно должен быть представлен код который их подбирает!\n",
        "- Решение должно быть стабильно от запуска к запуску (на CPU) т.е. все seed'ы для генераторов случайных чисел должны быть фиксированы\n",
        "- Мы (организаторы) будем запускать код на CPU поэтому, даже если вы использовали для подбора параметров GPU, финальный скор надо репортить на CPU"
      ]
    },
    {
      "cell_type": "markdown",
      "id": "74db45aa-1306-4dc6-ace5-c34e973cc171",
      "metadata": {
        "id": "74db45aa-1306-4dc6-ace5-c34e973cc171"
      },
      "source": [
        "## Пререквизиты"
      ]
    },
    {
      "cell_type": "markdown",
      "id": "be5045e6-040a-4863-a095-46cf2cfc1813",
      "metadata": {
        "id": "be5045e6-040a-4863-a095-46cf2cfc1813"
      },
      "source": [
        "Импортируем все что нам понадобится для дальнейшей работы:"
      ]
    },
    {
      "cell_type": "code",
      "source": [
        "!pip install catboost"
      ],
      "metadata": {
        "id": "iMx75TbieQDX"
      },
      "id": "iMx75TbieQDX",
      "execution_count": null,
      "outputs": []
    },
    {
      "cell_type": "code",
      "execution_count": 2,
      "id": "e1626b56-ac20-486e-90dc-087240c96dc5",
      "metadata": {
        "id": "e1626b56-ac20-486e-90dc-087240c96dc5"
      },
      "outputs": [],
      "source": [
        "import pathlib\n",
        "from timeit import default_timer as timer\n",
        "\n",
        "import numpy as np\n",
        "import pandas as pd\n",
        "\n",
        "from catboost import datasets, utils"
      ]
    },
    {
      "cell_type": "code",
      "source": [
        "import copy\n",
        "import catboost"
      ],
      "metadata": {
        "id": "8gIg_G9XlDMj"
      },
      "id": "8gIg_G9XlDMj",
      "execution_count": 3,
      "outputs": []
    },
    {
      "cell_type": "markdown",
      "id": "c0470ece-0248-41bd-8ac9-971730df1a6d",
      "metadata": {
        "id": "c0470ece-0248-41bd-8ac9-971730df1a6d"
      },
      "source": [
        "## Датасет MSLR (Microsoft Learning to Rank)"
      ]
    },
    {
      "cell_type": "markdown",
      "id": "c393310a-8f54-4eb4-9fb5-ab2775f28799",
      "metadata": {
        "id": "c393310a-8f54-4eb4-9fb5-ab2775f28799"
      },
      "source": [
        "Загрузим датасет MSLR.\n",
        "\n",
        "Полный датасет можно скачать с официального сайта: https://www.microsoft.com/en-us/research/project/mslr/\n",
        "\n",
        "Строго говоря, он состоит их 2х частей:\n",
        "\n",
        "- основной датасет MSLR-WEB30K -- он содержит более 30 тыс. запросов\n",
        "- \"маленький\" датасет MSLR-WEB10K, который содержит только 10 тыс. запросов и является случайным сэмплом датасета MSLR-WEB30K\n",
        "\n",
        "в этом ДЗ мы будем работать с MSLR-WEB10K, т.к. полная версия датасета может просто не поместиться у нас в RAM (и, тем более, в память видеокарты если мы учимся на GPU)"
      ]
    },
    {
      "cell_type": "markdown",
      "id": "cbaf35bd-9729-48bb-975d-a955b8bd1c56",
      "metadata": {
        "id": "cbaf35bd-9729-48bb-975d-a955b8bd1c56"
      },
      "source": [
        "Будем считать, что мы самостоятельно скачали датасет MSLR-WEB10K с официального сайта, поместили его в папку КОРЕНЬ-ЭТОЙ-РЕПЫ/data/mslr-web10k и раззиповали.\n",
        "\n",
        "В результате у нас должна получиться следующая структура папок:"
      ]
    },
    {
      "cell_type": "code",
      "source": [
        "!mkdir data\n",
        "\n",
        "!wget https://storage.googleapis.com/personalization-takehome/MSLR-WEB10K.zip\n",
        "\n",
        "!unzip MSLR-WEB10K.zip -d data\n",
        "\n",
        "!rm MSLR-WEB10K.zip"
      ],
      "metadata": {
        "id": "PMa9R8AnfHON"
      },
      "id": "PMa9R8AnfHON",
      "execution_count": null,
      "outputs": []
    },
    {
      "cell_type": "code",
      "source": [
        "!ls -lh data"
      ],
      "metadata": {
        "colab": {
          "base_uri": "https://localhost:8080/"
        },
        "id": "wIyHXk1_fz8x",
        "outputId": "c66b0072-e869-4e03-970f-597178d42619"
      },
      "id": "wIyHXk1_fz8x",
      "execution_count": 5,
      "outputs": [
        {
          "output_type": "stream",
          "name": "stdout",
          "text": [
            "total 20K\n",
            "drwxr-xr-x 2 root root 4.0K Apr 28  2010 Fold1\n",
            "drwxr-xr-x 2 root root 4.0K Apr 28  2010 Fold2\n",
            "drwxr-xr-x 2 root root 4.0K Apr 28  2010 Fold3\n",
            "drwxr-xr-x 2 root root 4.0K Apr 28  2010 Fold4\n",
            "drwxr-xr-x 2 root root 4.0K Apr 28  2010 Fold5\n"
          ]
        }
      ]
    },
    {
      "cell_type": "markdown",
      "id": "6ac0a87e-eb4a-4b4a-a6b3-0419e29ae539",
      "metadata": {
        "id": "6ac0a87e-eb4a-4b4a-a6b3-0419e29ae539"
      },
      "source": [
        "Заметим, что датасет довольно большой, в распакованном виде он весит 7.7 GB.\n",
        "\n",
        "Датасет состоит из нескольких фолдов, которые по сути представляют из себя разные разбиения одних и тех же данных на обучающее, валидационное и тестовые множеста.\n",
        "\n",
        "Дальше мы будем использовать только первый фолд: Fold1.\n",
        "\n",
        "Заглянем внутрь:"
      ]
    },
    {
      "cell_type": "code",
      "execution_count": 6,
      "id": "6fa74835-7d91-4c3a-badb-e268027cff68",
      "metadata": {
        "colab": {
          "base_uri": "https://localhost:8080/"
        },
        "id": "6fa74835-7d91-4c3a-badb-e268027cff68",
        "outputId": "cc043ff8-1bb3-4315-a1cc-7440269ce2c9"
      },
      "outputs": [
        {
          "output_type": "stream",
          "name": "stdout",
          "text": [
            "total 1.3G\n",
            "-rw-r--r-- 1 root root 267M Apr 30  2010 test.txt\n",
            "-rw-r--r-- 1 root root 800M Apr 30  2010 train.txt\n",
            "-rw-r--r-- 1 root root 261M Apr 30  2010 vali.txt\n"
          ]
        }
      ],
      "source": [
        "!ls -lh data/Fold1"
      ]
    },
    {
      "cell_type": "markdown",
      "id": "7fb5ccf5-d83e-45e6-bd9b-3a6c729925c6",
      "metadata": {
        "id": "7fb5ccf5-d83e-45e6-bd9b-3a6c729925c6"
      },
      "source": [
        "Видим, что у нас 3 файла с говорящими названиями, соответсвующими сплитам нашего датасета.\n",
        "\n",
        "Посмотрим на содержимое одного из файлов:"
      ]
    },
    {
      "cell_type": "code",
      "source": [
        "!head -n 1 data/Fold1/train.txt"
      ],
      "metadata": {
        "colab": {
          "base_uri": "https://localhost:8080/"
        },
        "id": "SifH3BjogRXN",
        "outputId": "2bc11031-f144-4c55-827f-0ccbbdcc76b0"
      },
      "id": "SifH3BjogRXN",
      "execution_count": 7,
      "outputs": [
        {
          "output_type": "stream",
          "name": "stdout",
          "text": [
            "2 qid:1 1:3 2:3 3:0 4:0 5:3 6:1 7:1 8:0 9:0 10:1 11:156 12:4 13:0 14:7 15:167 16:6.931275 17:22.076928 18:19.673353 19:22.255383 20:6.926551 21:3 22:3 23:0 24:0 25:6 26:1 27:1 28:0 29:0 30:2 31:1 32:1 33:0 34:0 35:2 36:1 37:1 38:0 39:0 40:2 41:0 42:0 43:0 44:0 45:0 46:0.019231 47:0.75000 48:0 49:0 50:0.035928 51:0.00641 52:0.25000 53:0 54:0 55:0.011976 56:0.00641 57:0.25000 58:0 59:0 60:0.011976 61:0.00641 62:0.25000 63:0 64:0 65:0.011976 66:0 67:0 68:0 69:0 70:0 71:6.931275 72:22.076928 73:0 74:0 75:13.853103 76:1.152128 77:5.99246 78:0 79:0 80:2.297197 81:3.078917 82:8.517343 83:0 84:0 85:6.156595 86:2.310425 87:7.358976 88:0 89:0 90:4.617701 91:0.694726 92:1.084169 93:0 94:0 95:2.78795 96:1 97:1 98:0 99:0 100:1 101:1 102:1 103:0 104:0 105:1 106:12.941469 107:20.59276 108:0 109:0 110:16.766961 111:-18.567793 112:-7.760072 113:-20.838749 114:-25.436074 115:-14.518523 116:-21.710022 117:-21.339609 118:-24.497864 119:-27.690319 120:-20.203779 121:-15.449379 122:-4.474452 123:-23.634899 124:-28.119826 125:-13.581932 126:3 127:62 128:11089534 129:2 130:116 131:64034 132:13 133:3 134:0 135:0 136:0 \r\n"
          ]
        }
      ]
    },
    {
      "cell_type": "markdown",
      "id": "4f9f4fa9-9ba3-457f-8bf2-f9a7b3112e91",
      "metadata": {
        "id": "4f9f4fa9-9ba3-457f-8bf2-f9a7b3112e91"
      },
      "source": [
        "Видим, что данные лежат в уже знакомом нам по семинару формате:\n",
        "\n",
        "- В первой колонке лежит таргет (оценка асессора), по 5-балльной шкале релевантности: от 0 до 4 (включительно)\n",
        "- Во второй колонке лежит ID запроса, по которому можно сгруппировать все оценки документов в рамках одного и того же запроса\n",
        "- Дальше идет вектор из 128 фичей (таких как значения BM25 и т.п.), их точная природа нам сейчас на важна\n",
        "\n",
        "В файле qid и все-фичи кодируются в формате КЛЮЧ:ЗНАЧЕНИЕ, напр. 130:116 -- тут 130 это номер фичи, а 116 -- ее значение.\n",
        "\n",
        "Такой формат в мире машинного обучения часто называют svm light формат (в честь когда-то популярной библиотеки SVM-Light)"
      ]
    },
    {
      "cell_type": "markdown",
      "id": "970bba78-f04f-478b-b3dc-89c9011cb697",
      "metadata": {
        "id": "970bba78-f04f-478b-b3dc-89c9011cb697"
      },
      "source": [
        "Напишем немного вспомогательного кода для загрузки этого датасета:"
      ]
    },
    {
      "cell_type": "code",
      "execution_count": 8,
      "id": "15c29b4f-0b79-4259-b079-fdc589d77ff3",
      "metadata": {
        "id": "15c29b4f-0b79-4259-b079-fdc589d77ff3"
      },
      "outputs": [],
      "source": [
        "def generate_column_names(num_features):\n",
        "    \"\"\"Generates column names for LETOR-like datasets\"\"\"\n",
        "    columns = ['label', 'qid']\n",
        "    for i in range(num_features):\n",
        "        column = f\"feature_{i+1}\"\n",
        "        columns.append(column)\n",
        "    return columns\n",
        "\n",
        "def load_svmlight_file(input_file, max_num_lines=0):\n",
        "    \"\"\"Loads dataset split in SVM-Light format\"\"\"\n",
        "    def _parse_field(field):\n",
        "        parts = field.split(':')\n",
        "        if len(parts) != 2:\n",
        "            raise Exception(f\"invalid number of parts in field {field}\")\n",
        "        return parts\n",
        "\n",
        "    num_features = 136\n",
        "    exp_num_fields = num_features + 2\n",
        "    num_lines = 0\n",
        "    X = []\n",
        "    with open(input_file, 'rt') as f:\n",
        "        for line in f:\n",
        "            try:\n",
        "                num_lines += 1\n",
        "\n",
        "                # Parse into fields\n",
        "                fields = line.rstrip().split(' ')\n",
        "                num_fields = len(fields)\n",
        "                if num_fields != exp_num_fields:\n",
        "                    raise Exception(f\"invalid number of fields {num_fields}\")\n",
        "\n",
        "                # Parse every field\n",
        "                x = np.zeros(exp_num_fields, dtype=np.float32)\n",
        "                label = int(fields[0])\n",
        "                x[0] = label\n",
        "                _, qid_str = _parse_field(fields[1])\n",
        "                qid = int(qid_str)\n",
        "                x[1] = qid\n",
        "                for i, field in enumerate(fields[2:]):\n",
        "                    _, feature_str = _parse_field(field)\n",
        "                    x[i+2] = float(feature_str)\n",
        "\n",
        "                # Add new object\n",
        "                X.append(x)\n",
        "                if num_lines % 50000 == 0:\n",
        "                    print(f\"Loaded {num_lines} lines...\")\n",
        "                if max_num_lines > 0 and num_lines == max_num_lines:\n",
        "                    print(f\"WARNING: stop loading, line limit reached: max_num_lines = {max_num_lines} input_file = {input_file}\")\n",
        "                    break\n",
        "            except Exception as e:\n",
        "                raise Exception(f\"error at line {num_lines} in {input_file}\") from e\n",
        "\n",
        "    # To pandas\n",
        "    df = pd.DataFrame(X, columns=generate_column_names(num_features))\n",
        "    print(f\"Loaded SVM-Light file {input_file}\")\n",
        "    return df"
      ]
    },
    {
      "cell_type": "markdown",
      "id": "aa292cb3-e516-423c-a9b4-315123bddfea",
      "metadata": {
        "id": "aa292cb3-e516-423c-a9b4-315123bddfea"
      },
      "source": [
        "И теперь загрузим датасет:"
      ]
    },
    {
      "cell_type": "code",
      "execution_count": 9,
      "id": "25649947-a7ef-4cbd-8403-7e7456c28327",
      "metadata": {
        "colab": {
          "base_uri": "https://localhost:8080/"
        },
        "id": "25649947-a7ef-4cbd-8403-7e7456c28327",
        "outputId": "03f9caaa-9011-457f-c9fa-7c470599ff5d"
      },
      "outputs": [
        {
          "output_type": "stream",
          "name": "stdout",
          "text": [
            "Loaded 50000 lines...\n",
            "Loaded 100000 lines...\n",
            "Loaded 150000 lines...\n",
            "Loaded 200000 lines...\n",
            "Loaded 250000 lines...\n",
            "Loaded 300000 lines...\n",
            "Loaded 350000 lines...\n",
            "Loaded 400000 lines...\n",
            "Loaded 450000 lines...\n",
            "Loaded 500000 lines...\n",
            "Loaded 550000 lines...\n",
            "Loaded 600000 lines...\n",
            "Loaded 650000 lines...\n",
            "Loaded 700000 lines...\n",
            "Loaded SVM-Light file data/Fold1/train.txt\n",
            "Loaded 50000 lines...\n",
            "Loaded 100000 lines...\n",
            "Loaded 150000 lines...\n",
            "Loaded 200000 lines...\n",
            "Loaded SVM-Light file data/Fold1/vali.txt\n",
            "Loaded 50000 lines...\n",
            "Loaded 100000 lines...\n",
            "Loaded 150000 lines...\n",
            "Loaded 200000 lines...\n",
            "Loaded SVM-Light file data/Fold1/test.txt\n",
            "Dataset loaded from fold_dir data/Fold1\n"
          ]
        }
      ],
      "source": [
        "fold_dir = pathlib.Path(\"data/Fold1\")\n",
        "\n",
        "df_train = load_svmlight_file(fold_dir.joinpath(\"train.txt\"))\n",
        "df_valid = load_svmlight_file(fold_dir.joinpath(\"vali.txt\"))\n",
        "df_test = load_svmlight_file(fold_dir.joinpath(\"test.txt\"))\n",
        "print(f\"Dataset loaded from fold_dir {fold_dir}\")"
      ]
    },
    {
      "cell_type": "markdown",
      "id": "86994de0-9f4a-4582-91f4-8ae1813b0df3",
      "metadata": {
        "id": "86994de0-9f4a-4582-91f4-8ae1813b0df3"
      },
      "source": [
        "Посмотрим на данные:"
      ]
    },
    {
      "cell_type": "code",
      "execution_count": 10,
      "id": "b053cf6f-71de-41a9-a255-6e6ce91ea0f0",
      "metadata": {
        "colab": {
          "base_uri": "https://localhost:8080/"
        },
        "id": "b053cf6f-71de-41a9-a255-6e6ce91ea0f0",
        "outputId": "ad3d6a45-9f76-44d8-8dc0-501aea1e2297"
      },
      "outputs": [
        {
          "output_type": "stream",
          "name": "stdout",
          "text": [
            "   label  qid  feature_1  feature_2  feature_3  feature_4  feature_5  \\\n",
            "0    2.0  1.0        3.0        3.0        0.0        0.0        3.0   \n",
            "1    2.0  1.0        3.0        0.0        3.0        0.0        3.0   \n",
            "2    0.0  1.0        3.0        0.0        2.0        0.0        3.0   \n",
            "3    2.0  1.0        3.0        0.0        3.0        0.0        3.0   \n",
            "4    1.0  1.0        3.0        0.0        3.0        0.0        3.0   \n",
            "\n",
            "   feature_6  feature_7  feature_8  ...  feature_127  feature_128  \\\n",
            "0        1.0        1.0   0.000000  ...         62.0   11089534.0   \n",
            "1        1.0        0.0   1.000000  ...         54.0   11089534.0   \n",
            "2        1.0        0.0   0.666667  ...         45.0          3.0   \n",
            "3        1.0        0.0   1.000000  ...         56.0   11089534.0   \n",
            "4        1.0        0.0   1.000000  ...         64.0          5.0   \n",
            "\n",
            "   feature_129  feature_130  feature_131  feature_132  feature_133  \\\n",
            "0          2.0        116.0      64034.0         13.0          3.0   \n",
            "1          2.0        124.0      64034.0          1.0          2.0   \n",
            "2          1.0        124.0       3344.0         14.0         67.0   \n",
            "3         13.0        123.0      63933.0          1.0          3.0   \n",
            "4          7.0        256.0      49697.0          1.0         13.0   \n",
            "\n",
            "   feature_134  feature_135  feature_136  \n",
            "0          0.0          0.0          0.0  \n",
            "1          0.0          0.0          0.0  \n",
            "2          0.0          0.0          0.0  \n",
            "3          0.0          0.0          0.0  \n",
            "4          0.0          0.0          0.0  \n",
            "\n",
            "[5 rows x 138 columns]\n"
          ]
        }
      ],
      "source": [
        "print(df_train.head(5))"
      ]
    },
    {
      "cell_type": "markdown",
      "id": "71051e93-845b-45f1-bad8-21020180737e",
      "metadata": {
        "id": "71051e93-845b-45f1-bad8-21020180737e"
      },
      "source": [
        "Т.е. теперь мы видим что данные доступны в точно таком же виде, как это было в семинаре."
      ]
    },
    {
      "cell_type": "markdown",
      "id": "d9f1545d-0999-4bb2-9d72-9cd9b10fb9fc",
      "metadata": {
        "id": "d9f1545d-0999-4bb2-9d72-9cd9b10fb9fc"
      },
      "source": [
        "Проведем небольшой EDA.\n",
        "\n",
        "Всего у нас 723 тыс. документов в трейне:"
      ]
    },
    {
      "cell_type": "code",
      "execution_count": 11,
      "id": "aa2ad7b6-a90a-4eda-a47f-ec9b407cd12f",
      "metadata": {
        "colab": {
          "base_uri": "https://localhost:8080/"
        },
        "id": "aa2ad7b6-a90a-4eda-a47f-ec9b407cd12f",
        "outputId": "07b61aca-e248-4419-9fe1-1e9406332f42"
      },
      "outputs": [
        {
          "output_type": "stream",
          "name": "stdout",
          "text": [
            "<class 'pandas.core.frame.DataFrame'>\n",
            "RangeIndex: 723412 entries, 0 to 723411\n",
            "Columns: 138 entries, label to feature_136\n",
            "dtypes: float32(138)\n",
            "memory usage: 380.8 MB\n",
            "None\n"
          ]
        }
      ],
      "source": [
        "print(df_train.info())"
      ]
    },
    {
      "cell_type": "markdown",
      "id": "421b79a0-72f8-4c15-9580-9c7c3c22910a",
      "metadata": {
        "id": "421b79a0-72f8-4c15-9580-9c7c3c22910a"
      },
      "source": [
        "235 тыс. документов в валидации:"
      ]
    },
    {
      "cell_type": "code",
      "execution_count": 12,
      "id": "b2979156-c309-43b9-95a0-d15bc9e594e2",
      "metadata": {
        "colab": {
          "base_uri": "https://localhost:8080/"
        },
        "id": "b2979156-c309-43b9-95a0-d15bc9e594e2",
        "outputId": "d15b5e83-af8e-465b-832a-780b89f5673c"
      },
      "outputs": [
        {
          "output_type": "stream",
          "name": "stdout",
          "text": [
            "<class 'pandas.core.frame.DataFrame'>\n",
            "RangeIndex: 235259 entries, 0 to 235258\n",
            "Columns: 138 entries, label to feature_136\n",
            "dtypes: float32(138)\n",
            "memory usage: 123.8 MB\n",
            "None\n"
          ]
        }
      ],
      "source": [
        "print(df_valid.info())"
      ]
    },
    {
      "cell_type": "markdown",
      "id": "5e360312-89be-4d21-af28-7c24e7871e89",
      "metadata": {
        "id": "5e360312-89be-4d21-af28-7c24e7871e89"
      },
      "source": [
        "И 241 тыс. документов в тесте:"
      ]
    },
    {
      "cell_type": "code",
      "execution_count": 13,
      "id": "d64e99fd-93a4-4a60-af94-7e81c7615504",
      "metadata": {
        "colab": {
          "base_uri": "https://localhost:8080/"
        },
        "id": "d64e99fd-93a4-4a60-af94-7e81c7615504",
        "outputId": "502ab80f-97a5-48f0-ca46-6914bcc9cb61"
      },
      "outputs": [
        {
          "output_type": "stream",
          "name": "stdout",
          "text": [
            "<class 'pandas.core.frame.DataFrame'>\n",
            "RangeIndex: 241521 entries, 0 to 241520\n",
            "Columns: 138 entries, label to feature_136\n",
            "dtypes: float32(138)\n",
            "memory usage: 127.1 MB\n",
            "None\n"
          ]
        }
      ],
      "source": [
        "print(df_test.info())"
      ]
    },
    {
      "cell_type": "markdown",
      "id": "3be7932d-b65e-4b33-b468-c4ef727f4aa6",
      "metadata": {
        "id": "3be7932d-b65e-4b33-b468-c4ef727f4aa6"
      },
      "source": [
        "Сколько у нас запросов?"
      ]
    },
    {
      "cell_type": "code",
      "execution_count": 14,
      "id": "4c337181-5898-4889-8e4d-ccc872aea83d",
      "metadata": {
        "colab": {
          "base_uri": "https://localhost:8080/"
        },
        "id": "4c337181-5898-4889-8e4d-ccc872aea83d",
        "outputId": "38ecaead-be33-4300-8330-4110b2393430"
      },
      "outputs": [
        {
          "output_type": "stream",
          "name": "stdout",
          "text": [
            "Got 6000 train, 2000 valid and 2000 test queries\n"
          ]
        }
      ],
      "source": [
        "num_queries_train = df_train['qid'].nunique()\n",
        "num_queries_valid = df_valid['qid'].nunique()\n",
        "num_queries_test = df_test['qid'].nunique()\n",
        "print(f\"Got {num_queries_train} train, {num_queries_valid} valid and {num_queries_test} test queries\")"
      ]
    },
    {
      "cell_type": "markdown",
      "id": "97ae868e-319b-4070-adfb-ecce7ae94205",
      "metadata": {
        "id": "97ae868e-319b-4070-adfb-ecce7ae94205"
      },
      "source": [
        "## Обучаем модель"
      ]
    },
    {
      "cell_type": "markdown",
      "id": "9e2cf9a4-0c23-4d99-bc92-7cf08a8bf37f",
      "metadata": {
        "id": "9e2cf9a4-0c23-4d99-bc92-7cf08a8bf37f"
      },
      "source": [
        "Теперь можно приступить непосредственно к обучению модели.\n",
        "\n",
        "Объявим класс модели, который надо будем заимлементить в этом ДЗ:"
      ]
    },
    {
      "cell_type": "code",
      "execution_count": 15,
      "metadata": {
        "id": "9f15870f-9459-48d7-a69d-5cd26c23f464"
      },
      "outputs": [],
      "source": [
        "def to_catboost_dataset(df):\n",
        "    y = df['label'].to_numpy()                       # Label: [0-4]\n",
        "    q = df['qid'].to_numpy().astype('uint32')        # Query Id\n",
        "    X = df.drop(columns=['label', 'qid']).to_numpy() # 136 features\n",
        "    return (X, y, q)"
      ],
      "id": "9f15870f-9459-48d7-a69d-5cd26c23f464"
    },
    {
      "cell_type": "code",
      "source": [
        "X_train, y_train, q_train = to_catboost_dataset(df_train)\n",
        "X_valid, y_valid, q_valid = to_catboost_dataset(df_valid)\n",
        "X_test, y_test, q_test = to_catboost_dataset(df_test)"
      ],
      "metadata": {
        "id": "BBcmMzck0r0z"
      },
      "id": "BBcmMzck0r0z",
      "execution_count": 16,
      "outputs": []
    },
    {
      "cell_type": "code",
      "execution_count": 17,
      "metadata": {
        "id": "22758401-b1aa-4eee-a6d5-2dfc257ec7c3"
      },
      "outputs": [],
      "source": [
        "pool_train = catboost.Pool(data=X_train, label=y_train, group_id=q_train)\n",
        "pool_valid = catboost.Pool(data=X_valid, label=y_valid, group_id=q_valid)\n",
        "pool_test = catboost.Pool(data=X_test, label=y_test, group_id=q_test)"
      ],
      "id": "22758401-b1aa-4eee-a6d5-2dfc257ec7c3"
    },
    {
      "cell_type": "code",
      "execution_count": 18,
      "id": "0ab90707-f1b8-4283-ac22-2643baa4ddfd",
      "metadata": {
        "id": "0ab90707-f1b8-4283-ac22-2643baa4ddfd"
      },
      "outputs": [],
      "source": [
        "class Model:\n",
        "    def __init__(self, params):\n",
        "        self.model = catboost.CatBoost(params)\n",
        "\n",
        "    def fit(self, df_train, df_valid):\n",
        "        self.model.fit(df_train, eval_set=df_valid, use_best_model=True)\n",
        "\n",
        "    def predict(self, df_test):\n",
        "        return self.model.predict(df_test)\n",
        "\n",
        "    def save(self, filename):\n",
        "        self.model.save_model(filename)\n",
        "\n",
        "    def load(self, filename):\n",
        "        self.model = catboost.CatBoost()\n",
        "        self.model.load_model(filename)"
      ]
    },
    {
      "cell_type": "code",
      "source": [
        "def get_best_model(pool_train, pool_valid):\n",
        "    best_score = 0\n",
        "    best_model = None\n",
        "    best_params = {}\n",
        "\n",
        "    y_valid = pool_valid.get_label()\n",
        "    q_valid = pool_valid.get_group_id_hash()\n",
        "\n",
        "    for lr in [0.001, 0.005, 0.01, 0.05, 0.1]:\n",
        "        for depth in [3, 5, 7, 9]:\n",
        "            for l2_leaf_reg in [0.5, 1, 1.5, 2, 3]:\n",
        "\n",
        "                params = {\n",
        "                    'iterations': 1500,\n",
        "                    'early_stopping_rounds': 200,\n",
        "                    'eval_metric': \"NDCG:top=10;type=Exp\",\n",
        "                    'random_seed': 22,\n",
        "                    'verbose': 100,\n",
        "                    'loss_function': 'YetiRank',\n",
        "                    'train_dir': \"/tmp/catboost_info.YetiRank\",\n",
        "                    'use_best_model': True,\n",
        "                    'task_type': \"GPU\",\n",
        "                    'learning_rate': lr,\n",
        "                    'depth': depth,\n",
        "                    'l2_leaf_reg': l2_leaf_reg,\n",
        "                }\n",
        "\n",
        "                model = Model(params)\n",
        "                model.fit(pool_train, pool_valid)\n",
        "                y_pred = model.predict(pool_valid)\n",
        "                score = utils.eval_metric(y_valid, y_pred, 'NDCG:top=10;type=Exp', group_id=q_valid)[0]\n",
        "\n",
        "                if score > best_score:\n",
        "                    best_model = model\n",
        "                    best_score = score\n",
        "                    best_params = copy.deepcopy(params)\n",
        "\n",
        "    return best_model, best_params"
      ],
      "metadata": {
        "id": "9KQzxuiM1M1M"
      },
      "id": "9KQzxuiM1M1M",
      "execution_count": 19,
      "outputs": []
    },
    {
      "cell_type": "code",
      "source": [
        "get_best_model(pool_train, pool_valid)"
      ],
      "metadata": {
        "colab": {
          "base_uri": "https://localhost:8080/"
        },
        "id": "pMAYDxGM5V0K",
        "outputId": "0d8b04e1-3b6a-4112-9225-03177c514795"
      },
      "id": "pMAYDxGM5V0K",
      "execution_count": null,
      "outputs": [
        {
          "metadata": {
            "tags": null
          },
          "name": "stderr",
          "output_type": "stream",
          "text": [
            "Default metric period is 5 because NDCG is/are not implemented for GPU\n",
            "Metric NDCG:type=Base is not implemented on GPU. Will use CPU for metric computation, this could significantly affect learning time\n",
            "Metric NDCG:top=10;type=Exp is not implemented on GPU. Will use CPU for metric computation, this could significantly affect learning time\n"
          ]
        },
        {
          "metadata": {
            "tags": null
          },
          "name": "stdout",
          "output_type": "stream",
          "text": [
            "0:\ttest: 0.2341477\tbest: 0.2341477 (0)\ttotal: 89.5ms\tremaining: 2m 14s\n",
            "100:\ttest: 0.3310440\tbest: 0.3310440 (100)\ttotal: 3.9s\tremaining: 54.1s\n",
            "200:\ttest: 0.3418268\tbest: 0.3418268 (200)\ttotal: 8.55s\tremaining: 55.3s\n",
            "300:\ttest: 0.3479658\tbest: 0.3482059 (289)\ttotal: 12.6s\tremaining: 50.2s\n",
            "400:\ttest: 0.3627104\tbest: 0.3627104 (400)\ttotal: 16.4s\tremaining: 44.9s\n",
            "500:\ttest: 0.3636218\tbest: 0.3636218 (500)\ttotal: 21.2s\tremaining: 42.3s\n",
            "600:\ttest: 0.3646954\tbest: 0.3648218 (575)\ttotal: 25s\tremaining: 37.3s\n",
            "700:\ttest: 0.3692506\tbest: 0.3693486 (681)\ttotal: 28.7s\tremaining: 32.7s\n",
            "800:\ttest: 0.3712281\tbest: 0.3712869 (799)\ttotal: 33.4s\tremaining: 29.1s\n",
            "900:\ttest: 0.3734938\tbest: 0.3735306 (895)\ttotal: 37.2s\tremaining: 24.7s\n",
            "1000:\ttest: 0.3744694\tbest: 0.3746072 (996)\ttotal: 40.9s\tremaining: 20.4s\n",
            "1100:\ttest: 0.3754285\tbest: 0.3754309 (1098)\ttotal: 45.6s\tremaining: 16.5s\n",
            "1200:\ttest: 0.3765116\tbest: 0.3765393 (1195)\ttotal: 49.4s\tremaining: 12.3s\n",
            "1300:\ttest: 0.3782441\tbest: 0.3783030 (1299)\ttotal: 53.2s\tremaining: 8.13s\n",
            "1400:\ttest: 0.3811078\tbest: 0.3811231 (1395)\ttotal: 57.8s\tremaining: 4.09s\n",
            "1499:\ttest: 0.3829879\tbest: 0.3829930 (1494)\ttotal: 1m 1s\tremaining: 0us\n",
            "bestTest = 0.3829930013\n",
            "bestIteration = 1494\n",
            "Shrink model to first 1495 iterations.\n"
          ]
        },
        {
          "metadata": {
            "tags": null
          },
          "name": "stderr",
          "output_type": "stream",
          "text": [
            "Default metric period is 5 because NDCG is/are not implemented for GPU\n",
            "Metric NDCG:type=Base is not implemented on GPU. Will use CPU for metric computation, this could significantly affect learning time\n",
            "Metric NDCG:top=10;type=Exp is not implemented on GPU. Will use CPU for metric computation, this could significantly affect learning time\n"
          ]
        },
        {
          "metadata": {
            "tags": null
          },
          "name": "stdout",
          "output_type": "stream",
          "text": [
            "0:\ttest: 0.2341477\tbest: 0.2341477 (0)\ttotal: 156ms\tremaining: 3m 53s\n",
            "100:\ttest: 0.3310247\tbest: 0.3310247 (100)\ttotal: 4.65s\tremaining: 1m 4s\n",
            "200:\ttest: 0.3417647\tbest: 0.3417884 (199)\ttotal: 8.36s\tremaining: 54s\n",
            "300:\ttest: 0.3481776\tbest: 0.3482844 (289)\ttotal: 12.4s\tremaining: 49.4s\n",
            "400:\ttest: 0.3630253\tbest: 0.3630253 (400)\ttotal: 16.8s\tremaining: 46.1s\n",
            "500:\ttest: 0.3637593\tbest: 0.3638860 (492)\ttotal: 20.5s\tremaining: 41s\n",
            "600:\ttest: 0.3649750\tbest: 0.3650237 (594)\ttotal: 24.4s\tremaining: 36.6s\n",
            "700:\ttest: 0.3690740\tbest: 0.3691246 (694)\ttotal: 29s\tremaining: 33.1s\n",
            "800:\ttest: 0.3712719\tbest: 0.3713650 (792)\ttotal: 32.8s\tremaining: 28.6s\n",
            "900:\ttest: 0.3735615\tbest: 0.3736754 (896)\ttotal: 36.6s\tremaining: 24.3s\n",
            "1000:\ttest: 0.3742090\tbest: 0.3742907 (995)\ttotal: 41.3s\tremaining: 20.6s\n",
            "1100:\ttest: 0.3756283\tbest: 0.3756286 (1098)\ttotal: 45.1s\tremaining: 16.3s\n",
            "1200:\ttest: 0.3764397\tbest: 0.3765336 (1192)\ttotal: 49.3s\tremaining: 12.3s\n",
            "1300:\ttest: 0.3780086\tbest: 0.3781039 (1297)\ttotal: 53.9s\tremaining: 8.24s\n",
            "1400:\ttest: 0.3806449\tbest: 0.3808581 (1393)\ttotal: 57.6s\tremaining: 4.07s\n",
            "1499:\ttest: 0.3823651\tbest: 0.3823662 (1497)\ttotal: 1m 1s\tremaining: 0us\n",
            "bestTest = 0.3823662001\n",
            "bestIteration = 1497\n",
            "Shrink model to first 1498 iterations.\n"
          ]
        },
        {
          "metadata": {
            "tags": null
          },
          "name": "stderr",
          "output_type": "stream",
          "text": [
            "Default metric period is 5 because NDCG is/are not implemented for GPU\n",
            "Metric NDCG:type=Base is not implemented on GPU. Will use CPU for metric computation, this could significantly affect learning time\n",
            "Metric NDCG:top=10;type=Exp is not implemented on GPU. Will use CPU for metric computation, this could significantly affect learning time\n"
          ]
        },
        {
          "metadata": {
            "tags": null
          },
          "name": "stdout",
          "output_type": "stream",
          "text": [
            "0:\ttest: 0.2341477\tbest: 0.2341477 (0)\ttotal: 83.6ms\tremaining: 2m 5s\n",
            "100:\ttest: 0.3310780\tbest: 0.3310780 (100)\ttotal: 3.89s\tremaining: 53.9s\n",
            "200:\ttest: 0.3418863\tbest: 0.3419014 (199)\ttotal: 8.21s\tremaining: 53s\n",
            "300:\ttest: 0.3482216\tbest: 0.3485502 (289)\ttotal: 12.4s\tremaining: 49.2s\n",
            "400:\ttest: 0.3628815\tbest: 0.3628947 (399)\ttotal: 16.1s\tremaining: 44.2s\n",
            "500:\ttest: 0.3639005\tbest: 0.3639204 (491)\ttotal: 20.3s\tremaining: 40.4s\n",
            "600:\ttest: 0.3652010\tbest: 0.3652201 (596)\ttotal: 24.7s\tremaining: 36.9s\n",
            "700:\ttest: 0.3698245\tbest: 0.3699313 (674)\ttotal: 28.4s\tremaining: 32.4s\n",
            "800:\ttest: 0.3716964\tbest: 0.3717432 (797)\ttotal: 32.4s\tremaining: 28.3s\n",
            "900:\ttest: 0.3738802\tbest: 0.3740181 (841)\ttotal: 36.8s\tremaining: 24.5s\n",
            "1000:\ttest: 0.3746777\tbest: 0.3746777 (1000)\ttotal: 40.6s\tremaining: 20.3s\n",
            "1100:\ttest: 0.3757074\tbest: 0.3757229 (1098)\ttotal: 44.6s\tremaining: 16.2s\n",
            "1200:\ttest: 0.3769826\tbest: 0.3770694 (1196)\ttotal: 49.1s\tremaining: 12.2s\n",
            "1300:\ttest: 0.3784657\tbest: 0.3785886 (1296)\ttotal: 52.8s\tremaining: 8.08s\n",
            "1400:\ttest: 0.3803611\tbest: 0.3804204 (1394)\ttotal: 56.6s\tremaining: 4s\n",
            "1499:\ttest: 0.3821644\tbest: 0.3822623 (1486)\ttotal: 1m 1s\tremaining: 0us\n",
            "bestTest = 0.3822623169\n",
            "bestIteration = 1486\n",
            "Shrink model to first 1487 iterations.\n"
          ]
        },
        {
          "metadata": {
            "tags": null
          },
          "name": "stderr",
          "output_type": "stream",
          "text": [
            "Default metric period is 5 because NDCG is/are not implemented for GPU\n",
            "Metric NDCG:type=Base is not implemented on GPU. Will use CPU for metric computation, this could significantly affect learning time\n",
            "Metric NDCG:top=10;type=Exp is not implemented on GPU. Will use CPU for metric computation, this could significantly affect learning time\n"
          ]
        },
        {
          "metadata": {
            "tags": null
          },
          "name": "stdout",
          "output_type": "stream",
          "text": [
            "0:\ttest: 0.2341477\tbest: 0.2341477 (0)\ttotal: 87.1ms\tremaining: 2m 10s\n",
            "100:\ttest: 0.3308841\tbest: 0.3308841 (100)\ttotal: 4.92s\tremaining: 1m 8s\n",
            "200:\ttest: 0.3419426\tbest: 0.3419426 (200)\ttotal: 8.71s\tremaining: 56.3s\n",
            "300:\ttest: 0.3482877\tbest: 0.3485959 (289)\ttotal: 12.5s\tremaining: 49.6s\n",
            "400:\ttest: 0.3630389\tbest: 0.3630562 (399)\ttotal: 17.1s\tremaining: 46.8s\n",
            "500:\ttest: 0.3643042\tbest: 0.3643042 (500)\ttotal: 21.2s\tremaining: 42.3s\n",
            "600:\ttest: 0.3654188\tbest: 0.3654401 (589)\ttotal: 25s\tremaining: 37.4s\n",
            "700:\ttest: 0.3697866\tbest: 0.3699336 (677)\ttotal: 29.6s\tremaining: 33.8s\n",
            "800:\ttest: 0.3718426\tbest: 0.3718663 (798)\ttotal: 33.4s\tremaining: 29.2s\n",
            "900:\ttest: 0.3725918\tbest: 0.3728699 (881)\ttotal: 37.2s\tremaining: 24.7s\n",
            "1000:\ttest: 0.3733017\tbest: 0.3733017 (1000)\ttotal: 41.8s\tremaining: 20.8s\n",
            "1100:\ttest: 0.3750599\tbest: 0.3750889 (1096)\ttotal: 45.6s\tremaining: 16.5s\n",
            "1200:\ttest: 0.3765985\tbest: 0.3766507 (1192)\ttotal: 49.4s\tremaining: 12.3s\n",
            "1300:\ttest: 0.3780527\tbest: 0.3780684 (1299)\ttotal: 53.8s\tremaining: 8.23s\n",
            "1400:\ttest: 0.3803917\tbest: 0.3804363 (1397)\ttotal: 57.8s\tremaining: 4.08s\n",
            "1499:\ttest: 0.3823790\tbest: 0.3824604 (1491)\ttotal: 1m 1s\tremaining: 0us\n",
            "bestTest = 0.3824603532\n",
            "bestIteration = 1491\n",
            "Shrink model to first 1492 iterations.\n"
          ]
        },
        {
          "metadata": {
            "tags": null
          },
          "name": "stderr",
          "output_type": "stream",
          "text": [
            "Default metric period is 5 because NDCG is/are not implemented for GPU\n",
            "Metric NDCG:type=Base is not implemented on GPU. Will use CPU for metric computation, this could significantly affect learning time\n",
            "Metric NDCG:top=10;type=Exp is not implemented on GPU. Will use CPU for metric computation, this could significantly affect learning time\n"
          ]
        },
        {
          "metadata": {
            "tags": null
          },
          "name": "stdout",
          "output_type": "stream",
          "text": [
            "0:\ttest: 0.2341477\tbest: 0.2341477 (0)\ttotal: 84.3ms\tremaining: 2m 6s\n",
            "100:\ttest: 0.3308389\tbest: 0.3308389 (100)\ttotal: 3.88s\tremaining: 53.7s\n",
            "200:\ttest: 0.3418484\tbest: 0.3418741 (197)\ttotal: 7.61s\tremaining: 49.2s\n",
            "300:\ttest: 0.3480221\tbest: 0.3483023 (289)\ttotal: 12.4s\tremaining: 49.3s\n",
            "400:\ttest: 0.3628994\tbest: 0.3628994 (400)\ttotal: 16.1s\tremaining: 44.2s\n",
            "500:\ttest: 0.3637408\tbest: 0.3638365 (489)\ttotal: 19.9s\tremaining: 39.6s\n",
            "600:\ttest: 0.3651245\tbest: 0.3652045 (575)\ttotal: 24.6s\tremaining: 36.8s\n",
            "700:\ttest: 0.3695509\tbest: 0.3696076 (674)\ttotal: 28.4s\tremaining: 32.3s\n",
            "800:\ttest: 0.3715936\tbest: 0.3716443 (783)\ttotal: 32.1s\tremaining: 28s\n",
            "900:\ttest: 0.3725756\tbest: 0.3726255 (883)\ttotal: 36.8s\tremaining: 24.5s\n",
            "1000:\ttest: 0.3731170\tbest: 0.3731170 (1000)\ttotal: 40.6s\tremaining: 20.2s\n",
            "1100:\ttest: 0.3749856\tbest: 0.3750071 (1096)\ttotal: 44.3s\tremaining: 16.1s\n",
            "1200:\ttest: 0.3762976\tbest: 0.3763015 (1197)\ttotal: 48.8s\tremaining: 12.2s\n",
            "1300:\ttest: 0.3777250\tbest: 0.3778623 (1295)\ttotal: 52.6s\tremaining: 8.05s\n",
            "1400:\ttest: 0.3804869\tbest: 0.3807289 (1374)\ttotal: 56.7s\tremaining: 4.01s\n",
            "1499:\ttest: 0.3826942\tbest: 0.3827399 (1496)\ttotal: 1m 1s\tremaining: 0us\n",
            "bestTest = 0.3827399192\n",
            "bestIteration = 1496\n",
            "Shrink model to first 1497 iterations.\n"
          ]
        },
        {
          "metadata": {
            "tags": null
          },
          "name": "stderr",
          "output_type": "stream",
          "text": [
            "Default metric period is 5 because NDCG is/are not implemented for GPU\n",
            "Metric NDCG:type=Base is not implemented on GPU. Will use CPU for metric computation, this could significantly affect learning time\n",
            "Metric NDCG:top=10;type=Exp is not implemented on GPU. Will use CPU for metric computation, this could significantly affect learning time\n"
          ]
        },
        {
          "metadata": {
            "tags": null
          },
          "name": "stdout",
          "output_type": "stream",
          "text": [
            "0:\ttest: 0.2424807\tbest: 0.2424807 (0)\ttotal: 91.7ms\tremaining: 2m 17s\n",
            "100:\ttest: 0.3888411\tbest: 0.3892846 (91)\ttotal: 4.39s\tremaining: 1m\n",
            "200:\ttest: 0.3968938\tbest: 0.3972793 (199)\ttotal: 9.52s\tremaining: 1m 1s\n",
            "300:\ttest: 0.3979197\tbest: 0.3981041 (292)\ttotal: 13.7s\tremaining: 54.7s\n",
            "400:\ttest: 0.4016489\tbest: 0.4016489 (400)\ttotal: 18.2s\tremaining: 50s\n",
            "500:\ttest: 0.4034066\tbest: 0.4034851 (499)\ttotal: 23.1s\tremaining: 46s\n",
            "600:\ttest: 0.4043057\tbest: 0.4043057 (600)\ttotal: 27.2s\tremaining: 40.7s\n",
            "700:\ttest: 0.4059046\tbest: 0.4061968 (685)\ttotal: 32.4s\tremaining: 36.9s\n",
            "800:\ttest: 0.4082776\tbest: 0.4083100 (799)\ttotal: 36.6s\tremaining: 32s\n",
            "900:\ttest: 0.4097153\tbest: 0.4097833 (898)\ttotal: 40.8s\tremaining: 27.1s\n",
            "1000:\ttest: 0.4097428\tbest: 0.4099760 (971)\ttotal: 45.9s\tremaining: 22.9s\n",
            "1100:\ttest: 0.4104442\tbest: 0.4106832 (1086)\ttotal: 50.1s\tremaining: 18.1s\n",
            "1200:\ttest: 0.4109277\tbest: 0.4111367 (1142)\ttotal: 54.3s\tremaining: 13.5s\n",
            "1300:\ttest: 0.4120605\tbest: 0.4120690 (1299)\ttotal: 59.4s\tremaining: 9.08s\n",
            "1400:\ttest: 0.4130790\tbest: 0.4131197 (1399)\ttotal: 1m 3s\tremaining: 4.49s\n",
            "1499:\ttest: 0.4141504\tbest: 0.4142226 (1498)\ttotal: 1m 8s\tremaining: 0us\n",
            "bestTest = 0.4142226238\n",
            "bestIteration = 1498\n",
            "Shrink model to first 1499 iterations.\n"
          ]
        },
        {
          "metadata": {
            "tags": null
          },
          "name": "stderr",
          "output_type": "stream",
          "text": [
            "Default metric period is 5 because NDCG is/are not implemented for GPU\n",
            "Metric NDCG:type=Base is not implemented on GPU. Will use CPU for metric computation, this could significantly affect learning time\n",
            "Metric NDCG:top=10;type=Exp is not implemented on GPU. Will use CPU for metric computation, this could significantly affect learning time\n"
          ]
        },
        {
          "metadata": {
            "tags": null
          },
          "name": "stdout",
          "output_type": "stream",
          "text": [
            "0:\ttest: 0.2424571\tbest: 0.2424571 (0)\ttotal: 90.7ms\tremaining: 2m 15s\n",
            "100:\ttest: 0.3886955\tbest: 0.3890578 (90)\ttotal: 4.34s\tremaining: 1m\n",
            "200:\ttest: 0.3970466\tbest: 0.3971028 (199)\ttotal: 9.51s\tremaining: 1m 1s\n",
            "300:\ttest: 0.3983094\tbest: 0.3983693 (288)\ttotal: 13.7s\tremaining: 54.5s\n",
            "400:\ttest: 0.4012295\tbest: 0.4012295 (400)\ttotal: 18.4s\tremaining: 50.4s\n",
            "500:\ttest: 0.4026380\tbest: 0.4027979 (494)\ttotal: 23.3s\tremaining: 46.5s\n",
            "600:\ttest: 0.4035621\tbest: 0.4036169 (597)\ttotal: 27.5s\tremaining: 41.1s\n",
            "700:\ttest: 0.4054794\tbest: 0.4057467 (696)\ttotal: 32.6s\tremaining: 37.2s\n",
            "800:\ttest: 0.4075957\tbest: 0.4076192 (798)\ttotal: 36.8s\tremaining: 32.1s\n",
            "900:\ttest: 0.4093450\tbest: 0.4093450 (900)\ttotal: 41s\tremaining: 27.2s\n",
            "1000:\ttest: 0.4092079\tbest: 0.4094557 (931)\ttotal: 46.1s\tremaining: 23s\n",
            "1100:\ttest: 0.4103016\tbest: 0.4103927 (1096)\ttotal: 50.3s\tremaining: 18.2s\n",
            "1200:\ttest: 0.4107669\tbest: 0.4111162 (1178)\ttotal: 54.5s\tremaining: 13.6s\n",
            "1300:\ttest: 0.4113394\tbest: 0.4113450 (1298)\ttotal: 59.7s\tremaining: 9.13s\n",
            "1400:\ttest: 0.4130441\tbest: 0.4130441 (1400)\ttotal: 1m 3s\tremaining: 4.51s\n",
            "1499:\ttest: 0.4135479\tbest: 0.4135479 (1499)\ttotal: 1m 8s\tremaining: 0us\n",
            "bestTest = 0.4135479455\n",
            "bestIteration = 1499\n"
          ]
        },
        {
          "metadata": {
            "tags": null
          },
          "name": "stderr",
          "output_type": "stream",
          "text": [
            "Default metric period is 5 because NDCG is/are not implemented for GPU\n",
            "Metric NDCG:type=Base is not implemented on GPU. Will use CPU for metric computation, this could significantly affect learning time\n",
            "Metric NDCG:top=10;type=Exp is not implemented on GPU. Will use CPU for metric computation, this could significantly affect learning time\n"
          ]
        },
        {
          "metadata": {
            "tags": null
          },
          "name": "stdout",
          "output_type": "stream",
          "text": [
            "0:\ttest: 0.2424583\tbest: 0.2424583 (0)\ttotal: 91.9ms\tremaining: 2m 17s\n",
            "100:\ttest: 0.3885217\tbest: 0.3890769 (91)\ttotal: 4.34s\tremaining: 1m\n",
            "200:\ttest: 0.3970339\tbest: 0.3971038 (199)\ttotal: 9.5s\tremaining: 1m 1s\n",
            "300:\ttest: 0.3981952\tbest: 0.3983437 (299)\ttotal: 13.7s\tremaining: 54.5s\n",
            "400:\ttest: 0.4011123\tbest: 0.4011761 (396)\ttotal: 17.8s\tremaining: 48.9s\n",
            "500:\ttest: 0.4027337\tbest: 0.4028698 (496)\ttotal: 22.9s\tremaining: 45.7s\n",
            "600:\ttest: 0.4042542\tbest: 0.4042542 (600)\ttotal: 27.1s\tremaining: 40.6s\n",
            "700:\ttest: 0.4058368\tbest: 0.4060081 (696)\ttotal: 31.9s\tremaining: 36.4s\n",
            "800:\ttest: 0.4080084\tbest: 0.4080892 (798)\ttotal: 36.4s\tremaining: 31.8s\n",
            "900:\ttest: 0.4086763\tbest: 0.4087605 (897)\ttotal: 40.6s\tremaining: 27s\n",
            "1000:\ttest: 0.4091792\tbest: 0.4093165 (998)\ttotal: 46.1s\tremaining: 23s\n",
            "1100:\ttest: 0.4094605\tbest: 0.4101330 (1076)\ttotal: 50.3s\tremaining: 18.2s\n",
            "1200:\ttest: 0.4104641\tbest: 0.4105700 (1198)\ttotal: 54.5s\tremaining: 13.6s\n",
            "1300:\ttest: 0.4114023\tbest: 0.4114897 (1294)\ttotal: 59.7s\tremaining: 9.12s\n",
            "1400:\ttest: 0.4129793\tbest: 0.4130261 (1377)\ttotal: 1m 3s\tremaining: 4.51s\n",
            "1499:\ttest: 0.4130965\tbest: 0.4131996 (1438)\ttotal: 1m 8s\tremaining: 0us\n",
            "bestTest = 0.4131996228\n",
            "bestIteration = 1438\n",
            "Shrink model to first 1439 iterations.\n"
          ]
        },
        {
          "metadata": {
            "tags": null
          },
          "name": "stderr",
          "output_type": "stream",
          "text": [
            "Default metric period is 5 because NDCG is/are not implemented for GPU\n",
            "Metric NDCG:type=Base is not implemented on GPU. Will use CPU for metric computation, this could significantly affect learning time\n",
            "Metric NDCG:top=10;type=Exp is not implemented on GPU. Will use CPU for metric computation, this could significantly affect learning time\n"
          ]
        },
        {
          "metadata": {
            "tags": null
          },
          "name": "stdout",
          "output_type": "stream",
          "text": [
            "0:\ttest: 0.2424627\tbest: 0.2424627 (0)\ttotal: 98.9ms\tremaining: 2m 28s\n",
            "100:\ttest: 0.3881329\tbest: 0.3886851 (90)\ttotal: 4.33s\tremaining: 60s\n",
            "200:\ttest: 0.3968010\tbest: 0.3968599 (199)\ttotal: 9.47s\tremaining: 1m 1s\n",
            "300:\ttest: 0.3981738\tbest: 0.3985019 (292)\ttotal: 13.7s\tremaining: 54.4s\n",
            "400:\ttest: 0.4013715\tbest: 0.4013715 (400)\ttotal: 17.8s\tremaining: 48.8s\n",
            "500:\ttest: 0.4027451\tbest: 0.4028209 (497)\ttotal: 23s\tremaining: 45.8s\n",
            "600:\ttest: 0.4038180\tbest: 0.4038596 (599)\ttotal: 27.2s\tremaining: 40.7s\n",
            "700:\ttest: 0.4056129\tbest: 0.4057481 (697)\ttotal: 31.9s\tremaining: 36.4s\n",
            "800:\ttest: 0.4075443\tbest: 0.4076230 (797)\ttotal: 36.6s\tremaining: 32s\n",
            "900:\ttest: 0.4080616\tbest: 0.4083844 (857)\ttotal: 40.8s\tremaining: 27.1s\n",
            "1000:\ttest: 0.4089207\tbest: 0.4089761 (999)\ttotal: 46s\tremaining: 22.9s\n",
            "1100:\ttest: 0.4092527\tbest: 0.4097757 (1060)\ttotal: 50.2s\tremaining: 18.2s\n",
            "1200:\ttest: 0.4101154\tbest: 0.4101154 (1200)\ttotal: 54.4s\tremaining: 13.6s\n",
            "1300:\ttest: 0.4109710\tbest: 0.4112024 (1279)\ttotal: 59.6s\tremaining: 9.12s\n",
            "1400:\ttest: 0.4130621\tbest: 0.4130621 (1400)\ttotal: 1m 3s\tremaining: 4.51s\n",
            "1499:\ttest: 0.4131813\tbest: 0.4133397 (1457)\ttotal: 1m 8s\tremaining: 0us\n",
            "bestTest = 0.4133397171\n",
            "bestIteration = 1457\n",
            "Shrink model to first 1458 iterations.\n"
          ]
        },
        {
          "metadata": {
            "tags": null
          },
          "name": "stderr",
          "output_type": "stream",
          "text": [
            "Default metric period is 5 because NDCG is/are not implemented for GPU\n",
            "Metric NDCG:type=Base is not implemented on GPU. Will use CPU for metric computation, this could significantly affect learning time\n",
            "Metric NDCG:top=10;type=Exp is not implemented on GPU. Will use CPU for metric computation, this could significantly affect learning time\n"
          ]
        },
        {
          "metadata": {
            "tags": null
          },
          "name": "stdout",
          "output_type": "stream",
          "text": [
            "0:\ttest: 0.2424627\tbest: 0.2424627 (0)\ttotal: 93ms\tremaining: 2m 19s\n",
            "100:\ttest: 0.3885772\tbest: 0.3893208 (92)\ttotal: 4.61s\tremaining: 1m 3s\n",
            "200:\ttest: 0.3970009\tbest: 0.3972712 (199)\ttotal: 9.78s\tremaining: 1m 3s\n",
            "300:\ttest: 0.3983345\tbest: 0.3986122 (293)\ttotal: 13.9s\tremaining: 55.5s\n",
            "400:\ttest: 0.4009734\tbest: 0.4009734 (400)\ttotal: 18.1s\tremaining: 49.6s\n",
            "500:\ttest: 0.4026778\tbest: 0.4028901 (496)\ttotal: 23.3s\tremaining: 46.4s\n",
            "600:\ttest: 0.4037334\tbest: 0.4037334 (600)\ttotal: 27.5s\tremaining: 41.1s\n",
            "700:\ttest: 0.4050357\tbest: 0.4052545 (684)\ttotal: 32.1s\tremaining: 36.6s\n",
            "800:\ttest: 0.4061265\tbest: 0.4061992 (767)\ttotal: 36.9s\tremaining: 32.2s\n",
            "900:\ttest: 0.4080303\tbest: 0.4080597 (899)\ttotal: 41.1s\tremaining: 27.4s\n",
            "1000:\ttest: 0.4083835\tbest: 0.4085286 (938)\ttotal: 46.3s\tremaining: 23.1s\n",
            "1100:\ttest: 0.4092729\tbest: 0.4093200 (1098)\ttotal: 50.4s\tremaining: 18.3s\n",
            "1200:\ttest: 0.4095761\tbest: 0.4099126 (1181)\ttotal: 54.6s\tremaining: 13.6s\n",
            "1300:\ttest: 0.4104413\tbest: 0.4105095 (1288)\ttotal: 59.8s\tremaining: 9.14s\n",
            "1400:\ttest: 0.4121560\tbest: 0.4122290 (1376)\ttotal: 1m 3s\tremaining: 4.52s\n",
            "1499:\ttest: 0.4128492\tbest: 0.4128994 (1478)\ttotal: 1m 8s\tremaining: 0us\n",
            "bestTest = 0.4128994289\n",
            "bestIteration = 1478\n",
            "Shrink model to first 1479 iterations.\n"
          ]
        },
        {
          "metadata": {
            "tags": null
          },
          "name": "stderr",
          "output_type": "stream",
          "text": [
            "Default metric period is 5 because NDCG is/are not implemented for GPU\n",
            "Metric NDCG:type=Base is not implemented on GPU. Will use CPU for metric computation, this could significantly affect learning time\n",
            "Metric NDCG:top=10;type=Exp is not implemented on GPU. Will use CPU for metric computation, this could significantly affect learning time\n"
          ]
        },
        {
          "metadata": {
            "tags": null
          },
          "name": "stdout",
          "output_type": "stream",
          "text": [
            "0:\ttest: 0.3183135\tbest: 0.3183135 (0)\ttotal: 101ms\tremaining: 2m 31s\n",
            "100:\ttest: 0.4060469\tbest: 0.4089627 (27)\ttotal: 4.84s\tremaining: 1m 7s\n",
            "200:\ttest: 0.4071223\tbest: 0.4089627 (27)\ttotal: 10.5s\tremaining: 1m 7s\n",
            "bestTest = 0.4089627244\n",
            "bestIteration = 27\n",
            "Shrink model to first 28 iterations.\n"
          ]
        },
        {
          "metadata": {
            "tags": null
          },
          "name": "stderr",
          "output_type": "stream",
          "text": [
            "Default metric period is 5 because NDCG is/are not implemented for GPU\n",
            "Metric NDCG:type=Base is not implemented on GPU. Will use CPU for metric computation, this could significantly affect learning time\n",
            "Metric NDCG:top=10;type=Exp is not implemented on GPU. Will use CPU for metric computation, this could significantly affect learning time\n"
          ]
        },
        {
          "metadata": {
            "tags": null
          },
          "name": "stdout",
          "output_type": "stream",
          "text": [
            "0:\ttest: 0.3177237\tbest: 0.3177237 (0)\ttotal: 105ms\tremaining: 2m 36s\n",
            "100:\ttest: 0.4057930\tbest: 0.4094778 (31)\ttotal: 5.88s\tremaining: 1m 21s\n",
            "200:\ttest: 0.4066629\tbest: 0.4094778 (31)\ttotal: 10.5s\tremaining: 1m 8s\n",
            "bestTest = 0.4094778283\n",
            "bestIteration = 31\n",
            "Shrink model to first 32 iterations.\n"
          ]
        },
        {
          "metadata": {
            "tags": null
          },
          "name": "stderr",
          "output_type": "stream",
          "text": [
            "Default metric period is 5 because NDCG is/are not implemented for GPU\n",
            "Metric NDCG:type=Base is not implemented on GPU. Will use CPU for metric computation, this could significantly affect learning time\n",
            "Metric NDCG:top=10;type=Exp is not implemented on GPU. Will use CPU for metric computation, this could significantly affect learning time\n"
          ]
        },
        {
          "metadata": {
            "tags": null
          },
          "name": "stdout",
          "output_type": "stream",
          "text": [
            "0:\ttest: 0.3174518\tbest: 0.3174518 (0)\ttotal: 104ms\tremaining: 2m 36s\n",
            "100:\ttest: 0.4040098\tbest: 0.4067567 (28)\ttotal: 4.83s\tremaining: 1m 6s\n",
            "200:\ttest: 0.4058610\tbest: 0.4067567 (28)\ttotal: 9.49s\tremaining: 1m 1s\n",
            "300:\ttest: 0.4070201\tbest: 0.4071988 (288)\ttotal: 15.2s\tremaining: 1m\n",
            "400:\ttest: 0.4083304\tbest: 0.4083304 (400)\ttotal: 19.9s\tremaining: 54.4s\n",
            "500:\ttest: 0.4084743\tbest: 0.4088176 (452)\ttotal: 25.5s\tremaining: 50.9s\n",
            "600:\ttest: 0.4096888\tbest: 0.4097918 (592)\ttotal: 30.2s\tremaining: 45.1s\n",
            "700:\ttest: 0.4103644\tbest: 0.4104141 (689)\ttotal: 34.8s\tremaining: 39.7s\n",
            "800:\ttest: 0.4123220\tbest: 0.4125845 (783)\ttotal: 40.4s\tremaining: 35.2s\n",
            "900:\ttest: 0.4134513\tbest: 0.4134704 (899)\ttotal: 45s\tremaining: 29.9s\n",
            "1000:\ttest: 0.4146755\tbest: 0.4147592 (989)\ttotal: 50.6s\tremaining: 25.2s\n",
            "1100:\ttest: 0.4152414\tbest: 0.4153425 (1084)\ttotal: 55.3s\tremaining: 20s\n",
            "1200:\ttest: 0.4164129\tbest: 0.4164741 (1196)\ttotal: 1m\tremaining: 15s\n",
            "1300:\ttest: 0.4174867\tbest: 0.4175732 (1273)\ttotal: 1m 5s\tremaining: 10s\n",
            "1400:\ttest: 0.4191000\tbest: 0.4191062 (1395)\ttotal: 1m 10s\tremaining: 4.96s\n",
            "1499:\ttest: 0.4197442\tbest: 0.4197442 (1499)\ttotal: 1m 15s\tremaining: 0us\n",
            "bestTest = 0.4197442382\n",
            "bestIteration = 1499\n"
          ]
        },
        {
          "metadata": {
            "tags": null
          },
          "name": "stderr",
          "output_type": "stream",
          "text": [
            "Default metric period is 5 because NDCG is/are not implemented for GPU\n",
            "Metric NDCG:type=Base is not implemented on GPU. Will use CPU for metric computation, this could significantly affect learning time\n",
            "Metric NDCG:top=10;type=Exp is not implemented on GPU. Will use CPU for metric computation, this could significantly affect learning time\n"
          ]
        },
        {
          "metadata": {
            "tags": null
          },
          "name": "stdout",
          "output_type": "stream",
          "text": [
            "0:\ttest: 0.3167188\tbest: 0.3167188 (0)\ttotal: 102ms\tremaining: 2m 32s\n",
            "100:\ttest: 0.4034737\tbest: 0.4060054 (30)\ttotal: 5.81s\tremaining: 1m 20s\n",
            "200:\ttest: 0.4050862\tbest: 0.4060054 (30)\ttotal: 10.5s\tremaining: 1m 7s\n",
            "300:\ttest: 0.4057714\tbest: 0.4065358 (231)\ttotal: 15.1s\tremaining: 1m\n",
            "400:\ttest: 0.4069359\tbest: 0.4070835 (399)\ttotal: 21.1s\tremaining: 57.8s\n",
            "500:\ttest: 0.4082211\tbest: 0.4082592 (499)\ttotal: 25.8s\tremaining: 51.5s\n",
            "600:\ttest: 0.4088469\tbest: 0.4088469 (600)\ttotal: 31.5s\tremaining: 47.1s\n",
            "700:\ttest: 0.4102288\tbest: 0.4102321 (699)\ttotal: 36.1s\tremaining: 41.2s\n",
            "800:\ttest: 0.4120767\tbest: 0.4121578 (795)\ttotal: 41.1s\tremaining: 35.9s\n",
            "900:\ttest: 0.4133041\tbest: 0.4133303 (899)\ttotal: 46.4s\tremaining: 30.9s\n",
            "1000:\ttest: 0.4145028\tbest: 0.4145028 (1000)\ttotal: 51.1s\tremaining: 25.5s\n",
            "1100:\ttest: 0.4150023\tbest: 0.4150715 (1091)\ttotal: 56.8s\tremaining: 20.6s\n",
            "1200:\ttest: 0.4161409\tbest: 0.4162414 (1197)\ttotal: 1m 1s\tremaining: 15.3s\n",
            "1300:\ttest: 0.4177743\tbest: 0.4178571 (1295)\ttotal: 1m 6s\tremaining: 10.2s\n",
            "1400:\ttest: 0.4187281\tbest: 0.4188429 (1388)\ttotal: 1m 11s\tremaining: 5.07s\n",
            "1499:\ttest: 0.4197502\tbest: 0.4197502 (1499)\ttotal: 1m 16s\tremaining: 0us\n",
            "bestTest = 0.4197501819\n",
            "bestIteration = 1499\n"
          ]
        },
        {
          "metadata": {
            "tags": null
          },
          "name": "stderr",
          "output_type": "stream",
          "text": [
            "Default metric period is 5 because NDCG is/are not implemented for GPU\n",
            "Metric NDCG:type=Base is not implemented on GPU. Will use CPU for metric computation, this could significantly affect learning time\n",
            "Metric NDCG:top=10;type=Exp is not implemented on GPU. Will use CPU for metric computation, this could significantly affect learning time\n"
          ]
        },
        {
          "metadata": {
            "tags": null
          },
          "name": "stdout",
          "output_type": "stream",
          "text": [
            "0:\ttest: 0.3151338\tbest: 0.3151338 (0)\ttotal: 105ms\tremaining: 2m 37s\n",
            "100:\ttest: 0.4030014\tbest: 0.4063895 (28)\ttotal: 4.82s\tremaining: 1m 6s\n",
            "200:\ttest: 0.4049261\tbest: 0.4063895 (28)\ttotal: 10.4s\tremaining: 1m 7s\n",
            "bestTest = 0.4063894615\n",
            "bestIteration = 28\n",
            "Shrink model to first 29 iterations.\n"
          ]
        },
        {
          "metadata": {
            "tags": null
          },
          "name": "stderr",
          "output_type": "stream",
          "text": [
            "Default metric period is 5 because NDCG is/are not implemented for GPU\n",
            "Metric NDCG:type=Base is not implemented on GPU. Will use CPU for metric computation, this could significantly affect learning time\n",
            "Metric NDCG:top=10;type=Exp is not implemented on GPU. Will use CPU for metric computation, this could significantly affect learning time\n"
          ]
        },
        {
          "metadata": {
            "tags": null
          },
          "name": "stdout",
          "output_type": "stream",
          "text": [
            "0:\ttest: 0.3279862\tbest: 0.3279862 (0)\ttotal: 120ms\tremaining: 2m 59s\n",
            "100:\ttest: 0.4146800\tbest: 0.4148510 (97)\ttotal: 6.71s\tremaining: 1m 32s\n",
            "200:\ttest: 0.4172661\tbest: 0.4174615 (191)\ttotal: 12.3s\tremaining: 1m 19s\n",
            "300:\ttest: 0.4186842\tbest: 0.4190509 (286)\ttotal: 18.8s\tremaining: 1m 14s\n",
            "400:\ttest: 0.4196263\tbest: 0.4197331 (399)\ttotal: 24.7s\tremaining: 1m 7s\n",
            "500:\ttest: 0.4211098\tbest: 0.4212718 (494)\ttotal: 31.2s\tremaining: 1m 2s\n",
            "600:\ttest: 0.4223322\tbest: 0.4224515 (578)\ttotal: 36.8s\tremaining: 55s\n",
            "700:\ttest: 0.4245963\tbest: 0.4245963 (700)\ttotal: 43.3s\tremaining: 49.3s\n",
            "800:\ttest: 0.4263816\tbest: 0.4265229 (796)\ttotal: 48.9s\tremaining: 42.7s\n",
            "900:\ttest: 0.4275062\tbest: 0.4276351 (898)\ttotal: 55.3s\tremaining: 36.7s\n",
            "1000:\ttest: 0.4289107\tbest: 0.4289242 (999)\ttotal: 1m\tremaining: 30.4s\n",
            "1100:\ttest: 0.4294864\tbest: 0.4295908 (1097)\ttotal: 1m 7s\tremaining: 24.3s\n",
            "1200:\ttest: 0.4304185\tbest: 0.4304701 (1186)\ttotal: 1m 12s\tremaining: 18.2s\n",
            "1300:\ttest: 0.4316434\tbest: 0.4316644 (1298)\ttotal: 1m 18s\tremaining: 12.1s\n",
            "1400:\ttest: 0.4332483\tbest: 0.4333383 (1397)\ttotal: 1m 24s\tremaining: 6s\n",
            "1499:\ttest: 0.4344830\tbest: 0.4344830 (1499)\ttotal: 1m 30s\tremaining: 0us\n",
            "bestTest = 0.4344830462\n",
            "bestIteration = 1499\n"
          ]
        },
        {
          "metadata": {
            "tags": null
          },
          "name": "stderr",
          "output_type": "stream",
          "text": [
            "Default metric period is 5 because NDCG is/are not implemented for GPU\n",
            "Metric NDCG:type=Base is not implemented on GPU. Will use CPU for metric computation, this could significantly affect learning time\n",
            "Metric NDCG:top=10;type=Exp is not implemented on GPU. Will use CPU for metric computation, this could significantly affect learning time\n"
          ]
        },
        {
          "metadata": {
            "tags": null
          },
          "name": "stdout",
          "output_type": "stream",
          "text": [
            "0:\ttest: 0.3260811\tbest: 0.3260811 (0)\ttotal: 118ms\tremaining: 2m 56s\n",
            "100:\ttest: 0.4129070\tbest: 0.4133732 (81)\ttotal: 5.99s\tremaining: 1m 22s\n",
            "200:\ttest: 0.4155461\tbest: 0.4159727 (185)\ttotal: 12.3s\tremaining: 1m 19s\n",
            "300:\ttest: 0.4166984\tbest: 0.4171164 (273)\ttotal: 17.9s\tremaining: 1m 11s\n",
            "400:\ttest: 0.4177072\tbest: 0.4177072 (400)\ttotal: 24.4s\tremaining: 1m 6s\n",
            "500:\ttest: 0.4193790\tbest: 0.4193790 (500)\ttotal: 30.4s\tremaining: 1m\n",
            "600:\ttest: 0.4205519\tbest: 0.4206371 (598)\ttotal: 36.8s\tremaining: 55.1s\n",
            "700:\ttest: 0.4219259\tbest: 0.4221177 (697)\ttotal: 42.4s\tremaining: 48.3s\n",
            "800:\ttest: 0.4236241\tbest: 0.4236564 (799)\ttotal: 48.9s\tremaining: 42.6s\n",
            "900:\ttest: 0.4252113\tbest: 0.4252187 (899)\ttotal: 54.4s\tremaining: 36.2s\n",
            "1000:\ttest: 0.4263647\tbest: 0.4263647 (1000)\ttotal: 1m\tremaining: 30.4s\n",
            "1100:\ttest: 0.4274104\tbest: 0.4274104 (1100)\ttotal: 1m 6s\tremaining: 24.1s\n",
            "1200:\ttest: 0.4279459\tbest: 0.4281097 (1192)\ttotal: 1m 13s\tremaining: 18.2s\n",
            "1300:\ttest: 0.4286977\tbest: 0.4287020 (1297)\ttotal: 1m 18s\tremaining: 12s\n",
            "1400:\ttest: 0.4301433\tbest: 0.4301490 (1399)\ttotal: 1m 25s\tremaining: 6.01s\n",
            "1499:\ttest: 0.4315836\tbest: 0.4317929 (1490)\ttotal: 1m 30s\tremaining: 0us\n",
            "bestTest = 0.4317929025\n",
            "bestIteration = 1490\n",
            "Shrink model to first 1491 iterations.\n"
          ]
        },
        {
          "metadata": {
            "tags": null
          },
          "name": "stderr",
          "output_type": "stream",
          "text": [
            "Default metric period is 5 because NDCG is/are not implemented for GPU\n",
            "Metric NDCG:type=Base is not implemented on GPU. Will use CPU for metric computation, this could significantly affect learning time\n",
            "Metric NDCG:top=10;type=Exp is not implemented on GPU. Will use CPU for metric computation, this could significantly affect learning time\n"
          ]
        },
        {
          "metadata": {
            "tags": null
          },
          "name": "stdout",
          "output_type": "stream",
          "text": [
            "0:\ttest: 0.3238453\tbest: 0.3238453 (0)\ttotal: 118ms\tremaining: 2m 57s\n",
            "100:\ttest: 0.4123291\tbest: 0.4123291 (100)\ttotal: 5.7s\tremaining: 1m 18s\n",
            "200:\ttest: 0.4148225\tbest: 0.4150234 (186)\ttotal: 12.2s\tremaining: 1m 19s\n",
            "300:\ttest: 0.4162735\tbest: 0.4162735 (300)\ttotal: 17.8s\tremaining: 1m 10s\n",
            "400:\ttest: 0.4168013\tbest: 0.4170434 (372)\ttotal: 24.3s\tremaining: 1m 6s\n",
            "500:\ttest: 0.4179964\tbest: 0.4180668 (498)\ttotal: 29.8s\tremaining: 59.5s\n",
            "600:\ttest: 0.4190662\tbest: 0.4194156 (579)\ttotal: 36.7s\tremaining: 54.8s\n",
            "700:\ttest: 0.4205272\tbest: 0.4205272 (700)\ttotal: 42.2s\tremaining: 48.1s\n",
            "800:\ttest: 0.4219998\tbest: 0.4219998 (800)\ttotal: 48.7s\tremaining: 42.5s\n",
            "900:\ttest: 0.4232345\tbest: 0.4233083 (899)\ttotal: 54.2s\tremaining: 36s\n",
            "1000:\ttest: 0.4244052\tbest: 0.4244803 (973)\ttotal: 1m\tremaining: 30.3s\n",
            "1100:\ttest: 0.4250336\tbest: 0.4252038 (1095)\ttotal: 1m 6s\tremaining: 24s\n",
            "1200:\ttest: 0.4260918\tbest: 0.4262285 (1197)\ttotal: 1m 12s\tremaining: 18.1s\n",
            "1300:\ttest: 0.4267558\tbest: 0.4269071 (1268)\ttotal: 1m 18s\tremaining: 12s\n",
            "1400:\ttest: 0.4281857\tbest: 0.4281857 (1400)\ttotal: 1m 24s\tremaining: 6s\n",
            "1499:\ttest: 0.4291443\tbest: 0.4291884 (1495)\ttotal: 1m 30s\tremaining: 0us\n",
            "bestTest = 0.4291884152\n",
            "bestIteration = 1495\n",
            "Shrink model to first 1496 iterations.\n"
          ]
        },
        {
          "metadata": {
            "tags": null
          },
          "name": "stderr",
          "output_type": "stream",
          "text": [
            "Default metric period is 5 because NDCG is/are not implemented for GPU\n",
            "Metric NDCG:type=Base is not implemented on GPU. Will use CPU for metric computation, this could significantly affect learning time\n",
            "Metric NDCG:top=10;type=Exp is not implemented on GPU. Will use CPU for metric computation, this could significantly affect learning time\n"
          ]
        },
        {
          "metadata": {
            "tags": null
          },
          "name": "stdout",
          "output_type": "stream",
          "text": [
            "0:\ttest: 0.3307149\tbest: 0.3307149 (0)\ttotal: 117ms\tremaining: 2m 54s\n",
            "100:\ttest: 0.4112860\tbest: 0.4113331 (99)\ttotal: 5.68s\tremaining: 1m 18s\n",
            "200:\ttest: 0.4139086\tbest: 0.4140628 (188)\ttotal: 12.2s\tremaining: 1m 18s\n",
            "300:\ttest: 0.4153728\tbest: 0.4154362 (299)\ttotal: 17.7s\tremaining: 1m 10s\n",
            "400:\ttest: 0.4158750\tbest: 0.4158976 (399)\ttotal: 24.2s\tremaining: 1m 6s\n",
            "500:\ttest: 0.4171516\tbest: 0.4171626 (461)\ttotal: 29.7s\tremaining: 59.3s\n",
            "600:\ttest: 0.4178912\tbest: 0.4179762 (598)\ttotal: 36.2s\tremaining: 54.1s\n",
            "700:\ttest: 0.4187380\tbest: 0.4188056 (697)\ttotal: 42.1s\tremaining: 48s\n",
            "800:\ttest: 0.4199394\tbest: 0.4200433 (795)\ttotal: 48.4s\tremaining: 42.2s\n",
            "900:\ttest: 0.4216865\tbest: 0.4217275 (894)\ttotal: 54.1s\tremaining: 36s\n",
            "1000:\ttest: 0.4228077\tbest: 0.4228851 (998)\ttotal: 1m\tremaining: 30s\n",
            "1100:\ttest: 0.4239937\tbest: 0.4240917 (1099)\ttotal: 1m 6s\tremaining: 24s\n",
            "1200:\ttest: 0.4249399\tbest: 0.4249564 (1198)\ttotal: 1m 11s\tremaining: 17.9s\n",
            "1300:\ttest: 0.4258776\tbest: 0.4259070 (1298)\ttotal: 1m 18s\tremaining: 12s\n",
            "1400:\ttest: 0.4270323\tbest: 0.4271353 (1398)\ttotal: 1m 23s\tremaining: 5.92s\n",
            "1499:\ttest: 0.4278138\tbest: 0.4279799 (1497)\ttotal: 1m 30s\tremaining: 0us\n",
            "bestTest = 0.4279799173\n",
            "bestIteration = 1497\n",
            "Shrink model to first 1498 iterations.\n"
          ]
        },
        {
          "metadata": {
            "tags": null
          },
          "name": "stderr",
          "output_type": "stream",
          "text": [
            "Default metric period is 5 because NDCG is/are not implemented for GPU\n",
            "Metric NDCG:type=Base is not implemented on GPU. Will use CPU for metric computation, this could significantly affect learning time\n",
            "Metric NDCG:top=10;type=Exp is not implemented on GPU. Will use CPU for metric computation, this could significantly affect learning time\n"
          ]
        },
        {
          "metadata": {
            "tags": null
          },
          "name": "stdout",
          "output_type": "stream",
          "text": [
            "0:\ttest: 0.3294239\tbest: 0.3294239 (0)\ttotal: 191ms\tremaining: 4m 46s\n",
            "100:\ttest: 0.4082532\tbest: 0.4084528 (99)\ttotal: 6.51s\tremaining: 1m 30s\n",
            "200:\ttest: 0.4118913\tbest: 0.4121069 (180)\ttotal: 12s\tremaining: 1m 17s\n",
            "300:\ttest: 0.4132784\tbest: 0.4137378 (289)\ttotal: 18.4s\tremaining: 1m 13s\n",
            "400:\ttest: 0.4142228\tbest: 0.4142228 (400)\ttotal: 24s\tremaining: 1m 5s\n",
            "500:\ttest: 0.4140627\tbest: 0.4143817 (470)\ttotal: 30.5s\tremaining: 1m\n",
            "600:\ttest: 0.4151760\tbest: 0.4154098 (593)\ttotal: 36s\tremaining: 53.9s\n",
            "700:\ttest: 0.4161988\tbest: 0.4163302 (691)\ttotal: 42.5s\tremaining: 48.4s\n",
            "800:\ttest: 0.4175722\tbest: 0.4178001 (796)\ttotal: 48.3s\tremaining: 42.1s\n",
            "900:\ttest: 0.4192576\tbest: 0.4192576 (900)\ttotal: 54.8s\tremaining: 36.4s\n",
            "1000:\ttest: 0.4206089\tbest: 0.4206917 (979)\ttotal: 1m\tremaining: 30.1s\n",
            "1100:\ttest: 0.4215775\tbest: 0.4215775 (1100)\ttotal: 1m 6s\tremaining: 24.2s\n",
            "1200:\ttest: 0.4227375\tbest: 0.4228711 (1193)\ttotal: 1m 12s\tremaining: 18s\n",
            "1300:\ttest: 0.4236582\tbest: 0.4237644 (1291)\ttotal: 1m 18s\tremaining: 12.1s\n",
            "1400:\ttest: 0.4247994\tbest: 0.4247994 (1400)\ttotal: 1m 24s\tremaining: 5.96s\n",
            "1499:\ttest: 0.4261874\tbest: 0.4262171 (1498)\ttotal: 1m 30s\tremaining: 0us\n",
            "bestTest = 0.4262170806\n",
            "bestIteration = 1498\n",
            "Shrink model to first 1499 iterations.\n"
          ]
        },
        {
          "metadata": {
            "tags": null
          },
          "name": "stderr",
          "output_type": "stream",
          "text": [
            "Default metric period is 5 because NDCG is/are not implemented for GPU\n",
            "Metric NDCG:type=Base is not implemented on GPU. Will use CPU for metric computation, this could significantly affect learning time\n",
            "Metric NDCG:top=10;type=Exp is not implemented on GPU. Will use CPU for metric computation, this could significantly affect learning time\n"
          ]
        },
        {
          "metadata": {
            "tags": null
          },
          "name": "stdout",
          "output_type": "stream",
          "text": [
            "0:\ttest: 0.2341477\tbest: 0.2341477 (0)\ttotal: 83.8ms\tremaining: 2m 5s\n",
            "100:\ttest: 0.3364246\tbest: 0.3365622 (88)\ttotal: 4.95s\tremaining: 1m 8s\n",
            "200:\ttest: 0.3676298\tbest: 0.3676376 (199)\ttotal: 8.7s\tremaining: 56.2s\n",
            "300:\ttest: 0.3760222\tbest: 0.3762767 (293)\ttotal: 12.5s\tremaining: 49.6s\n",
            "400:\ttest: 0.3812459\tbest: 0.3812577 (395)\ttotal: 17.1s\tremaining: 46.9s\n",
            "500:\ttest: 0.3849325\tbest: 0.3850272 (497)\ttotal: 20.9s\tremaining: 41.6s\n",
            "600:\ttest: 0.3984053\tbest: 0.3984095 (599)\ttotal: 24.6s\tremaining: 36.8s\n",
            "700:\ttest: 0.4068757\tbest: 0.4069122 (699)\ttotal: 29.4s\tremaining: 33.5s\n",
            "800:\ttest: 0.4106088\tbest: 0.4106088 (800)\ttotal: 33.1s\tremaining: 28.9s\n",
            "900:\ttest: 0.4139260\tbest: 0.4139260 (900)\ttotal: 36.9s\tremaining: 24.5s\n",
            "1000:\ttest: 0.4175180\tbest: 0.4175288 (999)\ttotal: 41.6s\tremaining: 20.8s\n",
            "1100:\ttest: 0.4198622\tbest: 0.4198622 (1100)\ttotal: 45.4s\tremaining: 16.5s\n",
            "1200:\ttest: 0.4233864\tbest: 0.4234421 (1199)\ttotal: 49.3s\tremaining: 12.3s\n",
            "1300:\ttest: 0.4264276\tbest: 0.4264276 (1300)\ttotal: 54.3s\tremaining: 8.3s\n",
            "1400:\ttest: 0.4279375\tbest: 0.4279625 (1391)\ttotal: 58.1s\tremaining: 4.1s\n",
            "1499:\ttest: 0.4304246\tbest: 0.4305103 (1498)\ttotal: 1m 1s\tremaining: 0us\n",
            "bestTest = 0.4305102832\n",
            "bestIteration = 1498\n",
            "Shrink model to first 1499 iterations.\n"
          ]
        },
        {
          "metadata": {
            "tags": null
          },
          "name": "stderr",
          "output_type": "stream",
          "text": [
            "Default metric period is 5 because NDCG is/are not implemented for GPU\n",
            "Metric NDCG:type=Base is not implemented on GPU. Will use CPU for metric computation, this could significantly affect learning time\n",
            "Metric NDCG:top=10;type=Exp is not implemented on GPU. Will use CPU for metric computation, this could significantly affect learning time\n"
          ]
        },
        {
          "metadata": {
            "tags": null
          },
          "name": "stdout",
          "output_type": "stream",
          "text": [
            "0:\ttest: 0.2341477\tbest: 0.2341477 (0)\ttotal: 83.3ms\tremaining: 2m 4s\n",
            "100:\ttest: 0.3385811\tbest: 0.3385811 (100)\ttotal: 3.91s\tremaining: 54.1s\n",
            "200:\ttest: 0.3675291\tbest: 0.3679005 (197)\ttotal: 7.62s\tremaining: 49.3s\n",
            "300:\ttest: 0.3751871\tbest: 0.3752686 (295)\ttotal: 12.3s\tremaining: 49s\n",
            "400:\ttest: 0.3819876\tbest: 0.3819876 (400)\ttotal: 16.1s\tremaining: 44s\n",
            "500:\ttest: 0.3856851\tbest: 0.3857112 (494)\ttotal: 19.8s\tremaining: 39.5s\n",
            "600:\ttest: 0.3985867\tbest: 0.3986947 (599)\ttotal: 24.6s\tremaining: 36.8s\n",
            "700:\ttest: 0.4066578\tbest: 0.4066578 (700)\ttotal: 28.4s\tremaining: 32.4s\n",
            "800:\ttest: 0.4105165\tbest: 0.4106073 (799)\ttotal: 32.1s\tremaining: 28.1s\n",
            "900:\ttest: 0.4140027\tbest: 0.4140493 (893)\ttotal: 36.8s\tremaining: 24.4s\n",
            "1000:\ttest: 0.4174347\tbest: 0.4174947 (999)\ttotal: 40.6s\tremaining: 20.2s\n",
            "1100:\ttest: 0.4193516\tbest: 0.4193516 (1100)\ttotal: 44.4s\tremaining: 16.1s\n",
            "1200:\ttest: 0.4233574\tbest: 0.4234957 (1197)\ttotal: 49.1s\tremaining: 12.2s\n",
            "1300:\ttest: 0.4262489\tbest: 0.4262489 (1300)\ttotal: 52.9s\tremaining: 8.09s\n",
            "1400:\ttest: 0.4277961\tbest: 0.4278659 (1387)\ttotal: 56.7s\tremaining: 4s\n",
            "1499:\ttest: 0.4304785\tbest: 0.4304785 (1499)\ttotal: 1m 1s\tremaining: 0us\n",
            "bestTest = 0.4304785318\n",
            "bestIteration = 1499\n"
          ]
        },
        {
          "metadata": {
            "tags": null
          },
          "name": "stderr",
          "output_type": "stream",
          "text": [
            "Default metric period is 5 because NDCG is/are not implemented for GPU\n",
            "Metric NDCG:type=Base is not implemented on GPU. Will use CPU for metric computation, this could significantly affect learning time\n",
            "Metric NDCG:top=10;type=Exp is not implemented on GPU. Will use CPU for metric computation, this could significantly affect learning time\n"
          ]
        },
        {
          "metadata": {
            "tags": null
          },
          "name": "stdout",
          "output_type": "stream",
          "text": [
            "0:\ttest: 0.2341477\tbest: 0.2341477 (0)\ttotal: 83.6ms\tremaining: 2m 5s\n",
            "100:\ttest: 0.3385721\tbest: 0.3385721 (100)\ttotal: 3.9s\tremaining: 54.1s\n",
            "200:\ttest: 0.3676269\tbest: 0.3677334 (197)\ttotal: 8.66s\tremaining: 56s\n",
            "300:\ttest: 0.3746896\tbest: 0.3749706 (292)\ttotal: 12.4s\tremaining: 49.5s\n",
            "400:\ttest: 0.3817659\tbest: 0.3817659 (400)\ttotal: 16.1s\tremaining: 44.2s\n",
            "500:\ttest: 0.3856620\tbest: 0.3858541 (497)\ttotal: 21.1s\tremaining: 42s\n",
            "600:\ttest: 0.3983925\tbest: 0.3983925 (600)\ttotal: 24.9s\tremaining: 37.2s\n",
            "700:\ttest: 0.4060165\tbest: 0.4060647 (698)\ttotal: 28.6s\tremaining: 32.6s\n",
            "800:\ttest: 0.4101353\tbest: 0.4101353 (800)\ttotal: 33.2s\tremaining: 29s\n",
            "900:\ttest: 0.4143461\tbest: 0.4143461 (900)\ttotal: 37s\tremaining: 24.6s\n",
            "1000:\ttest: 0.4174415\tbest: 0.4174598 (999)\ttotal: 40.8s\tremaining: 20.3s\n",
            "1100:\ttest: 0.4198179\tbest: 0.4198179 (1100)\ttotal: 45.5s\tremaining: 16.5s\n",
            "1200:\ttest: 0.4231540\tbest: 0.4232267 (1197)\ttotal: 49.3s\tremaining: 12.3s\n",
            "1300:\ttest: 0.4259033\tbest: 0.4259033 (1300)\ttotal: 53.1s\tremaining: 8.11s\n",
            "1400:\ttest: 0.4279423\tbest: 0.4279423 (1400)\ttotal: 57.8s\tremaining: 4.08s\n",
            "1499:\ttest: 0.4302774\tbest: 0.4303292 (1498)\ttotal: 1m 1s\tremaining: 0us\n",
            "bestTest = 0.4303292365\n",
            "bestIteration = 1498\n",
            "Shrink model to first 1499 iterations.\n"
          ]
        },
        {
          "metadata": {
            "tags": null
          },
          "name": "stderr",
          "output_type": "stream",
          "text": [
            "Default metric period is 5 because NDCG is/are not implemented for GPU\n",
            "Metric NDCG:type=Base is not implemented on GPU. Will use CPU for metric computation, this could significantly affect learning time\n",
            "Metric NDCG:top=10;type=Exp is not implemented on GPU. Will use CPU for metric computation, this could significantly affect learning time\n"
          ]
        },
        {
          "metadata": {
            "tags": null
          },
          "name": "stdout",
          "output_type": "stream",
          "text": [
            "0:\ttest: 0.2341477\tbest: 0.2341477 (0)\ttotal: 138ms\tremaining: 3m 27s\n",
            "100:\ttest: 0.3383904\tbest: 0.3383987 (94)\ttotal: 4.55s\tremaining: 1m 3s\n",
            "200:\ttest: 0.3667866\tbest: 0.3669269 (199)\ttotal: 8.32s\tremaining: 53.8s\n",
            "300:\ttest: 0.3750819\tbest: 0.3751112 (299)\ttotal: 12.5s\tremaining: 49.8s\n",
            "400:\ttest: 0.3815906\tbest: 0.3816874 (392)\ttotal: 16.7s\tremaining: 45.8s\n",
            "500:\ttest: 0.3856975\tbest: 0.3858066 (498)\ttotal: 20.5s\tremaining: 40.8s\n",
            "600:\ttest: 0.3982983\tbest: 0.3982983 (600)\ttotal: 24.5s\tremaining: 36.7s\n",
            "700:\ttest: 0.4063100\tbest: 0.4063100 (700)\ttotal: 28.8s\tremaining: 32.9s\n",
            "800:\ttest: 0.4099762\tbest: 0.4100565 (799)\ttotal: 32.6s\tremaining: 28.5s\n",
            "900:\ttest: 0.4138899\tbest: 0.4139722 (893)\ttotal: 36.7s\tremaining: 24.4s\n",
            "1000:\ttest: 0.4172196\tbest: 0.4172547 (999)\ttotal: 41.1s\tremaining: 20.5s\n",
            "1100:\ttest: 0.4192390\tbest: 0.4192481 (1098)\ttotal: 44.9s\tremaining: 16.3s\n",
            "1200:\ttest: 0.4233249\tbest: 0.4234550 (1197)\ttotal: 48.9s\tremaining: 12.2s\n",
            "1300:\ttest: 0.4253652\tbest: 0.4254097 (1292)\ttotal: 53.5s\tremaining: 8.18s\n",
            "1400:\ttest: 0.4281488\tbest: 0.4282259 (1398)\ttotal: 57.5s\tremaining: 4.06s\n",
            "1499:\ttest: 0.4303293\tbest: 0.4303812 (1498)\ttotal: 1m 1s\tremaining: 0us\n",
            "bestTest = 0.4303811731\n",
            "bestIteration = 1498\n",
            "Shrink model to first 1499 iterations.\n"
          ]
        },
        {
          "metadata": {
            "tags": null
          },
          "name": "stderr",
          "output_type": "stream",
          "text": [
            "Default metric period is 5 because NDCG is/are not implemented for GPU\n",
            "Metric NDCG:type=Base is not implemented on GPU. Will use CPU for metric computation, this could significantly affect learning time\n",
            "Metric NDCG:top=10;type=Exp is not implemented on GPU. Will use CPU for metric computation, this could significantly affect learning time\n"
          ]
        },
        {
          "metadata": {
            "tags": null
          },
          "name": "stdout",
          "output_type": "stream",
          "text": [
            "0:\ttest: 0.2341477\tbest: 0.2341477 (0)\ttotal: 83.3ms\tremaining: 2m 4s\n",
            "100:\ttest: 0.3359338\tbest: 0.3360409 (88)\ttotal: 3.88s\tremaining: 53.7s\n",
            "200:\ttest: 0.3673415\tbest: 0.3673415 (200)\ttotal: 8.47s\tremaining: 54.8s\n",
            "300:\ttest: 0.3747501\tbest: 0.3748553 (293)\ttotal: 12.2s\tremaining: 48.7s\n",
            "400:\ttest: 0.3813844\tbest: 0.3813844 (400)\ttotal: 16s\tremaining: 43.8s\n",
            "500:\ttest: 0.3850663\tbest: 0.3852286 (497)\ttotal: 20.6s\tremaining: 41.2s\n",
            "600:\ttest: 0.3992344\tbest: 0.3993951 (599)\ttotal: 24.5s\tremaining: 36.6s\n",
            "700:\ttest: 0.4061516\tbest: 0.4061516 (700)\ttotal: 28.3s\tremaining: 32.2s\n",
            "800:\ttest: 0.4102049\tbest: 0.4102842 (798)\ttotal: 33s\tremaining: 28.8s\n",
            "900:\ttest: 0.4138795\tbest: 0.4138886 (899)\ttotal: 36.8s\tremaining: 24.5s\n",
            "1000:\ttest: 0.4169351\tbest: 0.4172068 (994)\ttotal: 40.6s\tremaining: 20.3s\n",
            "1100:\ttest: 0.4195718\tbest: 0.4196041 (1098)\ttotal: 45.3s\tremaining: 16.4s\n",
            "1200:\ttest: 0.4230480\tbest: 0.4231031 (1195)\ttotal: 49.1s\tremaining: 12.2s\n",
            "1300:\ttest: 0.4253926\tbest: 0.4253992 (1298)\ttotal: 52.9s\tremaining: 8.1s\n",
            "1400:\ttest: 0.4277874\tbest: 0.4278642 (1397)\ttotal: 57.7s\tremaining: 4.08s\n",
            "1499:\ttest: 0.4295515\tbest: 0.4295743 (1498)\ttotal: 1m 1s\tremaining: 0us\n",
            "bestTest = 0.4295743216\n",
            "bestIteration = 1498\n",
            "Shrink model to first 1499 iterations.\n"
          ]
        },
        {
          "metadata": {
            "tags": null
          },
          "name": "stderr",
          "output_type": "stream",
          "text": [
            "Default metric period is 5 because NDCG is/are not implemented for GPU\n",
            "Metric NDCG:type=Base is not implemented on GPU. Will use CPU for metric computation, this could significantly affect learning time\n",
            "Metric NDCG:top=10;type=Exp is not implemented on GPU. Will use CPU for metric computation, this could significantly affect learning time\n"
          ]
        },
        {
          "metadata": {
            "tags": null
          },
          "name": "stdout",
          "output_type": "stream",
          "text": [
            "0:\ttest: 0.2424807\tbest: 0.2424807 (0)\ttotal: 91.9ms\tremaining: 2m 17s\n",
            "100:\ttest: 0.3957439\tbest: 0.3957628 (99)\ttotal: 5.38s\tremaining: 1m 14s\n",
            "200:\ttest: 0.4072023\tbest: 0.4076062 (197)\ttotal: 9.52s\tremaining: 1m 1s\n",
            "300:\ttest: 0.4126779\tbest: 0.4126779 (300)\ttotal: 13.7s\tremaining: 54.6s\n",
            "400:\ttest: 0.4166279\tbest: 0.4166279 (400)\ttotal: 18.8s\tremaining: 51.6s\n",
            "500:\ttest: 0.4197239\tbest: 0.4199424 (484)\ttotal: 23.2s\tremaining: 46.3s\n",
            "600:\ttest: 0.4226032\tbest: 0.4229509 (592)\ttotal: 28.4s\tremaining: 42.4s\n",
            "700:\ttest: 0.4273687\tbest: 0.4275489 (698)\ttotal: 32.5s\tremaining: 37.1s\n",
            "800:\ttest: 0.4300886\tbest: 0.4302302 (799)\ttotal: 36.6s\tremaining: 32s\n",
            "900:\ttest: 0.4338851\tbest: 0.4339159 (898)\ttotal: 41.7s\tremaining: 27.7s\n",
            "1000:\ttest: 0.4370396\tbest: 0.4371369 (999)\ttotal: 45.9s\tremaining: 22.9s\n",
            "1100:\ttest: 0.4397594\tbest: 0.4397594 (1100)\ttotal: 50s\tremaining: 18.1s\n",
            "1200:\ttest: 0.4419575\tbest: 0.4420441 (1196)\ttotal: 55.2s\tremaining: 13.7s\n",
            "1300:\ttest: 0.4442692\tbest: 0.4444632 (1290)\ttotal: 59.3s\tremaining: 9.07s\n",
            "1400:\ttest: 0.4475024\tbest: 0.4475378 (1394)\ttotal: 1m 3s\tremaining: 4.51s\n",
            "1499:\ttest: 0.4502297\tbest: 0.4503033 (1491)\ttotal: 1m 8s\tremaining: 0us\n",
            "bestTest = 0.4503033123\n",
            "bestIteration = 1491\n",
            "Shrink model to first 1492 iterations.\n"
          ]
        },
        {
          "metadata": {
            "tags": null
          },
          "name": "stderr",
          "output_type": "stream",
          "text": [
            "Default metric period is 5 because NDCG is/are not implemented for GPU\n",
            "Metric NDCG:type=Base is not implemented on GPU. Will use CPU for metric computation, this could significantly affect learning time\n",
            "Metric NDCG:top=10;type=Exp is not implemented on GPU. Will use CPU for metric computation, this could significantly affect learning time\n"
          ]
        },
        {
          "metadata": {
            "tags": null
          },
          "name": "stdout",
          "output_type": "stream",
          "text": [
            "0:\ttest: 0.2424571\tbest: 0.2424571 (0)\ttotal: 93ms\tremaining: 2m 19s\n",
            "100:\ttest: 0.3929786\tbest: 0.3931483 (96)\ttotal: 5.32s\tremaining: 1m 13s\n",
            "200:\ttest: 0.4064592\tbest: 0.4066209 (196)\ttotal: 9.46s\tremaining: 1m 1s\n",
            "300:\ttest: 0.4123738\tbest: 0.4124396 (295)\ttotal: 13.6s\tremaining: 54.4s\n",
            "400:\ttest: 0.4158721\tbest: 0.4159070 (399)\ttotal: 18.7s\tremaining: 51.4s\n",
            "500:\ttest: 0.4197155\tbest: 0.4197155 (500)\ttotal: 22.9s\tremaining: 45.7s\n",
            "600:\ttest: 0.4219176\tbest: 0.4220043 (598)\ttotal: 27.6s\tremaining: 41.3s\n",
            "700:\ttest: 0.4263547\tbest: 0.4265659 (698)\ttotal: 32.2s\tremaining: 36.7s\n",
            "800:\ttest: 0.4291322\tbest: 0.4291322 (800)\ttotal: 36.4s\tremaining: 31.7s\n",
            "900:\ttest: 0.4330497\tbest: 0.4330816 (899)\ttotal: 41.5s\tremaining: 27.6s\n",
            "1000:\ttest: 0.4360800\tbest: 0.4360800 (1000)\ttotal: 45.6s\tremaining: 22.7s\n",
            "1100:\ttest: 0.4389396\tbest: 0.4390698 (1099)\ttotal: 50.1s\tremaining: 18.2s\n",
            "1200:\ttest: 0.4415964\tbest: 0.4416762 (1196)\ttotal: 55.3s\tremaining: 13.8s\n",
            "1300:\ttest: 0.4442088\tbest: 0.4443635 (1290)\ttotal: 59.4s\tremaining: 9.08s\n",
            "1400:\ttest: 0.4472792\tbest: 0.4472792 (1400)\ttotal: 1m 3s\tremaining: 4.49s\n",
            "1499:\ttest: 0.4495049\tbest: 0.4496438 (1494)\ttotal: 1m 8s\tremaining: 0us\n",
            "bestTest = 0.4496438254\n",
            "bestIteration = 1494\n",
            "Shrink model to first 1495 iterations.\n"
          ]
        },
        {
          "metadata": {
            "tags": null
          },
          "name": "stderr",
          "output_type": "stream",
          "text": [
            "Default metric period is 5 because NDCG is/are not implemented for GPU\n",
            "Metric NDCG:type=Base is not implemented on GPU. Will use CPU for metric computation, this could significantly affect learning time\n",
            "Metric NDCG:top=10;type=Exp is not implemented on GPU. Will use CPU for metric computation, this could significantly affect learning time\n"
          ]
        },
        {
          "metadata": {
            "tags": null
          },
          "name": "stdout",
          "output_type": "stream",
          "text": [
            "0:\ttest: 0.2424583\tbest: 0.2424583 (0)\ttotal: 92.2ms\tremaining: 2m 18s\n",
            "100:\ttest: 0.3964194\tbest: 0.3965622 (95)\ttotal: 5.28s\tremaining: 1m 13s\n",
            "200:\ttest: 0.4058817\tbest: 0.4061428 (195)\ttotal: 9.44s\tremaining: 1m 1s\n",
            "300:\ttest: 0.4119463\tbest: 0.4119463 (300)\ttotal: 13.6s\tremaining: 54.1s\n",
            "400:\ttest: 0.4149509\tbest: 0.4151019 (399)\ttotal: 18.7s\tremaining: 51.1s\n",
            "500:\ttest: 0.4188103\tbest: 0.4188103 (500)\ttotal: 22.9s\tremaining: 45.6s\n",
            "600:\ttest: 0.4215338\tbest: 0.4215338 (600)\ttotal: 27.3s\tremaining: 40.9s\n",
            "700:\ttest: 0.4257578\tbest: 0.4257578 (700)\ttotal: 32.1s\tremaining: 36.6s\n",
            "800:\ttest: 0.4288697\tbest: 0.4288697 (800)\ttotal: 36.3s\tremaining: 31.6s\n",
            "900:\ttest: 0.4327742\tbest: 0.4327742 (900)\ttotal: 41.4s\tremaining: 27.5s\n",
            "1000:\ttest: 0.4357212\tbest: 0.4357591 (998)\ttotal: 45.5s\tremaining: 22.7s\n",
            "1100:\ttest: 0.4386349\tbest: 0.4386895 (1099)\ttotal: 49.6s\tremaining: 18s\n",
            "1200:\ttest: 0.4412130\tbest: 0.4412130 (1200)\ttotal: 54.8s\tremaining: 13.6s\n",
            "1300:\ttest: 0.4434834\tbest: 0.4434834 (1300)\ttotal: 59s\tremaining: 9.02s\n",
            "1400:\ttest: 0.4458594\tbest: 0.4458923 (1399)\ttotal: 1m 3s\tremaining: 4.46s\n",
            "1499:\ttest: 0.4490247\tbest: 0.4491603 (1493)\ttotal: 1m 8s\tremaining: 0us\n",
            "bestTest = 0.4491603461\n",
            "bestIteration = 1493\n",
            "Shrink model to first 1494 iterations.\n"
          ]
        },
        {
          "metadata": {
            "tags": null
          },
          "name": "stderr",
          "output_type": "stream",
          "text": [
            "Default metric period is 5 because NDCG is/are not implemented for GPU\n",
            "Metric NDCG:type=Base is not implemented on GPU. Will use CPU for metric computation, this could significantly affect learning time\n",
            "Metric NDCG:top=10;type=Exp is not implemented on GPU. Will use CPU for metric computation, this could significantly affect learning time\n"
          ]
        },
        {
          "metadata": {
            "tags": null
          },
          "name": "stdout",
          "output_type": "stream",
          "text": [
            "0:\ttest: 0.2424627\tbest: 0.2424627 (0)\ttotal: 91.3ms\tremaining: 2m 16s\n",
            "100:\ttest: 0.3927956\tbest: 0.3927956 (100)\ttotal: 5.68s\tremaining: 1m 18s\n",
            "200:\ttest: 0.4060114\tbest: 0.4061463 (199)\ttotal: 9.9s\tremaining: 1m 3s\n",
            "300:\ttest: 0.4123980\tbest: 0.4124232 (297)\ttotal: 14.1s\tremaining: 56s\n",
            "400:\ttest: 0.4152340\tbest: 0.4154412 (397)\ttotal: 19.2s\tremaining: 52.5s\n",
            "500:\ttest: 0.4175710\tbest: 0.4176134 (497)\ttotal: 23.4s\tremaining: 46.6s\n",
            "600:\ttest: 0.4206383\tbest: 0.4206383 (600)\ttotal: 27.7s\tremaining: 41.4s\n",
            "700:\ttest: 0.4249157\tbest: 0.4250137 (698)\ttotal: 32.7s\tremaining: 37.2s\n",
            "800:\ttest: 0.4279027\tbest: 0.4279027 (800)\ttotal: 36.8s\tremaining: 32.1s\n",
            "900:\ttest: 0.4324651\tbest: 0.4324651 (900)\ttotal: 41.9s\tremaining: 27.8s\n",
            "1000:\ttest: 0.4353811\tbest: 0.4355218 (998)\ttotal: 46.2s\tremaining: 23s\n",
            "1100:\ttest: 0.4386837\tbest: 0.4386837 (1100)\ttotal: 50.3s\tremaining: 18.2s\n",
            "1200:\ttest: 0.4406639\tbest: 0.4407088 (1199)\ttotal: 55.4s\tremaining: 13.8s\n",
            "1300:\ttest: 0.4438356\tbest: 0.4438356 (1300)\ttotal: 59.5s\tremaining: 9.1s\n",
            "1400:\ttest: 0.4456400\tbest: 0.4458216 (1387)\ttotal: 1m 3s\tremaining: 4.5s\n",
            "1499:\ttest: 0.4485229\tbest: 0.4485229 (1499)\ttotal: 1m 8s\tremaining: 0us\n",
            "bestTest = 0.4485228953\n",
            "bestIteration = 1499\n"
          ]
        },
        {
          "metadata": {
            "tags": null
          },
          "name": "stderr",
          "output_type": "stream",
          "text": [
            "Default metric period is 5 because NDCG is/are not implemented for GPU\n",
            "Metric NDCG:type=Base is not implemented on GPU. Will use CPU for metric computation, this could significantly affect learning time\n",
            "Metric NDCG:top=10;type=Exp is not implemented on GPU. Will use CPU for metric computation, this could significantly affect learning time\n"
          ]
        },
        {
          "metadata": {
            "tags": null
          },
          "name": "stdout",
          "output_type": "stream",
          "text": [
            "0:\ttest: 0.2424627\tbest: 0.2424627 (0)\ttotal: 95.9ms\tremaining: 2m 23s\n",
            "100:\ttest: 0.3963327\tbest: 0.3965479 (99)\ttotal: 5.3s\tremaining: 1m 13s\n",
            "200:\ttest: 0.4067957\tbest: 0.4069717 (197)\ttotal: 9.49s\tremaining: 1m 1s\n",
            "300:\ttest: 0.4106135\tbest: 0.4108004 (298)\ttotal: 13.6s\tremaining: 54.4s\n",
            "400:\ttest: 0.4141178\tbest: 0.4142429 (393)\ttotal: 18.8s\tremaining: 51.4s\n",
            "500:\ttest: 0.4171665\tbest: 0.4171665 (500)\ttotal: 22.9s\tremaining: 45.7s\n",
            "600:\ttest: 0.4204561\tbest: 0.4204901 (599)\ttotal: 27.1s\tremaining: 40.6s\n",
            "700:\ttest: 0.4239220\tbest: 0.4239272 (697)\ttotal: 32.5s\tremaining: 37s\n",
            "800:\ttest: 0.4273925\tbest: 0.4273950 (799)\ttotal: 36.6s\tremaining: 31.9s\n",
            "900:\ttest: 0.4311713\tbest: 0.4311713 (900)\ttotal: 41s\tremaining: 27.3s\n",
            "1000:\ttest: 0.4349411\tbest: 0.4350370 (998)\ttotal: 45.8s\tremaining: 22.8s\n",
            "1100:\ttest: 0.4381153\tbest: 0.4381522 (1099)\ttotal: 50s\tremaining: 18.1s\n",
            "1200:\ttest: 0.4402239\tbest: 0.4402239 (1200)\ttotal: 55s\tremaining: 13.7s\n",
            "1300:\ttest: 0.4426621\tbest: 0.4426736 (1299)\ttotal: 59.3s\tremaining: 9.06s\n",
            "1400:\ttest: 0.4449479\tbest: 0.4450369 (1386)\ttotal: 1m 3s\tremaining: 4.48s\n",
            "1499:\ttest: 0.4481958\tbest: 0.4483049 (1494)\ttotal: 1m 8s\tremaining: 0us\n",
            "bestTest = 0.4483048622\n",
            "bestIteration = 1494\n",
            "Shrink model to first 1495 iterations.\n"
          ]
        },
        {
          "metadata": {
            "tags": null
          },
          "name": "stderr",
          "output_type": "stream",
          "text": [
            "Default metric period is 5 because NDCG is/are not implemented for GPU\n",
            "Metric NDCG:type=Base is not implemented on GPU. Will use CPU for metric computation, this could significantly affect learning time\n",
            "Metric NDCG:top=10;type=Exp is not implemented on GPU. Will use CPU for metric computation, this could significantly affect learning time\n"
          ]
        },
        {
          "metadata": {
            "tags": null
          },
          "name": "stdout",
          "output_type": "stream",
          "text": [
            "0:\ttest: 0.3183135\tbest: 0.3183135 (0)\ttotal: 102ms\tremaining: 2m 32s\n",
            "100:\ttest: 0.4090480\tbest: 0.4095950 (79)\ttotal: 5.45s\tremaining: 1m 15s\n",
            "200:\ttest: 0.4169192\tbest: 0.4169192 (200)\ttotal: 10.4s\tremaining: 1m 6s\n",
            "300:\ttest: 0.4221564\tbest: 0.4221752 (298)\ttotal: 15s\tremaining: 59.6s\n",
            "400:\ttest: 0.4274412\tbest: 0.4275388 (398)\ttotal: 20.6s\tremaining: 56.4s\n",
            "500:\ttest: 0.4323680\tbest: 0.4323680 (500)\ttotal: 25.3s\tremaining: 50.4s\n",
            "600:\ttest: 0.4376162\tbest: 0.4376162 (600)\ttotal: 30.9s\tremaining: 46.2s\n",
            "700:\ttest: 0.4421687\tbest: 0.4421687 (700)\ttotal: 35.5s\tremaining: 40.5s\n",
            "800:\ttest: 0.4466824\tbest: 0.4467075 (799)\ttotal: 40.2s\tremaining: 35.1s\n",
            "900:\ttest: 0.4490992\tbest: 0.4492300 (888)\ttotal: 45.8s\tremaining: 30.5s\n",
            "1000:\ttest: 0.4516238\tbest: 0.4516238 (1000)\ttotal: 50.5s\tremaining: 25.2s\n",
            "1100:\ttest: 0.4536557\tbest: 0.4536557 (1100)\ttotal: 56.2s\tremaining: 20.4s\n",
            "1200:\ttest: 0.4559887\tbest: 0.4560005 (1198)\ttotal: 1m\tremaining: 15.1s\n",
            "1300:\ttest: 0.4575160\tbest: 0.4575826 (1298)\ttotal: 1m 5s\tremaining: 10s\n",
            "1400:\ttest: 0.4594515\tbest: 0.4594613 (1397)\ttotal: 1m 10s\tremaining: 5.01s\n",
            "1499:\ttest: 0.4609750\tbest: 0.4609878 (1498)\ttotal: 1m 15s\tremaining: 0us\n",
            "bestTest = 0.4609878262\n",
            "bestIteration = 1498\n",
            "Shrink model to first 1499 iterations.\n"
          ]
        },
        {
          "metadata": {
            "tags": null
          },
          "name": "stderr",
          "output_type": "stream",
          "text": [
            "Default metric period is 5 because NDCG is/are not implemented for GPU\n",
            "Metric NDCG:type=Base is not implemented on GPU. Will use CPU for metric computation, this could significantly affect learning time\n",
            "Metric NDCG:top=10;type=Exp is not implemented on GPU. Will use CPU for metric computation, this could significantly affect learning time\n"
          ]
        },
        {
          "metadata": {
            "tags": null
          },
          "name": "stdout",
          "output_type": "stream",
          "text": [
            "0:\ttest: 0.3177237\tbest: 0.3177237 (0)\ttotal: 101ms\tremaining: 2m 31s\n",
            "100:\ttest: 0.4081825\tbest: 0.4093574 (78)\ttotal: 4.83s\tremaining: 1m 6s\n",
            "200:\ttest: 0.4154356\tbest: 0.4154356 (200)\ttotal: 10.1s\tremaining: 1m 5s\n",
            "300:\ttest: 0.4208319\tbest: 0.4208319 (300)\ttotal: 15.1s\tremaining: 1m\n",
            "400:\ttest: 0.4256821\tbest: 0.4256821 (400)\ttotal: 19.7s\tremaining: 54.1s\n",
            "500:\ttest: 0.4311273\tbest: 0.4311273 (500)\ttotal: 25.4s\tremaining: 50.6s\n",
            "600:\ttest: 0.4362017\tbest: 0.4362998 (599)\ttotal: 30.1s\tremaining: 45s\n",
            "700:\ttest: 0.4409557\tbest: 0.4409557 (700)\ttotal: 35.7s\tremaining: 40.6s\n",
            "800:\ttest: 0.4450617\tbest: 0.4451170 (797)\ttotal: 40.3s\tremaining: 35.2s\n",
            "900:\ttest: 0.4482146\tbest: 0.4482898 (897)\ttotal: 44.9s\tremaining: 29.9s\n",
            "1000:\ttest: 0.4501895\tbest: 0.4503104 (997)\ttotal: 50.5s\tremaining: 25.2s\n",
            "1100:\ttest: 0.4531465\tbest: 0.4531465 (1100)\ttotal: 55.1s\tremaining: 20s\n",
            "1200:\ttest: 0.4547924\tbest: 0.4549475 (1197)\ttotal: 1m\tremaining: 15.1s\n",
            "1300:\ttest: 0.4563824\tbest: 0.4564536 (1299)\ttotal: 1m 5s\tremaining: 9.99s\n",
            "1400:\ttest: 0.4581373\tbest: 0.4581373 (1400)\ttotal: 1m 9s\tremaining: 4.94s\n",
            "1499:\ttest: 0.4602276\tbest: 0.4602276 (1499)\ttotal: 1m 15s\tremaining: 0us\n",
            "bestTest = 0.4602275789\n",
            "bestIteration = 1499\n"
          ]
        },
        {
          "metadata": {
            "tags": null
          },
          "name": "stderr",
          "output_type": "stream",
          "text": [
            "Default metric period is 5 because NDCG is/are not implemented for GPU\n",
            "Metric NDCG:type=Base is not implemented on GPU. Will use CPU for metric computation, this could significantly affect learning time\n",
            "Metric NDCG:top=10;type=Exp is not implemented on GPU. Will use CPU for metric computation, this could significantly affect learning time\n"
          ]
        },
        {
          "metadata": {
            "tags": null
          },
          "name": "stdout",
          "output_type": "stream",
          "text": [
            "0:\ttest: 0.3174518\tbest: 0.3174518 (0)\ttotal: 101ms\tremaining: 2m 30s\n",
            "100:\ttest: 0.4074883\tbest: 0.4083265 (83)\ttotal: 5.83s\tremaining: 1m 20s\n",
            "200:\ttest: 0.4140524\tbest: 0.4140524 (200)\ttotal: 10.5s\tremaining: 1m 7s\n",
            "300:\ttest: 0.4196192\tbest: 0.4196273 (298)\ttotal: 15.9s\tremaining: 1m 3s\n",
            "400:\ttest: 0.4240957\tbest: 0.4241125 (398)\ttotal: 20.7s\tremaining: 56.8s\n",
            "500:\ttest: 0.4301857\tbest: 0.4301857 (500)\ttotal: 25.4s\tremaining: 50.6s\n",
            "600:\ttest: 0.4350422\tbest: 0.4350422 (600)\ttotal: 31.1s\tremaining: 46.5s\n",
            "700:\ttest: 0.4399099\tbest: 0.4399099 (700)\ttotal: 35.8s\tremaining: 40.8s\n",
            "800:\ttest: 0.4444900\tbest: 0.4444900 (800)\ttotal: 41.5s\tremaining: 36.2s\n",
            "900:\ttest: 0.4471913\tbest: 0.4472265 (899)\ttotal: 46.1s\tremaining: 30.7s\n",
            "1000:\ttest: 0.4498521\tbest: 0.4498521 (1000)\ttotal: 50.7s\tremaining: 25.3s\n",
            "1100:\ttest: 0.4524741\tbest: 0.4525172 (1095)\ttotal: 56.4s\tremaining: 20.4s\n",
            "1200:\ttest: 0.4547262\tbest: 0.4547262 (1200)\ttotal: 1m\tremaining: 15.2s\n",
            "1300:\ttest: 0.4557693\tbest: 0.4558076 (1296)\ttotal: 1m 6s\tremaining: 10.2s\n",
            "1400:\ttest: 0.4576395\tbest: 0.4576697 (1398)\ttotal: 1m 11s\tremaining: 5.03s\n",
            "1499:\ttest: 0.4594830\tbest: 0.4595384 (1497)\ttotal: 1m 15s\tremaining: 0us\n",
            "bestTest = 0.4595384297\n",
            "bestIteration = 1497\n",
            "Shrink model to first 1498 iterations.\n"
          ]
        },
        {
          "metadata": {
            "tags": null
          },
          "name": "stderr",
          "output_type": "stream",
          "text": [
            "Default metric period is 5 because NDCG is/are not implemented for GPU\n",
            "Metric NDCG:type=Base is not implemented on GPU. Will use CPU for metric computation, this could significantly affect learning time\n",
            "Metric NDCG:top=10;type=Exp is not implemented on GPU. Will use CPU for metric computation, this could significantly affect learning time\n"
          ]
        },
        {
          "metadata": {
            "tags": null
          },
          "name": "stdout",
          "output_type": "stream",
          "text": [
            "0:\ttest: 0.3167188\tbest: 0.3167188 (0)\ttotal: 106ms\tremaining: 2m 38s\n",
            "100:\ttest: 0.4065985\tbest: 0.4078246 (79)\ttotal: 4.79s\tremaining: 1m 6s\n",
            "200:\ttest: 0.4136547\tbest: 0.4136600 (198)\ttotal: 10.3s\tremaining: 1m 6s\n",
            "300:\ttest: 0.4190728\tbest: 0.4191403 (296)\ttotal: 15s\tremaining: 59.6s\n",
            "400:\ttest: 0.4226502\tbest: 0.4226502 (400)\ttotal: 20.2s\tremaining: 55.3s\n",
            "500:\ttest: 0.4283575\tbest: 0.4285087 (489)\ttotal: 25.2s\tremaining: 50.3s\n",
            "600:\ttest: 0.4343161\tbest: 0.4343161 (600)\ttotal: 29.9s\tremaining: 44.7s\n",
            "700:\ttest: 0.4392634\tbest: 0.4393067 (696)\ttotal: 35.6s\tremaining: 40.6s\n",
            "800:\ttest: 0.4434657\tbest: 0.4434657 (800)\ttotal: 40.3s\tremaining: 35.1s\n",
            "900:\ttest: 0.4462973\tbest: 0.4462973 (900)\ttotal: 46s\tremaining: 30.6s\n",
            "1000:\ttest: 0.4490310\tbest: 0.4490310 (1000)\ttotal: 50.6s\tremaining: 25.2s\n",
            "1100:\ttest: 0.4513878\tbest: 0.4514563 (1099)\ttotal: 55.2s\tremaining: 20s\n",
            "1200:\ttest: 0.4537637\tbest: 0.4537637 (1200)\ttotal: 1m\tremaining: 15.2s\n",
            "1300:\ttest: 0.4554843\tbest: 0.4554843 (1300)\ttotal: 1m 5s\tremaining: 10s\n",
            "1400:\ttest: 0.4567593\tbest: 0.4567770 (1395)\ttotal: 1m 10s\tremaining: 5.01s\n",
            "1499:\ttest: 0.4585179\tbest: 0.4585179 (1499)\ttotal: 1m 15s\tremaining: 0us\n",
            "bestTest = 0.4585179309\n",
            "bestIteration = 1499\n"
          ]
        },
        {
          "metadata": {
            "tags": null
          },
          "name": "stderr",
          "output_type": "stream",
          "text": [
            "Default metric period is 5 because NDCG is/are not implemented for GPU\n",
            "Metric NDCG:type=Base is not implemented on GPU. Will use CPU for metric computation, this could significantly affect learning time\n",
            "Metric NDCG:top=10;type=Exp is not implemented on GPU. Will use CPU for metric computation, this could significantly affect learning time\n"
          ]
        },
        {
          "metadata": {
            "tags": null
          },
          "name": "stdout",
          "output_type": "stream",
          "text": [
            "0:\ttest: 0.3151338\tbest: 0.3151338 (0)\ttotal: 115ms\tremaining: 2m 51s\n",
            "100:\ttest: 0.4073213\tbest: 0.4090844 (28)\ttotal: 5.81s\tremaining: 1m 20s\n",
            "200:\ttest: 0.4135425\tbest: 0.4135425 (200)\ttotal: 10.4s\tremaining: 1m 7s\n",
            "300:\ttest: 0.4180253\tbest: 0.4180647 (298)\ttotal: 16.1s\tremaining: 1m 3s\n",
            "400:\ttest: 0.4220258\tbest: 0.4220258 (400)\ttotal: 20.7s\tremaining: 56.8s\n",
            "500:\ttest: 0.4273996\tbest: 0.4273996 (500)\ttotal: 25.9s\tremaining: 51.6s\n",
            "600:\ttest: 0.4326298\tbest: 0.4326298 (600)\ttotal: 31.2s\tremaining: 46.6s\n",
            "700:\ttest: 0.4372297\tbest: 0.4372297 (700)\ttotal: 35.9s\tremaining: 40.9s\n",
            "800:\ttest: 0.4411297\tbest: 0.4411297 (800)\ttotal: 41.5s\tremaining: 36.2s\n",
            "900:\ttest: 0.4440733\tbest: 0.4441354 (896)\ttotal: 46.2s\tremaining: 30.7s\n",
            "1000:\ttest: 0.4475262\tbest: 0.4475420 (998)\ttotal: 51.6s\tremaining: 25.7s\n",
            "1100:\ttest: 0.4503431\tbest: 0.4504057 (1099)\ttotal: 56.4s\tremaining: 20.5s\n",
            "1200:\ttest: 0.4521798\tbest: 0.4522479 (1194)\ttotal: 1m 1s\tremaining: 15.2s\n",
            "1300:\ttest: 0.4539873\tbest: 0.4541006 (1280)\ttotal: 1m 6s\tremaining: 10.2s\n",
            "1400:\ttest: 0.4560027\tbest: 0.4560027 (1400)\ttotal: 1m 11s\tremaining: 5.03s\n",
            "1499:\ttest: 0.4576950\tbest: 0.4577188 (1498)\ttotal: 1m 16s\tremaining: 0us\n",
            "bestTest = 0.4577187688\n",
            "bestIteration = 1498\n",
            "Shrink model to first 1499 iterations.\n"
          ]
        },
        {
          "metadata": {
            "tags": null
          },
          "name": "stderr",
          "output_type": "stream",
          "text": [
            "Default metric period is 5 because NDCG is/are not implemented for GPU\n",
            "Metric NDCG:type=Base is not implemented on GPU. Will use CPU for metric computation, this could significantly affect learning time\n",
            "Metric NDCG:top=10;type=Exp is not implemented on GPU. Will use CPU for metric computation, this could significantly affect learning time\n"
          ]
        },
        {
          "metadata": {
            "tags": null
          },
          "name": "stdout",
          "output_type": "stream",
          "text": [
            "0:\ttest: 0.3279862\tbest: 0.3279862 (0)\ttotal: 117ms\tremaining: 2m 55s\n",
            "100:\ttest: 0.4222763\tbest: 0.4228026 (99)\ttotal: 6.56s\tremaining: 1m 30s\n",
            "200:\ttest: 0.4290869\tbest: 0.4290869 (200)\ttotal: 12.2s\tremaining: 1m 18s\n",
            "300:\ttest: 0.4358093\tbest: 0.4358093 (300)\ttotal: 18.4s\tremaining: 1m 13s\n",
            "400:\ttest: 0.4401572\tbest: 0.4404483 (399)\ttotal: 24.2s\tremaining: 1m 6s\n",
            "500:\ttest: 0.4446870\tbest: 0.4446870 (500)\ttotal: 30.4s\tremaining: 1m\n",
            "600:\ttest: 0.4480190\tbest: 0.4480746 (599)\ttotal: 36.5s\tremaining: 54.6s\n",
            "700:\ttest: 0.4523511\tbest: 0.4523511 (700)\ttotal: 42.5s\tremaining: 48.5s\n",
            "800:\ttest: 0.4553017\tbest: 0.4553162 (798)\ttotal: 48.6s\tremaining: 42.4s\n",
            "900:\ttest: 0.4578658\tbest: 0.4578737 (899)\ttotal: 54.4s\tremaining: 36.2s\n",
            "1000:\ttest: 0.4603427\tbest: 0.4604145 (997)\ttotal: 1m\tremaining: 30.3s\n",
            "1100:\ttest: 0.4631038\tbest: 0.4632130 (1097)\ttotal: 1m 6s\tremaining: 24s\n",
            "1200:\ttest: 0.4647717\tbest: 0.4647717 (1200)\ttotal: 1m 12s\tremaining: 18.1s\n",
            "1300:\ttest: 0.4664550\tbest: 0.4665129 (1299)\ttotal: 1m 18s\tremaining: 12s\n",
            "1400:\ttest: 0.4678973\tbest: 0.4679428 (1399)\ttotal: 1m 24s\tremaining: 5.98s\n",
            "1499:\ttest: 0.4697104\tbest: 0.4697104 (1499)\ttotal: 1m 30s\tremaining: 0us\n",
            "bestTest = 0.4697104304\n",
            "bestIteration = 1499\n"
          ]
        },
        {
          "metadata": {
            "tags": null
          },
          "name": "stderr",
          "output_type": "stream",
          "text": [
            "Default metric period is 5 because NDCG is/are not implemented for GPU\n",
            "Metric NDCG:type=Base is not implemented on GPU. Will use CPU for metric computation, this could significantly affect learning time\n",
            "Metric NDCG:top=10;type=Exp is not implemented on GPU. Will use CPU for metric computation, this could significantly affect learning time\n"
          ]
        },
        {
          "metadata": {
            "tags": null
          },
          "name": "stdout",
          "output_type": "stream",
          "text": [
            "0:\ttest: 0.3260811\tbest: 0.3260811 (0)\ttotal: 118ms\tremaining: 2m 56s\n",
            "100:\ttest: 0.4194883\tbest: 0.4195482 (99)\ttotal: 5.68s\tremaining: 1m 18s\n",
            "200:\ttest: 0.4263314\tbest: 0.4263314 (200)\ttotal: 12.2s\tremaining: 1m 18s\n",
            "300:\ttest: 0.4309343\tbest: 0.4309343 (300)\ttotal: 17.7s\tremaining: 1m 10s\n",
            "400:\ttest: 0.4370552\tbest: 0.4370552 (400)\ttotal: 24.3s\tremaining: 1m 6s\n",
            "500:\ttest: 0.4414544\tbest: 0.4416936 (489)\ttotal: 29.9s\tremaining: 59.7s\n",
            "600:\ttest: 0.4456053\tbest: 0.4456366 (599)\ttotal: 36.4s\tremaining: 54.5s\n",
            "700:\ttest: 0.4497573\tbest: 0.4498323 (697)\ttotal: 42s\tremaining: 47.9s\n",
            "800:\ttest: 0.4531916\tbest: 0.4531916 (800)\ttotal: 48.5s\tremaining: 42.4s\n",
            "900:\ttest: 0.4557725\tbest: 0.4558636 (897)\ttotal: 54.1s\tremaining: 35.9s\n",
            "1000:\ttest: 0.4581239\tbest: 0.4581239 (1000)\ttotal: 1m\tremaining: 30.2s\n",
            "1100:\ttest: 0.4606281\tbest: 0.4606281 (1100)\ttotal: 1m 6s\tremaining: 24s\n",
            "1200:\ttest: 0.4634129\tbest: 0.4635715 (1197)\ttotal: 1m 12s\tremaining: 18.1s\n",
            "1300:\ttest: 0.4653381\tbest: 0.4653381 (1300)\ttotal: 1m 18s\tremaining: 11.9s\n",
            "1400:\ttest: 0.4668123\tbest: 0.4669317 (1398)\ttotal: 1m 24s\tremaining: 5.97s\n",
            "1499:\ttest: 0.4680983\tbest: 0.4682656 (1495)\ttotal: 1m 29s\tremaining: 0us\n",
            "bestTest = 0.4682655801\n",
            "bestIteration = 1495\n",
            "Shrink model to first 1496 iterations.\n"
          ]
        },
        {
          "metadata": {
            "tags": null
          },
          "name": "stderr",
          "output_type": "stream",
          "text": [
            "Default metric period is 5 because NDCG is/are not implemented for GPU\n",
            "Metric NDCG:type=Base is not implemented on GPU. Will use CPU for metric computation, this could significantly affect learning time\n",
            "Metric NDCG:top=10;type=Exp is not implemented on GPU. Will use CPU for metric computation, this could significantly affect learning time\n"
          ]
        },
        {
          "metadata": {
            "tags": null
          },
          "name": "stdout",
          "output_type": "stream",
          "text": [
            "0:\ttest: 0.3238453\tbest: 0.3238453 (0)\ttotal: 117ms\tremaining: 2m 55s\n",
            "100:\ttest: 0.4191499\tbest: 0.4191499 (100)\ttotal: 5.67s\tremaining: 1m 18s\n",
            "200:\ttest: 0.4243884\tbest: 0.4244577 (198)\ttotal: 12.2s\tremaining: 1m 18s\n",
            "300:\ttest: 0.4293830\tbest: 0.4297770 (296)\ttotal: 17.7s\tremaining: 1m 10s\n",
            "400:\ttest: 0.4350133\tbest: 0.4350133 (400)\ttotal: 24.3s\tremaining: 1m 6s\n",
            "500:\ttest: 0.4389779\tbest: 0.4389779 (500)\ttotal: 29.9s\tremaining: 59.6s\n",
            "600:\ttest: 0.4426250\tbest: 0.4426250 (600)\ttotal: 36.5s\tremaining: 54.6s\n",
            "700:\ttest: 0.4469397\tbest: 0.4469397 (700)\ttotal: 42s\tremaining: 47.9s\n",
            "800:\ttest: 0.4502856\tbest: 0.4503288 (792)\ttotal: 48.6s\tremaining: 42.4s\n",
            "900:\ttest: 0.4533952\tbest: 0.4534057 (897)\ttotal: 54.2s\tremaining: 36s\n",
            "1000:\ttest: 0.4565593\tbest: 0.4565593 (1000)\ttotal: 1m\tremaining: 30.2s\n",
            "1100:\ttest: 0.4593533\tbest: 0.4593533 (1100)\ttotal: 1m 6s\tremaining: 24s\n",
            "1200:\ttest: 0.4616166\tbest: 0.4616889 (1198)\ttotal: 1m 12s\tremaining: 18.1s\n",
            "1300:\ttest: 0.4628917\tbest: 0.4628917 (1300)\ttotal: 1m 18s\tremaining: 11.9s\n",
            "1400:\ttest: 0.4651579\tbest: 0.4651579 (1400)\ttotal: 1m 24s\tremaining: 5.98s\n",
            "1499:\ttest: 0.4662476\tbest: 0.4662476 (1499)\ttotal: 1m 30s\tremaining: 0us\n",
            "bestTest = 0.4662476247\n",
            "bestIteration = 1499\n"
          ]
        },
        {
          "metadata": {
            "tags": null
          },
          "name": "stderr",
          "output_type": "stream",
          "text": [
            "Default metric period is 5 because NDCG is/are not implemented for GPU\n",
            "Metric NDCG:type=Base is not implemented on GPU. Will use CPU for metric computation, this could significantly affect learning time\n",
            "Metric NDCG:top=10;type=Exp is not implemented on GPU. Will use CPU for metric computation, this could significantly affect learning time\n"
          ]
        },
        {
          "metadata": {
            "tags": null
          },
          "name": "stdout",
          "output_type": "stream",
          "text": [
            "0:\ttest: 0.3307149\tbest: 0.3307149 (0)\ttotal: 116ms\tremaining: 2m 53s\n",
            "100:\ttest: 0.4161853\tbest: 0.4164744 (99)\ttotal: 5.74s\tremaining: 1m 19s\n",
            "200:\ttest: 0.4219346\tbest: 0.4221135 (194)\ttotal: 12.2s\tremaining: 1m 19s\n",
            "300:\ttest: 0.4280448\tbest: 0.4280448 (300)\ttotal: 17.9s\tremaining: 1m 11s\n",
            "400:\ttest: 0.4332209\tbest: 0.4332633 (399)\ttotal: 24.3s\tremaining: 1m 6s\n",
            "500:\ttest: 0.4374992\tbest: 0.4374992 (500)\ttotal: 30s\tremaining: 59.8s\n",
            "600:\ttest: 0.4408668\tbest: 0.4408668 (600)\ttotal: 36.3s\tremaining: 54.2s\n",
            "700:\ttest: 0.4450335\tbest: 0.4451032 (699)\ttotal: 42.1s\tremaining: 48s\n",
            "800:\ttest: 0.4494537\tbest: 0.4495716 (799)\ttotal: 48.3s\tremaining: 42.1s\n",
            "900:\ttest: 0.4522033\tbest: 0.4522033 (900)\ttotal: 54.2s\tremaining: 36.1s\n",
            "1000:\ttest: 0.4545966\tbest: 0.4546793 (999)\ttotal: 1m\tremaining: 29.9s\n",
            "1100:\ttest: 0.4573086\tbest: 0.4574023 (1099)\ttotal: 1m 6s\tremaining: 24s\n",
            "1200:\ttest: 0.4594000\tbest: 0.4595100 (1196)\ttotal: 1m 11s\tremaining: 17.9s\n",
            "1300:\ttest: 0.4614164\tbest: 0.4616285 (1299)\ttotal: 1m 18s\tremaining: 12s\n",
            "1400:\ttest: 0.4638524\tbest: 0.4640019 (1399)\ttotal: 1m 23s\tremaining: 5.92s\n",
            "1499:\ttest: 0.4652931\tbest: 0.4655303 (1491)\ttotal: 1m 30s\tremaining: 0us\n",
            "bestTest = 0.4655303109\n",
            "bestIteration = 1491\n",
            "Shrink model to first 1492 iterations.\n"
          ]
        },
        {
          "metadata": {
            "tags": null
          },
          "name": "stderr",
          "output_type": "stream",
          "text": [
            "Default metric period is 5 because NDCG is/are not implemented for GPU\n",
            "Metric NDCG:type=Base is not implemented on GPU. Will use CPU for metric computation, this could significantly affect learning time\n",
            "Metric NDCG:top=10;type=Exp is not implemented on GPU. Will use CPU for metric computation, this could significantly affect learning time\n"
          ]
        },
        {
          "metadata": {
            "tags": null
          },
          "name": "stdout",
          "output_type": "stream",
          "text": [
            "0:\ttest: 0.3294239\tbest: 0.3294239 (0)\ttotal: 118ms\tremaining: 2m 57s\n",
            "100:\ttest: 0.4156046\tbest: 0.4156046 (100)\ttotal: 6.76s\tremaining: 1m 33s\n",
            "200:\ttest: 0.4200415\tbest: 0.4200415 (200)\ttotal: 12.3s\tremaining: 1m 19s\n",
            "300:\ttest: 0.4251581\tbest: 0.4251581 (300)\ttotal: 18.8s\tremaining: 1m 15s\n",
            "400:\ttest: 0.4307450\tbest: 0.4309270 (394)\ttotal: 24.4s\tremaining: 1m 6s\n",
            "500:\ttest: 0.4353924\tbest: 0.4353924 (500)\ttotal: 31s\tremaining: 1m 1s\n",
            "600:\ttest: 0.4391724\tbest: 0.4394773 (587)\ttotal: 36.5s\tremaining: 54.6s\n",
            "700:\ttest: 0.4433212\tbest: 0.4433212 (700)\ttotal: 43.1s\tremaining: 49.2s\n",
            "800:\ttest: 0.4464568\tbest: 0.4466451 (794)\ttotal: 48.7s\tremaining: 42.5s\n",
            "900:\ttest: 0.4497796\tbest: 0.4497796 (900)\ttotal: 55.2s\tremaining: 36.7s\n",
            "1000:\ttest: 0.4522456\tbest: 0.4522732 (998)\ttotal: 1m\tremaining: 30.3s\n",
            "1100:\ttest: 0.4546873\tbest: 0.4548129 (1098)\ttotal: 1m 7s\tremaining: 24.4s\n",
            "1200:\ttest: 0.4578670\tbest: 0.4578670 (1200)\ttotal: 1m 12s\tremaining: 18.1s\n",
            "1300:\ttest: 0.4594152\tbest: 0.4595043 (1296)\ttotal: 1m 19s\tremaining: 12.1s\n",
            "1400:\ttest: 0.4609589\tbest: 0.4611011 (1392)\ttotal: 1m 24s\tremaining: 5.99s\n",
            "1499:\ttest: 0.4630069\tbest: 0.4630069 (1499)\ttotal: 1m 31s\tremaining: 0us\n",
            "bestTest = 0.463006947\n",
            "bestIteration = 1499\n"
          ]
        },
        {
          "metadata": {
            "tags": null
          },
          "name": "stderr",
          "output_type": "stream",
          "text": [
            "Default metric period is 5 because NDCG is/are not implemented for GPU\n",
            "Metric NDCG:type=Base is not implemented on GPU. Will use CPU for metric computation, this could significantly affect learning time\n",
            "Metric NDCG:top=10;type=Exp is not implemented on GPU. Will use CPU for metric computation, this could significantly affect learning time\n"
          ]
        },
        {
          "metadata": {
            "tags": null
          },
          "name": "stdout",
          "output_type": "stream",
          "text": [
            "0:\ttest: 0.2341477\tbest: 0.2341477 (0)\ttotal: 96.7ms\tremaining: 2m 24s\n",
            "100:\ttest: 0.3484765\tbest: 0.3485400 (98)\ttotal: 4.87s\tremaining: 1m 7s\n",
            "200:\ttest: 0.3817507\tbest: 0.3818313 (199)\ttotal: 8.65s\tremaining: 55.9s\n",
            "300:\ttest: 0.3977899\tbest: 0.3977899 (300)\ttotal: 12.4s\tremaining: 49.4s\n",
            "400:\ttest: 0.4073193\tbest: 0.4073193 (400)\ttotal: 17.1s\tremaining: 46.8s\n",
            "500:\ttest: 0.4156643\tbest: 0.4156643 (500)\ttotal: 20.8s\tremaining: 41.6s\n",
            "600:\ttest: 0.4217707\tbest: 0.4217707 (600)\ttotal: 24.6s\tremaining: 36.9s\n",
            "700:\ttest: 0.4266702\tbest: 0.4268395 (699)\ttotal: 29.4s\tremaining: 33.5s\n",
            "800:\ttest: 0.4324873\tbest: 0.4324873 (800)\ttotal: 33.2s\tremaining: 29s\n",
            "900:\ttest: 0.4368632\tbest: 0.4368632 (900)\ttotal: 37s\tremaining: 24.6s\n",
            "1000:\ttest: 0.4408220\tbest: 0.4408220 (1000)\ttotal: 41.8s\tremaining: 20.8s\n",
            "1100:\ttest: 0.4436979\tbest: 0.4436979 (1100)\ttotal: 45.6s\tremaining: 16.5s\n",
            "1200:\ttest: 0.4464769\tbest: 0.4466588 (1196)\ttotal: 49.4s\tremaining: 12.3s\n",
            "1300:\ttest: 0.4486333\tbest: 0.4486987 (1299)\ttotal: 54.1s\tremaining: 8.27s\n",
            "1400:\ttest: 0.4501902\tbest: 0.4501902 (1400)\ttotal: 57.9s\tremaining: 4.09s\n",
            "1499:\ttest: 0.4512798\tbest: 0.4513738 (1489)\ttotal: 1m 1s\tremaining: 0us\n",
            "bestTest = 0.4513737786\n",
            "bestIteration = 1489\n",
            "Shrink model to first 1490 iterations.\n"
          ]
        },
        {
          "metadata": {
            "tags": null
          },
          "name": "stderr",
          "output_type": "stream",
          "text": [
            "Default metric period is 5 because NDCG is/are not implemented for GPU\n",
            "Metric NDCG:type=Base is not implemented on GPU. Will use CPU for metric computation, this could significantly affect learning time\n",
            "Metric NDCG:top=10;type=Exp is not implemented on GPU. Will use CPU for metric computation, this could significantly affect learning time\n"
          ]
        },
        {
          "metadata": {
            "tags": null
          },
          "name": "stdout",
          "output_type": "stream",
          "text": [
            "0:\ttest: 0.2341477\tbest: 0.2341477 (0)\ttotal: 92.9ms\tremaining: 2m 19s\n",
            "100:\ttest: 0.3474994\tbest: 0.3475425 (98)\ttotal: 3.96s\tremaining: 54.8s\n",
            "200:\ttest: 0.3820385\tbest: 0.3820385 (200)\ttotal: 7.7s\tremaining: 49.8s\n",
            "300:\ttest: 0.3968771\tbest: 0.3968771 (300)\ttotal: 12.4s\tremaining: 49.5s\n",
            "400:\ttest: 0.4072358\tbest: 0.4072358 (400)\ttotal: 16.2s\tremaining: 44.3s\n",
            "500:\ttest: 0.4155248\tbest: 0.4155248 (500)\ttotal: 19.9s\tremaining: 39.8s\n",
            "600:\ttest: 0.4212125\tbest: 0.4212593 (588)\ttotal: 24.6s\tremaining: 36.9s\n",
            "700:\ttest: 0.4271326\tbest: 0.4271806 (695)\ttotal: 28.5s\tremaining: 32.5s\n",
            "800:\ttest: 0.4326260\tbest: 0.4326438 (799)\ttotal: 32.3s\tremaining: 28.2s\n",
            "900:\ttest: 0.4365940\tbest: 0.4367723 (890)\ttotal: 37.1s\tremaining: 24.6s\n",
            "1000:\ttest: 0.4411172\tbest: 0.4413022 (999)\ttotal: 40.9s\tremaining: 20.4s\n",
            "1100:\ttest: 0.4439299\tbest: 0.4439554 (1099)\ttotal: 44.7s\tremaining: 16.2s\n",
            "1200:\ttest: 0.4463678\tbest: 0.4463678 (1200)\ttotal: 49.5s\tremaining: 12.3s\n",
            "1300:\ttest: 0.4487405\tbest: 0.4488877 (1299)\ttotal: 53.2s\tremaining: 8.14s\n",
            "1400:\ttest: 0.4499248\tbest: 0.4499253 (1399)\ttotal: 57.1s\tremaining: 4.04s\n",
            "1499:\ttest: 0.4518168\tbest: 0.4518168 (1499)\ttotal: 1m 1s\tremaining: 0us\n",
            "bestTest = 0.4518167506\n",
            "bestIteration = 1499\n"
          ]
        },
        {
          "metadata": {
            "tags": null
          },
          "name": "stderr",
          "output_type": "stream",
          "text": [
            "Default metric period is 5 because NDCG is/are not implemented for GPU\n",
            "Metric NDCG:type=Base is not implemented on GPU. Will use CPU for metric computation, this could significantly affect learning time\n",
            "Metric NDCG:top=10;type=Exp is not implemented on GPU. Will use CPU for metric computation, this could significantly affect learning time\n"
          ]
        },
        {
          "metadata": {
            "tags": null
          },
          "name": "stdout",
          "output_type": "stream",
          "text": [
            "0:\ttest: 0.2341477\tbest: 0.2341477 (0)\ttotal: 83.5ms\tremaining: 2m 5s\n",
            "100:\ttest: 0.3476131\tbest: 0.3476791 (98)\ttotal: 4.45s\tremaining: 1m 1s\n",
            "200:\ttest: 0.3788748\tbest: 0.3788924 (194)\ttotal: 8.53s\tremaining: 55.2s\n",
            "300:\ttest: 0.3978612\tbest: 0.3978612 (300)\ttotal: 12.3s\tremaining: 49s\n",
            "400:\ttest: 0.4070528\tbest: 0.4070630 (399)\ttotal: 16.5s\tremaining: 45.2s\n",
            "500:\ttest: 0.4154942\tbest: 0.4154942 (500)\ttotal: 20.8s\tremaining: 41.4s\n",
            "600:\ttest: 0.4212567\tbest: 0.4214615 (595)\ttotal: 24.6s\tremaining: 36.8s\n",
            "700:\ttest: 0.4270064\tbest: 0.4271923 (697)\ttotal: 28.9s\tremaining: 32.9s\n",
            "800:\ttest: 0.4321472\tbest: 0.4323264 (798)\ttotal: 33.2s\tremaining: 28.9s\n",
            "900:\ttest: 0.4367963\tbest: 0.4368530 (898)\ttotal: 37s\tremaining: 24.6s\n",
            "1000:\ttest: 0.4408052\tbest: 0.4408825 (988)\ttotal: 41.2s\tremaining: 20.5s\n",
            "1100:\ttest: 0.4435924\tbest: 0.4436873 (1088)\ttotal: 45.4s\tremaining: 16.5s\n",
            "1200:\ttest: 0.4462952\tbest: 0.4463290 (1199)\ttotal: 49.2s\tremaining: 12.3s\n",
            "1300:\ttest: 0.4483893\tbest: 0.4483893 (1300)\ttotal: 53.4s\tremaining: 8.17s\n",
            "1400:\ttest: 0.4495563\tbest: 0.4495563 (1400)\ttotal: 57.8s\tremaining: 4.08s\n",
            "1499:\ttest: 0.4510155\tbest: 0.4511612 (1498)\ttotal: 1m 1s\tremaining: 0us\n",
            "bestTest = 0.4511611944\n",
            "bestIteration = 1498\n",
            "Shrink model to first 1499 iterations.\n"
          ]
        },
        {
          "metadata": {
            "tags": null
          },
          "name": "stderr",
          "output_type": "stream",
          "text": [
            "Default metric period is 5 because NDCG is/are not implemented for GPU\n",
            "Metric NDCG:type=Base is not implemented on GPU. Will use CPU for metric computation, this could significantly affect learning time\n",
            "Metric NDCG:top=10;type=Exp is not implemented on GPU. Will use CPU for metric computation, this could significantly affect learning time\n"
          ]
        },
        {
          "metadata": {
            "tags": null
          },
          "name": "stdout",
          "output_type": "stream",
          "text": [
            "0:\ttest: 0.2341477\tbest: 0.2341477 (0)\ttotal: 83.1ms\tremaining: 2m 4s\n",
            "100:\ttest: 0.3482584\tbest: 0.3483511 (98)\ttotal: 3.97s\tremaining: 55s\n",
            "200:\ttest: 0.3810796\tbest: 0.3810796 (200)\ttotal: 7.79s\tremaining: 50.3s\n",
            "300:\ttest: 0.3976809\tbest: 0.3976809 (300)\ttotal: 12.5s\tremaining: 49.7s\n",
            "400:\ttest: 0.4080490\tbest: 0.4081858 (399)\ttotal: 16.3s\tremaining: 44.6s\n",
            "500:\ttest: 0.4152509\tbest: 0.4152509 (500)\ttotal: 20.1s\tremaining: 40s\n",
            "600:\ttest: 0.4214875\tbest: 0.4216431 (594)\ttotal: 24.7s\tremaining: 37s\n",
            "700:\ttest: 0.4269509\tbest: 0.4271165 (697)\ttotal: 28.5s\tremaining: 32.5s\n",
            "800:\ttest: 0.4323556\tbest: 0.4324036 (799)\ttotal: 32.3s\tremaining: 28.2s\n",
            "900:\ttest: 0.4363918\tbest: 0.4365846 (895)\ttotal: 37s\tremaining: 24.6s\n",
            "1000:\ttest: 0.4412161\tbest: 0.4412837 (997)\ttotal: 40.8s\tremaining: 20.4s\n",
            "1100:\ttest: 0.4441637\tbest: 0.4442354 (1099)\ttotal: 44.7s\tremaining: 16.2s\n",
            "1200:\ttest: 0.4465717\tbest: 0.4466003 (1198)\ttotal: 49.3s\tremaining: 12.3s\n",
            "1300:\ttest: 0.4483191\tbest: 0.4485131 (1289)\ttotal: 53.1s\tremaining: 8.12s\n",
            "1400:\ttest: 0.4497617\tbest: 0.4497617 (1400)\ttotal: 56.9s\tremaining: 4.02s\n",
            "1499:\ttest: 0.4512549\tbest: 0.4513071 (1493)\ttotal: 1m 1s\tremaining: 0us\n",
            "bestTest = 0.451307084\n",
            "bestIteration = 1493\n",
            "Shrink model to first 1494 iterations.\n"
          ]
        },
        {
          "metadata": {
            "tags": null
          },
          "name": "stderr",
          "output_type": "stream",
          "text": [
            "Default metric period is 5 because NDCG is/are not implemented for GPU\n",
            "Metric NDCG:type=Base is not implemented on GPU. Will use CPU for metric computation, this could significantly affect learning time\n",
            "Metric NDCG:top=10;type=Exp is not implemented on GPU. Will use CPU for metric computation, this could significantly affect learning time\n"
          ]
        },
        {
          "metadata": {
            "tags": null
          },
          "name": "stdout",
          "output_type": "stream",
          "text": [
            "0:\ttest: 0.2341477\tbest: 0.2341477 (0)\ttotal: 84.3ms\tremaining: 2m 6s\n",
            "100:\ttest: 0.3473123\tbest: 0.3473123 (100)\ttotal: 3.94s\tremaining: 54.5s\n",
            "200:\ttest: 0.3806863\tbest: 0.3806863 (200)\ttotal: 8.62s\tremaining: 55.7s\n",
            "300:\ttest: 0.3980240\tbest: 0.3980240 (300)\ttotal: 12.5s\tremaining: 49.6s\n",
            "400:\ttest: 0.4080294\tbest: 0.4080294 (400)\ttotal: 16.2s\tremaining: 44.4s\n",
            "500:\ttest: 0.4150932\tbest: 0.4150932 (500)\ttotal: 20.9s\tremaining: 41.7s\n",
            "600:\ttest: 0.4212271\tbest: 0.4215155 (591)\ttotal: 24.7s\tremaining: 36.9s\n",
            "700:\ttest: 0.4265181\tbest: 0.4267253 (697)\ttotal: 28.5s\tremaining: 32.4s\n",
            "800:\ttest: 0.4313090\tbest: 0.4313279 (799)\ttotal: 33.2s\tremaining: 29s\n",
            "900:\ttest: 0.4356959\tbest: 0.4360299 (894)\ttotal: 37s\tremaining: 24.6s\n",
            "1000:\ttest: 0.4406935\tbest: 0.4409000 (997)\ttotal: 40.9s\tremaining: 20.4s\n",
            "1100:\ttest: 0.4431003\tbest: 0.4431506 (1099)\ttotal: 45.6s\tremaining: 16.5s\n",
            "1200:\ttest: 0.4460415\tbest: 0.4460944 (1196)\ttotal: 49.4s\tremaining: 12.3s\n",
            "1300:\ttest: 0.4475256\tbest: 0.4476116 (1297)\ttotal: 53.2s\tremaining: 8.13s\n",
            "1400:\ttest: 0.4491797\tbest: 0.4492024 (1387)\ttotal: 57.9s\tremaining: 4.09s\n",
            "1499:\ttest: 0.4513132\tbest: 0.4513132 (1499)\ttotal: 1m 1s\tremaining: 0us\n",
            "bestTest = 0.4513131868\n",
            "bestIteration = 1499\n"
          ]
        },
        {
          "metadata": {
            "tags": null
          },
          "name": "stderr",
          "output_type": "stream",
          "text": [
            "Default metric period is 5 because NDCG is/are not implemented for GPU\n",
            "Metric NDCG:type=Base is not implemented on GPU. Will use CPU for metric computation, this could significantly affect learning time\n",
            "Metric NDCG:top=10;type=Exp is not implemented on GPU. Will use CPU for metric computation, this could significantly affect learning time\n"
          ]
        },
        {
          "metadata": {
            "tags": null
          },
          "name": "stdout",
          "output_type": "stream",
          "text": [
            "0:\ttest: 0.2424807\tbest: 0.2424807 (0)\ttotal: 94.6ms\tremaining: 2m 21s\n",
            "100:\ttest: 0.4046995\tbest: 0.4046995 (100)\ttotal: 5.38s\tremaining: 1m 14s\n",
            "200:\ttest: 0.4133943\tbest: 0.4133943 (200)\ttotal: 9.58s\tremaining: 1m 1s\n",
            "300:\ttest: 0.4224857\tbest: 0.4224857 (300)\ttotal: 14.5s\tremaining: 57.7s\n",
            "400:\ttest: 0.4281612\tbest: 0.4283131 (391)\ttotal: 18.9s\tremaining: 51.8s\n",
            "500:\ttest: 0.4354052\tbest: 0.4354052 (500)\ttotal: 23s\tremaining: 45.9s\n",
            "600:\ttest: 0.4413368\tbest: 0.4415453 (593)\ttotal: 28.2s\tremaining: 42.2s\n",
            "700:\ttest: 0.4465478\tbest: 0.4466073 (699)\ttotal: 32.4s\tremaining: 36.9s\n",
            "800:\ttest: 0.4511897\tbest: 0.4513092 (797)\ttotal: 36.6s\tremaining: 31.9s\n",
            "900:\ttest: 0.4544135\tbest: 0.4544353 (896)\ttotal: 41.8s\tremaining: 27.8s\n",
            "1000:\ttest: 0.4570887\tbest: 0.4571162 (997)\ttotal: 45.9s\tremaining: 22.9s\n",
            "1100:\ttest: 0.4592271\tbest: 0.4592271 (1100)\ttotal: 50.2s\tremaining: 18.2s\n",
            "1200:\ttest: 0.4611948\tbest: 0.4613053 (1199)\ttotal: 55.2s\tremaining: 13.7s\n",
            "1300:\ttest: 0.4626301\tbest: 0.4626558 (1297)\ttotal: 59.3s\tremaining: 9.07s\n",
            "1400:\ttest: 0.4642562\tbest: 0.4642924 (1399)\ttotal: 1m 4s\tremaining: 4.54s\n",
            "1499:\ttest: 0.4653350\tbest: 0.4653718 (1495)\ttotal: 1m 8s\tremaining: 0us\n",
            "bestTest = 0.4653717505\n",
            "bestIteration = 1495\n",
            "Shrink model to first 1496 iterations.\n"
          ]
        },
        {
          "metadata": {
            "tags": null
          },
          "name": "stderr",
          "output_type": "stream",
          "text": [
            "Default metric period is 5 because NDCG is/are not implemented for GPU\n",
            "Metric NDCG:type=Base is not implemented on GPU. Will use CPU for metric computation, this could significantly affect learning time\n",
            "Metric NDCG:top=10;type=Exp is not implemented on GPU. Will use CPU for metric computation, this could significantly affect learning time\n"
          ]
        },
        {
          "metadata": {
            "tags": null
          },
          "name": "stdout",
          "output_type": "stream",
          "text": [
            "0:\ttest: 0.2424571\tbest: 0.2424571 (0)\ttotal: 96.1ms\tremaining: 2m 24s\n",
            "100:\ttest: 0.4048691\tbest: 0.4048691 (100)\ttotal: 5.31s\tremaining: 1m 13s\n",
            "200:\ttest: 0.4118883\tbest: 0.4122066 (195)\ttotal: 9.49s\tremaining: 1m 1s\n",
            "300:\ttest: 0.4212881\tbest: 0.4212881 (300)\ttotal: 13.9s\tremaining: 55.4s\n",
            "400:\ttest: 0.4283268\tbest: 0.4283268 (400)\ttotal: 18.9s\tremaining: 51.7s\n",
            "500:\ttest: 0.4348952\tbest: 0.4348952 (500)\ttotal: 23s\tremaining: 45.8s\n",
            "600:\ttest: 0.4413456\tbest: 0.4414166 (598)\ttotal: 28.1s\tremaining: 42.1s\n",
            "700:\ttest: 0.4464718\tbest: 0.4464718 (700)\ttotal: 32.3s\tremaining: 36.8s\n",
            "800:\ttest: 0.4506242\tbest: 0.4507833 (797)\ttotal: 36.4s\tremaining: 31.8s\n",
            "900:\ttest: 0.4539229\tbest: 0.4539573 (897)\ttotal: 41.6s\tremaining: 27.6s\n",
            "1000:\ttest: 0.4565627\tbest: 0.4565627 (1000)\ttotal: 45.7s\tremaining: 22.8s\n",
            "1100:\ttest: 0.4587988\tbest: 0.4587988 (1100)\ttotal: 49.9s\tremaining: 18.1s\n",
            "1200:\ttest: 0.4608288\tbest: 0.4608288 (1200)\ttotal: 55s\tremaining: 13.7s\n",
            "1300:\ttest: 0.4623723\tbest: 0.4624468 (1289)\ttotal: 59.1s\tremaining: 9.05s\n",
            "1400:\ttest: 0.4641284\tbest: 0.4641284 (1400)\ttotal: 1m 3s\tremaining: 4.49s\n",
            "1499:\ttest: 0.4652267\tbest: 0.4654263 (1496)\ttotal: 1m 8s\tremaining: 0us\n",
            "bestTest = 0.4654263391\n",
            "bestIteration = 1496\n",
            "Shrink model to first 1497 iterations.\n"
          ]
        },
        {
          "metadata": {
            "tags": null
          },
          "name": "stderr",
          "output_type": "stream",
          "text": [
            "Default metric period is 5 because NDCG is/are not implemented for GPU\n",
            "Metric NDCG:type=Base is not implemented on GPU. Will use CPU for metric computation, this could significantly affect learning time\n",
            "Metric NDCG:top=10;type=Exp is not implemented on GPU. Will use CPU for metric computation, this could significantly affect learning time\n"
          ]
        },
        {
          "metadata": {
            "tags": null
          },
          "name": "stdout",
          "output_type": "stream",
          "text": [
            "0:\ttest: 0.2424583\tbest: 0.2424583 (0)\ttotal: 91.7ms\tremaining: 2m 17s\n",
            "100:\ttest: 0.4054037\tbest: 0.4054037 (100)\ttotal: 5.34s\tremaining: 1m 14s\n",
            "200:\ttest: 0.4117025\tbest: 0.4122014 (195)\ttotal: 9.54s\tremaining: 1m 1s\n",
            "300:\ttest: 0.4205449\tbest: 0.4205449 (300)\ttotal: 13.7s\tremaining: 54.5s\n",
            "400:\ttest: 0.4271366\tbest: 0.4271366 (400)\ttotal: 18.9s\tremaining: 51.8s\n",
            "500:\ttest: 0.4344296\tbest: 0.4344296 (500)\ttotal: 23.1s\tremaining: 46s\n",
            "600:\ttest: 0.4403939\tbest: 0.4403939 (600)\ttotal: 27.5s\tremaining: 41.1s\n",
            "700:\ttest: 0.4458531\tbest: 0.4458531 (700)\ttotal: 32.4s\tremaining: 36.9s\n",
            "800:\ttest: 0.4500404\tbest: 0.4501229 (798)\ttotal: 36.6s\tremaining: 32s\n",
            "900:\ttest: 0.4536214\tbest: 0.4536214 (900)\ttotal: 41.8s\tremaining: 27.8s\n",
            "1000:\ttest: 0.4563153\tbest: 0.4563153 (1000)\ttotal: 46s\tremaining: 22.9s\n",
            "1100:\ttest: 0.4583343\tbest: 0.4583343 (1100)\ttotal: 50.2s\tremaining: 18.2s\n",
            "1200:\ttest: 0.4607366\tbest: 0.4607366 (1200)\ttotal: 55.3s\tremaining: 13.8s\n",
            "1300:\ttest: 0.4620440\tbest: 0.4621699 (1292)\ttotal: 59.4s\tremaining: 9.09s\n",
            "1400:\ttest: 0.4634708\tbest: 0.4636297 (1394)\ttotal: 1m 3s\tremaining: 4.49s\n",
            "1499:\ttest: 0.4652939\tbest: 0.4652939 (1499)\ttotal: 1m 8s\tremaining: 0us\n",
            "bestTest = 0.4652938875\n",
            "bestIteration = 1499\n"
          ]
        },
        {
          "metadata": {
            "tags": null
          },
          "name": "stderr",
          "output_type": "stream",
          "text": [
            "Default metric period is 5 because NDCG is/are not implemented for GPU\n",
            "Metric NDCG:type=Base is not implemented on GPU. Will use CPU for metric computation, this could significantly affect learning time\n",
            "Metric NDCG:top=10;type=Exp is not implemented on GPU. Will use CPU for metric computation, this could significantly affect learning time\n"
          ]
        },
        {
          "metadata": {
            "tags": null
          },
          "name": "stdout",
          "output_type": "stream",
          "text": [
            "0:\ttest: 0.2424627\tbest: 0.2424627 (0)\ttotal: 90.6ms\tremaining: 2m 15s\n",
            "100:\ttest: 0.4060177\tbest: 0.4060177 (100)\ttotal: 5.3s\tremaining: 1m 13s\n",
            "200:\ttest: 0.4119575\tbest: 0.4121358 (198)\ttotal: 9.48s\tremaining: 1m 1s\n",
            "300:\ttest: 0.4203691\tbest: 0.4203691 (300)\ttotal: 13.6s\tremaining: 54.2s\n",
            "400:\ttest: 0.4268884\tbest: 0.4268884 (400)\ttotal: 18.7s\tremaining: 51.4s\n",
            "500:\ttest: 0.4350968\tbest: 0.4350968 (500)\ttotal: 22.9s\tremaining: 45.7s\n",
            "600:\ttest: 0.4394028\tbest: 0.4396780 (587)\ttotal: 27.1s\tremaining: 40.5s\n",
            "700:\ttest: 0.4456072\tbest: 0.4456072 (700)\ttotal: 32.2s\tremaining: 36.7s\n",
            "800:\ttest: 0.4500890\tbest: 0.4500890 (800)\ttotal: 36.4s\tremaining: 31.7s\n",
            "900:\ttest: 0.4530625\tbest: 0.4530625 (900)\ttotal: 41.2s\tremaining: 27.4s\n",
            "1000:\ttest: 0.4563158\tbest: 0.4564536 (999)\ttotal: 45.7s\tremaining: 22.8s\n",
            "1100:\ttest: 0.4581153\tbest: 0.4581553 (1096)\ttotal: 49.8s\tremaining: 18.1s\n",
            "1200:\ttest: 0.4601711\tbest: 0.4601714 (1189)\ttotal: 54.9s\tremaining: 13.7s\n",
            "1300:\ttest: 0.4617154\tbest: 0.4618219 (1295)\ttotal: 59.1s\tremaining: 9.04s\n",
            "1400:\ttest: 0.4630659\tbest: 0.4631824 (1393)\ttotal: 1m 3s\tremaining: 4.47s\n",
            "1499:\ttest: 0.4647473\tbest: 0.4647473 (1499)\ttotal: 1m 8s\tremaining: 0us\n",
            "bestTest = 0.4647473322\n",
            "bestIteration = 1499\n"
          ]
        },
        {
          "metadata": {
            "tags": null
          },
          "name": "stderr",
          "output_type": "stream",
          "text": [
            "Default metric period is 5 because NDCG is/are not implemented for GPU\n",
            "Metric NDCG:type=Base is not implemented on GPU. Will use CPU for metric computation, this could significantly affect learning time\n",
            "Metric NDCG:top=10;type=Exp is not implemented on GPU. Will use CPU for metric computation, this could significantly affect learning time\n"
          ]
        },
        {
          "metadata": {
            "tags": null
          },
          "name": "stdout",
          "output_type": "stream",
          "text": [
            "0:\ttest: 0.2424627\tbest: 0.2424627 (0)\ttotal: 91.8ms\tremaining: 2m 17s\n",
            "100:\ttest: 0.4042884\tbest: 0.4042884 (100)\ttotal: 5.18s\tremaining: 1m 11s\n",
            "200:\ttest: 0.4107872\tbest: 0.4109793 (189)\ttotal: 9.46s\tremaining: 1m 1s\n",
            "300:\ttest: 0.4187452\tbest: 0.4189666 (298)\ttotal: 13.6s\tremaining: 54.3s\n",
            "400:\ttest: 0.4254741\tbest: 0.4254741 (400)\ttotal: 18.7s\tremaining: 51.4s\n",
            "500:\ttest: 0.4339751\tbest: 0.4339751 (500)\ttotal: 22.9s\tremaining: 45.7s\n",
            "600:\ttest: 0.4388450\tbest: 0.4388450 (600)\ttotal: 27s\tremaining: 40.4s\n",
            "700:\ttest: 0.4454297\tbest: 0.4454297 (700)\ttotal: 32.2s\tremaining: 36.7s\n",
            "800:\ttest: 0.4491937\tbest: 0.4491937 (800)\ttotal: 36.4s\tremaining: 31.8s\n",
            "900:\ttest: 0.4521749\tbest: 0.4522144 (897)\ttotal: 40.7s\tremaining: 27.1s\n",
            "1000:\ttest: 0.4554734\tbest: 0.4554734 (1000)\ttotal: 45.9s\tremaining: 22.9s\n",
            "1100:\ttest: 0.4574138\tbest: 0.4574138 (1100)\ttotal: 50.1s\tremaining: 18.2s\n",
            "1200:\ttest: 0.4602765\tbest: 0.4602765 (1200)\ttotal: 55.4s\tremaining: 13.8s\n",
            "1300:\ttest: 0.4614292\tbest: 0.4614354 (1299)\ttotal: 59.5s\tremaining: 9.1s\n",
            "1400:\ttest: 0.4631818\tbest: 0.4632793 (1398)\ttotal: 1m 3s\tremaining: 4.5s\n",
            "1499:\ttest: 0.4643152\tbest: 0.4643152 (1499)\ttotal: 1m 9s\tremaining: 0us\n",
            "bestTest = 0.4643151704\n",
            "bestIteration = 1499\n"
          ]
        },
        {
          "metadata": {
            "tags": null
          },
          "name": "stderr",
          "output_type": "stream",
          "text": [
            "Default metric period is 5 because NDCG is/are not implemented for GPU\n",
            "Metric NDCG:type=Base is not implemented on GPU. Will use CPU for metric computation, this could significantly affect learning time\n",
            "Metric NDCG:top=10;type=Exp is not implemented on GPU. Will use CPU for metric computation, this could significantly affect learning time\n"
          ]
        },
        {
          "metadata": {
            "tags": null
          },
          "name": "stdout",
          "output_type": "stream",
          "text": [
            "0:\ttest: 0.3183135\tbest: 0.3183135 (0)\ttotal: 100ms\tremaining: 2m 30s\n",
            "100:\ttest: 0.4161981\tbest: 0.4161981 (100)\ttotal: 5.87s\tremaining: 1m 21s\n",
            "200:\ttest: 0.4274643\tbest: 0.4274643 (200)\ttotal: 10.6s\tremaining: 1m 8s\n",
            "300:\ttest: 0.4380539\tbest: 0.4381271 (298)\ttotal: 15.2s\tremaining: 1m\n",
            "400:\ttest: 0.4461857\tbest: 0.4461857 (400)\ttotal: 20.8s\tremaining: 57.1s\n",
            "500:\ttest: 0.4516362\tbest: 0.4516362 (500)\ttotal: 25.5s\tremaining: 50.9s\n",
            "600:\ttest: 0.4561960\tbest: 0.4561960 (600)\ttotal: 31.2s\tremaining: 46.7s\n",
            "700:\ttest: 0.4599043\tbest: 0.4599846 (699)\ttotal: 35.9s\tremaining: 40.9s\n",
            "800:\ttest: 0.4627557\tbest: 0.4627585 (799)\ttotal: 40.5s\tremaining: 35.4s\n",
            "900:\ttest: 0.4654213\tbest: 0.4655259 (897)\ttotal: 46.2s\tremaining: 30.7s\n",
            "1000:\ttest: 0.4677519\tbest: 0.4678552 (997)\ttotal: 50.8s\tremaining: 25.3s\n",
            "1100:\ttest: 0.4699814\tbest: 0.4700553 (1097)\ttotal: 56.4s\tremaining: 20.4s\n",
            "1200:\ttest: 0.4726002\tbest: 0.4726002 (1200)\ttotal: 1m 1s\tremaining: 15.2s\n",
            "1300:\ttest: 0.4755234\tbest: 0.4755234 (1300)\ttotal: 1m 6s\tremaining: 10.1s\n",
            "1400:\ttest: 0.4771764\tbest: 0.4771998 (1397)\ttotal: 1m 11s\tremaining: 5.04s\n",
            "1499:\ttest: 0.4780565\tbest: 0.4782502 (1494)\ttotal: 1m 15s\tremaining: 0us\n",
            "bestTest = 0.4782502061\n",
            "bestIteration = 1494\n",
            "Shrink model to first 1495 iterations.\n"
          ]
        },
        {
          "metadata": {
            "tags": null
          },
          "name": "stderr",
          "output_type": "stream",
          "text": [
            "Default metric period is 5 because NDCG is/are not implemented for GPU\n",
            "Metric NDCG:type=Base is not implemented on GPU. Will use CPU for metric computation, this could significantly affect learning time\n",
            "Metric NDCG:top=10;type=Exp is not implemented on GPU. Will use CPU for metric computation, this could significantly affect learning time\n"
          ]
        },
        {
          "metadata": {
            "tags": null
          },
          "name": "stdout",
          "output_type": "stream",
          "text": [
            "0:\ttest: 0.3177237\tbest: 0.3177237 (0)\ttotal: 102ms\tremaining: 2m 33s\n",
            "100:\ttest: 0.4133819\tbest: 0.4133819 (100)\ttotal: 4.81s\tremaining: 1m 6s\n",
            "200:\ttest: 0.4260330\tbest: 0.4260330 (200)\ttotal: 10.5s\tremaining: 1m 8s\n",
            "300:\ttest: 0.4368646\tbest: 0.4368646 (300)\ttotal: 15.3s\tremaining: 1m\n",
            "400:\ttest: 0.4449901\tbest: 0.4449901 (400)\ttotal: 20s\tremaining: 54.9s\n",
            "500:\ttest: 0.4509675\tbest: 0.4509675 (500)\ttotal: 25.7s\tremaining: 51.3s\n",
            "600:\ttest: 0.4552179\tbest: 0.4552179 (600)\ttotal: 30.4s\tremaining: 45.4s\n",
            "700:\ttest: 0.4582395\tbest: 0.4583101 (698)\ttotal: 36.1s\tremaining: 41.2s\n",
            "800:\ttest: 0.4612321\tbest: 0.4613471 (795)\ttotal: 40.8s\tremaining: 35.6s\n",
            "900:\ttest: 0.4643033\tbest: 0.4643033 (900)\ttotal: 45.6s\tremaining: 30.3s\n",
            "1000:\ttest: 0.4663689\tbest: 0.4663689 (1000)\ttotal: 51.1s\tremaining: 25.5s\n",
            "1100:\ttest: 0.4689805\tbest: 0.4691174 (1095)\ttotal: 55.8s\tremaining: 20.2s\n",
            "1200:\ttest: 0.4713836\tbest: 0.4714670 (1193)\ttotal: 1m 1s\tremaining: 15.3s\n",
            "1300:\ttest: 0.4741850\tbest: 0.4741850 (1300)\ttotal: 1m 6s\tremaining: 10.1s\n",
            "1400:\ttest: 0.4762044\tbest: 0.4762470 (1399)\ttotal: 1m 11s\tremaining: 5.04s\n",
            "1499:\ttest: 0.4769458\tbest: 0.4770003 (1496)\ttotal: 1m 16s\tremaining: 0us\n",
            "bestTest = 0.4770003398\n",
            "bestIteration = 1496\n",
            "Shrink model to first 1497 iterations.\n"
          ]
        },
        {
          "metadata": {
            "tags": null
          },
          "name": "stderr",
          "output_type": "stream",
          "text": [
            "Default metric period is 5 because NDCG is/are not implemented for GPU\n",
            "Metric NDCG:type=Base is not implemented on GPU. Will use CPU for metric computation, this could significantly affect learning time\n",
            "Metric NDCG:top=10;type=Exp is not implemented on GPU. Will use CPU for metric computation, this could significantly affect learning time\n"
          ]
        },
        {
          "metadata": {
            "tags": null
          },
          "name": "stdout",
          "output_type": "stream",
          "text": [
            "0:\ttest: 0.3174518\tbest: 0.3174518 (0)\ttotal: 101ms\tremaining: 2m 31s\n",
            "100:\ttest: 0.4137903\tbest: 0.4137903 (100)\ttotal: 5.85s\tremaining: 1m 21s\n",
            "200:\ttest: 0.4241340\tbest: 0.4241340 (200)\ttotal: 10.5s\tremaining: 1m 7s\n",
            "300:\ttest: 0.4355520\tbest: 0.4355520 (300)\ttotal: 16.2s\tremaining: 1m 4s\n",
            "400:\ttest: 0.4448359\tbest: 0.4449665 (398)\ttotal: 20.9s\tremaining: 57.2s\n",
            "500:\ttest: 0.4502143\tbest: 0.4502143 (500)\ttotal: 25.9s\tremaining: 51.6s\n",
            "600:\ttest: 0.4544653\tbest: 0.4546731 (594)\ttotal: 31.3s\tremaining: 46.8s\n",
            "700:\ttest: 0.4579655\tbest: 0.4579655 (700)\ttotal: 35.9s\tremaining: 41s\n",
            "800:\ttest: 0.4609685\tbest: 0.4609744 (799)\ttotal: 41.5s\tremaining: 36.2s\n",
            "900:\ttest: 0.4640639\tbest: 0.4640727 (899)\ttotal: 46.1s\tremaining: 30.7s\n",
            "1000:\ttest: 0.4663154\tbest: 0.4663162 (999)\ttotal: 51.1s\tremaining: 25.5s\n",
            "1100:\ttest: 0.4686935\tbest: 0.4686935 (1100)\ttotal: 56.2s\tremaining: 20.4s\n",
            "1200:\ttest: 0.4715215\tbest: 0.4715215 (1200)\ttotal: 1m\tremaining: 15.1s\n",
            "1300:\ttest: 0.4738950\tbest: 0.4739097 (1299)\ttotal: 1m 6s\tremaining: 10.1s\n",
            "1400:\ttest: 0.4759097\tbest: 0.4759097 (1400)\ttotal: 1m 10s\tremaining: 5.01s\n",
            "1499:\ttest: 0.4773008\tbest: 0.4773008 (1499)\ttotal: 1m 16s\tremaining: 0us\n",
            "bestTest = 0.4773007588\n",
            "bestIteration = 1499\n"
          ]
        },
        {
          "metadata": {
            "tags": null
          },
          "name": "stderr",
          "output_type": "stream",
          "text": [
            "Default metric period is 5 because NDCG is/are not implemented for GPU\n",
            "Metric NDCG:type=Base is not implemented on GPU. Will use CPU for metric computation, this could significantly affect learning time\n",
            "Metric NDCG:top=10;type=Exp is not implemented on GPU. Will use CPU for metric computation, this could significantly affect learning time\n"
          ]
        },
        {
          "metadata": {
            "tags": null
          },
          "name": "stdout",
          "output_type": "stream",
          "text": [
            "0:\ttest: 0.3167188\tbest: 0.3167188 (0)\ttotal: 100ms\tremaining: 2m 30s\n",
            "100:\ttest: 0.4133870\tbest: 0.4133870 (100)\ttotal: 4.83s\tremaining: 1m 6s\n",
            "200:\ttest: 0.4237430\tbest: 0.4238279 (199)\ttotal: 10.5s\tremaining: 1m 7s\n",
            "300:\ttest: 0.4351670\tbest: 0.4351670 (300)\ttotal: 15.1s\tremaining: 1m\n",
            "400:\ttest: 0.4438546\tbest: 0.4438546 (400)\ttotal: 20.7s\tremaining: 56.9s\n",
            "500:\ttest: 0.4496761\tbest: 0.4496761 (500)\ttotal: 25.4s\tremaining: 50.7s\n",
            "600:\ttest: 0.4543140\tbest: 0.4544487 (597)\ttotal: 30s\tremaining: 44.9s\n",
            "700:\ttest: 0.4574465\tbest: 0.4575047 (695)\ttotal: 35.8s\tremaining: 40.8s\n",
            "800:\ttest: 0.4608501\tbest: 0.4608501 (800)\ttotal: 40.4s\tremaining: 35.2s\n",
            "900:\ttest: 0.4630927\tbest: 0.4630927 (900)\ttotal: 45.9s\tremaining: 30.5s\n",
            "1000:\ttest: 0.4656384\tbest: 0.4657981 (996)\ttotal: 50.5s\tremaining: 25.2s\n",
            "1100:\ttest: 0.4681238\tbest: 0.4681373 (1097)\ttotal: 55.1s\tremaining: 20s\n",
            "1200:\ttest: 0.4703938\tbest: 0.4705012 (1194)\ttotal: 1m\tremaining: 15.1s\n",
            "1300:\ttest: 0.4728876\tbest: 0.4728969 (1294)\ttotal: 1m 5s\tremaining: 9.97s\n",
            "1400:\ttest: 0.4747534\tbest: 0.4748313 (1397)\ttotal: 1m 10s\tremaining: 5s\n",
            "1499:\ttest: 0.4766036\tbest: 0.4766080 (1497)\ttotal: 1m 15s\tremaining: 0us\n",
            "bestTest = 0.4766079715\n",
            "bestIteration = 1497\n",
            "Shrink model to first 1498 iterations.\n"
          ]
        },
        {
          "metadata": {
            "tags": null
          },
          "name": "stderr",
          "output_type": "stream",
          "text": [
            "Default metric period is 5 because NDCG is/are not implemented for GPU\n",
            "Metric NDCG:type=Base is not implemented on GPU. Will use CPU for metric computation, this could significantly affect learning time\n",
            "Metric NDCG:top=10;type=Exp is not implemented on GPU. Will use CPU for metric computation, this could significantly affect learning time\n"
          ]
        },
        {
          "metadata": {
            "tags": null
          },
          "name": "stdout",
          "output_type": "stream",
          "text": [
            "0:\ttest: 0.3151338\tbest: 0.3151338 (0)\ttotal: 174ms\tremaining: 4m 20s\n",
            "100:\ttest: 0.4120378\tbest: 0.4122004 (99)\ttotal: 5.33s\tremaining: 1m 13s\n",
            "200:\ttest: 0.4226458\tbest: 0.4226458 (200)\ttotal: 9.92s\tremaining: 1m 4s\n",
            "300:\ttest: 0.4332999\tbest: 0.4332999 (300)\ttotal: 15.6s\tremaining: 1m 2s\n",
            "400:\ttest: 0.4397760\tbest: 0.4397760 (400)\ttotal: 20.2s\tremaining: 55.4s\n",
            "500:\ttest: 0.4471310\tbest: 0.4471310 (500)\ttotal: 25.8s\tremaining: 51.5s\n",
            "600:\ttest: 0.4526298\tbest: 0.4527375 (599)\ttotal: 30.5s\tremaining: 45.7s\n",
            "700:\ttest: 0.4562105\tbest: 0.4563131 (693)\ttotal: 35.2s\tremaining: 40.1s\n",
            "800:\ttest: 0.4589045\tbest: 0.4589045 (800)\ttotal: 40.8s\tremaining: 35.6s\n",
            "900:\ttest: 0.4621862\tbest: 0.4621862 (900)\ttotal: 45.4s\tremaining: 30.2s\n",
            "1000:\ttest: 0.4649138\tbest: 0.4649484 (999)\ttotal: 51s\tremaining: 25.4s\n",
            "1100:\ttest: 0.4664719\tbest: 0.4664719 (1100)\ttotal: 55.6s\tremaining: 20.1s\n",
            "1200:\ttest: 0.4685546\tbest: 0.4685546 (1200)\ttotal: 1m\tremaining: 15s\n",
            "1300:\ttest: 0.4714716\tbest: 0.4715013 (1297)\ttotal: 1m 5s\tremaining: 10.1s\n",
            "1400:\ttest: 0.4729870\tbest: 0.4729870 (1400)\ttotal: 1m 10s\tremaining: 4.97s\n",
            "1499:\ttest: 0.4743074\tbest: 0.4744760 (1464)\ttotal: 1m 16s\tremaining: 0us\n",
            "bestTest = 0.4744760019\n",
            "bestIteration = 1464\n",
            "Shrink model to first 1465 iterations.\n"
          ]
        },
        {
          "metadata": {
            "tags": null
          },
          "name": "stderr",
          "output_type": "stream",
          "text": [
            "Default metric period is 5 because NDCG is/are not implemented for GPU\n",
            "Metric NDCG:type=Base is not implemented on GPU. Will use CPU for metric computation, this could significantly affect learning time\n",
            "Metric NDCG:top=10;type=Exp is not implemented on GPU. Will use CPU for metric computation, this could significantly affect learning time\n"
          ]
        },
        {
          "metadata": {
            "tags": null
          },
          "name": "stdout",
          "output_type": "stream",
          "text": [
            "0:\ttest: 0.3279862\tbest: 0.3279862 (0)\ttotal: 119ms\tremaining: 2m 58s\n",
            "100:\ttest: 0.4278122\tbest: 0.4278122 (100)\ttotal: 6.63s\tremaining: 1m 31s\n",
            "200:\ttest: 0.4403876\tbest: 0.4403876 (200)\ttotal: 12.2s\tremaining: 1m 18s\n",
            "300:\ttest: 0.4489333\tbest: 0.4489333 (300)\ttotal: 18.7s\tremaining: 1m 14s\n",
            "400:\ttest: 0.4554070\tbest: 0.4555905 (398)\ttotal: 24.2s\tremaining: 1m 6s\n",
            "500:\ttest: 0.4593482\tbest: 0.4593482 (500)\ttotal: 30.7s\tremaining: 1m 1s\n",
            "600:\ttest: 0.4631445\tbest: 0.4632002 (596)\ttotal: 36.3s\tremaining: 54.4s\n",
            "700:\ttest: 0.4672491\tbest: 0.4672695 (699)\ttotal: 42.6s\tremaining: 48.5s\n",
            "800:\ttest: 0.4701319\tbest: 0.4701319 (800)\ttotal: 48.3s\tremaining: 42.1s\n",
            "900:\ttest: 0.4731444\tbest: 0.4733250 (896)\ttotal: 54.1s\tremaining: 36s\n",
            "1000:\ttest: 0.4760836\tbest: 0.4760836 (1000)\ttotal: 1m\tremaining: 30s\n",
            "1100:\ttest: 0.4784193\tbest: 0.4784193 (1100)\ttotal: 1m 5s\tremaining: 23.8s\n",
            "1200:\ttest: 0.4808523\tbest: 0.4808606 (1199)\ttotal: 1m 11s\tremaining: 17.9s\n",
            "1300:\ttest: 0.4830930\tbest: 0.4832834 (1299)\ttotal: 1m 17s\tremaining: 11.8s\n",
            "1400:\ttest: 0.4854765\tbest: 0.4854814 (1399)\ttotal: 1m 23s\tremaining: 5.92s\n",
            "1499:\ttest: 0.4864671\tbest: 0.4866761 (1495)\ttotal: 1m 29s\tremaining: 0us\n",
            "bestTest = 0.4866760553\n",
            "bestIteration = 1495\n",
            "Shrink model to first 1496 iterations.\n"
          ]
        },
        {
          "metadata": {
            "tags": null
          },
          "name": "stderr",
          "output_type": "stream",
          "text": [
            "Default metric period is 5 because NDCG is/are not implemented for GPU\n",
            "Metric NDCG:type=Base is not implemented on GPU. Will use CPU for metric computation, this could significantly affect learning time\n",
            "Metric NDCG:top=10;type=Exp is not implemented on GPU. Will use CPU for metric computation, this could significantly affect learning time\n"
          ]
        },
        {
          "metadata": {
            "tags": null
          },
          "name": "stdout",
          "output_type": "stream",
          "text": [
            "0:\ttest: 0.3260811\tbest: 0.3260811 (0)\ttotal: 117ms\tremaining: 2m 55s\n",
            "100:\ttest: 0.4254597\tbest: 0.4254597 (100)\ttotal: 5.67s\tremaining: 1m 18s\n",
            "200:\ttest: 0.4361416\tbest: 0.4361416 (200)\ttotal: 12.2s\tremaining: 1m 18s\n",
            "300:\ttest: 0.4468774\tbest: 0.4468774 (300)\ttotal: 17.8s\tremaining: 1m 10s\n",
            "400:\ttest: 0.4529583\tbest: 0.4529583 (400)\ttotal: 24.3s\tremaining: 1m 6s\n",
            "500:\ttest: 0.4572755\tbest: 0.4572755 (500)\ttotal: 29.8s\tremaining: 59.5s\n",
            "600:\ttest: 0.4618397\tbest: 0.4621224 (596)\ttotal: 36.4s\tremaining: 54.4s\n",
            "700:\ttest: 0.4660487\tbest: 0.4660543 (699)\ttotal: 41.9s\tremaining: 47.7s\n",
            "800:\ttest: 0.4696477\tbest: 0.4696477 (800)\ttotal: 48.4s\tremaining: 42.2s\n",
            "900:\ttest: 0.4717561\tbest: 0.4718509 (899)\ttotal: 53.8s\tremaining: 35.8s\n",
            "1000:\ttest: 0.4747777\tbest: 0.4747777 (1000)\ttotal: 1m\tremaining: 30s\n",
            "1100:\ttest: 0.4766635\tbest: 0.4768562 (1097)\ttotal: 1m 5s\tremaining: 23.8s\n",
            "1200:\ttest: 0.4790362\tbest: 0.4794842 (1192)\ttotal: 1m 12s\tremaining: 17.9s\n",
            "1300:\ttest: 0.4818855\tbest: 0.4818855 (1300)\ttotal: 1m 17s\tremaining: 11.8s\n",
            "1400:\ttest: 0.4841933\tbest: 0.4841933 (1400)\ttotal: 1m 23s\tremaining: 5.92s\n",
            "1499:\ttest: 0.4861007\tbest: 0.4861413 (1498)\ttotal: 1m 29s\tremaining: 0us\n",
            "bestTest = 0.4861413046\n",
            "bestIteration = 1498\n",
            "Shrink model to first 1499 iterations.\n"
          ]
        },
        {
          "metadata": {
            "tags": null
          },
          "name": "stderr",
          "output_type": "stream",
          "text": [
            "Default metric period is 5 because NDCG is/are not implemented for GPU\n",
            "Metric NDCG:type=Base is not implemented on GPU. Will use CPU for metric computation, this could significantly affect learning time\n",
            "Metric NDCG:top=10;type=Exp is not implemented on GPU. Will use CPU for metric computation, this could significantly affect learning time\n"
          ]
        },
        {
          "metadata": {
            "tags": null
          },
          "name": "stdout",
          "output_type": "stream",
          "text": [
            "0:\ttest: 0.3238453\tbest: 0.3238453 (0)\ttotal: 118ms\tremaining: 2m 57s\n",
            "100:\ttest: 0.4238560\tbest: 0.4238560 (100)\ttotal: 5.7s\tremaining: 1m 19s\n",
            "200:\ttest: 0.4354233\tbest: 0.4354233 (200)\ttotal: 12.3s\tremaining: 1m 19s\n",
            "300:\ttest: 0.4434364\tbest: 0.4435274 (297)\ttotal: 17.9s\tremaining: 1m 11s\n",
            "400:\ttest: 0.4507298\tbest: 0.4507298 (400)\ttotal: 24.4s\tremaining: 1m 6s\n",
            "500:\ttest: 0.4564193\tbest: 0.4564193 (500)\ttotal: 29.9s\tremaining: 59.6s\n",
            "600:\ttest: 0.4609121\tbest: 0.4609665 (597)\ttotal: 36.4s\tremaining: 54.5s\n",
            "700:\ttest: 0.4642964\tbest: 0.4642964 (700)\ttotal: 41.9s\tremaining: 47.8s\n",
            "800:\ttest: 0.4676185\tbest: 0.4676185 (800)\ttotal: 48.2s\tremaining: 42.1s\n",
            "900:\ttest: 0.4704314\tbest: 0.4705449 (893)\ttotal: 53.9s\tremaining: 35.8s\n",
            "1000:\ttest: 0.4729446\tbest: 0.4729446 (1000)\ttotal: 59.8s\tremaining: 29.8s\n",
            "1100:\ttest: 0.4751058\tbest: 0.4751058 (1100)\ttotal: 1m 5s\tremaining: 23.8s\n",
            "1200:\ttest: 0.4779173\tbest: 0.4779173 (1200)\ttotal: 1m 11s\tremaining: 17.8s\n",
            "1300:\ttest: 0.4798010\tbest: 0.4798010 (1300)\ttotal: 1m 17s\tremaining: 11.9s\n",
            "1400:\ttest: 0.4826312\tbest: 0.4826312 (1400)\ttotal: 1m 22s\tremaining: 5.86s\n",
            "1499:\ttest: 0.4843570\tbest: 0.4843599 (1498)\ttotal: 1m 29s\tremaining: 0us\n",
            "bestTest = 0.484359932\n",
            "bestIteration = 1498\n",
            "Shrink model to first 1499 iterations.\n"
          ]
        },
        {
          "metadata": {
            "tags": null
          },
          "name": "stderr",
          "output_type": "stream",
          "text": [
            "Default metric period is 5 because NDCG is/are not implemented for GPU\n",
            "Metric NDCG:type=Base is not implemented on GPU. Will use CPU for metric computation, this could significantly affect learning time\n",
            "Metric NDCG:top=10;type=Exp is not implemented on GPU. Will use CPU for metric computation, this could significantly affect learning time\n"
          ]
        },
        {
          "metadata": {
            "tags": null
          },
          "name": "stdout",
          "output_type": "stream",
          "text": [
            "0:\ttest: 0.3307149\tbest: 0.3307149 (0)\ttotal: 136ms\tremaining: 3m 23s\n",
            "100:\ttest: 0.4233548\tbest: 0.4233548 (100)\ttotal: 6.78s\tremaining: 1m 33s\n",
            "200:\ttest: 0.4328176\tbest: 0.4328176 (200)\ttotal: 12.3s\tremaining: 1m 19s\n",
            "300:\ttest: 0.4426451\tbest: 0.4428444 (292)\ttotal: 18.8s\tremaining: 1m 14s\n",
            "400:\ttest: 0.4486807\tbest: 0.4488939 (399)\ttotal: 24.4s\tremaining: 1m 6s\n",
            "500:\ttest: 0.4542294\tbest: 0.4542294 (500)\ttotal: 30.9s\tremaining: 1m 1s\n",
            "600:\ttest: 0.4591182\tbest: 0.4591182 (600)\ttotal: 36.5s\tremaining: 54.6s\n",
            "700:\ttest: 0.4624854\tbest: 0.4625567 (698)\ttotal: 43s\tremaining: 49s\n",
            "800:\ttest: 0.4666714\tbest: 0.4667129 (799)\ttotal: 48.6s\tremaining: 42.4s\n",
            "900:\ttest: 0.4700107\tbest: 0.4700107 (900)\ttotal: 55s\tremaining: 36.6s\n",
            "1000:\ttest: 0.4722285\tbest: 0.4723339 (996)\ttotal: 1m\tremaining: 30.1s\n",
            "1100:\ttest: 0.4745575\tbest: 0.4745575 (1100)\ttotal: 1m 6s\tremaining: 24.2s\n",
            "1200:\ttest: 0.4762994\tbest: 0.4763221 (1198)\ttotal: 1m 12s\tremaining: 18s\n",
            "1300:\ttest: 0.4788580\tbest: 0.4789983 (1296)\ttotal: 1m 18s\tremaining: 12s\n",
            "1400:\ttest: 0.4813948\tbest: 0.4813948 (1400)\ttotal: 1m 24s\tremaining: 5.95s\n",
            "1499:\ttest: 0.4835395\tbest: 0.4836967 (1494)\ttotal: 1m 30s\tremaining: 0us\n",
            "bestTest = 0.4836967107\n",
            "bestIteration = 1494\n",
            "Shrink model to first 1495 iterations.\n"
          ]
        },
        {
          "metadata": {
            "tags": null
          },
          "name": "stderr",
          "output_type": "stream",
          "text": [
            "Default metric period is 5 because NDCG is/are not implemented for GPU\n",
            "Metric NDCG:type=Base is not implemented on GPU. Will use CPU for metric computation, this could significantly affect learning time\n",
            "Metric NDCG:top=10;type=Exp is not implemented on GPU. Will use CPU for metric computation, this could significantly affect learning time\n"
          ]
        },
        {
          "metadata": {
            "tags": null
          },
          "name": "stdout",
          "output_type": "stream",
          "text": [
            "0:\ttest: 0.3294239\tbest: 0.3294239 (0)\ttotal: 121ms\tremaining: 3m\n",
            "100:\ttest: 0.4194761\tbest: 0.4194761 (100)\ttotal: 6.68s\tremaining: 1m 32s\n",
            "200:\ttest: 0.4304264\tbest: 0.4304264 (200)\ttotal: 12.2s\tremaining: 1m 18s\n",
            "300:\ttest: 0.4393942\tbest: 0.4393942 (300)\ttotal: 18.7s\tremaining: 1m 14s\n",
            "400:\ttest: 0.4459489\tbest: 0.4460608 (398)\ttotal: 24.3s\tremaining: 1m 6s\n",
            "500:\ttest: 0.4519128\tbest: 0.4521010 (499)\ttotal: 30.9s\tremaining: 1m 1s\n",
            "600:\ttest: 0.4570790\tbest: 0.4570790 (600)\ttotal: 36.4s\tremaining: 54.5s\n",
            "700:\ttest: 0.4604877\tbest: 0.4605401 (697)\ttotal: 42.9s\tremaining: 48.9s\n",
            "800:\ttest: 0.4650249\tbest: 0.4650249 (800)\ttotal: 48.4s\tremaining: 42.2s\n",
            "900:\ttest: 0.4677727\tbest: 0.4677727 (900)\ttotal: 54.8s\tremaining: 36.4s\n",
            "1000:\ttest: 0.4696330\tbest: 0.4697850 (999)\ttotal: 1m\tremaining: 30s\n",
            "1100:\ttest: 0.4717201\tbest: 0.4717977 (1099)\ttotal: 1m 6s\tremaining: 24.2s\n",
            "1200:\ttest: 0.4746923\tbest: 0.4746923 (1200)\ttotal: 1m 12s\tremaining: 18s\n",
            "1300:\ttest: 0.4770390\tbest: 0.4771415 (1298)\ttotal: 1m 18s\tremaining: 12s\n",
            "1400:\ttest: 0.4790651\tbest: 0.4790651 (1400)\ttotal: 1m 23s\tremaining: 5.93s\n",
            "1499:\ttest: 0.4811926\tbest: 0.4811926 (1499)\ttotal: 1m 29s\tremaining: 0us\n",
            "bestTest = 0.4811925805\n",
            "bestIteration = 1499\n"
          ]
        },
        {
          "metadata": {
            "tags": null
          },
          "name": "stderr",
          "output_type": "stream",
          "text": [
            "Default metric period is 5 because NDCG is/are not implemented for GPU\n",
            "Metric NDCG:type=Base is not implemented on GPU. Will use CPU for metric computation, this could significantly affect learning time\n",
            "Metric NDCG:top=10;type=Exp is not implemented on GPU. Will use CPU for metric computation, this could significantly affect learning time\n"
          ]
        },
        {
          "metadata": {
            "tags": null
          },
          "name": "stdout",
          "output_type": "stream",
          "text": [
            "0:\ttest: 0.2341477\tbest: 0.2341477 (0)\ttotal: 84.3ms\tremaining: 2m 6s\n",
            "100:\ttest: 0.4069889\tbest: 0.4069889 (100)\ttotal: 3.91s\tremaining: 54.1s\n",
            "200:\ttest: 0.4407850\tbest: 0.4407850 (200)\ttotal: 8.59s\tremaining: 55.5s\n",
            "300:\ttest: 0.4513838\tbest: 0.4513838 (300)\ttotal: 12.4s\tremaining: 49.3s\n",
            "400:\ttest: 0.4579765\tbest: 0.4580890 (399)\ttotal: 16.2s\tremaining: 44.4s\n",
            "500:\ttest: 0.4622849\tbest: 0.4623101 (498)\ttotal: 21s\tremaining: 41.9s\n",
            "600:\ttest: 0.4665535\tbest: 0.4666291 (598)\ttotal: 24.8s\tremaining: 37.1s\n",
            "700:\ttest: 0.4694814\tbest: 0.4695433 (696)\ttotal: 28.6s\tremaining: 32.6s\n",
            "800:\ttest: 0.4725104\tbest: 0.4725696 (799)\ttotal: 33.3s\tremaining: 29.1s\n",
            "900:\ttest: 0.4750733\tbest: 0.4751854 (892)\ttotal: 37.1s\tremaining: 24.7s\n",
            "1000:\ttest: 0.4768956\tbest: 0.4768956 (1000)\ttotal: 40.9s\tremaining: 20.4s\n",
            "1100:\ttest: 0.4791188\tbest: 0.4792137 (1099)\ttotal: 45.6s\tremaining: 16.5s\n",
            "1200:\ttest: 0.4812337\tbest: 0.4812337 (1200)\ttotal: 49.4s\tremaining: 12.3s\n",
            "1300:\ttest: 0.4820791\tbest: 0.4822753 (1279)\ttotal: 53.1s\tremaining: 8.13s\n",
            "1400:\ttest: 0.4837523\tbest: 0.4838109 (1399)\ttotal: 57.8s\tremaining: 4.08s\n",
            "1499:\ttest: 0.4844388\tbest: 0.4845203 (1447)\ttotal: 1m 1s\tremaining: 0us\n",
            "bestTest = 0.4845202612\n",
            "bestIteration = 1447\n",
            "Shrink model to first 1448 iterations.\n"
          ]
        },
        {
          "metadata": {
            "tags": null
          },
          "name": "stderr",
          "output_type": "stream",
          "text": [
            "Default metric period is 5 because NDCG is/are not implemented for GPU\n",
            "Metric NDCG:type=Base is not implemented on GPU. Will use CPU for metric computation, this could significantly affect learning time\n",
            "Metric NDCG:top=10;type=Exp is not implemented on GPU. Will use CPU for metric computation, this could significantly affect learning time\n"
          ]
        },
        {
          "metadata": {
            "tags": null
          },
          "name": "stdout",
          "output_type": "stream",
          "text": [
            "0:\ttest: 0.2341477\tbest: 0.2341477 (0)\ttotal: 86.2ms\tremaining: 2m 9s\n",
            "100:\ttest: 0.4085313\tbest: 0.4085313 (100)\ttotal: 4.88s\tremaining: 1m 7s\n",
            "200:\ttest: 0.4394319\tbest: 0.4394319 (200)\ttotal: 8.65s\tremaining: 55.9s\n",
            "300:\ttest: 0.4513398\tbest: 0.4514006 (298)\ttotal: 12.4s\tremaining: 49.5s\n",
            "400:\ttest: 0.4586831\tbest: 0.4586831 (400)\ttotal: 17.2s\tremaining: 47.1s\n",
            "500:\ttest: 0.4618889\tbest: 0.4623109 (496)\ttotal: 20.9s\tremaining: 41.8s\n",
            "600:\ttest: 0.4660496\tbest: 0.4660496 (600)\ttotal: 24.7s\tremaining: 37s\n",
            "700:\ttest: 0.4689297\tbest: 0.4690409 (696)\ttotal: 29.4s\tremaining: 33.6s\n",
            "800:\ttest: 0.4723449\tbest: 0.4723449 (800)\ttotal: 33.2s\tremaining: 29s\n",
            "900:\ttest: 0.4744751\tbest: 0.4744751 (900)\ttotal: 37s\tremaining: 24.6s\n",
            "1000:\ttest: 0.4765819\tbest: 0.4765819 (1000)\ttotal: 41.7s\tremaining: 20.8s\n",
            "1100:\ttest: 0.4783617\tbest: 0.4786302 (1072)\ttotal: 45.4s\tremaining: 16.5s\n",
            "1200:\ttest: 0.4803770\tbest: 0.4806430 (1194)\ttotal: 49.3s\tremaining: 12.3s\n",
            "1300:\ttest: 0.4813503\tbest: 0.4814936 (1297)\ttotal: 54s\tremaining: 8.26s\n",
            "1400:\ttest: 0.4826368\tbest: 0.4826548 (1395)\ttotal: 57.8s\tremaining: 4.08s\n",
            "1499:\ttest: 0.4837764\tbest: 0.4838827 (1496)\ttotal: 1m 1s\tremaining: 0us\n",
            "bestTest = 0.4838827368\n",
            "bestIteration = 1496\n",
            "Shrink model to first 1497 iterations.\n"
          ]
        },
        {
          "metadata": {
            "tags": null
          },
          "name": "stderr",
          "output_type": "stream",
          "text": [
            "Default metric period is 5 because NDCG is/are not implemented for GPU\n",
            "Metric NDCG:type=Base is not implemented on GPU. Will use CPU for metric computation, this could significantly affect learning time\n",
            "Metric NDCG:top=10;type=Exp is not implemented on GPU. Will use CPU for metric computation, this could significantly affect learning time\n"
          ]
        },
        {
          "metadata": {
            "tags": null
          },
          "name": "stdout",
          "output_type": "stream",
          "text": [
            "0:\ttest: 0.2341477\tbest: 0.2341477 (0)\ttotal: 83.1ms\tremaining: 2m 4s\n",
            "100:\ttest: 0.4093460\tbest: 0.4093460 (100)\ttotal: 3.92s\tremaining: 54.3s\n",
            "200:\ttest: 0.4405666\tbest: 0.4405666 (200)\ttotal: 7.86s\tremaining: 50.8s\n",
            "300:\ttest: 0.4524287\tbest: 0.4524287 (300)\ttotal: 12.3s\tremaining: 49.1s\n",
            "400:\ttest: 0.4588798\tbest: 0.4588798 (400)\ttotal: 16.1s\tremaining: 44.2s\n",
            "500:\ttest: 0.4623381\tbest: 0.4623381 (500)\ttotal: 20.1s\tremaining: 40.1s\n",
            "600:\ttest: 0.4662390\tbest: 0.4662917 (599)\ttotal: 24.7s\tremaining: 36.9s\n",
            "700:\ttest: 0.4686901\tbest: 0.4686901 (700)\ttotal: 28.4s\tremaining: 32.4s\n",
            "800:\ttest: 0.4723878\tbest: 0.4723878 (800)\ttotal: 32.3s\tremaining: 28.2s\n",
            "900:\ttest: 0.4749449\tbest: 0.4749449 (900)\ttotal: 36.9s\tremaining: 24.5s\n",
            "1000:\ttest: 0.4774918\tbest: 0.4774918 (1000)\ttotal: 40.7s\tremaining: 20.3s\n",
            "1100:\ttest: 0.4788928\tbest: 0.4789446 (1086)\ttotal: 44.6s\tremaining: 16.2s\n",
            "1200:\ttest: 0.4806324\tbest: 0.4806579 (1195)\ttotal: 49.3s\tremaining: 12.3s\n",
            "1300:\ttest: 0.4821963\tbest: 0.4822006 (1297)\ttotal: 53s\tremaining: 8.11s\n",
            "1400:\ttest: 0.4829762\tbest: 0.4831906 (1394)\ttotal: 56.9s\tremaining: 4.02s\n",
            "1499:\ttest: 0.4837938\tbest: 0.4838088 (1493)\ttotal: 1m 1s\tremaining: 0us\n",
            "bestTest = 0.4838088063\n",
            "bestIteration = 1493\n",
            "Shrink model to first 1494 iterations.\n"
          ]
        },
        {
          "metadata": {
            "tags": null
          },
          "name": "stderr",
          "output_type": "stream",
          "text": [
            "Default metric period is 5 because NDCG is/are not implemented for GPU\n",
            "Metric NDCG:type=Base is not implemented on GPU. Will use CPU for metric computation, this could significantly affect learning time\n",
            "Metric NDCG:top=10;type=Exp is not implemented on GPU. Will use CPU for metric computation, this could significantly affect learning time\n"
          ]
        },
        {
          "metadata": {
            "tags": null
          },
          "name": "stdout",
          "output_type": "stream",
          "text": [
            "0:\ttest: 0.2341477\tbest: 0.2341477 (0)\ttotal: 83.5ms\tremaining: 2m 5s\n",
            "100:\ttest: 0.4065388\tbest: 0.4065621 (98)\ttotal: 4.79s\tremaining: 1m 6s\n",
            "200:\ttest: 0.4405384\tbest: 0.4405384 (200)\ttotal: 8.55s\tremaining: 55.3s\n",
            "300:\ttest: 0.4519099\tbest: 0.4519366 (297)\ttotal: 12.4s\tremaining: 49.4s\n",
            "400:\ttest: 0.4585583\tbest: 0.4585743 (398)\ttotal: 17.1s\tremaining: 46.8s\n",
            "500:\ttest: 0.4624148\tbest: 0.4624885 (497)\ttotal: 20.9s\tremaining: 41.7s\n",
            "600:\ttest: 0.4658369\tbest: 0.4661569 (594)\ttotal: 24.7s\tremaining: 37s\n",
            "700:\ttest: 0.4693795\tbest: 0.4693795 (700)\ttotal: 29.2s\tremaining: 33.3s\n",
            "800:\ttest: 0.4716323\tbest: 0.4716477 (794)\ttotal: 33.1s\tremaining: 28.9s\n",
            "900:\ttest: 0.4746793\tbest: 0.4746793 (900)\ttotal: 36.9s\tremaining: 24.5s\n",
            "1000:\ttest: 0.4764236\tbest: 0.4764236 (1000)\ttotal: 41.4s\tremaining: 20.6s\n",
            "1100:\ttest: 0.4785736\tbest: 0.4786102 (1098)\ttotal: 45.2s\tremaining: 16.4s\n",
            "1200:\ttest: 0.4803339\tbest: 0.4804416 (1198)\ttotal: 49s\tremaining: 12.2s\n",
            "1300:\ttest: 0.4816686\tbest: 0.4816686 (1300)\ttotal: 53.6s\tremaining: 8.2s\n",
            "1400:\ttest: 0.4830438\tbest: 0.4831129 (1399)\ttotal: 57.4s\tremaining: 4.06s\n",
            "1499:\ttest: 0.4839159\tbest: 0.4840422 (1474)\ttotal: 1m 1s\tremaining: 0us\n",
            "bestTest = 0.4840422308\n",
            "bestIteration = 1474\n",
            "Shrink model to first 1475 iterations.\n"
          ]
        },
        {
          "metadata": {
            "tags": null
          },
          "name": "stderr",
          "output_type": "stream",
          "text": [
            "Default metric period is 5 because NDCG is/are not implemented for GPU\n",
            "Metric NDCG:type=Base is not implemented on GPU. Will use CPU for metric computation, this could significantly affect learning time\n",
            "Metric NDCG:top=10;type=Exp is not implemented on GPU. Will use CPU for metric computation, this could significantly affect learning time\n"
          ]
        },
        {
          "metadata": {
            "tags": null
          },
          "name": "stdout",
          "output_type": "stream",
          "text": [
            "0:\ttest: 0.2341477\tbest: 0.2341477 (0)\ttotal: 84.1ms\tremaining: 2m 6s\n",
            "100:\ttest: 0.4060686\tbest: 0.4061477 (99)\ttotal: 3.98s\tremaining: 55.1s\n",
            "200:\ttest: 0.4393966\tbest: 0.4393966 (200)\ttotal: 7.76s\tremaining: 50.1s\n",
            "300:\ttest: 0.4516535\tbest: 0.4521747 (298)\ttotal: 12.3s\tremaining: 49.2s\n",
            "400:\ttest: 0.4577823\tbest: 0.4577823 (400)\ttotal: 16.1s\tremaining: 44.2s\n",
            "500:\ttest: 0.4617913\tbest: 0.4617913 (500)\ttotal: 19.9s\tremaining: 39.6s\n",
            "600:\ttest: 0.4655181\tbest: 0.4655967 (597)\ttotal: 24.5s\tremaining: 36.6s\n",
            "700:\ttest: 0.4684143\tbest: 0.4684143 (700)\ttotal: 28.3s\tremaining: 32.2s\n",
            "800:\ttest: 0.4719067\tbest: 0.4719067 (800)\ttotal: 32s\tremaining: 27.9s\n",
            "900:\ttest: 0.4738979\tbest: 0.4741330 (894)\ttotal: 36.6s\tremaining: 24.4s\n",
            "1000:\ttest: 0.4763962\tbest: 0.4763962 (1000)\ttotal: 40.4s\tremaining: 20.1s\n",
            "1100:\ttest: 0.4783984\tbest: 0.4784407 (1097)\ttotal: 44.2s\tremaining: 16s\n",
            "1200:\ttest: 0.4802066\tbest: 0.4803668 (1197)\ttotal: 48.7s\tremaining: 12.1s\n",
            "1300:\ttest: 0.4813863\tbest: 0.4815560 (1287)\ttotal: 52.4s\tremaining: 8.02s\n",
            "1400:\ttest: 0.4825700\tbest: 0.4825751 (1399)\ttotal: 56.2s\tremaining: 3.97s\n",
            "1499:\ttest: 0.4838415\tbest: 0.4838432 (1498)\ttotal: 1m\tremaining: 0us\n",
            "bestTest = 0.483843224\n",
            "bestIteration = 1498\n",
            "Shrink model to first 1499 iterations.\n"
          ]
        },
        {
          "metadata": {
            "tags": null
          },
          "name": "stderr",
          "output_type": "stream",
          "text": [
            "Default metric period is 5 because NDCG is/are not implemented for GPU\n",
            "Metric NDCG:type=Base is not implemented on GPU. Will use CPU for metric computation, this could significantly affect learning time\n",
            "Metric NDCG:top=10;type=Exp is not implemented on GPU. Will use CPU for metric computation, this could significantly affect learning time\n"
          ]
        },
        {
          "metadata": {
            "tags": null
          },
          "name": "stdout",
          "output_type": "stream",
          "text": [
            "0:\ttest: 0.2424807\tbest: 0.2424807 (0)\ttotal: 90.7ms\tremaining: 2m 15s\n",
            "100:\ttest: 0.4359413\tbest: 0.4359413 (100)\ttotal: 4.95s\tremaining: 1m 8s\n",
            "200:\ttest: 0.4567747\tbest: 0.4570518 (199)\ttotal: 9.26s\tremaining: 59.8s\n",
            "300:\ttest: 0.4666051\tbest: 0.4666051 (300)\ttotal: 13.4s\tremaining: 53.3s\n",
            "400:\ttest: 0.4732696\tbest: 0.4733755 (399)\ttotal: 18.4s\tremaining: 50.3s\n",
            "500:\ttest: 0.4784955\tbest: 0.4784955 (500)\ttotal: 22.4s\tremaining: 44.8s\n",
            "600:\ttest: 0.4828024\tbest: 0.4828024 (600)\ttotal: 26.5s\tremaining: 39.7s\n",
            "700:\ttest: 0.4853705\tbest: 0.4853849 (694)\ttotal: 31.4s\tremaining: 35.8s\n",
            "800:\ttest: 0.4874373\tbest: 0.4875220 (798)\ttotal: 35.5s\tremaining: 31s\n",
            "900:\ttest: 0.4893578\tbest: 0.4893578 (900)\ttotal: 39.6s\tremaining: 26.3s\n",
            "1000:\ttest: 0.4908161\tbest: 0.4909039 (976)\ttotal: 44.6s\tremaining: 22.2s\n",
            "1100:\ttest: 0.4931412\tbest: 0.4931412 (1100)\ttotal: 48.7s\tremaining: 17.6s\n",
            "1200:\ttest: 0.4944405\tbest: 0.4944993 (1181)\ttotal: 53.4s\tremaining: 13.3s\n",
            "1300:\ttest: 0.4951365\tbest: 0.4952393 (1289)\ttotal: 57.7s\tremaining: 8.83s\n",
            "1400:\ttest: 0.4961256\tbest: 0.4962718 (1394)\ttotal: 1m 1s\tremaining: 4.37s\n",
            "1499:\ttest: 0.4972223\tbest: 0.4973588 (1486)\ttotal: 1m 6s\tremaining: 0us\n",
            "bestTest = 0.4973588206\n",
            "bestIteration = 1486\n",
            "Shrink model to first 1487 iterations.\n"
          ]
        },
        {
          "metadata": {
            "tags": null
          },
          "name": "stderr",
          "output_type": "stream",
          "text": [
            "Default metric period is 5 because NDCG is/are not implemented for GPU\n",
            "Metric NDCG:type=Base is not implemented on GPU. Will use CPU for metric computation, this could significantly affect learning time\n",
            "Metric NDCG:top=10;type=Exp is not implemented on GPU. Will use CPU for metric computation, this could significantly affect learning time\n"
          ]
        },
        {
          "metadata": {
            "tags": null
          },
          "name": "stdout",
          "output_type": "stream",
          "text": [
            "0:\ttest: 0.2424571\tbest: 0.2424571 (0)\ttotal: 96.3ms\tremaining: 2m 24s\n",
            "100:\ttest: 0.4360308\tbest: 0.4360308 (100)\ttotal: 4.46s\tremaining: 1m 1s\n",
            "200:\ttest: 0.4559018\tbest: 0.4565250 (197)\ttotal: 9.36s\tremaining: 1m\n",
            "300:\ttest: 0.4654099\tbest: 0.4654629 (289)\ttotal: 13.5s\tremaining: 53.6s\n",
            "400:\ttest: 0.4727279\tbest: 0.4728582 (399)\ttotal: 18.5s\tremaining: 50.7s\n",
            "500:\ttest: 0.4782302\tbest: 0.4782302 (500)\ttotal: 22.6s\tremaining: 45.1s\n",
            "600:\ttest: 0.4825276\tbest: 0.4825700 (598)\ttotal: 26.7s\tremaining: 40s\n",
            "700:\ttest: 0.4858159\tbest: 0.4858474 (696)\ttotal: 31.7s\tremaining: 36.1s\n",
            "800:\ttest: 0.4876450\tbest: 0.4877112 (785)\ttotal: 35.8s\tremaining: 31.2s\n",
            "900:\ttest: 0.4895175\tbest: 0.4896543 (898)\ttotal: 39.8s\tremaining: 26.5s\n",
            "1000:\ttest: 0.4905905\tbest: 0.4906565 (971)\ttotal: 44.8s\tremaining: 22.3s\n",
            "1100:\ttest: 0.4928838\tbest: 0.4928838 (1100)\ttotal: 49s\tremaining: 17.7s\n",
            "1200:\ttest: 0.4943634\tbest: 0.4944470 (1189)\ttotal: 53.3s\tremaining: 13.3s\n",
            "1300:\ttest: 0.4957194\tbest: 0.4959555 (1290)\ttotal: 58s\tremaining: 8.87s\n",
            "1400:\ttest: 0.4966436\tbest: 0.4966436 (1400)\ttotal: 1m 2s\tremaining: 4.39s\n",
            "1499:\ttest: 0.4975678\tbest: 0.4976609 (1493)\ttotal: 1m 6s\tremaining: 0us\n",
            "bestTest = 0.4976608641\n",
            "bestIteration = 1493\n",
            "Shrink model to first 1494 iterations.\n"
          ]
        },
        {
          "metadata": {
            "tags": null
          },
          "name": "stderr",
          "output_type": "stream",
          "text": [
            "Default metric period is 5 because NDCG is/are not implemented for GPU\n",
            "Metric NDCG:type=Base is not implemented on GPU. Will use CPU for metric computation, this could significantly affect learning time\n",
            "Metric NDCG:top=10;type=Exp is not implemented on GPU. Will use CPU for metric computation, this could significantly affect learning time\n"
          ]
        },
        {
          "output_type": "stream",
          "name": "stdout",
          "text": [
            "0:\ttest: 0.2424583\tbest: 0.2424583 (0)\ttotal: 94.4ms\tremaining: 2m 21s\n",
            "100:\ttest: 0.4359327\tbest: 0.4359327 (100)\ttotal: 4.36s\tremaining: 1m\n",
            "200:\ttest: 0.4563490\tbest: 0.4566438 (199)\ttotal: 9.38s\tremaining: 1m\n",
            "300:\ttest: 0.4658494\tbest: 0.4658494 (300)\ttotal: 13.5s\tremaining: 53.8s\n",
            "400:\ttest: 0.4732048\tbest: 0.4733656 (398)\ttotal: 18.1s\tremaining: 49.5s\n",
            "500:\ttest: 0.4773650\tbest: 0.4775637 (489)\ttotal: 22.6s\tremaining: 45s\n",
            "600:\ttest: 0.4825463\tbest: 0.4825463 (600)\ttotal: 26.8s\tremaining: 40s\n",
            "700:\ttest: 0.4859721\tbest: 0.4859721 (700)\ttotal: 31.7s\tremaining: 36.2s\n",
            "800:\ttest: 0.4881726\tbest: 0.4881968 (795)\ttotal: 35.8s\tremaining: 31.3s\n",
            "900:\ttest: 0.4894344\tbest: 0.4896845 (891)\ttotal: 39.9s\tremaining: 26.5s\n",
            "1000:\ttest: 0.4919220\tbest: 0.4919220 (1000)\ttotal: 44.9s\tremaining: 22.4s\n",
            "1100:\ttest: 0.4934498\tbest: 0.4934498 (1100)\ttotal: 48.9s\tremaining: 17.7s\n",
            "1200:\ttest: 0.4945822\tbest: 0.4947041 (1188)\ttotal: 53s\tremaining: 13.2s\n",
            "1300:\ttest: 0.4956654\tbest: 0.4957004 (1299)\ttotal: 57.9s\tremaining: 8.86s\n",
            "1400:\ttest: 0.4967676\tbest: 0.4967676 (1400)\ttotal: 1m 1s\tremaining: 4.38s\n",
            "1499:\ttest: 0.4974017\tbest: 0.4975721 (1478)\ttotal: 1m 6s\tremaining: 0us\n",
            "bestTest = 0.4975721283\n",
            "bestIteration = 1478\n",
            "Shrink model to first 1479 iterations.\n"
          ]
        },
        {
          "output_type": "stream",
          "name": "stderr",
          "text": [
            "Default metric period is 5 because NDCG is/are not implemented for GPU\n",
            "Metric NDCG:type=Base is not implemented on GPU. Will use CPU for metric computation, this could significantly affect learning time\n",
            "Metric NDCG:top=10;type=Exp is not implemented on GPU. Will use CPU for metric computation, this could significantly affect learning time\n"
          ]
        },
        {
          "output_type": "stream",
          "name": "stdout",
          "text": [
            "0:\ttest: 0.2424627\tbest: 0.2424627 (0)\ttotal: 99.3ms\tremaining: 2m 28s\n",
            "100:\ttest: 0.4358637\tbest: 0.4358637 (100)\ttotal: 4.29s\tremaining: 59.5s\n",
            "200:\ttest: 0.4562526\tbest: 0.4563365 (197)\ttotal: 9.22s\tremaining: 59.6s\n",
            "300:\ttest: 0.4654138\tbest: 0.4655290 (299)\ttotal: 13.3s\tremaining: 53.1s\n",
            "400:\ttest: 0.4724543\tbest: 0.4724543 (400)\ttotal: 17.4s\tremaining: 47.8s\n",
            "500:\ttest: 0.4772553\tbest: 0.4772638 (496)\ttotal: 22.4s\tremaining: 44.7s\n",
            "600:\ttest: 0.4828032\tbest: 0.4830574 (587)\ttotal: 26.6s\tremaining: 39.7s\n",
            "700:\ttest: 0.4857598\tbest: 0.4858409 (696)\ttotal: 31.1s\tremaining: 35.4s\n",
            "800:\ttest: 0.4884488\tbest: 0.4884488 (800)\ttotal: 35.6s\tremaining: 31.1s\n",
            "900:\ttest: 0.4897025\tbest: 0.4898154 (899)\ttotal: 39.7s\tremaining: 26.4s\n",
            "1000:\ttest: 0.4913122\tbest: 0.4913122 (1000)\ttotal: 44.7s\tremaining: 22.3s\n",
            "1100:\ttest: 0.4933575\tbest: 0.4933575 (1100)\ttotal: 48.8s\tremaining: 17.7s\n",
            "1200:\ttest: 0.4944213\tbest: 0.4946016 (1197)\ttotal: 52.9s\tremaining: 13.2s\n",
            "1300:\ttest: 0.4951908\tbest: 0.4953014 (1288)\ttotal: 57.9s\tremaining: 8.86s\n",
            "1400:\ttest: 0.4961162\tbest: 0.4961162 (1400)\ttotal: 1m 1s\tremaining: 4.38s\n",
            "1499:\ttest: 0.4965672\tbest: 0.4966064 (1467)\ttotal: 1m 5s\tremaining: 0us\n",
            "bestTest = 0.4966063967\n",
            "bestIteration = 1467\n",
            "Shrink model to first 1468 iterations.\n"
          ]
        },
        {
          "output_type": "stream",
          "name": "stderr",
          "text": [
            "Default metric period is 5 because NDCG is/are not implemented for GPU\n",
            "Metric NDCG:type=Base is not implemented on GPU. Will use CPU for metric computation, this could significantly affect learning time\n",
            "Metric NDCG:top=10;type=Exp is not implemented on GPU. Will use CPU for metric computation, this could significantly affect learning time\n"
          ]
        },
        {
          "output_type": "stream",
          "name": "stdout",
          "text": [
            "0:\ttest: 0.2424627\tbest: 0.2424627 (0)\ttotal: 101ms\tremaining: 2m 30s\n",
            "100:\ttest: 0.4342983\tbest: 0.4342983 (100)\ttotal: 4.41s\tremaining: 1m 1s\n",
            "200:\ttest: 0.4552764\tbest: 0.4552764 (200)\ttotal: 9.42s\tremaining: 1m\n",
            "300:\ttest: 0.4644860\tbest: 0.4645600 (299)\ttotal: 13.5s\tremaining: 53.9s\n",
            "400:\ttest: 0.4716034\tbest: 0.4719312 (398)\ttotal: 17.7s\tremaining: 48.4s\n",
            "500:\ttest: 0.4772173\tbest: 0.4773623 (498)\ttotal: 22.5s\tremaining: 45s\n",
            "600:\ttest: 0.4805374\tbest: 0.4807653 (591)\ttotal: 26.6s\tremaining: 39.9s\n",
            "700:\ttest: 0.4842585\tbest: 0.4842661 (699)\ttotal: 30.7s\tremaining: 35s\n",
            "800:\ttest: 0.4867637\tbest: 0.4868091 (790)\ttotal: 35.7s\tremaining: 31.2s\n",
            "900:\ttest: 0.4891751\tbest: 0.4892113 (898)\ttotal: 39.8s\tremaining: 26.5s\n",
            "1000:\ttest: 0.4904132\tbest: 0.4904141 (997)\ttotal: 44.3s\tremaining: 22.1s\n",
            "1100:\ttest: 0.4917156\tbest: 0.4917156 (1100)\ttotal: 48.8s\tremaining: 17.7s\n",
            "1200:\ttest: 0.4932559\tbest: 0.4934121 (1198)\ttotal: 52.9s\tremaining: 13.2s\n",
            "1300:\ttest: 0.4943027\tbest: 0.4943027 (1300)\ttotal: 57.8s\tremaining: 8.84s\n",
            "1400:\ttest: 0.4955657\tbest: 0.4955657 (1400)\ttotal: 1m 1s\tremaining: 4.37s\n",
            "1499:\ttest: 0.4959275\tbest: 0.4962701 (1485)\ttotal: 1m 5s\tremaining: 0us\n",
            "bestTest = 0.4962701033\n",
            "bestIteration = 1485\n",
            "Shrink model to first 1486 iterations.\n"
          ]
        },
        {
          "output_type": "stream",
          "name": "stderr",
          "text": [
            "Default metric period is 5 because NDCG is/are not implemented for GPU\n",
            "Metric NDCG:type=Base is not implemented on GPU. Will use CPU for metric computation, this could significantly affect learning time\n",
            "Metric NDCG:top=10;type=Exp is not implemented on GPU. Will use CPU for metric computation, this could significantly affect learning time\n"
          ]
        },
        {
          "output_type": "stream",
          "name": "stdout",
          "text": [
            "0:\ttest: 0.3183135\tbest: 0.3183135 (0)\ttotal: 104ms\tremaining: 2m 35s\n",
            "100:\ttest: 0.4498044\tbest: 0.4498044 (100)\ttotal: 4.79s\tremaining: 1m 6s\n",
            "200:\ttest: 0.4673481\tbest: 0.4674380 (199)\ttotal: 10.2s\tremaining: 1m 6s\n",
            "300:\ttest: 0.4794524\tbest: 0.4794898 (299)\ttotal: 14.9s\tremaining: 59.2s\n",
            "400:\ttest: 0.4857422\tbest: 0.4857530 (398)\ttotal: 19.4s\tremaining: 53.2s\n",
            "500:\ttest: 0.4902866\tbest: 0.4905073 (491)\ttotal: 24.9s\tremaining: 49.6s\n",
            "600:\ttest: 0.4938470\tbest: 0.4938470 (600)\ttotal: 29.4s\tremaining: 44s\n",
            "700:\ttest: 0.4954548\tbest: 0.4955253 (699)\ttotal: 34.8s\tremaining: 39.7s\n",
            "800:\ttest: 0.4972830\tbest: 0.4974955 (791)\ttotal: 39.3s\tremaining: 34.3s\n",
            "900:\ttest: 0.4992584\tbest: 0.4994324 (883)\ttotal: 43.8s\tremaining: 29.2s\n",
            "1000:\ttest: 0.5005404\tbest: 0.5005926 (994)\ttotal: 49.2s\tremaining: 24.5s\n",
            "1100:\ttest: 0.5010752\tbest: 0.5010775 (1073)\ttotal: 53.7s\tremaining: 19.5s\n",
            "1200:\ttest: 0.5019629\tbest: 0.5020026 (1199)\ttotal: 59.1s\tremaining: 14.7s\n",
            "1300:\ttest: 0.5024670\tbest: 0.5029780 (1277)\ttotal: 1m 3s\tremaining: 9.73s\n",
            "1400:\ttest: 0.5035681\tbest: 0.5037449 (1387)\ttotal: 1m 8s\tremaining: 4.82s\n",
            "1499:\ttest: 0.5044556\tbest: 0.5044876 (1489)\ttotal: 1m 13s\tremaining: 0us\n",
            "bestTest = 0.5044876301\n",
            "bestIteration = 1489\n",
            "Shrink model to first 1490 iterations.\n"
          ]
        },
        {
          "output_type": "stream",
          "name": "stderr",
          "text": [
            "Default metric period is 5 because NDCG is/are not implemented for GPU\n",
            "Metric NDCG:type=Base is not implemented on GPU. Will use CPU for metric computation, this could significantly affect learning time\n",
            "Metric NDCG:top=10;type=Exp is not implemented on GPU. Will use CPU for metric computation, this could significantly affect learning time\n"
          ]
        },
        {
          "output_type": "stream",
          "name": "stdout",
          "text": [
            "0:\ttest: 0.3177237\tbest: 0.3177237 (0)\ttotal: 100ms\tremaining: 2m 30s\n",
            "100:\ttest: 0.4497467\tbest: 0.4497467 (100)\ttotal: 5.69s\tremaining: 1m 18s\n",
            "200:\ttest: 0.4674534\tbest: 0.4674534 (200)\ttotal: 10.2s\tremaining: 1m 6s\n",
            "300:\ttest: 0.4776281\tbest: 0.4776762 (299)\ttotal: 15.3s\tremaining: 1m 1s\n",
            "400:\ttest: 0.4854254\tbest: 0.4856147 (398)\ttotal: 20.3s\tremaining: 55.6s\n",
            "500:\ttest: 0.4907767\tbest: 0.4908253 (497)\ttotal: 24.8s\tremaining: 49.5s\n",
            "600:\ttest: 0.4943936\tbest: 0.4943936 (600)\ttotal: 30.3s\tremaining: 45.3s\n",
            "700:\ttest: 0.4969850\tbest: 0.4969850 (700)\ttotal: 34.8s\tremaining: 39.7s\n",
            "800:\ttest: 0.4982267\tbest: 0.4982267 (800)\ttotal: 40s\tremaining: 34.9s\n",
            "900:\ttest: 0.4996052\tbest: 0.4996465 (883)\ttotal: 44.7s\tremaining: 29.7s\n",
            "1000:\ttest: 0.5001533\tbest: 0.5003272 (985)\ttotal: 49.3s\tremaining: 24.6s\n",
            "1100:\ttest: 0.5017209\tbest: 0.5020774 (1092)\ttotal: 54.6s\tremaining: 19.8s\n",
            "1200:\ttest: 0.5018730\tbest: 0.5020774 (1092)\ttotal: 59.1s\tremaining: 14.7s\n",
            "1300:\ttest: 0.5029366\tbest: 0.5029907 (1284)\ttotal: 1m 4s\tremaining: 9.87s\n",
            "1400:\ttest: 0.5039046\tbest: 0.5039209 (1397)\ttotal: 1m 9s\tremaining: 4.88s\n",
            "1499:\ttest: 0.5046590\tbest: 0.5046590 (1499)\ttotal: 1m 13s\tremaining: 0us\n",
            "bestTest = 0.5046590052\n",
            "bestIteration = 1499\n"
          ]
        },
        {
          "output_type": "stream",
          "name": "stderr",
          "text": [
            "Default metric period is 5 because NDCG is/are not implemented for GPU\n",
            "Metric NDCG:type=Base is not implemented on GPU. Will use CPU for metric computation, this could significantly affect learning time\n",
            "Metric NDCG:top=10;type=Exp is not implemented on GPU. Will use CPU for metric computation, this could significantly affect learning time\n"
          ]
        },
        {
          "output_type": "stream",
          "name": "stdout",
          "text": [
            "0:\ttest: 0.3174518\tbest: 0.3174518 (0)\ttotal: 101ms\tremaining: 2m 31s\n",
            "100:\ttest: 0.4475750\tbest: 0.4478813 (99)\ttotal: 4.77s\tremaining: 1m 6s\n",
            "200:\ttest: 0.4657062\tbest: 0.4658366 (199)\ttotal: 10.2s\tremaining: 1m 6s\n",
            "300:\ttest: 0.4777040\tbest: 0.4777040 (300)\ttotal: 14.8s\tremaining: 59s\n",
            "400:\ttest: 0.4846168\tbest: 0.4846242 (398)\ttotal: 19.4s\tremaining: 53.1s\n",
            "500:\ttest: 0.4900361\tbest: 0.4900361 (500)\ttotal: 24.8s\tremaining: 49.4s\n",
            "600:\ttest: 0.4926345\tbest: 0.4926725 (592)\ttotal: 29.3s\tremaining: 43.9s\n",
            "700:\ttest: 0.4949384\tbest: 0.4949624 (699)\ttotal: 34.7s\tremaining: 39.6s\n",
            "800:\ttest: 0.4967202\tbest: 0.4967498 (798)\ttotal: 39.3s\tremaining: 34.3s\n",
            "900:\ttest: 0.4982600\tbest: 0.4985200 (895)\ttotal: 43.8s\tremaining: 29.1s\n",
            "1000:\ttest: 0.4995896\tbest: 0.4995896 (1000)\ttotal: 49.2s\tremaining: 24.5s\n",
            "1100:\ttest: 0.5004807\tbest: 0.5007396 (1066)\ttotal: 53.7s\tremaining: 19.5s\n",
            "1200:\ttest: 0.5013617\tbest: 0.5013617 (1200)\ttotal: 59.1s\tremaining: 14.7s\n",
            "1300:\ttest: 0.5021256\tbest: 0.5021256 (1300)\ttotal: 1m 3s\tremaining: 9.73s\n",
            "1400:\ttest: 0.5026058\tbest: 0.5027108 (1385)\ttotal: 1m 8s\tremaining: 4.81s\n",
            "1499:\ttest: 0.5039119\tbest: 0.5039787 (1498)\ttotal: 1m 13s\tremaining: 0us\n",
            "bestTest = 0.5039787144\n",
            "bestIteration = 1498\n",
            "Shrink model to first 1499 iterations.\n"
          ]
        },
        {
          "output_type": "stream",
          "name": "stderr",
          "text": [
            "Default metric period is 5 because NDCG is/are not implemented for GPU\n",
            "Metric NDCG:type=Base is not implemented on GPU. Will use CPU for metric computation, this could significantly affect learning time\n",
            "Metric NDCG:top=10;type=Exp is not implemented on GPU. Will use CPU for metric computation, this could significantly affect learning time\n"
          ]
        },
        {
          "output_type": "stream",
          "name": "stdout",
          "text": [
            "0:\ttest: 0.3167188\tbest: 0.3167188 (0)\ttotal: 100ms\tremaining: 2m 30s\n",
            "100:\ttest: 0.4485708\tbest: 0.4485788 (99)\ttotal: 5.72s\tremaining: 1m 19s\n",
            "200:\ttest: 0.4656727\tbest: 0.4656727 (200)\ttotal: 10.3s\tremaining: 1m 6s\n",
            "300:\ttest: 0.4770329\tbest: 0.4770329 (300)\ttotal: 15.7s\tremaining: 1m 2s\n",
            "400:\ttest: 0.4844562\tbest: 0.4844562 (400)\ttotal: 20.3s\tremaining: 55.6s\n",
            "500:\ttest: 0.4896026\tbest: 0.4896026 (500)\ttotal: 24.8s\tremaining: 49.5s\n",
            "600:\ttest: 0.4925726\tbest: 0.4925759 (599)\ttotal: 30.2s\tremaining: 45.2s\n",
            "700:\ttest: 0.4942222\tbest: 0.4942222 (700)\ttotal: 34.7s\tremaining: 39.6s\n",
            "800:\ttest: 0.4966415\tbest: 0.4968181 (795)\ttotal: 40.2s\tremaining: 35.1s\n",
            "900:\ttest: 0.4982404\tbest: 0.4982404 (900)\ttotal: 44.7s\tremaining: 29.7s\n",
            "1000:\ttest: 0.4994932\tbest: 0.4997213 (986)\ttotal: 49.2s\tremaining: 24.5s\n",
            "1100:\ttest: 0.5003982\tbest: 0.5003982 (1100)\ttotal: 54.5s\tremaining: 19.8s\n",
            "1200:\ttest: 0.5011755\tbest: 0.5012860 (1195)\ttotal: 59s\tremaining: 14.7s\n",
            "1300:\ttest: 0.5024913\tbest: 0.5024913 (1300)\ttotal: 1m 4s\tremaining: 9.85s\n",
            "1400:\ttest: 0.5030937\tbest: 0.5032174 (1370)\ttotal: 1m 8s\tremaining: 4.87s\n",
            "1499:\ttest: 0.5037272\tbest: 0.5038919 (1497)\ttotal: 1m 13s\tremaining: 0us\n",
            "bestTest = 0.5038918862\n",
            "bestIteration = 1497\n",
            "Shrink model to first 1498 iterations.\n"
          ]
        },
        {
          "output_type": "stream",
          "name": "stderr",
          "text": [
            "Default metric period is 5 because NDCG is/are not implemented for GPU\n",
            "Metric NDCG:type=Base is not implemented on GPU. Will use CPU for metric computation, this could significantly affect learning time\n",
            "Metric NDCG:top=10;type=Exp is not implemented on GPU. Will use CPU for metric computation, this could significantly affect learning time\n"
          ]
        },
        {
          "output_type": "stream",
          "name": "stdout",
          "text": [
            "0:\ttest: 0.3151338\tbest: 0.3151338 (0)\ttotal: 101ms\tremaining: 2m 30s\n",
            "100:\ttest: 0.4463188\tbest: 0.4463188 (100)\ttotal: 4.79s\tremaining: 1m 6s\n",
            "200:\ttest: 0.4646387\tbest: 0.4646387 (200)\ttotal: 10.3s\tremaining: 1m 6s\n",
            "300:\ttest: 0.4754877\tbest: 0.4754877 (300)\ttotal: 14.9s\tremaining: 59.3s\n",
            "400:\ttest: 0.4827908\tbest: 0.4828872 (399)\ttotal: 20s\tremaining: 54.9s\n",
            "500:\ttest: 0.4878965\tbest: 0.4880825 (496)\ttotal: 24.9s\tremaining: 49.7s\n",
            "600:\ttest: 0.4922643\tbest: 0.4922643 (600)\ttotal: 29.5s\tremaining: 44.1s\n",
            "700:\ttest: 0.4937296\tbest: 0.4939555 (690)\ttotal: 34.8s\tremaining: 39.7s\n",
            "800:\ttest: 0.4957944\tbest: 0.4958073 (799)\ttotal: 39.4s\tremaining: 34.4s\n",
            "900:\ttest: 0.4975731\tbest: 0.4975731 (900)\ttotal: 44.5s\tremaining: 29.6s\n",
            "1000:\ttest: 0.4985911\tbest: 0.4985911 (1000)\ttotal: 49.2s\tremaining: 24.5s\n",
            "1100:\ttest: 0.4992270\tbest: 0.4993865 (1075)\ttotal: 53.8s\tremaining: 19.5s\n",
            "1200:\ttest: 0.5005475\tbest: 0.5006849 (1198)\ttotal: 59.2s\tremaining: 14.7s\n",
            "1300:\ttest: 0.5017274\tbest: 0.5017274 (1300)\ttotal: 1m 3s\tremaining: 9.74s\n",
            "1400:\ttest: 0.5019441\tbest: 0.5022601 (1387)\ttotal: 1m 8s\tremaining: 4.87s\n",
            "1499:\ttest: 0.5031258\tbest: 0.5031520 (1498)\ttotal: 1m 13s\tremaining: 0us\n",
            "bestTest = 0.5031520418\n",
            "bestIteration = 1498\n",
            "Shrink model to first 1499 iterations.\n"
          ]
        },
        {
          "output_type": "stream",
          "name": "stderr",
          "text": [
            "Default metric period is 5 because NDCG is/are not implemented for GPU\n",
            "Metric NDCG:type=Base is not implemented on GPU. Will use CPU for metric computation, this could significantly affect learning time\n",
            "Metric NDCG:top=10;type=Exp is not implemented on GPU. Will use CPU for metric computation, this could significantly affect learning time\n"
          ]
        },
        {
          "output_type": "stream",
          "name": "stdout",
          "text": [
            "0:\ttest: 0.3279862\tbest: 0.3279862 (0)\ttotal: 121ms\tremaining: 3m 2s\n",
            "100:\ttest: 0.4591744\tbest: 0.4591744 (100)\ttotal: 6.61s\tremaining: 1m 31s\n",
            "200:\ttest: 0.4761302\tbest: 0.4762394 (199)\ttotal: 12.1s\tremaining: 1m 17s\n",
            "300:\ttest: 0.4868084\tbest: 0.4868208 (299)\ttotal: 18.3s\tremaining: 1m 12s\n",
            "400:\ttest: 0.4923011\tbest: 0.4923011 (400)\ttotal: 23.7s\tremaining: 1m 4s\n",
            "500:\ttest: 0.4962836\tbest: 0.4963343 (498)\ttotal: 30s\tremaining: 59.8s\n",
            "600:\ttest: 0.4995530\tbest: 0.4995530 (600)\ttotal: 35.4s\tremaining: 52.9s\n",
            "700:\ttest: 0.5012426\tbest: 0.5013771 (696)\ttotal: 41.6s\tremaining: 47.4s\n",
            "800:\ttest: 0.5030998\tbest: 0.5031473 (797)\ttotal: 46.9s\tremaining: 40.9s\n",
            "900:\ttest: 0.5050516\tbest: 0.5051698 (893)\ttotal: 53.2s\tremaining: 35.3s\n",
            "1000:\ttest: 0.5055398\tbest: 0.5055883 (990)\ttotal: 58.5s\tremaining: 29.1s\n",
            "1100:\ttest: 0.5067186\tbest: 0.5068353 (1096)\ttotal: 1m 4s\tremaining: 23.4s\n",
            "1200:\ttest: 0.5079764\tbest: 0.5079764 (1200)\ttotal: 1m 9s\tremaining: 17.4s\n",
            "1300:\ttest: 0.5084401\tbest: 0.5085929 (1287)\ttotal: 1m 16s\tremaining: 11.7s\n",
            "1400:\ttest: 0.5090813\tbest: 0.5091014 (1378)\ttotal: 1m 21s\tremaining: 5.76s\n",
            "1499:\ttest: 0.5095682\tbest: 0.5095682 (1499)\ttotal: 1m 27s\tremaining: 0us\n",
            "bestTest = 0.5095681657\n",
            "bestIteration = 1499\n"
          ]
        },
        {
          "output_type": "stream",
          "name": "stderr",
          "text": [
            "Default metric period is 5 because NDCG is/are not implemented for GPU\n",
            "Metric NDCG:type=Base is not implemented on GPU. Will use CPU for metric computation, this could significantly affect learning time\n",
            "Metric NDCG:top=10;type=Exp is not implemented on GPU. Will use CPU for metric computation, this could significantly affect learning time\n"
          ]
        },
        {
          "output_type": "stream",
          "name": "stdout",
          "text": [
            "0:\ttest: 0.3260811\tbest: 0.3260811 (0)\ttotal: 117ms\tremaining: 2m 54s\n",
            "100:\ttest: 0.4562195\tbest: 0.4563172 (99)\ttotal: 6.56s\tremaining: 1m 30s\n",
            "200:\ttest: 0.4744075\tbest: 0.4744075 (200)\ttotal: 12s\tremaining: 1m 17s\n",
            "300:\ttest: 0.4862612\tbest: 0.4863631 (298)\ttotal: 18.3s\tremaining: 1m 12s\n",
            "400:\ttest: 0.4914013\tbest: 0.4914082 (372)\ttotal: 23.7s\tremaining: 1m 4s\n",
            "500:\ttest: 0.4946912\tbest: 0.4950292 (493)\ttotal: 30s\tremaining: 59.8s\n",
            "600:\ttest: 0.4983285\tbest: 0.4983285 (600)\ttotal: 35.4s\tremaining: 52.9s\n",
            "700:\ttest: 0.5000349\tbest: 0.5001030 (697)\ttotal: 41.6s\tremaining: 47.5s\n",
            "800:\ttest: 0.5020698\tbest: 0.5020724 (799)\ttotal: 47s\tremaining: 41s\n",
            "900:\ttest: 0.5035649\tbest: 0.5035884 (898)\ttotal: 53.2s\tremaining: 35.3s\n",
            "1000:\ttest: 0.5049724\tbest: 0.5050395 (997)\ttotal: 58.5s\tremaining: 29.2s\n",
            "1100:\ttest: 0.5062089\tbest: 0.5063714 (1078)\ttotal: 1m 4s\tremaining: 23.3s\n",
            "1200:\ttest: 0.5069907\tbest: 0.5071014 (1195)\ttotal: 1m 10s\tremaining: 17.4s\n",
            "1300:\ttest: 0.5080077\tbest: 0.5082070 (1299)\ttotal: 1m 15s\tremaining: 11.5s\n",
            "1400:\ttest: 0.5086513\tbest: 0.5086513 (1400)\ttotal: 1m 21s\tremaining: 5.77s\n",
            "1499:\ttest: 0.5088592\tbest: 0.5094379 (1476)\ttotal: 1m 26s\tremaining: 0us\n",
            "bestTest = 0.5094379212\n",
            "bestIteration = 1476\n",
            "Shrink model to first 1477 iterations.\n"
          ]
        },
        {
          "output_type": "stream",
          "name": "stderr",
          "text": [
            "Default metric period is 5 because NDCG is/are not implemented for GPU\n",
            "Metric NDCG:type=Base is not implemented on GPU. Will use CPU for metric computation, this could significantly affect learning time\n",
            "Metric NDCG:top=10;type=Exp is not implemented on GPU. Will use CPU for metric computation, this could significantly affect learning time\n"
          ]
        },
        {
          "output_type": "stream",
          "name": "stdout",
          "text": [
            "0:\ttest: 0.3238453\tbest: 0.3238453 (0)\ttotal: 118ms\tremaining: 2m 57s\n",
            "100:\ttest: 0.4548818\tbest: 0.4548818 (100)\ttotal: 5.68s\tremaining: 1m 18s\n",
            "200:\ttest: 0.4732126\tbest: 0.4732126 (200)\ttotal: 12s\tremaining: 1m 17s\n",
            "300:\ttest: 0.4841360\tbest: 0.4842678 (299)\ttotal: 17.4s\tremaining: 1m 9s\n",
            "400:\ttest: 0.4906915\tbest: 0.4906915 (400)\ttotal: 23.7s\tremaining: 1m 5s\n",
            "500:\ttest: 0.4953078\tbest: 0.4953078 (500)\ttotal: 29.2s\tremaining: 58.3s\n",
            "600:\ttest: 0.4973512\tbest: 0.4974020 (592)\ttotal: 35.5s\tremaining: 53.1s\n",
            "700:\ttest: 0.5000550\tbest: 0.5000550 (700)\ttotal: 40.8s\tremaining: 46.5s\n",
            "800:\ttest: 0.5019952\tbest: 0.5021935 (796)\ttotal: 47s\tremaining: 41s\n",
            "900:\ttest: 0.5032285\tbest: 0.5033227 (897)\ttotal: 52.3s\tremaining: 34.8s\n",
            "1000:\ttest: 0.5040335\tbest: 0.5040335 (1000)\ttotal: 58.5s\tremaining: 29.2s\n",
            "1100:\ttest: 0.5049600\tbest: 0.5052767 (1096)\ttotal: 1m 3s\tremaining: 23.1s\n",
            "1200:\ttest: 0.5054451\tbest: 0.5056450 (1170)\ttotal: 1m 10s\tremaining: 17.4s\n",
            "1300:\ttest: 0.5070439\tbest: 0.5071680 (1291)\ttotal: 1m 15s\tremaining: 11.5s\n",
            "1400:\ttest: 0.5080059\tbest: 0.5081188 (1373)\ttotal: 1m 21s\tremaining: 5.76s\n",
            "1499:\ttest: 0.5091857\tbest: 0.5091857 (1499)\ttotal: 1m 26s\tremaining: 0us\n",
            "bestTest = 0.5091857319\n",
            "bestIteration = 1499\n"
          ]
        },
        {
          "output_type": "stream",
          "name": "stderr",
          "text": [
            "Default metric period is 5 because NDCG is/are not implemented for GPU\n",
            "Metric NDCG:type=Base is not implemented on GPU. Will use CPU for metric computation, this could significantly affect learning time\n",
            "Metric NDCG:top=10;type=Exp is not implemented on GPU. Will use CPU for metric computation, this could significantly affect learning time\n"
          ]
        },
        {
          "output_type": "stream",
          "name": "stdout",
          "text": [
            "0:\ttest: 0.3307149\tbest: 0.3307149 (0)\ttotal: 117ms\tremaining: 2m 55s\n",
            "100:\ttest: 0.4530322\tbest: 0.4530322 (100)\ttotal: 5.67s\tremaining: 1m 18s\n",
            "200:\ttest: 0.4706860\tbest: 0.4706860 (200)\ttotal: 12s\tremaining: 1m 17s\n",
            "300:\ttest: 0.4818173\tbest: 0.4818959 (299)\ttotal: 17.5s\tremaining: 1m 9s\n",
            "400:\ttest: 0.4894230\tbest: 0.4894476 (395)\ttotal: 23.8s\tremaining: 1m 5s\n",
            "500:\ttest: 0.4935789\tbest: 0.4935789 (500)\ttotal: 29.2s\tremaining: 58.2s\n",
            "600:\ttest: 0.4958710\tbest: 0.4958710 (600)\ttotal: 35.5s\tremaining: 53s\n",
            "700:\ttest: 0.4987241\tbest: 0.4989054 (697)\ttotal: 40.8s\tremaining: 46.5s\n",
            "800:\ttest: 0.5006349\tbest: 0.5007460 (790)\ttotal: 46.8s\tremaining: 40.8s\n",
            "900:\ttest: 0.5017923\tbest: 0.5018741 (898)\ttotal: 52.3s\tremaining: 34.8s\n",
            "1000:\ttest: 0.5033158\tbest: 0.5034573 (999)\ttotal: 57.9s\tremaining: 28.8s\n",
            "1100:\ttest: 0.5044217\tbest: 0.5045034 (1096)\ttotal: 1m 3s\tremaining: 23.1s\n",
            "1200:\ttest: 0.5059034\tbest: 0.5059475 (1198)\ttotal: 1m 9s\tremaining: 17.2s\n",
            "1300:\ttest: 0.5067293\tbest: 0.5068137 (1293)\ttotal: 1m 15s\tremaining: 11.5s\n",
            "1400:\ttest: 0.5075790\tbest: 0.5076018 (1395)\ttotal: 1m 20s\tremaining: 5.7s\n",
            "1499:\ttest: 0.5078638\tbest: 0.5079676 (1447)\ttotal: 1m 26s\tremaining: 0us\n",
            "bestTest = 0.5079675648\n",
            "bestIteration = 1447\n",
            "Shrink model to first 1448 iterations.\n"
          ]
        },
        {
          "output_type": "stream",
          "name": "stderr",
          "text": [
            "Default metric period is 5 because NDCG is/are not implemented for GPU\n",
            "Metric NDCG:type=Base is not implemented on GPU. Will use CPU for metric computation, this could significantly affect learning time\n",
            "Metric NDCG:top=10;type=Exp is not implemented on GPU. Will use CPU for metric computation, this could significantly affect learning time\n"
          ]
        },
        {
          "output_type": "stream",
          "name": "stdout",
          "text": [
            "0:\ttest: 0.3294239\tbest: 0.3294239 (0)\ttotal: 122ms\tremaining: 3m 2s\n",
            "100:\ttest: 0.4523194\tbest: 0.4523194 (100)\ttotal: 6.58s\tremaining: 1m 31s\n",
            "200:\ttest: 0.4695599\tbest: 0.4695599 (200)\ttotal: 12s\tremaining: 1m 17s\n",
            "300:\ttest: 0.4799281\tbest: 0.4802119 (298)\ttotal: 18.3s\tremaining: 1m 12s\n",
            "400:\ttest: 0.4881903\tbest: 0.4881903 (400)\ttotal: 23.7s\tremaining: 1m 4s\n",
            "500:\ttest: 0.4923395\tbest: 0.4924686 (499)\ttotal: 30s\tremaining: 59.8s\n",
            "600:\ttest: 0.4959546\tbest: 0.4960471 (599)\ttotal: 35.4s\tremaining: 52.9s\n",
            "700:\ttest: 0.4974368\tbest: 0.4975465 (685)\ttotal: 41.6s\tremaining: 47.4s\n",
            "800:\ttest: 0.4993452\tbest: 0.4993452 (800)\ttotal: 46.9s\tremaining: 41s\n",
            "900:\ttest: 0.5001879\tbest: 0.5003076 (884)\ttotal: 53.1s\tremaining: 35.3s\n",
            "1000:\ttest: 0.5013755\tbest: 0.5015412 (972)\ttotal: 58.5s\tremaining: 29.2s\n",
            "1100:\ttest: 0.5025406\tbest: 0.5025946 (1098)\ttotal: 1m 4s\tremaining: 23.4s\n",
            "1200:\ttest: 0.5035533\tbest: 0.5036148 (1199)\ttotal: 1m 9s\tremaining: 17.4s\n",
            "1300:\ttest: 0.5046247\tbest: 0.5048044 (1293)\ttotal: 1m 16s\tremaining: 11.6s\n",
            "1400:\ttest: 0.5059379\tbest: 0.5059379 (1400)\ttotal: 1m 21s\tremaining: 5.76s\n",
            "1499:\ttest: 0.5069408\tbest: 0.5069575 (1498)\ttotal: 1m 27s\tremaining: 0us\n",
            "bestTest = 0.5069575123\n",
            "bestIteration = 1498\n",
            "Shrink model to first 1499 iterations.\n"
          ]
        },
        {
          "output_type": "stream",
          "name": "stderr",
          "text": [
            "Default metric period is 5 because NDCG is/are not implemented for GPU\n",
            "Metric NDCG:type=Base is not implemented on GPU. Will use CPU for metric computation, this could significantly affect learning time\n",
            "Metric NDCG:top=10;type=Exp is not implemented on GPU. Will use CPU for metric computation, this could significantly affect learning time\n"
          ]
        },
        {
          "output_type": "stream",
          "name": "stdout",
          "text": [
            "0:\ttest: 0.2341477\tbest: 0.2341477 (0)\ttotal: 82.9ms\tremaining: 2m 4s\n",
            "100:\ttest: 0.4406242\tbest: 0.4406242 (100)\ttotal: 4.27s\tremaining: 59.1s\n",
            "200:\ttest: 0.4568346\tbest: 0.4571981 (199)\ttotal: 8.53s\tremaining: 55.2s\n",
            "300:\ttest: 0.4658805\tbest: 0.4660638 (299)\ttotal: 12.3s\tremaining: 49.1s\n",
            "400:\ttest: 0.4718132\tbest: 0.4718868 (399)\ttotal: 16.4s\tremaining: 45s\n",
            "500:\ttest: 0.4759234\tbest: 0.4759488 (499)\ttotal: 20.7s\tremaining: 41.3s\n",
            "600:\ttest: 0.4796655\tbest: 0.4798684 (596)\ttotal: 24.5s\tremaining: 36.7s\n",
            "700:\ttest: 0.4827667\tbest: 0.4828421 (698)\ttotal: 28.6s\tremaining: 32.6s\n",
            "800:\ttest: 0.4852326\tbest: 0.4852838 (799)\ttotal: 32.9s\tremaining: 28.7s\n",
            "900:\ttest: 0.4873969\tbest: 0.4874956 (895)\ttotal: 36.6s\tremaining: 24.4s\n",
            "1000:\ttest: 0.4886024\tbest: 0.4886856 (992)\ttotal: 40.8s\tremaining: 20.3s\n",
            "1100:\ttest: 0.4900501\tbest: 0.4901037 (1091)\ttotal: 45.1s\tremaining: 16.3s\n",
            "1200:\ttest: 0.4910114\tbest: 0.4911902 (1197)\ttotal: 48.9s\tremaining: 12.2s\n",
            "1300:\ttest: 0.4920769\tbest: 0.4922584 (1295)\ttotal: 53s\tremaining: 8.11s\n",
            "1400:\ttest: 0.4924295\tbest: 0.4928055 (1371)\ttotal: 57.2s\tremaining: 4.04s\n",
            "1499:\ttest: 0.4933743\tbest: 0.4933748 (1493)\ttotal: 1m\tremaining: 0us\n",
            "bestTest = 0.4933747867\n",
            "bestIteration = 1493\n",
            "Shrink model to first 1494 iterations.\n"
          ]
        },
        {
          "output_type": "stream",
          "name": "stderr",
          "text": [
            "Default metric period is 5 because NDCG is/are not implemented for GPU\n",
            "Metric NDCG:type=Base is not implemented on GPU. Will use CPU for metric computation, this could significantly affect learning time\n",
            "Metric NDCG:top=10;type=Exp is not implemented on GPU. Will use CPU for metric computation, this could significantly affect learning time\n"
          ]
        },
        {
          "output_type": "stream",
          "name": "stdout",
          "text": [
            "0:\ttest: 0.2341477\tbest: 0.2341477 (0)\ttotal: 83.2ms\tremaining: 2m 4s\n",
            "100:\ttest: 0.4402367\tbest: 0.4402367 (100)\ttotal: 3.94s\tremaining: 54.6s\n",
            "200:\ttest: 0.4577669\tbest: 0.4577669 (200)\ttotal: 7.67s\tremaining: 49.6s\n",
            "300:\ttest: 0.4662402\tbest: 0.4662402 (300)\ttotal: 12.3s\tremaining: 49.1s\n",
            "400:\ttest: 0.4720359\tbest: 0.4720359 (400)\ttotal: 16.1s\tremaining: 44.2s\n",
            "500:\ttest: 0.4769620\tbest: 0.4769620 (500)\ttotal: 19.9s\tremaining: 39.7s\n",
            "600:\ttest: 0.4793772\tbest: 0.4793772 (600)\ttotal: 24.5s\tremaining: 36.7s\n",
            "700:\ttest: 0.4828883\tbest: 0.4831395 (695)\ttotal: 28.3s\tremaining: 32.3s\n",
            "800:\ttest: 0.4848851\tbest: 0.4848893 (799)\ttotal: 32.1s\tremaining: 28s\n",
            "900:\ttest: 0.4873431\tbest: 0.4873997 (899)\ttotal: 36.7s\tremaining: 24.4s\n",
            "1000:\ttest: 0.4881942\tbest: 0.4885857 (986)\ttotal: 40.5s\tremaining: 20.2s\n",
            "1100:\ttest: 0.4894517\tbest: 0.4894829 (1066)\ttotal: 44.2s\tremaining: 16s\n",
            "1200:\ttest: 0.4903259\tbest: 0.4904990 (1175)\ttotal: 48.8s\tremaining: 12.2s\n",
            "1300:\ttest: 0.4914377\tbest: 0.4915908 (1289)\ttotal: 52.6s\tremaining: 8.04s\n",
            "1400:\ttest: 0.4928523\tbest: 0.4928523 (1400)\ttotal: 56.3s\tremaining: 3.98s\n",
            "1499:\ttest: 0.4935569\tbest: 0.4936359 (1496)\ttotal: 1m\tremaining: 0us\n",
            "bestTest = 0.4936358715\n",
            "bestIteration = 1496\n",
            "Shrink model to first 1497 iterations.\n"
          ]
        },
        {
          "output_type": "stream",
          "name": "stderr",
          "text": [
            "Default metric period is 5 because NDCG is/are not implemented for GPU\n",
            "Metric NDCG:type=Base is not implemented on GPU. Will use CPU for metric computation, this could significantly affect learning time\n",
            "Metric NDCG:top=10;type=Exp is not implemented on GPU. Will use CPU for metric computation, this could significantly affect learning time\n"
          ]
        },
        {
          "output_type": "stream",
          "name": "stdout",
          "text": [
            "0:\ttest: 0.2341477\tbest: 0.2341477 (0)\ttotal: 84.2ms\tremaining: 2m 6s\n",
            "100:\ttest: 0.4399173\tbest: 0.4399173 (100)\ttotal: 3.93s\tremaining: 54.4s\n",
            "200:\ttest: 0.4568211\tbest: 0.4568211 (200)\ttotal: 8.54s\tremaining: 55.2s\n",
            "300:\ttest: 0.4662537\tbest: 0.4662537 (300)\ttotal: 12.4s\tremaining: 49.2s\n",
            "400:\ttest: 0.4720818\tbest: 0.4720818 (400)\ttotal: 16.1s\tremaining: 44.2s\n",
            "500:\ttest: 0.4768076\tbest: 0.4768076 (500)\ttotal: 20.7s\tremaining: 41.4s\n",
            "600:\ttest: 0.4799190\tbest: 0.4799190 (600)\ttotal: 24.6s\tremaining: 36.7s\n",
            "700:\ttest: 0.4831916\tbest: 0.4832072 (699)\ttotal: 28.3s\tremaining: 32.3s\n",
            "800:\ttest: 0.4853377\tbest: 0.4854282 (778)\ttotal: 32.9s\tremaining: 28.7s\n",
            "900:\ttest: 0.4872184\tbest: 0.4873574 (893)\ttotal: 36.7s\tremaining: 24.4s\n",
            "1000:\ttest: 0.4885298\tbest: 0.4885298 (1000)\ttotal: 40.5s\tremaining: 20.2s\n",
            "1100:\ttest: 0.4893133\tbest: 0.4896120 (1092)\ttotal: 45.1s\tremaining: 16.4s\n",
            "1200:\ttest: 0.4900418\tbest: 0.4900906 (1196)\ttotal: 48.9s\tremaining: 12.2s\n",
            "1300:\ttest: 0.4913222\tbest: 0.4913222 (1300)\ttotal: 52.7s\tremaining: 8.06s\n",
            "1400:\ttest: 0.4923745\tbest: 0.4924354 (1395)\ttotal: 57.2s\tremaining: 4.04s\n",
            "1499:\ttest: 0.4925049\tbest: 0.4925084 (1498)\ttotal: 1m\tremaining: 0us\n",
            "bestTest = 0.4925083532\n",
            "bestIteration = 1498\n",
            "Shrink model to first 1499 iterations.\n"
          ]
        },
        {
          "output_type": "stream",
          "name": "stderr",
          "text": [
            "Default metric period is 5 because NDCG is/are not implemented for GPU\n",
            "Metric NDCG:type=Base is not implemented on GPU. Will use CPU for metric computation, this could significantly affect learning time\n",
            "Metric NDCG:top=10;type=Exp is not implemented on GPU. Will use CPU for metric computation, this could significantly affect learning time\n"
          ]
        },
        {
          "output_type": "stream",
          "name": "stdout",
          "text": [
            "0:\ttest: 0.2341477\tbest: 0.2341477 (0)\ttotal: 135ms\tremaining: 3m 22s\n",
            "100:\ttest: 0.4398707\tbest: 0.4398707 (100)\ttotal: 4.33s\tremaining: 59.9s\n",
            "200:\ttest: 0.4565637\tbest: 0.4565637 (200)\ttotal: 8.15s\tremaining: 52.7s\n",
            "300:\ttest: 0.4649051\tbest: 0.4649051 (300)\ttotal: 12.5s\tremaining: 49.8s\n",
            "400:\ttest: 0.4716426\tbest: 0.4716580 (397)\ttotal: 16.5s\tremaining: 45.4s\n",
            "500:\ttest: 0.4756053\tbest: 0.4756598 (498)\ttotal: 20.3s\tremaining: 40.5s\n",
            "600:\ttest: 0.4793233\tbest: 0.4793233 (600)\ttotal: 24.5s\tremaining: 36.6s\n",
            "700:\ttest: 0.4814890\tbest: 0.4814890 (700)\ttotal: 28.6s\tremaining: 32.5s\n",
            "800:\ttest: 0.4842556\tbest: 0.4844468 (795)\ttotal: 32.3s\tremaining: 28.2s\n",
            "900:\ttest: 0.4862036\tbest: 0.4863010 (895)\ttotal: 36.5s\tremaining: 24.3s\n",
            "1000:\ttest: 0.4873128\tbest: 0.4873406 (952)\ttotal: 40.7s\tremaining: 20.3s\n",
            "1100:\ttest: 0.4889722\tbest: 0.4890447 (1099)\ttotal: 44.4s\tremaining: 16.1s\n",
            "1200:\ttest: 0.4899394\tbest: 0.4902890 (1185)\ttotal: 48.7s\tremaining: 12.1s\n",
            "1300:\ttest: 0.4912446\tbest: 0.4914156 (1291)\ttotal: 52.7s\tremaining: 8.06s\n",
            "1400:\ttest: 0.4922051\tbest: 0.4922051 (1400)\ttotal: 56.5s\tremaining: 3.99s\n",
            "1499:\ttest: 0.4931304\tbest: 0.4932279 (1498)\ttotal: 1m\tremaining: 0us\n",
            "bestTest = 0.4932279421\n",
            "bestIteration = 1498\n",
            "Shrink model to first 1499 iterations.\n"
          ]
        },
        {
          "output_type": "stream",
          "name": "stderr",
          "text": [
            "Default metric period is 5 because NDCG is/are not implemented for GPU\n",
            "Metric NDCG:type=Base is not implemented on GPU. Will use CPU for metric computation, this could significantly affect learning time\n",
            "Metric NDCG:top=10;type=Exp is not implemented on GPU. Will use CPU for metric computation, this could significantly affect learning time\n"
          ]
        },
        {
          "output_type": "stream",
          "name": "stdout",
          "text": [
            "0:\ttest: 0.2341477\tbest: 0.2341477 (0)\ttotal: 83.2ms\tremaining: 2m 4s\n",
            "100:\ttest: 0.4391180\tbest: 0.4391180 (100)\ttotal: 3.95s\tremaining: 54.7s\n",
            "200:\ttest: 0.4566499\tbest: 0.4568950 (198)\ttotal: 8.52s\tremaining: 55.1s\n",
            "300:\ttest: 0.4653050\tbest: 0.4653050 (300)\ttotal: 12.3s\tremaining: 49s\n",
            "400:\ttest: 0.4702316\tbest: 0.4704573 (394)\ttotal: 16s\tremaining: 43.9s\n",
            "500:\ttest: 0.4757767\tbest: 0.4757767 (500)\ttotal: 20.6s\tremaining: 41s\n",
            "600:\ttest: 0.4788387\tbest: 0.4788387 (600)\ttotal: 24.3s\tremaining: 36.4s\n",
            "700:\ttest: 0.4826033\tbest: 0.4826033 (700)\ttotal: 28.1s\tremaining: 32s\n",
            "800:\ttest: 0.4851551\tbest: 0.4854695 (797)\ttotal: 32.7s\tremaining: 28.5s\n",
            "900:\ttest: 0.4868120\tbest: 0.4872612 (891)\ttotal: 36.5s\tremaining: 24.2s\n",
            "1000:\ttest: 0.4886006\tbest: 0.4887087 (995)\ttotal: 40.2s\tremaining: 20s\n",
            "1100:\ttest: 0.4900344\tbest: 0.4900645 (1099)\ttotal: 44.8s\tremaining: 16.2s\n",
            "1200:\ttest: 0.4914270\tbest: 0.4914270 (1200)\ttotal: 48.6s\tremaining: 12.1s\n",
            "1300:\ttest: 0.4928069\tbest: 0.4928465 (1299)\ttotal: 52.3s\tremaining: 8s\n",
            "1400:\ttest: 0.4932245\tbest: 0.4933406 (1368)\ttotal: 56.9s\tremaining: 4.02s\n",
            "1499:\ttest: 0.4939033\tbest: 0.4941640 (1449)\ttotal: 1m\tremaining: 0us\n",
            "bestTest = 0.4941639904\n",
            "bestIteration = 1449\n",
            "Shrink model to first 1450 iterations.\n"
          ]
        },
        {
          "output_type": "stream",
          "name": "stderr",
          "text": [
            "Default metric period is 5 because NDCG is/are not implemented for GPU\n",
            "Metric NDCG:type=Base is not implemented on GPU. Will use CPU for metric computation, this could significantly affect learning time\n",
            "Metric NDCG:top=10;type=Exp is not implemented on GPU. Will use CPU for metric computation, this could significantly affect learning time\n"
          ]
        },
        {
          "output_type": "stream",
          "name": "stdout",
          "text": [
            "0:\ttest: 0.2424807\tbest: 0.2424807 (0)\ttotal: 90.6ms\tremaining: 2m 15s\n",
            "100:\ttest: 0.4559189\tbest: 0.4559189 (100)\ttotal: 5.21s\tremaining: 1m 12s\n",
            "200:\ttest: 0.4723289\tbest: 0.4723289 (200)\ttotal: 9.31s\tremaining: 1m\n",
            "300:\ttest: 0.4830062\tbest: 0.4830480 (299)\ttotal: 14.2s\tremaining: 56.5s\n",
            "400:\ttest: 0.4886671\tbest: 0.4886671 (400)\ttotal: 18.4s\tremaining: 50.4s\n",
            "500:\ttest: 0.4930315\tbest: 0.4930315 (500)\ttotal: 22.5s\tremaining: 44.8s\n",
            "600:\ttest: 0.4956911\tbest: 0.4958855 (586)\ttotal: 27.5s\tremaining: 41.1s\n",
            "700:\ttest: 0.4968531\tbest: 0.4969719 (648)\ttotal: 31.5s\tremaining: 36s\n",
            "800:\ttest: 0.4985807\tbest: 0.4985994 (798)\ttotal: 35.7s\tremaining: 31.1s\n",
            "900:\ttest: 0.4999347\tbest: 0.5000784 (892)\ttotal: 40.6s\tremaining: 27s\n",
            "1000:\ttest: 0.5007676\tbest: 0.5009595 (975)\ttotal: 44.7s\tremaining: 22.3s\n",
            "1100:\ttest: 0.5017949\tbest: 0.5018663 (1097)\ttotal: 48.8s\tremaining: 17.7s\n",
            "1200:\ttest: 0.5025521\tbest: 0.5025521 (1200)\ttotal: 53.7s\tremaining: 13.4s\n",
            "1300:\ttest: 0.5028808\tbest: 0.5030386 (1291)\ttotal: 57.8s\tremaining: 8.83s\n",
            "1400:\ttest: 0.5037488\tbest: 0.5037488 (1400)\ttotal: 1m 2s\tremaining: 4.41s\n",
            "1499:\ttest: 0.5042582\tbest: 0.5043320 (1483)\ttotal: 1m 6s\tremaining: 0us\n",
            "bestTest = 0.5043320023\n",
            "bestIteration = 1483\n",
            "Shrink model to first 1484 iterations.\n"
          ]
        },
        {
          "output_type": "stream",
          "name": "stderr",
          "text": [
            "Default metric period is 5 because NDCG is/are not implemented for GPU\n",
            "Metric NDCG:type=Base is not implemented on GPU. Will use CPU for metric computation, this could significantly affect learning time\n",
            "Metric NDCG:top=10;type=Exp is not implemented on GPU. Will use CPU for metric computation, this could significantly affect learning time\n"
          ]
        },
        {
          "output_type": "stream",
          "name": "stdout",
          "text": [
            "0:\ttest: 0.2424571\tbest: 0.2424571 (0)\ttotal: 92.9ms\tremaining: 2m 19s\n",
            "100:\ttest: 0.4560247\tbest: 0.4560621 (99)\ttotal: 5.16s\tremaining: 1m 11s\n",
            "200:\ttest: 0.4720572\tbest: 0.4720572 (200)\ttotal: 9.26s\tremaining: 59.8s\n",
            "300:\ttest: 0.4824676\tbest: 0.4824676 (300)\ttotal: 13.6s\tremaining: 54s\n",
            "400:\ttest: 0.4886466\tbest: 0.4887328 (393)\ttotal: 18.3s\tremaining: 50.2s\n",
            "500:\ttest: 0.4928962\tbest: 0.4928962 (500)\ttotal: 22.4s\tremaining: 44.7s\n",
            "600:\ttest: 0.4958154\tbest: 0.4958292 (598)\ttotal: 27.4s\tremaining: 41s\n",
            "700:\ttest: 0.4969446\tbest: 0.4972673 (696)\ttotal: 31.5s\tremaining: 35.8s\n",
            "800:\ttest: 0.4982780\tbest: 0.4984342 (790)\ttotal: 35.5s\tremaining: 31s\n",
            "900:\ttest: 0.4998889\tbest: 0.5000856 (896)\ttotal: 40.5s\tremaining: 26.9s\n",
            "1000:\ttest: 0.5003486\tbest: 0.5007051 (979)\ttotal: 44.6s\tremaining: 22.2s\n",
            "1100:\ttest: 0.5013605\tbest: 0.5013605 (1100)\ttotal: 48.7s\tremaining: 17.6s\n",
            "1200:\ttest: 0.5021937\tbest: 0.5023120 (1195)\ttotal: 53.7s\tremaining: 13.4s\n",
            "1300:\ttest: 0.5035180\tbest: 0.5035180 (1300)\ttotal: 57.8s\tremaining: 8.84s\n",
            "1400:\ttest: 0.5043011\tbest: 0.5044919 (1391)\ttotal: 1m 2s\tremaining: 4.39s\n",
            "1499:\ttest: 0.5047150\tbest: 0.5048512 (1479)\ttotal: 1m 6s\tremaining: 0us\n",
            "bestTest = 0.5048511632\n",
            "bestIteration = 1479\n",
            "Shrink model to first 1480 iterations.\n"
          ]
        },
        {
          "output_type": "stream",
          "name": "stderr",
          "text": [
            "Default metric period is 5 because NDCG is/are not implemented for GPU\n",
            "Metric NDCG:type=Base is not implemented on GPU. Will use CPU for metric computation, this could significantly affect learning time\n",
            "Metric NDCG:top=10;type=Exp is not implemented on GPU. Will use CPU for metric computation, this could significantly affect learning time\n"
          ]
        },
        {
          "output_type": "stream",
          "name": "stdout",
          "text": [
            "0:\ttest: 0.2424583\tbest: 0.2424583 (0)\ttotal: 92.9ms\tremaining: 2m 19s\n",
            "100:\ttest: 0.4563864\tbest: 0.4563864 (100)\ttotal: 5.18s\tremaining: 1m 11s\n",
            "200:\ttest: 0.4729490\tbest: 0.4729490 (200)\ttotal: 9.25s\tremaining: 59.8s\n",
            "300:\ttest: 0.4831826\tbest: 0.4831826 (300)\ttotal: 13.4s\tremaining: 53.2s\n",
            "400:\ttest: 0.4871921\tbest: 0.4871921 (400)\ttotal: 18.4s\tremaining: 50.3s\n",
            "500:\ttest: 0.4917356\tbest: 0.4920600 (495)\ttotal: 22.4s\tremaining: 44.7s\n",
            "600:\ttest: 0.4954998\tbest: 0.4955034 (595)\ttotal: 26.9s\tremaining: 40.2s\n",
            "700:\ttest: 0.4963497\tbest: 0.4965603 (695)\ttotal: 31.5s\tremaining: 35.9s\n",
            "800:\ttest: 0.4978547\tbest: 0.4978547 (800)\ttotal: 35.6s\tremaining: 31.1s\n",
            "900:\ttest: 0.4989926\tbest: 0.4989926 (900)\ttotal: 40.5s\tremaining: 26.9s\n",
            "1000:\ttest: 0.5008566\tbest: 0.5008566 (1000)\ttotal: 44.6s\tremaining: 22.2s\n",
            "1100:\ttest: 0.5016165\tbest: 0.5016937 (1091)\ttotal: 48.7s\tremaining: 17.7s\n",
            "1200:\ttest: 0.5024455\tbest: 0.5025123 (1191)\ttotal: 53.6s\tremaining: 13.3s\n",
            "1300:\ttest: 0.5031928\tbest: 0.5033778 (1295)\ttotal: 57.7s\tremaining: 8.82s\n",
            "1400:\ttest: 0.5037276\tbest: 0.5039370 (1379)\ttotal: 1m 1s\tremaining: 4.36s\n",
            "1499:\ttest: 0.5044469\tbest: 0.5045728 (1494)\ttotal: 1m 6s\tremaining: 0us\n",
            "bestTest = 0.5045728071\n",
            "bestIteration = 1494\n",
            "Shrink model to first 1495 iterations.\n"
          ]
        },
        {
          "output_type": "stream",
          "name": "stderr",
          "text": [
            "Default metric period is 5 because NDCG is/are not implemented for GPU\n",
            "Metric NDCG:type=Base is not implemented on GPU. Will use CPU for metric computation, this could significantly affect learning time\n",
            "Metric NDCG:top=10;type=Exp is not implemented on GPU. Will use CPU for metric computation, this could significantly affect learning time\n"
          ]
        },
        {
          "output_type": "stream",
          "name": "stdout",
          "text": [
            "0:\ttest: 0.2424627\tbest: 0.2424627 (0)\ttotal: 90.3ms\tremaining: 2m 15s\n",
            "100:\ttest: 0.4549797\tbest: 0.4549797 (100)\ttotal: 5.22s\tremaining: 1m 12s\n",
            "200:\ttest: 0.4718065\tbest: 0.4718065 (200)\ttotal: 9.3s\tremaining: 1m\n",
            "300:\ttest: 0.4815212\tbest: 0.4815212 (300)\ttotal: 13.4s\tremaining: 53.2s\n",
            "400:\ttest: 0.4879402\tbest: 0.4880120 (398)\ttotal: 18.3s\tremaining: 50.1s\n",
            "500:\ttest: 0.4916448\tbest: 0.4917790 (499)\ttotal: 22.4s\tremaining: 44.6s\n",
            "600:\ttest: 0.4944190\tbest: 0.4944415 (597)\ttotal: 26.5s\tremaining: 39.6s\n",
            "700:\ttest: 0.4957238\tbest: 0.4959874 (697)\ttotal: 31.4s\tremaining: 35.8s\n",
            "800:\ttest: 0.4968698\tbest: 0.4971155 (794)\ttotal: 35.5s\tremaining: 31s\n",
            "900:\ttest: 0.4982791\tbest: 0.4982791 (900)\ttotal: 40.2s\tremaining: 26.7s\n",
            "1000:\ttest: 0.4993216\tbest: 0.4993949 (997)\ttotal: 44.5s\tremaining: 22.2s\n",
            "1100:\ttest: 0.5002681\tbest: 0.5002886 (1099)\ttotal: 48.6s\tremaining: 17.6s\n",
            "1200:\ttest: 0.5015921\tbest: 0.5015921 (1200)\ttotal: 53.6s\tremaining: 13.3s\n",
            "1300:\ttest: 0.5029146\tbest: 0.5029171 (1299)\ttotal: 57.7s\tremaining: 8.82s\n",
            "1400:\ttest: 0.5032955\tbest: 0.5033609 (1360)\ttotal: 1m 1s\tremaining: 4.37s\n",
            "1499:\ttest: 0.5041803\tbest: 0.5043715 (1482)\ttotal: 1m 6s\tremaining: 0us\n",
            "bestTest = 0.5043715461\n",
            "bestIteration = 1482\n",
            "Shrink model to first 1483 iterations.\n"
          ]
        },
        {
          "output_type": "stream",
          "name": "stderr",
          "text": [
            "Default metric period is 5 because NDCG is/are not implemented for GPU\n",
            "Metric NDCG:type=Base is not implemented on GPU. Will use CPU for metric computation, this could significantly affect learning time\n",
            "Metric NDCG:top=10;type=Exp is not implemented on GPU. Will use CPU for metric computation, this could significantly affect learning time\n"
          ]
        },
        {
          "output_type": "stream",
          "name": "stdout",
          "text": [
            "0:\ttest: 0.2424627\tbest: 0.2424627 (0)\ttotal: 91.3ms\tremaining: 2m 16s\n",
            "100:\ttest: 0.4545941\tbest: 0.4545941 (100)\ttotal: 4.94s\tremaining: 1m 8s\n",
            "200:\ttest: 0.4714781\tbest: 0.4716235 (199)\ttotal: 9.21s\tremaining: 59.5s\n",
            "300:\ttest: 0.4817669\tbest: 0.4818086 (296)\ttotal: 13.3s\tremaining: 53.1s\n",
            "400:\ttest: 0.4868374\tbest: 0.4868376 (394)\ttotal: 18.3s\tremaining: 50.1s\n",
            "500:\ttest: 0.4908881\tbest: 0.4909282 (492)\ttotal: 22.4s\tremaining: 44.6s\n",
            "600:\ttest: 0.4942328\tbest: 0.4942328 (600)\ttotal: 26.5s\tremaining: 39.6s\n",
            "700:\ttest: 0.4959967\tbest: 0.4959967 (700)\ttotal: 31.4s\tremaining: 35.8s\n",
            "800:\ttest: 0.4967012\tbest: 0.4967814 (777)\ttotal: 35.5s\tremaining: 31s\n",
            "900:\ttest: 0.4987958\tbest: 0.4992315 (875)\ttotal: 39.6s\tremaining: 26.3s\n",
            "1000:\ttest: 0.5005266\tbest: 0.5005448 (999)\ttotal: 44.6s\tremaining: 22.2s\n",
            "1100:\ttest: 0.5009936\tbest: 0.5012336 (1077)\ttotal: 48.7s\tremaining: 17.6s\n",
            "1200:\ttest: 0.5020336\tbest: 0.5023175 (1175)\ttotal: 53.3s\tremaining: 13.3s\n",
            "1300:\ttest: 0.5032429\tbest: 0.5032429 (1300)\ttotal: 57.7s\tremaining: 8.83s\n",
            "1400:\ttest: 0.5040204\tbest: 0.5040703 (1357)\ttotal: 1m 1s\tremaining: 4.37s\n",
            "1499:\ttest: 0.5043808\tbest: 0.5045659 (1496)\ttotal: 1m 6s\tremaining: 0us\n",
            "bestTest = 0.5045659462\n",
            "bestIteration = 1496\n",
            "Shrink model to first 1497 iterations.\n"
          ]
        },
        {
          "output_type": "stream",
          "name": "stderr",
          "text": [
            "Default metric period is 5 because NDCG is/are not implemented for GPU\n",
            "Metric NDCG:type=Base is not implemented on GPU. Will use CPU for metric computation, this could significantly affect learning time\n",
            "Metric NDCG:top=10;type=Exp is not implemented on GPU. Will use CPU for metric computation, this could significantly affect learning time\n"
          ]
        },
        {
          "output_type": "stream",
          "name": "stdout",
          "text": [
            "0:\ttest: 0.3183135\tbest: 0.3183135 (0)\ttotal: 104ms\tremaining: 2m 35s\n",
            "100:\ttest: 0.4661995\tbest: 0.4663724 (99)\ttotal: 5.43s\tremaining: 1m 15s\n",
            "200:\ttest: 0.4864058\tbest: 0.4864058 (200)\ttotal: 10.3s\tremaining: 1m 6s\n",
            "300:\ttest: 0.4950248\tbest: 0.4950248 (300)\ttotal: 14.8s\tremaining: 59.1s\n",
            "400:\ttest: 0.4983857\tbest: 0.4987765 (394)\ttotal: 20.2s\tremaining: 55.4s\n",
            "500:\ttest: 0.5013476\tbest: 0.5013476 (500)\ttotal: 24.8s\tremaining: 49.4s\n",
            "600:\ttest: 0.5018083\tbest: 0.5020554 (591)\ttotal: 29.9s\tremaining: 44.7s\n",
            "700:\ttest: 0.5030801\tbest: 0.5032956 (692)\ttotal: 34.7s\tremaining: 39.6s\n",
            "800:\ttest: 0.5042718\tbest: 0.5043829 (799)\ttotal: 39.3s\tremaining: 34.3s\n",
            "900:\ttest: 0.5048172\tbest: 0.5051958 (848)\ttotal: 44.7s\tremaining: 29.7s\n",
            "1000:\ttest: 0.5060353\tbest: 0.5060353 (1000)\ttotal: 49.2s\tremaining: 24.5s\n",
            "1100:\ttest: 0.5074547\tbest: 0.5075633 (1082)\ttotal: 54.4s\tremaining: 19.7s\n",
            "1200:\ttest: 0.5089361\tbest: 0.5089361 (1200)\ttotal: 59s\tremaining: 14.7s\n",
            "1300:\ttest: 0.5090219\tbest: 0.5090965 (1204)\ttotal: 1m 3s\tremaining: 9.72s\n",
            "1400:\ttest: 0.5098808\tbest: 0.5099411 (1361)\ttotal: 1m 8s\tremaining: 4.87s\n",
            "1499:\ttest: 0.5106451\tbest: 0.5106451 (1499)\ttotal: 1m 13s\tremaining: 0us\n",
            "bestTest = 0.5106450828\n",
            "bestIteration = 1499\n"
          ]
        },
        {
          "output_type": "stream",
          "name": "stderr",
          "text": [
            "Default metric period is 5 because NDCG is/are not implemented for GPU\n",
            "Metric NDCG:type=Base is not implemented on GPU. Will use CPU for metric computation, this could significantly affect learning time\n",
            "Metric NDCG:top=10;type=Exp is not implemented on GPU. Will use CPU for metric computation, this could significantly affect learning time\n"
          ]
        },
        {
          "output_type": "stream",
          "name": "stdout",
          "text": [
            "0:\ttest: 0.3177237\tbest: 0.3177237 (0)\ttotal: 100ms\tremaining: 2m 30s\n",
            "100:\ttest: 0.4668931\tbest: 0.4669704 (99)\ttotal: 4.8s\tremaining: 1m 6s\n",
            "200:\ttest: 0.4857347\tbest: 0.4857347 (200)\ttotal: 9.33s\tremaining: 1m\n",
            "300:\ttest: 0.4932479\tbest: 0.4932810 (298)\ttotal: 14.8s\tremaining: 58.9s\n",
            "400:\ttest: 0.4973614\tbest: 0.4975393 (393)\ttotal: 19.3s\tremaining: 53s\n",
            "500:\ttest: 0.5005637\tbest: 0.5005892 (498)\ttotal: 24.7s\tremaining: 49.3s\n",
            "600:\ttest: 0.5018574\tbest: 0.5021466 (583)\ttotal: 29.2s\tremaining: 43.8s\n",
            "700:\ttest: 0.5044208\tbest: 0.5045625 (698)\ttotal: 33.8s\tremaining: 38.5s\n",
            "800:\ttest: 0.5053844\tbest: 0.5056170 (772)\ttotal: 39.2s\tremaining: 34.2s\n",
            "900:\ttest: 0.5062011\tbest: 0.5065115 (889)\ttotal: 43.7s\tremaining: 29.1s\n",
            "1000:\ttest: 0.5075092\tbest: 0.5078282 (996)\ttotal: 49.2s\tremaining: 24.5s\n",
            "1100:\ttest: 0.5078571\tbest: 0.5082576 (1071)\ttotal: 53.7s\tremaining: 19.5s\n",
            "1200:\ttest: 0.5089789\tbest: 0.5092770 (1162)\ttotal: 58.3s\tremaining: 14.5s\n",
            "1300:\ttest: 0.5096794\tbest: 0.5098137 (1291)\ttotal: 1m 3s\tremaining: 9.73s\n",
            "1400:\ttest: 0.5098258\tbest: 0.5099309 (1399)\ttotal: 1m 8s\tremaining: 4.81s\n",
            "1499:\ttest: 0.5099093\tbest: 0.5100658 (1489)\ttotal: 1m 13s\tremaining: 0us\n",
            "bestTest = 0.5100657622\n",
            "bestIteration = 1489\n",
            "Shrink model to first 1490 iterations.\n"
          ]
        },
        {
          "output_type": "stream",
          "name": "stderr",
          "text": [
            "Default metric period is 5 because NDCG is/are not implemented for GPU\n",
            "Metric NDCG:type=Base is not implemented on GPU. Will use CPU for metric computation, this could significantly affect learning time\n",
            "Metric NDCG:top=10;type=Exp is not implemented on GPU. Will use CPU for metric computation, this could significantly affect learning time\n"
          ]
        },
        {
          "output_type": "stream",
          "name": "stdout",
          "text": [
            "0:\ttest: 0.3174518\tbest: 0.3174518 (0)\ttotal: 101ms\tremaining: 2m 31s\n",
            "100:\ttest: 0.4649510\tbest: 0.4649510 (100)\ttotal: 5.7s\tremaining: 1m 18s\n",
            "200:\ttest: 0.4834432\tbest: 0.4834432 (200)\ttotal: 10.2s\tremaining: 1m 6s\n",
            "300:\ttest: 0.4921802\tbest: 0.4921802 (300)\ttotal: 14.7s\tremaining: 58.7s\n",
            "400:\ttest: 0.4963207\tbest: 0.4965185 (398)\ttotal: 20.1s\tremaining: 55.2s\n",
            "500:\ttest: 0.4988347\tbest: 0.4995764 (491)\ttotal: 24.7s\tremaining: 49.2s\n",
            "600:\ttest: 0.5002529\tbest: 0.5006718 (589)\ttotal: 30.1s\tremaining: 45s\n",
            "700:\ttest: 0.5024521\tbest: 0.5025102 (699)\ttotal: 34.6s\tremaining: 39.5s\n",
            "800:\ttest: 0.5032163\tbest: 0.5033523 (795)\ttotal: 39.2s\tremaining: 34.2s\n",
            "900:\ttest: 0.5036517\tbest: 0.5038920 (858)\ttotal: 44.6s\tremaining: 29.7s\n",
            "1000:\ttest: 0.5052094\tbest: 0.5052854 (993)\ttotal: 49.1s\tremaining: 24.5s\n",
            "1100:\ttest: 0.5061499\tbest: 0.5063453 (1095)\ttotal: 54.5s\tremaining: 19.7s\n",
            "1200:\ttest: 0.5068276\tbest: 0.5071561 (1184)\ttotal: 59s\tremaining: 14.7s\n",
            "1300:\ttest: 0.5080141\tbest: 0.5080669 (1251)\ttotal: 1m 3s\tremaining: 9.72s\n",
            "1400:\ttest: 0.5085218\tbest: 0.5085218 (1400)\ttotal: 1m 8s\tremaining: 4.87s\n",
            "1499:\ttest: 0.5092699\tbest: 0.5093704 (1486)\ttotal: 1m 13s\tremaining: 0us\n",
            "bestTest = 0.5093704252\n",
            "bestIteration = 1486\n",
            "Shrink model to first 1487 iterations.\n"
          ]
        },
        {
          "output_type": "stream",
          "name": "stderr",
          "text": [
            "Default metric period is 5 because NDCG is/are not implemented for GPU\n",
            "Metric NDCG:type=Base is not implemented on GPU. Will use CPU for metric computation, this could significantly affect learning time\n",
            "Metric NDCG:top=10;type=Exp is not implemented on GPU. Will use CPU for metric computation, this could significantly affect learning time\n"
          ]
        },
        {
          "output_type": "stream",
          "name": "stdout",
          "text": [
            "0:\ttest: 0.3167188\tbest: 0.3167188 (0)\ttotal: 101ms\tremaining: 2m 31s\n",
            "100:\ttest: 0.4653642\tbest: 0.4653642 (100)\ttotal: 4.82s\tremaining: 1m 6s\n",
            "200:\ttest: 0.4825632\tbest: 0.4826784 (199)\ttotal: 9.89s\tremaining: 1m 3s\n",
            "300:\ttest: 0.4930806\tbest: 0.4930806 (300)\ttotal: 14.8s\tremaining: 59.2s\n",
            "400:\ttest: 0.4973814\tbest: 0.4973814 (400)\ttotal: 19.4s\tremaining: 53.2s\n",
            "500:\ttest: 0.4991633\tbest: 0.4991633 (500)\ttotal: 24.8s\tremaining: 49.5s\n",
            "600:\ttest: 0.5009108\tbest: 0.5010217 (596)\ttotal: 29.4s\tremaining: 43.9s\n",
            "700:\ttest: 0.5024520\tbest: 0.5027217 (667)\ttotal: 34.7s\tremaining: 39.5s\n",
            "800:\ttest: 0.5031427\tbest: 0.5034628 (791)\ttotal: 39.4s\tremaining: 34.3s\n",
            "900:\ttest: 0.5052533\tbest: 0.5053014 (897)\ttotal: 43.9s\tremaining: 29.2s\n",
            "1000:\ttest: 0.5061793\tbest: 0.5061793 (1000)\ttotal: 49.4s\tremaining: 24.6s\n",
            "1100:\ttest: 0.5066045\tbest: 0.5066990 (1098)\ttotal: 53.8s\tremaining: 19.5s\n",
            "1200:\ttest: 0.5074123\tbest: 0.5076987 (1188)\ttotal: 59.2s\tremaining: 14.7s\n",
            "1300:\ttest: 0.5085856\tbest: 0.5086274 (1267)\ttotal: 1m 3s\tremaining: 9.74s\n",
            "1400:\ttest: 0.5090992\tbest: 0.5092837 (1393)\ttotal: 1m 8s\tremaining: 4.82s\n",
            "1499:\ttest: 0.5098748\tbest: 0.5100211 (1451)\ttotal: 1m 13s\tremaining: 0us\n",
            "bestTest = 0.5100210685\n",
            "bestIteration = 1451\n",
            "Shrink model to first 1452 iterations.\n"
          ]
        },
        {
          "output_type": "stream",
          "name": "stderr",
          "text": [
            "Default metric period is 5 because NDCG is/are not implemented for GPU\n",
            "Metric NDCG:type=Base is not implemented on GPU. Will use CPU for metric computation, this could significantly affect learning time\n",
            "Metric NDCG:top=10;type=Exp is not implemented on GPU. Will use CPU for metric computation, this could significantly affect learning time\n"
          ]
        },
        {
          "output_type": "stream",
          "name": "stdout",
          "text": [
            "0:\ttest: 0.3151338\tbest: 0.3151338 (0)\ttotal: 101ms\tremaining: 2m 30s\n",
            "100:\ttest: 0.4640859\tbest: 0.4640859 (100)\ttotal: 5.65s\tremaining: 1m 18s\n",
            "200:\ttest: 0.4822495\tbest: 0.4826364 (199)\ttotal: 10.2s\tremaining: 1m 5s\n",
            "300:\ttest: 0.4910942\tbest: 0.4913974 (296)\ttotal: 15.1s\tremaining: 60s\n",
            "400:\ttest: 0.4963834\tbest: 0.4965196 (399)\ttotal: 20.1s\tremaining: 55.2s\n",
            "500:\ttest: 0.4995018\tbest: 0.4995018 (500)\ttotal: 24.6s\tremaining: 49.1s\n",
            "600:\ttest: 0.5006656\tbest: 0.5010025 (590)\ttotal: 30.1s\tremaining: 45s\n",
            "700:\ttest: 0.5019493\tbest: 0.5021073 (690)\ttotal: 34.7s\tremaining: 39.5s\n",
            "800:\ttest: 0.5039529\tbest: 0.5039984 (792)\ttotal: 39.6s\tremaining: 34.6s\n",
            "900:\ttest: 0.5050936\tbest: 0.5050936 (900)\ttotal: 44.6s\tremaining: 29.6s\n",
            "1000:\ttest: 0.5065528\tbest: 0.5066477 (999)\ttotal: 49.1s\tremaining: 24.5s\n",
            "1100:\ttest: 0.5071475\tbest: 0.5072980 (1098)\ttotal: 54.5s\tremaining: 19.8s\n",
            "1200:\ttest: 0.5077341\tbest: 0.5079412 (1180)\ttotal: 59.1s\tremaining: 14.7s\n",
            "1300:\ttest: 0.5082152\tbest: 0.5083568 (1297)\ttotal: 1m 4s\tremaining: 9.82s\n",
            "1400:\ttest: 0.5092798\tbest: 0.5096190 (1384)\ttotal: 1m 8s\tremaining: 4.87s\n",
            "1499:\ttest: 0.5095758\tbest: 0.5098587 (1477)\ttotal: 1m 13s\tremaining: 0us\n",
            "bestTest = 0.509858746\n",
            "bestIteration = 1477\n",
            "Shrink model to first 1478 iterations.\n"
          ]
        },
        {
          "output_type": "stream",
          "name": "stderr",
          "text": [
            "Default metric period is 5 because NDCG is/are not implemented for GPU\n",
            "Metric NDCG:type=Base is not implemented on GPU. Will use CPU for metric computation, this could significantly affect learning time\n",
            "Metric NDCG:top=10;type=Exp is not implemented on GPU. Will use CPU for metric computation, this could significantly affect learning time\n"
          ]
        },
        {
          "output_type": "stream",
          "name": "stdout",
          "text": [
            "0:\ttest: 0.3279862\tbest: 0.3279862 (0)\ttotal: 120ms\tremaining: 3m\n",
            "100:\ttest: 0.4753575\tbest: 0.4755545 (99)\ttotal: 5.7s\tremaining: 1m 18s\n",
            "200:\ttest: 0.4917366\tbest: 0.4918949 (199)\ttotal: 12s\tremaining: 1m 17s\n",
            "300:\ttest: 0.4991956\tbest: 0.4993762 (299)\ttotal: 17.4s\tremaining: 1m 9s\n",
            "400:\ttest: 0.5023931\tbest: 0.5024141 (399)\ttotal: 23.6s\tremaining: 1m 4s\n",
            "500:\ttest: 0.5045781\tbest: 0.5046749 (471)\ttotal: 28.9s\tremaining: 57.7s\n",
            "600:\ttest: 0.5064683\tbest: 0.5067394 (573)\ttotal: 35.2s\tremaining: 52.6s\n",
            "700:\ttest: 0.5080648\tbest: 0.5081784 (699)\ttotal: 40.6s\tremaining: 46.2s\n",
            "800:\ttest: 0.5106540\tbest: 0.5106540 (800)\ttotal: 46.7s\tremaining: 40.8s\n",
            "900:\ttest: 0.5110138\tbest: 0.5113777 (886)\ttotal: 52.1s\tremaining: 34.6s\n",
            "1000:\ttest: 0.5114176\tbest: 0.5116362 (997)\ttotal: 58.3s\tremaining: 29s\n",
            "1100:\ttest: 0.5123580\tbest: 0.5127976 (1093)\ttotal: 1m 3s\tremaining: 23.1s\n",
            "1200:\ttest: 0.5130547\tbest: 0.5131680 (1190)\ttotal: 1m 9s\tremaining: 17.4s\n",
            "1300:\ttest: 0.5138831\tbest: 0.5143556 (1289)\ttotal: 1m 15s\tremaining: 11.5s\n",
            "1400:\ttest: 0.5145191\tbest: 0.5151143 (1393)\ttotal: 1m 20s\tremaining: 5.72s\n",
            "1499:\ttest: 0.5147642\tbest: 0.5152455 (1484)\ttotal: 1m 26s\tremaining: 0us\n",
            "bestTest = 0.5152454876\n",
            "bestIteration = 1484\n",
            "Shrink model to first 1485 iterations.\n"
          ]
        },
        {
          "output_type": "stream",
          "name": "stderr",
          "text": [
            "Default metric period is 5 because NDCG is/are not implemented for GPU\n",
            "Metric NDCG:type=Base is not implemented on GPU. Will use CPU for metric computation, this could significantly affect learning time\n",
            "Metric NDCG:top=10;type=Exp is not implemented on GPU. Will use CPU for metric computation, this could significantly affect learning time\n"
          ]
        },
        {
          "output_type": "stream",
          "name": "stdout",
          "text": [
            "0:\ttest: 0.3260811\tbest: 0.3260811 (0)\ttotal: 219ms\tremaining: 5m 28s\n",
            "100:\ttest: 0.4747518\tbest: 0.4747518 (100)\ttotal: 5.99s\tremaining: 1m 22s\n",
            "200:\ttest: 0.4904679\tbest: 0.4904679 (200)\ttotal: 12s\tremaining: 1m 17s\n",
            "300:\ttest: 0.4973948\tbest: 0.4973948 (300)\ttotal: 17.7s\tremaining: 1m 10s\n",
            "400:\ttest: 0.5014277\tbest: 0.5016848 (382)\ttotal: 23.3s\tremaining: 1m 3s\n",
            "500:\ttest: 0.5049240\tbest: 0.5049240 (500)\ttotal: 29.4s\tremaining: 58.5s\n",
            "600:\ttest: 0.5057491\tbest: 0.5058904 (587)\ttotal: 34.7s\tremaining: 51.9s\n",
            "700:\ttest: 0.5071150\tbest: 0.5071166 (699)\ttotal: 40.9s\tremaining: 46.7s\n",
            "800:\ttest: 0.5089368\tbest: 0.5089368 (800)\ttotal: 46.3s\tremaining: 40.4s\n",
            "900:\ttest: 0.5106108\tbest: 0.5106108 (900)\ttotal: 52.5s\tremaining: 34.9s\n",
            "1000:\ttest: 0.5118918\tbest: 0.5119318 (997)\ttotal: 57.7s\tremaining: 28.8s\n",
            "1100:\ttest: 0.5126687\tbest: 0.5126687 (1100)\ttotal: 1m 4s\tremaining: 23.2s\n",
            "1200:\ttest: 0.5122789\tbest: 0.5127198 (1110)\ttotal: 1m 9s\tremaining: 17.3s\n",
            "1300:\ttest: 0.5133215\tbest: 0.5136271 (1273)\ttotal: 1m 15s\tremaining: 11.6s\n",
            "1400:\ttest: 0.5136403\tbest: 0.5138078 (1399)\ttotal: 1m 20s\tremaining: 5.72s\n",
            "1499:\ttest: 0.5144222\tbest: 0.5145115 (1487)\ttotal: 1m 27s\tremaining: 0us\n",
            "bestTest = 0.5145115277\n",
            "bestIteration = 1487\n",
            "Shrink model to first 1488 iterations.\n"
          ]
        },
        {
          "output_type": "stream",
          "name": "stderr",
          "text": [
            "Default metric period is 5 because NDCG is/are not implemented for GPU\n",
            "Metric NDCG:type=Base is not implemented on GPU. Will use CPU for metric computation, this could significantly affect learning time\n",
            "Metric NDCG:top=10;type=Exp is not implemented on GPU. Will use CPU for metric computation, this could significantly affect learning time\n"
          ]
        },
        {
          "output_type": "stream",
          "name": "stdout",
          "text": [
            "0:\ttest: 0.3238453\tbest: 0.3238453 (0)\ttotal: 117ms\tremaining: 2m 55s\n",
            "100:\ttest: 0.4721272\tbest: 0.4721272 (100)\ttotal: 6.51s\tremaining: 1m 30s\n",
            "200:\ttest: 0.4907451\tbest: 0.4909977 (199)\ttotal: 11.9s\tremaining: 1m 16s\n",
            "300:\ttest: 0.4965183\tbest: 0.4968417 (287)\ttotal: 18.2s\tremaining: 1m 12s\n",
            "400:\ttest: 0.5005377\tbest: 0.5007437 (397)\ttotal: 23.6s\tremaining: 1m 4s\n",
            "500:\ttest: 0.5037164\tbest: 0.5038546 (497)\ttotal: 29.8s\tremaining: 59.4s\n",
            "600:\ttest: 0.5054473\tbest: 0.5054632 (598)\ttotal: 35.2s\tremaining: 52.6s\n",
            "700:\ttest: 0.5069594\tbest: 0.5071447 (697)\ttotal: 41.4s\tremaining: 47.2s\n",
            "800:\ttest: 0.5087701\tbest: 0.5087701 (800)\ttotal: 46.7s\tremaining: 40.8s\n",
            "900:\ttest: 0.5101513\tbest: 0.5102065 (881)\ttotal: 52.9s\tremaining: 35.2s\n",
            "1000:\ttest: 0.5110955\tbest: 0.5113342 (990)\ttotal: 58.2s\tremaining: 29s\n",
            "1100:\ttest: 0.5121451\tbest: 0.5121451 (1100)\ttotal: 1m 4s\tremaining: 23.3s\n",
            "1200:\ttest: 0.5127251\tbest: 0.5127890 (1199)\ttotal: 1m 9s\tremaining: 17.4s\n",
            "1300:\ttest: 0.5133669\tbest: 0.5136953 (1273)\ttotal: 1m 15s\tremaining: 11.5s\n",
            "1400:\ttest: 0.5142152\tbest: 0.5142152 (1400)\ttotal: 1m 21s\tremaining: 5.75s\n",
            "1499:\ttest: 0.5145755\tbest: 0.5147129 (1498)\ttotal: 1m 26s\tremaining: 0us\n",
            "bestTest = 0.5147129153\n",
            "bestIteration = 1498\n",
            "Shrink model to first 1499 iterations.\n"
          ]
        },
        {
          "output_type": "stream",
          "name": "stderr",
          "text": [
            "Default metric period is 5 because NDCG is/are not implemented for GPU\n",
            "Metric NDCG:type=Base is not implemented on GPU. Will use CPU for metric computation, this could significantly affect learning time\n",
            "Metric NDCG:top=10;type=Exp is not implemented on GPU. Will use CPU for metric computation, this could significantly affect learning time\n"
          ]
        },
        {
          "output_type": "stream",
          "name": "stdout",
          "text": [
            "0:\ttest: 0.3307149\tbest: 0.3307149 (0)\ttotal: 115ms\tremaining: 2m 52s\n",
            "100:\ttest: 0.4714996\tbest: 0.4714996 (100)\ttotal: 6s\tremaining: 1m 23s\n",
            "200:\ttest: 0.4898785\tbest: 0.4898785 (200)\ttotal: 11.9s\tremaining: 1m 17s\n",
            "300:\ttest: 0.4961918\tbest: 0.4962141 (297)\ttotal: 17.5s\tremaining: 1m 9s\n",
            "400:\ttest: 0.4995071\tbest: 0.4995071 (400)\ttotal: 23.6s\tremaining: 1m 4s\n",
            "500:\ttest: 0.5017734\tbest: 0.5020849 (494)\ttotal: 29s\tremaining: 57.9s\n",
            "600:\ttest: 0.5046053\tbest: 0.5046053 (600)\ttotal: 35.3s\tremaining: 52.8s\n",
            "700:\ttest: 0.5058794\tbest: 0.5060304 (696)\ttotal: 40.6s\tremaining: 46.3s\n",
            "800:\ttest: 0.5077836\tbest: 0.5079717 (793)\ttotal: 46.9s\tremaining: 40.9s\n",
            "900:\ttest: 0.5087197\tbest: 0.5089896 (895)\ttotal: 52.2s\tremaining: 34.7s\n",
            "1000:\ttest: 0.5096210\tbest: 0.5102371 (972)\ttotal: 58.3s\tremaining: 29.1s\n",
            "1100:\ttest: 0.5108154\tbest: 0.5108154 (1100)\ttotal: 1m 3s\tremaining: 23.1s\n",
            "1200:\ttest: 0.5107358\tbest: 0.5109048 (1196)\ttotal: 1m 9s\tremaining: 17.4s\n",
            "1300:\ttest: 0.5114162\tbest: 0.5116372 (1294)\ttotal: 1m 15s\tremaining: 11.5s\n",
            "1400:\ttest: 0.5117757\tbest: 0.5121584 (1390)\ttotal: 1m 21s\tremaining: 5.75s\n",
            "1499:\ttest: 0.5124025\tbest: 0.5125564 (1495)\ttotal: 1m 26s\tremaining: 0us\n",
            "bestTest = 0.5125563625\n",
            "bestIteration = 1495\n",
            "Shrink model to first 1496 iterations.\n"
          ]
        },
        {
          "output_type": "stream",
          "name": "stderr",
          "text": [
            "Default metric period is 5 because NDCG is/are not implemented for GPU\n",
            "Metric NDCG:type=Base is not implemented on GPU. Will use CPU for metric computation, this could significantly affect learning time\n",
            "Metric NDCG:top=10;type=Exp is not implemented on GPU. Will use CPU for metric computation, this could significantly affect learning time\n"
          ]
        },
        {
          "output_type": "stream",
          "name": "stdout",
          "text": [
            "0:\ttest: 0.3294239\tbest: 0.3294239 (0)\ttotal: 115ms\tremaining: 2m 52s\n",
            "100:\ttest: 0.4699529\tbest: 0.4699529 (100)\ttotal: 5.72s\tremaining: 1m 19s\n",
            "200:\ttest: 0.4885940\tbest: 0.4888345 (199)\ttotal: 12s\tremaining: 1m 17s\n",
            "300:\ttest: 0.4952654\tbest: 0.4952654 (300)\ttotal: 17.4s\tremaining: 1m 9s\n",
            "400:\ttest: 0.4993533\tbest: 0.4993533 (400)\ttotal: 23.6s\tremaining: 1m 4s\n",
            "500:\ttest: 0.5022992\tbest: 0.5023615 (498)\ttotal: 29s\tremaining: 57.8s\n",
            "600:\ttest: 0.5040583\tbest: 0.5040583 (600)\ttotal: 35.2s\tremaining: 52.7s\n",
            "700:\ttest: 0.5059602\tbest: 0.5059688 (699)\ttotal: 40.6s\tremaining: 46.3s\n",
            "800:\ttest: 0.5076083\tbest: 0.5076083 (800)\ttotal: 46.5s\tremaining: 40.6s\n",
            "900:\ttest: 0.5087662\tbest: 0.5088194 (899)\ttotal: 52s\tremaining: 34.6s\n",
            "1000:\ttest: 0.5090124\tbest: 0.5092460 (998)\ttotal: 57.6s\tremaining: 28.7s\n",
            "1100:\ttest: 0.5096528\tbest: 0.5098555 (1096)\ttotal: 1m 3s\tremaining: 23.1s\n",
            "1200:\ttest: 0.5105400\tbest: 0.5107640 (1187)\ttotal: 1m 9s\tremaining: 17.2s\n",
            "1300:\ttest: 0.5111346\tbest: 0.5115124 (1276)\ttotal: 1m 15s\tremaining: 11.5s\n",
            "1400:\ttest: 0.5117882\tbest: 0.5119327 (1390)\ttotal: 1m 20s\tremaining: 5.69s\n",
            "1499:\ttest: 0.5128377\tbest: 0.5129322 (1486)\ttotal: 1m 26s\tremaining: 0us\n",
            "bestTest = 0.512932211\n",
            "bestIteration = 1486\n",
            "Shrink model to first 1487 iterations.\n"
          ]
        },
        {
          "output_type": "execute_result",
          "data": {
            "text/plain": [
              "(<__main__.Model at 0x79f56b401e10>,\n",
              " {'iterations': 1500,\n",
              "  'early_stopping_rounds': 200,\n",
              "  'eval_metric': 'NDCG:top=10;type=Exp',\n",
              "  'random_seed': 22,\n",
              "  'verbose': 100,\n",
              "  'loss_function': 'YetiRank',\n",
              "  'train_dir': '/tmp/catboost_info.YetiRank',\n",
              "  'use_best_model': True,\n",
              "  'task_type': 'GPU',\n",
              "  'learning_rate': 0.1,\n",
              "  'depth': 9,\n",
              "  'l2_leaf_reg': 0.5})"
            ]
          },
          "metadata": {},
          "execution_count": 35
        }
      ]
    },
    {
      "cell_type": "code",
      "source": [
        "def get_best_model(pool_train, pool_valid):\n",
        "    best_score = 0\n",
        "    best_model = None\n",
        "    best_params = {}\n",
        "\n",
        "    y_valid = pool_valid.get_label()\n",
        "    q_valid = pool_valid.get_group_id_hash()\n",
        "\n",
        "\n",
        "    for min_data_in_leaf in [10, 50, 100]:\n",
        "        for bagging_temperature in [0.5, 0.6, 0.7, 0.8, 0.9, 1]:\n",
        "            params = {\n",
        "              'iterations': 2000,\n",
        "              'eval_metric': 'NDCG:top=10;type=Exp',\n",
        "              'random_seed': 22,\n",
        "              'verbose': 100,\n",
        "              'loss_function': 'YetiRank',\n",
        "              'train_dir': '/tmp/catboost_info.YetiRank',\n",
        "              'use_best_model': True,\n",
        "              'task_type': 'GPU',\n",
        "              'learning_rate': 0.1,\n",
        "              'depth': 9,\n",
        "              'l2_leaf_reg': 0.5,\n",
        "              'min_data_in_leaf': min_data_in_leaf,\n",
        "              'bagging_temperature': bagging_temperature\n",
        "            }\n",
        "\n",
        "            model = Model(params)\n",
        "            model.fit(pool_train, pool_valid)\n",
        "            y_pred = model.predict(pool_valid)\n",
        "            score = utils.eval_metric(y_valid, y_pred, 'NDCG:top=10;type=Exp', group_id=q_valid)[0]\n",
        "\n",
        "            if score > best_score:\n",
        "                best_model = model\n",
        "                best_score = score\n",
        "                best_params = copy.deepcopy(params)\n",
        "\n",
        "    return best_model, best_params"
      ],
      "metadata": {
        "id": "yQFnarpggkVs"
      },
      "id": "yQFnarpggkVs",
      "execution_count": 21,
      "outputs": []
    },
    {
      "cell_type": "code",
      "source": [
        "model, params = get_best_model(pool_train, pool_valid)\n",
        "params"
      ],
      "metadata": {
        "colab": {
          "base_uri": "https://localhost:8080/"
        },
        "id": "vodC6BU-hHh2",
        "outputId": "c1defba3-48bc-4751-b7a6-ecf16a63a333"
      },
      "id": "vodC6BU-hHh2",
      "execution_count": null,
      "outputs": [
        {
          "output_type": "stream",
          "name": "stderr",
          "text": [
            "Default metric period is 5 because NDCG is/are not implemented for GPU\n",
            "Metric NDCG:type=Base is not implemented on GPU. Will use CPU for metric computation, this could significantly affect learning time\n",
            "Metric NDCG:top=10;type=Exp is not implemented on GPU. Will use CPU for metric computation, this could significantly affect learning time\n"
          ]
        },
        {
          "output_type": "stream",
          "name": "stdout",
          "text": [
            "0:\ttest: 0.3361778\tbest: 0.3361778 (0)\ttotal: 184ms\tremaining: 6m 7s\n",
            "100:\ttest: 0.4760278\tbest: 0.4760278 (100)\ttotal: 5.57s\tremaining: 1m 44s\n",
            "200:\ttest: 0.4931763\tbest: 0.4931763 (200)\ttotal: 11.3s\tremaining: 1m 40s\n",
            "300:\ttest: 0.5003196\tbest: 0.5003196 (300)\ttotal: 16.9s\tremaining: 1m 35s\n",
            "400:\ttest: 0.5026095\tbest: 0.5026491 (390)\ttotal: 21.5s\tremaining: 1m 25s\n",
            "500:\ttest: 0.5056198\tbest: 0.5057437 (480)\ttotal: 27s\tremaining: 1m 20s\n",
            "600:\ttest: 0.5077461\tbest: 0.5077461 (600)\ttotal: 31.6s\tremaining: 1m 13s\n",
            "700:\ttest: 0.5093745\tbest: 0.5093745 (700)\ttotal: 36.1s\tremaining: 1m 6s\n",
            "800:\ttest: 0.5099419\tbest: 0.5100270 (795)\ttotal: 41.8s\tremaining: 1m 2s\n",
            "900:\ttest: 0.5119062\tbest: 0.5119062 (900)\ttotal: 46.4s\tremaining: 56.6s\n",
            "1000:\ttest: 0.5131142\tbest: 0.5131142 (1000)\ttotal: 51.9s\tremaining: 51.8s\n",
            "1100:\ttest: 0.5130908\tbest: 0.5135149 (1025)\ttotal: 56.4s\tremaining: 46.1s\n",
            "1200:\ttest: 0.5138190\tbest: 0.5138190 (1200)\ttotal: 1m 1s\tremaining: 40.7s\n",
            "1300:\ttest: 0.5148871\tbest: 0.5148871 (1300)\ttotal: 1m 6s\tremaining: 35.8s\n",
            "1400:\ttest: 0.5157219\tbest: 0.5157219 (1400)\ttotal: 1m 11s\tremaining: 30.7s\n",
            "1500:\ttest: 0.5160938\tbest: 0.5160938 (1500)\ttotal: 1m 17s\tremaining: 25.8s\n",
            "1600:\ttest: 0.5160641\tbest: 0.5163148 (1570)\ttotal: 1m 22s\tremaining: 20.4s\n",
            "1700:\ttest: 0.5170608\tbest: 0.5171423 (1670)\ttotal: 1m 27s\tremaining: 15.4s\n",
            "1800:\ttest: 0.5171841\tbest: 0.5174907 (1790)\ttotal: 1m 32s\tremaining: 10.2s\n",
            "1900:\ttest: 0.5171833\tbest: 0.5174907 (1790)\ttotal: 1m 36s\tremaining: 5.04s\n",
            "1999:\ttest: 0.5168337\tbest: 0.5174907 (1790)\ttotal: 1m 42s\tremaining: 0us\n",
            "bestTest = 0.5174907163\n",
            "bestIteration = 1790\n",
            "Shrink model to first 1791 iterations.\n"
          ]
        },
        {
          "output_type": "stream",
          "name": "stderr",
          "text": [
            "Default metric period is 5 because NDCG is/are not implemented for GPU\n",
            "Metric NDCG:type=Base is not implemented on GPU. Will use CPU for metric computation, this could significantly affect learning time\n",
            "Metric NDCG:top=10;type=Exp is not implemented on GPU. Will use CPU for metric computation, this could significantly affect learning time\n"
          ]
        },
        {
          "output_type": "stream",
          "name": "stdout",
          "text": [
            "0:\ttest: 0.3385121\tbest: 0.3385121 (0)\ttotal: 114ms\tremaining: 3m 48s\n",
            "100:\ttest: 0.4766997\tbest: 0.4766997 (100)\ttotal: 5.92s\tremaining: 1m 51s\n",
            "200:\ttest: 0.4933520\tbest: 0.4933520 (200)\ttotal: 10.5s\tremaining: 1m 34s\n",
            "300:\ttest: 0.4997445\tbest: 0.4998338 (295)\ttotal: 16.2s\tremaining: 1m 31s\n",
            "400:\ttest: 0.5028597\tbest: 0.5028597 (400)\ttotal: 20.7s\tremaining: 1m 22s\n",
            "500:\ttest: 0.5054114\tbest: 0.5054114 (500)\ttotal: 25.3s\tremaining: 1m 15s\n",
            "600:\ttest: 0.5074004\tbest: 0.5074004 (600)\ttotal: 30.9s\tremaining: 1m 11s\n",
            "700:\ttest: 0.5094604\tbest: 0.5094604 (700)\ttotal: 35.5s\tremaining: 1m 5s\n",
            "800:\ttest: 0.5105225\tbest: 0.5107197 (795)\ttotal: 41s\tremaining: 1m 1s\n",
            "900:\ttest: 0.5108885\tbest: 0.5110147 (885)\ttotal: 45.6s\tremaining: 55.6s\n",
            "1000:\ttest: 0.5118033\tbest: 0.5120298 (990)\ttotal: 50.1s\tremaining: 50s\n",
            "1100:\ttest: 0.5127320\tbest: 0.5127956 (1095)\ttotal: 55.8s\tremaining: 45.5s\n",
            "1200:\ttest: 0.5134771\tbest: 0.5136274 (1175)\ttotal: 1m\tremaining: 40.1s\n",
            "1300:\ttest: 0.5140717\tbest: 0.5141096 (1280)\ttotal: 1m 6s\tremaining: 35.5s\n",
            "1400:\ttest: 0.5142664\tbest: 0.5145161 (1380)\ttotal: 1m 10s\tremaining: 30.2s\n",
            "1500:\ttest: 0.5152236\tbest: 0.5154054 (1455)\ttotal: 1m 15s\tremaining: 25.1s\n",
            "1600:\ttest: 0.5151642\tbest: 0.5155021 (1525)\ttotal: 1m 20s\tremaining: 20.1s\n",
            "1700:\ttest: 0.5155555\tbest: 0.5159167 (1645)\ttotal: 1m 25s\tremaining: 15s\n",
            "1800:\ttest: 0.5161874\tbest: 0.5165626 (1745)\ttotal: 1m 30s\tremaining: 10s\n",
            "1900:\ttest: 0.5159939\tbest: 0.5165626 (1745)\ttotal: 1m 35s\tremaining: 4.97s\n",
            "1999:\ttest: 0.5164225\tbest: 0.5168637 (1985)\ttotal: 1m 40s\tremaining: 0us\n",
            "bestTest = 0.5168637115\n",
            "bestIteration = 1985\n",
            "Shrink model to first 1986 iterations.\n"
          ]
        },
        {
          "output_type": "stream",
          "name": "stderr",
          "text": [
            "Default metric period is 5 because NDCG is/are not implemented for GPU\n",
            "Metric NDCG:type=Base is not implemented on GPU. Will use CPU for metric computation, this could significantly affect learning time\n",
            "Metric NDCG:top=10;type=Exp is not implemented on GPU. Will use CPU for metric computation, this could significantly affect learning time\n"
          ]
        },
        {
          "output_type": "stream",
          "name": "stdout",
          "text": [
            "0:\ttest: 0.3393252\tbest: 0.3393252 (0)\ttotal: 114ms\tremaining: 3m 47s\n",
            "100:\ttest: 0.4761293\tbest: 0.4761293 (100)\ttotal: 5.07s\tremaining: 1m 35s\n",
            "200:\ttest: 0.4913203\tbest: 0.4913203 (200)\ttotal: 10.6s\tremaining: 1m 34s\n",
            "300:\ttest: 0.4985129\tbest: 0.4985129 (300)\ttotal: 15.2s\tremaining: 1m 25s\n",
            "400:\ttest: 0.5020406\tbest: 0.5020406 (400)\ttotal: 21.6s\tremaining: 1m 26s\n",
            "500:\ttest: 0.5046190\tbest: 0.5048714 (490)\ttotal: 26.2s\tremaining: 1m 18s\n",
            "600:\ttest: 0.5068796\tbest: 0.5068796 (600)\ttotal: 31.8s\tremaining: 1m 13s\n",
            "700:\ttest: 0.5085354\tbest: 0.5086280 (685)\ttotal: 36.4s\tremaining: 1m 7s\n",
            "800:\ttest: 0.5094321\tbest: 0.5096139 (795)\ttotal: 41s\tremaining: 1m 1s\n",
            "900:\ttest: 0.5118522\tbest: 0.5118522 (900)\ttotal: 46.5s\tremaining: 56.7s\n",
            "1000:\ttest: 0.5119389\tbest: 0.5122398 (950)\ttotal: 51.1s\tremaining: 51s\n",
            "1100:\ttest: 0.5129506\tbest: 0.5131111 (1095)\ttotal: 56.6s\tremaining: 46.2s\n",
            "1200:\ttest: 0.5133707\tbest: 0.5134166 (1165)\ttotal: 1m 1s\tremaining: 40.7s\n",
            "1300:\ttest: 0.5138956\tbest: 0.5139407 (1295)\ttotal: 1m 5s\tremaining: 35.4s\n",
            "1400:\ttest: 0.5138435\tbest: 0.5142932 (1360)\ttotal: 1m 11s\tremaining: 30.5s\n",
            "1500:\ttest: 0.5147445\tbest: 0.5148680 (1475)\ttotal: 1m 15s\tremaining: 25.3s\n",
            "1600:\ttest: 0.5144961\tbest: 0.5150354 (1540)\ttotal: 1m 21s\tremaining: 20.3s\n",
            "1700:\ttest: 0.5144959\tbest: 0.5150354 (1540)\ttotal: 1m 26s\tremaining: 15.1s\n",
            "1800:\ttest: 0.5157505\tbest: 0.5157505 (1800)\ttotal: 1m 30s\tremaining: 10s\n",
            "1900:\ttest: 0.5159118\tbest: 0.5159201 (1895)\ttotal: 1m 36s\tremaining: 5.01s\n",
            "1999:\ttest: 0.5161397\tbest: 0.5165524 (1975)\ttotal: 1m 40s\tremaining: 0us\n",
            "bestTest = 0.5165524433\n",
            "bestIteration = 1975\n",
            "Shrink model to first 1976 iterations.\n"
          ]
        },
        {
          "output_type": "stream",
          "name": "stderr",
          "text": [
            "Default metric period is 5 because NDCG is/are not implemented for GPU\n",
            "Metric NDCG:type=Base is not implemented on GPU. Will use CPU for metric computation, this could significantly affect learning time\n",
            "Metric NDCG:top=10;type=Exp is not implemented on GPU. Will use CPU for metric computation, this could significantly affect learning time\n"
          ]
        },
        {
          "output_type": "stream",
          "name": "stdout",
          "text": [
            "0:\ttest: 0.3160694\tbest: 0.3160694 (0)\ttotal: 121ms\tremaining: 4m 1s\n",
            "100:\ttest: 0.4755216\tbest: 0.4755216 (100)\ttotal: 4.91s\tremaining: 1m 32s\n",
            "200:\ttest: 0.4930752\tbest: 0.4930752 (200)\ttotal: 11.3s\tremaining: 1m 40s\n",
            "300:\ttest: 0.4992085\tbest: 0.4995322 (295)\ttotal: 16.1s\tremaining: 1m 30s\n",
            "400:\ttest: 0.5020426\tbest: 0.5023068 (380)\ttotal: 20.7s\tremaining: 1m 22s\n",
            "500:\ttest: 0.5058282\tbest: 0.5058282 (500)\ttotal: 26.3s\tremaining: 1m 18s\n",
            "600:\ttest: 0.5075126\tbest: 0.5075126 (600)\ttotal: 30.9s\tremaining: 1m 11s\n",
            "700:\ttest: 0.5092861\tbest: 0.5092861 (700)\ttotal: 36.4s\tremaining: 1m 7s\n",
            "800:\ttest: 0.5105143\tbest: 0.5106853 (795)\ttotal: 41s\tremaining: 1m 1s\n",
            "900:\ttest: 0.5119313\tbest: 0.5119313 (900)\ttotal: 45.6s\tremaining: 55.6s\n",
            "1000:\ttest: 0.5130155\tbest: 0.5131515 (990)\ttotal: 51.1s\tremaining: 51s\n",
            "1100:\ttest: 0.5144734\tbest: 0.5144759 (1090)\ttotal: 55.8s\tremaining: 45.5s\n",
            "1200:\ttest: 0.5144098\tbest: 0.5145257 (1110)\ttotal: 1m 1s\tremaining: 40.8s\n",
            "1300:\ttest: 0.5150204\tbest: 0.5150204 (1300)\ttotal: 1m 5s\tremaining: 35.4s\n",
            "1400:\ttest: 0.5150724\tbest: 0.5153483 (1320)\ttotal: 1m 10s\tremaining: 30.1s\n",
            "1500:\ttest: 0.5159576\tbest: 0.5159576 (1500)\ttotal: 1m 15s\tremaining: 25.3s\n",
            "1600:\ttest: 0.5158782\tbest: 0.5160607 (1525)\ttotal: 1m 20s\tremaining: 20.1s\n",
            "1700:\ttest: 0.5162400\tbest: 0.5162400 (1700)\ttotal: 1m 26s\tremaining: 15.1s\n",
            "1800:\ttest: 0.5160405\tbest: 0.5166157 (1780)\ttotal: 1m 30s\tremaining: 10s\n",
            "1900:\ttest: 0.5162350\tbest: 0.5167417 (1830)\ttotal: 1m 35s\tremaining: 4.96s\n",
            "1999:\ttest: 0.5162297\tbest: 0.5167417 (1830)\ttotal: 1m 40s\tremaining: 0us\n",
            "bestTest = 0.5167416535\n",
            "bestIteration = 1830\n",
            "Shrink model to first 1831 iterations.\n"
          ]
        },
        {
          "output_type": "stream",
          "name": "stderr",
          "text": [
            "Default metric period is 5 because NDCG is/are not implemented for GPU\n",
            "Metric NDCG:type=Base is not implemented on GPU. Will use CPU for metric computation, this could significantly affect learning time\n",
            "Metric NDCG:top=10;type=Exp is not implemented on GPU. Will use CPU for metric computation, this could significantly affect learning time\n"
          ]
        },
        {
          "output_type": "stream",
          "name": "stdout",
          "text": [
            "0:\ttest: 0.3242144\tbest: 0.3242144 (0)\ttotal: 122ms\tremaining: 4m 3s\n",
            "100:\ttest: 0.4764949\tbest: 0.4764949 (100)\ttotal: 5.94s\tremaining: 1m 51s\n",
            "200:\ttest: 0.4921122\tbest: 0.4921122 (200)\ttotal: 10.6s\tremaining: 1m 34s\n",
            "300:\ttest: 0.4992844\tbest: 0.4992844 (300)\ttotal: 16.2s\tremaining: 1m 31s\n",
            "400:\ttest: 0.5024850\tbest: 0.5024850 (400)\ttotal: 20.8s\tremaining: 1m 22s\n",
            "500:\ttest: 0.5052217\tbest: 0.5052217 (500)\ttotal: 25.7s\tremaining: 1m 16s\n",
            "600:\ttest: 0.5072242\tbest: 0.5072242 (600)\ttotal: 30.9s\tremaining: 1m 12s\n",
            "700:\ttest: 0.5088368\tbest: 0.5088368 (700)\ttotal: 35.6s\tremaining: 1m 5s\n",
            "800:\ttest: 0.5099482\tbest: 0.5099482 (800)\ttotal: 41.1s\tremaining: 1m 1s\n",
            "900:\ttest: 0.5102270\tbest: 0.5102612 (865)\ttotal: 45.7s\tremaining: 55.7s\n",
            "1000:\ttest: 0.5108969\tbest: 0.5111477 (990)\ttotal: 50.8s\tremaining: 50.7s\n",
            "1100:\ttest: 0.5112956\tbest: 0.5114711 (1025)\ttotal: 55.8s\tremaining: 45.5s\n",
            "1200:\ttest: 0.5122132\tbest: 0.5125476 (1185)\ttotal: 1m\tremaining: 40.1s\n",
            "1300:\ttest: 0.5132918\tbest: 0.5136159 (1265)\ttotal: 1m 5s\tremaining: 35.4s\n",
            "1400:\ttest: 0.5128519\tbest: 0.5136562 (1355)\ttotal: 1m 10s\tremaining: 30.1s\n",
            "1500:\ttest: 0.5132787\tbest: 0.5136562 (1355)\ttotal: 1m 15s\tremaining: 25.1s\n",
            "1600:\ttest: 0.5137476\tbest: 0.5137476 (1600)\ttotal: 1m 20s\tremaining: 20.1s\n",
            "1700:\ttest: 0.5133324\tbest: 0.5137817 (1610)\ttotal: 1m 25s\tremaining: 15s\n",
            "1800:\ttest: 0.5136789\tbest: 0.5137986 (1790)\ttotal: 1m 30s\tremaining: 10s\n",
            "1900:\ttest: 0.5142504\tbest: 0.5142504 (1900)\ttotal: 1m 35s\tremaining: 4.96s\n",
            "1999:\ttest: 0.5138631\tbest: 0.5143718 (1960)\ttotal: 1m 40s\tremaining: 0us\n",
            "bestTest = 0.5143718073\n",
            "bestIteration = 1960\n",
            "Shrink model to first 1961 iterations.\n"
          ]
        },
        {
          "output_type": "stream",
          "name": "stderr",
          "text": [
            "Default metric period is 5 because NDCG is/are not implemented for GPU\n",
            "Metric NDCG:type=Base is not implemented on GPU. Will use CPU for metric computation, this could significantly affect learning time\n",
            "Metric NDCG:top=10;type=Exp is not implemented on GPU. Will use CPU for metric computation, this could significantly affect learning time\n"
          ]
        },
        {
          "output_type": "stream",
          "name": "stdout",
          "text": [
            "0:\ttest: 0.3279862\tbest: 0.3279862 (0)\ttotal: 122ms\tremaining: 4m 3s\n",
            "100:\ttest: 0.4753575\tbest: 0.4753575 (100)\ttotal: 5.61s\tremaining: 1m 45s\n",
            "200:\ttest: 0.4917366\tbest: 0.4917366 (200)\ttotal: 10.5s\tremaining: 1m 33s\n",
            "300:\ttest: 0.4991956\tbest: 0.4991956 (300)\ttotal: 15.1s\tremaining: 1m 24s\n",
            "400:\ttest: 0.5023931\tbest: 0.5023931 (400)\ttotal: 21s\tremaining: 1m 23s\n",
            "500:\ttest: 0.5045781\tbest: 0.5046657 (495)\ttotal: 26.2s\tremaining: 1m 18s\n",
            "600:\ttest: 0.5064683\tbest: 0.5066499 (575)\ttotal: 31.7s\tremaining: 1m 13s\n",
            "700:\ttest: 0.5080648\tbest: 0.5080648 (700)\ttotal: 36.3s\tremaining: 1m 7s\n",
            "800:\ttest: 0.5106540\tbest: 0.5106540 (800)\ttotal: 40.9s\tremaining: 1m 1s\n",
            "900:\ttest: 0.5110138\tbest: 0.5112363 (885)\ttotal: 46.4s\tremaining: 56.6s\n",
            "1000:\ttest: 0.5114176\tbest: 0.5114303 (995)\ttotal: 51s\tremaining: 50.9s\n",
            "1100:\ttest: 0.5123580\tbest: 0.5126043 (1095)\ttotal: 56.6s\tremaining: 46.2s\n",
            "1200:\ttest: 0.5130547\tbest: 0.5131680 (1190)\ttotal: 1m 1s\tremaining: 40.7s\n",
            "1300:\ttest: 0.5138831\tbest: 0.5143438 (1290)\ttotal: 1m 5s\tremaining: 35.3s\n",
            "1400:\ttest: 0.5145191\tbest: 0.5150218 (1395)\ttotal: 1m 11s\tremaining: 30.5s\n",
            "1500:\ttest: 0.5147728\tbest: 0.5152112 (1485)\ttotal: 1m 15s\tremaining: 25.2s\n",
            "1600:\ttest: 0.5154763\tbest: 0.5154763 (1600)\ttotal: 1m 21s\tremaining: 20.3s\n",
            "1700:\ttest: 0.5155141\tbest: 0.5156074 (1655)\ttotal: 1m 26s\tremaining: 15.1s\n",
            "1800:\ttest: 0.5157999\tbest: 0.5157999 (1800)\ttotal: 1m 30s\tremaining: 10s\n",
            "1900:\ttest: 0.5159391\tbest: 0.5159987 (1805)\ttotal: 1m 36s\tremaining: 5.01s\n",
            "1999:\ttest: 0.5159737\tbest: 0.5160807 (1920)\ttotal: 1m 40s\tremaining: 0us\n",
            "bestTest = 0.5160806856\n",
            "bestIteration = 1920\n",
            "Shrink model to first 1921 iterations.\n"
          ]
        },
        {
          "output_type": "stream",
          "name": "stderr",
          "text": [
            "Default metric period is 5 because NDCG is/are not implemented for GPU\n",
            "Metric NDCG:type=Base is not implemented on GPU. Will use CPU for metric computation, this could significantly affect learning time\n",
            "Metric NDCG:top=10;type=Exp is not implemented on GPU. Will use CPU for metric computation, this could significantly affect learning time\n"
          ]
        },
        {
          "output_type": "stream",
          "name": "stdout",
          "text": [
            "0:\ttest: 0.3361778\tbest: 0.3361778 (0)\ttotal: 116ms\tremaining: 3m 51s\n",
            "100:\ttest: 0.4760278\tbest: 0.4760278 (100)\ttotal: 4.94s\tremaining: 1m 32s\n",
            "200:\ttest: 0.4931763\tbest: 0.4931763 (200)\ttotal: 10.5s\tremaining: 1m 34s\n",
            "300:\ttest: 0.5003196\tbest: 0.5003196 (300)\ttotal: 15.2s\tremaining: 1m 25s\n",
            "400:\ttest: 0.5026095\tbest: 0.5026491 (390)\ttotal: 19.9s\tremaining: 1m 19s\n",
            "500:\ttest: 0.5056198\tbest: 0.5057437 (480)\ttotal: 25.3s\tremaining: 1m 15s\n",
            "600:\ttest: 0.5077461\tbest: 0.5077461 (600)\ttotal: 29.9s\tremaining: 1m 9s\n",
            "700:\ttest: 0.5093745\tbest: 0.5093745 (700)\ttotal: 35.6s\tremaining: 1m 5s\n",
            "800:\ttest: 0.5099419\tbest: 0.5100270 (795)\ttotal: 40.2s\tremaining: 1m\n",
            "900:\ttest: 0.5119062\tbest: 0.5119062 (900)\ttotal: 45s\tremaining: 54.9s\n",
            "1000:\ttest: 0.5131142\tbest: 0.5131142 (1000)\ttotal: 50.3s\tremaining: 50.2s\n",
            "1100:\ttest: 0.5130908\tbest: 0.5135149 (1025)\ttotal: 54.9s\tremaining: 44.8s\n",
            "1200:\ttest: 0.5138190\tbest: 0.5138190 (1200)\ttotal: 1m\tremaining: 40.2s\n",
            "1300:\ttest: 0.5148871\tbest: 0.5148871 (1300)\ttotal: 1m 4s\tremaining: 34.9s\n",
            "1400:\ttest: 0.5157219\tbest: 0.5157219 (1400)\ttotal: 1m 10s\tremaining: 29.9s\n",
            "1500:\ttest: 0.5160938\tbest: 0.5160938 (1500)\ttotal: 1m 15s\tremaining: 25s\n",
            "1600:\ttest: 0.5160628\tbest: 0.5163135 (1570)\ttotal: 1m 19s\tremaining: 19.9s\n",
            "1700:\ttest: 0.5170608\tbest: 0.5171397 (1670)\ttotal: 1m 25s\tremaining: 15s\n",
            "1800:\ttest: 0.5171876\tbest: 0.5174907 (1790)\ttotal: 1m 29s\tremaining: 9.94s\n",
            "1900:\ttest: 0.5171833\tbest: 0.5174907 (1790)\ttotal: 1m 35s\tremaining: 4.96s\n",
            "1999:\ttest: 0.5171213\tbest: 0.5174907 (1790)\ttotal: 1m 40s\tremaining: 0us\n",
            "bestTest = 0.5174907163\n",
            "bestIteration = 1790\n",
            "Shrink model to first 1791 iterations.\n"
          ]
        },
        {
          "output_type": "stream",
          "name": "stderr",
          "text": [
            "Default metric period is 5 because NDCG is/are not implemented for GPU\n",
            "Metric NDCG:type=Base is not implemented on GPU. Will use CPU for metric computation, this could significantly affect learning time\n",
            "Metric NDCG:top=10;type=Exp is not implemented on GPU. Will use CPU for metric computation, this could significantly affect learning time\n"
          ]
        },
        {
          "output_type": "stream",
          "name": "stdout",
          "text": [
            "0:\ttest: 0.3385121\tbest: 0.3385121 (0)\ttotal: 186ms\tremaining: 6m 12s\n",
            "100:\ttest: 0.4766997\tbest: 0.4766997 (100)\ttotal: 5.58s\tremaining: 1m 44s\n",
            "200:\ttest: 0.4933520\tbest: 0.4933520 (200)\ttotal: 10.2s\tremaining: 1m 31s\n",
            "300:\ttest: 0.4997445\tbest: 0.4998338 (295)\ttotal: 15.9s\tremaining: 1m 29s\n",
            "400:\ttest: 0.5028597\tbest: 0.5028597 (400)\ttotal: 20.4s\tremaining: 1m 21s\n",
            "500:\ttest: 0.5054114\tbest: 0.5054114 (500)\ttotal: 25.8s\tremaining: 1m 17s\n",
            "600:\ttest: 0.5074004\tbest: 0.5074004 (600)\ttotal: 30.6s\tremaining: 1m 11s\n",
            "700:\ttest: 0.5094604\tbest: 0.5094604 (700)\ttotal: 36.2s\tremaining: 1m 7s\n",
            "800:\ttest: 0.5105225\tbest: 0.5107197 (795)\ttotal: 41.8s\tremaining: 1m 2s\n",
            "900:\ttest: 0.5108885\tbest: 0.5110147 (885)\ttotal: 46.4s\tremaining: 56.6s\n",
            "1000:\ttest: 0.5118033\tbest: 0.5120298 (990)\ttotal: 52s\tremaining: 51.9s\n",
            "1100:\ttest: 0.5127320\tbest: 0.5127956 (1095)\ttotal: 56.6s\tremaining: 46.3s\n",
            "1200:\ttest: 0.5134771\tbest: 0.5136274 (1175)\ttotal: 1m 1s\tremaining: 40.8s\n",
            "1300:\ttest: 0.5140717\tbest: 0.5141096 (1280)\ttotal: 1m 6s\tremaining: 35.9s\n",
            "1400:\ttest: 0.5142664\tbest: 0.5145161 (1380)\ttotal: 1m 11s\tremaining: 30.5s\n",
            "1500:\ttest: 0.5152236\tbest: 0.5154054 (1455)\ttotal: 1m 16s\tremaining: 25.6s\n",
            "1600:\ttest: 0.5151642\tbest: 0.5155021 (1525)\ttotal: 1m 21s\tremaining: 20.3s\n",
            "1700:\ttest: 0.5155555\tbest: 0.5159167 (1645)\ttotal: 1m 26s\tremaining: 15.2s\n",
            "1800:\ttest: 0.5161874\tbest: 0.5165626 (1745)\ttotal: 1m 31s\tremaining: 10.1s\n",
            "1900:\ttest: 0.5159939\tbest: 0.5165626 (1745)\ttotal: 1m 36s\tremaining: 5.01s\n",
            "1999:\ttest: 0.5164225\tbest: 0.5168637 (1985)\ttotal: 1m 41s\tremaining: 0us\n",
            "bestTest = 0.5168637115\n",
            "bestIteration = 1985\n",
            "Shrink model to first 1986 iterations.\n"
          ]
        },
        {
          "output_type": "stream",
          "name": "stderr",
          "text": [
            "Default metric period is 5 because NDCG is/are not implemented for GPU\n",
            "Metric NDCG:type=Base is not implemented on GPU. Will use CPU for metric computation, this could significantly affect learning time\n",
            "Metric NDCG:top=10;type=Exp is not implemented on GPU. Will use CPU for metric computation, this could significantly affect learning time\n"
          ]
        },
        {
          "output_type": "stream",
          "name": "stdout",
          "text": [
            "0:\ttest: 0.3393252\tbest: 0.3393252 (0)\ttotal: 113ms\tremaining: 3m 46s\n",
            "100:\ttest: 0.4750097\tbest: 0.4750097 (100)\ttotal: 6.01s\tremaining: 1m 53s\n",
            "200:\ttest: 0.4914406\tbest: 0.4914406 (200)\ttotal: 10.6s\tremaining: 1m 35s\n",
            "300:\ttest: 0.4987735\tbest: 0.4987735 (300)\ttotal: 15.9s\tremaining: 1m 29s\n",
            "400:\ttest: 0.5025449\tbest: 0.5026934 (395)\ttotal: 20.7s\tremaining: 1m 22s\n",
            "500:\ttest: 0.5043537\tbest: 0.5047054 (485)\ttotal: 25.4s\tremaining: 1m 15s\n",
            "600:\ttest: 0.5068472\tbest: 0.5068472 (600)\ttotal: 30.9s\tremaining: 1m 11s\n",
            "700:\ttest: 0.5084600\tbest: 0.5084600 (700)\ttotal: 35.5s\tremaining: 1m 5s\n",
            "800:\ttest: 0.5103800\tbest: 0.5107857 (790)\ttotal: 40.8s\tremaining: 1m 1s\n",
            "900:\ttest: 0.5116890\tbest: 0.5118631 (885)\ttotal: 45.6s\tremaining: 55.7s\n",
            "1000:\ttest: 0.5121114\tbest: 0.5124596 (975)\ttotal: 50.2s\tremaining: 50.1s\n",
            "1100:\ttest: 0.5127693\tbest: 0.5129057 (1075)\ttotal: 55.7s\tremaining: 45.5s\n",
            "1200:\ttest: 0.5134896\tbest: 0.5134896 (1200)\ttotal: 1m\tremaining: 40.1s\n",
            "1300:\ttest: 0.5133087\tbest: 0.5134896 (1200)\ttotal: 1m 5s\tremaining: 35.3s\n",
            "1400:\ttest: 0.5143440\tbest: 0.5143440 (1400)\ttotal: 1m 10s\tremaining: 30.1s\n",
            "1500:\ttest: 0.5145452\tbest: 0.5145832 (1495)\ttotal: 1m 15s\tremaining: 24.9s\n",
            "1600:\ttest: 0.5145782\tbest: 0.5152530 (1550)\ttotal: 1m 20s\tremaining: 20.1s\n",
            "1700:\ttest: 0.5146415\tbest: 0.5152530 (1550)\ttotal: 1m 25s\tremaining: 15s\n",
            "1800:\ttest: 0.5152768\tbest: 0.5152768 (1800)\ttotal: 1m 30s\tremaining: 10s\n",
            "1900:\ttest: 0.5157876\tbest: 0.5160456 (1860)\ttotal: 1m 35s\tremaining: 4.96s\n",
            "1999:\ttest: 0.5159492\tbest: 0.5161450 (1995)\ttotal: 1m 39s\tremaining: 0us\n",
            "bestTest = 0.516145029\n",
            "bestIteration = 1995\n",
            "Shrink model to first 1996 iterations.\n"
          ]
        },
        {
          "output_type": "stream",
          "name": "stderr",
          "text": [
            "Default metric period is 5 because NDCG is/are not implemented for GPU\n",
            "Metric NDCG:type=Base is not implemented on GPU. Will use CPU for metric computation, this could significantly affect learning time\n",
            "Metric NDCG:top=10;type=Exp is not implemented on GPU. Will use CPU for metric computation, this could significantly affect learning time\n"
          ]
        },
        {
          "output_type": "stream",
          "name": "stdout",
          "text": [
            "0:\ttest: 0.3160694\tbest: 0.3160694 (0)\ttotal: 115ms\tremaining: 3m 49s\n",
            "100:\ttest: 0.4755216\tbest: 0.4755216 (100)\ttotal: 4.92s\tremaining: 1m 32s\n",
            "200:\ttest: 0.4930752\tbest: 0.4930752 (200)\ttotal: 10.5s\tremaining: 1m 34s\n",
            "300:\ttest: 0.4992085\tbest: 0.4995322 (295)\ttotal: 15.2s\tremaining: 1m 25s\n",
            "400:\ttest: 0.5020426\tbest: 0.5023068 (380)\ttotal: 20.6s\tremaining: 1m 22s\n",
            "500:\ttest: 0.5058282\tbest: 0.5058282 (500)\ttotal: 25.3s\tremaining: 1m 15s\n",
            "600:\ttest: 0.5075126\tbest: 0.5075126 (600)\ttotal: 29.9s\tremaining: 1m 9s\n",
            "700:\ttest: 0.5092861\tbest: 0.5092861 (700)\ttotal: 35.5s\tremaining: 1m 5s\n",
            "800:\ttest: 0.5105143\tbest: 0.5106853 (795)\ttotal: 40.1s\tremaining: 60s\n",
            "900:\ttest: 0.5119313\tbest: 0.5119313 (900)\ttotal: 45.6s\tremaining: 55.6s\n",
            "1000:\ttest: 0.5130155\tbest: 0.5131515 (990)\ttotal: 50.2s\tremaining: 50.1s\n",
            "1100:\ttest: 0.5144734\tbest: 0.5144759 (1090)\ttotal: 55.9s\tremaining: 45.7s\n",
            "1200:\ttest: 0.5144098\tbest: 0.5145257 (1110)\ttotal: 1m 1s\tremaining: 40.8s\n",
            "1300:\ttest: 0.5150194\tbest: 0.5150194 (1300)\ttotal: 1m 5s\tremaining: 35.4s\n",
            "1400:\ttest: 0.5150724\tbest: 0.5153483 (1320)\ttotal: 1m 11s\tremaining: 30.6s\n",
            "1500:\ttest: 0.5159566\tbest: 0.5159566 (1500)\ttotal: 1m 16s\tremaining: 25.3s\n",
            "1600:\ttest: 0.5158782\tbest: 0.5160597 (1525)\ttotal: 1m 20s\tremaining: 20.2s\n",
            "1700:\ttest: 0.5161690\tbest: 0.5161690 (1700)\ttotal: 1m 26s\tremaining: 15.2s\n",
            "1800:\ttest: 0.5163145\tbest: 0.5166370 (1765)\ttotal: 1m 31s\tremaining: 10.1s\n",
            "1900:\ttest: 0.5163689\tbest: 0.5166370 (1765)\ttotal: 1m 37s\tremaining: 5.07s\n",
            "1999:\ttest: 0.5169391\tbest: 0.5169972 (1985)\ttotal: 1m 41s\tremaining: 0us\n",
            "bestTest = 0.5169971534\n",
            "bestIteration = 1985\n",
            "Shrink model to first 1986 iterations.\n"
          ]
        },
        {
          "output_type": "stream",
          "name": "stderr",
          "text": [
            "Default metric period is 5 because NDCG is/are not implemented for GPU\n",
            "Metric NDCG:type=Base is not implemented on GPU. Will use CPU for metric computation, this could significantly affect learning time\n",
            "Metric NDCG:top=10;type=Exp is not implemented on GPU. Will use CPU for metric computation, this could significantly affect learning time\n"
          ]
        },
        {
          "output_type": "stream",
          "name": "stdout",
          "text": [
            "0:\ttest: 0.3242144\tbest: 0.3242144 (0)\ttotal: 118ms\tremaining: 3m 55s\n",
            "100:\ttest: 0.4764949\tbest: 0.4764949 (100)\ttotal: 4.93s\tremaining: 1m 32s\n",
            "200:\ttest: 0.4921122\tbest: 0.4921122 (200)\ttotal: 10.9s\tremaining: 1m 37s\n",
            "300:\ttest: 0.4992844\tbest: 0.4992844 (300)\ttotal: 16s\tremaining: 1m 30s\n",
            "400:\ttest: 0.5024850\tbest: 0.5024850 (400)\ttotal: 20.6s\tremaining: 1m 22s\n",
            "500:\ttest: 0.5052217\tbest: 0.5052217 (500)\ttotal: 26.2s\tremaining: 1m 18s\n",
            "600:\ttest: 0.5072242\tbest: 0.5072242 (600)\ttotal: 30.8s\tremaining: 1m 11s\n",
            "700:\ttest: 0.5088368\tbest: 0.5088368 (700)\ttotal: 36.4s\tremaining: 1m 7s\n",
            "800:\ttest: 0.5099482\tbest: 0.5099482 (800)\ttotal: 41s\tremaining: 1m 1s\n",
            "900:\ttest: 0.5102270\tbest: 0.5102612 (865)\ttotal: 47.2s\tremaining: 57.5s\n",
            "1000:\ttest: 0.5108969\tbest: 0.5111477 (990)\ttotal: 52.2s\tremaining: 52.1s\n",
            "1100:\ttest: 0.5112956\tbest: 0.5114711 (1025)\ttotal: 56.8s\tremaining: 46.3s\n",
            "1200:\ttest: 0.5122132\tbest: 0.5125476 (1185)\ttotal: 1m 2s\tremaining: 41.4s\n",
            "1300:\ttest: 0.5132918\tbest: 0.5136159 (1265)\ttotal: 1m 6s\tremaining: 35.9s\n",
            "1400:\ttest: 0.5128519\tbest: 0.5136562 (1355)\ttotal: 1m 12s\tremaining: 30.9s\n",
            "1500:\ttest: 0.5132787\tbest: 0.5136562 (1355)\ttotal: 1m 17s\tremaining: 25.9s\n",
            "1600:\ttest: 0.5137476\tbest: 0.5137476 (1600)\ttotal: 1m 22s\tremaining: 20.6s\n",
            "1700:\ttest: 0.5133324\tbest: 0.5137817 (1610)\ttotal: 1m 28s\tremaining: 15.5s\n",
            "1800:\ttest: 0.5136789\tbest: 0.5137986 (1790)\ttotal: 1m 32s\tremaining: 10.3s\n",
            "1900:\ttest: 0.5142504\tbest: 0.5142504 (1900)\ttotal: 1m 38s\tremaining: 5.12s\n",
            "1999:\ttest: 0.5138631\tbest: 0.5143718 (1960)\ttotal: 1m 42s\tremaining: 0us\n",
            "bestTest = 0.5143718073\n",
            "bestIteration = 1960\n",
            "Shrink model to first 1961 iterations.\n"
          ]
        },
        {
          "output_type": "stream",
          "name": "stderr",
          "text": [
            "Default metric period is 5 because NDCG is/are not implemented for GPU\n",
            "Metric NDCG:type=Base is not implemented on GPU. Will use CPU for metric computation, this could significantly affect learning time\n",
            "Metric NDCG:top=10;type=Exp is not implemented on GPU. Will use CPU for metric computation, this could significantly affect learning time\n"
          ]
        },
        {
          "output_type": "stream",
          "name": "stdout",
          "text": [
            "0:\ttest: 0.3279862\tbest: 0.3279862 (0)\ttotal: 118ms\tremaining: 3m 54s\n",
            "100:\ttest: 0.4752897\tbest: 0.4752897 (100)\ttotal: 4.95s\tremaining: 1m 33s\n",
            "200:\ttest: 0.4919118\tbest: 0.4919118 (200)\ttotal: 10.7s\tremaining: 1m 35s\n",
            "300:\ttest: 0.4987576\tbest: 0.4988405 (290)\ttotal: 16.1s\tremaining: 1m 31s\n",
            "400:\ttest: 0.5016939\tbest: 0.5016939 (400)\ttotal: 20.8s\tremaining: 1m 22s\n",
            "500:\ttest: 0.5055351\tbest: 0.5055351 (500)\ttotal: 26.3s\tremaining: 1m 18s\n",
            "600:\ttest: 0.5067415\tbest: 0.5068371 (580)\ttotal: 30.9s\tremaining: 1m 12s\n",
            "700:\ttest: 0.5077444\tbest: 0.5080754 (695)\ttotal: 36.1s\tremaining: 1m 6s\n",
            "800:\ttest: 0.5092365\tbest: 0.5092365 (800)\ttotal: 41.6s\tremaining: 1m 2s\n",
            "900:\ttest: 0.5103383\tbest: 0.5106859 (890)\ttotal: 47s\tremaining: 57.3s\n",
            "1000:\ttest: 0.5115167\tbest: 0.5117503 (965)\ttotal: 52.5s\tremaining: 52.4s\n",
            "1100:\ttest: 0.5127074\tbest: 0.5127959 (1090)\ttotal: 57.1s\tremaining: 46.6s\n",
            "1200:\ttest: 0.5135708\tbest: 0.5136824 (1175)\ttotal: 1m 2s\tremaining: 41.7s\n",
            "1300:\ttest: 0.5135016\tbest: 0.5141500 (1250)\ttotal: 1m 7s\tremaining: 36.2s\n",
            "1400:\ttest: 0.5149208\tbest: 0.5150113 (1395)\ttotal: 1m 12s\tremaining: 30.8s\n",
            "1500:\ttest: 0.5153039\tbest: 0.5154289 (1480)\ttotal: 1m 18s\tremaining: 26.1s\n",
            "1600:\ttest: 0.5156938\tbest: 0.5160009 (1545)\ttotal: 1m 23s\tremaining: 20.7s\n",
            "1700:\ttest: 0.5164522\tbest: 0.5164522 (1700)\ttotal: 1m 28s\tremaining: 15.6s\n",
            "1800:\ttest: 0.5166558\tbest: 0.5168076 (1795)\ttotal: 1m 33s\tremaining: 10.3s\n",
            "1900:\ttest: 0.5167021\tbest: 0.5168076 (1795)\ttotal: 1m 38s\tremaining: 5.14s\n",
            "1999:\ttest: 0.5166234\tbest: 0.5170278 (1910)\ttotal: 1m 43s\tremaining: 0us\n",
            "bestTest = 0.5170277968\n",
            "bestIteration = 1910\n",
            "Shrink model to first 1911 iterations.\n"
          ]
        },
        {
          "output_type": "stream",
          "name": "stderr",
          "text": [
            "Default metric period is 5 because NDCG is/are not implemented for GPU\n",
            "Metric NDCG:type=Base is not implemented on GPU. Will use CPU for metric computation, this could significantly affect learning time\n",
            "Metric NDCG:top=10;type=Exp is not implemented on GPU. Will use CPU for metric computation, this could significantly affect learning time\n"
          ]
        },
        {
          "output_type": "stream",
          "name": "stdout",
          "text": [
            "0:\ttest: 0.3361778\tbest: 0.3361778 (0)\ttotal: 144ms\tremaining: 4m 48s\n",
            "100:\ttest: 0.4760278\tbest: 0.4760278 (100)\ttotal: 5s\tremaining: 1m 34s\n",
            "200:\ttest: 0.4931763\tbest: 0.4931763 (200)\ttotal: 9.68s\tremaining: 1m 26s\n",
            "300:\ttest: 0.5003196\tbest: 0.5003196 (300)\ttotal: 15.4s\tremaining: 1m 26s\n",
            "400:\ttest: 0.5026095\tbest: 0.5026491 (390)\ttotal: 20s\tremaining: 1m 19s\n",
            "500:\ttest: 0.5056198\tbest: 0.5057437 (480)\ttotal: 25.7s\tremaining: 1m 16s\n",
            "600:\ttest: 0.5077461\tbest: 0.5077461 (600)\ttotal: 30.3s\tremaining: 1m 10s\n",
            "700:\ttest: 0.5093745\tbest: 0.5093745 (700)\ttotal: 35s\tremaining: 1m 4s\n",
            "800:\ttest: 0.5099419\tbest: 0.5100270 (795)\ttotal: 40.5s\tremaining: 1m\n",
            "900:\ttest: 0.5119062\tbest: 0.5119062 (900)\ttotal: 45.1s\tremaining: 55s\n",
            "1000:\ttest: 0.5131142\tbest: 0.5131142 (1000)\ttotal: 51.7s\tremaining: 51.6s\n",
            "1100:\ttest: 0.5130908\tbest: 0.5135149 (1025)\ttotal: 56.3s\tremaining: 45.9s\n",
            "1200:\ttest: 0.5138190\tbest: 0.5138190 (1200)\ttotal: 1m 1s\tremaining: 40.9s\n",
            "1300:\ttest: 0.5148871\tbest: 0.5148871 (1300)\ttotal: 1m 6s\tremaining: 35.7s\n",
            "1400:\ttest: 0.5157219\tbest: 0.5157219 (1400)\ttotal: 1m 11s\tremaining: 30.4s\n",
            "1500:\ttest: 0.5160938\tbest: 0.5160938 (1500)\ttotal: 1m 16s\tremaining: 25.5s\n",
            "1600:\ttest: 0.5160641\tbest: 0.5163148 (1570)\ttotal: 1m 21s\tremaining: 20.3s\n",
            "1700:\ttest: 0.5170608\tbest: 0.5171423 (1670)\ttotal: 1m 26s\tremaining: 15.3s\n",
            "1800:\ttest: 0.5171841\tbest: 0.5174907 (1790)\ttotal: 1m 31s\tremaining: 10.1s\n",
            "1900:\ttest: 0.5171833\tbest: 0.5174907 (1790)\ttotal: 1m 36s\tremaining: 5.01s\n",
            "1999:\ttest: 0.5168337\tbest: 0.5174907 (1790)\ttotal: 1m 41s\tremaining: 0us\n",
            "bestTest = 0.5174907163\n",
            "bestIteration = 1790\n",
            "Shrink model to first 1791 iterations.\n"
          ]
        },
        {
          "output_type": "stream",
          "name": "stderr",
          "text": [
            "Default metric period is 5 because NDCG is/are not implemented for GPU\n",
            "Metric NDCG:type=Base is not implemented on GPU. Will use CPU for metric computation, this could significantly affect learning time\n",
            "Metric NDCG:top=10;type=Exp is not implemented on GPU. Will use CPU for metric computation, this could significantly affect learning time\n"
          ]
        },
        {
          "output_type": "stream",
          "name": "stdout",
          "text": [
            "0:\ttest: 0.3385121\tbest: 0.3385121 (0)\ttotal: 115ms\tremaining: 3m 49s\n",
            "100:\ttest: 0.4766997\tbest: 0.4766997 (100)\ttotal: 5.91s\tremaining: 1m 51s\n",
            "200:\ttest: 0.4933520\tbest: 0.4933520 (200)\ttotal: 10.6s\tremaining: 1m 34s\n",
            "300:\ttest: 0.4997445\tbest: 0.4998338 (295)\ttotal: 16.2s\tremaining: 1m 31s\n",
            "400:\ttest: 0.5028597\tbest: 0.5028597 (400)\ttotal: 20.8s\tremaining: 1m 22s\n",
            "500:\ttest: 0.5054114\tbest: 0.5054114 (500)\ttotal: 25.7s\tremaining: 1m 16s\n",
            "600:\ttest: 0.5074004\tbest: 0.5074004 (600)\ttotal: 30.9s\tremaining: 1m 11s\n",
            "700:\ttest: 0.5094604\tbest: 0.5094604 (700)\ttotal: 35.5s\tremaining: 1m 5s\n",
            "800:\ttest: 0.5105225\tbest: 0.5107197 (795)\ttotal: 41s\tremaining: 1m 1s\n",
            "900:\ttest: 0.5108885\tbest: 0.5110147 (885)\ttotal: 45.6s\tremaining: 55.6s\n",
            "1000:\ttest: 0.5118033\tbest: 0.5120298 (990)\ttotal: 50.6s\tremaining: 50.5s\n",
            "1100:\ttest: 0.5127320\tbest: 0.5127956 (1095)\ttotal: 55.8s\tremaining: 45.5s\n",
            "1200:\ttest: 0.5134771\tbest: 0.5136274 (1175)\ttotal: 1m\tremaining: 40.1s\n",
            "1300:\ttest: 0.5140717\tbest: 0.5141096 (1280)\ttotal: 1m 5s\tremaining: 35.4s\n",
            "1400:\ttest: 0.5142664\tbest: 0.5145161 (1380)\ttotal: 1m 10s\tremaining: 30.1s\n",
            "1500:\ttest: 0.5152236\tbest: 0.5154054 (1455)\ttotal: 1m 15s\tremaining: 25.2s\n",
            "1600:\ttest: 0.5151642\tbest: 0.5155021 (1525)\ttotal: 1m 20s\tremaining: 20.1s\n",
            "1700:\ttest: 0.5155555\tbest: 0.5159167 (1645)\ttotal: 1m 25s\tremaining: 15s\n",
            "1800:\ttest: 0.5161874\tbest: 0.5165626 (1745)\ttotal: 1m 30s\tremaining: 10s\n",
            "1900:\ttest: 0.5159939\tbest: 0.5165626 (1745)\ttotal: 1m 35s\tremaining: 4.96s\n",
            "1999:\ttest: 0.5164225\tbest: 0.5168637 (1985)\ttotal: 1m 40s\tremaining: 0us\n",
            "bestTest = 0.5168637115\n",
            "bestIteration = 1985\n",
            "Shrink model to first 1986 iterations.\n"
          ]
        },
        {
          "output_type": "stream",
          "name": "stderr",
          "text": [
            "Default metric period is 5 because NDCG is/are not implemented for GPU\n",
            "Metric NDCG:type=Base is not implemented on GPU. Will use CPU for metric computation, this could significantly affect learning time\n",
            "Metric NDCG:top=10;type=Exp is not implemented on GPU. Will use CPU for metric computation, this could significantly affect learning time\n"
          ]
        },
        {
          "output_type": "stream",
          "name": "stdout",
          "text": [
            "0:\ttest: 0.3393252\tbest: 0.3393252 (0)\ttotal: 113ms\tremaining: 3m 46s\n",
            "100:\ttest: 0.4750090\tbest: 0.4750090 (100)\ttotal: 5.52s\tremaining: 1m 43s\n",
            "200:\ttest: 0.4917042\tbest: 0.4919477 (190)\ttotal: 10.5s\tremaining: 1m 33s\n",
            "300:\ttest: 0.4989136\tbest: 0.4989136 (300)\ttotal: 15.1s\tremaining: 1m 25s\n",
            "400:\ttest: 0.5025036\tbest: 0.5025036 (400)\ttotal: 20.7s\tremaining: 1m 22s\n",
            "500:\ttest: 0.5047216\tbest: 0.5047216 (500)\ttotal: 25.2s\tremaining: 1m 15s\n",
            "600:\ttest: 0.5071603\tbest: 0.5071638 (590)\ttotal: 30.8s\tremaining: 1m 11s\n",
            "700:\ttest: 0.5086095\tbest: 0.5086095 (700)\ttotal: 35.4s\tremaining: 1m 5s\n",
            "800:\ttest: 0.5102296\tbest: 0.5102807 (790)\ttotal: 40.1s\tremaining: 60s\n",
            "900:\ttest: 0.5108251\tbest: 0.5108251 (900)\ttotal: 46.6s\tremaining: 56.9s\n",
            "1000:\ttest: 0.5117805\tbest: 0.5121749 (985)\ttotal: 51.2s\tremaining: 51.1s\n",
            "1100:\ttest: 0.5127641\tbest: 0.5128764 (1080)\ttotal: 56.7s\tremaining: 46.3s\n",
            "1200:\ttest: 0.5133702\tbest: 0.5133702 (1200)\ttotal: 1m 1s\tremaining: 40.8s\n",
            "1300:\ttest: 0.5135787\tbest: 0.5140809 (1240)\ttotal: 1m 6s\tremaining: 35.6s\n",
            "1400:\ttest: 0.5134724\tbest: 0.5140809 (1240)\ttotal: 1m 11s\tremaining: 30.6s\n",
            "1500:\ttest: 0.5140155\tbest: 0.5145186 (1455)\ttotal: 1m 16s\tremaining: 25.3s\n",
            "1600:\ttest: 0.5145100\tbest: 0.5147505 (1575)\ttotal: 1m 21s\tremaining: 20.4s\n",
            "1700:\ttest: 0.5153619\tbest: 0.5154409 (1685)\ttotal: 1m 26s\tremaining: 15.2s\n",
            "1800:\ttest: 0.5157434\tbest: 0.5157842 (1795)\ttotal: 1m 31s\tremaining: 10.1s\n",
            "1900:\ttest: 0.5159263\tbest: 0.5162277 (1830)\ttotal: 1m 36s\tremaining: 5.02s\n",
            "1999:\ttest: 0.5162467\tbest: 0.5163386 (1975)\ttotal: 1m 40s\tremaining: 0us\n",
            "bestTest = 0.5163386443\n",
            "bestIteration = 1975\n",
            "Shrink model to first 1976 iterations.\n"
          ]
        },
        {
          "output_type": "stream",
          "name": "stderr",
          "text": [
            "Default metric period is 5 because NDCG is/are not implemented for GPU\n",
            "Metric NDCG:type=Base is not implemented on GPU. Will use CPU for metric computation, this could significantly affect learning time\n",
            "Metric NDCG:top=10;type=Exp is not implemented on GPU. Will use CPU for metric computation, this could significantly affect learning time\n"
          ]
        },
        {
          "output_type": "stream",
          "name": "stdout",
          "text": [
            "0:\ttest: 0.3160694\tbest: 0.3160694 (0)\ttotal: 119ms\tremaining: 3m 57s\n",
            "100:\ttest: 0.4755216\tbest: 0.4755216 (100)\ttotal: 4.93s\tremaining: 1m 32s\n",
            "200:\ttest: 0.4930752\tbest: 0.4930752 (200)\ttotal: 10.5s\tremaining: 1m 34s\n",
            "300:\ttest: 0.4992085\tbest: 0.4995322 (295)\ttotal: 15.2s\tremaining: 1m 25s\n",
            "400:\ttest: 0.5020426\tbest: 0.5023068 (380)\ttotal: 20.2s\tremaining: 1m 20s\n",
            "500:\ttest: 0.5058282\tbest: 0.5058282 (500)\ttotal: 25.3s\tremaining: 1m 15s\n",
            "600:\ttest: 0.5075126\tbest: 0.5075126 (600)\ttotal: 29.9s\tremaining: 1m 9s\n",
            "700:\ttest: 0.5092861\tbest: 0.5092861 (700)\ttotal: 35.5s\tremaining: 1m 5s\n",
            "800:\ttest: 0.5105143\tbest: 0.5106853 (795)\ttotal: 40.1s\tremaining: 1m\n",
            "900:\ttest: 0.5119313\tbest: 0.5119313 (900)\ttotal: 45.4s\tremaining: 55.4s\n",
            "1000:\ttest: 0.5130155\tbest: 0.5131515 (990)\ttotal: 50.3s\tremaining: 50.2s\n",
            "1100:\ttest: 0.5144734\tbest: 0.5144759 (1090)\ttotal: 54.9s\tremaining: 44.8s\n",
            "1200:\ttest: 0.5144098\tbest: 0.5145257 (1110)\ttotal: 1m\tremaining: 40.3s\n",
            "1300:\ttest: 0.5150204\tbest: 0.5150204 (1300)\ttotal: 1m 5s\tremaining: 35s\n",
            "1400:\ttest: 0.5150724\tbest: 0.5153483 (1320)\ttotal: 1m 10s\tremaining: 30.2s\n",
            "1500:\ttest: 0.5159576\tbest: 0.5159576 (1500)\ttotal: 1m 15s\tremaining: 25s\n",
            "1600:\ttest: 0.5158782\tbest: 0.5160607 (1525)\ttotal: 1m 19s\tremaining: 19.9s\n",
            "1700:\ttest: 0.5162400\tbest: 0.5162400 (1700)\ttotal: 1m 25s\tremaining: 15s\n",
            "1800:\ttest: 0.5160405\tbest: 0.5166157 (1780)\ttotal: 1m 29s\tremaining: 9.94s\n",
            "1900:\ttest: 0.5162350\tbest: 0.5167417 (1830)\ttotal: 1m 35s\tremaining: 4.97s\n",
            "1999:\ttest: 0.5158354\tbest: 0.5167417 (1830)\ttotal: 1m 40s\tremaining: 0us\n",
            "bestTest = 0.5167416535\n",
            "bestIteration = 1830\n",
            "Shrink model to first 1831 iterations.\n"
          ]
        },
        {
          "output_type": "stream",
          "name": "stderr",
          "text": [
            "Default metric period is 5 because NDCG is/are not implemented for GPU\n",
            "Metric NDCG:type=Base is not implemented on GPU. Will use CPU for metric computation, this could significantly affect learning time\n",
            "Metric NDCG:top=10;type=Exp is not implemented on GPU. Will use CPU for metric computation, this could significantly affect learning time\n"
          ]
        },
        {
          "output_type": "stream",
          "name": "stdout",
          "text": [
            "0:\ttest: 0.3242144\tbest: 0.3242144 (0)\ttotal: 154ms\tremaining: 5m 8s\n"
          ]
        }
      ]
    },
    {
      "cell_type": "code",
      "source": [
        "#best params\n",
        "params = {\n",
        "    'iterations': 6000,\n",
        "    'eval_metric': 'NDCG:top=10;type=Exp',\n",
        "    'random_seed': 22,\n",
        "    'verbose': 100,\n",
        "    'loss_function': 'YetiRank',\n",
        "    'train_dir': '/tmp/catboost_info.YetiRank',\n",
        "    'use_best_model': True,\n",
        "    'task_type': 'GPU',\n",
        "    'learning_rate': 0.1,\n",
        "    'depth': 9,\n",
        "    'l2_leaf_reg': 0.5,\n",
        "    'bagging_temperature': 0.5\n",
        "}"
      ],
      "metadata": {
        "id": "gOELdPmOj4y2"
      },
      "id": "gOELdPmOj4y2",
      "execution_count": 22,
      "outputs": []
    },
    {
      "cell_type": "markdown",
      "id": "d42e513b-7c4b-41bf-88f1-8bc5faf3a5dc",
      "metadata": {
        "id": "d42e513b-7c4b-41bf-88f1-8bc5faf3a5dc"
      },
      "source": [
        "Создадим и применим модель:"
      ]
    },
    {
      "cell_type": "code",
      "source": [
        "# Create model\n",
        "model = Model(params)\n",
        "\n",
        "# Fit\n",
        "start = timer()\n",
        "model.fit(pool_train, pool_valid)\n",
        "elapsed = timer() - start\n",
        "print(f\"Model fit: elapsed = {elapsed:.3f}\")"
      ],
      "metadata": {
        "colab": {
          "base_uri": "https://localhost:8080/"
        },
        "id": "bn3A4DPozReL",
        "outputId": "5790ba4b-ccdd-4271-ef10-7213e365835b"
      },
      "id": "bn3A4DPozReL",
      "execution_count": 23,
      "outputs": [
        {
          "output_type": "stream",
          "name": "stderr",
          "text": [
            "Default metric period is 5 because NDCG is/are not implemented for GPU\n",
            "Metric NDCG:type=Base is not implemented on GPU. Will use CPU for metric computation, this could significantly affect learning time\n",
            "Metric NDCG:top=10;type=Exp is not implemented on GPU. Will use CPU for metric computation, this could significantly affect learning time\n"
          ]
        },
        {
          "output_type": "stream",
          "name": "stdout",
          "text": [
            "0:\ttest: 0.3361778\tbest: 0.3361778 (0)\ttotal: 402ms\tremaining: 40m 13s\n",
            "100:\ttest: 0.4760278\tbest: 0.4760278 (100)\ttotal: 6.29s\tremaining: 6m 7s\n",
            "200:\ttest: 0.4931763\tbest: 0.4931763 (200)\ttotal: 11.9s\tremaining: 5m 44s\n",
            "300:\ttest: 0.5003196\tbest: 0.5003196 (300)\ttotal: 16.4s\tremaining: 5m 10s\n",
            "400:\ttest: 0.5026095\tbest: 0.5026491 (390)\ttotal: 21s\tremaining: 4m 52s\n",
            "500:\ttest: 0.5056198\tbest: 0.5057437 (480)\ttotal: 26.3s\tremaining: 4m 48s\n",
            "600:\ttest: 0.5077461\tbest: 0.5077461 (600)\ttotal: 30.8s\tremaining: 4m 36s\n",
            "700:\ttest: 0.5093745\tbest: 0.5093745 (700)\ttotal: 36.3s\tremaining: 4m 34s\n",
            "800:\ttest: 0.5099419\tbest: 0.5100270 (795)\ttotal: 40.8s\tremaining: 4m 24s\n",
            "900:\ttest: 0.5119062\tbest: 0.5119062 (900)\ttotal: 45.2s\tremaining: 4m 16s\n",
            "1000:\ttest: 0.5131142\tbest: 0.5131142 (1000)\ttotal: 50.8s\tremaining: 4m 13s\n",
            "1100:\ttest: 0.5130908\tbest: 0.5135149 (1025)\ttotal: 55.3s\tremaining: 4m 5s\n",
            "1200:\ttest: 0.5138190\tbest: 0.5138190 (1200)\ttotal: 1m\tremaining: 4m 3s\n",
            "1300:\ttest: 0.5148871\tbest: 0.5148871 (1300)\ttotal: 1m 5s\tremaining: 3m 56s\n",
            "1400:\ttest: 0.5157219\tbest: 0.5157219 (1400)\ttotal: 1m 10s\tremaining: 3m 49s\n",
            "1500:\ttest: 0.5160938\tbest: 0.5160938 (1500)\ttotal: 1m 15s\tremaining: 3m 46s\n",
            "1600:\ttest: 0.5160641\tbest: 0.5163148 (1570)\ttotal: 1m 20s\tremaining: 3m 40s\n",
            "1700:\ttest: 0.5170608\tbest: 0.5171423 (1670)\ttotal: 1m 25s\tremaining: 3m 36s\n",
            "1800:\ttest: 0.5171841\tbest: 0.5174907 (1790)\ttotal: 1m 30s\tremaining: 3m 30s\n",
            "1900:\ttest: 0.5171833\tbest: 0.5174907 (1790)\ttotal: 1m 34s\tremaining: 3m 24s\n",
            "2000:\ttest: 0.5169139\tbest: 0.5174907 (1790)\ttotal: 1m 40s\tremaining: 3m 20s\n",
            "2100:\ttest: 0.5169830\tbest: 0.5174907 (1790)\ttotal: 1m 45s\tremaining: 3m 15s\n",
            "2200:\ttest: 0.5172843\tbest: 0.5176500 (2190)\ttotal: 1m 50s\tremaining: 3m 11s\n",
            "2300:\ttest: 0.5172857\tbest: 0.5176500 (2190)\ttotal: 1m 55s\tremaining: 3m 5s\n",
            "2400:\ttest: 0.5172271\tbest: 0.5176500 (2190)\ttotal: 2m\tremaining: 3m\n",
            "2500:\ttest: 0.5177200\tbest: 0.5179959 (2480)\ttotal: 2m 5s\tremaining: 2m 55s\n",
            "2600:\ttest: 0.5177351\tbest: 0.5181199 (2525)\ttotal: 2m 10s\tremaining: 2m 50s\n",
            "2700:\ttest: 0.5179956\tbest: 0.5181199 (2525)\ttotal: 2m 16s\tremaining: 2m 46s\n",
            "2800:\ttest: 0.5182072\tbest: 0.5182932 (2780)\ttotal: 2m 20s\tremaining: 2m 40s\n",
            "2900:\ttest: 0.5177088\tbest: 0.5182932 (2780)\ttotal: 2m 25s\tremaining: 2m 35s\n",
            "3000:\ttest: 0.5179731\tbest: 0.5185051 (2950)\ttotal: 2m 31s\tremaining: 2m 31s\n",
            "3100:\ttest: 0.5177779\tbest: 0.5185051 (2950)\ttotal: 2m 35s\tremaining: 2m 25s\n",
            "3200:\ttest: 0.5176752\tbest: 0.5185051 (2950)\ttotal: 2m 41s\tremaining: 2m 21s\n",
            "3300:\ttest: 0.5179530\tbest: 0.5185051 (2950)\ttotal: 2m 46s\tremaining: 2m 15s\n",
            "3400:\ttest: 0.5183897\tbest: 0.5185286 (3360)\ttotal: 2m 51s\tremaining: 2m 11s\n",
            "3500:\ttest: 0.5186518\tbest: 0.5190385 (3450)\ttotal: 2m 56s\tremaining: 2m 6s\n",
            "3600:\ttest: 0.5186941\tbest: 0.5190642 (3540)\ttotal: 3m 1s\tremaining: 2m\n",
            "3700:\ttest: 0.5190424\tbest: 0.5191320 (3695)\ttotal: 3m 7s\tremaining: 1m 56s\n",
            "3800:\ttest: 0.5193792\tbest: 0.5196468 (3720)\ttotal: 3m 11s\tremaining: 1m 51s\n",
            "3900:\ttest: 0.5193883\tbest: 0.5198197 (3865)\ttotal: 3m 17s\tremaining: 1m 46s\n",
            "4000:\ttest: 0.5195755\tbest: 0.5198197 (3865)\ttotal: 3m 22s\tremaining: 1m 41s\n",
            "4100:\ttest: 0.5195583\tbest: 0.5199538 (4010)\ttotal: 3m 27s\tremaining: 1m 35s\n",
            "4200:\ttest: 0.5200638\tbest: 0.5200938 (4120)\ttotal: 3m 32s\tremaining: 1m 31s\n",
            "4300:\ttest: 0.5199274\tbest: 0.5202535 (4210)\ttotal: 3m 37s\tremaining: 1m 25s\n",
            "4400:\ttest: 0.5198394\tbest: 0.5202535 (4210)\ttotal: 3m 43s\tremaining: 1m 21s\n",
            "4500:\ttest: 0.5192980\tbest: 0.5204578 (4445)\ttotal: 3m 47s\tremaining: 1m 15s\n",
            "4600:\ttest: 0.5196178\tbest: 0.5204578 (4445)\ttotal: 3m 53s\tremaining: 1m 10s\n",
            "4700:\ttest: 0.5197224\tbest: 0.5204578 (4445)\ttotal: 3m 59s\tremaining: 1m 6s\n",
            "4800:\ttest: 0.5198477\tbest: 0.5204578 (4445)\ttotal: 4m 4s\tremaining: 1m\n",
            "4900:\ttest: 0.5197521\tbest: 0.5204578 (4445)\ttotal: 4m 9s\tremaining: 56s\n",
            "5000:\ttest: 0.5194795\tbest: 0.5204578 (4445)\ttotal: 4m 14s\tremaining: 50.8s\n",
            "5100:\ttest: 0.5191410\tbest: 0.5204578 (4445)\ttotal: 4m 19s\tremaining: 45.7s\n",
            "5200:\ttest: 0.5193400\tbest: 0.5204578 (4445)\ttotal: 4m 25s\tremaining: 40.8s\n",
            "5300:\ttest: 0.5194048\tbest: 0.5204578 (4445)\ttotal: 4m 30s\tremaining: 35.6s\n",
            "5400:\ttest: 0.5191463\tbest: 0.5204578 (4445)\ttotal: 4m 35s\tremaining: 30.6s\n",
            "5500:\ttest: 0.5195265\tbest: 0.5204578 (4445)\ttotal: 4m 42s\tremaining: 25.6s\n",
            "5600:\ttest: 0.5194319\tbest: 0.5204578 (4445)\ttotal: 4m 47s\tremaining: 20.5s\n",
            "5700:\ttest: 0.5195544\tbest: 0.5204578 (4445)\ttotal: 4m 52s\tremaining: 15.3s\n",
            "5800:\ttest: 0.5197216\tbest: 0.5204578 (4445)\ttotal: 4m 57s\tremaining: 10.2s\n",
            "5900:\ttest: 0.5196443\tbest: 0.5204578 (4445)\ttotal: 5m 3s\tremaining: 5.08s\n",
            "5999:\ttest: 0.5197050\tbest: 0.5204578 (4445)\ttotal: 5m 7s\tremaining: 0us\n",
            "bestTest = 0.520457849\n",
            "bestIteration = 4445\n",
            "Shrink model to first 4446 iterations.\n",
            "Model fit: elapsed = 314.525\n"
          ]
        }
      ]
    },
    {
      "cell_type": "code",
      "source": [
        "model.save('model.cbm')"
      ],
      "metadata": {
        "id": "DBhnravP0aI0"
      },
      "id": "DBhnravP0aI0",
      "execution_count": 26,
      "outputs": []
    },
    {
      "cell_type": "markdown",
      "id": "d23a2f92-6d18-45b8-8a38-d8ca5c3238b1",
      "metadata": {
        "id": "d23a2f92-6d18-45b8-8a38-d8ca5c3238b1"
      },
      "source": [
        "Теперь, имея предикты, можно посчитать метрики качества:"
      ]
    },
    {
      "cell_type": "code",
      "source": [
        "# Predict\n",
        "y_hat_test = model.predict(X_test)\n",
        "print(f\"Predicted: y_hat_test.shape = {y_hat_test.shape}\")"
      ],
      "metadata": {
        "colab": {
          "base_uri": "https://localhost:8080/"
        },
        "id": "T08w2sf2oual",
        "outputId": "d4698559-ddcd-49ae-c5ba-d6d303da5c31"
      },
      "id": "T08w2sf2oual",
      "execution_count": 24,
      "outputs": [
        {
          "output_type": "stream",
          "name": "stdout",
          "text": [
            "Predicted: y_hat_test.shape = (241521,)\n"
          ]
        }
      ]
    },
    {
      "cell_type": "code",
      "execution_count": 25,
      "metadata": {
        "outputId": "b5a873a5-65d1-4ee0-f7bd-2563f972333d",
        "colab": {
          "base_uri": "https://localhost:8080/"
        },
        "id": "uEeo_33ysk_Q"
      },
      "outputs": [
        {
          "output_type": "stream",
          "name": "stdout",
          "text": [
            "metric = NDCG:top=10;type=Exp score = 0.512\n"
          ]
        }
      ],
      "source": [
        "def compute_metrics(y_true, y_hat, q):\n",
        "    for eval_metric in ['NDCG:top=10;type=Exp']:\n",
        "        scores = utils.eval_metric(y_true, y_hat, eval_metric, group_id=q)\n",
        "        print(f\"metric = {eval_metric} score = {scores[0]:.3f}\")\n",
        "\n",
        "compute_metrics(y_test, y_hat_test, q_test)"
      ],
      "id": "uEeo_33ysk_Q"
    },
    {
      "cell_type": "markdown",
      "id": "e1f9d6c3-80d6-4a6a-ab23-f67b70fc883f",
      "metadata": {
        "id": "e1f9d6c3-80d6-4a6a-ab23-f67b70fc883f"
      },
      "source": [
        "Ожидаем, что ваша модель покажет результаты выше бейзлайна!"
      ]
    }
  ],
  "metadata": {
    "kernelspec": {
      "display_name": "Python 3",
      "name": "python3"
    },
    "language_info": {
      "codemirror_mode": {
        "name": "ipython",
        "version": 3
      },
      "file_extension": ".py",
      "mimetype": "text/x-python",
      "name": "python",
      "nbconvert_exporter": "python",
      "pygments_lexer": "ipython3",
      "version": "3.11.8"
    },
    "colab": {
      "provenance": [],
      "gpuType": "T4"
    },
    "accelerator": "GPU"
  },
  "nbformat": 4,
  "nbformat_minor": 5
}