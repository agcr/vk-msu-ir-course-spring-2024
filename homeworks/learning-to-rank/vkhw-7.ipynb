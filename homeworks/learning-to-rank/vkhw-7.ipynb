{
 "cells": [
  {
   "cell_type": "markdown",
   "metadata": {},
   "source": [
    "## Catboost + Hyperplot\n",
    "Итоговый скор: `metric = NDCG:top=10;type=Exp score = 0.512`\n",
    "на параметрах\n",
    "```\n",
    "{'bagging_temperature': 0.7825876839248045,\n",
    " 'border_count': 128,\n",
    " 'depth': 8,\n",
    " 'eval_metric': 'NDCG:top=10;type=Exp',\n",
    " 'grow_policy': 'Depthwise',\n",
    " 'iterations': 5870,\n",
    " 'l2_leaf_reg': 5.930424236293685,\n",
    " 'learning_rate': 0.09987631032212624,\n",
    " 'loss_function': 'YetiRank',\n",
    " 'random_seed': 42,\n",
    " 'task_type': 'GPU',\n",
    " 'use_best_model': True,\n",
    " 'verbose': 200}\n",
    "```\n",
    "Обучение и исследования проводились на платформе kaggle"
   ]
  },
  {
   "cell_type": "code",
   "execution_count": 1,
   "metadata": {
    "_cell_guid": "b1076dfc-b9ad-4769-8c92-a6c4dae69d19",
    "_uuid": "8f2839f25d086af736a60e9eeb907d3b93b6e0e5",
    "execution": {
     "iopub.execute_input": "2024-04-21T21:36:46.990990Z",
     "iopub.status.busy": "2024-04-21T21:36:46.990299Z",
     "iopub.status.idle": "2024-04-21T21:36:46.996516Z",
     "shell.execute_reply": "2024-04-21T21:36:46.995520Z",
     "shell.execute_reply.started": "2024-04-21T21:36:46.990959Z"
    }
   },
   "outputs": [],
   "source": [
    "import pathlib\n",
    "from timeit import default_timer as timer\n",
    "\n",
    "from functools import partial\n",
    "\n",
    "import numpy as np\n",
    "import pandas as pd\n",
    "\n",
    "import catboost\n",
    "from catboost import datasets, utils, CatBoostRanker\n",
    "from hyperopt import fmin, hp, tpe, Trials, space_eval, STATUS_OK\n",
    "from hyperopt.pyll import scope"
   ]
  },
  {
   "cell_type": "markdown",
   "metadata": {},
   "source": [
    "## Сборка данных"
   ]
  },
  {
   "cell_type": "code",
   "execution_count": 2,
   "metadata": {
    "execution": {
     "iopub.execute_input": "2024-04-21T21:36:46.998754Z",
     "iopub.status.busy": "2024-04-21T21:36:46.998372Z",
     "iopub.status.idle": "2024-04-21T21:36:48.011772Z",
     "shell.execute_reply": "2024-04-21T21:36:48.010666Z",
     "shell.execute_reply.started": "2024-04-21T21:36:46.998730Z"
    }
   },
   "outputs": [
    {
     "name": "stdout",
     "output_type": "stream",
     "text": [
      "test.txt  train.txt  vali.txt\n"
     ]
    }
   ],
   "source": [
    "!ls /kaggle/input/mslr-web10k/Fold1"
   ]
  },
  {
   "cell_type": "code",
   "execution_count": 3,
   "metadata": {
    "execution": {
     "iopub.execute_input": "2024-04-21T21:36:48.013385Z",
     "iopub.status.busy": "2024-04-21T21:36:48.013076Z",
     "iopub.status.idle": "2024-04-21T21:36:48.018428Z",
     "shell.execute_reply": "2024-04-21T21:36:48.017333Z",
     "shell.execute_reply.started": "2024-04-21T21:36:48.013358Z"
    }
   },
   "outputs": [],
   "source": [
    "cnt = 10 # to use in filename for optim model and params"
   ]
  },
  {
   "cell_type": "code",
   "execution_count": 4,
   "metadata": {
    "execution": {
     "iopub.execute_input": "2024-04-21T21:36:48.020140Z",
     "iopub.status.busy": "2024-04-21T21:36:48.019854Z",
     "iopub.status.idle": "2024-04-21T21:36:48.034831Z",
     "shell.execute_reply": "2024-04-21T21:36:48.033942Z",
     "shell.execute_reply.started": "2024-04-21T21:36:48.020115Z"
    }
   },
   "outputs": [],
   "source": [
    "def generate_column_names(num_features):\n",
    "    \"\"\"Generates column names for LETOR-like datasets\"\"\"\n",
    "    columns = ['label', 'qid']\n",
    "    for i in range(num_features):\n",
    "        column = f\"feature_{i+1}\"\n",
    "        columns.append(column)\n",
    "    return columns\n",
    "    \n",
    "def load_svmlight_file(input_file, max_num_lines=0):\n",
    "    \"\"\"Loads dataset split in SVM-Light format\"\"\"\n",
    "    def _parse_field(field):\n",
    "        parts = field.split(':')\n",
    "        if len(parts) != 2:\n",
    "            raise Exception(f\"invalid number of parts in field {field}\")\n",
    "        return parts\n",
    "\n",
    "    num_features = 136\n",
    "    exp_num_fields = num_features + 2\n",
    "    num_lines = 0\n",
    "    X = []\n",
    "    with open(input_file, 'rt') as f:\n",
    "        for line in f:\n",
    "            try:\n",
    "                num_lines += 1\n",
    "                                  \n",
    "                # Parse into fields\n",
    "                fields = line.rstrip().split(' ')\n",
    "                num_fields = len(fields)\n",
    "                if num_fields != exp_num_fields:\n",
    "                    raise Exception(f\"invalid number of fields {num_fields}\")\n",
    "    \n",
    "                # Parse every field\n",
    "                x = np.zeros(exp_num_fields, dtype=np.float32)\n",
    "                label = int(fields[0])\n",
    "                x[0] = label\n",
    "                _, qid_str = _parse_field(fields[1])\n",
    "                qid = int(qid_str)\n",
    "                x[1] = qid\n",
    "                for i, field in enumerate(fields[2:]):\n",
    "                    _, feature_str = _parse_field(field)\n",
    "                    x[i+2] = float(feature_str)\n",
    "    \n",
    "                # Add new object\n",
    "                X.append(x)\n",
    "                if num_lines % 50000 == 0:\n",
    "                    print(f\"Loaded {num_lines} lines...\")\n",
    "                if max_num_lines > 0 and num_lines == max_num_lines:\n",
    "                    print(f\"WARNING: stop loading, line limit reached: max_num_lines = {max_num_lines} input_file = {input_file}\")\n",
    "                    break\n",
    "            except Exception as e:\n",
    "                raise Exception(f\"error at line {num_lines} in {input_file}\") from e\n",
    "    \n",
    "    # To pandas\n",
    "    df = pd.DataFrame(X, columns=generate_column_names(num_features))\n",
    "    print(f\"Loaded SVM-Light file {input_file}\")\n",
    "    return df"
   ]
  },
  {
   "cell_type": "code",
   "execution_count": 5,
   "metadata": {
    "execution": {
     "iopub.execute_input": "2024-04-21T21:36:48.038347Z",
     "iopub.status.busy": "2024-04-21T21:36:48.037963Z",
     "iopub.status.idle": "2024-04-21T21:41:45.449360Z",
     "shell.execute_reply": "2024-04-21T21:41:45.448157Z",
     "shell.execute_reply.started": "2024-04-21T21:36:48.038323Z"
    }
   },
   "outputs": [
    {
     "name": "stdout",
     "output_type": "stream",
     "text": [
      "Loaded 50000 lines...\n",
      "Loaded 100000 lines...\n",
      "Loaded 150000 lines...\n",
      "Loaded 200000 lines...\n",
      "Loaded 250000 lines...\n",
      "Loaded 300000 lines...\n",
      "Loaded 350000 lines...\n",
      "Loaded 400000 lines...\n",
      "Loaded 450000 lines...\n",
      "Loaded 500000 lines...\n",
      "Loaded 550000 lines...\n",
      "Loaded 600000 lines...\n",
      "Loaded 650000 lines...\n",
      "Loaded 700000 lines...\n",
      "Loaded SVM-Light file /kaggle/input/mslr-web10k/Fold1/train.txt\n",
      "Loaded 50000 lines...\n",
      "Loaded 100000 lines...\n",
      "Loaded 150000 lines...\n",
      "Loaded 200000 lines...\n",
      "Loaded SVM-Light file /kaggle/input/mslr-web10k/Fold1/vali.txt\n",
      "Loaded 50000 lines...\n",
      "Loaded 100000 lines...\n",
      "Loaded 150000 lines...\n",
      "Loaded 200000 lines...\n",
      "Loaded SVM-Light file /kaggle/input/mslr-web10k/Fold1/test.txt\n",
      "Dataset loaded from fold_dir /kaggle/input/mslr-web10k/Fold1\n"
     ]
    }
   ],
   "source": [
    "fold_dir = pathlib.Path(\"/kaggle/input/mslr-web10k/Fold1\")\n",
    "\n",
    "df_train = load_svmlight_file(fold_dir.joinpath(\"train.txt\"))\n",
    "df_valid = load_svmlight_file(fold_dir.joinpath(\"vali.txt\"))\n",
    "df_test = load_svmlight_file(fold_dir.joinpath(\"test.txt\"))\n",
    "print(f\"Dataset loaded from fold_dir {fold_dir}\")"
   ]
  },
  {
   "cell_type": "code",
   "execution_count": 6,
   "metadata": {
    "execution": {
     "iopub.execute_input": "2024-04-21T21:41:45.451045Z",
     "iopub.status.busy": "2024-04-21T21:41:45.450661Z",
     "iopub.status.idle": "2024-04-21T21:41:45.480291Z",
     "shell.execute_reply": "2024-04-21T21:41:45.479247Z",
     "shell.execute_reply.started": "2024-04-21T21:41:45.451005Z"
    }
   },
   "outputs": [
    {
     "name": "stdout",
     "output_type": "stream",
     "text": [
      "   label  qid  feature_1  feature_2  feature_3  feature_4  feature_5  \\\n",
      "0    2.0  1.0        3.0        3.0        0.0        0.0        3.0   \n",
      "1    2.0  1.0        3.0        0.0        3.0        0.0        3.0   \n",
      "2    0.0  1.0        3.0        0.0        2.0        0.0        3.0   \n",
      "3    2.0  1.0        3.0        0.0        3.0        0.0        3.0   \n",
      "4    1.0  1.0        3.0        0.0        3.0        0.0        3.0   \n",
      "\n",
      "   feature_6  feature_7  feature_8  ...  feature_127  feature_128  \\\n",
      "0        1.0        1.0   0.000000  ...         62.0   11089534.0   \n",
      "1        1.0        0.0   1.000000  ...         54.0   11089534.0   \n",
      "2        1.0        0.0   0.666667  ...         45.0          3.0   \n",
      "3        1.0        0.0   1.000000  ...         56.0   11089534.0   \n",
      "4        1.0        0.0   1.000000  ...         64.0          5.0   \n",
      "\n",
      "   feature_129  feature_130  feature_131  feature_132  feature_133  \\\n",
      "0          2.0        116.0      64034.0         13.0          3.0   \n",
      "1          2.0        124.0      64034.0          1.0          2.0   \n",
      "2          1.0        124.0       3344.0         14.0         67.0   \n",
      "3         13.0        123.0      63933.0          1.0          3.0   \n",
      "4          7.0        256.0      49697.0          1.0         13.0   \n",
      "\n",
      "   feature_134  feature_135  feature_136  \n",
      "0          0.0          0.0          0.0  \n",
      "1          0.0          0.0          0.0  \n",
      "2          0.0          0.0          0.0  \n",
      "3          0.0          0.0          0.0  \n",
      "4          0.0          0.0          0.0  \n",
      "\n",
      "[5 rows x 138 columns]\n"
     ]
    }
   ],
   "source": [
    "print(df_train.head(5))"
   ]
  },
  {
   "cell_type": "code",
   "execution_count": 7,
   "metadata": {
    "execution": {
     "iopub.execute_input": "2024-04-21T21:41:45.482409Z",
     "iopub.status.busy": "2024-04-21T21:41:45.481715Z",
     "iopub.status.idle": "2024-04-21T21:41:45.499881Z",
     "shell.execute_reply": "2024-04-21T21:41:45.498889Z",
     "shell.execute_reply.started": "2024-04-21T21:41:45.482371Z"
    }
   },
   "outputs": [
    {
     "name": "stdout",
     "output_type": "stream",
     "text": [
      "   label   qid  feature_1  feature_2  feature_3  feature_4  feature_5  \\\n",
      "0    0.0  10.0        2.0        0.0        0.0        0.0        2.0   \n",
      "1    0.0  10.0        1.0        0.0        1.0        3.0        3.0   \n",
      "2    1.0  10.0        3.0        0.0        3.0        0.0        3.0   \n",
      "3    0.0  10.0        3.0        0.0        2.0        0.0        3.0   \n",
      "4    1.0  10.0        3.0        0.0        3.0        0.0        3.0   \n",
      "\n",
      "   feature_6  feature_7  feature_8  ...  feature_127  feature_128  \\\n",
      "0   0.666667        0.0   0.000000  ...         45.0          1.0   \n",
      "1   0.333333        0.0   0.333333  ...         76.0          0.0   \n",
      "2   1.000000        0.0   1.000000  ...         73.0          0.0   \n",
      "3   1.000000        0.0   0.666667  ...         54.0          8.0   \n",
      "4   1.000000        0.0   1.000000  ...         36.0          6.0   \n",
      "\n",
      "   feature_129  feature_130  feature_131  feature_132  feature_133  \\\n",
      "0          0.0        117.0      55115.0          7.0          2.0   \n",
      "1          0.0        153.0       3866.0         17.0        104.0   \n",
      "2          9.0        266.0      56137.0          5.0          2.0   \n",
      "3          0.0        541.0      12621.0         11.0         11.0   \n",
      "4          0.0      14687.0      40205.0          5.0          3.0   \n",
      "\n",
      "   feature_134  feature_135  feature_136  \n",
      "0          0.0          0.0          0.0  \n",
      "1          0.0          0.0          0.0  \n",
      "2          0.0          0.0          0.0  \n",
      "3          0.0          0.0          0.0  \n",
      "4          0.0          0.0          0.0  \n",
      "\n",
      "[5 rows x 138 columns]\n"
     ]
    }
   ],
   "source": [
    "print(df_valid.head(5))"
   ]
  },
  {
   "cell_type": "code",
   "execution_count": 8,
   "metadata": {
    "execution": {
     "iopub.execute_input": "2024-04-21T21:41:45.501242Z",
     "iopub.status.busy": "2024-04-21T21:41:45.500946Z",
     "iopub.status.idle": "2024-04-21T21:41:45.525581Z",
     "shell.execute_reply": "2024-04-21T21:41:45.524396Z",
     "shell.execute_reply.started": "2024-04-21T21:41:45.501217Z"
    }
   },
   "outputs": [
    {
     "name": "stdout",
     "output_type": "stream",
     "text": [
      "   label   qid  feature_1  feature_2  feature_3  feature_4  feature_5  \\\n",
      "0    2.0  13.0        2.0        0.0        2.0        1.0        2.0   \n",
      "1    1.0  13.0        2.0        0.0        0.0        0.0        2.0   \n",
      "2    3.0  13.0        2.0        0.0        1.0        0.0        2.0   \n",
      "3    1.0  13.0        2.0        0.0        2.0        1.0        2.0   \n",
      "4    0.0  13.0        1.0        0.0        0.0        0.0        1.0   \n",
      "\n",
      "   feature_6  feature_7  feature_8  ...  feature_127  feature_128  \\\n",
      "0        1.0        0.0        1.0  ...         35.0          1.0   \n",
      "1        1.0        0.0        0.0  ...         17.0         93.0   \n",
      "2        1.0        0.0        0.5  ...         19.0          0.0   \n",
      "3        1.0        0.0        1.0  ...         50.0      81775.0   \n",
      "4        0.5        0.0        0.0  ...         24.0          0.0   \n",
      "\n",
      "   feature_129  feature_130  feature_131  feature_132  feature_133  \\\n",
      "0          0.0        266.0      25070.0         28.0          7.0   \n",
      "1          0.0        153.0      12860.0         65.0        158.0   \n",
      "2          0.0        153.0       1131.0        112.0        141.0   \n",
      "3          0.0        560.0      61224.0          1.0         14.0   \n",
      "4          0.0      57953.0      15600.0         15.0         12.0   \n",
      "\n",
      "   feature_134  feature_135  feature_136  \n",
      "0          0.0          0.0          0.0  \n",
      "1          0.0          0.0          0.0  \n",
      "2          0.0          0.0          0.0  \n",
      "3          0.0          0.0          0.0  \n",
      "4          0.0          0.0          0.0  \n",
      "\n",
      "[5 rows x 138 columns]\n"
     ]
    }
   ],
   "source": [
    "print(df_test.head(5))"
   ]
  },
  {
   "cell_type": "code",
   "execution_count": 9,
   "metadata": {
    "execution": {
     "iopub.execute_input": "2024-04-21T21:41:45.527330Z",
     "iopub.status.busy": "2024-04-21T21:41:45.527032Z",
     "iopub.status.idle": "2024-04-21T21:41:45.883450Z",
     "shell.execute_reply": "2024-04-21T21:41:45.882605Z",
     "shell.execute_reply.started": "2024-04-21T21:41:45.527307Z"
    }
   },
   "outputs": [],
   "source": [
    "df_train.sort_values(by='qid', inplace=True)\n",
    "df_valid.sort_values(by='qid', inplace=True)\n",
    "df_test.sort_values(by='qid', inplace=True)"
   ]
  },
  {
   "cell_type": "code",
   "execution_count": 10,
   "metadata": {
    "execution": {
     "iopub.execute_input": "2024-04-21T21:41:45.885463Z",
     "iopub.status.busy": "2024-04-21T21:41:45.884752Z",
     "iopub.status.idle": "2024-04-21T21:41:45.897555Z",
     "shell.execute_reply": "2024-04-21T21:41:45.896602Z",
     "shell.execute_reply.started": "2024-04-21T21:41:45.885428Z"
    }
   },
   "outputs": [
    {
     "data": {
      "text/plain": [
       "(True, True, True)"
      ]
     },
     "execution_count": 10,
     "metadata": {},
     "output_type": "execute_result"
    }
   ],
   "source": [
    "df_train['qid'].is_monotonic_increasing, df_valid['qid'].is_monotonic_increasing, df_test['qid'].is_monotonic_increasing"
   ]
  },
  {
   "cell_type": "code",
   "execution_count": 11,
   "metadata": {
    "execution": {
     "iopub.execute_input": "2024-04-21T21:41:45.899156Z",
     "iopub.status.busy": "2024-04-21T21:41:45.898803Z",
     "iopub.status.idle": "2024-04-21T21:41:45.919642Z",
     "shell.execute_reply": "2024-04-21T21:41:45.918802Z",
     "shell.execute_reply.started": "2024-04-21T21:41:45.899125Z"
    }
   },
   "outputs": [
    {
     "name": "stdout",
     "output_type": "stream",
     "text": [
      "set()\n",
      "set()\n",
      "set()\n"
     ]
    }
   ],
   "source": [
    "qid_train = set(df_train['qid'].unique().astype('int'))\n",
    "qid_valid = set(df_valid['qid'].unique().astype('int'))\n",
    "qid_test = set(df_test['qid'].unique().astype('int'))\n",
    "print(set.intersection(qid_train, qid_valid))\n",
    "print(set.intersection(qid_train, qid_test))\n",
    "print(set.intersection(qid_test, qid_valid))"
   ]
  },
  {
   "cell_type": "code",
   "execution_count": 12,
   "metadata": {
    "execution": {
     "iopub.execute_input": "2024-04-21T21:41:45.920869Z",
     "iopub.status.busy": "2024-04-21T21:41:45.920612Z",
     "iopub.status.idle": "2024-04-21T21:41:45.930429Z",
     "shell.execute_reply": "2024-04-21T21:41:45.929465Z",
     "shell.execute_reply.started": "2024-04-21T21:41:45.920847Z"
    }
   },
   "outputs": [],
   "source": [
    "class Model:\n",
    "    def __init__(self, optim_params=None):\n",
    "        # self.verbose = verbose\n",
    "        self.optim_params = optim_params\n",
    "        self.model = None\n",
    "        if self.optim_params is not None:\n",
    "            self.model = catboost.CatBoostRanker(**optim_params)\n",
    "            \n",
    "    def _create_pool(self, df, return_yqx=False):\n",
    "        y = df[\"label\"].to_numpy()\n",
    "        q = df[\"qid\"].astype('int32').to_numpy()\n",
    "        X = df.drop([\"label\", \"qid\"], axis=1).to_numpy()\n",
    "        pool = catboost.Pool(data=X, label=y, group_id=q)\n",
    "        # print(pool.get_group_id_hash())\n",
    "        if return_yqx:\n",
    "            return pool, (y, q, X)\n",
    "        return pool\n",
    "\n",
    "    def fit(self, df_train, df_valid):\n",
    "        pool_train = self._create_pool(df_train)\n",
    "        pool_valid = self._create_pool(df_valid)\n",
    "\n",
    "        # there is no optim params\n",
    "        if self.model is None:\n",
    "            self.model = CatBoostRanker()\n",
    "\n",
    "        self.model.fit(pool_train, eval_set=pool_valid, verbose=200, use_best_model=True)\n",
    "\n",
    "    def predict(self, df_test):\n",
    "        pool_test = self._create_pool(df_test)\n",
    "        return self.model.predict(pool_test)"
   ]
  },
  {
   "cell_type": "markdown",
   "metadata": {},
   "source": [
    "Функция создания тренировочного Pool для CatBoost:"
   ]
  },
  {
   "cell_type": "code",
   "execution_count": 13,
   "metadata": {
    "execution": {
     "iopub.execute_input": "2024-04-21T21:41:45.931923Z",
     "iopub.status.busy": "2024-04-21T21:41:45.931599Z",
     "iopub.status.idle": "2024-04-21T21:41:45.945528Z",
     "shell.execute_reply": "2024-04-21T21:41:45.944528Z",
     "shell.execute_reply.started": "2024-04-21T21:41:45.931897Z"
    }
   },
   "outputs": [],
   "source": [
    " def create_pool(df, return_yqx=False):\n",
    "        y = df[\"label\"].to_numpy()\n",
    "        q = df[\"qid\"].to_numpy().astype('uint32')\n",
    "        X = df.drop([\"label\", \"qid\"], axis=1).to_numpy()\n",
    "        pool = catboost.Pool(data=X, label=y, group_id=q)\n",
    "        # print(pool.get_group_id_hash())\n",
    "        if return_yqx:\n",
    "            return pool, (y, q, X)\n",
    "        return pool"
   ]
  },
  {
   "cell_type": "markdown",
   "metadata": {},
   "source": [
    "### Будем подбирать параметры с помощью hyperopt.\n",
    "Классический шаблон:"
   ]
  },
  {
   "cell_type": "code",
   "execution_count": 14,
   "metadata": {
    "execution": {
     "iopub.execute_input": "2024-04-21T21:41:45.949820Z",
     "iopub.status.busy": "2024-04-21T21:41:45.949159Z",
     "iopub.status.idle": "2024-04-21T21:41:45.957561Z",
     "shell.execute_reply": "2024-04-21T21:41:45.956620Z",
     "shell.execute_reply.started": "2024-04-21T21:41:45.949783Z"
    }
   },
   "outputs": [],
   "source": [
    "def run_hyperopt(search_space):\n",
    "    def objective(params, df_train, df_valid):\n",
    "        model = CatBoostRanker(**params)\n",
    "        pool_valid, (y_true, group_id, _) = create_pool(df_valid, return_yqx=True)\n",
    "        pool_train = create_pool(df_train)\n",
    "\n",
    "        model.fit(pool_train, eval_set=pool_valid, use_best_model=True)\n",
    "        y_hat = model.predict(pool_valid)\n",
    "        score = utils.eval_metric(y_true, y_hat, 'NDCG:top=10;type=Exp', group_id=group_id)[0]\n",
    "\n",
    "        return {'loss': 1-score, 'params': params, 'status': STATUS_OK}\n",
    "\n",
    "    trials = Trials()\n",
    "\n",
    "    best_params = fmin(fn=partial(objective, df_train=df_train, df_valid=df_valid),\n",
    "                     space=search_space,\n",
    "                     algo=tpe.suggest,\n",
    "                     max_evals=75,\n",
    "                     trials=trials,\n",
    "                     rstate=np.random.default_rng(42))\n",
    "\n",
    "    return trials"
   ]
  },
  {
   "cell_type": "code",
   "execution_count": 15,
   "metadata": {
    "execution": {
     "iopub.execute_input": "2024-04-21T21:41:45.959228Z",
     "iopub.status.busy": "2024-04-21T21:41:45.958897Z",
     "iopub.status.idle": "2024-04-21T22:43:03.199758Z",
     "shell.execute_reply": "2024-04-21T22:43:03.198669Z",
     "shell.execute_reply.started": "2024-04-21T21:41:45.959197Z"
    },
    "scrolled": true
   },
   "outputs": [
    {
     "name": "stdout",
     "output_type": "stream",
     "text": [
      "  0%|          | 0/75 [00:00<?, ?trial/s, best loss=?]"
     ]
    },
    {
     "name": "stderr",
     "output_type": "stream",
     "text": [
      "Default metric period is 5 because NDCG\n",
      " is/are not implemented for GPU\n",
      "\n",
      "Metric NDCG:type=Base is not implemented on GPU. Will use CPU for metric computation, this could significantly affect learning time\n",
      "\n",
      "Metric NDCG:top=10;type=Exp is not implemented on GPU. Will use CPU for metric computation, this could significantly affect learning time\n",
      "\n"
     ]
    },
    {
     "name": "stdout",
     "output_type": "stream",
     "text": [
      "0:\ttest: 0.3380666\tbest: 0.3380666 (0)\ttotal: 280ms\tremaining: 5m 35s\n",
      "\n",
      "200:\ttest: 0.4686512\tbest: 0.4686512 (200)\ttotal: 5.73s\tremaining: 28.5s\n",
      "\n",
      "400:\ttest: 0.4814675\tbest: 0.4814675 (400)\ttotal: 11.8s\tremaining: 23.6s\n",
      "\n",
      "600:\ttest: 0.4899037\tbest: 0.4899037 (600)\ttotal: 17.8s\tremaining: 17.7s\n",
      "\n",
      "800:\ttest: 0.4963812\tbest: 0.4964533 (790)\ttotal: 23s\tremaining: 11.5s\n",
      "\n",
      "1000:\ttest: 0.4991445\tbest: 0.4991445 (1000)\ttotal: 28.2s\tremaining: 5.6s\n",
      "\n",
      "1199:\ttest: 0.5026114\tbest: 0.5026130 (1180)\ttotal: 33.2s\tremaining: 0us\n",
      "\n",
      "bestTest = 0.5026129584                               \n",
      "\n",
      "bestIteration = 1180                                  \n",
      "\n",
      "Shrink model to first 1181 iterations.                \n",
      "  1%|▏         | 1/75 [00:39<49:03, 39.77s/trial, best loss: 0.49738518187822023]"
     ]
    },
    {
     "name": "stderr",
     "output_type": "stream",
     "text": [
      "Default metric period is 5 because NDCG\n",
      " is/are not implemented for GPU\n",
      "\n",
      "Metric NDCG:type=Base is not implemented on GPU. Will use CPU for metric computation, this could significantly affect learning time\n",
      "\n",
      "Metric NDCG:top=10;type=Exp is not implemented on GPU. Will use CPU for metric computation, this could significantly affect learning time\n",
      "\n"
     ]
    },
    {
     "name": "stdout",
     "output_type": "stream",
     "text": [
      "0:\ttest: 0.3637648\tbest: 0.3637648 (0)\ttotal: 120ms\tremaining: 2m 24s            \n",
      "\n",
      "200:\ttest: 0.4583438\tbest: 0.4584489 (175)\ttotal: 10.3s\tremaining: 51.4s         \n",
      "\n",
      "400:\ttest: 0.4593791\tbest: 0.4596560 (395)\ttotal: 20.4s\tremaining: 40.7s         \n",
      "\n",
      "600:\ttest: 0.4617921\tbest: 0.4617921 (600)\ttotal: 30.2s\tremaining: 30.1s         \n",
      "\n",
      "800:\ttest: 0.4621026\tbest: 0.4621026 (800)\ttotal: 41.1s\tremaining: 20.5s         \n",
      "\n",
      "1000:\ttest: 0.4632438\tbest: 0.4634762 (985)\ttotal: 51.1s\tremaining: 10.2s        \n",
      "\n",
      "1199:\ttest: 0.4641693\tbest: 0.4642185 (1140)\ttotal: 1m\tremaining: 0us            \n",
      "\n",
      "bestTest = 0.4642185448                                                          \n",
      "\n",
      "bestIteration = 1140                                                             \n",
      "\n",
      "Shrink model to first 1141 iterations.                                           \n",
      "  3%|▎         | 2/75 [01:49<1:10:07, 57.64s/trial, best loss: 0.49738518187822023]"
     ]
    },
    {
     "name": "stderr",
     "output_type": "stream",
     "text": [
      "Default metric period is 5 because NDCG\n",
      " is/are not implemented for GPU\n",
      "\n",
      "Metric NDCG:type=Base is not implemented on GPU. Will use CPU for metric computation, this could significantly affect learning time\n",
      "\n",
      "Metric NDCG:top=10;type=Exp is not implemented on GPU. Will use CPU for metric computation, this could significantly affect learning time\n",
      "\n"
     ]
    },
    {
     "name": "stdout",
     "output_type": "stream",
     "text": [
      "0:\ttest: 0.3291788\tbest: 0.3291788 (0)\ttotal: 62.8ms\tremaining: 1m 15s             \n",
      "\n",
      "200:\ttest: 0.4367164\tbest: 0.4367164 (200)\ttotal: 5.41s\tremaining: 26.9s           \n",
      "\n",
      "400:\ttest: 0.4388238\tbest: 0.4389326 (395)\ttotal: 10.1s\tremaining: 20.1s           \n",
      "\n",
      "600:\ttest: 0.4400869\tbest: 0.4401207 (575)\ttotal: 14.7s\tremaining: 14.6s           \n",
      "\n",
      "800:\ttest: 0.4407720\tbest: 0.4407720 (800)\ttotal: 19.6s\tremaining: 9.78s           \n",
      "\n",
      "1000:\ttest: 0.4415205\tbest: 0.4416223 (935)\ttotal: 25.2s\tremaining: 5s             \n",
      "\n",
      "1199:\ttest: 0.4425920\tbest: 0.4426390 (1185)\ttotal: 30.4s\tremaining: 0us           \n",
      "\n",
      "bestTest = 0.4426389563                                                            \n",
      "\n",
      "bestIteration = 1185                                                               \n",
      "\n",
      "Shrink model to first 1186 iterations.                                             \n",
      "  4%|▍         | 3/75 [02:25<57:19, 47.77s/trial, best loss: 0.49738518187822023]  "
     ]
    },
    {
     "name": "stderr",
     "output_type": "stream",
     "text": [
      "Default metric period is 5 because NDCG\n",
      " is/are not implemented for GPU\n",
      "\n",
      "Metric NDCG:type=Base is not implemented on GPU. Will use CPU for metric computation, this could significantly affect learning time\n",
      "\n",
      "Metric NDCG:top=10;type=Exp is not implemented on GPU. Will use CPU for metric computation, this could significantly affect learning time\n",
      "\n"
     ]
    },
    {
     "name": "stdout",
     "output_type": "stream",
     "text": [
      "0:\ttest: 0.3571370\tbest: 0.3571370 (0)\ttotal: 87.3ms\tremaining: 1m 44s           \n",
      "\n",
      "200:\ttest: 0.4549622\tbest: 0.4550299 (185)\ttotal: 7.39s\tremaining: 36.7s         \n",
      "\n",
      "400:\ttest: 0.4584436\tbest: 0.4584436 (400)\ttotal: 14s\tremaining: 27.9s           \n",
      "\n",
      "600:\ttest: 0.4607866\tbest: 0.4607866 (600)\ttotal: 21.1s\tremaining: 21s           \n",
      "\n",
      "800:\ttest: 0.4629220\tbest: 0.4629220 (800)\ttotal: 28s\tremaining: 14s             \n",
      "\n",
      "1000:\ttest: 0.4641583\tbest: 0.4646441 (955)\ttotal: 34.4s\tremaining: 6.83s        \n",
      "\n",
      "1199:\ttest: 0.4658381\tbest: 0.4658381 (1199)\ttotal: 40.4s\tremaining: 0us         \n",
      "\n",
      "bestTest = 0.4658380984                                                          \n",
      "\n",
      "bestIteration = 1199                                                             \n",
      "\n",
      "  5%|▌         | 4/75 [03:13<56:16, 47.56s/trial, best loss: 0.49738518187822023]"
     ]
    },
    {
     "name": "stderr",
     "output_type": "stream",
     "text": [
      "Default metric period is 5 because NDCG\n",
      " is/are not implemented for GPU\n",
      "\n",
      "Metric NDCG:type=Base is not implemented on GPU. Will use CPU for metric computation, this could significantly affect learning time\n",
      "\n",
      "Metric NDCG:top=10;type=Exp is not implemented on GPU. Will use CPU for metric computation, this could significantly affect learning time\n",
      "\n"
     ]
    },
    {
     "name": "stdout",
     "output_type": "stream",
     "text": [
      "0:\ttest: 0.2950280\tbest: 0.2950280 (0)\ttotal: 60.3ms\tremaining: 1m 12s           \n",
      "\n",
      "200:\ttest: 0.4295343\tbest: 0.4295343 (200)\ttotal: 4.82s\tremaining: 24s           \n",
      "\n",
      "400:\ttest: 0.4360199\tbest: 0.4360199 (400)\ttotal: 9.36s\tremaining: 18.6s         \n",
      "\n",
      "600:\ttest: 0.4386389\tbest: 0.4392157 (580)\ttotal: 13.5s\tremaining: 13.4s         \n",
      "\n",
      "800:\ttest: 0.4417285\tbest: 0.4417913 (795)\ttotal: 17.6s\tremaining: 8.78s         \n",
      "\n",
      "1000:\ttest: 0.4439340\tbest: 0.4439340 (1000)\ttotal: 21.7s\tremaining: 4.32s       \n",
      "\n",
      "1199:\ttest: 0.4457414\tbest: 0.4457602 (1195)\ttotal: 25.8s\tremaining: 0us         \n",
      "\n",
      "bestTest = 0.4457602186                                                          \n",
      "\n",
      "bestIteration = 1195                                                             \n",
      "\n",
      "Shrink model to first 1196 iterations.                                           \n",
      "  7%|▋         | 5/75 [03:44<48:31, 41.59s/trial, best loss: 0.49738518187822023]"
     ]
    },
    {
     "name": "stderr",
     "output_type": "stream",
     "text": [
      "Default metric period is 5 because NDCG\n",
      " is/are not implemented for GPU\n",
      "\n",
      "Metric NDCG:type=Base is not implemented on GPU. Will use CPU for metric computation, this could significantly affect learning time\n",
      "\n",
      "Metric NDCG:top=10;type=Exp is not implemented on GPU. Will use CPU for metric computation, this could significantly affect learning time\n",
      "\n"
     ]
    },
    {
     "name": "stdout",
     "output_type": "stream",
     "text": [
      "0:\ttest: 0.3560620\tbest: 0.3560620 (0)\ttotal: 83.5ms\tremaining: 1m 40s           \n",
      "\n",
      "200:\ttest: 0.4701184\tbest: 0.4701184 (200)\ttotal: 7.37s\tremaining: 36.6s         \n",
      "\n",
      "400:\ttest: 0.4809672\tbest: 0.4809672 (400)\ttotal: 14.4s\tremaining: 28.6s         \n",
      "\n",
      "600:\ttest: 0.4884595\tbest: 0.4884595 (600)\ttotal: 20.8s\tremaining: 20.8s         \n",
      "\n",
      "800:\ttest: 0.4937181\tbest: 0.4937181 (800)\ttotal: 27.9s\tremaining: 13.9s         \n",
      "\n",
      "1000:\ttest: 0.4977913\tbest: 0.4977913 (1000)\ttotal: 34.8s\tremaining: 6.93s       \n",
      "\n",
      "1199:\ttest: 0.5008755\tbest: 0.5008755 (1199)\ttotal: 41.2s\tremaining: 0us         \n",
      "\n",
      "bestTest = 0.5008754544                                                          \n",
      "\n",
      "bestIteration = 1199                                                             \n",
      "\n",
      "  8%|▊         | 6/75 [04:32<50:26, 43.86s/trial, best loss: 0.49738518187822023]"
     ]
    },
    {
     "name": "stderr",
     "output_type": "stream",
     "text": [
      "Default metric period is 5 because NDCG\n",
      " is/are not implemented for GPU\n",
      "\n",
      "Metric NDCG:type=Base is not implemented on GPU. Will use CPU for metric computation, this could significantly affect learning time\n",
      "\n",
      "Metric NDCG:top=10;type=Exp is not implemented on GPU. Will use CPU for metric computation, this could significantly affect learning time\n",
      "\n"
     ]
    },
    {
     "name": "stdout",
     "output_type": "stream",
     "text": [
      "0:\ttest: 0.3096153\tbest: 0.3096153 (0)\ttotal: 68.7ms\tremaining: 1m 22s           \n",
      "\n",
      "200:\ttest: 0.4499066\tbest: 0.4499066 (200)\ttotal: 5.64s\tremaining: 28s           \n",
      "\n",
      "400:\ttest: 0.4595855\tbest: 0.4596080 (390)\ttotal: 10.6s\tremaining: 21.1s         \n",
      "\n",
      "600:\ttest: 0.4650388\tbest: 0.4650388 (600)\ttotal: 15.3s\tremaining: 15.3s         \n",
      "\n",
      "800:\ttest: 0.4720910\tbest: 0.4720910 (800)\ttotal: 19.9s\tremaining: 9.92s         \n",
      "\n",
      "1000:\ttest: 0.4773423\tbest: 0.4773423 (1000)\ttotal: 25s\tremaining: 4.97s         \n",
      "\n",
      "1199:\ttest: 0.4818582\tbest: 0.4818766 (1195)\ttotal: 30.2s\tremaining: 0us         \n",
      "\n",
      "bestTest = 0.4818766241                                                          \n",
      "\n",
      "bestIteration = 1195                                                             \n",
      "\n",
      "Shrink model to first 1196 iterations.                                           \n",
      "  9%|▉         | 7/75 [05:08<46:45, 41.26s/trial, best loss: 0.49738518187822023]"
     ]
    },
    {
     "name": "stderr",
     "output_type": "stream",
     "text": [
      "Default metric period is 5 because NDCG\n",
      " is/are not implemented for GPU\n",
      "\n",
      "Metric NDCG:type=Base is not implemented on GPU. Will use CPU for metric computation, this could significantly affect learning time\n",
      "\n",
      "Metric NDCG:top=10;type=Exp is not implemented on GPU. Will use CPU for metric computation, this could significantly affect learning time\n",
      "\n"
     ]
    },
    {
     "name": "stdout",
     "output_type": "stream",
     "text": [
      "0:\ttest: 0.2924457\tbest: 0.2924457 (0)\ttotal: 62.7ms\tremaining: 1m 15s           \n",
      "\n",
      "200:\ttest: 0.4209830\tbest: 0.4209830 (200)\ttotal: 4.79s\tremaining: 23.8s         \n",
      "\n",
      "400:\ttest: 0.4248345\tbest: 0.4248345 (400)\ttotal: 9.23s\tremaining: 18.4s         \n",
      "\n",
      "600:\ttest: 0.4260396\tbest: 0.4262988 (565)\ttotal: 13.4s\tremaining: 13.3s         \n",
      "\n",
      "800:\ttest: 0.4273835\tbest: 0.4273835 (800)\ttotal: 17.9s\tremaining: 8.92s         \n",
      "\n",
      "1000:\ttest: 0.4276854\tbest: 0.4278403 (930)\ttotal: 22.2s\tremaining: 4.42s        \n",
      "\n",
      "1199:\ttest: 0.4278080\tbest: 0.4279609 (1145)\ttotal: 26.6s\tremaining: 0us         \n",
      "\n",
      "bestTest = 0.427960858                                                           \n",
      "\n",
      "bestIteration = 1145                                                             \n",
      "\n",
      "Shrink model to first 1146 iterations.                                           \n",
      " 11%|█         | 8/75 [05:40<42:43, 38.26s/trial, best loss: 0.49738518187822023]"
     ]
    },
    {
     "name": "stderr",
     "output_type": "stream",
     "text": [
      "Default metric period is 5 because NDCG\n",
      " is/are not implemented for GPU\n",
      "\n",
      "Metric NDCG:type=Base is not implemented on GPU. Will use CPU for metric computation, this could significantly affect learning time\n",
      "\n",
      "Metric NDCG:top=10;type=Exp is not implemented on GPU. Will use CPU for metric computation, this could significantly affect learning time\n",
      "\n"
     ]
    },
    {
     "name": "stdout",
     "output_type": "stream",
     "text": [
      "0:\ttest: 0.3139118\tbest: 0.3139118 (0)\ttotal: 65.9ms\tremaining: 1m 19s           \n",
      "\n",
      "200:\ttest: 0.4514663\tbest: 0.4514663 (200)\ttotal: 5.41s\tremaining: 26.9s         \n",
      "\n",
      "400:\ttest: 0.4610090\tbest: 0.4610090 (400)\ttotal: 10.8s\tremaining: 21.5s         \n",
      "\n",
      "600:\ttest: 0.4704435\tbest: 0.4704435 (600)\ttotal: 16.1s\tremaining: 16.1s         \n",
      "\n",
      "800:\ttest: 0.4765733\tbest: 0.4765733 (800)\ttotal: 21.6s\tremaining: 10.8s         \n",
      "\n",
      "1000:\ttest: 0.4823637\tbest: 0.4823637 (1000)\ttotal: 26.5s\tremaining: 5.26s       \n",
      "\n",
      "1199:\ttest: 0.4861090\tbest: 0.4861090 (1199)\ttotal: 31.8s\tremaining: 0us         \n",
      "\n",
      "bestTest = 0.4861090104                                                          \n",
      "\n",
      "bestIteration = 1199                                                             \n",
      "\n",
      " 12%|█▏        | 9/75 [06:17<41:48, 38.01s/trial, best loss: 0.49738518187822023]"
     ]
    },
    {
     "name": "stderr",
     "output_type": "stream",
     "text": [
      "Default metric period is 5 because NDCG\n",
      " is/are not implemented for GPU\n",
      "\n",
      "Metric NDCG:type=Base is not implemented on GPU. Will use CPU for metric computation, this could significantly affect learning time\n",
      "\n",
      "Metric NDCG:top=10;type=Exp is not implemented on GPU. Will use CPU for metric computation, this could significantly affect learning time\n",
      "\n"
     ]
    },
    {
     "name": "stdout",
     "output_type": "stream",
     "text": [
      "0:\ttest: 0.3636621\tbest: 0.3636621 (0)\ttotal: 98.9ms\tremaining: 1m 58s           \n",
      "\n",
      "200:\ttest: 0.4567948\tbest: 0.4572001 (185)\ttotal: 8.32s\tremaining: 41.4s         \n",
      "\n",
      "400:\ttest: 0.4573462\tbest: 0.4577833 (335)\ttotal: 16.6s\tremaining: 33s           \n",
      "\n",
      "600:\ttest: 0.4601331\tbest: 0.4601615 (595)\ttotal: 24s\tremaining: 24s             \n",
      "\n",
      "800:\ttest: 0.4617978\tbest: 0.4618217 (785)\ttotal: 31.5s\tremaining: 15.7s         \n",
      "\n",
      "1000:\ttest: 0.4630091\tbest: 0.4631783 (990)\ttotal: 39.9s\tremaining: 7.94s        \n",
      "\n",
      "1199:\ttest: 0.4644298\tbest: 0.4644734 (1180)\ttotal: 47.9s\tremaining: 0us         \n",
      "\n",
      "bestTest = 0.4644733802                                                          \n",
      "\n",
      "bestIteration = 1180                                                             \n",
      "\n",
      "Shrink model to first 1181 iterations.                                           \n",
      " 13%|█▎        | 10/75 [07:13<47:14, 43.60s/trial, best loss: 0.49738518187822023]"
     ]
    },
    {
     "name": "stderr",
     "output_type": "stream",
     "text": [
      "Default metric period is 5 because NDCG\n",
      " is/are not implemented for GPU\n",
      "\n",
      "Metric NDCG:type=Base is not implemented on GPU. Will use CPU for metric computation, this could significantly affect learning time\n",
      "\n",
      "Metric NDCG:top=10;type=Exp is not implemented on GPU. Will use CPU for metric computation, this could significantly affect learning time\n",
      "\n"
     ]
    },
    {
     "name": "stdout",
     "output_type": "stream",
     "text": [
      "0:\ttest: 0.3824547\tbest: 0.3824547 (0)\ttotal: 118ms\tremaining: 2m 21s             \n",
      "\n",
      "200:\ttest: 0.4635433\tbest: 0.4635433 (200)\ttotal: 11.2s\tremaining: 55.7s          \n",
      "\n",
      "400:\ttest: 0.4634091\tbest: 0.4638886 (390)\ttotal: 21.5s\tremaining: 42.9s          \n",
      "\n",
      "600:\ttest: 0.4626985\tbest: 0.4638886 (390)\ttotal: 32.6s\tremaining: 32.4s          \n",
      "\n",
      "800:\ttest: 0.4632063\tbest: 0.4638886 (390)\ttotal: 42.9s\tremaining: 21.4s          \n",
      "\n",
      "1000:\ttest: 0.4639601\tbest: 0.4639601 (1000)\ttotal: 53.4s\tremaining: 10.6s        \n",
      "\n",
      "1199:\ttest: 0.4641940\tbest: 0.4642606 (1195)\ttotal: 1m 2s\tremaining: 0us          \n",
      "\n",
      "bestTest = 0.4642605524                                                           \n",
      "\n",
      "bestIteration = 1195                                                              \n",
      "\n",
      "Shrink model to first 1196 iterations.                                            \n",
      " 15%|█▍        | 11/75 [08:26<55:57, 52.46s/trial, best loss: 0.49738518187822023]"
     ]
    },
    {
     "name": "stderr",
     "output_type": "stream",
     "text": [
      "Default metric period is 5 because NDCG\n",
      " is/are not implemented for GPU\n",
      "\n",
      "Metric NDCG:type=Base is not implemented on GPU. Will use CPU for metric computation, this could significantly affect learning time\n",
      "\n",
      "Metric NDCG:top=10;type=Exp is not implemented on GPU. Will use CPU for metric computation, this could significantly affect learning time\n",
      "\n"
     ]
    },
    {
     "name": "stdout",
     "output_type": "stream",
     "text": [
      "0:\ttest: 0.3664050\tbest: 0.3664050 (0)\ttotal: 118ms\tremaining: 2m 22s             \n",
      "\n",
      "200:\ttest: 0.4763387\tbest: 0.4765541 (195)\ttotal: 11.3s\tremaining: 56.3s          \n",
      "\n",
      "400:\ttest: 0.4858503\tbest: 0.4858503 (400)\ttotal: 21.2s\tremaining: 42.2s          \n",
      "\n",
      "600:\ttest: 0.4923858\tbest: 0.4923858 (600)\ttotal: 32.1s\tremaining: 32s            \n",
      "\n",
      "800:\ttest: 0.4970973\tbest: 0.4970973 (800)\ttotal: 42.5s\tremaining: 21.2s          \n",
      "\n",
      "1000:\ttest: 0.5005673\tbest: 0.5005673 (1000)\ttotal: 52.5s\tremaining: 10.4s        \n",
      "\n",
      "1199:\ttest: 0.5035451\tbest: 0.5035451 (1199)\ttotal: 1m 1s\tremaining: 0us          \n",
      "\n",
      "bestTest = 0.5035450918                                                           \n",
      "\n",
      "bestIteration = 1199                                                              \n",
      "\n",
      " 16%|█▌        | 12/75 [09:37<1:01:07, 58.22s/trial, best loss: 0.49645490818577453]"
     ]
    },
    {
     "name": "stderr",
     "output_type": "stream",
     "text": [
      "Default metric period is 5 because NDCG\n",
      " is/are not implemented for GPU\n",
      "\n",
      "Metric NDCG:type=Base is not implemented on GPU. Will use CPU for metric computation, this could significantly affect learning time\n",
      "\n",
      "Metric NDCG:top=10;type=Exp is not implemented on GPU. Will use CPU for metric computation, this could significantly affect learning time\n",
      "\n"
     ]
    },
    {
     "name": "stdout",
     "output_type": "stream",
     "text": [
      "0:\ttest: 0.3230095\tbest: 0.3230095 (0)\ttotal: 67.7ms\tremaining: 1m 21s              \n",
      "\n",
      "200:\ttest: 0.4365305\tbest: 0.4365305 (200)\ttotal: 5.45s\tremaining: 27.1s            \n",
      "\n",
      "400:\ttest: 0.4395803\tbest: 0.4396343 (395)\ttotal: 10.6s\tremaining: 21.2s            \n",
      "\n",
      "600:\ttest: 0.4407920\tbest: 0.4408970 (595)\ttotal: 16s\tremaining: 15.9s              \n",
      "\n",
      "800:\ttest: 0.4422887\tbest: 0.4422887 (800)\ttotal: 21s\tremaining: 10.4s              \n",
      "\n",
      "1000:\ttest: 0.4435438\tbest: 0.4436596 (965)\ttotal: 25.6s\tremaining: 5.09s           \n",
      "\n",
      "1199:\ttest: 0.4447248\tbest: 0.4447248 (1199)\ttotal: 30.3s\tremaining: 0us            \n",
      "\n",
      "bestTest = 0.4447247784                                                             \n",
      "\n",
      "bestIteration = 1199                                                                \n",
      "\n",
      " 17%|█▋        | 13/75 [10:13<53:14, 51.52s/trial, best loss: 0.49645490818577453]  "
     ]
    },
    {
     "name": "stderr",
     "output_type": "stream",
     "text": [
      "Default metric period is 5 because NDCG\n",
      " is/are not implemented for GPU\n",
      "\n",
      "Metric NDCG:type=Base is not implemented on GPU. Will use CPU for metric computation, this could significantly affect learning time\n",
      "\n",
      "Metric NDCG:top=10;type=Exp is not implemented on GPU. Will use CPU for metric computation, this could significantly affect learning time\n",
      "\n"
     ]
    },
    {
     "name": "stdout",
     "output_type": "stream",
     "text": [
      "0:\ttest: 0.3578599\tbest: 0.3578599 (0)\ttotal: 85.1ms\tremaining: 1m 42s            \n",
      "\n",
      "200:\ttest: 0.4510877\tbest: 0.4516224 (180)\ttotal: 7.24s\tremaining: 36s            \n",
      "\n",
      "400:\ttest: 0.4529171\tbest: 0.4529171 (400)\ttotal: 13.8s\tremaining: 27.6s          \n",
      "\n",
      "600:\ttest: 0.4529792\tbest: 0.4529792 (600)\ttotal: 21.1s\tremaining: 21.1s          \n",
      "\n",
      "800:\ttest: 0.4533562\tbest: 0.4533751 (795)\ttotal: 27.5s\tremaining: 13.7s          \n",
      "\n",
      "1000:\ttest: 0.4534240\tbest: 0.4535432 (965)\ttotal: 34.1s\tremaining: 6.79s         \n",
      "\n",
      "1199:\ttest: 0.4535581\tbest: 0.4538334 (1145)\ttotal: 40.9s\tremaining: 0us          \n",
      "\n",
      "bestTest = 0.4538334214                                                           \n",
      "\n",
      "bestIteration = 1145                                                              \n",
      "\n",
      "Shrink model to first 1146 iterations.                                            \n",
      " 19%|█▊        | 14/75 [11:01<51:20, 50.50s/trial, best loss: 0.49645490818577453]"
     ]
    },
    {
     "name": "stderr",
     "output_type": "stream",
     "text": [
      "Default metric period is 5 because NDCG\n",
      " is/are not implemented for GPU\n",
      "\n",
      "Metric NDCG:type=Base is not implemented on GPU. Will use CPU for metric computation, this could significantly affect learning time\n",
      "\n",
      "Metric NDCG:top=10;type=Exp is not implemented on GPU. Will use CPU for metric computation, this could significantly affect learning time\n",
      "\n"
     ]
    },
    {
     "name": "stdout",
     "output_type": "stream",
     "text": [
      "0:\ttest: 0.3123890\tbest: 0.3123890 (0)\ttotal: 68.3ms\tremaining: 1m 21s            \n",
      "\n",
      "200:\ttest: 0.4366706\tbest: 0.4367312 (195)\ttotal: 4.91s\tremaining: 24.4s          \n",
      "\n",
      "400:\ttest: 0.4390073\tbest: 0.4392294 (305)\ttotal: 9.77s\tremaining: 19.5s          \n",
      "\n",
      "600:\ttest: 0.4398613\tbest: 0.4398761 (590)\ttotal: 15.4s\tremaining: 15.3s          \n",
      "\n",
      "800:\ttest: 0.4411449\tbest: 0.4412509 (795)\ttotal: 20.8s\tremaining: 10.4s          \n",
      "\n",
      "1000:\ttest: 0.4418802\tbest: 0.4419542 (900)\ttotal: 26s\tremaining: 5.17s           \n",
      "\n",
      "1199:\ttest: 0.4430185\tbest: 0.4430185 (1199)\ttotal: 30.6s\tremaining: 0us          \n",
      "\n",
      "bestTest = 0.4430184952                                                           \n",
      "\n",
      "bestIteration = 1199                                                              \n",
      "\n",
      " 20%|██        | 15/75 [11:38<46:15, 46.26s/trial, best loss: 0.49645490818577453]"
     ]
    },
    {
     "name": "stderr",
     "output_type": "stream",
     "text": [
      "Default metric period is 5 because NDCG\n",
      " is/are not implemented for GPU\n",
      "\n",
      "Metric NDCG:type=Base is not implemented on GPU. Will use CPU for metric computation, this could significantly affect learning time\n",
      "\n",
      "Metric NDCG:top=10;type=Exp is not implemented on GPU. Will use CPU for metric computation, this could significantly affect learning time\n",
      "\n"
     ]
    },
    {
     "name": "stdout",
     "output_type": "stream",
     "text": [
      "0:\ttest: 0.3370181\tbest: 0.3370181 (0)\ttotal: 75.7ms\tremaining: 1m 30s            \n",
      "\n",
      "200:\ttest: 0.4738253\tbest: 0.4738253 (200)\ttotal: 6.17s\tremaining: 30.7s          \n",
      "\n",
      "400:\ttest: 0.4892811\tbest: 0.4892811 (400)\ttotal: 12.2s\tremaining: 24.3s          \n",
      "\n",
      "600:\ttest: 0.4976217\tbest: 0.4977056 (595)\ttotal: 17.5s\tremaining: 17.4s          \n",
      "\n",
      "800:\ttest: 0.5013445\tbest: 0.5013445 (800)\ttotal: 23.2s\tremaining: 11.6s          \n",
      "\n",
      "1000:\ttest: 0.5033790\tbest: 0.5035237 (995)\ttotal: 29s\tremaining: 5.77s           \n",
      "\n",
      "1199:\ttest: 0.5055970\tbest: 0.5055970 (1199)\ttotal: 34.1s\tremaining: 0us          \n",
      "\n",
      "bestTest = 0.5055969973                                                           \n",
      "\n",
      "bestIteration = 1199                                                              \n",
      "\n",
      " 21%|██▏       | 16/75 [12:18<43:45, 44.49s/trial, best loss: 0.4944030026784424] "
     ]
    },
    {
     "name": "stderr",
     "output_type": "stream",
     "text": [
      "Default metric period is 5 because NDCG\n",
      " is/are not implemented for GPU\n",
      "\n",
      "Metric NDCG:type=Base is not implemented on GPU. Will use CPU for metric computation, this could significantly affect learning time\n",
      "\n",
      "Metric NDCG:top=10;type=Exp is not implemented on GPU. Will use CPU for metric computation, this could significantly affect learning time\n",
      "\n"
     ]
    },
    {
     "name": "stdout",
     "output_type": "stream",
     "text": [
      "0:\ttest: 0.3118571\tbest: 0.3118571 (0)\ttotal: 68.7ms\tremaining: 1m 22s           \n",
      "\n",
      "200:\ttest: 0.4690763\tbest: 0.4690763 (200)\ttotal: 5.13s\tremaining: 25.5s         \n",
      "\n",
      "400:\ttest: 0.4858160\tbest: 0.4858160 (400)\ttotal: 9.96s\tremaining: 19.8s         \n",
      "\n",
      "600:\ttest: 0.4952059\tbest: 0.4952904 (595)\ttotal: 14.5s\tremaining: 14.5s         \n",
      "\n",
      "800:\ttest: 0.4980333\tbest: 0.4980851 (795)\ttotal: 19.1s\tremaining: 9.51s         \n",
      "\n",
      "1000:\ttest: 0.5007998\tbest: 0.5009112 (975)\ttotal: 23.8s\tremaining: 4.73s        \n",
      "\n",
      "1199:\ttest: 0.5026610\tbest: 0.5026610 (1199)\ttotal: 28.5s\tremaining: 0us         \n",
      "\n",
      "bestTest = 0.5026610064                                                          \n",
      "\n",
      "bestIteration = 1199                                                             \n",
      "\n",
      " 23%|██▎       | 17/75 [12:53<40:03, 41.44s/trial, best loss: 0.4944030026784424]"
     ]
    },
    {
     "name": "stderr",
     "output_type": "stream",
     "text": [
      "Default metric period is 5 because NDCG\n",
      " is/are not implemented for GPU\n",
      "\n",
      "Metric NDCG:type=Base is not implemented on GPU. Will use CPU for metric computation, this could significantly affect learning time\n",
      "\n",
      "Metric NDCG:top=10;type=Exp is not implemented on GPU. Will use CPU for metric computation, this could significantly affect learning time\n",
      "\n"
     ]
    },
    {
     "name": "stdout",
     "output_type": "stream",
     "text": [
      "0:\ttest: 0.3777146\tbest: 0.3777146 (0)\ttotal: 118ms\tremaining: 2m 22s            \n",
      "\n",
      "200:\ttest: 0.4624700\tbest: 0.4629462 (135)\ttotal: 10.2s\tremaining: 50.7s         \n",
      "\n",
      "400:\ttest: 0.4637716\tbest: 0.4640003 (390)\ttotal: 19.8s\tremaining: 39.4s         \n",
      "\n",
      "600:\ttest: 0.4644388\tbest: 0.4651903 (545)\ttotal: 29.3s\tremaining: 29.2s         \n",
      "\n",
      "800:\ttest: 0.4660116\tbest: 0.4661170 (765)\ttotal: 39.1s\tremaining: 19.5s         \n",
      "\n",
      "1000:\ttest: 0.4674567\tbest: 0.4674567 (1000)\ttotal: 48.6s\tremaining: 9.67s       \n",
      "\n",
      "1199:\ttest: 0.4683464\tbest: 0.4683464 (1199)\ttotal: 58.7s\tremaining: 0us         \n",
      "\n",
      "bestTest = 0.4683464279                                                          \n",
      "\n",
      "bestIteration = 1199                                                             \n",
      "\n",
      " 24%|██▍       | 18/75 [14:02<47:13, 49.71s/trial, best loss: 0.4944030026784424]"
     ]
    },
    {
     "name": "stderr",
     "output_type": "stream",
     "text": [
      "Default metric period is 5 because NDCG\n",
      " is/are not implemented for GPU\n",
      "\n",
      "Metric NDCG:type=Base is not implemented on GPU. Will use CPU for metric computation, this could significantly affect learning time\n",
      "\n",
      "Metric NDCG:top=10;type=Exp is not implemented on GPU. Will use CPU for metric computation, this could significantly affect learning time\n",
      "\n"
     ]
    },
    {
     "name": "stdout",
     "output_type": "stream",
     "text": [
      "0:\ttest: 0.3375511\tbest: 0.3375511 (0)\ttotal: 73.5ms\tremaining: 1m 28s           \n",
      "\n",
      "200:\ttest: 0.4451064\tbest: 0.4455652 (180)\ttotal: 6.37s\tremaining: 31.7s         \n",
      "\n",
      "400:\ttest: 0.4463527\tbest: 0.4464818 (385)\ttotal: 12.4s\tremaining: 24.8s         \n",
      "\n",
      "600:\ttest: 0.4466773\tbest: 0.4470767 (570)\ttotal: 18.5s\tremaining: 18.4s         \n",
      "\n",
      "800:\ttest: 0.4482794\tbest: 0.4482794 (800)\ttotal: 23.8s\tremaining: 11.9s         \n",
      "\n",
      "1000:\ttest: 0.4491823\tbest: 0.4494769 (985)\ttotal: 29.8s\tremaining: 5.93s        \n",
      "\n",
      "1199:\ttest: 0.4504471\tbest: 0.4504471 (1199)\ttotal: 36s\tremaining: 0us           \n",
      "\n",
      "bestTest = 0.4504470599                                                          \n",
      "\n",
      "bestIteration = 1199                                                             \n",
      "\n",
      " 25%|██▌       | 19/75 [14:44<44:19, 47.49s/trial, best loss: 0.4944030026784424]"
     ]
    },
    {
     "name": "stderr",
     "output_type": "stream",
     "text": [
      "Default metric period is 5 because NDCG\n",
      " is/are not implemented for GPU\n",
      "\n",
      "Metric NDCG:type=Base is not implemented on GPU. Will use CPU for metric computation, this could significantly affect learning time\n",
      "\n",
      "Metric NDCG:top=10;type=Exp is not implemented on GPU. Will use CPU for metric computation, this could significantly affect learning time\n",
      "\n"
     ]
    },
    {
     "name": "stdout",
     "output_type": "stream",
     "text": [
      "0:\ttest: 0.3576072\tbest: 0.3576072 (0)\ttotal: 85.7ms\tremaining: 1m 42s           \n",
      "\n",
      "200:\ttest: 0.4581643\tbest: 0.4581643 (200)\ttotal: 7.77s\tremaining: 38.6s         \n",
      "\n",
      "400:\ttest: 0.4616158\tbest: 0.4616158 (400)\ttotal: 15.4s\tremaining: 30.6s         \n",
      "\n",
      "600:\ttest: 0.4656851\tbest: 0.4656851 (600)\ttotal: 23.9s\tremaining: 23.8s         \n",
      "\n",
      "800:\ttest: 0.4668689\tbest: 0.4672639 (790)\ttotal: 31.3s\tremaining: 15.6s         \n",
      "\n",
      "1000:\ttest: 0.4685049\tbest: 0.4685684 (995)\ttotal: 38.9s\tremaining: 7.72s        \n",
      "\n",
      "1199:\ttest: 0.4699695\tbest: 0.4699695 (1199)\ttotal: 46.6s\tremaining: 0us         \n",
      "\n",
      "bestTest = 0.4699694742                                                          \n",
      "\n",
      "bestIteration = 1199                                                             \n",
      "\n",
      " 27%|██▋       | 20/75 [15:39<45:32, 49.69s/trial, best loss: 0.4944030026784424]"
     ]
    },
    {
     "name": "stderr",
     "output_type": "stream",
     "text": [
      "Default metric period is 5 because NDCG\n",
      " is/are not implemented for GPU\n",
      "\n",
      "Metric NDCG:type=Base is not implemented on GPU. Will use CPU for metric computation, this could significantly affect learning time\n",
      "\n",
      "Metric NDCG:top=10;type=Exp is not implemented on GPU. Will use CPU for metric computation, this could significantly affect learning time\n",
      "\n"
     ]
    },
    {
     "name": "stdout",
     "output_type": "stream",
     "text": [
      "0:\ttest: 0.3526863\tbest: 0.3526863 (0)\ttotal: 75.4ms\tremaining: 1m 30s           \n",
      "\n",
      "200:\ttest: 0.4912345\tbest: 0.4912345 (200)\ttotal: 5.54s\tremaining: 27.5s         \n",
      "\n",
      "400:\ttest: 0.5027673\tbest: 0.5029898 (395)\ttotal: 10.7s\tremaining: 21.4s         \n",
      "\n",
      "600:\ttest: 0.5068639\tbest: 0.5069571 (585)\ttotal: 15.8s\tremaining: 15.8s         \n",
      "\n",
      "800:\ttest: 0.5085519\tbest: 0.5085519 (800)\ttotal: 20.9s\tremaining: 10.4s         \n",
      "\n",
      "1000:\ttest: 0.5092175\tbest: 0.5095185 (990)\ttotal: 26.5s\tremaining: 5.26s        \n",
      "\n",
      "1199:\ttest: 0.5103701\tbest: 0.5106946 (1185)\ttotal: 31.5s\tremaining: 0us         \n",
      "\n",
      "bestTest = 0.5106945624                                                          \n",
      "\n",
      "bestIteration = 1185                                                             \n",
      "\n",
      "Shrink model to first 1186 iterations.                                           \n",
      " 28%|██▊       | 21/75 [16:16<41:28, 46.09s/trial, best loss: 0.4893054375694069]"
     ]
    },
    {
     "name": "stderr",
     "output_type": "stream",
     "text": [
      "Default metric period is 5 because NDCG\n",
      " is/are not implemented for GPU\n",
      "\n",
      "Metric NDCG:type=Base is not implemented on GPU. Will use CPU for metric computation, this could significantly affect learning time\n",
      "\n",
      "Metric NDCG:top=10;type=Exp is not implemented on GPU. Will use CPU for metric computation, this could significantly affect learning time\n",
      "\n"
     ]
    },
    {
     "name": "stdout",
     "output_type": "stream",
     "text": [
      "0:\ttest: 0.3525396\tbest: 0.3525396 (0)\ttotal: 66.4ms\tremaining: 1m 19s           \n",
      "\n",
      "200:\ttest: 0.4947364\tbest: 0.4947364 (200)\ttotal: 6.27s\tremaining: 31.2s         \n",
      "\n",
      "400:\ttest: 0.5056055\tbest: 0.5056055 (400)\ttotal: 12.1s\tremaining: 24.1s         \n",
      "\n",
      "600:\ttest: 0.5084517\tbest: 0.5084517 (600)\ttotal: 17.6s\tremaining: 17.5s         \n",
      "\n",
      "800:\ttest: 0.5101067\tbest: 0.5102343 (760)\ttotal: 23.2s\tremaining: 11.6s         \n",
      "\n",
      "1000:\ttest: 0.5106829\tbest: 0.5109685 (980)\ttotal: 28.8s\tremaining: 5.73s        \n",
      "\n",
      "1199:\ttest: 0.5118996\tbest: 0.5118996 (1199)\ttotal: 34.3s\tremaining: 0us         \n",
      "\n",
      "bestTest = 0.5118996234                                                          \n",
      "\n",
      "bestIteration = 1199                                                             \n",
      "\n",
      " 29%|██▉       | 22/75 [16:57<39:14, 44.43s/trial, best loss: 0.48810037657373206]"
     ]
    },
    {
     "name": "stderr",
     "output_type": "stream",
     "text": [
      "Default metric period is 5 because NDCG\n",
      " is/are not implemented for GPU\n",
      "\n",
      "Metric NDCG:type=Base is not implemented on GPU. Will use CPU for metric computation, this could significantly affect learning time\n",
      "\n",
      "Metric NDCG:top=10;type=Exp is not implemented on GPU. Will use CPU for metric computation, this could significantly affect learning time\n",
      "\n"
     ]
    },
    {
     "name": "stdout",
     "output_type": "stream",
     "text": [
      "0:\ttest: 0.3529430\tbest: 0.3529430 (0)\ttotal: 77.2ms\tremaining: 1m 32s            \n",
      "\n",
      "200:\ttest: 0.4910058\tbest: 0.4910058 (200)\ttotal: 6.15s\tremaining: 30.6s          \n",
      "\n",
      "400:\ttest: 0.5027792\tbest: 0.5028091 (395)\ttotal: 12.2s\tremaining: 24.4s          \n",
      "\n",
      "600:\ttest: 0.5066498\tbest: 0.5066498 (600)\ttotal: 18.2s\tremaining: 18.2s          \n",
      "\n",
      "800:\ttest: 0.5084711\tbest: 0.5086757 (795)\ttotal: 24.3s\tremaining: 12.1s          \n",
      "\n",
      "1000:\ttest: 0.5090734\tbest: 0.5094964 (845)\ttotal: 30.2s\tremaining: 6s            \n",
      "\n",
      "1199:\ttest: 0.5094731\tbest: 0.5097826 (1115)\ttotal: 35.9s\tremaining: 0us          \n",
      "\n",
      "bestTest = 0.5097826249                                                           \n",
      "\n",
      "bestIteration = 1115                                                              \n",
      "\n",
      "Shrink model to first 1116 iterations.                                            \n",
      " 31%|███       | 23/75 [17:39<37:55, 43.77s/trial, best loss: 0.48810037657373206]"
     ]
    },
    {
     "name": "stderr",
     "output_type": "stream",
     "text": [
      "Default metric period is 5 because NDCG\n",
      " is/are not implemented for GPU\n",
      "\n",
      "Metric NDCG:type=Base is not implemented on GPU. Will use CPU for metric computation, this could significantly affect learning time\n",
      "\n",
      "Metric NDCG:top=10;type=Exp is not implemented on GPU. Will use CPU for metric computation, this could significantly affect learning time\n",
      "\n"
     ]
    },
    {
     "name": "stdout",
     "output_type": "stream",
     "text": [
      "0:\ttest: 0.3518647\tbest: 0.3518647 (0)\ttotal: 74.6ms\tremaining: 1m 29s            \n",
      "\n",
      "200:\ttest: 0.4968426\tbest: 0.4968426 (200)\ttotal: 5.52s\tremaining: 27.5s          \n",
      "\n",
      "400:\ttest: 0.5051480\tbest: 0.5051480 (400)\ttotal: 10.8s\tremaining: 21.6s          \n",
      "\n",
      "600:\ttest: 0.5079890\tbest: 0.5081181 (585)\ttotal: 16s\tremaining: 16s              \n",
      "\n",
      "800:\ttest: 0.5105217\tbest: 0.5105217 (800)\ttotal: 21.3s\tremaining: 10.6s          \n",
      "\n",
      "1000:\ttest: 0.5116112\tbest: 0.5116112 (1000)\ttotal: 26.9s\tremaining: 5.34s        \n",
      "\n",
      "1199:\ttest: 0.5117949\tbest: 0.5123659 (1125)\ttotal: 32.8s\tremaining: 0us          \n",
      "\n",
      "bestTest = 0.5123659102                                                           \n",
      "\n",
      "bestIteration = 1125                                                              \n",
      "\n",
      "Shrink model to first 1126 iterations.                                            \n",
      " 32%|███▏      | 24/75 [18:18<36:02, 42.41s/trial, best loss: 0.4876340898467578] "
     ]
    },
    {
     "name": "stderr",
     "output_type": "stream",
     "text": [
      "Default metric period is 5 because NDCG\n",
      " is/are not implemented for GPU\n",
      "\n",
      "Metric NDCG:type=Base is not implemented on GPU. Will use CPU for metric computation, this could significantly affect learning time\n",
      "\n",
      "Metric NDCG:top=10;type=Exp is not implemented on GPU. Will use CPU for metric computation, this could significantly affect learning time\n",
      "\n"
     ]
    },
    {
     "name": "stdout",
     "output_type": "stream",
     "text": [
      "0:\ttest: 0.3517569\tbest: 0.3517569 (0)\ttotal: 75.2ms\tremaining: 1m 30s           \n",
      "\n",
      "200:\ttest: 0.4538610\tbest: 0.4538610 (200)\ttotal: 6.46s\tremaining: 32.1s         \n",
      "\n",
      "400:\ttest: 0.4589571\tbest: 0.4589571 (400)\ttotal: 12.6s\tremaining: 25.2s         \n",
      "\n",
      "600:\ttest: 0.4638133\tbest: 0.4638133 (600)\ttotal: 18.8s\tremaining: 18.7s         \n",
      "\n",
      "800:\ttest: 0.4675914\tbest: 0.4675914 (800)\ttotal: 24.4s\tremaining: 12.1s         \n",
      "\n",
      "1000:\ttest: 0.4710857\tbest: 0.4710857 (1000)\ttotal: 30.4s\tremaining: 6.04s       \n",
      "\n",
      "1199:\ttest: 0.4740915\tbest: 0.4740915 (1199)\ttotal: 36.5s\tremaining: 0us         \n",
      "\n",
      "bestTest = 0.4740914935                                                          \n",
      "\n",
      "bestIteration = 1199                                                             \n",
      "\n",
      " 33%|███▎      | 25/75 [19:01<35:29, 42.59s/trial, best loss: 0.4876340898467578]"
     ]
    },
    {
     "name": "stderr",
     "output_type": "stream",
     "text": [
      "Default metric period is 5 because NDCG\n",
      " is/are not implemented for GPU\n",
      "\n",
      "Metric NDCG:type=Base is not implemented on GPU. Will use CPU for metric computation, this could significantly affect learning time\n",
      "\n",
      "Metric NDCG:top=10;type=Exp is not implemented on GPU. Will use CPU for metric computation, this could significantly affect learning time\n",
      "\n"
     ]
    },
    {
     "name": "stdout",
     "output_type": "stream",
     "text": [
      "0:\ttest: 0.3502012\tbest: 0.3502012 (0)\ttotal: 65.9ms\tremaining: 1m 19s           \n",
      "\n",
      "200:\ttest: 0.4954360\tbest: 0.4954360 (200)\ttotal: 5.85s\tremaining: 29.1s         \n",
      "\n",
      "400:\ttest: 0.5056183\tbest: 0.5056183 (400)\ttotal: 11.8s\tremaining: 23.5s         \n",
      "\n",
      "600:\ttest: 0.5072352\tbest: 0.5072987 (580)\ttotal: 17.6s\tremaining: 17.5s         \n",
      "\n",
      "800:\ttest: 0.5097290\tbest: 0.5097301 (790)\ttotal: 22.6s\tremaining: 11.2s         \n",
      "\n",
      "1000:\ttest: 0.5104340\tbest: 0.5106403 (995)\ttotal: 27.6s\tremaining: 5.49s        \n",
      "\n",
      "1199:\ttest: 0.5114246\tbest: 0.5116405 (1190)\ttotal: 32.6s\tremaining: 0us         \n",
      "\n",
      "bestTest = 0.5116405289                                                          \n",
      "\n",
      "bestIteration = 1190                                                             \n",
      "\n",
      "Shrink model to first 1191 iterations.                                           \n",
      " 35%|███▍      | 26/75 [19:40<33:53, 41.49s/trial, best loss: 0.4876340898467578]"
     ]
    },
    {
     "name": "stderr",
     "output_type": "stream",
     "text": [
      "Default metric period is 5 because NDCG\n",
      " is/are not implemented for GPU\n",
      "\n",
      "Metric NDCG:type=Base is not implemented on GPU. Will use CPU for metric computation, this could significantly affect learning time\n",
      "\n",
      "Metric NDCG:top=10;type=Exp is not implemented on GPU. Will use CPU for metric computation, this could significantly affect learning time\n",
      "\n"
     ]
    },
    {
     "name": "stdout",
     "output_type": "stream",
     "text": [
      "0:\ttest: 0.3511050\tbest: 0.3511050 (0)\ttotal: 74.5ms\tremaining: 1m 29s           \n",
      "\n",
      "200:\ttest: 0.4563569\tbest: 0.4563569 (200)\ttotal: 6.11s\tremaining: 30.4s         \n",
      "\n",
      "400:\ttest: 0.4634315\tbest: 0.4634315 (400)\ttotal: 11.7s\tremaining: 23.3s         \n",
      "\n",
      "600:\ttest: 0.4691174\tbest: 0.4691565 (585)\ttotal: 17.1s\tremaining: 17.1s         \n",
      "\n",
      "800:\ttest: 0.4742914\tbest: 0.4742914 (800)\ttotal: 22.9s\tremaining: 11.4s         \n",
      "\n",
      "1000:\ttest: 0.4773191\tbest: 0.4775273 (995)\ttotal: 28.6s\tremaining: 5.69s        \n",
      "\n",
      "1199:\ttest: 0.4813202\tbest: 0.4813363 (1195)\ttotal: 34.2s\tremaining: 0us         \n",
      "\n",
      "bestTest = 0.4813363212                                                          \n",
      "\n",
      "bestIteration = 1195                                                             \n",
      "\n",
      "Shrink model to first 1196 iterations.                                           \n",
      " 36%|███▌      | 27/75 [20:21<32:57, 41.19s/trial, best loss: 0.4876340898467578]"
     ]
    },
    {
     "name": "stderr",
     "output_type": "stream",
     "text": [
      "Default metric period is 5 because NDCG\n",
      " is/are not implemented for GPU\n",
      "\n",
      "Metric NDCG:type=Base is not implemented on GPU. Will use CPU for metric computation, this could significantly affect learning time\n",
      "\n",
      "Metric NDCG:top=10;type=Exp is not implemented on GPU. Will use CPU for metric computation, this could significantly affect learning time\n",
      "\n"
     ]
    },
    {
     "name": "stdout",
     "output_type": "stream",
     "text": [
      "0:\ttest: 0.3513024\tbest: 0.3513024 (0)\ttotal: 74.8ms\tremaining: 1m 29s           \n",
      "\n",
      "200:\ttest: 0.4787338\tbest: 0.4787338 (200)\ttotal: 6.27s\tremaining: 31.2s         \n",
      "\n",
      "400:\ttest: 0.4944004\tbest: 0.4944004 (400)\ttotal: 11.5s\tremaining: 22.9s         \n",
      "\n",
      "600:\ttest: 0.5016908\tbest: 0.5016908 (600)\ttotal: 16.7s\tremaining: 16.6s         \n",
      "\n",
      "800:\ttest: 0.5039419\tbest: 0.5039419 (800)\ttotal: 21.8s\tremaining: 10.8s         \n",
      "\n",
      "1000:\ttest: 0.5056252\tbest: 0.5060805 (970)\ttotal: 26.9s\tremaining: 5.34s        \n",
      "\n",
      "1199:\ttest: 0.5070875\tbest: 0.5072383 (1185)\ttotal: 32.4s\tremaining: 0us         \n",
      "\n",
      "bestTest = 0.5072383399                                                          \n",
      "\n",
      "bestIteration = 1185                                                             \n",
      "\n",
      "Shrink model to first 1186 iterations.                                           \n",
      " 37%|███▋      | 28/75 [21:00<31:44, 40.53s/trial, best loss: 0.4876340898467578]"
     ]
    },
    {
     "name": "stderr",
     "output_type": "stream",
     "text": [
      "Default metric period is 5 because NDCG\n",
      " is/are not implemented for GPU\n",
      "\n",
      "Metric NDCG:type=Base is not implemented on GPU. Will use CPU for metric computation, this could significantly affect learning time\n",
      "\n",
      "Metric NDCG:top=10;type=Exp is not implemented on GPU. Will use CPU for metric computation, this could significantly affect learning time\n",
      "\n"
     ]
    },
    {
     "name": "stdout",
     "output_type": "stream",
     "text": [
      "0:\ttest: 0.2979473\tbest: 0.2979473 (0)\ttotal: 65.3ms\tremaining: 1m 18s           \n",
      "\n",
      "200:\ttest: 0.4587984\tbest: 0.4587984 (200)\ttotal: 4.87s\tremaining: 24.2s         \n",
      "\n",
      "400:\ttest: 0.4763892\tbest: 0.4763892 (400)\ttotal: 9.32s\tremaining: 18.6s         \n",
      "\n",
      "600:\ttest: 0.4857178\tbest: 0.4857178 (600)\ttotal: 13.4s\tremaining: 13.4s         \n",
      "\n",
      "800:\ttest: 0.4913909\tbest: 0.4913909 (800)\ttotal: 17.9s\tremaining: 8.94s         \n",
      "\n",
      "1000:\ttest: 0.4945625\tbest: 0.4945625 (1000)\ttotal: 22.7s\tremaining: 4.52s       \n",
      "\n",
      "1199:\ttest: 0.4972652\tbest: 0.4972652 (1199)\ttotal: 27.1s\tremaining: 0us         \n",
      "\n",
      "bestTest = 0.4972651778                                                          \n",
      "\n",
      "bestIteration = 1199                                                             \n",
      "\n",
      " 39%|███▊      | 29/75 [21:32<29:13, 38.12s/trial, best loss: 0.4876340898467578]"
     ]
    },
    {
     "name": "stderr",
     "output_type": "stream",
     "text": [
      "Default metric period is 5 because NDCG\n",
      " is/are not implemented for GPU\n",
      "\n",
      "Metric NDCG:type=Base is not implemented on GPU. Will use CPU for metric computation, this could significantly affect learning time\n",
      "\n",
      "Metric NDCG:top=10;type=Exp is not implemented on GPU. Will use CPU for metric computation, this could significantly affect learning time\n",
      "\n"
     ]
    },
    {
     "name": "stdout",
     "output_type": "stream",
     "text": [
      "0:\ttest: 0.3619388\tbest: 0.3619388 (0)\ttotal: 84.3ms\tremaining: 1m 41s           \n",
      "\n",
      "200:\ttest: 0.4982444\tbest: 0.4982444 (200)\ttotal: 7.9s\tremaining: 39.3s          \n",
      "\n",
      "400:\ttest: 0.5072446\tbest: 0.5072882 (390)\ttotal: 15.2s\tremaining: 30.3s         \n",
      "\n",
      "600:\ttest: 0.5116955\tbest: 0.5117711 (585)\ttotal: 22.3s\tremaining: 22.2s         \n",
      "\n",
      "800:\ttest: 0.5131803\tbest: 0.5134745 (770)\ttotal: 30.2s\tremaining: 15.1s         \n",
      "\n",
      "1000:\ttest: 0.5143851\tbest: 0.5146260 (950)\ttotal: 37.4s\tremaining: 7.43s        \n",
      "\n",
      "1199:\ttest: 0.5150392\tbest: 0.5153291 (1165)\ttotal: 44.1s\tremaining: 0us         \n",
      "\n",
      "bestTest = 0.5153290541                                                          \n",
      "\n",
      "bestIteration = 1165                                                             \n",
      "\n",
      "Shrink model to first 1166 iterations.                                           \n",
      " 40%|████      | 30/75 [22:24<31:42, 42.29s/trial, best loss: 0.4846709458639874]"
     ]
    },
    {
     "name": "stderr",
     "output_type": "stream",
     "text": [
      "Default metric period is 5 because NDCG\n",
      " is/are not implemented for GPU\n",
      "\n",
      "Metric NDCG:type=Base is not implemented on GPU. Will use CPU for metric computation, this could significantly affect learning time\n",
      "\n",
      "Metric NDCG:top=10;type=Exp is not implemented on GPU. Will use CPU for metric computation, this could significantly affect learning time\n",
      "\n"
     ]
    },
    {
     "name": "stdout",
     "output_type": "stream",
     "text": [
      "0:\ttest: 0.3606756\tbest: 0.3606756 (0)\ttotal: 97.5ms\tremaining: 1m 56s           \n",
      "\n",
      "200:\ttest: 0.4790328\tbest: 0.4790328 (200)\ttotal: 8.56s\tremaining: 42.6s         \n",
      "\n",
      "400:\ttest: 0.4886074\tbest: 0.4886074 (400)\ttotal: 16.7s\tremaining: 33.2s         \n",
      "\n",
      "600:\ttest: 0.4960355\tbest: 0.4960355 (600)\ttotal: 24.3s\tremaining: 24.2s         \n",
      "\n",
      "800:\ttest: 0.5000463\tbest: 0.5000463 (800)\ttotal: 32.3s\tremaining: 16.1s         \n",
      "\n",
      "1000:\ttest: 0.5045676\tbest: 0.5045676 (1000)\ttotal: 40.6s\tremaining: 8.07s       \n",
      "\n",
      "1199:\ttest: 0.5061588\tbest: 0.5062170 (1190)\ttotal: 48.9s\tremaining: 0us         \n",
      "\n",
      "bestTest = 0.5062169972                                                          \n",
      "\n",
      "bestIteration = 1190                                                             \n",
      "\n",
      "Shrink model to first 1191 iterations.                                           \n",
      " 41%|████▏     | 31/75 [23:21<34:11, 46.63s/trial, best loss: 0.4846709458639874]"
     ]
    },
    {
     "name": "stderr",
     "output_type": "stream",
     "text": [
      "Default metric period is 5 because NDCG\n",
      " is/are not implemented for GPU\n",
      "\n",
      "Metric NDCG:type=Base is not implemented on GPU. Will use CPU for metric computation, this could significantly affect learning time\n",
      "\n",
      "Metric NDCG:top=10;type=Exp is not implemented on GPU. Will use CPU for metric computation, this could significantly affect learning time\n",
      "\n"
     ]
    },
    {
     "name": "stdout",
     "output_type": "stream",
     "text": [
      "0:\ttest: 0.3581089\tbest: 0.3581089 (0)\ttotal: 98.7ms\tremaining: 1m 58s           \n",
      "\n",
      "200:\ttest: 0.4613612\tbest: 0.4613612 (200)\ttotal: 8.22s\tremaining: 40.9s         \n",
      "\n",
      "400:\ttest: 0.4667410\tbest: 0.4667410 (400)\ttotal: 16.5s\tremaining: 32.9s         \n",
      "\n",
      "600:\ttest: 0.4721156\tbest: 0.4721623 (590)\ttotal: 24.9s\tremaining: 24.8s         \n",
      "\n",
      "800:\ttest: 0.4748593\tbest: 0.4748593 (800)\ttotal: 33.5s\tremaining: 16.7s         \n",
      "\n",
      "1000:\ttest: 0.4778916\tbest: 0.4780206 (990)\ttotal: 42.1s\tremaining: 8.38s        \n",
      "\n",
      "1199:\ttest: 0.4791165\tbest: 0.4791313 (1140)\ttotal: 50.5s\tremaining: 0us         \n",
      "\n",
      "bestTest = 0.4791313298                                                          \n",
      "\n",
      "bestIteration = 1140                                                             \n",
      "\n",
      "Shrink model to first 1141 iterations.                                           \n",
      " 43%|████▎     | 32/75 [24:20<35:58, 50.19s/trial, best loss: 0.4846709458639874]"
     ]
    },
    {
     "name": "stderr",
     "output_type": "stream",
     "text": [
      "Default metric period is 5 because NDCG\n",
      " is/are not implemented for GPU\n",
      "\n",
      "Metric NDCG:type=Base is not implemented on GPU. Will use CPU for metric computation, this could significantly affect learning time\n",
      "\n",
      "Metric NDCG:top=10;type=Exp is not implemented on GPU. Will use CPU for metric computation, this could significantly affect learning time\n",
      "\n"
     ]
    },
    {
     "name": "stdout",
     "output_type": "stream",
     "text": [
      "0:\ttest: 0.3654667\tbest: 0.3654667 (0)\ttotal: 98.8ms\tremaining: 1m 58s           \n",
      "\n",
      "200:\ttest: 0.4693219\tbest: 0.4693219 (200)\ttotal: 8.35s\tremaining: 41.5s         \n",
      "\n",
      "400:\ttest: 0.4753125\tbest: 0.4753125 (400)\ttotal: 16.8s\tremaining: 33.4s         \n",
      "\n",
      "600:\ttest: 0.4804270\tbest: 0.4804270 (600)\ttotal: 24.8s\tremaining: 24.8s         \n",
      "\n",
      "800:\ttest: 0.4858227\tbest: 0.4858349 (795)\ttotal: 32.7s\tremaining: 16.3s         \n",
      "\n",
      "1000:\ttest: 0.4885109\tbest: 0.4885533 (985)\ttotal: 40.5s\tremaining: 8.05s        \n",
      "\n",
      "1199:\ttest: 0.4909636\tbest: 0.4909767 (1170)\ttotal: 49.2s\tremaining: 0us         \n",
      "\n",
      "bestTest = 0.4909767065                                                          \n",
      "\n",
      "bestIteration = 1170                                                             \n",
      "\n",
      "Shrink model to first 1171 iterations.                                           \n",
      " 44%|████▍     | 33/75 [25:17<36:37, 52.32s/trial, best loss: 0.4846709458639874]"
     ]
    },
    {
     "name": "stderr",
     "output_type": "stream",
     "text": [
      "Default metric period is 5 because NDCG\n",
      " is/are not implemented for GPU\n",
      "\n",
      "Metric NDCG:type=Base is not implemented on GPU. Will use CPU for metric computation, this could significantly affect learning time\n",
      "\n",
      "Metric NDCG:top=10;type=Exp is not implemented on GPU. Will use CPU for metric computation, this could significantly affect learning time\n",
      "\n"
     ]
    },
    {
     "name": "stdout",
     "output_type": "stream",
     "text": [
      "0:\ttest: 0.3599725\tbest: 0.3599725 (0)\ttotal: 101ms\tremaining: 2m 1s             \n",
      "\n",
      "200:\ttest: 0.4909796\tbest: 0.4909796 (200)\ttotal: 7.95s\tremaining: 39.5s         \n",
      "\n",
      "400:\ttest: 0.5021898\tbest: 0.5021898 (400)\ttotal: 15.2s\tremaining: 30.2s         \n",
      "\n",
      "600:\ttest: 0.5083235\tbest: 0.5083235 (600)\ttotal: 22.9s\tremaining: 22.8s         \n",
      "\n",
      "800:\ttest: 0.5095948\tbest: 0.5097236 (795)\ttotal: 30.6s\tremaining: 15.2s         \n",
      "\n",
      "1000:\ttest: 0.5118757\tbest: 0.5122258 (990)\ttotal: 37.5s\tremaining: 7.46s        \n",
      "\n",
      "1199:\ttest: 0.5128799\tbest: 0.5129213 (1195)\ttotal: 45.2s\tremaining: 0us         \n",
      "\n",
      "bestTest = 0.5129212679                                                          \n",
      "\n",
      "bestIteration = 1195                                                             \n",
      "\n",
      "Shrink model to first 1196 iterations.                                           \n",
      " 45%|████▌     | 34/75 [26:10<35:57, 52.63s/trial, best loss: 0.4846709458639874]"
     ]
    },
    {
     "name": "stderr",
     "output_type": "stream",
     "text": [
      "Default metric period is 5 because NDCG\n",
      " is/are not implemented for GPU\n",
      "\n",
      "Metric NDCG:type=Base is not implemented on GPU. Will use CPU for metric computation, this could significantly affect learning time\n",
      "\n",
      "Metric NDCG:top=10;type=Exp is not implemented on GPU. Will use CPU for metric computation, this could significantly affect learning time\n",
      "\n"
     ]
    },
    {
     "name": "stdout",
     "output_type": "stream",
     "text": [
      "0:\ttest: 0.3599666\tbest: 0.3599666 (0)\ttotal: 103ms\tremaining: 2m 3s             \n",
      "\n",
      "200:\ttest: 0.4916213\tbest: 0.4916213 (200)\ttotal: 8.66s\tremaining: 43s           \n",
      "\n",
      "400:\ttest: 0.5030269\tbest: 0.5030404 (390)\ttotal: 16.6s\tremaining: 33s           \n",
      "\n",
      "600:\ttest: 0.5081591\tbest: 0.5081591 (600)\ttotal: 24.9s\tremaining: 24.8s         \n",
      "\n",
      "800:\ttest: 0.5103543\tbest: 0.5104924 (760)\ttotal: 32.1s\tremaining: 16s           \n",
      "\n",
      "1000:\ttest: 0.5116764\tbest: 0.5116764 (1000)\ttotal: 40s\tremaining: 7.94s         \n",
      "\n",
      "1199:\ttest: 0.5133207\tbest: 0.5136164 (1170)\ttotal: 47s\tremaining: 0us           \n",
      "\n",
      "bestTest = 0.5136163809                                                          \n",
      "\n",
      "bestIteration = 1170                                                             \n",
      "\n",
      "Shrink model to first 1171 iterations.                                           \n",
      " 47%|████▋     | 35/75 [27:05<35:33, 53.34s/trial, best loss: 0.4846709458639874]"
     ]
    },
    {
     "name": "stderr",
     "output_type": "stream",
     "text": [
      "Default metric period is 5 because NDCG\n",
      " is/are not implemented for GPU\n",
      "\n",
      "Metric NDCG:type=Base is not implemented on GPU. Will use CPU for metric computation, this could significantly affect learning time\n",
      "\n",
      "Metric NDCG:top=10;type=Exp is not implemented on GPU. Will use CPU for metric computation, this could significantly affect learning time\n",
      "\n"
     ]
    },
    {
     "name": "stdout",
     "output_type": "stream",
     "text": [
      "0:\ttest: 0.3582416\tbest: 0.3582416 (0)\ttotal: 87.9ms\tremaining: 1m 45s           \n",
      "\n",
      "200:\ttest: 0.4763955\tbest: 0.4763955 (200)\ttotal: 7.61s\tremaining: 37.8s         \n",
      "\n",
      "400:\ttest: 0.4855501\tbest: 0.4855865 (395)\ttotal: 15.2s\tremaining: 30.3s         \n",
      "\n",
      "600:\ttest: 0.4931295\tbest: 0.4931295 (600)\ttotal: 22.5s\tremaining: 22.5s         \n",
      "\n",
      "800:\ttest: 0.4977137\tbest: 0.4979061 (790)\ttotal: 30.7s\tremaining: 15.3s         \n",
      "\n",
      "1000:\ttest: 0.5016241\tbest: 0.5016241 (1000)\ttotal: 39.2s\tremaining: 7.79s       \n",
      "\n",
      "1199:\ttest: 0.5039907\tbest: 0.5039907 (1199)\ttotal: 47.5s\tremaining: 0us         \n",
      "\n",
      "bestTest = 0.5039907098                                                          \n",
      "\n",
      "bestIteration = 1199                                                             \n",
      "\n",
      " 48%|████▊     | 36/75 [28:01<35:05, 53.98s/trial, best loss: 0.4846709458639874]"
     ]
    },
    {
     "name": "stderr",
     "output_type": "stream",
     "text": [
      "Default metric period is 5 because NDCG\n",
      " is/are not implemented for GPU\n",
      "\n",
      "Metric NDCG:type=Base is not implemented on GPU. Will use CPU for metric computation, this could significantly affect learning time\n",
      "\n",
      "Metric NDCG:top=10;type=Exp is not implemented on GPU. Will use CPU for metric computation, this could significantly affect learning time\n",
      "\n"
     ]
    },
    {
     "name": "stdout",
     "output_type": "stream",
     "text": [
      "0:\ttest: 0.3722258\tbest: 0.3722258 (0)\ttotal: 90.8ms\tremaining: 1m 48s           \n",
      "\n",
      "200:\ttest: 0.4592428\tbest: 0.4592428 (200)\ttotal: 8.68s\tremaining: 43.1s         \n",
      "\n",
      "400:\ttest: 0.4612453\tbest: 0.4613411 (355)\ttotal: 17.4s\tremaining: 34.7s         \n",
      "\n",
      "600:\ttest: 0.4648249\tbest: 0.4648249 (600)\ttotal: 25.1s\tremaining: 25s           \n",
      "\n",
      "800:\ttest: 0.4663360\tbest: 0.4663360 (800)\ttotal: 32.6s\tremaining: 16.2s         \n",
      "\n",
      "1000:\ttest: 0.4687187\tbest: 0.4687187 (1000)\ttotal: 40.9s\tremaining: 8.13s       \n",
      "\n",
      "1199:\ttest: 0.4700308\tbest: 0.4700522 (1180)\ttotal: 48.7s\tremaining: 0us         \n",
      "\n",
      "bestTest = 0.4700521914                                                          \n",
      "\n",
      "bestIteration = 1180                                                             \n",
      "\n",
      "Shrink model to first 1181 iterations.                                           \n",
      " 49%|████▉     | 37/75 [28:58<34:44, 54.87s/trial, best loss: 0.4846709458639874]"
     ]
    },
    {
     "name": "stderr",
     "output_type": "stream",
     "text": [
      "Default metric period is 5 because NDCG\n",
      " is/are not implemented for GPU\n",
      "\n",
      "Metric NDCG:type=Base is not implemented on GPU. Will use CPU for metric computation, this could significantly affect learning time\n",
      "\n",
      "Metric NDCG:top=10;type=Exp is not implemented on GPU. Will use CPU for metric computation, this could significantly affect learning time\n",
      "\n"
     ]
    },
    {
     "name": "stdout",
     "output_type": "stream",
     "text": [
      "0:\ttest: 0.3545215\tbest: 0.3545215 (0)\ttotal: 83.4ms\tremaining: 1m 40s           \n",
      "\n",
      "200:\ttest: 0.4567093\tbest: 0.4569660 (195)\ttotal: 7.24s\tremaining: 36s           \n",
      "\n",
      "400:\ttest: 0.4624434\tbest: 0.4624434 (400)\ttotal: 14.3s\tremaining: 28.5s         \n",
      "\n",
      "600:\ttest: 0.4657045\tbest: 0.4658024 (595)\ttotal: 21.3s\tremaining: 21.2s         \n",
      "\n",
      "800:\ttest: 0.4683099\tbest: 0.4683099 (800)\ttotal: 28.5s\tremaining: 14.2s         \n",
      "\n",
      "1000:\ttest: 0.4700918\tbest: 0.4701942 (990)\ttotal: 35.1s\tremaining: 6.97s        \n",
      "\n",
      "1199:\ttest: 0.4723944\tbest: 0.4725885 (1180)\ttotal: 41.2s\tremaining: 0us         \n",
      "\n",
      "bestTest = 0.4725885358                                                          \n",
      "\n",
      "bestIteration = 1180                                                             \n",
      "\n",
      "Shrink model to first 1181 iterations.                                           \n",
      " 51%|█████     | 38/75 [29:46<32:36, 52.89s/trial, best loss: 0.4846709458639874]"
     ]
    },
    {
     "name": "stderr",
     "output_type": "stream",
     "text": [
      "Default metric period is 5 because NDCG\n",
      " is/are not implemented for GPU\n",
      "\n",
      "Metric NDCG:type=Base is not implemented on GPU. Will use CPU for metric computation, this could significantly affect learning time\n",
      "\n",
      "Metric NDCG:top=10;type=Exp is not implemented on GPU. Will use CPU for metric computation, this could significantly affect learning time\n",
      "\n"
     ]
    },
    {
     "name": "stdout",
     "output_type": "stream",
     "text": [
      "0:\ttest: 0.3609311\tbest: 0.3609311 (0)\ttotal: 95.8ms\tremaining: 1m 54s           \n",
      "\n",
      "200:\ttest: 0.4729250\tbest: 0.4729250 (200)\ttotal: 8.96s\tremaining: 44.6s         \n",
      "\n",
      "400:\ttest: 0.4803560\tbest: 0.4803560 (400)\ttotal: 17s\tremaining: 34s             \n",
      "\n",
      "600:\ttest: 0.4868300\tbest: 0.4868300 (600)\ttotal: 25.3s\tremaining: 25.2s         \n",
      "\n",
      "800:\ttest: 0.4906259\tbest: 0.4906259 (800)\ttotal: 33.7s\tremaining: 16.8s         \n",
      "\n",
      "1000:\ttest: 0.4947010\tbest: 0.4947010 (1000)\ttotal: 42.1s\tremaining: 8.37s       \n",
      "\n",
      "1199:\ttest: 0.4984303\tbest: 0.4984303 (1199)\ttotal: 50s\tremaining: 0us           \n",
      "\n",
      "bestTest = 0.4984302778                                                          \n",
      "\n",
      "bestIteration = 1199                                                             \n",
      "\n",
      " 52%|█████▏    | 39/75 [30:44<32:40, 54.45s/trial, best loss: 0.4846709458639874]"
     ]
    },
    {
     "name": "stderr",
     "output_type": "stream",
     "text": [
      "Default metric period is 5 because NDCG\n",
      " is/are not implemented for GPU\n",
      "\n",
      "Metric NDCG:type=Base is not implemented on GPU. Will use CPU for metric computation, this could significantly affect learning time\n",
      "\n",
      "Metric NDCG:top=10;type=Exp is not implemented on GPU. Will use CPU for metric computation, this could significantly affect learning time\n",
      "\n"
     ]
    },
    {
     "name": "stdout",
     "output_type": "stream",
     "text": [
      "0:\ttest: 0.2927146\tbest: 0.2927146 (0)\ttotal: 56.4ms\tremaining: 1m 7s            \n",
      "\n",
      "200:\ttest: 0.4513210\tbest: 0.4513210 (200)\ttotal: 4.91s\tremaining: 24.4s         \n",
      "\n",
      "400:\ttest: 0.4691192\tbest: 0.4691192 (400)\ttotal: 9.66s\tremaining: 19.3s         \n",
      "\n",
      "600:\ttest: 0.4797153\tbest: 0.4797153 (600)\ttotal: 14.6s\tremaining: 14.6s         \n",
      "\n",
      "800:\ttest: 0.4852728\tbest: 0.4852908 (790)\ttotal: 19.3s\tremaining: 9.61s         \n",
      "\n",
      "1000:\ttest: 0.4898314\tbest: 0.4898314 (1000)\ttotal: 24.1s\tremaining: 4.78s       \n",
      "\n",
      "1199:\ttest: 0.4928088\tbest: 0.4929245 (1195)\ttotal: 28.6s\tremaining: 0us         \n",
      "\n",
      "bestTest = 0.4929245146                                                          \n",
      "\n",
      "bestIteration = 1195                                                             \n",
      "\n",
      "Shrink model to first 1196 iterations.                                           \n",
      " 53%|█████▎    | 40/75 [31:18<28:10, 48.29s/trial, best loss: 0.4846709458639874]"
     ]
    },
    {
     "name": "stderr",
     "output_type": "stream",
     "text": [
      "Default metric period is 5 because NDCG\n",
      " is/are not implemented for GPU\n",
      "\n",
      "Metric NDCG:type=Base is not implemented on GPU. Will use CPU for metric computation, this could significantly affect learning time\n",
      "\n",
      "Metric NDCG:top=10;type=Exp is not implemented on GPU. Will use CPU for metric computation, this could significantly affect learning time\n",
      "\n"
     ]
    },
    {
     "name": "stdout",
     "output_type": "stream",
     "text": [
      "0:\ttest: 0.3647844\tbest: 0.3647844 (0)\ttotal: 101ms\tremaining: 2m 1s             \n",
      "\n",
      "200:\ttest: 0.4662767\tbest: 0.4662932 (195)\ttotal: 8.85s\tremaining: 44s           \n",
      "\n",
      "400:\ttest: 0.4721910\tbest: 0.4723232 (385)\ttotal: 17.6s\tremaining: 35s           \n",
      "\n",
      "600:\ttest: 0.4768758\tbest: 0.4768758 (600)\ttotal: 24.9s\tremaining: 24.9s         \n",
      "\n",
      "800:\ttest: 0.4811393\tbest: 0.4811403 (790)\ttotal: 32.9s\tremaining: 16.4s         \n",
      "\n",
      "1000:\ttest: 0.4837701\tbest: 0.4838794 (995)\ttotal: 40.9s\tremaining: 8.13s        \n",
      "\n",
      "1199:\ttest: 0.4866871\tbest: 0.4866871 (1199)\ttotal: 49.3s\tremaining: 0us         \n",
      "\n",
      "bestTest = 0.4866870827                                                          \n",
      "\n",
      "bestIteration = 1199                                                             \n",
      "\n",
      " 55%|█████▍    | 41/75 [32:15<28:56, 51.06s/trial, best loss: 0.4846709458639874]"
     ]
    },
    {
     "name": "stderr",
     "output_type": "stream",
     "text": [
      "Default metric period is 5 because NDCG\n",
      " is/are not implemented for GPU\n",
      "\n",
      "Metric NDCG:type=Base is not implemented on GPU. Will use CPU for metric computation, this could significantly affect learning time\n",
      "\n",
      "Metric NDCG:top=10;type=Exp is not implemented on GPU. Will use CPU for metric computation, this could significantly affect learning time\n",
      "\n"
     ]
    },
    {
     "name": "stdout",
     "output_type": "stream",
     "text": [
      "0:\ttest: 0.3647073\tbest: 0.3647073 (0)\ttotal: 98.8ms\tremaining: 1m 58s           \n",
      "\n",
      "200:\ttest: 0.4890183\tbest: 0.4890183 (200)\ttotal: 8.65s\tremaining: 43s           \n",
      "\n",
      "400:\ttest: 0.4990809\tbest: 0.4990809 (400)\ttotal: 17.1s\tremaining: 34s           \n",
      "\n",
      "600:\ttest: 0.5057566\tbest: 0.5057566 (600)\ttotal: 25.3s\tremaining: 25.2s         \n",
      "\n",
      "800:\ttest: 0.5087479\tbest: 0.5089517 (795)\ttotal: 32.3s\tremaining: 16.1s         \n",
      "\n",
      "1000:\ttest: 0.5102992\tbest: 0.5105536 (980)\ttotal: 39.4s\tremaining: 7.83s        \n",
      "\n",
      "1199:\ttest: 0.5111092\tbest: 0.5115304 (1150)\ttotal: 47.3s\tremaining: 0us         \n",
      "\n",
      "bestTest = 0.5115304048                                                          \n",
      "\n",
      "bestIteration = 1150                                                             \n",
      "\n",
      "Shrink model to first 1151 iterations.                                           \n",
      " 56%|█████▌    | 42/75 [33:11<28:51, 52.46s/trial, best loss: 0.4846709458639874]"
     ]
    },
    {
     "name": "stderr",
     "output_type": "stream",
     "text": [
      "Default metric period is 5 because NDCG\n",
      " is/are not implemented for GPU\n",
      "\n",
      "Metric NDCG:type=Base is not implemented on GPU. Will use CPU for metric computation, this could significantly affect learning time\n",
      "\n",
      "Metric NDCG:top=10;type=Exp is not implemented on GPU. Will use CPU for metric computation, this could significantly affect learning time\n",
      "\n"
     ]
    },
    {
     "name": "stdout",
     "output_type": "stream",
     "text": [
      "0:\ttest: 0.3603640\tbest: 0.3603640 (0)\ttotal: 76.7ms\tremaining: 1m 31s           \n",
      "\n",
      "200:\ttest: 0.4646804\tbest: 0.4647411 (195)\ttotal: 7.1s\tremaining: 35.3s          \n",
      "\n",
      "400:\ttest: 0.4726244\tbest: 0.4726244 (400)\ttotal: 14.2s\tremaining: 28.2s         \n",
      "\n",
      "600:\ttest: 0.4786113\tbest: 0.4786113 (600)\ttotal: 21.2s\tremaining: 21.2s         \n",
      "\n",
      "800:\ttest: 0.4846711\tbest: 0.4846711 (800)\ttotal: 28.3s\tremaining: 14.1s         \n",
      "\n",
      "1000:\ttest: 0.4875162\tbest: 0.4875379 (990)\ttotal: 34.8s\tremaining: 6.92s        \n",
      "\n",
      "1199:\ttest: 0.4910920\tbest: 0.4910920 (1199)\ttotal: 41.1s\tremaining: 0us         \n",
      "\n",
      "bestTest = 0.4910919574                                                          \n",
      "\n",
      "bestIteration = 1199                                                             \n",
      "\n",
      " 57%|█████▋    | 43/75 [33:59<27:17, 51.16s/trial, best loss: 0.4846709458639874]"
     ]
    },
    {
     "name": "stderr",
     "output_type": "stream",
     "text": [
      "Default metric period is 5 because NDCG\n",
      " is/are not implemented for GPU\n",
      "\n",
      "Metric NDCG:type=Base is not implemented on GPU. Will use CPU for metric computation, this could significantly affect learning time\n",
      "\n",
      "Metric NDCG:top=10;type=Exp is not implemented on GPU. Will use CPU for metric computation, this could significantly affect learning time\n",
      "\n"
     ]
    },
    {
     "name": "stdout",
     "output_type": "stream",
     "text": [
      "0:\ttest: 0.3657551\tbest: 0.3657551 (0)\ttotal: 108ms\tremaining: 2m 10s            \n",
      "\n",
      "200:\ttest: 0.4592997\tbest: 0.4595544 (155)\ttotal: 11.1s\tremaining: 55.3s         \n",
      "\n",
      "400:\ttest: 0.4591618\tbest: 0.4600120 (250)\ttotal: 20.8s\tremaining: 41.4s         \n",
      "\n",
      "600:\ttest: 0.4595574\tbest: 0.4600120 (250)\ttotal: 30.9s\tremaining: 30.8s         \n",
      "\n",
      "800:\ttest: 0.4598094\tbest: 0.4600120 (250)\ttotal: 41.7s\tremaining: 20.8s         \n",
      "\n",
      "1000:\ttest: 0.4601758\tbest: 0.4603216 (975)\ttotal: 52s\tremaining: 10.3s          \n",
      "\n",
      "1199:\ttest: 0.4605595\tbest: 0.4609565 (1095)\ttotal: 1m 2s\tremaining: 0us         \n",
      "\n",
      "bestTest = 0.4609565114                                                          \n",
      "\n",
      "bestIteration = 1095                                                             \n",
      "\n",
      "Shrink model to first 1096 iterations.                                           \n",
      " 59%|█████▊    | 44/75 [35:11<29:35, 57.28s/trial, best loss: 0.4846709458639874]"
     ]
    },
    {
     "name": "stderr",
     "output_type": "stream",
     "text": [
      "Default metric period is 5 because NDCG\n",
      " is/are not implemented for GPU\n",
      "\n",
      "Metric NDCG:type=Base is not implemented on GPU. Will use CPU for metric computation, this could significantly affect learning time\n",
      "\n",
      "Metric NDCG:top=10;type=Exp is not implemented on GPU. Will use CPU for metric computation, this could significantly affect learning time\n",
      "\n"
     ]
    },
    {
     "name": "stdout",
     "output_type": "stream",
     "text": [
      "0:\ttest: 0.2917868\tbest: 0.2917868 (0)\ttotal: 62ms\tremaining: 1m 14s             \n",
      "\n",
      "200:\ttest: 0.4450714\tbest: 0.4450714 (200)\ttotal: 4.82s\tremaining: 24s           \n",
      "\n",
      "400:\ttest: 0.4574854\tbest: 0.4574854 (400)\ttotal: 9s\tremaining: 17.9s            \n",
      "\n",
      "600:\ttest: 0.4676377\tbest: 0.4676377 (600)\ttotal: 13.7s\tremaining: 13.6s         \n",
      "\n",
      "800:\ttest: 0.4758166\tbest: 0.4758166 (800)\ttotal: 18.4s\tremaining: 9.19s         \n",
      "\n",
      "1000:\ttest: 0.4813281\tbest: 0.4813281 (1000)\ttotal: 22.8s\tremaining: 4.53s       \n",
      "\n",
      "1199:\ttest: 0.4849135\tbest: 0.4849135 (1199)\ttotal: 27.3s\tremaining: 0us         \n",
      "\n",
      "bestTest = 0.4849134662                                                          \n",
      "\n",
      "bestIteration = 1199                                                             \n",
      "\n",
      " 60%|██████    | 45/75 [35:44<24:58, 49.94s/trial, best loss: 0.4846709458639874]"
     ]
    },
    {
     "name": "stderr",
     "output_type": "stream",
     "text": [
      "Default metric period is 5 because NDCG\n",
      " is/are not implemented for GPU\n",
      "\n",
      "Metric NDCG:type=Base is not implemented on GPU. Will use CPU for metric computation, this could significantly affect learning time\n",
      "\n",
      "Metric NDCG:top=10;type=Exp is not implemented on GPU. Will use CPU for metric computation, this could significantly affect learning time\n",
      "\n"
     ]
    },
    {
     "name": "stdout",
     "output_type": "stream",
     "text": [
      "0:\ttest: 0.3663518\tbest: 0.3663518 (0)\ttotal: 99.5ms\tremaining: 1m 59s           \n",
      "\n",
      "200:\ttest: 0.4935581\tbest: 0.4935581 (200)\ttotal: 8.84s\tremaining: 43.9s         \n",
      "\n",
      "400:\ttest: 0.5044064\tbest: 0.5044064 (400)\ttotal: 16.7s\tremaining: 33.4s         \n",
      "\n",
      "600:\ttest: 0.5101219\tbest: 0.5101219 (600)\ttotal: 24s\tremaining: 23.9s           \n",
      "\n",
      "800:\ttest: 0.5120306\tbest: 0.5120306 (800)\ttotal: 31.9s\tremaining: 15.9s         \n",
      "\n",
      "1000:\ttest: 0.5132732\tbest: 0.5133684 (995)\ttotal: 39.4s\tremaining: 7.84s        \n",
      "\n",
      "1199:\ttest: 0.5141011\tbest: 0.5141011 (1199)\ttotal: 46.4s\tremaining: 0us         \n",
      "\n",
      "bestTest = 0.5141011263                                                          \n",
      "\n",
      "bestIteration = 1199                                                             \n",
      "\n",
      " 61%|██████▏   | 46/75 [36:38<24:46, 51.24s/trial, best loss: 0.4846709458639874]"
     ]
    },
    {
     "name": "stderr",
     "output_type": "stream",
     "text": [
      "Default metric period is 5 because NDCG\n",
      " is/are not implemented for GPU\n",
      "\n",
      "Metric NDCG:type=Base is not implemented on GPU. Will use CPU for metric computation, this could significantly affect learning time\n",
      "\n",
      "Metric NDCG:top=10;type=Exp is not implemented on GPU. Will use CPU for metric computation, this could significantly affect learning time\n",
      "\n"
     ]
    },
    {
     "name": "stdout",
     "output_type": "stream",
     "text": [
      "0:\ttest: 0.3725398\tbest: 0.3725398 (0)\ttotal: 97.4ms\tremaining: 1m 56s           \n",
      "\n",
      "200:\ttest: 0.4743479\tbest: 0.4743479 (200)\ttotal: 8.36s\tremaining: 41.6s         \n",
      "\n",
      "400:\ttest: 0.4819353\tbest: 0.4819353 (400)\ttotal: 16s\tremaining: 31.8s           \n",
      "\n",
      "600:\ttest: 0.4881167\tbest: 0.4881167 (600)\ttotal: 23.4s\tremaining: 23.3s         \n",
      "\n",
      "800:\ttest: 0.4929683\tbest: 0.4929782 (795)\ttotal: 31.1s\tremaining: 15.5s         \n",
      "\n",
      "1000:\ttest: 0.4968665\tbest: 0.4968665 (1000)\ttotal: 39.6s\tremaining: 7.88s       \n",
      "\n",
      "1199:\ttest: 0.5004583\tbest: 0.5004583 (1199)\ttotal: 47.7s\tremaining: 0us         \n",
      "\n",
      "bestTest = 0.5004583497                                                          \n",
      "\n",
      "bestIteration = 1199                                                             \n",
      "\n",
      " 63%|██████▎   | 47/75 [37:34<24:32, 52.59s/trial, best loss: 0.4846709458639874]"
     ]
    },
    {
     "name": "stderr",
     "output_type": "stream",
     "text": [
      "Default metric period is 5 because NDCG\n",
      " is/are not implemented for GPU\n",
      "\n",
      "Metric NDCG:type=Base is not implemented on GPU. Will use CPU for metric computation, this could significantly affect learning time\n",
      "\n",
      "Metric NDCG:top=10;type=Exp is not implemented on GPU. Will use CPU for metric computation, this could significantly affect learning time\n",
      "\n"
     ]
    },
    {
     "name": "stdout",
     "output_type": "stream",
     "text": [
      "0:\ttest: 0.3754761\tbest: 0.3754761 (0)\ttotal: 109ms\tremaining: 2m 10s            \n",
      "\n",
      "200:\ttest: 0.4835672\tbest: 0.4835672 (200)\ttotal: 9.96s\tremaining: 49.5s         \n",
      "\n",
      "400:\ttest: 0.4937054\tbest: 0.4938696 (395)\ttotal: 19.8s\tremaining: 39.4s         \n",
      "\n",
      "600:\ttest: 0.5006490\tbest: 0.5006490 (600)\ttotal: 29.6s\tremaining: 29.5s         \n",
      "\n",
      "800:\ttest: 0.5055628\tbest: 0.5055628 (800)\ttotal: 39.3s\tremaining: 19.6s         \n",
      "\n",
      "1000:\ttest: 0.5074067\tbest: 0.5075447 (965)\ttotal: 49.4s\tremaining: 9.83s        \n",
      "\n",
      "1199:\ttest: 0.5093283\tbest: 0.5095083 (1170)\ttotal: 59.4s\tremaining: 0us         \n",
      "\n",
      "bestTest = 0.5095083103                                                          \n",
      "\n",
      "bestIteration = 1170                                                             \n",
      "\n",
      "Shrink model to first 1171 iterations.                                           \n",
      " 64%|██████▍   | 48/75 [38:42<25:50, 57.41s/trial, best loss: 0.4846709458639874]"
     ]
    },
    {
     "name": "stderr",
     "output_type": "stream",
     "text": [
      "Default metric period is 5 because NDCG\n",
      " is/are not implemented for GPU\n",
      "\n",
      "Metric NDCG:type=Base is not implemented on GPU. Will use CPU for metric computation, this could significantly affect learning time\n",
      "\n",
      "Metric NDCG:top=10;type=Exp is not implemented on GPU. Will use CPU for metric computation, this could significantly affect learning time\n",
      "\n"
     ]
    },
    {
     "name": "stdout",
     "output_type": "stream",
     "text": [
      "0:\ttest: 0.3236559\tbest: 0.3236559 (0)\ttotal: 68.5ms\tremaining: 1m 22s           \n",
      "\n",
      "200:\ttest: 0.4428699\tbest: 0.4428699 (200)\ttotal: 5.44s\tremaining: 27s           \n",
      "\n",
      "400:\ttest: 0.4474920\tbest: 0.4474920 (400)\ttotal: 10.7s\tremaining: 21.3s         \n",
      "\n",
      "600:\ttest: 0.4498027\tbest: 0.4498027 (600)\ttotal: 16.1s\tremaining: 16.1s         \n",
      "\n",
      "800:\ttest: 0.4518419\tbest: 0.4519829 (795)\ttotal: 20.7s\tremaining: 10.3s         \n",
      "\n",
      "1000:\ttest: 0.4539500\tbest: 0.4541301 (995)\ttotal: 25.6s\tremaining: 5.08s        \n",
      "\n",
      "1199:\ttest: 0.4570276\tbest: 0.4570276 (1199)\ttotal: 30.9s\tremaining: 0us         \n",
      "\n",
      "bestTest = 0.4570276483                                                          \n",
      "\n",
      "bestIteration = 1199                                                             \n",
      "\n",
      " 65%|██████▌   | 49/75 [39:19<22:10, 51.19s/trial, best loss: 0.4846709458639874]"
     ]
    },
    {
     "name": "stderr",
     "output_type": "stream",
     "text": [
      "Default metric period is 5 because NDCG\n",
      " is/are not implemented for GPU\n",
      "\n",
      "Metric NDCG:type=Base is not implemented on GPU. Will use CPU for metric computation, this could significantly affect learning time\n",
      "\n",
      "Metric NDCG:top=10;type=Exp is not implemented on GPU. Will use CPU for metric computation, this could significantly affect learning time\n",
      "\n"
     ]
    },
    {
     "name": "stdout",
     "output_type": "stream",
     "text": [
      "0:\ttest: 0.3605759\tbest: 0.3605759 (0)\ttotal: 83.8ms\tremaining: 1m 40s           \n",
      "\n",
      "200:\ttest: 0.4550190\tbest: 0.4550190 (200)\ttotal: 7.37s\tremaining: 36.6s         \n",
      "\n",
      "400:\ttest: 0.4582570\tbest: 0.4582570 (400)\ttotal: 13.8s\tremaining: 27.6s         \n",
      "\n",
      "600:\ttest: 0.4604573\tbest: 0.4604909 (595)\ttotal: 20.3s\tremaining: 20.2s         \n",
      "\n",
      "800:\ttest: 0.4619755\tbest: 0.4620802 (795)\ttotal: 26.4s\tremaining: 13.1s         \n",
      "\n",
      "1000:\ttest: 0.4639006\tbest: 0.4639006 (1000)\ttotal: 33.6s\tremaining: 6.68s       \n",
      "\n",
      "1199:\ttest: 0.4652370\tbest: 0.4653685 (1190)\ttotal: 39.8s\tremaining: 0us         \n",
      "\n",
      "bestTest = 0.4653685289                                                          \n",
      "\n",
      "bestIteration = 1190                                                             \n",
      "\n",
      "Shrink model to first 1191 iterations.                                           \n",
      " 67%|██████▋   | 50/75 [40:06<20:48, 49.95s/trial, best loss: 0.4846709458639874]"
     ]
    },
    {
     "name": "stderr",
     "output_type": "stream",
     "text": [
      "Default metric period is 5 because NDCG\n",
      " is/are not implemented for GPU\n",
      "\n",
      "Metric NDCG:type=Base is not implemented on GPU. Will use CPU for metric computation, this could significantly affect learning time\n",
      "\n",
      "Metric NDCG:top=10;type=Exp is not implemented on GPU. Will use CPU for metric computation, this could significantly affect learning time\n",
      "\n"
     ]
    },
    {
     "name": "stdout",
     "output_type": "stream",
     "text": [
      "0:\ttest: 0.3693422\tbest: 0.3693422 (0)\ttotal: 98.6ms\tremaining: 1m 58s           \n",
      "\n",
      "200:\ttest: 0.4637867\tbest: 0.4641107 (190)\ttotal: 8.46s\tremaining: 42.1s         \n",
      "\n",
      "400:\ttest: 0.4681478\tbest: 0.4684077 (395)\ttotal: 17.1s\tremaining: 34s           \n",
      "\n",
      "600:\ttest: 0.4716965\tbest: 0.4719185 (595)\ttotal: 25.8s\tremaining: 25.7s         \n",
      "\n",
      "800:\ttest: 0.4742932\tbest: 0.4742932 (800)\ttotal: 34.5s\tremaining: 17.2s         \n",
      "\n",
      "1000:\ttest: 0.4775427\tbest: 0.4775427 (1000)\ttotal: 42.6s\tremaining: 8.47s       \n",
      "\n",
      "1199:\ttest: 0.4799385\tbest: 0.4799385 (1199)\ttotal: 50.3s\tremaining: 0us         \n",
      "\n",
      "bestTest = 0.4799385093                                                          \n",
      "\n",
      "bestIteration = 1199                                                             \n",
      "\n",
      " 68%|██████▊   | 51/75 [41:04<20:58, 52.45s/trial, best loss: 0.4846709458639874]"
     ]
    },
    {
     "name": "stderr",
     "output_type": "stream",
     "text": [
      "Default metric period is 5 because NDCG\n",
      " is/are not implemented for GPU\n",
      "\n",
      "Metric NDCG:type=Base is not implemented on GPU. Will use CPU for metric computation, this could significantly affect learning time\n",
      "\n",
      "Metric NDCG:top=10;type=Exp is not implemented on GPU. Will use CPU for metric computation, this could significantly affect learning time\n",
      "\n"
     ]
    },
    {
     "name": "stdout",
     "output_type": "stream",
     "text": [
      "0:\ttest: 0.2974996\tbest: 0.2974996 (0)\ttotal: 62ms\tremaining: 1m 14s             \n",
      "\n",
      "200:\ttest: 0.4258328\tbest: 0.4258328 (200)\ttotal: 5.02s\tremaining: 25s           \n",
      "\n",
      "400:\ttest: 0.4280007\tbest: 0.4282071 (360)\ttotal: 9.81s\tremaining: 19.6s         \n",
      "\n",
      "600:\ttest: 0.4286998\tbest: 0.4290157 (545)\ttotal: 14.2s\tremaining: 14.2s         \n",
      "\n",
      "800:\ttest: 0.4294918\tbest: 0.4297737 (750)\ttotal: 19.1s\tremaining: 9.51s         \n",
      "\n",
      "1000:\ttest: 0.4298136\tbest: 0.4301896 (940)\ttotal: 23.7s\tremaining: 4.71s        \n",
      "\n",
      "1199:\ttest: 0.4309818\tbest: 0.4309818 (1199)\ttotal: 28.5s\tremaining: 0us         \n",
      "\n",
      "bestTest = 0.4309818331                                                          \n",
      "\n",
      "bestIteration = 1199                                                             \n",
      "\n",
      " 69%|██████▉   | 52/75 [41:39<18:00, 46.97s/trial, best loss: 0.4846709458639874]"
     ]
    },
    {
     "name": "stderr",
     "output_type": "stream",
     "text": [
      "Default metric period is 5 because NDCG\n",
      " is/are not implemented for GPU\n",
      "\n",
      "Metric NDCG:type=Base is not implemented on GPU. Will use CPU for metric computation, this could significantly affect learning time\n",
      "\n",
      "Metric NDCG:top=10;type=Exp is not implemented on GPU. Will use CPU for metric computation, this could significantly affect learning time\n",
      "\n"
     ]
    },
    {
     "name": "stdout",
     "output_type": "stream",
     "text": [
      "0:\ttest: 0.3172528\tbest: 0.3172528 (0)\ttotal: 59.6ms\tremaining: 1m 11s           \n",
      "\n",
      "200:\ttest: 0.4651833\tbest: 0.4651833 (200)\ttotal: 5.36s\tremaining: 26.6s         \n",
      "\n",
      "400:\ttest: 0.4816461\tbest: 0.4816461 (400)\ttotal: 10.6s\tremaining: 21.2s         \n",
      "\n",
      "600:\ttest: 0.4908487\tbest: 0.4908487 (600)\ttotal: 15.7s\tremaining: 15.6s         \n",
      "\n",
      "800:\ttest: 0.4962780\tbest: 0.4962780 (800)\ttotal: 20.7s\tremaining: 10.3s         \n",
      "\n",
      "1000:\ttest: 0.4996186\tbest: 0.4996186 (1000)\ttotal: 25.8s\tremaining: 5.12s       \n",
      "\n",
      "1199:\ttest: 0.5011491\tbest: 0.5011491 (1199)\ttotal: 31.2s\tremaining: 0us         \n",
      "\n",
      "bestTest = 0.5011490722                                                          \n",
      "\n",
      "bestIteration = 1199                                                             \n",
      "\n",
      " 71%|███████   | 53/75 [42:16<16:09, 44.05s/trial, best loss: 0.4846709458639874]"
     ]
    },
    {
     "name": "stderr",
     "output_type": "stream",
     "text": [
      "Default metric period is 5 because NDCG\n",
      " is/are not implemented for GPU\n",
      "\n",
      "Metric NDCG:type=Base is not implemented on GPU. Will use CPU for metric computation, this could significantly affect learning time\n",
      "\n",
      "Metric NDCG:top=10;type=Exp is not implemented on GPU. Will use CPU for metric computation, this could significantly affect learning time\n",
      "\n"
     ]
    },
    {
     "name": "stdout",
     "output_type": "stream",
     "text": [
      "0:\ttest: 0.3746272\tbest: 0.3746272 (0)\ttotal: 122ms\tremaining: 2m 26s            \n",
      "\n",
      "200:\ttest: 0.4617184\tbest: 0.4619407 (130)\ttotal: 10.9s\tremaining: 54.3s         \n",
      "\n",
      "400:\ttest: 0.4623628\tbest: 0.4625633 (345)\ttotal: 20.6s\tremaining: 41s           \n",
      "\n",
      "600:\ttest: 0.4626089\tbest: 0.4628614 (590)\ttotal: 31.2s\tremaining: 31.1s         \n",
      "\n",
      "800:\ttest: 0.4627299\tbest: 0.4630000 (610)\ttotal: 41.4s\tremaining: 20.6s         \n",
      "\n",
      "1000:\ttest: 0.4630402\tbest: 0.4632483 (895)\ttotal: 51.8s\tremaining: 10.3s        \n",
      "\n",
      "1199:\ttest: 0.4637834\tbest: 0.4640788 (1115)\ttotal: 1m 2s\tremaining: 0us         \n",
      "\n",
      "bestTest = 0.4640787727                                                          \n",
      "\n",
      "bestIteration = 1115                                                             \n",
      "\n",
      "Shrink model to first 1116 iterations.                                           \n",
      " 72%|███████▏  | 54/75 [43:27<18:15, 52.19s/trial, best loss: 0.4846709458639874]"
     ]
    },
    {
     "name": "stderr",
     "output_type": "stream",
     "text": [
      "Default metric period is 5 because NDCG\n",
      " is/are not implemented for GPU\n",
      "\n",
      "Metric NDCG:type=Base is not implemented on GPU. Will use CPU for metric computation, this could significantly affect learning time\n",
      "\n",
      "Metric NDCG:top=10;type=Exp is not implemented on GPU. Will use CPU for metric computation, this could significantly affect learning time\n",
      "\n"
     ]
    },
    {
     "name": "stdout",
     "output_type": "stream",
     "text": [
      "0:\ttest: 0.3652179\tbest: 0.3652179 (0)\ttotal: 84ms\tremaining: 1m 40s             \n",
      "\n",
      "200:\ttest: 0.4763249\tbest: 0.4763249 (200)\ttotal: 7.56s\tremaining: 37.6s         \n",
      "\n",
      "400:\ttest: 0.4862079\tbest: 0.4862079 (400)\ttotal: 14.9s\tremaining: 29.6s         \n",
      "\n",
      "600:\ttest: 0.4934584\tbest: 0.4934584 (600)\ttotal: 22.9s\tremaining: 22.8s         \n",
      "\n",
      "800:\ttest: 0.4978328\tbest: 0.4978328 (800)\ttotal: 30.3s\tremaining: 15.1s         \n",
      "\n",
      "1000:\ttest: 0.5013443\tbest: 0.5013443 (1000)\ttotal: 38.7s\tremaining: 7.69s       \n",
      "\n",
      "1199:\ttest: 0.5038873\tbest: 0.5038873 (1199)\ttotal: 46.1s\tremaining: 0us         \n",
      "\n",
      "bestTest = 0.5038873055                                                          \n",
      "\n",
      "bestIteration = 1199                                                             \n",
      "\n",
      " 73%|███████▎  | 55/75 [44:21<17:35, 52.77s/trial, best loss: 0.4846709458639874]"
     ]
    },
    {
     "name": "stderr",
     "output_type": "stream",
     "text": [
      "Default metric period is 5 because NDCG\n",
      " is/are not implemented for GPU\n",
      "\n",
      "Metric NDCG:type=Base is not implemented on GPU. Will use CPU for metric computation, this could significantly affect learning time\n",
      "\n",
      "Metric NDCG:top=10;type=Exp is not implemented on GPU. Will use CPU for metric computation, this could significantly affect learning time\n",
      "\n"
     ]
    },
    {
     "name": "stdout",
     "output_type": "stream",
     "text": [
      "0:\ttest: 0.3518842\tbest: 0.3518842 (0)\ttotal: 75ms\tremaining: 1m 29s             \n",
      "\n",
      "200:\ttest: 0.4939014\tbest: 0.4939014 (200)\ttotal: 6.39s\tremaining: 31.8s         \n",
      "\n",
      "400:\ttest: 0.5050753\tbest: 0.5050753 (400)\ttotal: 13.1s\tremaining: 26.2s         \n",
      "\n",
      "600:\ttest: 0.5075036\tbest: 0.5078458 (585)\ttotal: 19.9s\tremaining: 19.8s         \n",
      "\n",
      "800:\ttest: 0.5092057\tbest: 0.5092347 (795)\ttotal: 26.6s\tremaining: 13.3s         \n",
      "\n",
      "1000:\ttest: 0.5114681\tbest: 0.5115335 (985)\ttotal: 33.3s\tremaining: 6.62s        \n",
      "\n",
      "1199:\ttest: 0.5124205\tbest: 0.5124205 (1199)\ttotal: 39.5s\tremaining: 0us         \n",
      "\n",
      "bestTest = 0.5124205161                                                          \n",
      "\n",
      "bestIteration = 1199                                                             \n",
      "\n",
      " 75%|███████▍  | 56/75 [45:08<16:07, 50.93s/trial, best loss: 0.4846709458639874]"
     ]
    },
    {
     "name": "stderr",
     "output_type": "stream",
     "text": [
      "Default metric period is 5 because NDCG\n",
      " is/are not implemented for GPU\n",
      "\n",
      "Metric NDCG:type=Base is not implemented on GPU. Will use CPU for metric computation, this could significantly affect learning time\n",
      "\n",
      "Metric NDCG:top=10;type=Exp is not implemented on GPU. Will use CPU for metric computation, this could significantly affect learning time\n",
      "\n"
     ]
    },
    {
     "name": "stdout",
     "output_type": "stream",
     "text": [
      "0:\ttest: 0.3601959\tbest: 0.3601959 (0)\ttotal: 89.3ms\tremaining: 1m 47s           \n",
      "\n",
      "200:\ttest: 0.4645274\tbest: 0.4649803 (195)\ttotal: 8.49s\tremaining: 42.2s         \n",
      "\n",
      "400:\ttest: 0.4698899\tbest: 0.4698899 (400)\ttotal: 16.6s\tremaining: 33s           \n",
      "\n",
      "600:\ttest: 0.4731923\tbest: 0.4734847 (580)\ttotal: 24.1s\tremaining: 24.1s         \n",
      "\n",
      "800:\ttest: 0.4768523\tbest: 0.4768523 (800)\ttotal: 31.8s\tremaining: 15.8s         \n",
      "\n",
      "1000:\ttest: 0.4798261\tbest: 0.4798261 (1000)\ttotal: 39.2s\tremaining: 7.79s       \n",
      "\n",
      "1199:\ttest: 0.4822848\tbest: 0.4822848 (1199)\ttotal: 47.1s\tremaining: 0us         \n",
      "\n",
      "bestTest = 0.4822847709                                                          \n",
      "\n",
      "bestIteration = 1199                                                             \n",
      "\n",
      " 76%|███████▌  | 57/75 [46:03<15:39, 52.20s/trial, best loss: 0.4846709458639874]"
     ]
    },
    {
     "name": "stderr",
     "output_type": "stream",
     "text": [
      "Default metric period is 5 because NDCG\n",
      " is/are not implemented for GPU\n",
      "\n",
      "Metric NDCG:type=Base is not implemented on GPU. Will use CPU for metric computation, this could significantly affect learning time\n",
      "\n",
      "Metric NDCG:top=10;type=Exp is not implemented on GPU. Will use CPU for metric computation, this could significantly affect learning time\n",
      "\n"
     ]
    },
    {
     "name": "stdout",
     "output_type": "stream",
     "text": [
      "0:\ttest: 0.3184715\tbest: 0.3184715 (0)\ttotal: 71.5ms\tremaining: 1m 25s           \n",
      "\n",
      "200:\ttest: 0.4735925\tbest: 0.4735925 (200)\ttotal: 5.34s\tremaining: 26.5s         \n",
      "\n",
      "400:\ttest: 0.4898095\tbest: 0.4898095 (400)\ttotal: 9.88s\tremaining: 19.7s         \n",
      "\n",
      "600:\ttest: 0.4964767\tbest: 0.4965421 (595)\ttotal: 14.4s\tremaining: 14.4s         \n",
      "\n",
      "800:\ttest: 0.5007190\tbest: 0.5007190 (800)\ttotal: 18.9s\tremaining: 9.41s         \n",
      "\n",
      "1000:\ttest: 0.5020766\tbest: 0.5020766 (1000)\ttotal: 24.1s\tremaining: 4.79s       \n",
      "\n",
      "1199:\ttest: 0.5040405\tbest: 0.5040405 (1199)\ttotal: 29s\tremaining: 0us           \n",
      "\n",
      "bestTest = 0.5040405479                                                          \n",
      "\n",
      "bestIteration = 1199                                                             \n",
      "\n",
      " 77%|███████▋  | 58/75 [46:38<13:18, 46.95s/trial, best loss: 0.4846709458639874]"
     ]
    },
    {
     "name": "stderr",
     "output_type": "stream",
     "text": [
      "Default metric period is 5 because NDCG\n",
      " is/are not implemented for GPU\n",
      "\n",
      "Metric NDCG:type=Base is not implemented on GPU. Will use CPU for metric computation, this could significantly affect learning time\n",
      "\n",
      "Metric NDCG:top=10;type=Exp is not implemented on GPU. Will use CPU for metric computation, this could significantly affect learning time\n",
      "\n"
     ]
    },
    {
     "name": "stdout",
     "output_type": "stream",
     "text": [
      "0:\ttest: 0.3562459\tbest: 0.3562459 (0)\ttotal: 96.3ms\tremaining: 1m 55s           \n",
      "\n",
      "200:\ttest: 0.4882885\tbest: 0.4882885 (200)\ttotal: 8.51s\tremaining: 42.3s         \n",
      "\n",
      "400:\ttest: 0.4995175\tbest: 0.4995175 (400)\ttotal: 17s\tremaining: 34s             \n",
      "\n",
      "600:\ttest: 0.5064903\tbest: 0.5064903 (600)\ttotal: 25.5s\tremaining: 25.4s         \n",
      "\n",
      "800:\ttest: 0.5088087\tbest: 0.5089899 (795)\ttotal: 33.6s\tremaining: 16.8s         \n",
      "\n",
      "1000:\ttest: 0.5102283\tbest: 0.5102283 (1000)\ttotal: 41.7s\tremaining: 8.3s        \n",
      "\n",
      "1199:\ttest: 0.5112489\tbest: 0.5114227 (1170)\ttotal: 49.8s\tremaining: 0us         \n",
      "\n",
      "bestTest = 0.51142272                                                            \n",
      "\n",
      "bestIteration = 1170                                                             \n",
      "\n",
      "Shrink model to first 1171 iterations.                                           \n",
      " 79%|███████▊  | 59/75 [47:35<13:23, 50.23s/trial, best loss: 0.4846709458639874]"
     ]
    },
    {
     "name": "stderr",
     "output_type": "stream",
     "text": [
      "Default metric period is 5 because NDCG\n",
      " is/are not implemented for GPU\n",
      "\n",
      "Metric NDCG:type=Base is not implemented on GPU. Will use CPU for metric computation, this could significantly affect learning time\n",
      "\n",
      "Metric NDCG:top=10;type=Exp is not implemented on GPU. Will use CPU for metric computation, this could significantly affect learning time\n",
      "\n"
     ]
    },
    {
     "name": "stdout",
     "output_type": "stream",
     "text": [
      "0:\ttest: 0.2927146\tbest: 0.2927146 (0)\ttotal: 54.7ms\tremaining: 1m 5s            \n",
      "\n",
      "200:\ttest: 0.4769593\tbest: 0.4769593 (200)\ttotal: 4.77s\tremaining: 23.7s         \n",
      "\n",
      "400:\ttest: 0.4917647\tbest: 0.4917647 (400)\ttotal: 9.43s\tremaining: 18.8s         \n",
      "\n",
      "600:\ttest: 0.4972245\tbest: 0.4973135 (595)\ttotal: 13.7s\tremaining: 13.6s         \n",
      "\n",
      "800:\ttest: 0.4992065\tbest: 0.4992065 (800)\ttotal: 17.9s\tremaining: 8.94s         \n",
      "\n",
      "1000:\ttest: 0.5007141\tbest: 0.5010149 (920)\ttotal: 22.1s\tremaining: 4.4s         \n",
      "\n",
      "1199:\ttest: 0.5016384\tbest: 0.5016835 (1160)\ttotal: 26.9s\tremaining: 0us         \n",
      "\n",
      "bestTest = 0.5016834662                                                          \n",
      "\n",
      "bestIteration = 1160                                                             \n",
      "\n",
      "Shrink model to first 1161 iterations.                                           \n",
      " 80%|████████  | 60/75 [48:08<11:11, 44.79s/trial, best loss: 0.4846709458639874]"
     ]
    },
    {
     "name": "stderr",
     "output_type": "stream",
     "text": [
      "Default metric period is 5 because NDCG\n",
      " is/are not implemented for GPU\n",
      "\n",
      "Metric NDCG:type=Base is not implemented on GPU. Will use CPU for metric computation, this could significantly affect learning time\n",
      "\n",
      "Metric NDCG:top=10;type=Exp is not implemented on GPU. Will use CPU for metric computation, this could significantly affect learning time\n",
      "\n"
     ]
    },
    {
     "name": "stdout",
     "output_type": "stream",
     "text": [
      "0:\ttest: 0.3646950\tbest: 0.3646950 (0)\ttotal: 119ms\tremaining: 2m 22s            \n",
      "\n",
      "200:\ttest: 0.4716433\tbest: 0.4718097 (195)\ttotal: 11.1s\tremaining: 55.3s         \n",
      "\n",
      "400:\ttest: 0.4799164\tbest: 0.4799164 (400)\ttotal: 21.3s\tremaining: 42.5s         \n",
      "\n",
      "600:\ttest: 0.4859659\tbest: 0.4859794 (590)\ttotal: 31.3s\tremaining: 31.2s         \n",
      "\n",
      "800:\ttest: 0.4905142\tbest: 0.4905142 (800)\ttotal: 40.6s\tremaining: 20.2s         \n",
      "\n",
      "1000:\ttest: 0.4938640\tbest: 0.4938640 (1000)\ttotal: 49.8s\tremaining: 9.89s       \n",
      "\n",
      "1199:\ttest: 0.4969162\tbest: 0.4969162 (1199)\ttotal: 59.3s\tremaining: 0us         \n",
      "\n",
      "bestTest = 0.4969162231                                                          \n",
      "\n",
      "bestIteration = 1199                                                             \n",
      "\n",
      " 81%|████████▏ | 61/75 [49:16<12:06, 51.92s/trial, best loss: 0.4846709458639874]"
     ]
    },
    {
     "name": "stderr",
     "output_type": "stream",
     "text": [
      "Default metric period is 5 because NDCG\n",
      " is/are not implemented for GPU\n",
      "\n",
      "Metric NDCG:type=Base is not implemented on GPU. Will use CPU for metric computation, this could significantly affect learning time\n",
      "\n",
      "Metric NDCG:top=10;type=Exp is not implemented on GPU. Will use CPU for metric computation, this could significantly affect learning time\n",
      "\n"
     ]
    },
    {
     "name": "stdout",
     "output_type": "stream",
     "text": [
      "0:\ttest: 0.3602087\tbest: 0.3602087 (0)\ttotal: 96ms\tremaining: 1m 55s             \n",
      "\n",
      "200:\ttest: 0.4684557\tbest: 0.4684557 (200)\ttotal: 7.66s\tremaining: 38.1s         \n",
      "\n",
      "400:\ttest: 0.4752170\tbest: 0.4752170 (400)\ttotal: 15s\tremaining: 29.9s           \n",
      "\n",
      "600:\ttest: 0.4800708\tbest: 0.4800708 (600)\ttotal: 22.7s\tremaining: 22.6s         \n",
      "\n",
      "800:\ttest: 0.4839689\tbest: 0.4839971 (790)\ttotal: 30.1s\tremaining: 15s           \n",
      "\n",
      "1000:\ttest: 0.4875061\tbest: 0.4875061 (1000)\ttotal: 38s\tremaining: 7.56s         \n",
      "\n",
      "1199:\ttest: 0.4905048\tbest: 0.4906545 (1195)\ttotal: 45.8s\tremaining: 0us         \n",
      "\n",
      "bestTest = 0.4906544537                                                          \n",
      "\n",
      "bestIteration = 1195                                                             \n",
      "\n",
      "Shrink model to first 1196 iterations.                                           \n",
      " 83%|████████▎ | 62/75 [50:10<11:24, 52.63s/trial, best loss: 0.4846709458639874]"
     ]
    },
    {
     "name": "stderr",
     "output_type": "stream",
     "text": [
      "Default metric period is 5 because NDCG\n",
      " is/are not implemented for GPU\n",
      "\n",
      "Metric NDCG:type=Base is not implemented on GPU. Will use CPU for metric computation, this could significantly affect learning time\n",
      "\n",
      "Metric NDCG:top=10;type=Exp is not implemented on GPU. Will use CPU for metric computation, this could significantly affect learning time\n",
      "\n"
     ]
    },
    {
     "name": "stdout",
     "output_type": "stream",
     "text": [
      "0:\ttest: 0.3621451\tbest: 0.3621451 (0)\ttotal: 83.6ms\tremaining: 1m 40s           \n",
      "\n",
      "200:\ttest: 0.4568200\tbest: 0.4571197 (185)\ttotal: 6.63s\tremaining: 33s           \n",
      "\n",
      "400:\ttest: 0.4610910\tbest: 0.4610910 (400)\ttotal: 12.7s\tremaining: 25.3s         \n",
      "\n",
      "600:\ttest: 0.4636100\tbest: 0.4638049 (595)\ttotal: 18.8s\tremaining: 18.7s         \n",
      "\n",
      "800:\ttest: 0.4665958\tbest: 0.4667134 (785)\ttotal: 24.8s\tremaining: 12.4s         \n",
      "\n",
      "1000:\ttest: 0.4690872\tbest: 0.4691103 (960)\ttotal: 31.6s\tremaining: 6.29s        \n",
      "\n",
      "1199:\ttest: 0.4705487\tbest: 0.4705907 (1195)\ttotal: 38.2s\tremaining: 0us         \n",
      "\n",
      "bestTest = 0.4705907246                                                          \n",
      "\n",
      "bestIteration = 1195                                                             \n",
      "\n",
      "Shrink model to first 1196 iterations.                                           \n",
      " 84%|████████▍ | 63/75 [50:56<10:04, 50.39s/trial, best loss: 0.4846709458639874]"
     ]
    },
    {
     "name": "stderr",
     "output_type": "stream",
     "text": [
      "Default metric period is 5 because NDCG\n",
      " is/are not implemented for GPU\n",
      "\n",
      "Metric NDCG:type=Base is not implemented on GPU. Will use CPU for metric computation, this could significantly affect learning time\n",
      "\n",
      "Metric NDCG:top=10;type=Exp is not implemented on GPU. Will use CPU for metric computation, this could significantly affect learning time\n",
      "\n"
     ]
    },
    {
     "name": "stdout",
     "output_type": "stream",
     "text": [
      "0:\ttest: 0.3181667\tbest: 0.3181667 (0)\ttotal: 67.8ms\tremaining: 1m 21s           \n",
      "\n",
      "200:\ttest: 0.4649784\tbest: 0.4649784 (200)\ttotal: 5.14s\tremaining: 25.6s         \n",
      "\n",
      "400:\ttest: 0.4836399\tbest: 0.4836399 (400)\ttotal: 10.5s\tremaining: 20.8s         \n",
      "\n",
      "600:\ttest: 0.4928064\tbest: 0.4928064 (600)\ttotal: 15.9s\tremaining: 15.9s         \n",
      "\n",
      "800:\ttest: 0.4972884\tbest: 0.4975362 (790)\ttotal: 21.1s\tremaining: 10.5s         \n",
      "\n",
      "1000:\ttest: 0.5003976\tbest: 0.5004815 (985)\ttotal: 25.7s\tremaining: 5.11s        \n",
      "\n",
      "1199:\ttest: 0.5016143\tbest: 0.5016360 (1185)\ttotal: 30.3s\tremaining: 0us         \n",
      "\n",
      "bestTest = 0.501636049                                                           \n",
      "\n",
      "bestIteration = 1185                                                             \n",
      "\n",
      "Shrink model to first 1186 iterations.                                           \n",
      " 85%|████████▌ | 64/75 [51:32<08:26, 46.09s/trial, best loss: 0.4846709458639874]"
     ]
    },
    {
     "name": "stderr",
     "output_type": "stream",
     "text": [
      "Default metric period is 5 because NDCG\n",
      " is/are not implemented for GPU\n",
      "\n",
      "Metric NDCG:type=Base is not implemented on GPU. Will use CPU for metric computation, this could significantly affect learning time\n",
      "\n",
      "Metric NDCG:top=10;type=Exp is not implemented on GPU. Will use CPU for metric computation, this could significantly affect learning time\n",
      "\n"
     ]
    },
    {
     "name": "stdout",
     "output_type": "stream",
     "text": [
      "0:\ttest: 0.3626886\tbest: 0.3626886 (0)\ttotal: 83.8ms\tremaining: 1m 40s           \n",
      "\n",
      "200:\ttest: 0.4579899\tbest: 0.4579899 (200)\ttotal: 8.65s\tremaining: 43s           \n",
      "\n",
      "400:\ttest: 0.4604993\tbest: 0.4608388 (395)\ttotal: 16.4s\tremaining: 32.6s         \n",
      "\n",
      "600:\ttest: 0.4641113\tbest: 0.4641113 (600)\ttotal: 24.2s\tremaining: 24.2s         \n",
      "\n",
      "800:\ttest: 0.4657139\tbest: 0.4657593 (795)\ttotal: 32.8s\tremaining: 16.4s         \n",
      "\n",
      "1000:\ttest: 0.4675823\tbest: 0.4676736 (995)\ttotal: 40.3s\tremaining: 8.02s        \n",
      "\n",
      "1199:\ttest: 0.4693855\tbest: 0.4694425 (1180)\ttotal: 48s\tremaining: 0us           \n",
      "\n",
      "bestTest = 0.4694424659                                                          \n",
      "\n",
      "bestIteration = 1180                                                             \n",
      "\n",
      "Shrink model to first 1181 iterations.                                           \n",
      " 87%|████████▋ | 65/75 [52:27<08:09, 48.94s/trial, best loss: 0.4846709458639874]"
     ]
    },
    {
     "name": "stderr",
     "output_type": "stream",
     "text": [
      "Default metric period is 5 because NDCG\n",
      " is/are not implemented for GPU\n",
      "\n",
      "Metric NDCG:type=Base is not implemented on GPU. Will use CPU for metric computation, this could significantly affect learning time\n",
      "\n",
      "Metric NDCG:top=10;type=Exp is not implemented on GPU. Will use CPU for metric computation, this could significantly affect learning time\n",
      "\n"
     ]
    },
    {
     "name": "stdout",
     "output_type": "stream",
     "text": [
      "0:\ttest: 0.3654694\tbest: 0.3654694 (0)\ttotal: 95.7ms\tremaining: 1m 54s           \n",
      "\n",
      "200:\ttest: 0.4904006\tbest: 0.4904006 (200)\ttotal: 8.52s\tremaining: 42.4s         \n",
      "\n",
      "400:\ttest: 0.5032245\tbest: 0.5032245 (400)\ttotal: 16.7s\tremaining: 33.3s         \n",
      "\n",
      "600:\ttest: 0.5084339\tbest: 0.5084339 (600)\ttotal: 24.4s\tremaining: 24.3s         \n",
      "\n",
      "800:\ttest: 0.5105425\tbest: 0.5106967 (795)\ttotal: 31.9s\tremaining: 15.9s         \n",
      "\n",
      "1000:\ttest: 0.5116911\tbest: 0.5118257 (885)\ttotal: 38.9s\tremaining: 7.72s        \n",
      "\n",
      "1199:\ttest: 0.5127081\tbest: 0.5127081 (1199)\ttotal: 46.8s\tremaining: 0us         \n",
      "\n",
      "bestTest = 0.512708066                                                           \n",
      "\n",
      "bestIteration = 1199                                                             \n",
      "\n",
      " 88%|████████▊ | 66/75 [53:22<07:36, 50.73s/trial, best loss: 0.4846709458639874]"
     ]
    },
    {
     "name": "stderr",
     "output_type": "stream",
     "text": [
      "Default metric period is 5 because NDCG\n",
      " is/are not implemented for GPU\n",
      "\n",
      "Metric NDCG:type=Base is not implemented on GPU. Will use CPU for metric computation, this could significantly affect learning time\n",
      "\n",
      "Metric NDCG:top=10;type=Exp is not implemented on GPU. Will use CPU for metric computation, this could significantly affect learning time\n",
      "\n"
     ]
    },
    {
     "name": "stdout",
     "output_type": "stream",
     "text": [
      "0:\ttest: 0.3582397\tbest: 0.3582397 (0)\ttotal: 96.9ms\tremaining: 1m 56s           \n",
      "\n",
      "200:\ttest: 0.4761083\tbest: 0.4761083 (200)\ttotal: 8.77s\tremaining: 43.6s         \n",
      "\n",
      "400:\ttest: 0.4856721\tbest: 0.4856721 (400)\ttotal: 16.7s\tremaining: 33.3s         \n",
      "\n",
      "600:\ttest: 0.4925923\tbest: 0.4926058 (590)\ttotal: 24.1s\tremaining: 24s           \n",
      "\n",
      "800:\ttest: 0.4977403\tbest: 0.4977403 (800)\ttotal: 32.6s\tremaining: 16.3s         \n",
      "\n",
      "1000:\ttest: 0.5011755\tbest: 0.5011755 (1000)\ttotal: 41.1s\tremaining: 8.16s       \n",
      "\n",
      "1199:\ttest: 0.5038783\tbest: 0.5041936 (1155)\ttotal: 48.4s\tremaining: 0us         \n",
      "\n",
      "bestTest = 0.5041935897                                                          \n",
      "\n",
      "bestIteration = 1155                                                             \n",
      "\n",
      "Shrink model to first 1156 iterations.                                           \n",
      " 89%|████████▉ | 67/75 [54:18<06:58, 52.37s/trial, best loss: 0.4846709458639874]"
     ]
    },
    {
     "name": "stderr",
     "output_type": "stream",
     "text": [
      "Default metric period is 5 because NDCG\n",
      " is/are not implemented for GPU\n",
      "\n",
      "Metric NDCG:type=Base is not implemented on GPU. Will use CPU for metric computation, this could significantly affect learning time\n",
      "\n",
      "Metric NDCG:top=10;type=Exp is not implemented on GPU. Will use CPU for metric computation, this could significantly affect learning time\n",
      "\n"
     ]
    },
    {
     "name": "stdout",
     "output_type": "stream",
     "text": [
      "0:\ttest: 0.3635119\tbest: 0.3635119 (0)\ttotal: 84.5ms\tremaining: 1m 41s           \n",
      "\n",
      "200:\ttest: 0.4921545\tbest: 0.4921545 (200)\ttotal: 7.88s\tremaining: 39.1s         \n",
      "\n",
      "400:\ttest: 0.5034360\tbest: 0.5034360 (400)\ttotal: 15s\tremaining: 30s             \n",
      "\n",
      "600:\ttest: 0.5078552\tbest: 0.5079990 (590)\ttotal: 23.3s\tremaining: 23.2s         \n",
      "\n",
      "800:\ttest: 0.5103370\tbest: 0.5103370 (800)\ttotal: 30.8s\tremaining: 15.3s         \n",
      "\n",
      "1000:\ttest: 0.5123307\tbest: 0.5123307 (1000)\ttotal: 39s\tremaining: 7.76s         \n",
      "\n",
      "1199:\ttest: 0.5137222\tbest: 0.5138402 (1185)\ttotal: 45.9s\tremaining: 0us         \n",
      "\n",
      "bestTest = 0.5138402209                                                          \n",
      "\n",
      "bestIteration = 1185                                                             \n",
      "\n",
      "Shrink model to first 1186 iterations.                                           \n",
      " 91%|█████████ | 68/75 [55:12<06:09, 52.73s/trial, best loss: 0.4846709458639874]"
     ]
    },
    {
     "name": "stderr",
     "output_type": "stream",
     "text": [
      "Default metric period is 5 because NDCG\n",
      " is/are not implemented for GPU\n",
      "\n",
      "Metric NDCG:type=Base is not implemented on GPU. Will use CPU for metric computation, this could significantly affect learning time\n",
      "\n",
      "Metric NDCG:top=10;type=Exp is not implemented on GPU. Will use CPU for metric computation, this could significantly affect learning time\n",
      "\n"
     ]
    },
    {
     "name": "stdout",
     "output_type": "stream",
     "text": [
      "0:\ttest: 0.3620917\tbest: 0.3620917 (0)\ttotal: 96.2ms\tremaining: 1m 55s           \n",
      "\n",
      "200:\ttest: 0.4978986\tbest: 0.4978986 (200)\ttotal: 8.46s\tremaining: 42s           \n",
      "\n",
      "400:\ttest: 0.5079339\tbest: 0.5079339 (400)\ttotal: 16.7s\tremaining: 33.3s         \n",
      "\n",
      "600:\ttest: 0.5107706\tbest: 0.5110906 (575)\ttotal: 24.2s\tremaining: 24.1s         \n",
      "\n",
      "800:\ttest: 0.5127977\tbest: 0.5132131 (785)\ttotal: 31.9s\tremaining: 15.9s         \n",
      "\n",
      "1000:\ttest: 0.5139997\tbest: 0.5141259 (985)\ttotal: 39.5s\tremaining: 7.86s        \n",
      "\n",
      "1199:\ttest: 0.5144154\tbest: 0.5144154 (1199)\ttotal: 47.3s\tremaining: 0us         \n",
      "\n",
      "bestTest = 0.514415393                                                           \n",
      "\n",
      "bestIteration = 1199                                                             \n",
      "\n",
      " 92%|█████████▏| 69/75 [56:07<05:21, 53.52s/trial, best loss: 0.4846709458639874]"
     ]
    },
    {
     "name": "stderr",
     "output_type": "stream",
     "text": [
      "Default metric period is 5 because NDCG\n",
      " is/are not implemented for GPU\n",
      "\n",
      "Metric NDCG:type=Base is not implemented on GPU. Will use CPU for metric computation, this could significantly affect learning time\n",
      "\n",
      "Metric NDCG:top=10;type=Exp is not implemented on GPU. Will use CPU for metric computation, this could significantly affect learning time\n",
      "\n"
     ]
    },
    {
     "name": "stdout",
     "output_type": "stream",
     "text": [
      "0:\ttest: 0.3608295\tbest: 0.3608295 (0)\ttotal: 95.6ms\tremaining: 1m 54s           \n",
      "\n",
      "200:\ttest: 0.4858341\tbest: 0.4858341 (200)\ttotal: 7.56s\tremaining: 37.6s         \n",
      "\n",
      "400:\ttest: 0.4972943\tbest: 0.4972943 (400)\ttotal: 15.2s\tremaining: 30.3s         \n",
      "\n",
      "600:\ttest: 0.5038399\tbest: 0.5038399 (600)\ttotal: 22.9s\tremaining: 22.8s         \n",
      "\n",
      "800:\ttest: 0.5070667\tbest: 0.5071913 (795)\ttotal: 31.1s\tremaining: 15.5s         \n",
      "\n",
      "1000:\ttest: 0.5095261\tbest: 0.5095261 (1000)\ttotal: 39.3s\tremaining: 7.81s       \n",
      "\n",
      "1199:\ttest: 0.5103715\tbest: 0.5104244 (1185)\ttotal: 46.3s\tremaining: 0us         \n",
      "\n",
      "bestTest = 0.510424366                                                           \n",
      "\n",
      "bestIteration = 1185                                                             \n",
      "\n",
      "Shrink model to first 1186 iterations.                                           \n",
      " 93%|█████████▎| 70/75 [57:02<04:28, 53.77s/trial, best loss: 0.4846709458639874]"
     ]
    },
    {
     "name": "stderr",
     "output_type": "stream",
     "text": [
      "Default metric period is 5 because NDCG\n",
      " is/are not implemented for GPU\n",
      "\n",
      "Metric NDCG:type=Base is not implemented on GPU. Will use CPU for metric computation, this could significantly affect learning time\n",
      "\n",
      "Metric NDCG:top=10;type=Exp is not implemented on GPU. Will use CPU for metric computation, this could significantly affect learning time\n",
      "\n"
     ]
    },
    {
     "name": "stdout",
     "output_type": "stream",
     "text": [
      "0:\ttest: 0.3677490\tbest: 0.3677490 (0)\ttotal: 98.2ms\tremaining: 1m 57s           \n",
      "\n",
      "200:\ttest: 0.4998877\tbest: 0.4998877 (200)\ttotal: 8.15s\tremaining: 40.5s         \n",
      "\n",
      "400:\ttest: 0.5081522\tbest: 0.5083741 (380)\ttotal: 16s\tremaining: 31.9s           \n",
      "\n",
      "600:\ttest: 0.5107918\tbest: 0.5109328 (555)\ttotal: 23.9s\tremaining: 23.8s         \n",
      "\n",
      "800:\ttest: 0.5131725\tbest: 0.5132471 (795)\ttotal: 31.5s\tremaining: 15.7s         \n",
      "\n",
      "1000:\ttest: 0.5148344\tbest: 0.5148452 (990)\ttotal: 39.5s\tremaining: 7.85s        \n",
      "\n",
      "1199:\ttest: 0.5159335\tbest: 0.5159335 (1199)\ttotal: 47s\tremaining: 0us           \n",
      "\n",
      "bestTest = 0.5159334885                                                          \n",
      "\n",
      "bestIteration = 1199                                                             \n",
      "\n",
      " 95%|█████████▍| 71/75 [57:57<03:37, 54.33s/trial, best loss: 0.48406651150023994]"
     ]
    },
    {
     "name": "stderr",
     "output_type": "stream",
     "text": [
      "Default metric period is 5 because NDCG\n",
      " is/are not implemented for GPU\n",
      "\n",
      "Metric NDCG:type=Base is not implemented on GPU. Will use CPU for metric computation, this could significantly affect learning time\n",
      "\n",
      "Metric NDCG:top=10;type=Exp is not implemented on GPU. Will use CPU for metric computation, this could significantly affect learning time\n",
      "\n"
     ]
    },
    {
     "name": "stdout",
     "output_type": "stream",
     "text": [
      "0:\ttest: 0.3677442\tbest: 0.3677442 (0)\ttotal: 99.8ms\tremaining: 1m 59s            \n",
      "\n",
      "200:\ttest: 0.4973597\tbest: 0.4973597 (200)\ttotal: 8.36s\tremaining: 41.5s          \n",
      "\n",
      "400:\ttest: 0.5073624\tbest: 0.5073624 (400)\ttotal: 16s\tremaining: 31.9s            \n",
      "\n",
      "600:\ttest: 0.5119115\tbest: 0.5119115 (600)\ttotal: 23.3s\tremaining: 23.2s          \n",
      "\n",
      "800:\ttest: 0.5129817\tbest: 0.5130779 (785)\ttotal: 31.5s\tremaining: 15.7s          \n",
      "\n",
      "1000:\ttest: 0.5141170\tbest: 0.5143421 (985)\ttotal: 39.3s\tremaining: 7.82s         \n",
      "\n",
      "1199:\ttest: 0.5152309\tbest: 0.5153175 (1195)\ttotal: 47s\tremaining: 0us            \n",
      "\n",
      "bestTest = 0.5153174526                                                           \n",
      "\n",
      "bestIteration = 1195                                                              \n",
      "\n",
      "Shrink model to first 1196 iterations.                                            \n",
      " 96%|█████████▌| 72/75 [58:52<02:43, 54.56s/trial, best loss: 0.48406651150023994]"
     ]
    },
    {
     "name": "stderr",
     "output_type": "stream",
     "text": [
      "Default metric period is 5 because NDCG\n",
      " is/are not implemented for GPU\n",
      "\n",
      "Metric NDCG:type=Base is not implemented on GPU. Will use CPU for metric computation, this could significantly affect learning time\n",
      "\n",
      "Metric NDCG:top=10;type=Exp is not implemented on GPU. Will use CPU for metric computation, this could significantly affect learning time\n",
      "\n"
     ]
    },
    {
     "name": "stdout",
     "output_type": "stream",
     "text": [
      "0:\ttest: 0.3678055\tbest: 0.3678055 (0)\ttotal: 95.4ms\tremaining: 1m 54s            \n",
      "\n",
      "200:\ttest: 0.4860074\tbest: 0.4860074 (200)\ttotal: 8.78s\tremaining: 43.6s          \n",
      "\n",
      "400:\ttest: 0.4968319\tbest: 0.4968319 (400)\ttotal: 17.2s\tremaining: 34.3s          \n",
      "\n",
      "600:\ttest: 0.5037653\tbest: 0.5037653 (600)\ttotal: 24.6s\tremaining: 24.5s          \n",
      "\n",
      "800:\ttest: 0.5082069\tbest: 0.5082069 (800)\ttotal: 32s\tremaining: 15.9s            \n",
      "\n",
      "1000:\ttest: 0.5099754\tbest: 0.5099754 (1000)\ttotal: 39.9s\tremaining: 7.93s        \n",
      "\n",
      "1199:\ttest: 0.5108163\tbest: 0.5108163 (1199)\ttotal: 47.7s\tremaining: 0us          \n",
      "\n",
      "bestTest = 0.510816253                                                            \n",
      "\n",
      "bestIteration = 1199                                                              \n",
      "\n",
      " 97%|█████████▋| 73/75 [59:48<01:50, 55.01s/trial, best loss: 0.48406651150023994]"
     ]
    },
    {
     "name": "stderr",
     "output_type": "stream",
     "text": [
      "Default metric period is 5 because NDCG\n",
      " is/are not implemented for GPU\n",
      "\n",
      "Metric NDCG:type=Base is not implemented on GPU. Will use CPU for metric computation, this could significantly affect learning time\n",
      "\n",
      "Metric NDCG:top=10;type=Exp is not implemented on GPU. Will use CPU for metric computation, this could significantly affect learning time\n",
      "\n"
     ]
    },
    {
     "name": "stdout",
     "output_type": "stream",
     "text": [
      "0:\ttest: 0.3077999\tbest: 0.3077999 (0)\ttotal: 60.6ms\tremaining: 1m 12s            \n",
      "\n",
      "200:\ttest: 0.4779549\tbest: 0.4779549 (200)\ttotal: 4.91s\tremaining: 24.4s          \n",
      "\n",
      "400:\ttest: 0.4909911\tbest: 0.4909911 (400)\ttotal: 9.42s\tremaining: 18.8s          \n",
      "\n",
      "600:\ttest: 0.4976519\tbest: 0.4976519 (600)\ttotal: 13.5s\tremaining: 13.4s            \n",
      "\n",
      "800:\ttest: 0.4994051\tbest: 0.4995122 (790)\ttotal: 17.9s\tremaining: 8.89s            \n",
      "\n",
      "1000:\ttest: 0.5011181\tbest: 0.5011281 (995)\ttotal: 22.1s\tremaining: 4.4s            \n",
      "\n",
      "1199:\ttest: 0.5023841\tbest: 0.5024190 (1185)\ttotal: 26.8s\tremaining: 0us            \n",
      "\n",
      "bestTest = 0.5024190065                                                             \n",
      "\n",
      "bestIteration = 1185                                                                \n",
      "\n",
      "Shrink model to first 1186 iterations.                                              \n",
      " 99%|█████████▊| 74/75 [1:00:21<00:48, 48.15s/trial, best loss: 0.48406651150023994]"
     ]
    },
    {
     "name": "stderr",
     "output_type": "stream",
     "text": [
      "Default metric period is 5 because NDCG\n",
      " is/are not implemented for GPU\n",
      "\n",
      "Metric NDCG:type=Base is not implemented on GPU. Will use CPU for metric computation, this could significantly affect learning time\n",
      "\n",
      "Metric NDCG:top=10;type=Exp is not implemented on GPU. Will use CPU for metric computation, this could significantly affect learning time\n",
      "\n"
     ]
    },
    {
     "name": "stdout",
     "output_type": "stream",
     "text": [
      "0:\ttest: 0.3692817\tbest: 0.3692817 (0)\ttotal: 97ms\tremaining: 1m 56s                \n",
      "\n",
      "200:\ttest: 0.5010744\tbest: 0.5010744 (200)\ttotal: 8.38s\tremaining: 41.7s            \n",
      "\n",
      "400:\ttest: 0.5088049\tbest: 0.5088969 (390)\ttotal: 16.6s\tremaining: 33.1s            \n",
      "\n",
      "600:\ttest: 0.5130001\tbest: 0.5130763 (595)\ttotal: 24.7s\tremaining: 24.6s            \n",
      "\n",
      "800:\ttest: 0.5141427\tbest: 0.5144570 (795)\ttotal: 32.8s\tremaining: 16.3s            \n",
      "\n",
      "1000:\ttest: 0.5160005\tbest: 0.5160415 (990)\ttotal: 40.5s\tremaining: 8.05s           \n",
      "\n",
      "1199:\ttest: 0.5169105\tbest: 0.5173019 (1160)\ttotal: 48.2s\tremaining: 0us            \n",
      "\n",
      "bestTest = 0.5173019327                                                             \n",
      "\n",
      "bestIteration = 1160                                                                \n",
      "\n",
      "Shrink model to first 1161 iterations.                                              \n",
      "100%|██████████| 75/75 [1:01:17<00:00, 49.03s/trial, best loss: 0.48269806729754394]\n"
     ]
    }
   ],
   "source": [
    "search_space_1 = {\n",
    "            'learning_rate': hp.loguniform(label='learning_rate', low=-4*np.log(10), high=-1 * np.log(10)), # lr = [0.001, 0.001, ..., 1]\n",
    "            'bagging_temperature': hp.uniform('bagging_temperature', 0.7, 1.1),\n",
    "            'depth': hp.randint('depth', 4, 10),\n",
    "            'l2_leaf_reg': hp.uniform('l2_leaf_reg', 1, 20),\n",
    "            'use_best_model': True,\n",
    "            'iterations' : 1200,\n",
    "            'verbose' : 200,\n",
    "            'random_seed' : 42,\n",
    "            'border_count' : 128,\n",
    "            'grow_policy': 'Depthwise',\n",
    "            'loss_function': 'YetiRank',\n",
    "            'eval_metric': 'NDCG:top=10;type=Exp',\n",
    "            'task_type': 'GPU',\n",
    "            }\n",
    "trial = run_hyperopt(search_space_1)"
   ]
  },
  {
   "cell_type": "code",
   "execution_count": 16,
   "metadata": {
    "execution": {
     "iopub.execute_input": "2024-04-21T22:43:03.202133Z",
     "iopub.status.busy": "2024-04-21T22:43:03.201322Z",
     "iopub.status.idle": "2024-04-21T22:43:03.211237Z",
     "shell.execute_reply": "2024-04-21T22:43:03.210332Z",
     "shell.execute_reply.started": "2024-04-21T22:43:03.202091Z"
    }
   },
   "outputs": [
    {
     "name": "stdout",
     "output_type": "stream",
     "text": [
      "NDCG:top=10:type=exp score:  0.5173019327024561\n"
     ]
    },
    {
     "data": {
      "text/plain": [
       "{'bagging_temperature': 0.7825876839248045,\n",
       " 'border_count': 128,\n",
       " 'depth': 8,\n",
       " 'eval_metric': 'NDCG:top=10;type=Exp',\n",
       " 'grow_policy': 'Depthwise',\n",
       " 'iterations': 1200,\n",
       " 'l2_leaf_reg': 5.930424236293685,\n",
       " 'learning_rate': 0.09987631032212624,\n",
       " 'loss_function': 'YetiRank',\n",
       " 'random_seed': 42,\n",
       " 'task_type': 'GPU',\n",
       " 'use_best_model': True,\n",
       " 'verbose': 200}"
      ]
     },
     "execution_count": 16,
     "metadata": {},
     "output_type": "execute_result"
    }
   ],
   "source": [
    "print(\"NDCG:top=10:type=exp score: \", 1 - trial.best_trial['result']['loss'])\n",
    "trial.best_trial['result']['params']"
   ]
  },
  {
   "cell_type": "code",
   "execution_count": 17,
   "metadata": {
    "execution": {
     "iopub.execute_input": "2024-04-21T22:43:03.212848Z",
     "iopub.status.busy": "2024-04-21T22:43:03.212569Z",
     "iopub.status.idle": "2024-04-21T22:43:03.222918Z",
     "shell.execute_reply": "2024-04-21T22:43:03.222218Z",
     "shell.execute_reply.started": "2024-04-21T22:43:03.212824Z"
    }
   },
   "outputs": [],
   "source": [
    "optim_params = trial.best_trial['result']['params']"
   ]
  },
  {
   "cell_type": "markdown",
   "metadata": {},
   "source": [
    "### Посмотрим, на какой итерации CatBoost получим лучший скор:"
   ]
  },
  {
   "cell_type": "code",
   "execution_count": 18,
   "metadata": {
    "execution": {
     "iopub.execute_input": "2024-04-21T22:43:03.224236Z",
     "iopub.status.busy": "2024-04-21T22:43:03.223928Z",
     "iopub.status.idle": "2024-04-21T22:50:01.404682Z",
     "shell.execute_reply": "2024-04-21T22:50:01.403826Z",
     "shell.execute_reply.started": "2024-04-21T22:43:03.224209Z"
    },
    "scrolled": true
   },
   "outputs": [
    {
     "name": "stdout",
     "output_type": "stream",
     "text": [
      "{'bagging_temperature': 0.7825876839248045, 'border_count': 128, 'depth': 8, 'eval_metric': 'NDCG:top=10;type=Exp;hints=skip_train~false', 'grow_policy': 'Depthwise', 'iterations': 10000, 'l2_leaf_reg': 5.930424236293685, 'learning_rate': 0.09987631032212624, 'loss_function': 'YetiRank', 'random_seed': 42, 'task_type': 'GPU', 'use_best_model': True, 'verbose': 200}\n"
     ]
    },
    {
     "name": "stderr",
     "output_type": "stream",
     "text": [
      "Default metric period is 5 because NDCG is/are not implemented for GPU\n",
      "Metric NDCG:type=Base is not implemented on GPU. Will use CPU for metric computation, this could significantly affect learning time\n",
      "Metric NDCG:top=10;type=Exp is not implemented on GPU. Will use CPU for metric computation, this could significantly affect learning time\n"
     ]
    },
    {
     "name": "stdout",
     "output_type": "stream",
     "text": [
      "0:\tlearn: 0.3712595\ttest: 0.3692817\tbest: 0.3692817 (0)\ttotal: 124ms\tremaining: 20m 44s\n",
      "200:\tlearn: 0.5197893\ttest: 0.4993557\tbest: 0.4993557 (200)\ttotal: 8.27s\tremaining: 6m 43s\n",
      "400:\tlearn: 0.5371733\ttest: 0.5087834\tbest: 0.5087834 (400)\ttotal: 16.3s\tremaining: 6m 29s\n",
      "600:\tlearn: 0.5479364\ttest: 0.5128494\tbest: 0.5128494 (600)\ttotal: 24.1s\tremaining: 6m 16s\n",
      "800:\tlearn: 0.5558115\ttest: 0.5144299\tbest: 0.5145386 (780)\ttotal: 32.2s\tremaining: 6m 9s\n",
      "1000:\tlearn: 0.5626171\ttest: 0.5151331\tbest: 0.5153869 (995)\ttotal: 40.8s\tremaining: 6m 6s\n",
      "1200:\tlearn: 0.5690344\ttest: 0.5161120\tbest: 0.5161120 (1200)\ttotal: 49.8s\tremaining: 6m 5s\n",
      "1400:\tlearn: 0.5745252\ttest: 0.5163086\tbest: 0.5165205 (1280)\ttotal: 58.8s\tremaining: 6m\n",
      "1600:\tlearn: 0.5798511\ttest: 0.5161654\tbest: 0.5165205 (1280)\ttotal: 1m 7s\tremaining: 5m 56s\n",
      "1800:\tlearn: 0.5855515\ttest: 0.5169852\tbest: 0.5169852 (1800)\ttotal: 1m 16s\tremaining: 5m 47s\n",
      "2000:\tlearn: 0.5903342\ttest: 0.5171373\tbest: 0.5176673 (1895)\ttotal: 1m 25s\tremaining: 5m 40s\n",
      "2200:\tlearn: 0.5953151\ttest: 0.5171381\tbest: 0.5177326 (2055)\ttotal: 1m 34s\tremaining: 5m 34s\n",
      "2400:\tlearn: 0.6000836\ttest: 0.5175263\tbest: 0.5177326 (2055)\ttotal: 1m 43s\tremaining: 5m 26s\n",
      "2600:\tlearn: 0.6048232\ttest: 0.5177168\tbest: 0.5182806 (2560)\ttotal: 1m 51s\tremaining: 5m 18s\n",
      "2800:\tlearn: 0.6094586\ttest: 0.5174544\tbest: 0.5182806 (2560)\ttotal: 2m\tremaining: 5m 10s\n",
      "3000:\tlearn: 0.6135348\ttest: 0.5176750\tbest: 0.5182806 (2560)\ttotal: 2m 9s\tremaining: 5m 2s\n",
      "3200:\tlearn: 0.6177349\ttest: 0.5178522\tbest: 0.5182806 (2560)\ttotal: 2m 17s\tremaining: 4m 51s\n",
      "3400:\tlearn: 0.6216588\ttest: 0.5177952\tbest: 0.5182806 (2560)\ttotal: 2m 24s\tremaining: 4m 40s\n",
      "3600:\tlearn: 0.6260437\ttest: 0.5178854\tbest: 0.5182806 (2560)\ttotal: 2m 33s\tremaining: 4m 32s\n",
      "3800:\tlearn: 0.6295278\ttest: 0.5184136\tbest: 0.5185526 (3790)\ttotal: 2m 42s\tremaining: 4m 24s\n",
      "4000:\tlearn: 0.6335700\ttest: 0.5181216\tbest: 0.5185526 (3790)\ttotal: 2m 50s\tremaining: 4m 16s\n",
      "4200:\tlearn: 0.6373697\ttest: 0.5186966\tbest: 0.5187862 (4170)\ttotal: 2m 58s\tremaining: 4m 6s\n",
      "4400:\tlearn: 0.6408839\ttest: 0.5191926\tbest: 0.5191926 (4400)\ttotal: 3m 6s\tremaining: 3m 57s\n",
      "4600:\tlearn: 0.6443117\ttest: 0.5193932\tbest: 0.5193932 (4600)\ttotal: 3m 15s\tremaining: 3m 49s\n",
      "4800:\tlearn: 0.6476905\ttest: 0.5190622\tbest: 0.5193932 (4600)\ttotal: 3m 23s\tremaining: 3m 40s\n",
      "5000:\tlearn: 0.6509038\ttest: 0.5187825\tbest: 0.5193932 (4600)\ttotal: 3m 31s\tremaining: 3m 31s\n",
      "5200:\tlearn: 0.6535652\ttest: 0.5184470\tbest: 0.5193932 (4600)\ttotal: 3m 38s\tremaining: 3m 21s\n",
      "5400:\tlearn: 0.6569459\ttest: 0.5186332\tbest: 0.5193932 (4600)\ttotal: 3m 47s\tremaining: 3m 13s\n",
      "5600:\tlearn: 0.6601775\ttest: 0.5188390\tbest: 0.5193932 (4600)\ttotal: 3m 54s\tremaining: 3m 4s\n",
      "5800:\tlearn: 0.6635327\ttest: 0.5188817\tbest: 0.5193932 (4600)\ttotal: 4m 2s\tremaining: 2m 55s\n",
      "6000:\tlearn: 0.6665476\ttest: 0.5191769\tbest: 0.5196349 (5860)\ttotal: 4m 9s\tremaining: 2m 46s\n",
      "6200:\tlearn: 0.6692774\ttest: 0.5190927\tbest: 0.5196349 (5860)\ttotal: 4m 18s\tremaining: 2m 38s\n",
      "6400:\tlearn: 0.6720136\ttest: 0.5190234\tbest: 0.5196349 (5860)\ttotal: 4m 26s\tremaining: 2m 29s\n",
      "6600:\tlearn: 0.6752025\ttest: 0.5188173\tbest: 0.5196349 (5860)\ttotal: 4m 34s\tremaining: 2m 21s\n",
      "6800:\tlearn: 0.6777855\ttest: 0.5188976\tbest: 0.5196349 (5860)\ttotal: 4m 43s\tremaining: 2m 13s\n",
      "7000:\tlearn: 0.6806549\ttest: 0.5187013\tbest: 0.5196349 (5860)\ttotal: 4m 52s\tremaining: 2m 5s\n",
      "7200:\tlearn: 0.6834221\ttest: 0.5186943\tbest: 0.5196349 (5860)\ttotal: 4m 59s\tremaining: 1m 56s\n",
      "7400:\tlearn: 0.6862569\ttest: 0.5187742\tbest: 0.5196349 (5860)\ttotal: 5m 7s\tremaining: 1m 47s\n",
      "7600:\tlearn: 0.6891916\ttest: 0.5189559\tbest: 0.5196349 (5860)\ttotal: 5m 15s\tremaining: 1m 39s\n",
      "7800:\tlearn: 0.6916253\ttest: 0.5190120\tbest: 0.5196349 (5860)\ttotal: 5m 23s\tremaining: 1m 31s\n",
      "8000:\tlearn: 0.6940514\ttest: 0.5189215\tbest: 0.5196349 (5860)\ttotal: 5m 31s\tremaining: 1m 22s\n",
      "8200:\tlearn: 0.6962313\ttest: 0.5187910\tbest: 0.5196349 (5860)\ttotal: 5m 38s\tremaining: 1m 14s\n",
      "8400:\tlearn: 0.6988489\ttest: 0.5184038\tbest: 0.5196349 (5860)\ttotal: 5m 46s\tremaining: 1m 5s\n",
      "8600:\tlearn: 0.7009593\ttest: 0.5183952\tbest: 0.5196349 (5860)\ttotal: 5m 54s\tremaining: 57.6s\n",
      "8800:\tlearn: 0.7029803\ttest: 0.5183885\tbest: 0.5196349 (5860)\ttotal: 6m 2s\tremaining: 49.3s\n",
      "9000:\tlearn: 0.7055115\ttest: 0.5184709\tbest: 0.5196349 (5860)\ttotal: 6m 9s\tremaining: 41s\n",
      "9200:\tlearn: 0.7079221\ttest: 0.5180567\tbest: 0.5196349 (5860)\ttotal: 6m 17s\tremaining: 32.8s\n",
      "9400:\tlearn: 0.7098314\ttest: 0.5179611\tbest: 0.5196349 (5860)\ttotal: 6m 25s\tremaining: 24.6s\n",
      "9600:\tlearn: 0.7120266\ttest: 0.5176268\tbest: 0.5196349 (5860)\ttotal: 6m 33s\tremaining: 16.4s\n",
      "9800:\tlearn: 0.7142180\ttest: 0.5180705\tbest: 0.5196349 (5860)\ttotal: 6m 41s\tremaining: 8.15s\n",
      "9999:\tlearn: 0.7161155\ttest: 0.5179645\tbest: 0.5196349 (5860)\ttotal: 6m 49s\tremaining: 0us\n",
      "bestTest = 0.5196349365\n",
      "bestIteration = 5860\n",
      "Shrink model to first 5861 iterations.\n",
      "Model fit: elapsed = 418.165\n"
     ]
    }
   ],
   "source": [
    "optim_params['iterations'] = 10000\n",
    "optim_params['task_type'] = 'GPU'\n",
    "optim_params['eval_metric'] = 'NDCG:top=10;type=Exp;hints=skip_train~false'\n",
    "\n",
    "print(optim_params)\n",
    "model_w_best_iter = Model(optim_params)\n",
    "start = timer()\n",
    "model_w_best_iter.fit(df_train, df_valid)\n",
    "elapsed = timer() - start\n",
    "print(f\"Model fit: elapsed = {elapsed:.3f}\")"
   ]
  },
  {
   "cell_type": "code",
   "execution_count": 19,
   "metadata": {
    "execution": {
     "iopub.execute_input": "2024-04-21T22:50:01.406303Z",
     "iopub.status.busy": "2024-04-21T22:50:01.405811Z",
     "iopub.status.idle": "2024-04-21T22:50:01.411791Z",
     "shell.execute_reply": "2024-04-21T22:50:01.411042Z",
     "shell.execute_reply.started": "2024-04-21T22:50:01.406273Z"
    }
   },
   "outputs": [
    {
     "name": "stdout",
     "output_type": "stream",
     "text": [
      "best score = {'learn': {'NDCG:top=10;type=Exp': 0.71611548890575}, 'validation': {'NDCG:top=10;type=Exp': 0.519634936511361, 'NDCG:type=Base': 0.7989665932739829}}\n",
      "on iteration it = 5870\n"
     ]
    }
   ],
   "source": [
    "optim_params['iterations'] = model_w_best_iter.model.get_best_iteration() + 10\n",
    "print(\"best score =\", model_w_best_iter.model.best_score_)\n",
    "print(\"on iteration it =\", optim_params['iterations'])"
   ]
  },
  {
   "cell_type": "markdown",
   "metadata": {},
   "source": [
    "## Обучение на оптимальных параметрах"
   ]
  },
  {
   "cell_type": "markdown",
   "metadata": {},
   "source": [
    "Обучение можно проводить и на CPU, но оно"
   ]
  },
  {
   "cell_type": "code",
   "execution_count": 20,
   "metadata": {
    "execution": {
     "iopub.execute_input": "2024-04-21T22:50:01.413947Z",
     "iopub.status.busy": "2024-04-21T22:50:01.412882Z",
     "iopub.status.idle": "2024-04-21T22:54:15.280754Z",
     "shell.execute_reply": "2024-04-21T22:54:15.279056Z",
     "shell.execute_reply.started": "2024-04-21T22:50:01.413914Z"
    }
   },
   "outputs": [
    {
     "name": "stdout",
     "output_type": "stream",
     "text": [
      "{'bagging_temperature': 0.7825876839248045, 'border_count': 128, 'depth': 8, 'eval_metric': 'NDCG:top=10;type=Exp;hints=skip_train~false', 'grow_policy': 'Depthwise', 'iterations': 5870, 'l2_leaf_reg': 5.930424236293685, 'learning_rate': 0.09987631032212624, 'loss_function': 'YetiRank', 'random_seed': 42, 'task_type': 'GPU', 'use_best_model': True, 'verbose': 200}\n"
     ]
    },
    {
     "name": "stderr",
     "output_type": "stream",
     "text": [
      "Default metric period is 5 because NDCG is/are not implemented for GPU\n",
      "Metric NDCG:type=Base is not implemented on GPU. Will use CPU for metric computation, this could significantly affect learning time\n",
      "Metric NDCG:top=10;type=Exp is not implemented on GPU. Will use CPU for metric computation, this could significantly affect learning time\n"
     ]
    },
    {
     "name": "stdout",
     "output_type": "stream",
     "text": [
      "0:\tlearn: 0.3712595\ttest: 0.3692817\tbest: 0.3692817 (0)\ttotal: 132ms\tremaining: 12m 54s\n",
      "200:\tlearn: 0.5196598\ttest: 0.5009675\tbest: 0.5009675 (200)\ttotal: 9.16s\tremaining: 4m 18s\n",
      "400:\tlearn: 0.5368234\ttest: 0.5088413\tbest: 0.5088413 (400)\ttotal: 18.1s\tremaining: 4m 7s\n",
      "600:\tlearn: 0.5479555\ttest: 0.5124156\tbest: 0.5124156 (600)\ttotal: 26.5s\tremaining: 3m 52s\n",
      "800:\tlearn: 0.5561697\ttest: 0.5141585\tbest: 0.5141585 (800)\ttotal: 35.4s\tremaining: 3m 44s\n",
      "1000:\tlearn: 0.5631231\ttest: 0.5148263\tbest: 0.5151669 (905)\ttotal: 44.5s\tremaining: 3m 36s\n",
      "1200:\tlearn: 0.5689009\ttest: 0.5163800\tbest: 0.5165353 (1130)\ttotal: 52.8s\tremaining: 3m 25s\n",
      "1400:\tlearn: 0.5749433\ttest: 0.5168487\tbest: 0.5171466 (1360)\ttotal: 1m 1s\tremaining: 3m 16s\n",
      "1600:\tlearn: 0.5801164\ttest: 0.5172104\tbest: 0.5176451 (1480)\ttotal: 1m 9s\tremaining: 3m 5s\n",
      "1800:\tlearn: 0.5854225\ttest: 0.5171367\tbest: 0.5178393 (1690)\ttotal: 1m 17s\tremaining: 2m 54s\n",
      "2000:\tlearn: 0.5907345\ttest: 0.5174016\tbest: 0.5178393 (1690)\ttotal: 1m 24s\tremaining: 2m 44s\n",
      "2200:\tlearn: 0.5956326\ttest: 0.5176747\tbest: 0.5178466 (2100)\ttotal: 1m 32s\tremaining: 2m 34s\n",
      "2400:\tlearn: 0.6003742\ttest: 0.5175103\tbest: 0.5178581 (2205)\ttotal: 1m 40s\tremaining: 2m 25s\n",
      "2600:\tlearn: 0.6047295\ttest: 0.5174695\tbest: 0.5179544 (2450)\ttotal: 1m 49s\tremaining: 2m 17s\n",
      "2800:\tlearn: 0.6093259\ttest: 0.5178069\tbest: 0.5181721 (2760)\ttotal: 1m 57s\tremaining: 2m 9s\n",
      "3000:\tlearn: 0.6131416\ttest: 0.5181423\tbest: 0.5184309 (2960)\ttotal: 2m 6s\tremaining: 2m 1s\n",
      "3200:\tlearn: 0.6175560\ttest: 0.5180849\tbest: 0.5186007 (3125)\ttotal: 2m 16s\tremaining: 1m 53s\n",
      "3400:\tlearn: 0.6216679\ttest: 0.5192190\tbest: 0.5192190 (3400)\ttotal: 2m 24s\tremaining: 1m 44s\n",
      "3600:\tlearn: 0.6260705\ttest: 0.5185471\tbest: 0.5192190 (3400)\ttotal: 2m 33s\tremaining: 1m 36s\n",
      "3800:\tlearn: 0.6297790\ttest: 0.5186633\tbest: 0.5192190 (3400)\ttotal: 2m 41s\tremaining: 1m 27s\n",
      "4000:\tlearn: 0.6330323\ttest: 0.5187944\tbest: 0.5192190 (3400)\ttotal: 2m 49s\tremaining: 1m 18s\n",
      "4200:\tlearn: 0.6370750\ttest: 0.5190104\tbest: 0.5192510 (4180)\ttotal: 2m 57s\tremaining: 1m 10s\n",
      "4400:\tlearn: 0.6405285\ttest: 0.5185497\tbest: 0.5193428 (4255)\ttotal: 3m 5s\tremaining: 1m 1s\n",
      "4600:\tlearn: 0.6441188\ttest: 0.5186852\tbest: 0.5193428 (4255)\ttotal: 3m 14s\tremaining: 53.6s\n",
      "4800:\tlearn: 0.6474711\ttest: 0.5186672\tbest: 0.5193428 (4255)\ttotal: 3m 22s\tremaining: 45.1s\n",
      "5000:\tlearn: 0.6504809\ttest: 0.5188395\tbest: 0.5193428 (4255)\ttotal: 3m 30s\tremaining: 36.5s\n",
      "5200:\tlearn: 0.6537635\ttest: 0.5193978\tbest: 0.5195623 (5135)\ttotal: 3m 38s\tremaining: 28.1s\n",
      "5400:\tlearn: 0.6566132\ttest: 0.5191323\tbest: 0.5195623 (5135)\ttotal: 3m 46s\tremaining: 19.7s\n",
      "5600:\tlearn: 0.6596049\ttest: 0.5191599\tbest: 0.5195623 (5135)\ttotal: 3m 54s\tremaining: 11.3s\n",
      "5800:\tlearn: 0.6627100\ttest: 0.5194645\tbest: 0.5196091 (5715)\ttotal: 4m 3s\tremaining: 2.89s\n",
      "5869:\tlearn: 0.6637708\ttest: 0.5194289\tbest: 0.5196091 (5715)\ttotal: 4m 5s\tremaining: 0us\n",
      "bestTest = 0.5196090902\n",
      "bestIteration = 5715\n",
      "Shrink model to first 5716 iterations.\n",
      "Model fit: elapsed = 253.853\n"
     ]
    }
   ],
   "source": [
    "print(optim_params)\n",
    "final_model = Model(optim_params)\n",
    "start = timer()\n",
    "final_model.fit(df_train, df_valid)\n",
    "elapsed = timer() - start\n",
    "print(f\"Model fit: elapsed = {elapsed:.3f}\")"
   ]
  },
  {
   "cell_type": "code",
   "execution_count": 21,
   "metadata": {
    "execution": {
     "iopub.execute_input": "2024-04-21T22:54:15.287851Z",
     "iopub.status.busy": "2024-04-21T22:54:15.285460Z",
     "iopub.status.idle": "2024-04-21T22:54:15.296148Z",
     "shell.execute_reply": "2024-04-21T22:54:15.295075Z",
     "shell.execute_reply.started": "2024-04-21T22:54:15.287813Z"
    }
   },
   "outputs": [],
   "source": [
    "def compute_metrics(y_true, y_hat, q):\n",
    "    # List of metrics to evaluate\n",
    "    eval_metrics = ['NDCG:top=10;type=Exp']\n",
    "    \n",
    "    for eval_metric in eval_metrics:\n",
    "        scores = utils.eval_metric(y_true, y_hat, eval_metric, group_id=q)\n",
    "    \n",
    "        # Print scores\n",
    "        print(f\"metric = {eval_metric} score = {scores[0]:.3f}\")\n",
    "    \n",
    "    return scores[0]"
   ]
  },
  {
   "cell_type": "code",
   "execution_count": 22,
   "metadata": {
    "execution": {
     "iopub.execute_input": "2024-04-21T22:54:15.304086Z",
     "iopub.status.busy": "2024-04-21T22:54:15.300981Z",
     "iopub.status.idle": "2024-04-21T22:54:34.400895Z",
     "shell.execute_reply": "2024-04-21T22:54:34.399885Z",
     "shell.execute_reply.started": "2024-04-21T22:54:15.304048Z"
    }
   },
   "outputs": [
    {
     "name": "stdout",
     "output_type": "stream",
     "text": [
      "metric = NDCG:top=10;type=Exp score = 0.512\n",
      "0.5115967820307694\n"
     ]
    }
   ],
   "source": [
    "y_hat_final = final_model.predict(df_test)\n",
    "\n",
    "y_test = df_test['label'].to_numpy()\n",
    "q_test = df_test['qid'].to_numpy().astype('uint32')\n",
    "    \n",
    "# Compute metrics on test\n",
    "metric = compute_metrics(y_test, y_hat_final, q_test)\n",
    "print(metric)"
   ]
  },
  {
   "cell_type": "markdown",
   "metadata": {},
   "source": [
    "### Обучение на CPU"
   ]
  },
  {
   "cell_type": "markdown",
   "metadata": {},
   "source": [
    "Для обучения на CPU достаточно выполнить блоки кода ниже (Основной результат был получен выше при обучении на GPU, тк это намного сокращает время оубчения и дает простор для тюнинга)"
   ]
  },
  {
   "cell_type": "code",
   "execution_count": null,
   "metadata": {},
   "outputs": [],
   "source": [
    "optim_params['task_type'] = 'CPU'\n",
    "print(optim_params)\n",
    "cpu_model = Model(optim_params)\n",
    "start = timer()\n",
    "cpu_model.fit(df_train, df_valid)\n",
    "elapsed = timer() - start\n",
    "print(f\"Model fit: elapsed = {elapsed:.3f}\")"
   ]
  },
  {
   "cell_type": "code",
   "execution_count": null,
   "metadata": {},
   "outputs": [],
   "source": [
    "y_hat_final = cpu_model.predict(df_test)\n",
    "\n",
    "y_test = df_test['label'].to_numpy()\n",
    "q_test = df_test['qid'].to_numpy().astype('uint32')\n",
    "    \n",
    "# Compute metrics on test\n",
    "metric = compute_metrics(y_test, y_hat_final, q_test)\n",
    "print(metric)"
   ]
  },
  {
   "cell_type": "markdown",
   "metadata": {},
   "source": [
    "### Сохранение финальных параметров"
   ]
  },
  {
   "cell_type": "code",
   "execution_count": 23,
   "metadata": {
    "execution": {
     "iopub.execute_input": "2024-04-21T22:54:34.402663Z",
     "iopub.status.busy": "2024-04-21T22:54:34.402378Z",
     "iopub.status.idle": "2024-04-21T22:54:34.408130Z",
     "shell.execute_reply": "2024-04-21T22:54:34.407223Z",
     "shell.execute_reply.started": "2024-04-21T22:54:34.402639Z"
    }
   },
   "outputs": [],
   "source": [
    "import pickle\n",
    "cnt += 1\n",
    "metric_str = f\"{metric:.4f}\"\n",
    "\n",
    "filename = f\"best_params_ctb_{cnt}_{metric_str}.pkl\"\n",
    "with open (filename, \"wb\") as f:\n",
    "    pickle.dump(optim_params, f)"
   ]
  }
 ],
 "metadata": {
  "kaggle": {
   "accelerator": "nvidiaTeslaT4",
   "dataSources": [
    {
     "datasetId": 4834370,
     "sourceId": 8169158,
     "sourceType": "datasetVersion"
    }
   ],
   "dockerImageVersionId": 30699,
   "isGpuEnabled": true,
   "isInternetEnabled": true,
   "language": "python",
   "sourceType": "notebook"
  },
  "kernelspec": {
   "display_name": "Python 3 (ipykernel)",
   "language": "python",
   "name": "python3"
  },
  "language_info": {
   "codemirror_mode": {
    "name": "ipython",
    "version": 3
   },
   "file_extension": ".py",
   "mimetype": "text/x-python",
   "name": "python",
   "nbconvert_exporter": "python",
   "pygments_lexer": "ipython3",
   "version": "3.9.1"
  }
 },
 "nbformat": 4,
 "nbformat_minor": 4
}
