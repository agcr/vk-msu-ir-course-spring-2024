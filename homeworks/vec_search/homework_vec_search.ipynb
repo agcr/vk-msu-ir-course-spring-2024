{
 "cells": [
  {
   "cell_type": "markdown",
   "id": "0545774c",
   "metadata": {},
   "source": [
    "# Нейросетевые модели поиска. Часть III. Векторный поиск."
   ]
  },
  {
   "cell_type": "markdown",
   "id": "0dbfdfa2",
   "metadata": {},
   "source": [
    "# Домашнее задание"
   ]
  },
  {
   "cell_type": "markdown",
   "id": "c8a3ce41",
   "metadata": {},
   "source": [
    "Цель домашнего задания - научиться строить индексы для векторного поиска на БОЛЬШИХ объемах данных, добиваясь при этом оптимального качества и скорости. Работать будем с уже известным датасетом MS MARCO (точнее, с сэмплом из него). Сэмпл генерируется следующим кодом:"
   ]
  },
  {
   "cell_type": "code",
   "execution_count": 1,
   "id": "96a7ed4f",
   "metadata": {},
   "outputs": [],
   "source": [
    "import datasets\n",
    "from datasets import load_dataset\n",
    "import pandas as pd\n",
    "import numpy as np"
   ]
  },
  {
   "cell_type": "code",
   "execution_count": 3,
   "id": "64fb56d0",
   "metadata": {},
   "outputs": [],
   "source": [
    "msmarco_dataset = load_dataset(\"Tevatron/msmarco-passage\")"
   ]
  },
  {
   "cell_type": "code",
   "execution_count": 4,
   "id": "52a9a819",
   "metadata": {},
   "outputs": [],
   "source": [
    "rows = []\n",
    "i = -1\n",
    "j = -1\n",
    "for row in msmarco_dataset['train']:\n",
    "    i += 1\n",
    "    qid = i\n",
    "    query = row['query']\n",
    "    for pos_ex in row['positive_passages']:\n",
    "        j += 1\n",
    "        docid = j\n",
    "        title = pos_ex['title']\n",
    "        text = pos_ex['text']\n",
    "        mark = 1\n",
    "        rows.append([qid, query, docid, title, text, mark])\n",
    "    for neg_ex in row['negative_passages']:\n",
    "        j += 1\n",
    "        docid = j\n",
    "        title = neg_ex['title']\n",
    "        text = neg_ex['text']\n",
    "        mark = 0\n",
    "        rows.append([qid, query, docid, title, text, mark])\n",
    "df = pd.DataFrame(rows, columns=['qid', 'query', 'docid', 'title', 'text', 'mark'])"
   ]
  },
  {
   "cell_type": "code",
   "execution_count": 5,
   "id": "4fd28fac",
   "metadata": {},
   "outputs": [],
   "source": [
    "df = df[:2000000]\n",
    "df.to_csv('homework_sample.csv', index=False)"
   ]
  },
  {
   "cell_type": "code",
   "execution_count": 6,
   "id": "6d3a29f5",
   "metadata": {},
   "outputs": [
    {
     "data": {
      "text/html": [
       "<div>\n",
       "<style scoped>\n",
       "    .dataframe tbody tr th:only-of-type {\n",
       "        vertical-align: middle;\n",
       "    }\n",
       "\n",
       "    .dataframe tbody tr th {\n",
       "        vertical-align: top;\n",
       "    }\n",
       "\n",
       "    .dataframe thead th {\n",
       "        text-align: right;\n",
       "    }\n",
       "</style>\n",
       "<table border=\"1\" class=\"dataframe\">\n",
       "  <thead>\n",
       "    <tr style=\"text-align: right;\">\n",
       "      <th></th>\n",
       "      <th>qid</th>\n",
       "      <th>query</th>\n",
       "      <th>docid</th>\n",
       "      <th>title</th>\n",
       "      <th>text</th>\n",
       "      <th>mark</th>\n",
       "    </tr>\n",
       "  </thead>\n",
       "  <tbody>\n",
       "    <tr>\n",
       "      <th>0</th>\n",
       "      <td>0</td>\n",
       "      <td>where is whitemarsh island</td>\n",
       "      <td>0</td>\n",
       "      <td>Whitemarsh Island, Georgia</td>\n",
       "      <td>Whitemarsh Island, Georgia. Whitemarsh Island ...</td>\n",
       "      <td>1</td>\n",
       "    </tr>\n",
       "    <tr>\n",
       "      <th>1</th>\n",
       "      <td>0</td>\n",
       "      <td>where is whitemarsh island</td>\n",
       "      <td>1</td>\n",
       "      <td>What military strategy was used in the pacific?</td>\n",
       "      <td>the strategy of island hopping was used by the...</td>\n",
       "      <td>0</td>\n",
       "    </tr>\n",
       "    <tr>\n",
       "      <th>2</th>\n",
       "      <td>0</td>\n",
       "      <td>where is whitemarsh island</td>\n",
       "      <td>2</td>\n",
       "      <td>Whakaari / White Island</td>\n",
       "      <td>For the island near Dunedin, see White Island,...</td>\n",
       "      <td>0</td>\n",
       "    </tr>\n",
       "    <tr>\n",
       "      <th>3</th>\n",
       "      <td>0</td>\n",
       "      <td>where is whitemarsh island</td>\n",
       "      <td>3</td>\n",
       "      <td>Jekyll Island</td>\n",
       "      <td>Jekyll Island, at 5,700 acres, is the smallest...</td>\n",
       "      <td>0</td>\n",
       "    </tr>\n",
       "    <tr>\n",
       "      <th>4</th>\n",
       "      <td>0</td>\n",
       "      <td>where is whitemarsh island</td>\n",
       "      <td>4</td>\n",
       "      <td>Sibu Island</td>\n",
       "      <td>Sibu Island. A scuba diver at Sibu Island. Sib...</td>\n",
       "      <td>0</td>\n",
       "    </tr>\n",
       "    <tr>\n",
       "      <th>...</th>\n",
       "      <td>...</td>\n",
       "      <td>...</td>\n",
       "      <td>...</td>\n",
       "      <td>...</td>\n",
       "      <td>...</td>\n",
       "      <td>...</td>\n",
       "    </tr>\n",
       "    <tr>\n",
       "      <th>1999995</th>\n",
       "      <td>64923</td>\n",
       "      <td>richest man in mexico net worth</td>\n",
       "      <td>1999995</td>\n",
       "      <td>-</td>\n",
       "      <td>6. The next name on the list of richest actors...</td>\n",
       "      <td>0</td>\n",
       "    </tr>\n",
       "    <tr>\n",
       "      <th>1999996</th>\n",
       "      <td>64923</td>\n",
       "      <td>richest man in mexico net worth</td>\n",
       "      <td>1999996</td>\n",
       "      <td>-</td>\n",
       "      <td>[image via JJ Duncan] 1  Billy Ray Cyrus Net W...</td>\n",
       "      <td>0</td>\n",
       "    </tr>\n",
       "    <tr>\n",
       "      <th>1999997</th>\n",
       "      <td>64923</td>\n",
       "      <td>richest man in mexico net worth</td>\n",
       "      <td>1999997</td>\n",
       "      <td>-</td>\n",
       "      <td>Jeff Bezos is the founder of Amazon, and one o...</td>\n",
       "      <td>0</td>\n",
       "    </tr>\n",
       "    <tr>\n",
       "      <th>1999998</th>\n",
       "      <td>64923</td>\n",
       "      <td>richest man in mexico net worth</td>\n",
       "      <td>1999998</td>\n",
       "      <td>-</td>\n",
       "      <td>Similar Celebrities: 1  Jeremy Mayfield Net Wo...</td>\n",
       "      <td>0</td>\n",
       "    </tr>\n",
       "    <tr>\n",
       "      <th>1999999</th>\n",
       "      <td>64923</td>\n",
       "      <td>richest man in mexico net worth</td>\n",
       "      <td>1999999</td>\n",
       "      <td>Jeff Bezos is now worth $100 billion</td>\n",
       "      <td>Bezos, the founder and largest shareholder of ...</td>\n",
       "      <td>0</td>\n",
       "    </tr>\n",
       "  </tbody>\n",
       "</table>\n",
       "<p>2000000 rows × 6 columns</p>\n",
       "</div>"
      ],
      "text/plain": [
       "           qid                            query    docid  \\\n",
       "0            0       where is whitemarsh island        0   \n",
       "1            0       where is whitemarsh island        1   \n",
       "2            0       where is whitemarsh island        2   \n",
       "3            0       where is whitemarsh island        3   \n",
       "4            0       where is whitemarsh island        4   \n",
       "...        ...                              ...      ...   \n",
       "1999995  64923  richest man in mexico net worth  1999995   \n",
       "1999996  64923  richest man in mexico net worth  1999996   \n",
       "1999997  64923  richest man in mexico net worth  1999997   \n",
       "1999998  64923  richest man in mexico net worth  1999998   \n",
       "1999999  64923  richest man in mexico net worth  1999999   \n",
       "\n",
       "                                                   title  \\\n",
       "0                             Whitemarsh Island, Georgia   \n",
       "1        What military strategy was used in the pacific?   \n",
       "2                                Whakaari / White Island   \n",
       "3                                          Jekyll Island   \n",
       "4                                            Sibu Island   \n",
       "...                                                  ...   \n",
       "1999995                                                -   \n",
       "1999996                                                -   \n",
       "1999997                                                -   \n",
       "1999998                                                -   \n",
       "1999999             Jeff Bezos is now worth $100 billion   \n",
       "\n",
       "                                                      text  mark  \n",
       "0        Whitemarsh Island, Georgia. Whitemarsh Island ...     1  \n",
       "1        the strategy of island hopping was used by the...     0  \n",
       "2        For the island near Dunedin, see White Island,...     0  \n",
       "3        Jekyll Island, at 5,700 acres, is the smallest...     0  \n",
       "4        Sibu Island. A scuba diver at Sibu Island. Sib...     0  \n",
       "...                                                    ...   ...  \n",
       "1999995  6. The next name on the list of richest actors...     0  \n",
       "1999996  [image via JJ Duncan] 1  Billy Ray Cyrus Net W...     0  \n",
       "1999997  Jeff Bezos is the founder of Amazon, and one o...     0  \n",
       "1999998  Similar Celebrities: 1  Jeremy Mayfield Net Wo...     0  \n",
       "1999999  Bezos, the founder and largest shareholder of ...     0  \n",
       "\n",
       "[2000000 rows x 6 columns]"
      ]
     },
     "execution_count": 6,
     "metadata": {},
     "output_type": "execute_result"
    }
   ],
   "source": [
    "df"
   ]
  },
  {
   "cell_type": "markdown",
   "id": "388c6d6b",
   "metadata": {},
   "source": [
    "Баллы начисляются за выполнение следующих заданий:"
   ]
  },
  {
   "cell_type": "markdown",
   "id": "64130194",
   "metadata": {},
   "source": [
    "# Предобработка данных [1 балл]"
   ]
  },
  {
   "cell_type": "markdown",
   "id": "028c092b",
   "metadata": {},
   "source": [
    "Возможно, прежде чем строить эмбеддинги из текстовых данных, стоит их предобработать? (использовать не только зону text, что-то сделать с пунктуацией, использовать зону не целиком). В случае использования только СЫРОЙ зоны text (как на семинаре) бал начислен не будет"
   ]
  },
  {
   "cell_type": "markdown",
   "id": "a758c42e",
   "metadata": {},
   "source": [
    "# Подбор нейронки [1 балл]"
   ]
  },
  {
   "cell_type": "markdown",
   "id": "8ec4a61b",
   "metadata": {},
   "source": [
    "На семинаре для варки эмбеддингов использовался Universal Sentence Encoder. Возможно, стоит попробовать что-то другое? (балл будет начислен в том случае, если для варки индексов из следующих пунктов будет использована/ы другая/ие нейронки - да, использовать разные нейронки для разных индексов можно)"
   ]
  },
  {
   "cell_type": "markdown",
   "id": "b65fbc0a",
   "metadata": {},
   "source": [
    "# Метрика для оценки качества [1 балл]"
   ]
  },
  {
   "cell_type": "markdown",
   "id": "5248aa02",
   "metadata": {},
   "source": [
    "Нужно реализовать метрику для оценки качества индексов - ndcg@10"
   ]
  },
  {
   "cell_type": "markdown",
   "id": "64d3985c",
   "metadata": {},
   "source": [
    "# Варка и инференс индексов [до 9 баллов]"
   ]
  },
  {
   "cell_type": "markdown",
   "id": "8eef768a",
   "metadata": {},
   "source": [
    "В рамках этой части задания нужно сварить индексы 3 типов - annoy, faiss, hnswlib. Параметры можно выбирать любые (стоит ориентироваться на качество индекса, требуемую память и перф (см. ниже).)"
   ]
  },
  {
   "cell_type": "markdown",
   "id": "edb5cc6c",
   "metadata": {},
   "source": [
    "За 1 индекс можно получить:\n",
    "\n",
    "    1 балл,  если индекс состоит из  300000 документов\n",
    "    2 балла, если индекс состоит из 1000000 документов\n",
    "    3 балла, если индекс состоит из 2000000 документов"
   ]
  },
  {
   "cell_type": "markdown",
   "id": "b6118ba6",
   "metadata": {},
   "source": [
    "Важно:"
   ]
  },
  {
   "cell_type": "markdown",
   "id": "86577172",
   "metadata": {},
   "source": [
    "1. Эмбеддинги, которые кладутся в индекс, должны быть сгенерированы нейронкой и соответствовать документам из датасета, иначе баллы аннулируются (сложить 2 миллиона эмбеддингов вида [1,1,1,...,1] нельзя)"
   ]
  },
  {
   "cell_type": "markdown",
   "id": "4b42ffbb",
   "metadata": {},
   "source": [
    "2. Чтобы получить баллы за индекс, необходимо не только сварить, но и проинференсить его: прогнать на нем набор запросов из датасета (~65k), оценить качество результата (используя метрику ndcg@10), оценить время инференса (напр., так как в семинаре). Без этого баллы начислены не будут"
   ]
  },
  {
   "cell_type": "markdown",
   "id": "11e000d5",
   "metadata": {},
   "source": [
    "3. При варке и инференсе индекса нельзя использовать больше 16GB оперативной памяти (иначе начислится 0 баллов)"
   ]
  },
  {
   "cell_type": "markdown",
   "id": "e2134a2f",
   "metadata": {},
   "source": [
    "# Соревнование [до 10 баллов]"
   ]
  },
  {
   "cell_type": "markdown",
   "id": "a8d2168b",
   "metadata": {},
   "source": [
    "Проводится среди индексов размерами 2000000 документов (остальные не оцениваются) в двух дисциплинах: по качеству (величина ndcg@10) и скорости (насколько быстро удалось прогнать полный набор запросов на этом индексе)"
   ]
  },
  {
   "cell_type": "markdown",
   "id": "1e09e448",
   "metadata": {},
   "source": [
    "Оценивается только один индекс (указывается сдающим домашку) - если вы сварили 3 индекса по 2 миллиона доков каждый, то укажите, какой участвует в соревновании (напишите в ноутбуке). Иначе выбор будет сделан рандомно из доступных вариантов"
   ]
  },
  {
   "cell_type": "markdown",
   "id": "b1c25204",
   "metadata": {},
   "source": [
    "Разбалловка:"
   ]
  },
  {
   "cell_type": "markdown",
   "id": "cdd82486",
   "metadata": {},
   "source": [
    "\n",
    "За первое место по качеству: 5 баллов\n",
    "    \n",
    "За второе место по качеству: 3 балла\n",
    "    \n",
    "За все остальные места по качеству, кроме последнего: 1 балл"
   ]
  },
  {
   "cell_type": "markdown",
   "id": "b314653c",
   "metadata": {},
   "source": [
    "За первое место по скорости (при не последнем месте по качеству): 5 баллов\n",
    "\n",
    "За второе место по скорости (при не последнем месте по качеству): 3 балла\n",
    "\n",
    "За все остальные места по скорости (при не последнем месте по качеству), кроме последнего: 1 балл"
   ]
  },
  {
   "cell_type": "markdown",
   "id": "2a9f56b9",
   "metadata": {},
   "source": [
    "# Процедура сдачи"
   ]
  },
  {
   "cell_type": "markdown",
   "id": "e10385cc",
   "metadata": {},
   "source": [
    "**Вам надо:**\n",
    "\n",
    "- Форкнуть эту репу;\n",
    "- Создать бранч, в котором вы дальше будете работать;\n",
    "- Выполнить все или часть заданий ноутбука;\n",
    "- Запушить ваш бранч и поставить Pull Request.\n",
    "\n",
    "Проверяющий счекаутит вашу бранчу и проверит работу."
   ]
  }
 ],
 "metadata": {
  "kernelspec": {
   "display_name": "Python 3 (ipykernel)",
   "language": "python",
   "name": "python3"
  },
  "language_info": {
   "codemirror_mode": {
    "name": "ipython",
    "version": 3
   },
   "file_extension": ".py",
   "mimetype": "text/x-python",
   "name": "python",
   "nbconvert_exporter": "python",
   "pygments_lexer": "ipython3",
   "version": "3.9.7"
  }
 },
 "nbformat": 4,
 "nbformat_minor": 5
}
