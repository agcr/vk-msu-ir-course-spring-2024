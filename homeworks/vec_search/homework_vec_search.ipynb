{
  "cells": [
    {
      "cell_type": "markdown",
      "id": "0545774c",
      "metadata": {
        "id": "0545774c"
      },
      "source": [
        "# Нейросетевые модели поиска. Часть III. Векторный поиск."
      ]
    },
    {
      "cell_type": "markdown",
      "id": "0dbfdfa2",
      "metadata": {
        "id": "0dbfdfa2"
      },
      "source": [
        "# Домашнее задание"
      ]
    },
    {
      "cell_type": "markdown",
      "id": "c8a3ce41",
      "metadata": {
        "id": "c8a3ce41"
      },
      "source": [
        "Цель домашнего задания - научиться строить индексы для векторного поиска на БОЛЬШИХ объемах данных, добиваясь при этом оптимального качества и скорости. Работать будем с уже известным датасетом MS MARCO (точнее, с сэмплом из него). Сэмпл генерируется следующим кодом:"
      ]
    },
    {
      "cell_type": "code",
      "source": [
        "!pip install datasets"
      ],
      "metadata": {
        "id": "KMxXH4EReFbU"
      },
      "id": "KMxXH4EReFbU",
      "execution_count": null,
      "outputs": []
    },
    {
      "cell_type": "code",
      "execution_count": 2,
      "id": "96a7ed4f",
      "metadata": {
        "id": "96a7ed4f"
      },
      "outputs": [],
      "source": [
        "import datasets\n",
        "from datasets import load_dataset\n",
        "import pandas as pd\n",
        "import numpy as np"
      ]
    },
    {
      "cell_type": "code",
      "execution_count": null,
      "id": "64fb56d0",
      "metadata": {
        "id": "64fb56d0"
      },
      "outputs": [],
      "source": [
        "msmarco_dataset = load_dataset(\"Tevatron/msmarco-passage\")"
      ]
    },
    {
      "cell_type": "code",
      "execution_count": 4,
      "id": "52a9a819",
      "metadata": {
        "id": "52a9a819"
      },
      "outputs": [],
      "source": [
        "rows = []\n",
        "i = -1\n",
        "j = -1\n",
        "for row in msmarco_dataset['train']:\n",
        "    i += 1\n",
        "    qid = i\n",
        "    query = row['query']\n",
        "    for pos_ex in row['positive_passages']:\n",
        "        j += 1\n",
        "        docid = j\n",
        "        title = pos_ex['title']\n",
        "        text = pos_ex['text']\n",
        "        mark = 1\n",
        "        rows.append([qid, query, docid, title, text, mark])\n",
        "    for neg_ex in row['negative_passages']:\n",
        "        j += 1\n",
        "        docid = j\n",
        "        title = neg_ex['title']\n",
        "        text = neg_ex['text']\n",
        "        mark = 0\n",
        "        rows.append([qid, query, docid, title, text, mark])\n",
        "df = pd.DataFrame(rows, columns=['qid', 'query', 'docid', 'title', 'text', 'mark'])"
      ]
    },
    {
      "cell_type": "code",
      "execution_count": 5,
      "id": "4fd28fac",
      "metadata": {
        "id": "4fd28fac"
      },
      "outputs": [],
      "source": [
        "df = df[:2000000]\n",
        "df.to_csv('homework_sample.csv', index=False)"
      ]
    },
    {
      "cell_type": "code",
      "execution_count": 6,
      "metadata": {
        "outputId": "1553ce12-1cbb-478b-b9bc-f75d960c0f86",
        "colab": {
          "base_uri": "https://localhost:8080/",
          "height": 892
        },
        "id": "Cn0AdR4neD1d"
      },
      "outputs": [
        {
          "output_type": "execute_result",
          "data": {
            "text/plain": [
              "           qid                            query    docid  \\\n",
              "0            0       where is whitemarsh island        0   \n",
              "1            0       where is whitemarsh island        1   \n",
              "2            0       where is whitemarsh island        2   \n",
              "3            0       where is whitemarsh island        3   \n",
              "4            0       where is whitemarsh island        4   \n",
              "...        ...                              ...      ...   \n",
              "1999995  64923  richest man in mexico net worth  1999995   \n",
              "1999996  64923  richest man in mexico net worth  1999996   \n",
              "1999997  64923  richest man in mexico net worth  1999997   \n",
              "1999998  64923  richest man in mexico net worth  1999998   \n",
              "1999999  64923  richest man in mexico net worth  1999999   \n",
              "\n",
              "                                                   title  \\\n",
              "0                             Whitemarsh Island, Georgia   \n",
              "1        What military strategy was used in the pacific?   \n",
              "2                                Whakaari / White Island   \n",
              "3                                          Jekyll Island   \n",
              "4                                            Sibu Island   \n",
              "...                                                  ...   \n",
              "1999995                                                -   \n",
              "1999996                                                -   \n",
              "1999997                                                -   \n",
              "1999998                                                -   \n",
              "1999999             Jeff Bezos is now worth $100 billion   \n",
              "\n",
              "                                                      text  mark  \n",
              "0        Whitemarsh Island, Georgia. Whitemarsh Island ...     1  \n",
              "1        the strategy of island hopping was used by the...     0  \n",
              "2        For the island near Dunedin, see White Island,...     0  \n",
              "3        Jekyll Island, at 5,700 acres, is the smallest...     0  \n",
              "4        Sibu Island. A scuba diver at Sibu Island. Sib...     0  \n",
              "...                                                    ...   ...  \n",
              "1999995  6. The next name on the list of richest actors...     0  \n",
              "1999996  [image via JJ Duncan] 1  Billy Ray Cyrus Net W...     0  \n",
              "1999997  Jeff Bezos is the founder of Amazon, and one o...     0  \n",
              "1999998  Similar Celebrities: 1  Jeremy Mayfield Net Wo...     0  \n",
              "1999999  Bezos, the founder and largest shareholder of ...     0  \n",
              "\n",
              "[2000000 rows x 6 columns]"
            ],
            "text/html": [
              "\n",
              "  <div id=\"df-32e362ae-7dff-4b47-90c5-d1ffd3af750b\" class=\"colab-df-container\">\n",
              "    <div>\n",
              "<style scoped>\n",
              "    .dataframe tbody tr th:only-of-type {\n",
              "        vertical-align: middle;\n",
              "    }\n",
              "\n",
              "    .dataframe tbody tr th {\n",
              "        vertical-align: top;\n",
              "    }\n",
              "\n",
              "    .dataframe thead th {\n",
              "        text-align: right;\n",
              "    }\n",
              "</style>\n",
              "<table border=\"1\" class=\"dataframe\">\n",
              "  <thead>\n",
              "    <tr style=\"text-align: right;\">\n",
              "      <th></th>\n",
              "      <th>qid</th>\n",
              "      <th>query</th>\n",
              "      <th>docid</th>\n",
              "      <th>title</th>\n",
              "      <th>text</th>\n",
              "      <th>mark</th>\n",
              "    </tr>\n",
              "  </thead>\n",
              "  <tbody>\n",
              "    <tr>\n",
              "      <th>0</th>\n",
              "      <td>0</td>\n",
              "      <td>where is whitemarsh island</td>\n",
              "      <td>0</td>\n",
              "      <td>Whitemarsh Island, Georgia</td>\n",
              "      <td>Whitemarsh Island, Georgia. Whitemarsh Island ...</td>\n",
              "      <td>1</td>\n",
              "    </tr>\n",
              "    <tr>\n",
              "      <th>1</th>\n",
              "      <td>0</td>\n",
              "      <td>where is whitemarsh island</td>\n",
              "      <td>1</td>\n",
              "      <td>What military strategy was used in the pacific?</td>\n",
              "      <td>the strategy of island hopping was used by the...</td>\n",
              "      <td>0</td>\n",
              "    </tr>\n",
              "    <tr>\n",
              "      <th>2</th>\n",
              "      <td>0</td>\n",
              "      <td>where is whitemarsh island</td>\n",
              "      <td>2</td>\n",
              "      <td>Whakaari / White Island</td>\n",
              "      <td>For the island near Dunedin, see White Island,...</td>\n",
              "      <td>0</td>\n",
              "    </tr>\n",
              "    <tr>\n",
              "      <th>3</th>\n",
              "      <td>0</td>\n",
              "      <td>where is whitemarsh island</td>\n",
              "      <td>3</td>\n",
              "      <td>Jekyll Island</td>\n",
              "      <td>Jekyll Island, at 5,700 acres, is the smallest...</td>\n",
              "      <td>0</td>\n",
              "    </tr>\n",
              "    <tr>\n",
              "      <th>4</th>\n",
              "      <td>0</td>\n",
              "      <td>where is whitemarsh island</td>\n",
              "      <td>4</td>\n",
              "      <td>Sibu Island</td>\n",
              "      <td>Sibu Island. A scuba diver at Sibu Island. Sib...</td>\n",
              "      <td>0</td>\n",
              "    </tr>\n",
              "    <tr>\n",
              "      <th>...</th>\n",
              "      <td>...</td>\n",
              "      <td>...</td>\n",
              "      <td>...</td>\n",
              "      <td>...</td>\n",
              "      <td>...</td>\n",
              "      <td>...</td>\n",
              "    </tr>\n",
              "    <tr>\n",
              "      <th>1999995</th>\n",
              "      <td>64923</td>\n",
              "      <td>richest man in mexico net worth</td>\n",
              "      <td>1999995</td>\n",
              "      <td>-</td>\n",
              "      <td>6. The next name on the list of richest actors...</td>\n",
              "      <td>0</td>\n",
              "    </tr>\n",
              "    <tr>\n",
              "      <th>1999996</th>\n",
              "      <td>64923</td>\n",
              "      <td>richest man in mexico net worth</td>\n",
              "      <td>1999996</td>\n",
              "      <td>-</td>\n",
              "      <td>[image via JJ Duncan] 1  Billy Ray Cyrus Net W...</td>\n",
              "      <td>0</td>\n",
              "    </tr>\n",
              "    <tr>\n",
              "      <th>1999997</th>\n",
              "      <td>64923</td>\n",
              "      <td>richest man in mexico net worth</td>\n",
              "      <td>1999997</td>\n",
              "      <td>-</td>\n",
              "      <td>Jeff Bezos is the founder of Amazon, and one o...</td>\n",
              "      <td>0</td>\n",
              "    </tr>\n",
              "    <tr>\n",
              "      <th>1999998</th>\n",
              "      <td>64923</td>\n",
              "      <td>richest man in mexico net worth</td>\n",
              "      <td>1999998</td>\n",
              "      <td>-</td>\n",
              "      <td>Similar Celebrities: 1  Jeremy Mayfield Net Wo...</td>\n",
              "      <td>0</td>\n",
              "    </tr>\n",
              "    <tr>\n",
              "      <th>1999999</th>\n",
              "      <td>64923</td>\n",
              "      <td>richest man in mexico net worth</td>\n",
              "      <td>1999999</td>\n",
              "      <td>Jeff Bezos is now worth $100 billion</td>\n",
              "      <td>Bezos, the founder and largest shareholder of ...</td>\n",
              "      <td>0</td>\n",
              "    </tr>\n",
              "  </tbody>\n",
              "</table>\n",
              "<p>2000000 rows × 6 columns</p>\n",
              "</div>\n",
              "    <div class=\"colab-df-buttons\">\n",
              "\n",
              "  <div class=\"colab-df-container\">\n",
              "    <button class=\"colab-df-convert\" onclick=\"convertToInteractive('df-32e362ae-7dff-4b47-90c5-d1ffd3af750b')\"\n",
              "            title=\"Convert this dataframe to an interactive table.\"\n",
              "            style=\"display:none;\">\n",
              "\n",
              "  <svg xmlns=\"http://www.w3.org/2000/svg\" height=\"24px\" viewBox=\"0 -960 960 960\">\n",
              "    <path d=\"M120-120v-720h720v720H120Zm60-500h600v-160H180v160Zm220 220h160v-160H400v160Zm0 220h160v-160H400v160ZM180-400h160v-160H180v160Zm440 0h160v-160H620v160ZM180-180h160v-160H180v160Zm440 0h160v-160H620v160Z\"/>\n",
              "  </svg>\n",
              "    </button>\n",
              "\n",
              "  <style>\n",
              "    .colab-df-container {\n",
              "      display:flex;\n",
              "      gap: 12px;\n",
              "    }\n",
              "\n",
              "    .colab-df-convert {\n",
              "      background-color: #E8F0FE;\n",
              "      border: none;\n",
              "      border-radius: 50%;\n",
              "      cursor: pointer;\n",
              "      display: none;\n",
              "      fill: #1967D2;\n",
              "      height: 32px;\n",
              "      padding: 0 0 0 0;\n",
              "      width: 32px;\n",
              "    }\n",
              "\n",
              "    .colab-df-convert:hover {\n",
              "      background-color: #E2EBFA;\n",
              "      box-shadow: 0px 1px 2px rgba(60, 64, 67, 0.3), 0px 1px 3px 1px rgba(60, 64, 67, 0.15);\n",
              "      fill: #174EA6;\n",
              "    }\n",
              "\n",
              "    .colab-df-buttons div {\n",
              "      margin-bottom: 4px;\n",
              "    }\n",
              "\n",
              "    [theme=dark] .colab-df-convert {\n",
              "      background-color: #3B4455;\n",
              "      fill: #D2E3FC;\n",
              "    }\n",
              "\n",
              "    [theme=dark] .colab-df-convert:hover {\n",
              "      background-color: #434B5C;\n",
              "      box-shadow: 0px 1px 3px 1px rgba(0, 0, 0, 0.15);\n",
              "      filter: drop-shadow(0px 1px 2px rgba(0, 0, 0, 0.3));\n",
              "      fill: #FFFFFF;\n",
              "    }\n",
              "  </style>\n",
              "\n",
              "    <script>\n",
              "      const buttonEl =\n",
              "        document.querySelector('#df-32e362ae-7dff-4b47-90c5-d1ffd3af750b button.colab-df-convert');\n",
              "      buttonEl.style.display =\n",
              "        google.colab.kernel.accessAllowed ? 'block' : 'none';\n",
              "\n",
              "      async function convertToInteractive(key) {\n",
              "        const element = document.querySelector('#df-32e362ae-7dff-4b47-90c5-d1ffd3af750b');\n",
              "        const dataTable =\n",
              "          await google.colab.kernel.invokeFunction('convertToInteractive',\n",
              "                                                    [key], {});\n",
              "        if (!dataTable) return;\n",
              "\n",
              "        const docLinkHtml = 'Like what you see? Visit the ' +\n",
              "          '<a target=\"_blank\" href=https://colab.research.google.com/notebooks/data_table.ipynb>data table notebook</a>'\n",
              "          + ' to learn more about interactive tables.';\n",
              "        element.innerHTML = '';\n",
              "        dataTable['output_type'] = 'display_data';\n",
              "        await google.colab.output.renderOutput(dataTable, element);\n",
              "        const docLink = document.createElement('div');\n",
              "        docLink.innerHTML = docLinkHtml;\n",
              "        element.appendChild(docLink);\n",
              "      }\n",
              "    </script>\n",
              "  </div>\n",
              "\n",
              "\n",
              "<div id=\"df-992ba901-fb9e-4dc6-b424-c57e4f374942\">\n",
              "  <button class=\"colab-df-quickchart\" onclick=\"quickchart('df-992ba901-fb9e-4dc6-b424-c57e4f374942')\"\n",
              "            title=\"Suggest charts\"\n",
              "            style=\"display:none;\">\n",
              "\n",
              "<svg xmlns=\"http://www.w3.org/2000/svg\" height=\"24px\"viewBox=\"0 0 24 24\"\n",
              "     width=\"24px\">\n",
              "    <g>\n",
              "        <path d=\"M19 3H5c-1.1 0-2 .9-2 2v14c0 1.1.9 2 2 2h14c1.1 0 2-.9 2-2V5c0-1.1-.9-2-2-2zM9 17H7v-7h2v7zm4 0h-2V7h2v10zm4 0h-2v-4h2v4z\"/>\n",
              "    </g>\n",
              "</svg>\n",
              "  </button>\n",
              "\n",
              "<style>\n",
              "  .colab-df-quickchart {\n",
              "      --bg-color: #E8F0FE;\n",
              "      --fill-color: #1967D2;\n",
              "      --hover-bg-color: #E2EBFA;\n",
              "      --hover-fill-color: #174EA6;\n",
              "      --disabled-fill-color: #AAA;\n",
              "      --disabled-bg-color: #DDD;\n",
              "  }\n",
              "\n",
              "  [theme=dark] .colab-df-quickchart {\n",
              "      --bg-color: #3B4455;\n",
              "      --fill-color: #D2E3FC;\n",
              "      --hover-bg-color: #434B5C;\n",
              "      --hover-fill-color: #FFFFFF;\n",
              "      --disabled-bg-color: #3B4455;\n",
              "      --disabled-fill-color: #666;\n",
              "  }\n",
              "\n",
              "  .colab-df-quickchart {\n",
              "    background-color: var(--bg-color);\n",
              "    border: none;\n",
              "    border-radius: 50%;\n",
              "    cursor: pointer;\n",
              "    display: none;\n",
              "    fill: var(--fill-color);\n",
              "    height: 32px;\n",
              "    padding: 0;\n",
              "    width: 32px;\n",
              "  }\n",
              "\n",
              "  .colab-df-quickchart:hover {\n",
              "    background-color: var(--hover-bg-color);\n",
              "    box-shadow: 0 1px 2px rgba(60, 64, 67, 0.3), 0 1px 3px 1px rgba(60, 64, 67, 0.15);\n",
              "    fill: var(--button-hover-fill-color);\n",
              "  }\n",
              "\n",
              "  .colab-df-quickchart-complete:disabled,\n",
              "  .colab-df-quickchart-complete:disabled:hover {\n",
              "    background-color: var(--disabled-bg-color);\n",
              "    fill: var(--disabled-fill-color);\n",
              "    box-shadow: none;\n",
              "  }\n",
              "\n",
              "  .colab-df-spinner {\n",
              "    border: 2px solid var(--fill-color);\n",
              "    border-color: transparent;\n",
              "    border-bottom-color: var(--fill-color);\n",
              "    animation:\n",
              "      spin 1s steps(1) infinite;\n",
              "  }\n",
              "\n",
              "  @keyframes spin {\n",
              "    0% {\n",
              "      border-color: transparent;\n",
              "      border-bottom-color: var(--fill-color);\n",
              "      border-left-color: var(--fill-color);\n",
              "    }\n",
              "    20% {\n",
              "      border-color: transparent;\n",
              "      border-left-color: var(--fill-color);\n",
              "      border-top-color: var(--fill-color);\n",
              "    }\n",
              "    30% {\n",
              "      border-color: transparent;\n",
              "      border-left-color: var(--fill-color);\n",
              "      border-top-color: var(--fill-color);\n",
              "      border-right-color: var(--fill-color);\n",
              "    }\n",
              "    40% {\n",
              "      border-color: transparent;\n",
              "      border-right-color: var(--fill-color);\n",
              "      border-top-color: var(--fill-color);\n",
              "    }\n",
              "    60% {\n",
              "      border-color: transparent;\n",
              "      border-right-color: var(--fill-color);\n",
              "    }\n",
              "    80% {\n",
              "      border-color: transparent;\n",
              "      border-right-color: var(--fill-color);\n",
              "      border-bottom-color: var(--fill-color);\n",
              "    }\n",
              "    90% {\n",
              "      border-color: transparent;\n",
              "      border-bottom-color: var(--fill-color);\n",
              "    }\n",
              "  }\n",
              "</style>\n",
              "\n",
              "  <script>\n",
              "    async function quickchart(key) {\n",
              "      const quickchartButtonEl =\n",
              "        document.querySelector('#' + key + ' button');\n",
              "      quickchartButtonEl.disabled = true;  // To prevent multiple clicks.\n",
              "      quickchartButtonEl.classList.add('colab-df-spinner');\n",
              "      try {\n",
              "        const charts = await google.colab.kernel.invokeFunction(\n",
              "            'suggestCharts', [key], {});\n",
              "      } catch (error) {\n",
              "        console.error('Error during call to suggestCharts:', error);\n",
              "      }\n",
              "      quickchartButtonEl.classList.remove('colab-df-spinner');\n",
              "      quickchartButtonEl.classList.add('colab-df-quickchart-complete');\n",
              "    }\n",
              "    (() => {\n",
              "      let quickchartButtonEl =\n",
              "        document.querySelector('#df-992ba901-fb9e-4dc6-b424-c57e4f374942 button');\n",
              "      quickchartButtonEl.style.display =\n",
              "        google.colab.kernel.accessAllowed ? 'block' : 'none';\n",
              "    })();\n",
              "  </script>\n",
              "</div>\n",
              "    </div>\n",
              "  </div>\n"
            ],
            "application/vnd.google.colaboratory.intrinsic+json": {
              "type": "dataframe",
              "variable_name": "df"
            }
          },
          "metadata": {},
          "execution_count": 6
        }
      ],
      "source": [
        "df"
      ],
      "id": "Cn0AdR4neD1d"
    },
    {
      "cell_type": "markdown",
      "id": "388c6d6b",
      "metadata": {
        "id": "388c6d6b"
      },
      "source": [
        "Баллы начисляются за выполнение следующих заданий:"
      ]
    },
    {
      "cell_type": "markdown",
      "id": "64130194",
      "metadata": {
        "id": "64130194"
      },
      "source": [
        "# Предобработка данных [2 балла]"
      ]
    },
    {
      "cell_type": "markdown",
      "id": "028c092b",
      "metadata": {
        "id": "028c092b"
      },
      "source": [
        "Возможно, прежде чем строить эмбеддинги из текстовых данных, стоит их предобработать? (использовать не только зону text, что-то сделать с пунктуацией, использовать зону не целиком). В случае использования только СЫРОЙ зоны text (как на семинаре) бал начислен не будет"
      ]
    },
    {
      "cell_type": "code",
      "source": [
        "df = pd.read_csv('homework_sample.csv')\n",
        "df"
      ],
      "metadata": {
        "id": "3MaOxiNujleI"
      },
      "id": "3MaOxiNujleI",
      "execution_count": null,
      "outputs": []
    },
    {
      "cell_type": "code",
      "source": [
        "# Объединение текста с его названием и приведение к нижнему регистру\n",
        "df['full_text'] = (df['title'] + '. ' + df['text']).str.lower()\n",
        "df = df.drop(columns=['title', 'text'])\n",
        "df"
      ],
      "metadata": {
        "colab": {
          "base_uri": "https://localhost:8080/",
          "height": 1000
        },
        "id": "gjetLKKbe9Wr",
        "outputId": "ebdbd715-5db0-4204-c8aa-f7f35a57276d"
      },
      "id": "gjetLKKbe9Wr",
      "execution_count": 7,
      "outputs": [
        {
          "output_type": "execute_result",
          "data": {
            "text/plain": [
              "           qid                            query    docid  \\\n",
              "0            0       where is whitemarsh island        0   \n",
              "1            0       where is whitemarsh island        1   \n",
              "2            0       where is whitemarsh island        2   \n",
              "3            0       where is whitemarsh island        3   \n",
              "4            0       where is whitemarsh island        4   \n",
              "...        ...                              ...      ...   \n",
              "1999995  64923  richest man in mexico net worth  1999995   \n",
              "1999996  64923  richest man in mexico net worth  1999996   \n",
              "1999997  64923  richest man in mexico net worth  1999997   \n",
              "1999998  64923  richest man in mexico net worth  1999998   \n",
              "1999999  64923  richest man in mexico net worth  1999999   \n",
              "\n",
              "                                                   title  \\\n",
              "0                             Whitemarsh Island, Georgia   \n",
              "1        What military strategy was used in the pacific?   \n",
              "2                                Whakaari / White Island   \n",
              "3                                          Jekyll Island   \n",
              "4                                            Sibu Island   \n",
              "...                                                  ...   \n",
              "1999995                                                -   \n",
              "1999996                                                -   \n",
              "1999997                                                -   \n",
              "1999998                                                -   \n",
              "1999999             Jeff Bezos is now worth $100 billion   \n",
              "\n",
              "                                                      text  mark  \\\n",
              "0        Whitemarsh Island, Georgia. Whitemarsh Island ...     1   \n",
              "1        the strategy of island hopping was used by the...     0   \n",
              "2        For the island near Dunedin, see White Island,...     0   \n",
              "3        Jekyll Island, at 5,700 acres, is the smallest...     0   \n",
              "4        Sibu Island. A scuba diver at Sibu Island. Sib...     0   \n",
              "...                                                    ...   ...   \n",
              "1999995  6. The next name on the list of richest actors...     0   \n",
              "1999996  [image via JJ Duncan] 1  Billy Ray Cyrus Net W...     0   \n",
              "1999997  Jeff Bezos is the founder of Amazon, and one o...     0   \n",
              "1999998  Similar Celebrities: 1  Jeremy Mayfield Net Wo...     0   \n",
              "1999999  Bezos, the founder and largest shareholder of ...     0   \n",
              "\n",
              "                                                 full_text  \n",
              "0        whitemarsh island, georgia. whitemarsh island,...  \n",
              "1        what military strategy was used in the pacific...  \n",
              "2        whakaari / white island. for the island near d...  \n",
              "3        jekyll island. jekyll island, at 5,700 acres, ...  \n",
              "4        sibu island. sibu island. a scuba diver at sib...  \n",
              "...                                                    ...  \n",
              "1999995  -. 6. the next name on the list of richest act...  \n",
              "1999996  -. [image via jj duncan] 1  billy ray cyrus ne...  \n",
              "1999997  -. jeff bezos is the founder of amazon, and on...  \n",
              "1999998  -. similar celebrities: 1  jeremy mayfield net...  \n",
              "1999999  jeff bezos is now worth $100 billion. bezos, t...  \n",
              "\n",
              "[2000000 rows x 7 columns]"
            ],
            "text/html": [
              "\n",
              "  <div id=\"df-a0cd21cc-0d18-4200-8e53-9f78eb3a51d1\" class=\"colab-df-container\">\n",
              "    <div>\n",
              "<style scoped>\n",
              "    .dataframe tbody tr th:only-of-type {\n",
              "        vertical-align: middle;\n",
              "    }\n",
              "\n",
              "    .dataframe tbody tr th {\n",
              "        vertical-align: top;\n",
              "    }\n",
              "\n",
              "    .dataframe thead th {\n",
              "        text-align: right;\n",
              "    }\n",
              "</style>\n",
              "<table border=\"1\" class=\"dataframe\">\n",
              "  <thead>\n",
              "    <tr style=\"text-align: right;\">\n",
              "      <th></th>\n",
              "      <th>qid</th>\n",
              "      <th>query</th>\n",
              "      <th>docid</th>\n",
              "      <th>title</th>\n",
              "      <th>text</th>\n",
              "      <th>mark</th>\n",
              "      <th>full_text</th>\n",
              "    </tr>\n",
              "  </thead>\n",
              "  <tbody>\n",
              "    <tr>\n",
              "      <th>0</th>\n",
              "      <td>0</td>\n",
              "      <td>where is whitemarsh island</td>\n",
              "      <td>0</td>\n",
              "      <td>Whitemarsh Island, Georgia</td>\n",
              "      <td>Whitemarsh Island, Georgia. Whitemarsh Island ...</td>\n",
              "      <td>1</td>\n",
              "      <td>whitemarsh island, georgia. whitemarsh island,...</td>\n",
              "    </tr>\n",
              "    <tr>\n",
              "      <th>1</th>\n",
              "      <td>0</td>\n",
              "      <td>where is whitemarsh island</td>\n",
              "      <td>1</td>\n",
              "      <td>What military strategy was used in the pacific?</td>\n",
              "      <td>the strategy of island hopping was used by the...</td>\n",
              "      <td>0</td>\n",
              "      <td>what military strategy was used in the pacific...</td>\n",
              "    </tr>\n",
              "    <tr>\n",
              "      <th>2</th>\n",
              "      <td>0</td>\n",
              "      <td>where is whitemarsh island</td>\n",
              "      <td>2</td>\n",
              "      <td>Whakaari / White Island</td>\n",
              "      <td>For the island near Dunedin, see White Island,...</td>\n",
              "      <td>0</td>\n",
              "      <td>whakaari / white island. for the island near d...</td>\n",
              "    </tr>\n",
              "    <tr>\n",
              "      <th>3</th>\n",
              "      <td>0</td>\n",
              "      <td>where is whitemarsh island</td>\n",
              "      <td>3</td>\n",
              "      <td>Jekyll Island</td>\n",
              "      <td>Jekyll Island, at 5,700 acres, is the smallest...</td>\n",
              "      <td>0</td>\n",
              "      <td>jekyll island. jekyll island, at 5,700 acres, ...</td>\n",
              "    </tr>\n",
              "    <tr>\n",
              "      <th>4</th>\n",
              "      <td>0</td>\n",
              "      <td>where is whitemarsh island</td>\n",
              "      <td>4</td>\n",
              "      <td>Sibu Island</td>\n",
              "      <td>Sibu Island. A scuba diver at Sibu Island. Sib...</td>\n",
              "      <td>0</td>\n",
              "      <td>sibu island. sibu island. a scuba diver at sib...</td>\n",
              "    </tr>\n",
              "    <tr>\n",
              "      <th>...</th>\n",
              "      <td>...</td>\n",
              "      <td>...</td>\n",
              "      <td>...</td>\n",
              "      <td>...</td>\n",
              "      <td>...</td>\n",
              "      <td>...</td>\n",
              "      <td>...</td>\n",
              "    </tr>\n",
              "    <tr>\n",
              "      <th>1999995</th>\n",
              "      <td>64923</td>\n",
              "      <td>richest man in mexico net worth</td>\n",
              "      <td>1999995</td>\n",
              "      <td>-</td>\n",
              "      <td>6. The next name on the list of richest actors...</td>\n",
              "      <td>0</td>\n",
              "      <td>-. 6. the next name on the list of richest act...</td>\n",
              "    </tr>\n",
              "    <tr>\n",
              "      <th>1999996</th>\n",
              "      <td>64923</td>\n",
              "      <td>richest man in mexico net worth</td>\n",
              "      <td>1999996</td>\n",
              "      <td>-</td>\n",
              "      <td>[image via JJ Duncan] 1  Billy Ray Cyrus Net W...</td>\n",
              "      <td>0</td>\n",
              "      <td>-. [image via jj duncan] 1  billy ray cyrus ne...</td>\n",
              "    </tr>\n",
              "    <tr>\n",
              "      <th>1999997</th>\n",
              "      <td>64923</td>\n",
              "      <td>richest man in mexico net worth</td>\n",
              "      <td>1999997</td>\n",
              "      <td>-</td>\n",
              "      <td>Jeff Bezos is the founder of Amazon, and one o...</td>\n",
              "      <td>0</td>\n",
              "      <td>-. jeff bezos is the founder of amazon, and on...</td>\n",
              "    </tr>\n",
              "    <tr>\n",
              "      <th>1999998</th>\n",
              "      <td>64923</td>\n",
              "      <td>richest man in mexico net worth</td>\n",
              "      <td>1999998</td>\n",
              "      <td>-</td>\n",
              "      <td>Similar Celebrities: 1  Jeremy Mayfield Net Wo...</td>\n",
              "      <td>0</td>\n",
              "      <td>-. similar celebrities: 1  jeremy mayfield net...</td>\n",
              "    </tr>\n",
              "    <tr>\n",
              "      <th>1999999</th>\n",
              "      <td>64923</td>\n",
              "      <td>richest man in mexico net worth</td>\n",
              "      <td>1999999</td>\n",
              "      <td>Jeff Bezos is now worth $100 billion</td>\n",
              "      <td>Bezos, the founder and largest shareholder of ...</td>\n",
              "      <td>0</td>\n",
              "      <td>jeff bezos is now worth $100 billion. bezos, t...</td>\n",
              "    </tr>\n",
              "  </tbody>\n",
              "</table>\n",
              "<p>2000000 rows × 7 columns</p>\n",
              "</div>\n",
              "    <div class=\"colab-df-buttons\">\n",
              "\n",
              "  <div class=\"colab-df-container\">\n",
              "    <button class=\"colab-df-convert\" onclick=\"convertToInteractive('df-a0cd21cc-0d18-4200-8e53-9f78eb3a51d1')\"\n",
              "            title=\"Convert this dataframe to an interactive table.\"\n",
              "            style=\"display:none;\">\n",
              "\n",
              "  <svg xmlns=\"http://www.w3.org/2000/svg\" height=\"24px\" viewBox=\"0 -960 960 960\">\n",
              "    <path d=\"M120-120v-720h720v720H120Zm60-500h600v-160H180v160Zm220 220h160v-160H400v160Zm0 220h160v-160H400v160ZM180-400h160v-160H180v160Zm440 0h160v-160H620v160ZM180-180h160v-160H180v160Zm440 0h160v-160H620v160Z\"/>\n",
              "  </svg>\n",
              "    </button>\n",
              "\n",
              "  <style>\n",
              "    .colab-df-container {\n",
              "      display:flex;\n",
              "      gap: 12px;\n",
              "    }\n",
              "\n",
              "    .colab-df-convert {\n",
              "      background-color: #E8F0FE;\n",
              "      border: none;\n",
              "      border-radius: 50%;\n",
              "      cursor: pointer;\n",
              "      display: none;\n",
              "      fill: #1967D2;\n",
              "      height: 32px;\n",
              "      padding: 0 0 0 0;\n",
              "      width: 32px;\n",
              "    }\n",
              "\n",
              "    .colab-df-convert:hover {\n",
              "      background-color: #E2EBFA;\n",
              "      box-shadow: 0px 1px 2px rgba(60, 64, 67, 0.3), 0px 1px 3px 1px rgba(60, 64, 67, 0.15);\n",
              "      fill: #174EA6;\n",
              "    }\n",
              "\n",
              "    .colab-df-buttons div {\n",
              "      margin-bottom: 4px;\n",
              "    }\n",
              "\n",
              "    [theme=dark] .colab-df-convert {\n",
              "      background-color: #3B4455;\n",
              "      fill: #D2E3FC;\n",
              "    }\n",
              "\n",
              "    [theme=dark] .colab-df-convert:hover {\n",
              "      background-color: #434B5C;\n",
              "      box-shadow: 0px 1px 3px 1px rgba(0, 0, 0, 0.15);\n",
              "      filter: drop-shadow(0px 1px 2px rgba(0, 0, 0, 0.3));\n",
              "      fill: #FFFFFF;\n",
              "    }\n",
              "  </style>\n",
              "\n",
              "    <script>\n",
              "      const buttonEl =\n",
              "        document.querySelector('#df-a0cd21cc-0d18-4200-8e53-9f78eb3a51d1 button.colab-df-convert');\n",
              "      buttonEl.style.display =\n",
              "        google.colab.kernel.accessAllowed ? 'block' : 'none';\n",
              "\n",
              "      async function convertToInteractive(key) {\n",
              "        const element = document.querySelector('#df-a0cd21cc-0d18-4200-8e53-9f78eb3a51d1');\n",
              "        const dataTable =\n",
              "          await google.colab.kernel.invokeFunction('convertToInteractive',\n",
              "                                                    [key], {});\n",
              "        if (!dataTable) return;\n",
              "\n",
              "        const docLinkHtml = 'Like what you see? Visit the ' +\n",
              "          '<a target=\"_blank\" href=https://colab.research.google.com/notebooks/data_table.ipynb>data table notebook</a>'\n",
              "          + ' to learn more about interactive tables.';\n",
              "        element.innerHTML = '';\n",
              "        dataTable['output_type'] = 'display_data';\n",
              "        await google.colab.output.renderOutput(dataTable, element);\n",
              "        const docLink = document.createElement('div');\n",
              "        docLink.innerHTML = docLinkHtml;\n",
              "        element.appendChild(docLink);\n",
              "      }\n",
              "    </script>\n",
              "  </div>\n",
              "\n",
              "\n",
              "<div id=\"df-569502cd-b155-40ff-b98e-16bd2204ebc6\">\n",
              "  <button class=\"colab-df-quickchart\" onclick=\"quickchart('df-569502cd-b155-40ff-b98e-16bd2204ebc6')\"\n",
              "            title=\"Suggest charts\"\n",
              "            style=\"display:none;\">\n",
              "\n",
              "<svg xmlns=\"http://www.w3.org/2000/svg\" height=\"24px\"viewBox=\"0 0 24 24\"\n",
              "     width=\"24px\">\n",
              "    <g>\n",
              "        <path d=\"M19 3H5c-1.1 0-2 .9-2 2v14c0 1.1.9 2 2 2h14c1.1 0 2-.9 2-2V5c0-1.1-.9-2-2-2zM9 17H7v-7h2v7zm4 0h-2V7h2v10zm4 0h-2v-4h2v4z\"/>\n",
              "    </g>\n",
              "</svg>\n",
              "  </button>\n",
              "\n",
              "<style>\n",
              "  .colab-df-quickchart {\n",
              "      --bg-color: #E8F0FE;\n",
              "      --fill-color: #1967D2;\n",
              "      --hover-bg-color: #E2EBFA;\n",
              "      --hover-fill-color: #174EA6;\n",
              "      --disabled-fill-color: #AAA;\n",
              "      --disabled-bg-color: #DDD;\n",
              "  }\n",
              "\n",
              "  [theme=dark] .colab-df-quickchart {\n",
              "      --bg-color: #3B4455;\n",
              "      --fill-color: #D2E3FC;\n",
              "      --hover-bg-color: #434B5C;\n",
              "      --hover-fill-color: #FFFFFF;\n",
              "      --disabled-bg-color: #3B4455;\n",
              "      --disabled-fill-color: #666;\n",
              "  }\n",
              "\n",
              "  .colab-df-quickchart {\n",
              "    background-color: var(--bg-color);\n",
              "    border: none;\n",
              "    border-radius: 50%;\n",
              "    cursor: pointer;\n",
              "    display: none;\n",
              "    fill: var(--fill-color);\n",
              "    height: 32px;\n",
              "    padding: 0;\n",
              "    width: 32px;\n",
              "  }\n",
              "\n",
              "  .colab-df-quickchart:hover {\n",
              "    background-color: var(--hover-bg-color);\n",
              "    box-shadow: 0 1px 2px rgba(60, 64, 67, 0.3), 0 1px 3px 1px rgba(60, 64, 67, 0.15);\n",
              "    fill: var(--button-hover-fill-color);\n",
              "  }\n",
              "\n",
              "  .colab-df-quickchart-complete:disabled,\n",
              "  .colab-df-quickchart-complete:disabled:hover {\n",
              "    background-color: var(--disabled-bg-color);\n",
              "    fill: var(--disabled-fill-color);\n",
              "    box-shadow: none;\n",
              "  }\n",
              "\n",
              "  .colab-df-spinner {\n",
              "    border: 2px solid var(--fill-color);\n",
              "    border-color: transparent;\n",
              "    border-bottom-color: var(--fill-color);\n",
              "    animation:\n",
              "      spin 1s steps(1) infinite;\n",
              "  }\n",
              "\n",
              "  @keyframes spin {\n",
              "    0% {\n",
              "      border-color: transparent;\n",
              "      border-bottom-color: var(--fill-color);\n",
              "      border-left-color: var(--fill-color);\n",
              "    }\n",
              "    20% {\n",
              "      border-color: transparent;\n",
              "      border-left-color: var(--fill-color);\n",
              "      border-top-color: var(--fill-color);\n",
              "    }\n",
              "    30% {\n",
              "      border-color: transparent;\n",
              "      border-left-color: var(--fill-color);\n",
              "      border-top-color: var(--fill-color);\n",
              "      border-right-color: var(--fill-color);\n",
              "    }\n",
              "    40% {\n",
              "      border-color: transparent;\n",
              "      border-right-color: var(--fill-color);\n",
              "      border-top-color: var(--fill-color);\n",
              "    }\n",
              "    60% {\n",
              "      border-color: transparent;\n",
              "      border-right-color: var(--fill-color);\n",
              "    }\n",
              "    80% {\n",
              "      border-color: transparent;\n",
              "      border-right-color: var(--fill-color);\n",
              "      border-bottom-color: var(--fill-color);\n",
              "    }\n",
              "    90% {\n",
              "      border-color: transparent;\n",
              "      border-bottom-color: var(--fill-color);\n",
              "    }\n",
              "  }\n",
              "</style>\n",
              "\n",
              "  <script>\n",
              "    async function quickchart(key) {\n",
              "      const quickchartButtonEl =\n",
              "        document.querySelector('#' + key + ' button');\n",
              "      quickchartButtonEl.disabled = true;  // To prevent multiple clicks.\n",
              "      quickchartButtonEl.classList.add('colab-df-spinner');\n",
              "      try {\n",
              "        const charts = await google.colab.kernel.invokeFunction(\n",
              "            'suggestCharts', [key], {});\n",
              "      } catch (error) {\n",
              "        console.error('Error during call to suggestCharts:', error);\n",
              "      }\n",
              "      quickchartButtonEl.classList.remove('colab-df-spinner');\n",
              "      quickchartButtonEl.classList.add('colab-df-quickchart-complete');\n",
              "    }\n",
              "    (() => {\n",
              "      let quickchartButtonEl =\n",
              "        document.querySelector('#df-569502cd-b155-40ff-b98e-16bd2204ebc6 button');\n",
              "      quickchartButtonEl.style.display =\n",
              "        google.colab.kernel.accessAllowed ? 'block' : 'none';\n",
              "    })();\n",
              "  </script>\n",
              "</div>\n",
              "    </div>\n",
              "  </div>\n"
            ],
            "application/vnd.google.colaboratory.intrinsic+json": {
              "type": "dataframe",
              "variable_name": "df"
            }
          },
          "metadata": {},
          "execution_count": 7
        }
      ]
    },
    {
      "cell_type": "markdown",
      "id": "a758c42e",
      "metadata": {
        "id": "a758c42e"
      },
      "source": [
        "# Подбор нейронки [1 балл]"
      ]
    },
    {
      "cell_type": "markdown",
      "id": "8ec4a61b",
      "metadata": {
        "id": "8ec4a61b"
      },
      "source": [
        "На семинаре для варки эмбеддингов использовался Universal Sentence Encoder. Возможно, стоит попробовать что-то другое? (балл будет начислен в том случае, если для варки индексов из следующих пунктов будет использована/ы другая/ие нейронки - да, использовать разные нейронки для разных индексов можно)"
      ]
    },
    {
      "cell_type": "code",
      "source": [
        "!pip install -U sentence-transformers"
      ],
      "metadata": {
        "id": "dluflnzGhRq-"
      },
      "id": "dluflnzGhRq-",
      "execution_count": null,
      "outputs": []
    },
    {
      "cell_type": "code",
      "source": [
        "from sentence_transformers import SentenceTransformer\n",
        "\n",
        "model = SentenceTransformer('paraphrase-MiniLM-L6-v2')\n",
        "\n",
        "text_embeds = model.encode(df['full_text'].values)"
      ],
      "metadata": {
        "id": "4XYTG6TNi09M"
      },
      "id": "4XYTG6TNi09M",
      "execution_count": null,
      "outputs": []
    },
    {
      "cell_type": "markdown",
      "id": "b65fbc0a",
      "metadata": {
        "id": "b65fbc0a"
      },
      "source": [
        "# Метрика для оценки качества [1 балл]"
      ]
    },
    {
      "cell_type": "markdown",
      "id": "5248aa02",
      "metadata": {
        "id": "5248aa02"
      },
      "source": [
        "Нужно реализовать метрику для оценки качества индексов - ndcg@10"
      ]
    },
    {
      "cell_type": "code",
      "source": [
        "!pip install torchmetrics"
      ],
      "metadata": {
        "id": "OCi7v65ulN3Y"
      },
      "id": "OCi7v65ulN3Y",
      "execution_count": null,
      "outputs": []
    },
    {
      "cell_type": "code",
      "source": [
        "import torch\n",
        "from torchmetrics.retrieval import RetrievalNormalizedDCG\n",
        "\n",
        "def NDCG(preds, target, qids, k=10):\n",
        "    ndcg = RetrievalNormalizedDCG(top_k=k)\n",
        "\n",
        "    return ndcg(torch.Tensor(preds),\n",
        "                torch.Tensor(target),\n",
        "                indexes=torch.LongTensor(qids - min(qids)))"
      ],
      "metadata": {
        "id": "9VN_kp3nlKho"
      },
      "id": "9VN_kp3nlKho",
      "execution_count": null,
      "outputs": []
    },
    {
      "cell_type": "markdown",
      "id": "64d3985c",
      "metadata": {
        "id": "64d3985c"
      },
      "source": [
        "# Варка и инференс индексов [до 6 баллов]"
      ]
    },
    {
      "cell_type": "markdown",
      "id": "8eef768a",
      "metadata": {
        "id": "8eef768a"
      },
      "source": [
        "В рамках этой части задания нужно сварить индексы 3 типов - annoy, faiss, hnswlib. Параметры можно выбирать любые (стоит ориентироваться на качество индекса, требуемую память и перф (см. ниже).)"
      ]
    },
    {
      "cell_type": "markdown",
      "id": "edb5cc6c",
      "metadata": {
        "id": "edb5cc6c"
      },
      "source": [
        "За 1 индекс можно получить:\n",
        "\n",
        "    1 балл,  если индекс состоит из  300000 документов\n",
        "    2 балла, если индекс состоит из 1000000 документов\n",
        "    За индексы из 2000000 документов дополнительные баллы в этом пункте не начисляются, но только они могут участвовать в соревновании"
      ]
    },
    {
      "cell_type": "markdown",
      "id": "b6118ba6",
      "metadata": {
        "id": "b6118ba6"
      },
      "source": [
        "Важно:"
      ]
    },
    {
      "cell_type": "markdown",
      "id": "86577172",
      "metadata": {
        "id": "86577172"
      },
      "source": [
        "1. Эмбеддинги, которые кладутся в индекс, должны быть сгенерированы нейронкой и соответствовать документам из датасета, иначе баллы аннулируются (сложить 2 миллиона эмбеддингов вида [1,1,1,...,1] нельзя)"
      ]
    },
    {
      "cell_type": "markdown",
      "id": "4b42ffbb",
      "metadata": {
        "id": "4b42ffbb"
      },
      "source": [
        "2. Чтобы получить баллы за индекс, необходимо не только сварить, но и проинференсить его: прогнать на нем набор запросов из датасета (~65k), оценить качество результата (используя метрику ndcg@10), оценить время инференса (напр., так как в семинаре). Без этого баллы начислены не будут"
      ]
    },
    {
      "cell_type": "markdown",
      "id": "11e000d5",
      "metadata": {
        "id": "11e000d5"
      },
      "source": [
        "3. При варке и инференсе индекса нельзя использовать больше 16GB оперативной памяти (иначе начислится 0 баллов)"
      ]
    },
    {
      "cell_type": "markdown",
      "id": "e2134a2f",
      "metadata": {
        "id": "e2134a2f"
      },
      "source": [
        "# Соревнование [до 10 баллов]"
      ]
    },
    {
      "cell_type": "markdown",
      "id": "a8d2168b",
      "metadata": {
        "id": "a8d2168b"
      },
      "source": [
        "Проводится среди индексов размерами 2000000 документов (остальные не оцениваются) в двух дисциплинах: по качеству (величина ndcg@10) и скорости (насколько быстро удалось прогнать полный набор запросов на этом индексе)"
      ]
    },
    {
      "cell_type": "markdown",
      "id": "1e09e448",
      "metadata": {
        "id": "1e09e448"
      },
      "source": [
        "Оценивается только один индекс (указывается сдающим домашку) - если вы сварили 3 индекса по 2 миллиона доков каждый, то укажите, какой участвует в соревновании (напишите в ноутбуке). Иначе выбор будет сделан рандомно из доступных вариантов"
      ]
    },
    {
      "cell_type": "markdown",
      "id": "b1c25204",
      "metadata": {
        "id": "b1c25204"
      },
      "source": [
        "Разбалловка:"
      ]
    },
    {
      "cell_type": "markdown",
      "id": "cdd82486",
      "metadata": {
        "id": "cdd82486"
      },
      "source": [
        "\n",
        "За первое место по качеству: 5 баллов\n",
        "    \n",
        "За второе место по качеству: 3 балла\n",
        "    \n",
        "За все остальные места по качеству, кроме последнего: 1 балл"
      ]
    },
    {
      "cell_type": "markdown",
      "id": "b314653c",
      "metadata": {
        "id": "b314653c"
      },
      "source": [
        "За первое место по скорости (при не последнем месте по качеству): 5 баллов\n",
        "\n",
        "За второе место по скорости (при не последнем месте по качеству): 3 балла\n",
        "\n",
        "За все остальные места по скорости (при не последнем месте по качеству), кроме последнего: 1 балл"
      ]
    },
    {
      "cell_type": "markdown",
      "id": "2a9f56b9",
      "metadata": {
        "id": "2a9f56b9"
      },
      "source": [
        "# Процедура сдачи"
      ]
    },
    {
      "cell_type": "markdown",
      "id": "e10385cc",
      "metadata": {
        "id": "e10385cc"
      },
      "source": [
        "**Вам надо:**\n",
        "\n",
        "- Форкнуть эту репу;\n",
        "- Создать бранч, в котором вы дальше будете работать;\n",
        "- Выполнить все или часть заданий ноутбука;\n",
        "- Запушить ваш бранч и поставить Pull Request.\n",
        "\n",
        "Проверяющий счекаутит вашу бранчу и проверит работу."
      ]
    }
  ],
  "metadata": {
    "kernelspec": {
      "display_name": "Python 3 (ipykernel)",
      "language": "python",
      "name": "python3"
    },
    "language_info": {
      "codemirror_mode": {
        "name": "ipython",
        "version": 3
      },
      "file_extension": ".py",
      "mimetype": "text/x-python",
      "name": "python",
      "nbconvert_exporter": "python",
      "pygments_lexer": "ipython3",
      "version": "3.9.7"
    },
    "colab": {
      "provenance": []
    }
  },
  "nbformat": 4,
  "nbformat_minor": 5
}