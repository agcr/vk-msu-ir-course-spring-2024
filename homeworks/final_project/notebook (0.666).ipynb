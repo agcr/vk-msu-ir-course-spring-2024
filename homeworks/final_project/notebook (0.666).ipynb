{
  "metadata": {
    "kernelspec": {
      "name": "python3",
      "display_name": "Python 3",
      "language": "python"
    },
    "language_info": {
      "name": "python",
      "version": "3.10.13",
      "mimetype": "text/x-python",
      "codemirror_mode": {
        "name": "ipython",
        "version": 3
      },
      "pygments_lexer": "ipython3",
      "nbconvert_exporter": "python",
      "file_extension": ".py"
    },
    "kaggle": {
      "accelerator": "nvidiaTeslaT4",
      "dataSources": [
        {
          "sourceId": 77303,
          "databundleVersionId": 8428397,
          "sourceType": "competition"
        },
        {
          "sourceId": 8349388,
          "sourceType": "datasetVersion",
          "datasetId": 4960390
        },
        {
          "sourceId": 44655,
          "sourceType": "modelInstanceVersion",
          "isSourceIdPinned": true,
          "modelInstanceId": 37516
        }
      ],
      "dockerImageVersionId": 30699,
      "isInternetEnabled": true,
      "language": "python",
      "sourceType": "notebook",
      "isGpuEnabled": true
    },
    "colab": {
      "provenance": []
    }
  },
  "nbformat_minor": 5,
  "nbformat": 4,
  "cells": [
    {
      "cell_type": "markdown",
      "source": [
        "# Нейросетевые модели поиска. Часть II. Переранжирование.\n",
        "## Домашнее задание\n",
        "\n",
        "В этом задании вам предстоит обучить модели переранжирования с архитектурой cross-encoder и bi-encoder на датасете [VK MARCO](https://cloud.mail.ru/public/MQ3H/GVGeAWZoj). За его решение можно получить до 10 баллов, а также еще 10 бонусных за выполнение дополнительных заданий.\n",
        "\n",
        "**Вам надо:**\n",
        "\n",
        "- Форкнуть эту репу;\n",
        "- Создать бранч, в котором вы дальше будете работать;\n",
        "- Выполнить все или часть заданий ноутбука;\n",
        "- Запушить ваш бранч и поставить Pull Request.\n",
        "\n",
        "Проверяющий счекаутит вашу бранчу и проверит работу.\n",
        "\n",
        "**Замечания:**\n",
        "\n",
        "- При выполнении задания можете использовать код из соответствующего семинара;\n",
        "- Вам предстоит сделать как минимум 2 обучения (а при выполнении дополнительных заданий и того больше), постарайтесь переиспользовать код и минимизировать копипасты;\n",
        "- Старайтесь писать чистый и понятный код, не оставляйте в ноутбуке лишний мусор (выводы ячеек с pip install, ненужный закомментированный код и т.д.);\n",
        "- При сдаче дз сохраните выходы ячеек с логами обучения и графиками. Если для построения графиков вы использовали tensorboard, то вставьте графики в ноутбук в виде скриншотов;\n",
        "- Итоговый ноутбук должен быть работоспособен, то есть проверяющий должен иметь возможность запустить все его ячейки в том порядке, в котором они распологаются в ноутбуке, и получить результаты, аналогичные вашим.\n",
        "\n",
        "\n",
        "### Данные [1 балл]\n",
        "\n",
        "Скачайте и распакуйте датасет [VK MARCO](https://cloud.mail.ru/public/MQ3H/GVGeAWZoj). Архив содержит следующие файлы (формат аналогичен MS MARCO):\n",
        "* vkmarco-docs.tsv - tsv с текстами документов;\n",
        "* vkmarco-doctrain-queries.tsv - tsv с текстами запросов;\n",
        "* vkmarco-doctrain-qrels.tsv - tsv с оценками релевантности запроса и документа;\n",
        "* Аналогичный набор файлов для валидации.\n",
        "\n",
        "Загрузите данные трейна и валидации в pandas.DataFrame так, чтобы он содержал следующие колонки:\n",
        "* qid - id запроса;\n",
        "* query - текст запроса;\n",
        "* text - текст документа;\n",
        "* label - оценка релевантности запроса и документа."
      ],
      "metadata": {
        "id": "yqli_BWEWa74"
      },
      "id": "yqli_BWEWa74"
    },
    {
      "cell_type": "code",
      "source": [
        "!pip install rank_bm25"
      ],
      "metadata": {
        "trusted": true,
        "id": "BCe-2RcRWa79"
      },
      "execution_count": null,
      "outputs": [],
      "id": "BCe-2RcRWa79"
    },
    {
      "cell_type": "code",
      "source": [
        "import pandas as pd\n",
        "import tqdm\n",
        "from torchmetrics.retrieval import RetrievalMRR, RetrievalNormalizedDCG\n",
        "from rank_bm25 import BM25Okapi\n",
        "import torch\n",
        "import transformers\n",
        "from torch import nn\n",
        "from torch.utils import data\n",
        "from torch.utils.data import Dataset\n",
        "import numpy as np\n",
        "from transformers import (\n",
        "    AutoTokenizer,\n",
        "    AutoModel,\n",
        "    XLMRobertaTokenizer,\n",
        "    XLMRobertaTokenizer,\n",
        ")\n",
        "from sklearn.metrics import roc_auc_score\n",
        "\n",
        "# PyTorch TensorBoard support\n",
        "from torch.utils.tensorboard import SummaryWriter\n",
        "from tqdm.notebook import tqdm as tqdm_note\n",
        "import gc\n",
        "import time"
      ],
      "metadata": {
        "trusted": true,
        "id": "brbfA7rGWa7_"
      },
      "execution_count": null,
      "outputs": [],
      "id": "brbfA7rGWa7_"
    },
    {
      "cell_type": "code",
      "source": [
        "PATH = \"/kaggle/input/text-reranking-competition-ir-msu-spring-2024/\"\n",
        "\n",
        "df_docs = pd.read_csv(PATH + \"vkmarco-docs.tsv\", sep='\\t', header=None, names=['docid', 'url', 'title', 'body'])\n",
        "df_queries = pd.read_csv(PATH + \"vkmarco-doctrain-queries.tsv\", sep='\\t', header=None, names=['qid', 'query'])\n",
        "df_qrels = pd.read_csv(PATH + \"vkmarco-doctrain-qrels.tsv\", sep=' ', header=None, names=['qid', '_', 'docid', 'label'], usecols=['qid', 'docid', 'label'])\n",
        "\n",
        "df_train = pd.merge(df_queries, df_qrels, on='qid')\n",
        "df_train = pd.merge(df_train, df_docs[['docid', 'title', 'body']], on='docid')"
      ],
      "metadata": {
        "execution": {
          "iopub.status.busy": "2024-05-07T17:41:10.233466Z",
          "iopub.execute_input": "2024-05-07T17:41:10.234264Z",
          "iopub.status.idle": "2024-05-07T17:48:49.644845Z",
          "shell.execute_reply.started": "2024-05-07T17:41:10.234232Z",
          "shell.execute_reply": "2024-05-07T17:48:49.643687Z"
        },
        "trusted": true,
        "id": "L5Mn9p3CWa8A"
      },
      "execution_count": null,
      "outputs": [],
      "id": "L5Mn9p3CWa8A"
    },
    {
      "cell_type": "code",
      "source": [
        "del df_queries\n",
        "del df_qrels"
      ],
      "metadata": {
        "execution": {
          "iopub.status.busy": "2024-05-07T17:48:49.647191Z",
          "iopub.execute_input": "2024-05-07T17:48:49.647481Z",
          "iopub.status.idle": "2024-05-07T17:48:49.658028Z",
          "shell.execute_reply.started": "2024-05-07T17:48:49.647456Z",
          "shell.execute_reply": "2024-05-07T17:48:49.656836Z"
        },
        "trusted": true,
        "id": "dNkDAzHPWa8B"
      },
      "execution_count": null,
      "outputs": [],
      "id": "dNkDAzHPWa8B"
    },
    {
      "cell_type": "code",
      "source": [
        "df_train = df_train.sort_values(by='qid').reset_index(drop=True)\n",
        "df_train[\"label\"] /= max(df_train[\"label\"])"
      ],
      "metadata": {
        "execution": {
          "iopub.status.busy": "2024-05-07T17:48:49.659252Z",
          "iopub.execute_input": "2024-05-07T17:48:49.659555Z",
          "iopub.status.idle": "2024-05-07T17:48:50.471965Z",
          "shell.execute_reply.started": "2024-05-07T17:48:49.659530Z",
          "shell.execute_reply": "2024-05-07T17:48:50.471148Z"
        },
        "trusted": true,
        "id": "CKws5HbKWa8B"
      },
      "execution_count": null,
      "outputs": [],
      "id": "CKws5HbKWa8B"
    },
    {
      "cell_type": "code",
      "source": [
        "df_train.head()"
      ],
      "metadata": {
        "execution": {
          "iopub.status.busy": "2024-05-07T17:48:50.473312Z",
          "iopub.execute_input": "2024-05-07T17:48:50.473944Z",
          "iopub.status.idle": "2024-05-07T17:48:50.492650Z",
          "shell.execute_reply.started": "2024-05-07T17:48:50.473910Z",
          "shell.execute_reply": "2024-05-07T17:48:50.491757Z"
        },
        "trusted": true,
        "id": "4HKq2knbWa8C",
        "outputId": "e1cdf435-14a0-44e3-b974-3704a4cbba17"
      },
      "execution_count": null,
      "outputs": [
        {
          "execution_count": 13,
          "output_type": "execute_result",
          "data": {
            "text/plain": "   qid                                             query       docid  \\\n0    1  0 00 дом muzono net raim feat artur adil скачать  D000000009   \n1    1  0 00 дом muzono net raim feat artur adil скачать  D000000008   \n2    1  0 00 дом muzono net raim feat artur adil скачать  D000000007   \n3    1  0 00 дом muzono net raim feat artur adil скачать  D000000013   \n4    1  0 00 дом muzono net raim feat artur adil скачать  D000000006   \n\n      label                                              title  \\\n0  1.000000  RaiM feat. Artur & Adil - Дом » Cкачать mp3 му...   \n1  0.666667  RaiM & Artur - Дом ft. Adil - Скачать mp3 бесп...   \n2  0.333333  Raim Feat. Artur & Adil Симпа - скачать беспла...   \n3  0.333333  Raim feat. Artur & Adil - Симпа - скачать бесп...   \n4  1.000000  Скачать RaiM feat. Artur & Adil - Дом — muzmir.kz   \n\n                                                body  \n0  null Показать меню Главная Узбекские песни Зар...  \n1  Скачать песню RaiM & Artur - Дом ft. Adil в mp...  \n2  У нас вы можете бесплатно скачать песню Raim F...  \n3  Скачать песню Raim feat. Artur & Adil - Симпа ...  \n4  Тут можно скачать песню RaiM feat. Artur & Adi...  ",
            "text/html": "<div>\n<style scoped>\n    .dataframe tbody tr th:only-of-type {\n        vertical-align: middle;\n    }\n\n    .dataframe tbody tr th {\n        vertical-align: top;\n    }\n\n    .dataframe thead th {\n        text-align: right;\n    }\n</style>\n<table border=\"1\" class=\"dataframe\">\n  <thead>\n    <tr style=\"text-align: right;\">\n      <th></th>\n      <th>qid</th>\n      <th>query</th>\n      <th>docid</th>\n      <th>label</th>\n      <th>title</th>\n      <th>body</th>\n    </tr>\n  </thead>\n  <tbody>\n    <tr>\n      <th>0</th>\n      <td>1</td>\n      <td>0 00 дом muzono net raim feat artur adil скачать</td>\n      <td>D000000009</td>\n      <td>1.000000</td>\n      <td>RaiM feat. Artur &amp; Adil - Дом » Cкачать mp3 му...</td>\n      <td>null Показать меню Главная Узбекские песни Зар...</td>\n    </tr>\n    <tr>\n      <th>1</th>\n      <td>1</td>\n      <td>0 00 дом muzono net raim feat artur adil скачать</td>\n      <td>D000000008</td>\n      <td>0.666667</td>\n      <td>RaiM &amp; Artur - Дом ft. Adil - Скачать mp3 бесп...</td>\n      <td>Скачать песню RaiM &amp; Artur - Дом ft. Adil в mp...</td>\n    </tr>\n    <tr>\n      <th>2</th>\n      <td>1</td>\n      <td>0 00 дом muzono net raim feat artur adil скачать</td>\n      <td>D000000007</td>\n      <td>0.333333</td>\n      <td>Raim Feat. Artur &amp; Adil Симпа - скачать беспла...</td>\n      <td>У нас вы можете бесплатно скачать песню Raim F...</td>\n    </tr>\n    <tr>\n      <th>3</th>\n      <td>1</td>\n      <td>0 00 дом muzono net raim feat artur adil скачать</td>\n      <td>D000000013</td>\n      <td>0.333333</td>\n      <td>Raim feat. Artur &amp; Adil - Симпа - скачать бесп...</td>\n      <td>Скачать песню Raim feat. Artur &amp; Adil - Симпа ...</td>\n    </tr>\n    <tr>\n      <th>4</th>\n      <td>1</td>\n      <td>0 00 дом muzono net raim feat artur adil скачать</td>\n      <td>D000000006</td>\n      <td>1.000000</td>\n      <td>Скачать RaiM feat. Artur &amp; Adil - Дом — muzmir.kz</td>\n      <td>Тут можно скачать песню RaiM feat. Artur &amp; Adi...</td>\n    </tr>\n  </tbody>\n</table>\n</div>"
          },
          "metadata": {}
        }
      ],
      "id": "4HKq2knbWa8C"
    },
    {
      "cell_type": "code",
      "source": [
        "df_train.to_csv(\"train.csv\", index=False)\n",
        "df_dev.to_csv(\"valid.csv\", index=False)"
      ],
      "metadata": {
        "trusted": true,
        "id": "e8YPAxu1Wa8E"
      },
      "execution_count": null,
      "outputs": [],
      "id": "e8YPAxu1Wa8E"
    },
    {
      "cell_type": "markdown",
      "source": [
        "### Baselines \\[2 балла\\]\n",
        "\n",
        "Реализуйте подсчет метрик MRR@k и NDCG@k. Посчитайте их значения на валидационном сете для нескольких бейзлайнов:\n",
        "1. Модель, делающая случайное предсказание;\n",
        "1. BM25."
      ],
      "metadata": {
        "id": "-OdCfI_uWa8E"
      },
      "id": "-OdCfI_uWa8E"
    },
    {
      "cell_type": "code",
      "source": [
        "def MRR(preds, target, qids, top_k=10):\n",
        "    mrr = RetrievalMRR(top_k=top_k)\n",
        "    return mrr(torch.Tensor(preds),\n",
        "               torch.Tensor(target),\n",
        "               indexes=torch.LongTensor(qids - min(qids)))\n",
        "\n",
        "\n",
        "def NDCG(preds, target, qids, top_k=10):\n",
        "    ndcg = RetrievalNormalizedDCG(top_k=top_k)\n",
        "    return ndcg(torch.Tensor(preds), torch.Tensor(target), indexes=torch.LongTensor(qids - min(qids)))"
      ],
      "metadata": {
        "execution": {
          "iopub.status.busy": "2024-05-07T17:49:55.197298Z",
          "iopub.execute_input": "2024-05-07T17:49:55.197685Z",
          "iopub.status.idle": "2024-05-07T17:49:55.204811Z",
          "shell.execute_reply.started": "2024-05-07T17:49:55.197655Z",
          "shell.execute_reply": "2024-05-07T17:49:55.203710Z"
        },
        "trusted": true,
        "id": "P8UaAlfkWa8F"
      },
      "execution_count": null,
      "outputs": [],
      "id": "P8UaAlfkWa8F"
    },
    {
      "cell_type": "code",
      "source": [
        "tokenizer = AutoTokenizer.from_pretrained(\"xlm-roberta-base\")"
      ],
      "metadata": {
        "trusted": true,
        "id": "Et0-9WTsWa8G"
      },
      "execution_count": null,
      "outputs": [],
      "id": "Et0-9WTsWa8G"
    },
    {
      "cell_type": "code",
      "source": [
        "TEST_SIZE = 3_000\n",
        "\n",
        "train_data = df_train[(TEST_SIZE < df_train[\"qid\"])]\n",
        "test_data = df_train[df_train[\"qid\"] <= TEST_SIZE]"
      ],
      "metadata": {
        "execution": {
          "iopub.status.busy": "2024-05-07T17:49:58.226104Z",
          "iopub.execute_input": "2024-05-07T17:49:58.226446Z",
          "iopub.status.idle": "2024-05-07T17:49:58.374082Z",
          "shell.execute_reply.started": "2024-05-07T17:49:58.226418Z",
          "shell.execute_reply": "2024-05-07T17:49:58.373220Z"
        },
        "trusted": true,
        "id": "mTKAyo40Wa8G"
      },
      "execution_count": null,
      "outputs": [],
      "id": "mTKAyo40Wa8G"
    },
    {
      "cell_type": "code",
      "source": [
        "random_preds = np.random.random(len(test_data))\n",
        "\n",
        "print(\"MRR RANDOM:\", MRR(random_preds, test_data['label'].values == 1, test_data['qid'].values))\n",
        "print(\"NDCG RANDOM:\", NDCG(random_preds, test_data['label'].values, test_data['qid'].values))"
      ],
      "metadata": {
        "execution": {
          "iopub.status.busy": "2024-05-07T17:49:58.375411Z",
          "iopub.execute_input": "2024-05-07T17:49:58.375741Z",
          "iopub.status.idle": "2024-05-07T17:50:00.076441Z",
          "shell.execute_reply.started": "2024-05-07T17:49:58.375713Z",
          "shell.execute_reply": "2024-05-07T17:50:00.074931Z"
        },
        "trusted": true,
        "id": "UCueC-jYWa8H",
        "outputId": "edf7594c-da9f-4046-be46-05f7af20d49c"
      },
      "execution_count": null,
      "outputs": [
        {
          "name": "stdout",
          "text": "MRR RANDOM: tensor(0.2135)\nNDCG RANDOM: tensor(0.7094)\n",
          "output_type": "stream"
        }
      ],
      "id": "UCueC-jYWa8H"
    },
    {
      "cell_type": "markdown",
      "source": [
        "### Создание датасетов и даталоадеров"
      ],
      "metadata": {
        "id": "7B3LZ0HAWa8H"
      },
      "id": "7B3LZ0HAWa8H"
    },
    {
      "cell_type": "code",
      "source": [
        "class RankDataset(Dataset):\n",
        "    def __init__(self, data):\n",
        "        self.data = data\n",
        "\n",
        "    def __getitem__(self, index):\n",
        "        query, title, body, label = self.data.iloc[index, [1, 4, 5, 3]]\n",
        "        return [query.lower(), (str(title) + str(body)).lower()], label\n",
        "\n",
        "    def __len__(self):\n",
        "        return len(self.data)\n",
        "\n",
        "\n",
        "def compose_batch(batch):\n",
        "    texts = [x for x, _ in batch]\n",
        "    ys = torch.tensor([y for _, y in batch]).reshape((-1, 1)).float()\n",
        "    tokens = tokenizer(texts, padding=True, truncation=True, max_length=64, return_tensors=\"pt\")\n",
        "    return tokens, ys"
      ],
      "metadata": {
        "execution": {
          "iopub.status.busy": "2024-05-07T17:50:00.559181Z",
          "iopub.execute_input": "2024-05-07T17:50:00.559589Z",
          "iopub.status.idle": "2024-05-07T17:50:00.569048Z",
          "shell.execute_reply.started": "2024-05-07T17:50:00.559558Z",
          "shell.execute_reply": "2024-05-07T17:50:00.567879Z"
        },
        "trusted": true,
        "id": "sJNh8_ArWa8H"
      },
      "execution_count": null,
      "outputs": [],
      "id": "sJNh8_ArWa8H"
    },
    {
      "cell_type": "code",
      "source": [
        "dataset_train = RankDataset(train_data)\n",
        "dataset_valid = RankDataset(test_data)"
      ],
      "metadata": {
        "execution": {
          "iopub.status.busy": "2024-05-07T17:50:01.772357Z",
          "iopub.execute_input": "2024-05-07T17:50:01.773280Z",
          "iopub.status.idle": "2024-05-07T17:50:01.777584Z",
          "shell.execute_reply.started": "2024-05-07T17:50:01.773245Z",
          "shell.execute_reply": "2024-05-07T17:50:01.776636Z"
        },
        "trusted": true,
        "id": "QImfKtdKWa8I"
      },
      "execution_count": null,
      "outputs": [],
      "id": "QImfKtdKWa8I"
    },
    {
      "cell_type": "code",
      "source": [
        "train_dataloader = data.DataLoader(dataset_train, shuffle=True, batch_size=256, collate_fn=compose_batch)\n",
        "valid_dataloader = data.DataLoader(dataset_valid, shuffle=False, batch_size=256, collate_fn=compose_batch)"
      ],
      "metadata": {
        "execution": {
          "iopub.status.busy": "2024-05-07T17:50:02.048904Z",
          "iopub.execute_input": "2024-05-07T17:50:02.049200Z",
          "iopub.status.idle": "2024-05-07T17:50:02.054490Z",
          "shell.execute_reply.started": "2024-05-07T17:50:02.049142Z",
          "shell.execute_reply": "2024-05-07T17:50:02.053483Z"
        },
        "trusted": true,
        "id": "qoCRfn_-Wa8I"
      },
      "execution_count": null,
      "outputs": [],
      "id": "qoCRfn_-Wa8I"
    },
    {
      "cell_type": "markdown",
      "source": [
        "### Обучение cross-encoder \\[2 балла\\]\n",
        "\n",
        "Выполните следующие задания:\n",
        "* Обучите модель xlm-roberta-base в фомате cross-encoder.\n",
        "* Постройте графики зависимости метрик от количества пройденных шагов.\n",
        "* Посчитайте метрики для финальной модели.\n",
        "* Сколько времени заняло обучение?"
      ],
      "metadata": {
        "id": "5LwDFXTTWa8I"
      },
      "id": "5LwDFXTTWa8I"
    },
    {
      "cell_type": "code",
      "source": [
        "class RankBert(nn.Module):\n",
        "    def __init__(self, train_layers_count=2):\n",
        "        super(RankBert, self).__init__()\n",
        "\n",
        "        self.bert = AutoModel.from_pretrained(\"xlm-roberta-base\")\n",
        "        self.config = self.bert.config\n",
        "\n",
        "        # freeze all layers without bias and LN\n",
        "        for name, par in self.bert.named_parameters():\n",
        "            if \"bias\" in name or \"LayerNorm\" in name:\n",
        "                continue\n",
        "            par.requires_grad = False\n",
        "\n",
        "        layer_count = self.config.num_hidden_layers\n",
        "        for i in range(train_layers_count):  # unfreeze somw layers\n",
        "            for par in self.bert.encoder.layer[layer_count - 1 - i].parameters():\n",
        "                par.requires_grad = True\n",
        "\n",
        "        # map cls token emb to relevance score\n",
        "        self.head = nn.Linear(self.config.hidden_size, 1)\n",
        "\n",
        "    def forward(self, input_ids, token_type_ids=None, attention_mask=None):\n",
        "        x = self.bert(\n",
        "            input_ids=input_ids,\n",
        "            token_type_ids=token_type_ids,\n",
        "            attention_mask=attention_mask,\n",
        "        )[0][:, 0, :]  # hidden_state of [CLS]\n",
        "        return self.head(x)"
      ],
      "metadata": {
        "execution": {
          "iopub.status.busy": "2024-05-07T17:50:02.997608Z",
          "iopub.execute_input": "2024-05-07T17:50:02.998551Z",
          "iopub.status.idle": "2024-05-07T17:50:03.007737Z",
          "shell.execute_reply.started": "2024-05-07T17:50:02.998517Z",
          "shell.execute_reply": "2024-05-07T17:50:03.006568Z"
        },
        "trusted": true,
        "id": "a2pbrKpPWa8I"
      },
      "execution_count": null,
      "outputs": [],
      "id": "a2pbrKpPWa8I"
    },
    {
      "cell_type": "code",
      "source": [
        "model = RankBert(train_layers_count=2)\n",
        "device = torch.device(\"cuda:0\" if torch.cuda.is_available() else \"cpu\")\n",
        "model.to(device);"
      ],
      "metadata": {
        "execution": {
          "iopub.status.busy": "2024-05-07T17:50:04.342772Z",
          "iopub.execute_input": "2024-05-07T17:50:04.343170Z",
          "iopub.status.idle": "2024-05-07T17:50:12.591560Z",
          "shell.execute_reply.started": "2024-05-07T17:50:04.343129Z",
          "shell.execute_reply": "2024-05-07T17:50:12.590709Z"
        },
        "trusted": true,
        "id": "D-u9nQmDWa8J"
      },
      "execution_count": null,
      "outputs": [],
      "id": "D-u9nQmDWa8J"
    },
    {
      "cell_type": "code",
      "source": [
        "torch.cuda.is_available()"
      ],
      "metadata": {
        "execution": {
          "iopub.status.busy": "2024-05-07T17:50:12.593578Z",
          "iopub.execute_input": "2024-05-07T17:50:12.594437Z",
          "iopub.status.idle": "2024-05-07T17:50:12.600752Z",
          "shell.execute_reply.started": "2024-05-07T17:50:12.594397Z",
          "shell.execute_reply": "2024-05-07T17:50:12.599818Z"
        },
        "trusted": true,
        "id": "MfIfGwqNWa8J",
        "outputId": "39e24ded-16c5-418f-cece-47dc4baf7cc2"
      },
      "execution_count": null,
      "outputs": [
        {
          "execution_count": 24,
          "output_type": "execute_result",
          "data": {
            "text/plain": "True"
          },
          "metadata": {}
        }
      ],
      "id": "MfIfGwqNWa8J"
    },
    {
      "cell_type": "code",
      "source": [
        "class config:\n",
        "    EPOCHS = 1\n",
        "    LR = 1e-4\n",
        "    WD = 0.01\n",
        "    SAVE_DIR = \"runs/cross_encоder_checkpoint\"\n",
        "    SAVE_INTERVAL = 1000\n",
        "    BATCH_SIZE = 256\n",
        "    ACCUM_BS = 1\n",
        "    DEVICE = torch.device(\"cuda:0\" if torch.cuda.is_available() else \"cpu\")\n",
        "    LOG_INTERVAL = 250\n",
        "\n",
        "\n",
        "writer = SummaryWriter(\"runs/cross_encоder_checkpoint/\")\n",
        "\n",
        "loss_fn = nn.BCEWithLogitsLoss()"
      ],
      "metadata": {
        "execution": {
          "iopub.status.busy": "2024-05-07T17:50:12.602005Z",
          "iopub.execute_input": "2024-05-07T17:50:12.602293Z",
          "iopub.status.idle": "2024-05-07T17:50:13.596959Z",
          "shell.execute_reply.started": "2024-05-07T17:50:12.602269Z",
          "shell.execute_reply": "2024-05-07T17:50:13.596060Z"
        },
        "trusted": true,
        "id": "l41ARNphWa8J"
      },
      "execution_count": null,
      "outputs": [],
      "id": "l41ARNphWa8J"
    },
    {
      "cell_type": "code",
      "source": [
        "optimizer = torch.optim.AdamW(model.parameters(), lr=config.LR, weight_decay=config.WD)\n",
        "scheduler = torch.optim.lr_scheduler.OneCycleLR(\n",
        "    optimizer,\n",
        "    pct_start=0.1,\n",
        "    max_lr=config.LR,\n",
        "    epochs=config.EPOCHS,\n",
        "    steps_per_epoch=len(train_dataloader),\n",
        ")"
      ],
      "metadata": {
        "execution": {
          "iopub.status.busy": "2024-05-07T17:50:13.599455Z",
          "iopub.execute_input": "2024-05-07T17:50:13.599741Z",
          "iopub.status.idle": "2024-05-07T17:50:13.607438Z",
          "shell.execute_reply.started": "2024-05-07T17:50:13.599717Z",
          "shell.execute_reply": "2024-05-07T17:50:13.606416Z"
        },
        "trusted": true,
        "id": "YvzL1dZuWa8J"
      },
      "execution_count": null,
      "outputs": [],
      "id": "YvzL1dZuWa8J"
    },
    {
      "cell_type": "code",
      "source": [
        "def move_batch_to_device(batch, device):\n",
        "    batch_x, y = batch\n",
        "    for key in batch_x:\n",
        "        batch_x[key] = batch_x[key].to(device)\n",
        "    y = y.to(device)\n",
        "    return batch_x, y"
      ],
      "metadata": {
        "execution": {
          "iopub.status.busy": "2024-05-07T17:50:13.608964Z",
          "iopub.execute_input": "2024-05-07T17:50:13.609811Z",
          "iopub.status.idle": "2024-05-07T17:50:13.615303Z",
          "shell.execute_reply.started": "2024-05-07T17:50:13.609786Z",
          "shell.execute_reply": "2024-05-07T17:50:13.614324Z"
        },
        "trusted": true,
        "id": "tG27JdsBWa8K"
      },
      "execution_count": null,
      "outputs": [],
      "id": "tG27JdsBWa8K"
    },
    {
      "cell_type": "code",
      "source": [
        "def train_one_epoch(epoch_index, tb_writer):\n",
        "    running_loss = 0.0\n",
        "    running_auc = 0.0\n",
        "    last_loss = 0.0\n",
        "\n",
        "    device = config.DEVICE\n",
        "    # Here, we use enumerate(training_loader) instead of\n",
        "    # iter(training_loader) so that we can track the batch\n",
        "    # index and do some intra-epoch reporting\n",
        "    for i, batch in enumerate(train_dataloader):\n",
        "        # Every data instance is an input + label pair\n",
        "        batch_x, y = move_batch_to_device(batch, device)\n",
        "\n",
        "        # Zero your gradients for every batch!\n",
        "        optimizer.zero_grad()\n",
        "\n",
        "        # Make predictions for this batch\n",
        "        outputs = model(**batch_x)\n",
        "\n",
        "        # Compute the loss and its gradients\n",
        "        loss = loss_fn(outputs, y)\n",
        "        loss.backward()\n",
        "\n",
        "        # Adjust learning weights\n",
        "        optimizer.step()\n",
        "        scheduler.step()\n",
        "\n",
        "        # Gather data and report\n",
        "        running_loss += loss.item()\n",
        "\n",
        "        y = y.cpu().int().numpy()\n",
        "        if y.sum() > 0:\n",
        "            # compute metric\n",
        "            with torch.no_grad():\n",
        "                auc = roc_auc_score(y, outputs.cpu().numpy(), labels=np.array([0, 1]))\n",
        "            running_auc += np.mean(auc)\n",
        "        else:\n",
        "            running_auc += 1\n",
        "\n",
        "        # logging to tb\n",
        "        tb_x = epoch_index * len(train_dataloader) + i + 1\n",
        "        tb_writer.add_scalar(\"lr\", scheduler.get_last_lr()[0], tb_x)\n",
        "        tb_writer.add_scalar(\"Train/auc\", auc, tb_x)\n",
        "        tb_writer.add_scalar(\"Train/loss\", loss, tb_x)\n",
        "\n",
        "        if i % config.LOG_INTERVAL == config.LOG_INTERVAL - 1:\n",
        "            last_loss = running_loss / config.LOG_INTERVAL  # loss per batch\n",
        "            last_auc = running_auc / config.LOG_INTERVAL  # loss per batch\n",
        "            print(\"  batch {} loss: {}, auc: {}\".format(i + 1, last_loss, last_auc))\n",
        "\n",
        "            tb_writer.add_scalar(\"Train/running_loss\", last_loss, tb_x)\n",
        "            tb_writer.add_scalar(\"Train/running_auc\", last_auc, tb_x)\n",
        "            running_loss = 0.0\n",
        "            running_auc = 0.0\n",
        "\n",
        "        if i % 10 == 0:  # clean up memory\n",
        "            gc.collect()\n",
        "            torch.cuda.empty_cache()\n",
        "\n",
        "        if i + 1 >= 5000:\n",
        "            break\n",
        "\n",
        "    return last_loss, last_auc"
      ],
      "metadata": {
        "execution": {
          "iopub.status.busy": "2024-05-07T17:50:13.616885Z",
          "iopub.execute_input": "2024-05-07T17:50:13.617492Z",
          "iopub.status.idle": "2024-05-07T17:50:13.631896Z",
          "shell.execute_reply.started": "2024-05-07T17:50:13.617453Z",
          "shell.execute_reply": "2024-05-07T17:50:13.631045Z"
        },
        "trusted": true,
        "id": "jil9ajSUWa8K"
      },
      "execution_count": null,
      "outputs": [],
      "id": "jil9ajSUWa8K"
    },
    {
      "cell_type": "code",
      "source": [
        "config.DEVICE"
      ],
      "metadata": {
        "execution": {
          "iopub.status.busy": "2024-05-07T17:50:13.633075Z",
          "iopub.execute_input": "2024-05-07T17:50:13.633498Z",
          "iopub.status.idle": "2024-05-07T17:50:13.644633Z",
          "shell.execute_reply.started": "2024-05-07T17:50:13.633468Z",
          "shell.execute_reply": "2024-05-07T17:50:13.643643Z"
        },
        "trusted": true,
        "id": "bxrnm8odWa8K",
        "outputId": "ed50e856-f071-4350-f697-bb7a5342a8fa"
      },
      "execution_count": null,
      "outputs": [
        {
          "execution_count": 29,
          "output_type": "execute_result",
          "data": {
            "text/plain": "device(type='cuda', index=0)"
          },
          "metadata": {}
        }
      ],
      "id": "bxrnm8odWa8K"
    },
    {
      "cell_type": "code",
      "source": [
        "epoch_number = 0\n",
        "\n",
        "best_vloss = 1_000_000.0\n",
        "\n",
        "for epoch in range(config.EPOCHS):\n",
        "    print(\"EPOCH {}:\".format(epoch_number + 1))\n",
        "\n",
        "    # Make sure gradient tracking is on, and do a pass over the data\n",
        "    model.train(True)\n",
        "    avg_loss, avg_auc = train_one_epoch(epoch_number, writer)\n",
        "\n",
        "    running_vloss = 0.0\n",
        "    running_vauc = 0.0\n",
        "    # Set the model to evaluation mode, disabling dropout and using population\n",
        "    # statistics for batch normalization.\n",
        "    model.eval()\n",
        "\n",
        "    # Disable gradient computation and reduce memory consumption.\n",
        "    with torch.no_grad():\n",
        "        preds = []\n",
        "        for i, batch in enumerate(valid_dataloader):\n",
        "            batch_x, y = move_batch_to_device(batch, config.DEVICE)\n",
        "            voutputs = model(**batch_x)\n",
        "            vloss = loss_fn(voutputs, y)\n",
        "            running_vloss += vloss\n",
        "\n",
        "            y = y.cpu().int().numpy()\n",
        "            if y.sum() > 0:\n",
        "                # compute metric\n",
        "                with torch.no_grad():\n",
        "                    auc = roc_auc_score(y, voutputs.cpu().numpy(), labels=np.array([0, 1]))\n",
        "                running_vauc += np.mean(auc)\n",
        "            else:\n",
        "                running_vauc += 1\n",
        "\n",
        "    avg_vloss = running_vloss / (i + 1)\n",
        "    avg_vauc = running_vauc / (i + 1)\n",
        "    print(\"LOSS train {} valid {}\".format(avg_loss, avg_vloss))\n",
        "    print(\"AUC train {} valid {}\".format(avg_auc, avg_vauc))\n",
        "    writer.add_scalar(\"Valid/loss\", avg_vloss, epoch)\n",
        "    writer.add_scalar(\"Valid/auc\", avg_vauc, epoch)\n",
        "\n",
        "    # Track best performance, and save the model's state\n",
        "    if avg_vloss < best_vloss:\n",
        "        best_vloss = avg_vloss\n",
        "\n",
        "        checkpoint = {\n",
        "            \"epoch\": epoch,\n",
        "            \"model_state_dict\": model.state_dict(),\n",
        "            \"optimizer_state_dict\": optimizer.state_dict(),\n",
        "            \"scheduler_state_dict\": scheduler.state_dict(),\n",
        "            \"best_vloss\": best_vloss,\n",
        "        }\n",
        "\n",
        "        torch.save(\n",
        "            checkpoint, f\"{config.SAVE_DIR}/ckpt_epoch_{epoch}_loss{best_vloss}.pt\"\n",
        "        )\n",
        "\n",
        "    epoch_number += 1"
      ],
      "metadata": {
        "execution": {
          "iopub.status.busy": "2024-05-07T11:29:13.376107Z",
          "iopub.execute_input": "2024-05-07T11:29:13.376540Z",
          "iopub.status.idle": "2024-05-07T15:26:54.734916Z",
          "shell.execute_reply.started": "2024-05-07T11:29:13.376509Z",
          "shell.execute_reply": "2024-05-07T15:26:54.733805Z"
        },
        "trusted": true,
        "id": "i6n_XznLWa8K",
        "outputId": "89a21fee-c2c0-44af-e439-8ee02910d50b"
      },
      "execution_count": null,
      "outputs": [
        {
          "name": "stdout",
          "text": "EPOCH 1:\n  batch 250 loss: 0.6886726348400116, auc: 0.6075377844617882\n  batch 500 loss: 0.675019282579422, auc: 0.71487551765009\n  batch 750 loss: 0.6714050917625427, auc: 0.735011804672156\n  batch 1000 loss: 0.6680675461292267, auc: 0.7526184608854549\n  batch 1250 loss: 0.6669481067657471, auc: 0.7530203595974533\n  batch 1500 loss: 0.6659682404994964, auc: 0.7564207875266089\n  batch 1750 loss: 0.6640447466373444, auc: 0.7701918903338408\n  batch 2000 loss: 0.6644565877914429, auc: 0.770271971491206\n  batch 2250 loss: 0.6627388315200806, auc: 0.7793648823132953\n  batch 2500 loss: 0.6622070245742798, auc: 0.7798785247698724\n  batch 2750 loss: 0.6608968880176544, auc: 0.7834997115391246\n  batch 3000 loss: 0.6611271476745606, auc: 0.7797896867203953\n  batch 3250 loss: 0.6606471478939057, auc: 0.7835831460559777\n  batch 3500 loss: 0.6599810106754302, auc: 0.7829220606046728\nLOSS train 0.6599810106754302 valid 0.6589420437812805\nAUC train 0.7829220606046728 valid 0.7657148414442292\n",
          "output_type": "stream"
        }
      ],
      "id": "i6n_XznLWa8K"
    },
    {
      "cell_type": "markdown",
      "source": [
        "* Обучение модели заняло чуть более 4 часов"
      ],
      "metadata": {
        "id": "ZNOqmJDcWa8N"
      },
      "id": "ZNOqmJDcWa8N"
    },
    {
      "cell_type": "markdown",
      "source": [
        "### Сохранение cross-encoder-модели в датасет"
      ],
      "metadata": {
        "id": "TEdPeT_LWa8L"
      },
      "id": "TEdPeT_LWa8L"
    },
    {
      "cell_type": "code",
      "source": [
        "#Сохранение модели\n",
        "#torch.save(model, \"cross_encoder.pth\")"
      ],
      "metadata": {
        "execution": {
          "iopub.status.busy": "2024-05-07T15:34:13.146033Z",
          "iopub.execute_input": "2024-05-07T15:34:13.146942Z",
          "iopub.status.idle": "2024-05-07T15:34:15.838716Z",
          "shell.execute_reply.started": "2024-05-07T15:34:13.146908Z",
          "shell.execute_reply": "2024-05-07T15:34:15.837597Z"
        },
        "trusted": true,
        "id": "K4-5eWfMWa8L"
      },
      "execution_count": null,
      "outputs": [],
      "id": "K4-5eWfMWa8L"
    },
    {
      "cell_type": "code",
      "source": [
        "!mkdir /kaggle/working/cross_encoder\n",
        "!wget https://raw.githubusercontent.com/MaxTimoshkin/vk-msu-ir-course-spring-2024/main/homeworks/nn-reranking/dataset-metadata.json"
      ],
      "metadata": {
        "trusted": true,
        "id": "QW7Dc1PhWa8M"
      },
      "execution_count": null,
      "outputs": [],
      "id": "QW7Dc1PhWa8M"
    },
    {
      "cell_type": "code",
      "source": [
        "!wget https://raw.githubusercontent.com/MaxTimoshkin/vk-msu-ir-course-spring-2024/main/homeworks/nn-reranking/kaggle.json\n",
        "!mv kaggle.json /root/.kaggle/kaggle.json\n",
        "!chmod 600 /root/.kaggle/kaggle.json"
      ],
      "metadata": {
        "trusted": true,
        "id": "vphw-UjHWa8M"
      },
      "execution_count": null,
      "outputs": [],
      "id": "vphw-UjHWa8M"
    },
    {
      "cell_type": "code",
      "source": [
        "!mv /kaggle/working/cross_encoder.pth  /kaggle/working/cross_encoder/cross_encoder.pth\n",
        "!mv /kaggle/working/dataset-metadata.json /kaggle/working/cross_encoder/dataset-metadata.json"
      ],
      "metadata": {
        "trusted": true,
        "id": "CUFfNW78Wa8M"
      },
      "execution_count": null,
      "outputs": [],
      "id": "CUFfNW78Wa8M"
    },
    {
      "cell_type": "code",
      "source": [
        "!kaggle datasets create -p /kaggle/working/cross_encoder"
      ],
      "metadata": {
        "execution": {
          "iopub.status.busy": "2024-05-07T17:25:40.167028Z",
          "iopub.execute_input": "2024-05-07T17:25:40.168021Z",
          "iopub.status.idle": "2024-05-07T17:25:54.428597Z",
          "shell.execute_reply.started": "2024-05-07T17:25:40.167984Z",
          "shell.execute_reply": "2024-05-07T17:25:54.427164Z"
        },
        "trusted": true,
        "id": "KUYKRfG9Wa8M"
      },
      "execution_count": null,
      "outputs": [],
      "id": "KUYKRfG9Wa8M"
    },
    {
      "cell_type": "code",
      "source": [
        "# Загрузка модели\n",
        "model = torch.load('/kaggle/input/cross-encoder/cross_encoder.pth')"
      ],
      "metadata": {
        "execution": {
          "iopub.status.busy": "2024-05-07T17:50:14.358751Z",
          "iopub.execute_input": "2024-05-07T17:50:14.359256Z",
          "iopub.status.idle": "2024-05-07T17:50:21.759202Z",
          "shell.execute_reply.started": "2024-05-07T17:50:14.359222Z",
          "shell.execute_reply": "2024-05-07T17:50:21.758284Z"
        },
        "trusted": true,
        "id": "AKFfW4tBWa8N"
      },
      "execution_count": null,
      "outputs": [],
      "id": "AKFfW4tBWa8N"
    },
    {
      "cell_type": "markdown",
      "source": [
        "### Метрики для финальной модели"
      ],
      "metadata": {
        "id": "-QYVI-stWa8N"
      },
      "id": "-QYVI-stWa8N"
    },
    {
      "cell_type": "code",
      "source": [
        "start_time = time.time()\n",
        "\n",
        "def get_test_preds(model):\n",
        "    model.eval()  # eval mode\n",
        "    y_test = []\n",
        "\n",
        "    for i, batch in enumerate(tqdm.tqdm(valid_dataloader, position=0, leave=True, desc=f\"Test: \")):\n",
        "        batch_x, y = move_batch_to_device(batch, config.DEVICE)\n",
        "        with torch.no_grad():\n",
        "            preds = model(**batch_x)\n",
        "            y_test += [preds]\n",
        "\n",
        "    y_test = torch.cat(y_test).view(-1).cpu().numpy()\n",
        "    return y_test\n",
        "\n",
        "\n",
        "y_test = get_test_preds(model)\n",
        "end_time = time.time()\n",
        "print(f\"Test time: {end_time - start_time} seconds\")"
      ],
      "metadata": {
        "execution": {
          "iopub.status.busy": "2024-05-07T15:35:14.061744Z",
          "iopub.execute_input": "2024-05-07T15:35:14.062130Z",
          "iopub.status.idle": "2024-05-07T15:40:04.743439Z",
          "shell.execute_reply.started": "2024-05-07T15:35:14.062100Z",
          "shell.execute_reply": "2024-05-07T15:40:04.742323Z"
        },
        "trusted": true,
        "id": "F7baufY7Wa8N",
        "outputId": "12849001-4aec-4902-f7b7-607b35322f62"
      },
      "execution_count": null,
      "outputs": [
        {
          "name": "stderr",
          "text": "Test: 100%|██████████| 206/206 [04:50<00:00,  1.41s/it]",
          "output_type": "stream"
        },
        {
          "name": "stdout",
          "text": "Test time: 290.67347955703735 seconds\n",
          "output_type": "stream"
        },
        {
          "name": "stderr",
          "text": "\n",
          "output_type": "stream"
        }
      ],
      "id": "F7baufY7Wa8N"
    },
    {
      "cell_type": "code",
      "source": [
        "print(f'Test roc_auc: {roc_auc_score(dataset_valid.data[\"label\"].values == 1, y_test, labels=np.array([0, 1]))}')"
      ],
      "metadata": {
        "execution": {
          "iopub.status.busy": "2024-05-07T15:41:00.647122Z",
          "iopub.execute_input": "2024-05-07T15:41:00.647547Z",
          "iopub.status.idle": "2024-05-07T15:41:00.684513Z",
          "shell.execute_reply.started": "2024-05-07T15:41:00.647515Z",
          "shell.execute_reply": "2024-05-07T15:41:00.683647Z"
        },
        "trusted": true,
        "id": "VPtj0s3sWa8O",
        "outputId": "5b638917-923b-4000-fe70-b70306880f0d"
      },
      "execution_count": null,
      "outputs": [
        {
          "name": "stdout",
          "text": "Test roc_auc: 0.7962537967116008\n",
          "output_type": "stream"
        }
      ],
      "id": "VPtj0s3sWa8O"
    },
    {
      "cell_type": "code",
      "source": [
        "k = 10\n",
        "mrr = MRR(y_test, test_data[\"label\"].values == 1, test_data[\"qid\"].values, k)\n",
        "ndcg = NDCG(y_test, test_data[\"label\"].values, test_data[\"qid\"].values, k)\n",
        "print(f\"MRR@{k}: {mrr}, NDCG@{k}: {ndcg}\")"
      ],
      "metadata": {
        "execution": {
          "iopub.status.busy": "2024-05-07T15:41:03.224955Z",
          "iopub.execute_input": "2024-05-07T15:41:03.225333Z",
          "iopub.status.idle": "2024-05-07T15:41:04.503559Z",
          "shell.execute_reply.started": "2024-05-07T15:41:03.225304Z",
          "shell.execute_reply": "2024-05-07T15:41:04.502517Z"
        },
        "trusted": true,
        "id": "GahUPFQ5Wa8W",
        "outputId": "918d9a7d-c8c5-48a5-8e9a-9cdb263d4f9f"
      },
      "execution_count": null,
      "outputs": [
        {
          "name": "stdout",
          "text": "MRR@10: 0.3191421329975128, NDCG@10: 0.770759105682373\n",
          "output_type": "stream"
        }
      ],
      "id": "GahUPFQ5Wa8W"
    },
    {
      "cell_type": "markdown",
      "source": [
        "### Отправка решения"
      ],
      "metadata": {
        "id": "58v45E1oWa8W"
      },
      "id": "58v45E1oWa8W"
    },
    {
      "cell_type": "code",
      "source": [
        "submission = pd.read_csv('/kaggle/input/text-reranking-competition-ir-msu-spring-2024/sample_submission.csv')\n",
        "submission"
      ],
      "metadata": {
        "execution": {
          "iopub.status.busy": "2024-05-07T18:07:17.245947Z",
          "iopub.execute_input": "2024-05-07T18:07:17.246388Z",
          "iopub.status.idle": "2024-05-07T18:07:17.352833Z",
          "shell.execute_reply.started": "2024-05-07T18:07:17.246357Z",
          "shell.execute_reply": "2024-05-07T18:07:17.351771Z"
        },
        "trusted": true,
        "id": "Gj70PlvyWa8W",
        "outputId": "88734123-ba8e-427d-8985-26ee39fe5e73"
      },
      "execution_count": null,
      "outputs": [
        {
          "execution_count": 53,
          "output_type": "execute_result",
          "data": {
            "text/plain": "        QueryId  DocumentId\n0             3  D000000029\n1             3  D000000040\n2             3  D000000039\n3             3  D000000035\n4             3  D000000034\n...         ...         ...\n152687    42768  D001258585\n152688    42768  D001258581\n152689    42768  D001258575\n152690    42768  D001258584\n152691    42768  D001258582\n\n[152692 rows x 2 columns]",
            "text/html": "<div>\n<style scoped>\n    .dataframe tbody tr th:only-of-type {\n        vertical-align: middle;\n    }\n\n    .dataframe tbody tr th {\n        vertical-align: top;\n    }\n\n    .dataframe thead th {\n        text-align: right;\n    }\n</style>\n<table border=\"1\" class=\"dataframe\">\n  <thead>\n    <tr style=\"text-align: right;\">\n      <th></th>\n      <th>QueryId</th>\n      <th>DocumentId</th>\n    </tr>\n  </thead>\n  <tbody>\n    <tr>\n      <th>0</th>\n      <td>3</td>\n      <td>D000000029</td>\n    </tr>\n    <tr>\n      <th>1</th>\n      <td>3</td>\n      <td>D000000040</td>\n    </tr>\n    <tr>\n      <th>2</th>\n      <td>3</td>\n      <td>D000000039</td>\n    </tr>\n    <tr>\n      <th>3</th>\n      <td>3</td>\n      <td>D000000035</td>\n    </tr>\n    <tr>\n      <th>4</th>\n      <td>3</td>\n      <td>D000000034</td>\n    </tr>\n    <tr>\n      <th>...</th>\n      <td>...</td>\n      <td>...</td>\n    </tr>\n    <tr>\n      <th>152687</th>\n      <td>42768</td>\n      <td>D001258585</td>\n    </tr>\n    <tr>\n      <th>152688</th>\n      <td>42768</td>\n      <td>D001258581</td>\n    </tr>\n    <tr>\n      <th>152689</th>\n      <td>42768</td>\n      <td>D001258575</td>\n    </tr>\n    <tr>\n      <th>152690</th>\n      <td>42768</td>\n      <td>D001258584</td>\n    </tr>\n    <tr>\n      <th>152691</th>\n      <td>42768</td>\n      <td>D001258582</td>\n    </tr>\n  </tbody>\n</table>\n<p>152692 rows × 2 columns</p>\n</div>"
          },
          "metadata": {}
        }
      ],
      "id": "Gj70PlvyWa8W"
    },
    {
      "cell_type": "code",
      "source": [
        "test = pd.read_csv('/kaggle/input/text-reranking-competition-ir-msu-spring-2024/vkmarco-doceval-queries.tsv',\n",
        "                   sep='\\t', header=None, names=['QueryId', 'query'])\n",
        "test"
      ],
      "metadata": {
        "execution": {
          "iopub.status.busy": "2024-05-07T18:07:29.553630Z",
          "iopub.execute_input": "2024-05-07T18:07:29.554591Z",
          "iopub.status.idle": "2024-05-07T18:07:29.580372Z",
          "shell.execute_reply.started": "2024-05-07T18:07:29.554555Z",
          "shell.execute_reply": "2024-05-07T18:07:29.579280Z"
        },
        "trusted": true,
        "id": "ZgV0y7ICWa8X",
        "outputId": "7841d3e7-3923-4c90-e9b6-228e28f659e4"
      },
      "execution_count": null,
      "outputs": [
        {
          "execution_count": 54,
          "output_type": "execute_result",
          "data": {
            "text/plain": "      QueryId                                              query\n0        7815                  куркумин эвалар побочные действия\n1       26784    стрижки на волнистых волосах средней длины 2019\n2       39924                                     1 бальбоа 1941\n3       42626  установка передних брызговиков фольксваген тра...\n4       39505                            музыка мія бойко 10 в 1\n...       ...                                                ...\n4995     1385                          sokolov jewelry википедия\n4996     2271                          байкал подлеморье энхалук\n4997    26304                      не найден подписанный драйвер\n4998     9323            незаряженный конденсатор емкость 100мкф\n4999    26216                                 масоны монеты цена\n\n[5000 rows x 2 columns]",
            "text/html": "<div>\n<style scoped>\n    .dataframe tbody tr th:only-of-type {\n        vertical-align: middle;\n    }\n\n    .dataframe tbody tr th {\n        vertical-align: top;\n    }\n\n    .dataframe thead th {\n        text-align: right;\n    }\n</style>\n<table border=\"1\" class=\"dataframe\">\n  <thead>\n    <tr style=\"text-align: right;\">\n      <th></th>\n      <th>QueryId</th>\n      <th>query</th>\n    </tr>\n  </thead>\n  <tbody>\n    <tr>\n      <th>0</th>\n      <td>7815</td>\n      <td>куркумин эвалар побочные действия</td>\n    </tr>\n    <tr>\n      <th>1</th>\n      <td>26784</td>\n      <td>стрижки на волнистых волосах средней длины 2019</td>\n    </tr>\n    <tr>\n      <th>2</th>\n      <td>39924</td>\n      <td>1 бальбоа 1941</td>\n    </tr>\n    <tr>\n      <th>3</th>\n      <td>42626</td>\n      <td>установка передних брызговиков фольксваген тра...</td>\n    </tr>\n    <tr>\n      <th>4</th>\n      <td>39505</td>\n      <td>музыка мія бойко 10 в 1</td>\n    </tr>\n    <tr>\n      <th>...</th>\n      <td>...</td>\n      <td>...</td>\n    </tr>\n    <tr>\n      <th>4995</th>\n      <td>1385</td>\n      <td>sokolov jewelry википедия</td>\n    </tr>\n    <tr>\n      <th>4996</th>\n      <td>2271</td>\n      <td>байкал подлеморье энхалук</td>\n    </tr>\n    <tr>\n      <th>4997</th>\n      <td>26304</td>\n      <td>не найден подписанный драйвер</td>\n    </tr>\n    <tr>\n      <th>4998</th>\n      <td>9323</td>\n      <td>незаряженный конденсатор емкость 100мкф</td>\n    </tr>\n    <tr>\n      <th>4999</th>\n      <td>26216</td>\n      <td>масоны монеты цена</td>\n    </tr>\n  </tbody>\n</table>\n<p>5000 rows × 2 columns</p>\n</div>"
          },
          "metadata": {}
        }
      ],
      "id": "ZgV0y7ICWa8X"
    },
    {
      "cell_type": "code",
      "source": [
        "df_docs.rename(columns = {'docid': 'DocumentId'}, inplace=True)\n",
        "df_docs"
      ],
      "metadata": {
        "execution": {
          "iopub.status.busy": "2024-05-07T18:07:33.548969Z",
          "iopub.execute_input": "2024-05-07T18:07:33.550276Z",
          "iopub.status.idle": "2024-05-07T18:07:33.564724Z",
          "shell.execute_reply.started": "2024-05-07T18:07:33.550229Z",
          "shell.execute_reply": "2024-05-07T18:07:33.563599Z"
        },
        "trusted": true,
        "id": "mj-T_y6kWa8X",
        "outputId": "ce1fd79d-f533-46a2-cb96-56fc883a4724"
      },
      "execution_count": null,
      "outputs": [
        {
          "execution_count": 55,
          "output_type": "execute_result",
          "data": {
            "text/plain": "         DocumentId                                                url  \\\n0        D000000001  zvuk.top/tracks/%D0%B4%D0%BE%D0%BC-raim-feat-a...   \n1        D000000002                   musickz.kz/index.php?newsid=3221   \n2        D000000003    muzvuk.net/1965-raim-ft-artur-amp-adil-dom.html   \n3        D000000004        zvuq.net/4415-raim-feat-artur-adil-dom.html   \n4        D000000005  mussic.kz/kazahskie-pesni/2417-raim-feat-artur...   \n...             ...                                                ...   \n1258651  D001258652  hy.wikipedia.org/wiki/%D5%84%D5%A1%D5%B5%D5%AB...   \n1258652  D001258653  ysu.am/science/ru/Lusine-Grigoryan/type/1/show...   \n1258653  D001258654                ac.qq.com/Comic/comicInfo/id/637247   \n1258654  D001258655                    vk.com/video357967041_456239061   \n1258655  D001258656                    youtube.com/watch?v=rkXBU0W5CLY   \n\n                                                     title  \\\n0        Дом raim feat artur adil музыка в MP3 🎵 – скач...   \n1               Скачать RaiM feat. Artur & Adil - Дом 2018   \n2                RaiM ft. Artur & Adil - Дом - Скачать mp3   \n3        RaiM feat. Artur & Adil - Дом - скачать в mp3 ...   \n4        Скачать Дом - RaiM feat. Artur & Adil — Mussic.kz   \n...                                                    ...   \n1258651            Մայիսի 9 - Վիքիպեդիա՝ ազատ հանրագիտարան   \n1258652                                                NaN   \n1258653              大英雄的女友超级凶-大英雄的女友超级凶在线漫画-在线漫画-腾讯动漫官方网站   \n1258654                善良的女祕書 [中文字幕].. — Видео | ВКонтакте   \n1258655  清纯大胸美女人妻被强行凌辱！还爱上自己的弟弟，弟弟为了摆脱姐姐与长腿少女在酒店激情 - Yo...   \n\n                                                      body  \n0        Скачивай и слушай 🎧 raim дом o2 2018 на Zvuk.t...  \n1        Скачать песню RaiM feat. Artur & Adil - Дом бе...  \n2        Скачать песню RaiM ft. Artur & Adil - Дом в Фо...  \n3        Скачать RaiM feat. Artur & Adil - Дом в mp3 фо...  \n4        Здесь можете бесплатно скачать Дом - RaiM feat...  \n...                                                    ...  \n1258651  null Մայիսի 9 << Մայիս >> Կի Եկ Եք Չո Հի Ու Շա...  \n1258652  null Հայերեն English 02 Сентября 2022 | Пятниц...  \n1258653  系统漫画《大英雄的女友超级凶》，简介：根据阿里巴巴文学二次元签约作者大仙的同名小说改编。他是...  \n1258654  Смотрите онлайн 善良的女祕書 [中文字幕].. 20 мин 14 с. В...  \n1258655  大家好，我是小影。請關注微信訂閱號：HSSJ2019 回復：XZ32 每天更新，想获得更多影...  \n\n[1258656 rows x 4 columns]",
            "text/html": "<div>\n<style scoped>\n    .dataframe tbody tr th:only-of-type {\n        vertical-align: middle;\n    }\n\n    .dataframe tbody tr th {\n        vertical-align: top;\n    }\n\n    .dataframe thead th {\n        text-align: right;\n    }\n</style>\n<table border=\"1\" class=\"dataframe\">\n  <thead>\n    <tr style=\"text-align: right;\">\n      <th></th>\n      <th>DocumentId</th>\n      <th>url</th>\n      <th>title</th>\n      <th>body</th>\n    </tr>\n  </thead>\n  <tbody>\n    <tr>\n      <th>0</th>\n      <td>D000000001</td>\n      <td>zvuk.top/tracks/%D0%B4%D0%BE%D0%BC-raim-feat-a...</td>\n      <td>Дом raim feat artur adil музыка в MP3 🎵 – скач...</td>\n      <td>Скачивай и слушай 🎧 raim дом o2 2018 на Zvuk.t...</td>\n    </tr>\n    <tr>\n      <th>1</th>\n      <td>D000000002</td>\n      <td>musickz.kz/index.php?newsid=3221</td>\n      <td>Скачать RaiM feat. Artur &amp; Adil - Дом 2018</td>\n      <td>Скачать песню RaiM feat. Artur &amp; Adil - Дом бе...</td>\n    </tr>\n    <tr>\n      <th>2</th>\n      <td>D000000003</td>\n      <td>muzvuk.net/1965-raim-ft-artur-amp-adil-dom.html</td>\n      <td>RaiM ft. Artur &amp; Adil - Дом - Скачать mp3</td>\n      <td>Скачать песню RaiM ft. Artur &amp; Adil - Дом в Фо...</td>\n    </tr>\n    <tr>\n      <th>3</th>\n      <td>D000000004</td>\n      <td>zvuq.net/4415-raim-feat-artur-adil-dom.html</td>\n      <td>RaiM feat. Artur &amp; Adil - Дом - скачать в mp3 ...</td>\n      <td>Скачать RaiM feat. Artur &amp; Adil - Дом в mp3 фо...</td>\n    </tr>\n    <tr>\n      <th>4</th>\n      <td>D000000005</td>\n      <td>mussic.kz/kazahskie-pesni/2417-raim-feat-artur...</td>\n      <td>Скачать Дом - RaiM feat. Artur &amp; Adil — Mussic.kz</td>\n      <td>Здесь можете бесплатно скачать Дом - RaiM feat...</td>\n    </tr>\n    <tr>\n      <th>...</th>\n      <td>...</td>\n      <td>...</td>\n      <td>...</td>\n      <td>...</td>\n    </tr>\n    <tr>\n      <th>1258651</th>\n      <td>D001258652</td>\n      <td>hy.wikipedia.org/wiki/%D5%84%D5%A1%D5%B5%D5%AB...</td>\n      <td>Մայիսի 9 - Վիքիպեդիա՝ ազատ հանրագիտարան</td>\n      <td>null Մայիսի 9 &lt;&lt; Մայիս &gt;&gt; Կի Եկ Եք Չո Հի Ու Շա...</td>\n    </tr>\n    <tr>\n      <th>1258652</th>\n      <td>D001258653</td>\n      <td>ysu.am/science/ru/Lusine-Grigoryan/type/1/show...</td>\n      <td>NaN</td>\n      <td>null Հայերեն English 02 Сентября 2022 | Пятниц...</td>\n    </tr>\n    <tr>\n      <th>1258653</th>\n      <td>D001258654</td>\n      <td>ac.qq.com/Comic/comicInfo/id/637247</td>\n      <td>大英雄的女友超级凶-大英雄的女友超级凶在线漫画-在线漫画-腾讯动漫官方网站</td>\n      <td>系统漫画《大英雄的女友超级凶》，简介：根据阿里巴巴文学二次元签约作者大仙的同名小说改编。他是...</td>\n    </tr>\n    <tr>\n      <th>1258654</th>\n      <td>D001258655</td>\n      <td>vk.com/video357967041_456239061</td>\n      <td>善良的女祕書 [中文字幕].. — Видео | ВКонтакте</td>\n      <td>Смотрите онлайн 善良的女祕書 [中文字幕].. 20 мин 14 с. В...</td>\n    </tr>\n    <tr>\n      <th>1258655</th>\n      <td>D001258656</td>\n      <td>youtube.com/watch?v=rkXBU0W5CLY</td>\n      <td>清纯大胸美女人妻被强行凌辱！还爱上自己的弟弟，弟弟为了摆脱姐姐与长腿少女在酒店激情 - Yo...</td>\n      <td>大家好，我是小影。請關注微信訂閱號：HSSJ2019 回復：XZ32 每天更新，想获得更多影...</td>\n    </tr>\n  </tbody>\n</table>\n<p>1258656 rows × 4 columns</p>\n</div>"
          },
          "metadata": {}
        }
      ],
      "id": "mj-T_y6kWa8X"
    },
    {
      "cell_type": "code",
      "source": [
        "test_data = pd.merge(submission, test, on='QueryId')\n",
        "test_data = pd.merge(df_docs, test_data, on='DocumentId')\n",
        "test_data = test_data.drop(columns='url')\n",
        "test_data"
      ],
      "metadata": {
        "execution": {
          "iopub.status.busy": "2024-05-07T18:07:35.967021Z",
          "iopub.execute_input": "2024-05-07T18:07:35.967433Z",
          "iopub.status.idle": "2024-05-07T18:07:36.884933Z",
          "shell.execute_reply.started": "2024-05-07T18:07:35.967402Z",
          "shell.execute_reply": "2024-05-07T18:07:36.883835Z"
        },
        "trusted": true,
        "id": "NaqZCm8vWa8X",
        "outputId": "b67f6ebf-c43e-4bb2-9f49-eb7f9ff6e3cb"
      },
      "execution_count": null,
      "outputs": [
        {
          "execution_count": 56,
          "output_type": "execute_result",
          "data": {
            "text/plain": "        DocumentId                                              title  \\\n0       D000000029  Текила Максимо де Кодорниз Сильвер | Федеральн...   \n1       D000000030  Текила. Ром. Джин - Алкоголь, энергетики - Руч...   \n2       D000000031  Текила Jose Cuervo Especial Silver 0.7 л 38% (...   \n3       D000000032     Текила \"Максимо Де Кодорниз Сильвер\" 0,5л. 38%   \n4       D000000033  Меню и цены - Чайхана Чайхауз в Домодедово в М...   \n...            ...                                                ...   \n152687  D001258581  Հայկական ծագում ունեցող անձնանունների ցանկ - Վ...   \n152688  D001258582  Դիտարկումներ «Ապօրինի ծագում ունեցող գույքի բռ...   \n152689  D001258583  1or.am | «Հրապարակ». Երկուշաբթի Գլխավոր դատախա...   \n152690  D001258584  ArmDaily.am | Արդարադատության նախարարությունու...   \n152691  D001258585  Ինչպե՞ս բռնագանձել ապօրինի ծագում ունեցող գույ...   \n\n                                                     body  QueryId  \\\n0       Федеральный реестр алкогольной продукции онлай...        3   \n1       Текила. Ром. Джин, Алкоголь, энергетики, Интер...        3   \n2       Почитать отзывы о товаре 👉 Текила Jose Cuervo ...        3   \n3       SCID scidФирменный магазин Московского Завода ...        3   \n4       ⭐⭐⭐⭐⭐Представляем вашему вниманию цены на разл...        3   \n...                                                   ...      ...   \n152687  null Հայկական ծագում ունեցող անձնանունների ցան...    42768   \n152688  ՀՀ արդարադատության նախարարության կողմից 2019 թ...    42768   \n152689  null ﻿ Հրահանգի կատարման լկտիության համար՝ պար...    42768   \n152690  null ﻿ Երևան, 16.Հուլիս.2022, 00 : 00 Խմբագրակ...    42768   \n152691  null Wednesday, 13 07 2022 ՀԱՅԱՍՏԱՆ ՔԱՂԱՔԱԿԱՆ ...    42768   \n\n                                            query  \n0       0 5 текила максимо де кодорниз сильвер 38  \n1       0 5 текила максимо де кодорниз сильвер 38  \n2       0 5 текила максимо де кодорниз сильвер 38  \n3       0 5 текила максимо де кодорниз сильвер 38  \n4       0 5 текила максимо де кодорниз сильвер 38  \n...                                           ...  \n152687                     ապօրինի ծագում ունեցող  \n152688                     ապօրինի ծագում ունեցող  \n152689                     ապօրինի ծագում ունեցող  \n152690                     ապօրինի ծագում ունեցող  \n152691                     ապօրինի ծագում ունեցող  \n\n[152692 rows x 5 columns]",
            "text/html": "<div>\n<style scoped>\n    .dataframe tbody tr th:only-of-type {\n        vertical-align: middle;\n    }\n\n    .dataframe tbody tr th {\n        vertical-align: top;\n    }\n\n    .dataframe thead th {\n        text-align: right;\n    }\n</style>\n<table border=\"1\" class=\"dataframe\">\n  <thead>\n    <tr style=\"text-align: right;\">\n      <th></th>\n      <th>DocumentId</th>\n      <th>title</th>\n      <th>body</th>\n      <th>QueryId</th>\n      <th>query</th>\n    </tr>\n  </thead>\n  <tbody>\n    <tr>\n      <th>0</th>\n      <td>D000000029</td>\n      <td>Текила Максимо де Кодорниз Сильвер | Федеральн...</td>\n      <td>Федеральный реестр алкогольной продукции онлай...</td>\n      <td>3</td>\n      <td>0 5 текила максимо де кодорниз сильвер 38</td>\n    </tr>\n    <tr>\n      <th>1</th>\n      <td>D000000030</td>\n      <td>Текила. Ром. Джин - Алкоголь, энергетики - Руч...</td>\n      <td>Текила. Ром. Джин, Алкоголь, энергетики, Интер...</td>\n      <td>3</td>\n      <td>0 5 текила максимо де кодорниз сильвер 38</td>\n    </tr>\n    <tr>\n      <th>2</th>\n      <td>D000000031</td>\n      <td>Текила Jose Cuervo Especial Silver 0.7 л 38% (...</td>\n      <td>Почитать отзывы о товаре 👉 Текила Jose Cuervo ...</td>\n      <td>3</td>\n      <td>0 5 текила максимо де кодорниз сильвер 38</td>\n    </tr>\n    <tr>\n      <th>3</th>\n      <td>D000000032</td>\n      <td>Текила \"Максимо Де Кодорниз Сильвер\" 0,5л. 38%</td>\n      <td>SCID scidФирменный магазин Московского Завода ...</td>\n      <td>3</td>\n      <td>0 5 текила максимо де кодорниз сильвер 38</td>\n    </tr>\n    <tr>\n      <th>4</th>\n      <td>D000000033</td>\n      <td>Меню и цены - Чайхана Чайхауз в Домодедово в М...</td>\n      <td>⭐⭐⭐⭐⭐Представляем вашему вниманию цены на разл...</td>\n      <td>3</td>\n      <td>0 5 текила максимо де кодорниз сильвер 38</td>\n    </tr>\n    <tr>\n      <th>...</th>\n      <td>...</td>\n      <td>...</td>\n      <td>...</td>\n      <td>...</td>\n      <td>...</td>\n    </tr>\n    <tr>\n      <th>152687</th>\n      <td>D001258581</td>\n      <td>Հայկական ծագում ունեցող անձնանունների ցանկ - Վ...</td>\n      <td>null Հայկական ծագում ունեցող անձնանունների ցան...</td>\n      <td>42768</td>\n      <td>ապօրինի ծագում ունեցող</td>\n    </tr>\n    <tr>\n      <th>152688</th>\n      <td>D001258582</td>\n      <td>Դիտարկումներ «Ապօրինի ծագում ունեցող գույքի բռ...</td>\n      <td>ՀՀ արդարադատության նախարարության կողմից 2019 թ...</td>\n      <td>42768</td>\n      <td>ապօրինի ծագում ունեցող</td>\n    </tr>\n    <tr>\n      <th>152689</th>\n      <td>D001258583</td>\n      <td>1or.am | «Հրապարակ». Երկուշաբթի Գլխավոր դատախա...</td>\n      <td>null ﻿ Հրահանգի կատարման լկտիության համար՝ պար...</td>\n      <td>42768</td>\n      <td>ապօրինի ծագում ունեցող</td>\n    </tr>\n    <tr>\n      <th>152690</th>\n      <td>D001258584</td>\n      <td>ArmDaily.am | Արդարադատության նախարարությունու...</td>\n      <td>null ﻿ Երևան, 16.Հուլիս.2022, 00 : 00 Խմբագրակ...</td>\n      <td>42768</td>\n      <td>ապօրինի ծագում ունեցող</td>\n    </tr>\n    <tr>\n      <th>152691</th>\n      <td>D001258585</td>\n      <td>Ինչպե՞ս բռնագանձել ապօրինի ծագում ունեցող գույ...</td>\n      <td>null Wednesday, 13 07 2022 ՀԱՅԱՍՏԱՆ ՔԱՂԱՔԱԿԱՆ ...</td>\n      <td>42768</td>\n      <td>ապօրինի ծագում ունեցող</td>\n    </tr>\n  </tbody>\n</table>\n<p>152692 rows × 5 columns</p>\n</div>"
          },
          "metadata": {}
        }
      ],
      "id": "NaqZCm8vWa8X"
    },
    {
      "cell_type": "code",
      "source": [
        "class TestDataset(Dataset):\n",
        "    def __init__(self, data):\n",
        "        self.data = data\n",
        "\n",
        "    def __getitem__(self, index):\n",
        "        query, title, body = self.data.iloc[index, [4, 1, 2]]\n",
        "        return [query.lower(), (str(title) + str(body)).lower()]\n",
        "\n",
        "    def __len__(self):\n",
        "        return len(self.data)\n",
        "\n",
        "def compose_batch(batch):\n",
        "    return tokenizer(batch, padding=True, truncation=True, max_length=64, return_tensors=\"pt\")\n",
        "\n",
        "def move_x_batch_to_device(batch_x, device):\n",
        "    for key in batch_x:\n",
        "        batch_x[key] = batch_x[key].to(device)\n",
        "    return batch_x"
      ],
      "metadata": {
        "execution": {
          "iopub.status.busy": "2024-05-07T18:07:41.462196Z",
          "iopub.execute_input": "2024-05-07T18:07:41.463131Z",
          "iopub.status.idle": "2024-05-07T18:07:41.472228Z",
          "shell.execute_reply.started": "2024-05-07T18:07:41.463094Z",
          "shell.execute_reply": "2024-05-07T18:07:41.471183Z"
        },
        "trusted": true,
        "id": "NldS8zgkWa8X"
      },
      "execution_count": null,
      "outputs": [],
      "id": "NldS8zgkWa8X"
    },
    {
      "cell_type": "code",
      "source": [
        "test_ds = TestDataset(test_data)\n",
        "test_dl = data.DataLoader(test_ds, shuffle=False, batch_size=256, collate_fn=compose_batch)"
      ],
      "metadata": {
        "execution": {
          "iopub.status.busy": "2024-05-07T17:59:34.876908Z",
          "iopub.execute_input": "2024-05-07T17:59:34.877829Z",
          "iopub.status.idle": "2024-05-07T17:59:34.882669Z",
          "shell.execute_reply.started": "2024-05-07T17:59:34.877794Z",
          "shell.execute_reply": "2024-05-07T17:59:34.881716Z"
        },
        "trusted": true,
        "id": "EFgqtqomWa8Y"
      },
      "execution_count": null,
      "outputs": [],
      "id": "EFgqtqomWa8Y"
    },
    {
      "cell_type": "code",
      "source": [
        "def get_test_preds(model):\n",
        "    model.eval()\n",
        "    y_test = []\n",
        "\n",
        "    for i, batch_x in enumerate(tqdm.tqdm(test_dl, position=0, leave=True, desc=f\"Test: \")):\n",
        "        batch_x = move_x_batch_to_device(batch_x, config.DEVICE)\n",
        "\n",
        "        with torch.no_grad():\n",
        "            y_test += [model(**batch_x)]\n",
        "\n",
        "    return torch.cat(y_test).view(-1).cpu().numpy()\n",
        "\n",
        "y_test = get_test_preds(model)"
      ],
      "metadata": {
        "execution": {
          "iopub.status.busy": "2024-05-07T18:08:12.148446Z",
          "iopub.execute_input": "2024-05-07T18:08:12.148847Z",
          "iopub.status.idle": "2024-05-07T18:23:50.758420Z",
          "shell.execute_reply.started": "2024-05-07T18:08:12.148816Z",
          "shell.execute_reply": "2024-05-07T18:23:50.757221Z"
        },
        "trusted": true,
        "id": "__akjj8zWa8Y",
        "outputId": "7e0189ba-1ff9-45ee-d425-5bccee0dd50f"
      },
      "execution_count": null,
      "outputs": [
        {
          "name": "stderr",
          "text": "Test: 100%|██████████| 597/597 [15:38<00:00,  1.57s/it]\n",
          "output_type": "stream"
        }
      ],
      "id": "__akjj8zWa8Y"
    },
    {
      "cell_type": "code",
      "source": [
        "test_data['score'] = y_test\n",
        "test_data"
      ],
      "metadata": {
        "execution": {
          "iopub.status.busy": "2024-05-07T18:23:56.462073Z",
          "iopub.execute_input": "2024-05-07T18:23:56.462465Z",
          "iopub.status.idle": "2024-05-07T18:23:56.480627Z",
          "shell.execute_reply.started": "2024-05-07T18:23:56.462436Z",
          "shell.execute_reply": "2024-05-07T18:23:56.479722Z"
        },
        "trusted": true,
        "id": "nUVhmYX5Wa8Y",
        "outputId": "26a40c60-ca87-48c4-b3cd-a1a4ea9bde3e"
      },
      "execution_count": null,
      "outputs": [
        {
          "execution_count": 59,
          "output_type": "execute_result",
          "data": {
            "text/plain": "        DocumentId                                              title  \\\n0       D000000029  Текила Максимо де Кодорниз Сильвер | Федеральн...   \n1       D000000030  Текила. Ром. Джин - Алкоголь, энергетики - Руч...   \n2       D000000031  Текила Jose Cuervo Especial Silver 0.7 л 38% (...   \n3       D000000032     Текила \"Максимо Де Кодорниз Сильвер\" 0,5л. 38%   \n4       D000000033  Меню и цены - Чайхана Чайхауз в Домодедово в М...   \n...            ...                                                ...   \n152687  D001258581  Հայկական ծագում ունեցող անձնանունների ցանկ - Վ...   \n152688  D001258582  Դիտարկումներ «Ապօրինի ծագում ունեցող գույքի բռ...   \n152689  D001258583  1or.am | «Հրապարակ». Երկուշաբթի Գլխավոր դատախա...   \n152690  D001258584  ArmDaily.am | Արդարադատության նախարարությունու...   \n152691  D001258585  Ինչպե՞ս բռնագանձել ապօրինի ծագում ունեցող գույ...   \n\n                                                     body  QueryId  \\\n0       Федеральный реестр алкогольной продукции онлай...        3   \n1       Текила. Ром. Джин, Алкоголь, энергетики, Интер...        3   \n2       Почитать отзывы о товаре 👉 Текила Jose Cuervo ...        3   \n3       SCID scidФирменный магазин Московского Завода ...        3   \n4       ⭐⭐⭐⭐⭐Представляем вашему вниманию цены на разл...        3   \n...                                                   ...      ...   \n152687  null Հայկական ծագում ունեցող անձնանունների ցան...    42768   \n152688  ՀՀ արդարադատության նախարարության կողմից 2019 թ...    42768   \n152689  null ﻿ Հրահանգի կատարման լկտիության համար՝ պար...    42768   \n152690  null ﻿ Երևան, 16.Հուլիս.2022, 00 : 00 Խմբագրակ...    42768   \n152691  null Wednesday, 13 07 2022 ՀԱՅԱՍՏԱՆ ՔԱՂԱՔԱԿԱՆ ...    42768   \n\n                                            query     score  \n0       0 5 текила максимо де кодорниз сильвер 38 -0.097398  \n1       0 5 текила максимо де кодорниз сильвер 38 -0.346297  \n2       0 5 текила максимо де кодорниз сильвер 38 -0.376945  \n3       0 5 текила максимо де кодорниз сильвер 38 -0.146997  \n4       0 5 текила максимо де кодорниз сильвер 38 -0.384289  \n...                                           ...       ...  \n152687                     ապօրինի ծագում ունեցող -2.853930  \n152688                     ապօրինի ծագում ունեցող -2.320546  \n152689                     ապօրինի ծագում ունեցող -2.477823  \n152690                     ապօրինի ծագում ունեցող -2.211691  \n152691                     ապօրինի ծագում ունեցող -2.529945  \n\n[152692 rows x 6 columns]",
            "text/html": "<div>\n<style scoped>\n    .dataframe tbody tr th:only-of-type {\n        vertical-align: middle;\n    }\n\n    .dataframe tbody tr th {\n        vertical-align: top;\n    }\n\n    .dataframe thead th {\n        text-align: right;\n    }\n</style>\n<table border=\"1\" class=\"dataframe\">\n  <thead>\n    <tr style=\"text-align: right;\">\n      <th></th>\n      <th>DocumentId</th>\n      <th>title</th>\n      <th>body</th>\n      <th>QueryId</th>\n      <th>query</th>\n      <th>score</th>\n    </tr>\n  </thead>\n  <tbody>\n    <tr>\n      <th>0</th>\n      <td>D000000029</td>\n      <td>Текила Максимо де Кодорниз Сильвер | Федеральн...</td>\n      <td>Федеральный реестр алкогольной продукции онлай...</td>\n      <td>3</td>\n      <td>0 5 текила максимо де кодорниз сильвер 38</td>\n      <td>-0.097398</td>\n    </tr>\n    <tr>\n      <th>1</th>\n      <td>D000000030</td>\n      <td>Текила. Ром. Джин - Алкоголь, энергетики - Руч...</td>\n      <td>Текила. Ром. Джин, Алкоголь, энергетики, Интер...</td>\n      <td>3</td>\n      <td>0 5 текила максимо де кодорниз сильвер 38</td>\n      <td>-0.346297</td>\n    </tr>\n    <tr>\n      <th>2</th>\n      <td>D000000031</td>\n      <td>Текила Jose Cuervo Especial Silver 0.7 л 38% (...</td>\n      <td>Почитать отзывы о товаре 👉 Текила Jose Cuervo ...</td>\n      <td>3</td>\n      <td>0 5 текила максимо де кодорниз сильвер 38</td>\n      <td>-0.376945</td>\n    </tr>\n    <tr>\n      <th>3</th>\n      <td>D000000032</td>\n      <td>Текила \"Максимо Де Кодорниз Сильвер\" 0,5л. 38%</td>\n      <td>SCID scidФирменный магазин Московского Завода ...</td>\n      <td>3</td>\n      <td>0 5 текила максимо де кодорниз сильвер 38</td>\n      <td>-0.146997</td>\n    </tr>\n    <tr>\n      <th>4</th>\n      <td>D000000033</td>\n      <td>Меню и цены - Чайхана Чайхауз в Домодедово в М...</td>\n      <td>⭐⭐⭐⭐⭐Представляем вашему вниманию цены на разл...</td>\n      <td>3</td>\n      <td>0 5 текила максимо де кодорниз сильвер 38</td>\n      <td>-0.384289</td>\n    </tr>\n    <tr>\n      <th>...</th>\n      <td>...</td>\n      <td>...</td>\n      <td>...</td>\n      <td>...</td>\n      <td>...</td>\n      <td>...</td>\n    </tr>\n    <tr>\n      <th>152687</th>\n      <td>D001258581</td>\n      <td>Հայկական ծագում ունեցող անձնանունների ցանկ - Վ...</td>\n      <td>null Հայկական ծագում ունեցող անձնանունների ցան...</td>\n      <td>42768</td>\n      <td>ապօրինի ծագում ունեցող</td>\n      <td>-2.853930</td>\n    </tr>\n    <tr>\n      <th>152688</th>\n      <td>D001258582</td>\n      <td>Դիտարկումներ «Ապօրինի ծագում ունեցող գույքի բռ...</td>\n      <td>ՀՀ արդարադատության նախարարության կողմից 2019 թ...</td>\n      <td>42768</td>\n      <td>ապօրինի ծագում ունեցող</td>\n      <td>-2.320546</td>\n    </tr>\n    <tr>\n      <th>152689</th>\n      <td>D001258583</td>\n      <td>1or.am | «Հրապարակ». Երկուշաբթի Գլխավոր դատախա...</td>\n      <td>null ﻿ Հրահանգի կատարման լկտիության համար՝ պար...</td>\n      <td>42768</td>\n      <td>ապօրինի ծագում ունեցող</td>\n      <td>-2.477823</td>\n    </tr>\n    <tr>\n      <th>152690</th>\n      <td>D001258584</td>\n      <td>ArmDaily.am | Արդարադատության նախարարությունու...</td>\n      <td>null ﻿ Երևան, 16.Հուլիս.2022, 00 : 00 Խմբագրակ...</td>\n      <td>42768</td>\n      <td>ապօրինի ծագում ունեցող</td>\n      <td>-2.211691</td>\n    </tr>\n    <tr>\n      <th>152691</th>\n      <td>D001258585</td>\n      <td>Ինչպե՞ս բռնագանձել ապօրինի ծագում ունեցող գույ...</td>\n      <td>null Wednesday, 13 07 2022 ՀԱՅԱՍՏԱՆ ՔԱՂԱՔԱԿԱՆ ...</td>\n      <td>42768</td>\n      <td>ապօրինի ծագում ունեցող</td>\n      <td>-2.529945</td>\n    </tr>\n  </tbody>\n</table>\n<p>152692 rows × 6 columns</p>\n</div>"
          },
          "metadata": {}
        }
      ],
      "id": "nUVhmYX5Wa8Y"
    },
    {
      "cell_type": "code",
      "source": [
        "sorted_df  = test_data.sort_values(by=['QueryId', 'score'], ascending=[True, False])\n",
        "sorted_df"
      ],
      "metadata": {
        "execution": {
          "iopub.status.busy": "2024-05-07T18:24:25.135087Z",
          "iopub.execute_input": "2024-05-07T18:24:25.135515Z",
          "iopub.status.idle": "2024-05-07T18:24:25.241660Z",
          "shell.execute_reply.started": "2024-05-07T18:24:25.135485Z",
          "shell.execute_reply": "2024-05-07T18:24:25.240426Z"
        },
        "trusted": true,
        "id": "vo6oTpeHWa8Z",
        "outputId": "cf5b095b-8636-4415-a733-4d39701b2c38"
      },
      "execution_count": null,
      "outputs": [
        {
          "execution_count": 60,
          "output_type": "execute_result",
          "data": {
            "text/plain": "        DocumentId                                              title  \\\n0       D000000029  Текила Максимо де Кодорниз Сильвер | Федеральн...   \n3       D000000032     Текила \"Максимо Де Кодорниз Сильвер\" 0,5л. 38%   \n6       D000000035   Текила – виды и производители мексиканской водки   \n9       D000000038  Текила Sombrero Silver: отзывы, описание, прои...   \n7       D000000036  Текила Tequila Don Cortez Silver 0.75 л купить...   \n...            ...                                                ...   \n152676  D001258570  Verelq News | Ապօրինի ծագում ունեցող գույքի բռ...   \n152691  D001258585  Ինչպե՞ս բռնագանձել ապօրինի ծագում ունեցող գույ...   \n152683  D001258577  ՀԱՅԱՍՏԱՆԻ ՀԱՆՐԱՊԵՏՈՒԹՅԱՆ ՔՐԵԱԿԱՆ ԴԱՏԱՎԱՐՈՒԹՅԱՆ...   \n152686  D001258580  Ապօրինի գույքի բռնագանձման մասին օրենքը հակասա...   \n152687  D001258581  Հայկական ծագում ունեցող անձնանունների ցանկ - Վ...   \n\n                                                     body  QueryId  \\\n0       Федеральный реестр алкогольной продукции онлай...        3   \n3       SCID scidФирменный магазин Московского Завода ...        3   \n6       Текила – модный алкогольный напиток, ставший в...        3   \n9       На данный момент алкогольный продукт выпускают...        3   \n7       Купить Текила Tequila Don Cortez Silver 0.75 л...        3   \n...                                                   ...      ...   \n152676  Ապօրինի ծագում ունեցող գույքի բռնագանձման գործ...    42768   \n152691  null Wednesday, 13 07 2022 ՀԱՅԱՍՏԱՆ ՔԱՂԱՔԱԿԱՆ ...    42768   \n152683  ՀԱՅԱՍՏԱՆԻ ՀԱՆՐԱՊԵՏՈՒԹՅԱՆ ՔՐԵԱԿԱՆ ԴԱՏԱՎԱՐՈՒԹՅԱՆ...    42768   \n152686  null ՓԱՍՏԱՉԱՓ ՍԽԱԼ ՄԵԾԱՄԱՍԱՄԲ ՍԽԱԼ ԱՌԱՆՑ ՎՃՌԻ ...    42768   \n152687  null Հայկական ծագում ունեցող անձնանունների ցան...    42768   \n\n                                            query     score  \n0       0 5 текила максимо де кодорниз сильвер 38 -0.097398  \n3       0 5 текила максимо де кодорниз сильвер 38 -0.146997  \n6       0 5 текила максимо де кодорниз сильвер 38 -0.231669  \n9       0 5 текила максимо де кодорниз сильвер 38 -0.247382  \n7       0 5 текила максимо де кодорниз сильвер 38 -0.263868  \n...                                           ...       ...  \n152676                     ապօրինի ծագում ունեցող -2.512634  \n152691                     ապօրինի ծագում ունեցող -2.529945  \n152683                     ապօրինի ծագում ունեցող -2.618495  \n152686                     ապօրինի ծագում ունեցող -2.837952  \n152687                     ապօրինի ծագում ունեցող -2.853930  \n\n[152692 rows x 6 columns]",
            "text/html": "<div>\n<style scoped>\n    .dataframe tbody tr th:only-of-type {\n        vertical-align: middle;\n    }\n\n    .dataframe tbody tr th {\n        vertical-align: top;\n    }\n\n    .dataframe thead th {\n        text-align: right;\n    }\n</style>\n<table border=\"1\" class=\"dataframe\">\n  <thead>\n    <tr style=\"text-align: right;\">\n      <th></th>\n      <th>DocumentId</th>\n      <th>title</th>\n      <th>body</th>\n      <th>QueryId</th>\n      <th>query</th>\n      <th>score</th>\n    </tr>\n  </thead>\n  <tbody>\n    <tr>\n      <th>0</th>\n      <td>D000000029</td>\n      <td>Текила Максимо де Кодорниз Сильвер | Федеральн...</td>\n      <td>Федеральный реестр алкогольной продукции онлай...</td>\n      <td>3</td>\n      <td>0 5 текила максимо де кодорниз сильвер 38</td>\n      <td>-0.097398</td>\n    </tr>\n    <tr>\n      <th>3</th>\n      <td>D000000032</td>\n      <td>Текила \"Максимо Де Кодорниз Сильвер\" 0,5л. 38%</td>\n      <td>SCID scidФирменный магазин Московского Завода ...</td>\n      <td>3</td>\n      <td>0 5 текила максимо де кодорниз сильвер 38</td>\n      <td>-0.146997</td>\n    </tr>\n    <tr>\n      <th>6</th>\n      <td>D000000035</td>\n      <td>Текила – виды и производители мексиканской водки</td>\n      <td>Текила – модный алкогольный напиток, ставший в...</td>\n      <td>3</td>\n      <td>0 5 текила максимо де кодорниз сильвер 38</td>\n      <td>-0.231669</td>\n    </tr>\n    <tr>\n      <th>9</th>\n      <td>D000000038</td>\n      <td>Текила Sombrero Silver: отзывы, описание, прои...</td>\n      <td>На данный момент алкогольный продукт выпускают...</td>\n      <td>3</td>\n      <td>0 5 текила максимо де кодорниз сильвер 38</td>\n      <td>-0.247382</td>\n    </tr>\n    <tr>\n      <th>7</th>\n      <td>D000000036</td>\n      <td>Текила Tequila Don Cortez Silver 0.75 л купить...</td>\n      <td>Купить Текила Tequila Don Cortez Silver 0.75 л...</td>\n      <td>3</td>\n      <td>0 5 текила максимо де кодорниз сильвер 38</td>\n      <td>-0.263868</td>\n    </tr>\n    <tr>\n      <th>...</th>\n      <td>...</td>\n      <td>...</td>\n      <td>...</td>\n      <td>...</td>\n      <td>...</td>\n      <td>...</td>\n    </tr>\n    <tr>\n      <th>152676</th>\n      <td>D001258570</td>\n      <td>Verelq News | Ապօրինի ծագում ունեցող գույքի բռ...</td>\n      <td>Ապօրինի ծագում ունեցող գույքի բռնագանձման գործ...</td>\n      <td>42768</td>\n      <td>ապօրինի ծագում ունեցող</td>\n      <td>-2.512634</td>\n    </tr>\n    <tr>\n      <th>152691</th>\n      <td>D001258585</td>\n      <td>Ինչպե՞ս բռնագանձել ապօրինի ծագում ունեցող գույ...</td>\n      <td>null Wednesday, 13 07 2022 ՀԱՅԱՍՏԱՆ ՔԱՂԱՔԱԿԱՆ ...</td>\n      <td>42768</td>\n      <td>ապօրինի ծագում ունեցող</td>\n      <td>-2.529945</td>\n    </tr>\n    <tr>\n      <th>152683</th>\n      <td>D001258577</td>\n      <td>ՀԱՅԱՍՏԱՆԻ ՀԱՆՐԱՊԵՏՈՒԹՅԱՆ ՔՐԵԱԿԱՆ ԴԱՏԱՎԱՐՈՒԹՅԱՆ...</td>\n      <td>ՀԱՅԱՍՏԱՆԻ ՀԱՆՐԱՊԵՏՈՒԹՅԱՆ ՔՐԵԱԿԱՆ ԴԱՏԱՎԱՐՈՒԹՅԱՆ...</td>\n      <td>42768</td>\n      <td>ապօրինի ծագում ունեցող</td>\n      <td>-2.618495</td>\n    </tr>\n    <tr>\n      <th>152686</th>\n      <td>D001258580</td>\n      <td>Ապօրինի գույքի բռնագանձման մասին օրենքը հակասա...</td>\n      <td>null ՓԱՍՏԱՉԱՓ ՍԽԱԼ ՄԵԾԱՄԱՍԱՄԲ ՍԽԱԼ ԱՌԱՆՑ ՎՃՌԻ ...</td>\n      <td>42768</td>\n      <td>ապօրինի ծագում ունեցող</td>\n      <td>-2.837952</td>\n    </tr>\n    <tr>\n      <th>152687</th>\n      <td>D001258581</td>\n      <td>Հայկական ծագում ունեցող անձնանունների ցանկ - Վ...</td>\n      <td>null Հայկական ծագում ունեցող անձնանունների ցան...</td>\n      <td>42768</td>\n      <td>ապօրինի ծագում ունեցող</td>\n      <td>-2.853930</td>\n    </tr>\n  </tbody>\n</table>\n<p>152692 rows × 6 columns</p>\n</div>"
          },
          "metadata": {}
        }
      ],
      "id": "vo6oTpeHWa8Z"
    },
    {
      "cell_type": "code",
      "source": [
        "sorted_df[['QueryId', 'DocumentId']].to_csv('submission.csv', index=False)"
      ],
      "metadata": {
        "execution": {
          "iopub.status.busy": "2024-05-07T18:24:43.652189Z",
          "iopub.execute_input": "2024-05-07T18:24:43.653112Z",
          "iopub.status.idle": "2024-05-07T18:24:43.906934Z",
          "shell.execute_reply.started": "2024-05-07T18:24:43.653062Z",
          "shell.execute_reply": "2024-05-07T18:24:43.905801Z"
        },
        "trusted": true,
        "id": "cfnCAfm2Wa8Z"
      },
      "execution_count": null,
      "outputs": [],
      "id": "cfnCAfm2Wa8Z"
    }
  ]
}